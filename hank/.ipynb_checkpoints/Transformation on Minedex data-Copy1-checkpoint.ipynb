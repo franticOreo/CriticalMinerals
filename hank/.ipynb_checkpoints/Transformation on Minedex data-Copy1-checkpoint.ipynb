{
 "cells": [
  {
   "cell_type": "code",
   "execution_count": 1,
   "id": "6543ab98",
   "metadata": {},
   "outputs": [],
   "source": [
    "import pandas as pd"
   ]
  },
  {
   "cell_type": "code",
   "execution_count": 2,
   "id": "5536b27c",
   "metadata": {
    "scrolled": true
   },
   "outputs": [
    {
     "ename": "FileNotFoundError",
     "evalue": "[Errno 2] No such file or directory: 'ResourceEstimates.csv'",
     "output_type": "error",
     "traceback": [
      "\u001b[1;31m---------------------------------------------------------------------------\u001b[0m",
      "\u001b[1;31mFileNotFoundError\u001b[0m                         Traceback (most recent call last)",
      "\u001b[1;32m~\\AppData\\Local\\Temp/ipykernel_21984/2450529793.py\u001b[0m in \u001b[0;36m<module>\u001b[1;34m\u001b[0m\n\u001b[1;32m----> 1\u001b[1;33m \u001b[0moriginal_data\u001b[0m \u001b[1;33m=\u001b[0m \u001b[0mpd\u001b[0m\u001b[1;33m.\u001b[0m\u001b[0mread_csv\u001b[0m\u001b[1;33m(\u001b[0m\u001b[1;34m'ResourceEstimates.csv'\u001b[0m\u001b[1;33m)\u001b[0m\u001b[1;33m\u001b[0m\u001b[1;33m\u001b[0m\u001b[0m\n\u001b[0m\u001b[0;32m      2\u001b[0m \u001b[0moriginal_data\u001b[0m\u001b[1;33m.\u001b[0m\u001b[0mhead\u001b[0m\u001b[1;33m(\u001b[0m\u001b[1;33m)\u001b[0m\u001b[1;33m\u001b[0m\u001b[1;33m\u001b[0m\u001b[0m\n",
      "\u001b[1;32m~\\Miniconda3\\lib\\site-packages\\pandas\\util\\_decorators.py\u001b[0m in \u001b[0;36mwrapper\u001b[1;34m(*args, **kwargs)\u001b[0m\n\u001b[0;32m    309\u001b[0m                     \u001b[0mstacklevel\u001b[0m\u001b[1;33m=\u001b[0m\u001b[0mstacklevel\u001b[0m\u001b[1;33m,\u001b[0m\u001b[1;33m\u001b[0m\u001b[1;33m\u001b[0m\u001b[0m\n\u001b[0;32m    310\u001b[0m                 )\n\u001b[1;32m--> 311\u001b[1;33m             \u001b[1;32mreturn\u001b[0m \u001b[0mfunc\u001b[0m\u001b[1;33m(\u001b[0m\u001b[1;33m*\u001b[0m\u001b[0margs\u001b[0m\u001b[1;33m,\u001b[0m \u001b[1;33m**\u001b[0m\u001b[0mkwargs\u001b[0m\u001b[1;33m)\u001b[0m\u001b[1;33m\u001b[0m\u001b[1;33m\u001b[0m\u001b[0m\n\u001b[0m\u001b[0;32m    312\u001b[0m \u001b[1;33m\u001b[0m\u001b[0m\n\u001b[0;32m    313\u001b[0m         \u001b[1;32mreturn\u001b[0m \u001b[0mwrapper\u001b[0m\u001b[1;33m\u001b[0m\u001b[1;33m\u001b[0m\u001b[0m\n",
      "\u001b[1;32m~\\Miniconda3\\lib\\site-packages\\pandas\\io\\parsers\\readers.py\u001b[0m in \u001b[0;36mread_csv\u001b[1;34m(filepath_or_buffer, sep, delimiter, header, names, index_col, usecols, squeeze, prefix, mangle_dupe_cols, dtype, engine, converters, true_values, false_values, skipinitialspace, skiprows, skipfooter, nrows, na_values, keep_default_na, na_filter, verbose, skip_blank_lines, parse_dates, infer_datetime_format, keep_date_col, date_parser, dayfirst, cache_dates, iterator, chunksize, compression, thousands, decimal, lineterminator, quotechar, quoting, doublequote, escapechar, comment, encoding, encoding_errors, dialect, error_bad_lines, warn_bad_lines, on_bad_lines, delim_whitespace, low_memory, memory_map, float_precision, storage_options)\u001b[0m\n\u001b[0;32m    584\u001b[0m     \u001b[0mkwds\u001b[0m\u001b[1;33m.\u001b[0m\u001b[0mupdate\u001b[0m\u001b[1;33m(\u001b[0m\u001b[0mkwds_defaults\u001b[0m\u001b[1;33m)\u001b[0m\u001b[1;33m\u001b[0m\u001b[1;33m\u001b[0m\u001b[0m\n\u001b[0;32m    585\u001b[0m \u001b[1;33m\u001b[0m\u001b[0m\n\u001b[1;32m--> 586\u001b[1;33m     \u001b[1;32mreturn\u001b[0m \u001b[0m_read\u001b[0m\u001b[1;33m(\u001b[0m\u001b[0mfilepath_or_buffer\u001b[0m\u001b[1;33m,\u001b[0m \u001b[0mkwds\u001b[0m\u001b[1;33m)\u001b[0m\u001b[1;33m\u001b[0m\u001b[1;33m\u001b[0m\u001b[0m\n\u001b[0m\u001b[0;32m    587\u001b[0m \u001b[1;33m\u001b[0m\u001b[0m\n\u001b[0;32m    588\u001b[0m \u001b[1;33m\u001b[0m\u001b[0m\n",
      "\u001b[1;32m~\\Miniconda3\\lib\\site-packages\\pandas\\io\\parsers\\readers.py\u001b[0m in \u001b[0;36m_read\u001b[1;34m(filepath_or_buffer, kwds)\u001b[0m\n\u001b[0;32m    480\u001b[0m \u001b[1;33m\u001b[0m\u001b[0m\n\u001b[0;32m    481\u001b[0m     \u001b[1;31m# Create the parser.\u001b[0m\u001b[1;33m\u001b[0m\u001b[1;33m\u001b[0m\u001b[1;33m\u001b[0m\u001b[0m\n\u001b[1;32m--> 482\u001b[1;33m     \u001b[0mparser\u001b[0m \u001b[1;33m=\u001b[0m \u001b[0mTextFileReader\u001b[0m\u001b[1;33m(\u001b[0m\u001b[0mfilepath_or_buffer\u001b[0m\u001b[1;33m,\u001b[0m \u001b[1;33m**\u001b[0m\u001b[0mkwds\u001b[0m\u001b[1;33m)\u001b[0m\u001b[1;33m\u001b[0m\u001b[1;33m\u001b[0m\u001b[0m\n\u001b[0m\u001b[0;32m    483\u001b[0m \u001b[1;33m\u001b[0m\u001b[0m\n\u001b[0;32m    484\u001b[0m     \u001b[1;32mif\u001b[0m \u001b[0mchunksize\u001b[0m \u001b[1;32mor\u001b[0m \u001b[0miterator\u001b[0m\u001b[1;33m:\u001b[0m\u001b[1;33m\u001b[0m\u001b[1;33m\u001b[0m\u001b[0m\n",
      "\u001b[1;32m~\\Miniconda3\\lib\\site-packages\\pandas\\io\\parsers\\readers.py\u001b[0m in \u001b[0;36m__init__\u001b[1;34m(self, f, engine, **kwds)\u001b[0m\n\u001b[0;32m    809\u001b[0m             \u001b[0mself\u001b[0m\u001b[1;33m.\u001b[0m\u001b[0moptions\u001b[0m\u001b[1;33m[\u001b[0m\u001b[1;34m\"has_index_names\"\u001b[0m\u001b[1;33m]\u001b[0m \u001b[1;33m=\u001b[0m \u001b[0mkwds\u001b[0m\u001b[1;33m[\u001b[0m\u001b[1;34m\"has_index_names\"\u001b[0m\u001b[1;33m]\u001b[0m\u001b[1;33m\u001b[0m\u001b[1;33m\u001b[0m\u001b[0m\n\u001b[0;32m    810\u001b[0m \u001b[1;33m\u001b[0m\u001b[0m\n\u001b[1;32m--> 811\u001b[1;33m         \u001b[0mself\u001b[0m\u001b[1;33m.\u001b[0m\u001b[0m_engine\u001b[0m \u001b[1;33m=\u001b[0m \u001b[0mself\u001b[0m\u001b[1;33m.\u001b[0m\u001b[0m_make_engine\u001b[0m\u001b[1;33m(\u001b[0m\u001b[0mself\u001b[0m\u001b[1;33m.\u001b[0m\u001b[0mengine\u001b[0m\u001b[1;33m)\u001b[0m\u001b[1;33m\u001b[0m\u001b[1;33m\u001b[0m\u001b[0m\n\u001b[0m\u001b[0;32m    812\u001b[0m \u001b[1;33m\u001b[0m\u001b[0m\n\u001b[0;32m    813\u001b[0m     \u001b[1;32mdef\u001b[0m \u001b[0mclose\u001b[0m\u001b[1;33m(\u001b[0m\u001b[0mself\u001b[0m\u001b[1;33m)\u001b[0m\u001b[1;33m:\u001b[0m\u001b[1;33m\u001b[0m\u001b[1;33m\u001b[0m\u001b[0m\n",
      "\u001b[1;32m~\\Miniconda3\\lib\\site-packages\\pandas\\io\\parsers\\readers.py\u001b[0m in \u001b[0;36m_make_engine\u001b[1;34m(self, engine)\u001b[0m\n\u001b[0;32m   1038\u001b[0m             )\n\u001b[0;32m   1039\u001b[0m         \u001b[1;31m# error: Too many arguments for \"ParserBase\"\u001b[0m\u001b[1;33m\u001b[0m\u001b[1;33m\u001b[0m\u001b[1;33m\u001b[0m\u001b[0m\n\u001b[1;32m-> 1040\u001b[1;33m         \u001b[1;32mreturn\u001b[0m \u001b[0mmapping\u001b[0m\u001b[1;33m[\u001b[0m\u001b[0mengine\u001b[0m\u001b[1;33m]\u001b[0m\u001b[1;33m(\u001b[0m\u001b[0mself\u001b[0m\u001b[1;33m.\u001b[0m\u001b[0mf\u001b[0m\u001b[1;33m,\u001b[0m \u001b[1;33m**\u001b[0m\u001b[0mself\u001b[0m\u001b[1;33m.\u001b[0m\u001b[0moptions\u001b[0m\u001b[1;33m)\u001b[0m  \u001b[1;31m# type: ignore[call-arg]\u001b[0m\u001b[1;33m\u001b[0m\u001b[1;33m\u001b[0m\u001b[0m\n\u001b[0m\u001b[0;32m   1041\u001b[0m \u001b[1;33m\u001b[0m\u001b[0m\n\u001b[0;32m   1042\u001b[0m     \u001b[1;32mdef\u001b[0m \u001b[0m_failover_to_python\u001b[0m\u001b[1;33m(\u001b[0m\u001b[0mself\u001b[0m\u001b[1;33m)\u001b[0m\u001b[1;33m:\u001b[0m\u001b[1;33m\u001b[0m\u001b[1;33m\u001b[0m\u001b[0m\n",
      "\u001b[1;32m~\\Miniconda3\\lib\\site-packages\\pandas\\io\\parsers\\c_parser_wrapper.py\u001b[0m in \u001b[0;36m__init__\u001b[1;34m(self, src, **kwds)\u001b[0m\n\u001b[0;32m     49\u001b[0m \u001b[1;33m\u001b[0m\u001b[0m\n\u001b[0;32m     50\u001b[0m         \u001b[1;31m# open handles\u001b[0m\u001b[1;33m\u001b[0m\u001b[1;33m\u001b[0m\u001b[1;33m\u001b[0m\u001b[0m\n\u001b[1;32m---> 51\u001b[1;33m         \u001b[0mself\u001b[0m\u001b[1;33m.\u001b[0m\u001b[0m_open_handles\u001b[0m\u001b[1;33m(\u001b[0m\u001b[0msrc\u001b[0m\u001b[1;33m,\u001b[0m \u001b[0mkwds\u001b[0m\u001b[1;33m)\u001b[0m\u001b[1;33m\u001b[0m\u001b[1;33m\u001b[0m\u001b[0m\n\u001b[0m\u001b[0;32m     52\u001b[0m         \u001b[1;32massert\u001b[0m \u001b[0mself\u001b[0m\u001b[1;33m.\u001b[0m\u001b[0mhandles\u001b[0m \u001b[1;32mis\u001b[0m \u001b[1;32mnot\u001b[0m \u001b[1;32mNone\u001b[0m\u001b[1;33m\u001b[0m\u001b[1;33m\u001b[0m\u001b[0m\n\u001b[0;32m     53\u001b[0m \u001b[1;33m\u001b[0m\u001b[0m\n",
      "\u001b[1;32m~\\Miniconda3\\lib\\site-packages\\pandas\\io\\parsers\\base_parser.py\u001b[0m in \u001b[0;36m_open_handles\u001b[1;34m(self, src, kwds)\u001b[0m\n\u001b[0;32m    220\u001b[0m         \u001b[0mLet\u001b[0m \u001b[0mthe\u001b[0m \u001b[0mreaders\u001b[0m \u001b[0mopen\u001b[0m \u001b[0mIOHandles\u001b[0m \u001b[0mafter\u001b[0m \u001b[0mthey\u001b[0m \u001b[0mare\u001b[0m \u001b[0mdone\u001b[0m \u001b[1;32mwith\u001b[0m \u001b[0mtheir\u001b[0m \u001b[0mpotential\u001b[0m \u001b[0mraises\u001b[0m\u001b[1;33m.\u001b[0m\u001b[1;33m\u001b[0m\u001b[1;33m\u001b[0m\u001b[0m\n\u001b[0;32m    221\u001b[0m         \"\"\"\n\u001b[1;32m--> 222\u001b[1;33m         self.handles = get_handle(\n\u001b[0m\u001b[0;32m    223\u001b[0m             \u001b[0msrc\u001b[0m\u001b[1;33m,\u001b[0m\u001b[1;33m\u001b[0m\u001b[1;33m\u001b[0m\u001b[0m\n\u001b[0;32m    224\u001b[0m             \u001b[1;34m\"r\"\u001b[0m\u001b[1;33m,\u001b[0m\u001b[1;33m\u001b[0m\u001b[1;33m\u001b[0m\u001b[0m\n",
      "\u001b[1;32m~\\Miniconda3\\lib\\site-packages\\pandas\\io\\common.py\u001b[0m in \u001b[0;36mget_handle\u001b[1;34m(path_or_buf, mode, encoding, compression, memory_map, is_text, errors, storage_options)\u001b[0m\n\u001b[0;32m    699\u001b[0m         \u001b[1;32mif\u001b[0m \u001b[0mioargs\u001b[0m\u001b[1;33m.\u001b[0m\u001b[0mencoding\u001b[0m \u001b[1;32mand\u001b[0m \u001b[1;34m\"b\"\u001b[0m \u001b[1;32mnot\u001b[0m \u001b[1;32min\u001b[0m \u001b[0mioargs\u001b[0m\u001b[1;33m.\u001b[0m\u001b[0mmode\u001b[0m\u001b[1;33m:\u001b[0m\u001b[1;33m\u001b[0m\u001b[1;33m\u001b[0m\u001b[0m\n\u001b[0;32m    700\u001b[0m             \u001b[1;31m# Encoding\u001b[0m\u001b[1;33m\u001b[0m\u001b[1;33m\u001b[0m\u001b[1;33m\u001b[0m\u001b[0m\n\u001b[1;32m--> 701\u001b[1;33m             handle = open(\n\u001b[0m\u001b[0;32m    702\u001b[0m                 \u001b[0mhandle\u001b[0m\u001b[1;33m,\u001b[0m\u001b[1;33m\u001b[0m\u001b[1;33m\u001b[0m\u001b[0m\n\u001b[0;32m    703\u001b[0m                 \u001b[0mioargs\u001b[0m\u001b[1;33m.\u001b[0m\u001b[0mmode\u001b[0m\u001b[1;33m,\u001b[0m\u001b[1;33m\u001b[0m\u001b[1;33m\u001b[0m\u001b[0m\n",
      "\u001b[1;31mFileNotFoundError\u001b[0m: [Errno 2] No such file or directory: 'ResourceEstimates.csv'"
     ]
    }
   ],
   "source": [
    "original_data = pd.read_csv('ResourceEstimates.csv')\n",
    "original_data.head()"
   ]
  },
  {
   "cell_type": "code",
   "execution_count": null,
   "id": "ce5dea5a",
   "metadata": {},
   "outputs": [],
   "source": [
    "original_data.columns"
   ]
  },
  {
   "cell_type": "code",
   "execution_count": null,
   "id": "f9a00787",
   "metadata": {},
   "outputs": [],
   "source": [
    "df=original_data[['SiteCode','StartDate', 'EndDate','Tonnage (Mt)','Grade','GradeUnit','CommodityName','ContainedMetal','ContainedMetalUnit','CutOffGrade','TargetCommodityGroup']]"
   ]
  },
  {
   "cell_type": "code",
   "execution_count": null,
   "id": "31b0d7c5",
   "metadata": {},
   "outputs": [],
   "source": [
    "df['ContainedMetalUnit'].value_counts()"
   ]
  },
  {
   "cell_type": "markdown",
   "id": "cb03a27c",
   "metadata": {},
   "source": [
    "## Convert unit measures to tonne unit"
   ]
  },
  {
   "cell_type": "markdown",
   "id": "ef116a3e",
   "metadata": {},
   "source": [
    "Convert measure to tonne is easy to calculate for machine rather than kg"
   ]
  },
  {
   "cell_type": "markdown",
   "id": "d0de9174",
   "metadata": {},
   "source": [
    "* 000 tonnes - long ton (Brit) a unit of weight equal to 2240 pounds or 1016.046909 kilograms = 1.016.\n",
    "* million carats = 0.2 tonne\n",
    "* million tonnes = 1 000 000 tonnes\n",
    "* kilotonne = 1000  tonnes"
   ]
  },
  {
   "cell_type": "code",
   "execution_count": null,
   "id": "37631d3d",
   "metadata": {},
   "outputs": [],
   "source": [
    "quantity=[]\n",
    "for i in range(len(df)):\n",
    "    if df.iloc[i,8] == 'kilotonne':\n",
    "        quantity.append(df.iloc[i,7]*1000)\n",
    "    elif df.iloc[i,8] == 'kilogram':\n",
    "        quantity.append(df.iloc[i,7]/1000)\n",
    "    elif df.iloc[i,8] == 'million tonnes':\n",
    "        quantity.append(df.iloc[i,7]*1000000)\n",
    "    elif df.iloc[i,8] == 'million carats':\n",
    "        quantity.append(df.iloc[i,7]*0.2)\n",
    "    elif df.iloc[i,8] == 'tonnes':\n",
    "        quantity.append(df.iloc[i,7])\n",
    "    elif df.iloc[i,8] == '000 tonnes':\n",
    "        quantity.append(df.iloc[i,7]*1.016)\n",
    "    else:\n",
    "        quantity.append('NaN')\n",
    "        \n",
    "        "
   ]
  },
  {
   "cell_type": "code",
   "execution_count": null,
   "id": "055107e2",
   "metadata": {},
   "outputs": [],
   "source": [
    "dictionary =pd.DataFrame({'quantity(tonne)': quantity})\n",
    "df = pd.concat([df, dictionary], axis=1)"
   ]
  },
  {
   "cell_type": "code",
   "execution_count": null,
   "id": "733cfe1e",
   "metadata": {},
   "outputs": [],
   "source": [
    "df.head(5)"
   ]
  },
  {
   "cell_type": "code",
   "execution_count": null,
   "id": "283690fa",
   "metadata": {},
   "outputs": [],
   "source": [
    "df.GradeUnit.value_counts()"
   ]
  },
  {
   "cell_type": "markdown",
   "id": "6dacb778",
   "metadata": {},
   "source": [
    "### Filtering site code by date (most recent start date)"
   ]
  },
  {
   "cell_type": "code",
   "execution_count": null,
   "id": "556fcd44",
   "metadata": {
    "scrolled": true
   },
   "outputs": [],
   "source": [
    "df.groupby('SiteCode')['StartDate'].unique()"
   ]
  },
  {
   "cell_type": "code",
   "execution_count": null,
   "id": "1c9f086c",
   "metadata": {},
   "outputs": [],
   "source": [
    "dict1 = dict(df.groupby('SiteCode')['StartDate'].unique())"
   ]
  },
  {
   "cell_type": "code",
   "execution_count": null,
   "id": "aa9d90ff",
   "metadata": {},
   "outputs": [],
   "source": [
    "# Create dictionary includes site code with the most recent start date\n",
    "dict2 = {}\n",
    "for i in dict1:\n",
    "    dict2[i]=dict1[i][-1]"
   ]
  },
  {
   "cell_type": "code",
   "execution_count": null,
   "id": "41be4726",
   "metadata": {},
   "outputs": [],
   "source": [
    "# Create Dataframe with site code and the most recent start date\n",
    "data =pd.DataFrame()\n",
    "for i in dict2:\n",
    "    df1=df[df['SiteCode'].str.contains(i)]\n",
    "    df2=df1[df1['StartDate'].str.contains(dict2[i])]\n",
    "    data = data.append(df2)"
   ]
  },
  {
   "cell_type": "code",
   "execution_count": null,
   "id": "3f576a6f",
   "metadata": {},
   "outputs": [],
   "source": [
    "data"
   ]
  },
  {
   "cell_type": "code",
   "execution_count": null,
   "id": "2b28497c",
   "metadata": {},
   "outputs": [],
   "source": [
    "# There are 4 unit measures in the GradeUnit column\n",
    "# 'gram/tonne' is equal to ppm\n",
    "data.GradeUnit.unique()"
   ]
  },
  {
   "cell_type": "code",
   "execution_count": null,
   "id": "5757806b",
   "metadata": {},
   "outputs": [],
   "source": [
    "data1 = data[data['GradeUnit']=='gram/tonne']"
   ]
  },
  {
   "cell_type": "code",
   "execution_count": null,
   "id": "be723619",
   "metadata": {},
   "outputs": [],
   "source": [
    "data2 = data[data['GradeUnit']=='percent']"
   ]
  },
  {
   "cell_type": "code",
   "execution_count": null,
   "id": "456de392",
   "metadata": {},
   "outputs": [],
   "source": [
    "data3 = data[data['GradeUnit']=='kilogram/tonne']"
   ]
  },
  {
   "cell_type": "code",
   "execution_count": null,
   "id": "90af439c",
   "metadata": {},
   "outputs": [],
   "source": [
    "data4 = data[data['GradeUnit']=='carat/tonne']"
   ]
  },
  {
   "cell_type": "markdown",
   "id": "741b98e1",
   "metadata": {},
   "source": [
    "Create lists of ppm for each subseted data"
   ]
  },
  {
   "cell_type": "code",
   "execution_count": null,
   "id": "c8c6fae5",
   "metadata": {},
   "outputs": [],
   "source": [
    "list_of_ppm_data2=[]\n",
    "for i in range(len(data2)):\n",
    "    list_of_ppm_data2.append((data2.iloc[i,11]*1000000)/(data2.iloc[i,3]*1000000))"
   ]
  },
  {
   "cell_type": "code",
   "execution_count": null,
   "id": "cab1964e",
   "metadata": {},
   "outputs": [],
   "source": [
    "list_of_ppm_data3=[]\n",
    "for i in range(len(data3)):\n",
    "    list_of_ppm_data3.append((data3.iloc[i,11]*1000000)/(data3.iloc[i,3]*1000000))"
   ]
  },
  {
   "cell_type": "code",
   "execution_count": null,
   "id": "2d359556",
   "metadata": {},
   "outputs": [],
   "source": [
    "list_of_ppm_data4=[]\n",
    "for i in range(len(data4)):\n",
    "    list_of_ppm_data4.append((data4.iloc[i,11]*1000000)/(data4.iloc[i,3]*1000000))"
   ]
  },
  {
   "cell_type": "markdown",
   "id": "cf95e8be",
   "metadata": {},
   "source": [
    "When transform from percent to ppm, the ppm values increase dramatically"
   ]
  },
  {
   "cell_type": "code",
   "execution_count": null,
   "id": "0f076895",
   "metadata": {},
   "outputs": [],
   "source": [
    "# Append column ppm to the dataframe\n",
    "data1['ppm'] = list(data1['Grade'])\n",
    "data2['ppm'] = list_of_ppm_data2\n",
    "data3['ppm'] = list_of_ppm_data3\n",
    "data4['ppm'] = list_of_ppm_data4"
   ]
  },
  {
   "cell_type": "code",
   "execution_count": null,
   "id": "98846019",
   "metadata": {},
   "outputs": [],
   "source": [
    "filtered_data = pd.DataFrame()\n",
    "filtered_data = filtered_data.append(data1)\n",
    "filtered_data = filtered_data.append(data2)\n",
    "filtered_data = filtered_data.append(data3)\n",
    "filtered_data = filtered_data.append(data4)"
   ]
  },
  {
   "cell_type": "code",
   "execution_count": null,
   "id": "1f020a2f",
   "metadata": {},
   "outputs": [],
   "source": [
    "filtered_data.head(10)"
   ]
  },
  {
   "cell_type": "code",
   "execution_count": null,
   "id": "c519c57d",
   "metadata": {},
   "outputs": [],
   "source": [
    "filtered_data.to_csv('Transformed_Minedex_data.csv',index=False)"
   ]
  },
  {
   "cell_type": "code",
   "execution_count": null,
   "id": "8dba1f19",
   "metadata": {},
   "outputs": [],
   "source": []
  },
  {
   "cell_type": "code",
   "execution_count": null,
   "id": "4b8af86d",
   "metadata": {},
   "outputs": [],
   "source": []
  }
 ],
 "metadata": {
  "kernelspec": {
   "display_name": "Python 3 (ipykernel)",
   "language": "python",
   "name": "python3"
  },
  "language_info": {
   "codemirror_mode": {
    "name": "ipython",
    "version": 3
   },
   "file_extension": ".py",
   "mimetype": "text/x-python",
   "name": "python",
   "nbconvert_exporter": "python",
   "pygments_lexer": "ipython3",
   "version": "3.9.5"
  }
 },
 "nbformat": 4,
 "nbformat_minor": 5
}
