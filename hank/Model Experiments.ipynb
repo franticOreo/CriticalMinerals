{
 "cells": [
  {
   "cell_type": "code",
   "execution_count": 1,
   "id": "e86aff84",
   "metadata": {},
   "outputs": [],
   "source": [
    "import numpy as np\n",
    "import matplotlib.pyplot as plt\n",
    "import pandas as pd\n",
    "import seaborn as sns"
   ]
  },
  {
   "cell_type": "code",
   "execution_count": 2,
   "id": "077f9157",
   "metadata": {},
   "outputs": [],
   "source": [
    "%matplotlib inline"
   ]
  },
  {
   "cell_type": "code",
   "execution_count": 3,
   "id": "c170f64a",
   "metadata": {},
   "outputs": [],
   "source": [
    "#Reading the data\n",
    "data1 = pd.read_excel('osnaca-data.xlsx')"
   ]
  },
  {
   "cell_type": "code",
   "execution_count": 38,
   "id": "267509c0",
   "metadata": {
    "scrolled": false
   },
   "outputs": [
    {
     "data": {
      "text/html": [
       "<div>\n",
       "<style scoped>\n",
       "    .dataframe tbody tr th:only-of-type {\n",
       "        vertical-align: middle;\n",
       "    }\n",
       "\n",
       "    .dataframe tbody tr th {\n",
       "        vertical-align: top;\n",
       "    }\n",
       "\n",
       "    .dataframe thead th {\n",
       "        text-align: right;\n",
       "    }\n",
       "</style>\n",
       "<table border=\"1\" class=\"dataframe\">\n",
       "  <thead>\n",
       "    <tr style=\"text-align: right;\">\n",
       "      <th></th>\n",
       "      <th>Sample</th>\n",
       "      <th>Code</th>\n",
       "      <th>Au (FA)</th>\n",
       "      <th>Pt</th>\n",
       "      <th>Pd</th>\n",
       "      <th>Au (AR)</th>\n",
       "      <th>Bi</th>\n",
       "      <th>Te</th>\n",
       "      <th>Hg</th>\n",
       "      <th>Ag</th>\n",
       "      <th>...</th>\n",
       "      <th>Y</th>\n",
       "      <th>Zn</th>\n",
       "      <th>B</th>\n",
       "      <th>Hf</th>\n",
       "      <th>Si</th>\n",
       "      <th>Zr</th>\n",
       "      <th>Be</th>\n",
       "      <th>Ga</th>\n",
       "      <th>Ge</th>\n",
       "      <th>Wt Tot</th>\n",
       "    </tr>\n",
       "  </thead>\n",
       "  <tbody>\n",
       "    <tr>\n",
       "      <th>0</th>\n",
       "      <td>700001</td>\n",
       "      <td>NaN</td>\n",
       "      <td>0.438</td>\n",
       "      <td>0.002</td>\n",
       "      <td>0.002</td>\n",
       "      <td>0.362</td>\n",
       "      <td>10.60</td>\n",
       "      <td>0.02</td>\n",
       "      <td>0.39</td>\n",
       "      <td>91.5</td>\n",
       "      <td>...</td>\n",
       "      <td>1.2</td>\n",
       "      <td>153000</td>\n",
       "      <td>-20</td>\n",
       "      <td>0.4</td>\n",
       "      <td>34200</td>\n",
       "      <td>60</td>\n",
       "      <td>-1.0</td>\n",
       "      <td>11.0</td>\n",
       "      <td>1</td>\n",
       "      <td>159</td>\n",
       "    </tr>\n",
       "    <tr>\n",
       "      <th>1</th>\n",
       "      <td>700002</td>\n",
       "      <td>NaN</td>\n",
       "      <td>0.093</td>\n",
       "      <td>0.001</td>\n",
       "      <td>0.002</td>\n",
       "      <td>0.095</td>\n",
       "      <td>125.00</td>\n",
       "      <td>0.22</td>\n",
       "      <td>0.12</td>\n",
       "      <td>44.0</td>\n",
       "      <td>...</td>\n",
       "      <td>18.5</td>\n",
       "      <td>3780</td>\n",
       "      <td>-20</td>\n",
       "      <td>0.2</td>\n",
       "      <td>114000</td>\n",
       "      <td>20</td>\n",
       "      <td>-1.0</td>\n",
       "      <td>2.0</td>\n",
       "      <td>-1</td>\n",
       "      <td>143</td>\n",
       "    </tr>\n",
       "    <tr>\n",
       "      <th>2</th>\n",
       "      <td>700003</td>\n",
       "      <td>NaN</td>\n",
       "      <td>1.41</td>\n",
       "      <td>0.002</td>\n",
       "      <td>0.002</td>\n",
       "      <td>1.39</td>\n",
       "      <td>120.00</td>\n",
       "      <td>0.02</td>\n",
       "      <td>62.9</td>\n",
       "      <td>215.0</td>\n",
       "      <td>...</td>\n",
       "      <td>0.3</td>\n",
       "      <td>219000</td>\n",
       "      <td>-20</td>\n",
       "      <td>-0.2</td>\n",
       "      <td>71500</td>\n",
       "      <td>-10</td>\n",
       "      <td>-1.0</td>\n",
       "      <td>-1.0</td>\n",
       "      <td>2</td>\n",
       "      <td>204</td>\n",
       "    </tr>\n",
       "    <tr>\n",
       "      <th>3</th>\n",
       "      <td>700004</td>\n",
       "      <td>1</td>\n",
       "      <td>0.096</td>\n",
       "      <td>0.003</td>\n",
       "      <td>0.005</td>\n",
       "      <td>0.086</td>\n",
       "      <td>0.72</td>\n",
       "      <td>0.80</td>\n",
       "      <td>0.03</td>\n",
       "      <td>2.5</td>\n",
       "      <td>...</td>\n",
       "      <td>6.3</td>\n",
       "      <td>755</td>\n",
       "      <td>-20</td>\n",
       "      <td>2.0</td>\n",
       "      <td>244000</td>\n",
       "      <td>70</td>\n",
       "      <td>-1.0</td>\n",
       "      <td>-1.0</td>\n",
       "      <td>-1</td>\n",
       "      <td>185</td>\n",
       "    </tr>\n",
       "    <tr>\n",
       "      <th>4</th>\n",
       "      <td>700005</td>\n",
       "      <td>NaN</td>\n",
       "      <td>2.9</td>\n",
       "      <td>0.003</td>\n",
       "      <td>0.005</td>\n",
       "      <td>3.94</td>\n",
       "      <td>0.34</td>\n",
       "      <td>0.06</td>\n",
       "      <td>4.01</td>\n",
       "      <td>162.0</td>\n",
       "      <td>...</td>\n",
       "      <td>4.5</td>\n",
       "      <td>173000</td>\n",
       "      <td>-20</td>\n",
       "      <td>-0.2</td>\n",
       "      <td>142000</td>\n",
       "      <td>-10</td>\n",
       "      <td>-1.0</td>\n",
       "      <td>-1.0</td>\n",
       "      <td>2</td>\n",
       "      <td>280</td>\n",
       "    </tr>\n",
       "  </tbody>\n",
       "</table>\n",
       "<p>5 rows × 69 columns</p>\n",
       "</div>"
      ],
      "text/plain": [
       "   Sample Code Au (FA)     Pt     Pd Au (AR)      Bi    Te    Hg     Ag  ...  \\\n",
       "0  700001  NaN   0.438  0.002  0.002   0.362   10.60  0.02  0.39   91.5  ...   \n",
       "1  700002  NaN   0.093  0.001  0.002   0.095  125.00  0.22  0.12   44.0  ...   \n",
       "2  700003  NaN    1.41  0.002  0.002    1.39  120.00  0.02  62.9  215.0  ...   \n",
       "3  700004    1   0.096  0.003  0.005   0.086    0.72  0.80  0.03    2.5  ...   \n",
       "4  700005  NaN     2.9  0.003  0.005    3.94    0.34  0.06  4.01  162.0  ...   \n",
       "\n",
       "      Y      Zn   B   Hf      Si  Zr   Be    Ga  Ge  Wt Tot  \n",
       "0   1.2  153000 -20  0.4   34200  60 -1.0  11.0   1     159  \n",
       "1  18.5    3780 -20  0.2  114000  20 -1.0   2.0  -1     143  \n",
       "2   0.3  219000 -20 -0.2   71500 -10 -1.0  -1.0   2     204  \n",
       "3   6.3     755 -20  2.0  244000  70 -1.0  -1.0  -1     185  \n",
       "4   4.5  173000 -20 -0.2  142000 -10 -1.0  -1.0   2     280  \n",
       "\n",
       "[5 rows x 69 columns]"
      ]
     },
     "execution_count": 38,
     "metadata": {},
     "output_type": "execute_result"
    }
   ],
   "source": [
    "# Looking the first 5 rows of the dataset\n",
    "data1.head()"
   ]
  },
  {
   "cell_type": "code",
   "execution_count": 5,
   "id": "3794d68d",
   "metadata": {},
   "outputs": [],
   "source": [
    "list_of_columns=data1.columns"
   ]
  },
  {
   "cell_type": "code",
   "execution_count": 6,
   "id": "ec16b845",
   "metadata": {},
   "outputs": [],
   "source": [
    "df = data1.iloc[:, 2:68]"
   ]
  },
  {
   "cell_type": "code",
   "execution_count": 7,
   "id": "2e11ebb9",
   "metadata": {},
   "outputs": [
    {
     "data": {
      "text/plain": [
       "Au (FA)    False\n",
       "Pt         False\n",
       "Pd         False\n",
       "Au (AR)    False\n",
       "Bi         False\n",
       "           ...  \n",
       "Si         False\n",
       "Zr         False\n",
       "Be         False\n",
       "Ga         False\n",
       "Ge         False\n",
       "Length: 66, dtype: bool"
      ]
     },
     "execution_count": 7,
     "metadata": {},
     "output_type": "execute_result"
    }
   ],
   "source": [
    "#Checking NA values\n",
    "df.isna().any()"
   ]
  },
  {
   "cell_type": "markdown",
   "id": "22969ecf",
   "metadata": {},
   "source": [
    "There is no missing values in the dataset"
   ]
  },
  {
   "cell_type": "code",
   "execution_count": 8,
   "id": "d411970b",
   "metadata": {},
   "outputs": [],
   "source": [
    "list_of_columns = df.columns"
   ]
  },
  {
   "cell_type": "code",
   "execution_count": 9,
   "id": "e17bbb65",
   "metadata": {},
   "outputs": [
    {
     "data": {
      "text/plain": [
       "Index(['Au (FA)', 'Pt', 'Pd', 'Au (AR)', 'Bi', 'Te', 'Hg', 'Ag', 'Al', 'As',\n",
       "       'Ca', 'Cd', 'Co', 'Cr', 'Cs', 'Cu', 'Fe', 'In', 'K', 'La', 'Ce', 'Pr',\n",
       "       'Nd', 'Sm', 'Eu', 'Gd', 'Tb', 'Dy', 'Ho', 'Er', 'Tm', 'Yb', 'Lu', 'Li',\n",
       "       'Mg', 'Mn', 'Mo', 'Na', 'Nb', 'Ni', 'P', 'Pb', 'Rb', 'Re', 'S', 'Sb',\n",
       "       'Sc', 'Se', 'Sn', 'Sr', 'Ta', 'Th', 'Ti', 'Tl', 'U', 'V', 'W', 'Y',\n",
       "       'Zn', 'B', 'Hf', 'Si', 'Zr', 'Be', 'Ga', 'Ge'],\n",
       "      dtype='object')"
      ]
     },
     "execution_count": 9,
     "metadata": {},
     "output_type": "execute_result"
    }
   ],
   "source": [
    "list_of_columns"
   ]
  },
  {
   "cell_type": "code",
   "execution_count": 10,
   "id": "e551e615",
   "metadata": {},
   "outputs": [
    {
     "data": {
      "text/plain": [
       "[dtype('O'),\n",
       " dtype('O'),\n",
       " dtype('O'),\n",
       " dtype('O'),\n",
       " dtype('float64'),\n",
       " dtype('float64'),\n",
       " dtype('O'),\n",
       " dtype('float64'),\n",
       " dtype('int64'),\n",
       " dtype('int64'),\n",
       " dtype('int64'),\n",
       " dtype('float64'),\n",
       " dtype('int64'),\n",
       " dtype('int64'),\n",
       " dtype('float64'),\n",
       " dtype('int64'),\n",
       " dtype('int64'),\n",
       " dtype('float64'),\n",
       " dtype('int64'),\n",
       " dtype('float64'),\n",
       " dtype('float64'),\n",
       " dtype('float64'),\n",
       " dtype('float64'),\n",
       " dtype('float64'),\n",
       " dtype('float64'),\n",
       " dtype('float64'),\n",
       " dtype('float64'),\n",
       " dtype('float64'),\n",
       " dtype('float64'),\n",
       " dtype('float64'),\n",
       " dtype('float64'),\n",
       " dtype('float64'),\n",
       " dtype('float64'),\n",
       " dtype('float64'),\n",
       " dtype('int64'),\n",
       " dtype('int64'),\n",
       " dtype('float64'),\n",
       " dtype('int64'),\n",
       " dtype('float64'),\n",
       " dtype('int64'),\n",
       " dtype('int64'),\n",
       " dtype('int64'),\n",
       " dtype('float64'),\n",
       " dtype('float64'),\n",
       " dtype('int64'),\n",
       " dtype('float64'),\n",
       " dtype('int64'),\n",
       " dtype('int64'),\n",
       " dtype('int64'),\n",
       " dtype('int64'),\n",
       " dtype('float64'),\n",
       " dtype('float64'),\n",
       " dtype('int64'),\n",
       " dtype('float64'),\n",
       " dtype('float64'),\n",
       " dtype('int64'),\n",
       " dtype('float64'),\n",
       " dtype('float64'),\n",
       " dtype('int64'),\n",
       " dtype('int64'),\n",
       " dtype('float64'),\n",
       " dtype('int64'),\n",
       " dtype('int64'),\n",
       " dtype('float64'),\n",
       " dtype('float64'),\n",
       " dtype('int64')]"
      ]
     },
     "execution_count": 10,
     "metadata": {},
     "output_type": "execute_result"
    }
   ],
   "source": [
    "list(df.dtypes)"
   ]
  },
  {
   "cell_type": "markdown",
   "id": "80e3bb42",
   "metadata": {},
   "source": [
    "### Cleaning and transforming data"
   ]
  },
  {
   "cell_type": "code",
   "execution_count": 39,
   "id": "b11e6d99",
   "metadata": {},
   "outputs": [],
   "source": [
    "# Convert values IS into 0\n",
    "df=df.replace(\"IS\", 0)"
   ]
  },
  {
   "cell_type": "markdown",
   "id": "723b9e84",
   "metadata": {},
   "source": [
    "#### Convert columns with Object type into numeric values"
   ]
  },
  {
   "cell_type": "code",
   "execution_count": 12,
   "id": "fff92366",
   "metadata": {},
   "outputs": [],
   "source": [
    "df['Hg'] = pd.to_numeric(df['Hg'])"
   ]
  },
  {
   "cell_type": "code",
   "execution_count": 13,
   "id": "8789eecf",
   "metadata": {},
   "outputs": [],
   "source": [
    "df['Au (FA)'] = pd.to_numeric(df['Au (FA)'])\n",
    "df['Pt'] = pd.to_numeric(df['Pt'])"
   ]
  },
  {
   "cell_type": "code",
   "execution_count": 14,
   "id": "2a7a68b3",
   "metadata": {},
   "outputs": [],
   "source": [
    "df['Au (AR)'] = pd.to_numeric(df['Au (AR)'])\n",
    "df['Pd'] = pd.to_numeric(df['Pd'])"
   ]
  },
  {
   "cell_type": "code",
   "execution_count": 48,
   "id": "1e4a836f",
   "metadata": {},
   "outputs": [
    {
     "data": {
      "text/plain": [
       "[[-0.006386544013555623, 'In and', 'Ta'],\n",
       " [-0.005191047276819587, 'In and', 'Ge'],\n",
       " [-5.151955956000141e-05, 'In and', 'Re'],\n",
       " [-4.234562950034929e-05, 'In and', 'Bi'],\n",
       " [0.003983784829426945, 'In and', 'Hg'],\n",
       " [0.010191913192729656, 'In and', 'B'],\n",
       " [0.010218317683510237, 'In and', 'Co'],\n",
       " [0.01217541538982025, 'In and', 'W'],\n",
       " [0.013989797880660364, 'In and', 'Mn'],\n",
       " [0.015830000510246797, 'In and', 'Sb'],\n",
       " [0.025514380636737416, 'In and', 'As'],\n",
       " [0.03168495120819973, 'In and', 'Cd'],\n",
       " [0.0442381816956692, 'In and', 'Ag'],\n",
       " [0.05121360522361913, 'In and', 'Sn'],\n",
       " [0.0821343879091581, 'In and', 'Zn'],\n",
       " [0.12833377659445944, 'In and', 'Fe'],\n",
       " [0.16027686870875646, 'In and', 'Cu'],\n",
       " [0.16726549564005386, 'In and', 'Se'],\n",
       " [0.22508251841161628, 'In and', 'S'],\n",
       " [1.0, 'In and', 'In']]"
      ]
     },
     "execution_count": 48,
     "metadata": {},
     "output_type": "execute_result"
    }
   ],
   "source": [
    "list_of_coefficient1=[]\n",
    "for i in list_of_columns:\n",
    "    list_of_coefficient1.append([df['In'].corr(df[i]),\"In and\",i])\n",
    "sorted(list_of_coefficient1)[-20:]"
   ]
  },
  {
   "cell_type": "code",
   "execution_count": null,
   "id": "f0c50835",
   "metadata": {},
   "outputs": [],
   "source": []
  },
  {
   "cell_type": "code",
   "execution_count": 45,
   "id": "c0234d5d",
   "metadata": {},
   "outputs": [
    {
     "data": {
      "text/plain": [
       "[[0.02169335802029915, 'Ge and', 'Cs'],\n",
       " [0.023337896408367306, 'Ge and', 'Li'],\n",
       " [0.02618452719780418, 'Ge and', 'Nb'],\n",
       " [0.029777181942877175, 'Ge and', 'Ca'],\n",
       " [0.04226196403100871, 'Ge and', 'Tb'],\n",
       " [0.053833882466501996, 'Ge and', 'Gd'],\n",
       " [0.062004102384672466, 'Ge and', 'Eu'],\n",
       " [0.06504486968490908, 'Ge and', 'Sm'],\n",
       " [0.06546116088666841, 'Ge and', 'La'],\n",
       " [0.06912729697218406, 'Ge and', 'Ce'],\n",
       " [0.07151444246304384, 'Ge and', 'Pr'],\n",
       " [0.07155055563919545, 'Ge and', 'Nd'],\n",
       " [0.0911700737333686, 'Ge and', 'Pb'],\n",
       " [0.11400795598541562, 'Ge and', 'Se'],\n",
       " [0.1526998361174825, 'Ge and', 'Ga'],\n",
       " [0.1772241749496121, 'Ge and', 'Tl'],\n",
       " [0.20236794721275347, 'Ge and', 'S'],\n",
       " [0.22426566361241615, 'Ge and', 'Cd'],\n",
       " [0.49466389070875494, 'Ge and', 'Zn'],\n",
       " [0.9999999999999998, 'Ge and', 'Ge']]"
      ]
     },
     "execution_count": 45,
     "metadata": {},
     "output_type": "execute_result"
    }
   ],
   "source": [
    "list_of_coefficient2=[]\n",
    "for i in list_of_columns:\n",
    "    list_of_coefficient2.append([df['Ge'].corr(df[i]),\"Ge and\",i])\n",
    "sorted(list_of_coefficient2)[-20:]"
   ]
  },
  {
   "cell_type": "code",
   "execution_count": 17,
   "id": "63173600",
   "metadata": {},
   "outputs": [
    {
     "data": {
      "image/png": "[encoded data removed]",
      "text/plain": [
       "<Figure size 432x288 with 2 Axes>"
      ]
     },
     "metadata": {
      "needs_background": "light"
     },
     "output_type": "display_data"
    }
   ],
   "source": [
    "sns.heatmap(df.corr());\n"
   ]
  },
  {
   "cell_type": "code",
   "execution_count": 18,
   "id": "5c673f8f",
   "metadata": {},
   "outputs": [
    {
     "data": {
      "image/png": "[encoded data removed]",
      "text/plain": [
       "<Figure size 432x288 with 2 Axes>"
      ]
     },
     "metadata": {
      "needs_background": "light"
     },
     "output_type": "display_data"
    }
   ],
   "source": [
    "#Zoom in the high significant correlation area\n",
    "df2 = data1.iloc[:, 16:38]\n",
    "sns.heatmap(df2.corr());"
   ]
  },
  {
   "cell_type": "markdown",
   "id": "248b0e3a",
   "metadata": {},
   "source": [
    "## Implement Feature Selection"
   ]
  },
  {
   "cell_type": "markdown",
   "id": "23fc9e66",
   "metadata": {},
   "source": [
    "Target variable is Indium"
   ]
  },
  {
   "cell_type": "code",
   "execution_count": 19,
   "id": "5041a1b7",
   "metadata": {},
   "outputs": [],
   "source": [
    "X = df.drop(['In'], axis =1)\n",
    "y = df['In']"
   ]
  },
  {
   "cell_type": "code",
   "execution_count": 20,
   "id": "aac17990",
   "metadata": {},
   "outputs": [
    {
     "name": "stdout",
     "output_type": "stream",
     "text": [
      "[0.00327073 0.00578005 0.0041468  0.00149928 0.02747653 0.00989144\n",
      " 0.01188075 0.04790979 0.00510182 0.01317714 0.00803026 0.01634455\n",
      " 0.02910159 0.00160638 0.0065461  0.05156054 0.01419782 0.00544684\n",
      " 0.0131986  0.00478816 0.00370152 0.00681708 0.00443492 0.00682095\n",
      " 0.00472647 0.00497382 0.00779547 0.01239723 0.00976822 0.01525205\n",
      " 0.00839829 0.01107756 0.01570501 0.00179719 0.02434754 0.00443468\n",
      " 0.00466786 0.01867479 0.00663445 0.00185906 0.00382559 0.00821363\n",
      " 0.00426014 0.04192562 0.05735341 0.0030884  0.03849148 0.26485321\n",
      " 0.00179111 0.00771095 0.00760251 0.01437028 0.01390472 0.00442386\n",
      " 0.00362664 0.01289561 0.00953677 0.01419013 0.0031694  0.00509008\n",
      " 0.00561058 0.00700876 0.00312836 0.00424007 0.00444936]\n"
     ]
    },
    {
     "data": {
      "image/png": "[encoded data removed]",
      "text/plain": [
       "<Figure size 432x288 with 1 Axes>"
      ]
     },
     "metadata": {
      "needs_background": "light"
     },
     "output_type": "display_data"
    }
   ],
   "source": [
    "from sklearn.ensemble import ExtraTreesRegressor\n",
    "import matplotlib.pyplot as plt\n",
    "model = ExtraTreesRegressor()\n",
    "model.fit(X,y)\n",
    "print(model.feature_importances_) #use built-in class feature_importances of tree based classifiers\n",
    "#plot graph of feature importances for better visualization\n",
    "feat_importances = pd.Series(model.feature_importances_, index=X.columns)\n",
    "feat_importances.nlargest(20).plot(kind='barh',color=\"Forestgreen\")\n",
    "plt.show()"
   ]
  },
  {
   "cell_type": "markdown",
   "id": "27367aef",
   "metadata": {},
   "source": [
    "### Compared the result of correlation coefficient"
   ]
  },
  {
   "cell_type": "code",
   "execution_count": 21,
   "id": "8c7e9626",
   "metadata": {},
   "outputs": [
    {
     "data": {
      "text/plain": [
       "[[-0.006386544013555623, 'In and', 'Ta'],\n",
       " [-0.005191047276819587, 'In and', 'Ge'],\n",
       " [-5.151955956000141e-05, 'In and', 'Re'],\n",
       " [-4.234562950034929e-05, 'In and', 'Bi'],\n",
       " [0.003983784829426945, 'In and', 'Hg'],\n",
       " [0.010191913192729656, 'In and', 'B'],\n",
       " [0.010218317683510237, 'In and', 'Co'],\n",
       " [0.01217541538982025, 'In and', 'W'],\n",
       " [0.013989797880660364, 'In and', 'Mn'],\n",
       " [0.015830000510246797, 'In and', 'Sb'],\n",
       " [0.025514380636737416, 'In and', 'As'],\n",
       " [0.03168495120819973, 'In and', 'Cd'],\n",
       " [0.0442381816956692, 'In and', 'Ag'],\n",
       " [0.05121360522361913, 'In and', 'Sn'],\n",
       " [0.0821343879091581, 'In and', 'Zn'],\n",
       " [0.12833377659445944, 'In and', 'Fe'],\n",
       " [0.16027686870875646, 'In and', 'Cu'],\n",
       " [0.16726549564005386, 'In and', 'Se'],\n",
       " [0.22508251841161628, 'In and', 'S'],\n",
       " [1.0, 'In and', 'In']]"
      ]
     },
     "execution_count": 21,
     "metadata": {},
     "output_type": "execute_result"
    }
   ],
   "source": [
    "# Show list of most significant correlations between Indium and other chemical elements.\n",
    "list_of_coefficient1=[]\n",
    "for i in list_of_columns:\n",
    "    list_of_coefficient1.append([df['In'].corr(df[i]),\"In and\",i])\n",
    "sorted(list_of_coefficient1)[-20:]"
   ]
  },
  {
   "cell_type": "markdown",
   "id": "da6d6fc4",
   "metadata": {},
   "source": [
    "## *Multiple Linear Regression Model Implementation*"
   ]
  },
  {
   "cell_type": "markdown",
   "id": "85e86db1",
   "metadata": {},
   "source": [
    "### Model with all independent variables"
   ]
  },
  {
   "cell_type": "code",
   "execution_count": 26,
   "id": "50fb29c5",
   "metadata": {},
   "outputs": [],
   "source": [
    "#Spliting the dataset\n",
    "from sklearn.model_selection  import train_test_split\n",
    "X_train,X_test,y_train,y_test=train_test_split(X,y,test_size=0.2)"
   ]
  },
  {
   "cell_type": "code",
   "execution_count": 27,
   "id": "128661e8",
   "metadata": {},
   "outputs": [
    {
     "data": {
      "text/plain": [
       "LinearRegression()"
      ]
     },
     "execution_count": 27,
     "metadata": {},
     "output_type": "execute_result"
    }
   ],
   "source": [
    "from sklearn.linear_model import LinearRegression\n",
    "mlr = LinearRegression()  \n",
    "mlr.fit(X_train, y_train)"
   ]
  },
  {
   "cell_type": "code",
   "execution_count": 28,
   "id": "4c3f13a1",
   "metadata": {},
   "outputs": [],
   "source": [
    "y_pred_mlr= mlr.predict(X_test)"
   ]
  },
  {
   "cell_type": "code",
   "execution_count": 29,
   "id": "8a4ba15e",
   "metadata": {},
   "outputs": [
    {
     "data": {
      "text/html": [
       "<div>\n",
       "<style scoped>\n",
       "    .dataframe tbody tr th:only-of-type {\n",
       "        vertical-align: middle;\n",
       "    }\n",
       "\n",
       "    .dataframe tbody tr th {\n",
       "        vertical-align: top;\n",
       "    }\n",
       "\n",
       "    .dataframe thead th {\n",
       "        text-align: right;\n",
       "    }\n",
       "</style>\n",
       "<table border=\"1\" class=\"dataframe\">\n",
       "  <thead>\n",
       "    <tr style=\"text-align: right;\">\n",
       "      <th></th>\n",
       "      <th>Actual value</th>\n",
       "      <th>Predicted value</th>\n",
       "    </tr>\n",
       "  </thead>\n",
       "  <tbody>\n",
       "    <tr>\n",
       "      <th>54</th>\n",
       "      <td>0.06</td>\n",
       "      <td>-184.038181</td>\n",
       "    </tr>\n",
       "    <tr>\n",
       "      <th>824</th>\n",
       "      <td>0.02</td>\n",
       "      <td>-3.699913</td>\n",
       "    </tr>\n",
       "    <tr>\n",
       "      <th>866</th>\n",
       "      <td>0.04</td>\n",
       "      <td>-0.762796</td>\n",
       "    </tr>\n",
       "    <tr>\n",
       "      <th>316</th>\n",
       "      <td>1.02</td>\n",
       "      <td>7.562100</td>\n",
       "    </tr>\n",
       "    <tr>\n",
       "      <th>256</th>\n",
       "      <td>0.02</td>\n",
       "      <td>3.065214</td>\n",
       "    </tr>\n",
       "    <tr>\n",
       "      <th>355</th>\n",
       "      <td>0.04</td>\n",
       "      <td>-0.940220</td>\n",
       "    </tr>\n",
       "    <tr>\n",
       "      <th>6</th>\n",
       "      <td>0.34</td>\n",
       "      <td>21.117462</td>\n",
       "    </tr>\n",
       "    <tr>\n",
       "      <th>447</th>\n",
       "      <td>0.12</td>\n",
       "      <td>3.322951</td>\n",
       "    </tr>\n",
       "    <tr>\n",
       "      <th>594</th>\n",
       "      <td>0.02</td>\n",
       "      <td>10.350922</td>\n",
       "    </tr>\n",
       "    <tr>\n",
       "      <th>153</th>\n",
       "      <td>0.20</td>\n",
       "      <td>5.677735</td>\n",
       "    </tr>\n",
       "  </tbody>\n",
       "</table>\n",
       "</div>"
      ],
      "text/plain": [
       "     Actual value  Predicted value\n",
       "54           0.06      -184.038181\n",
       "824          0.02        -3.699913\n",
       "866          0.04        -0.762796\n",
       "316          1.02         7.562100\n",
       "256          0.02         3.065214\n",
       "355          0.04        -0.940220\n",
       "6            0.34        21.117462\n",
       "447          0.12         3.322951\n",
       "594          0.02        10.350922\n",
       "153          0.20         5.677735"
      ]
     },
     "execution_count": 29,
     "metadata": {},
     "output_type": "execute_result"
    }
   ],
   "source": [
    "mlr_diff = pd.DataFrame({'Actual value': y_test, 'Predicted value': y_pred_mlr})\n",
    "mlr_diff.head(10)"
   ]
  },
  {
   "cell_type": "code",
   "execution_count": null,
   "id": "ebd25ef9",
   "metadata": {},
   "outputs": [],
   "source": []
  },
  {
   "cell_type": "code",
   "execution_count": 30,
   "id": "d63b2f4e",
   "metadata": {},
   "outputs": [
    {
     "name": "stdout",
     "output_type": "stream",
     "text": [
      "R squared: 6.29\n",
      "Mean Absolute Error: 9.932919158366708\n",
      "Mean Square Error: 1079.796292844345\n",
      "Root Mean Square Error: 32.860253998475805\n"
     ]
    }
   ],
   "source": [
    "from sklearn import metrics\n",
    "meanAbErr = metrics.mean_absolute_error(y_test, y_pred_mlr)\n",
    "meanSqErr = metrics.mean_squared_error(y_test, y_pred_mlr)\n",
    "rootMeanSqErr = np.sqrt(metrics.mean_squared_error(y_test, y_pred_mlr))\n",
    "print('R squared: {:.2f}'.format(mlr.score(X,y)*100))\n",
    "print('Mean Absolute Error:', meanAbErr)\n",
    "print('Mean Square Error:', meanSqErr)\n",
    "print('Root Mean Square Error:', rootMeanSqErr)"
   ]
  },
  {
   "cell_type": "markdown",
   "id": "a0606758",
   "metadata": {},
   "source": [
    "## *Random Forrest Regression Model Implementation*"
   ]
  },
  {
   "cell_type": "markdown",
   "id": "e450b099",
   "metadata": {},
   "source": [
    "### Model with all independent variables"
   ]
  },
  {
   "cell_type": "code",
   "execution_count": 31,
   "id": "b2803dff",
   "metadata": {},
   "outputs": [],
   "source": [
    "X = df.drop(['In'], axis =1)\n",
    "y = df['In']"
   ]
  },
  {
   "cell_type": "code",
   "execution_count": 32,
   "id": "439f25fd",
   "metadata": {},
   "outputs": [],
   "source": [
    "from sklearn.model_selection  import train_test_split\n",
    "X_train,X_test,y_train,y_test=train_test_split(X,y,test_size=0.2)"
   ]
  },
  {
   "cell_type": "code",
   "execution_count": 33,
   "id": "3c7473c0",
   "metadata": {},
   "outputs": [
    {
     "data": {
      "text/plain": [
       "RandomForestRegressor(min_samples_leaf=10, min_samples_split=15, n_estimators=5,\n",
       "                      random_state=42)"
      ]
     },
     "execution_count": 33,
     "metadata": {},
     "output_type": "execute_result"
    }
   ],
   "source": [
    "#Import Random Forest Regressor module\n",
    "from sklearn.ensemble import RandomForestRegressor\n",
    "# Create a based model\n",
    "rf = RandomForestRegressor(min_samples_leaf=10,min_samples_split=15,n_estimators=5,random_state = 42)\n",
    "rf.fit(X_train, y_train)"
   ]
  },
  {
   "cell_type": "code",
   "execution_count": 34,
   "id": "4f9f1278",
   "metadata": {},
   "outputs": [],
   "source": [
    "#Fit test set into the model\n",
    "rf_ytest_pred = rf.predict(X_test)"
   ]
  },
  {
   "cell_type": "code",
   "execution_count": 35,
   "id": "8f4b40d3",
   "metadata": {},
   "outputs": [
    {
     "name": "stdout",
     "output_type": "stream",
     "text": [
      "MAE from the testing set:  6.730761037163457\n"
     ]
    }
   ],
   "source": [
    "from sklearn.metrics import mean_absolute_error\n",
    "MAE_test = mean_absolute_error(y_test, rf_ytest_pred)\n",
    "print('MAE from the testing set: ',MAE_test)"
   ]
  },
  {
   "cell_type": "code",
   "execution_count": 36,
   "id": "3987444a",
   "metadata": {},
   "outputs": [
    {
     "data": {
      "text/html": [
       "<div>\n",
       "<style scoped>\n",
       "    .dataframe tbody tr th:only-of-type {\n",
       "        vertical-align: middle;\n",
       "    }\n",
       "\n",
       "    .dataframe tbody tr th {\n",
       "        vertical-align: top;\n",
       "    }\n",
       "\n",
       "    .dataframe thead th {\n",
       "        text-align: right;\n",
       "    }\n",
       "</style>\n",
       "<table border=\"1\" class=\"dataframe\">\n",
       "  <thead>\n",
       "    <tr style=\"text-align: right;\">\n",
       "      <th></th>\n",
       "      <th>Actual value</th>\n",
       "      <th>Predicted value</th>\n",
       "    </tr>\n",
       "  </thead>\n",
       "  <tbody>\n",
       "    <tr>\n",
       "      <th>633</th>\n",
       "      <td>1.42</td>\n",
       "      <td>7.953610</td>\n",
       "    </tr>\n",
       "    <tr>\n",
       "      <th>927</th>\n",
       "      <td>0.04</td>\n",
       "      <td>0.062550</td>\n",
       "    </tr>\n",
       "    <tr>\n",
       "      <th>9</th>\n",
       "      <td>0.14</td>\n",
       "      <td>12.218138</td>\n",
       "    </tr>\n",
       "    <tr>\n",
       "      <th>391</th>\n",
       "      <td>-0.02</td>\n",
       "      <td>-0.020000</td>\n",
       "    </tr>\n",
       "    <tr>\n",
       "      <th>1124</th>\n",
       "      <td>3.60</td>\n",
       "      <td>76.570605</td>\n",
       "    </tr>\n",
       "    <tr>\n",
       "      <th>878</th>\n",
       "      <td>0.04</td>\n",
       "      <td>0.062063</td>\n",
       "    </tr>\n",
       "    <tr>\n",
       "      <th>402</th>\n",
       "      <td>0.04</td>\n",
       "      <td>0.251531</td>\n",
       "    </tr>\n",
       "    <tr>\n",
       "      <th>1020</th>\n",
       "      <td>0.32</td>\n",
       "      <td>0.230515</td>\n",
       "    </tr>\n",
       "    <tr>\n",
       "      <th>837</th>\n",
       "      <td>0.20</td>\n",
       "      <td>2.246570</td>\n",
       "    </tr>\n",
       "    <tr>\n",
       "      <th>428</th>\n",
       "      <td>0.10</td>\n",
       "      <td>0.169654</td>\n",
       "    </tr>\n",
       "  </tbody>\n",
       "</table>\n",
       "</div>"
      ],
      "text/plain": [
       "      Actual value  Predicted value\n",
       "633           1.42         7.953610\n",
       "927           0.04         0.062550\n",
       "9             0.14        12.218138\n",
       "391          -0.02        -0.020000\n",
       "1124          3.60        76.570605\n",
       "878           0.04         0.062063\n",
       "402           0.04         0.251531\n",
       "1020          0.32         0.230515\n",
       "837           0.20         2.246570\n",
       "428           0.10         0.169654"
      ]
     },
     "execution_count": 36,
     "metadata": {},
     "output_type": "execute_result"
    }
   ],
   "source": [
    "rf_diff = pd.DataFrame({'Actual value': y_test, 'Predicted value': rf_ytest_pred})\n",
    "rf_diff.head(10)"
   ]
  },
  {
   "cell_type": "code",
   "execution_count": 37,
   "id": "d15ae2e2",
   "metadata": {},
   "outputs": [
    {
     "name": "stdout",
     "output_type": "stream",
     "text": [
      "R squared: 46.02\n",
      "Mean Absolute Error: 6.730761037163457\n",
      "Mean Square Error: 386.4498164598731\n",
      "Root Mean Square Error: 19.658326898794645\n"
     ]
    }
   ],
   "source": [
    "from sklearn import metrics\n",
    "meanAbErr = metrics.mean_absolute_error(y_test, rf_ytest_pred)\n",
    "meanSqErr = metrics.mean_squared_error(y_test, rf_ytest_pred)\n",
    "rootMeanSqErr = np.sqrt(metrics.mean_squared_error(y_test, rf_ytest_pred))\n",
    "print('R squared: {:.2f}'.format(rf.score(X,y)*100))\n",
    "print('Mean Absolute Error:', meanAbErr)\n",
    "print('Mean Square Error:', meanSqErr)\n",
    "print('Root Mean Square Error:', rootMeanSqErr)"
   ]
  },
  {
   "cell_type": "code",
   "execution_count": null,
   "id": "165f3a1f",
   "metadata": {},
   "outputs": [],
   "source": []
  }
 ],
 "metadata": {
  "kernelspec": {
   "display_name": "Python 3",
   "language": "python",
   "name": "python3"
  },
  "language_info": {
   "codemirror_mode": {
    "name": "ipython",
    "version": 3
   },
   "file_extension": ".py",
   "mimetype": "text/x-python",
   "name": "python",
   "nbconvert_exporter": "python",
   "pygments_lexer": "ipython3",
   "version": "3.8.8"
  }
 },
 "nbformat": 4,
 "nbformat_minor": 5
}
