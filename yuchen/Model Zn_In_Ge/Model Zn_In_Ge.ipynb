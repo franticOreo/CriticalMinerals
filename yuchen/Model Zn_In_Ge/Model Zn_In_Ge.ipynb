{
 "cells": [
  {
   "cell_type": "code",
   "execution_count": 134,
   "source": [
    "import pandas as pd\n",
    "import numpy as np\n",
    "import geopy.distance\n",
    "import fiona\n",
    "from tqdm import tqdm\n",
    "import matplotlib.pyplot as plt"
   ],
   "outputs": [],
   "metadata": {}
  },
  {
   "cell_type": "markdown",
   "source": [
    "### Shape file to CSV"
   ],
   "metadata": {}
  },
  {
   "cell_type": "code",
   "execution_count": 135,
   "source": [
    "df_SC = fiona.open('MINEDEX - Cu-Pb-Zn (TARGET) Zn (Site Commodity).shp')\n",
    "df_SC.next()['properties']"
   ],
   "outputs": [
    {
     "output_type": "stream",
     "name": "stderr",
     "text": [
      "/Users/zhengyuchen/opt/anaconda3/envs/cits5508-fix/lib/python3.7/site-packages/ipykernel_launcher.py:2: FionaDeprecationWarning: Collection.__next__() is buggy and will be removed in Fiona 2.0. Switch to `next(iter(collection))`.\n",
      "  \n"
     ]
    },
    {
     "output_type": "execute_result",
     "data": {
      "text/plain": [
       "OrderedDict([('SITE_CODE', 'S0001179'),\n",
       "             ('SITE_TITLE', 'Bonnie Rock BM'),\n",
       "             ('SHORT_NAME', 'Bonnie Rock BM'),\n",
       "             ('SITE_COMMO', 'Pb, Ag, Zn, Mn'),\n",
       "             ('SITE_TYPE_', 'Deposit'),\n",
       "             ('SITE_SUB_T', 'Unspecified'),\n",
       "             ('SITE_STAGE', 'Undeveloped'),\n",
       "             ('TARGET_COM', 'COPPER - LEAD - ZINC'),\n",
       "             ('COMMODITY', 'BASE METAL'),\n",
       "             ('PROJ_CODE', 'J00453'),\n",
       "             ('PROJ_TITLE', 'Gossan Dam - Bonnie Rock'),\n",
       "             ('CONFIDENTI', 'Public'),\n",
       "             ('POINT_CONF', 'Public'),\n",
       "             ('LATITUDE', -30.694559),\n",
       "             ('LONGITUDE', 118.315903),\n",
       "             ('WEB_LINK',\n",
       "              'https://minedex.dmirs.wa.gov.au/Web/common/jump.jsp?jumpType=SITE&id=S0001179'),\n",
       "             ('EXTRACT_DA', '2021-07-28')])"
      ]
     },
     "metadata": {},
     "execution_count": 135
    }
   ],
   "metadata": {}
  },
  {
   "cell_type": "code",
   "execution_count": 136,
   "source": [
    "df = fiona.open('MINEDEX - Cu-Pb-Zn (TARGET).shp')\n",
    "df.next()['properties']"
   ],
   "outputs": [
    {
     "output_type": "stream",
     "name": "stderr",
     "text": [
      "/Users/zhengyuchen/opt/anaconda3/envs/cits5508-fix/lib/python3.7/site-packages/ipykernel_launcher.py:2: FionaDeprecationWarning: Collection.__next__() is buggy and will be removed in Fiona 2.0. Switch to `next(iter(collection))`.\n",
      "  \n"
     ]
    },
    {
     "output_type": "execute_result",
     "data": {
      "text/plain": [
       "OrderedDict([('SITE_CODE', 'S0000854'),\n",
       "             ('SITE_TITLE', 'Horseshoe Lights'),\n",
       "             ('SHORT_NAME', 'Horseshoe Lights'),\n",
       "             ('SITE_COMMO', 'Cu, Au, Ag'),\n",
       "             ('SITE_TYPE_', 'Mine'),\n",
       "             ('SITE_SUB_T', 'Openpit'),\n",
       "             ('SITE_STAGE', 'Care and Maintenance'),\n",
       "             ('TARGET_COM', 'COPPER - LEAD - ZINC'),\n",
       "             ('COMMODITY', 'BASE METAL'),\n",
       "             ('PROJ_CODE', 'J00164'),\n",
       "             ('PROJ_TITLE', 'Horseshoe Lights'),\n",
       "             ('CONFIDENTI', 'Public'),\n",
       "             ('POINT_CONF', 'Public'),\n",
       "             ('LATITUDE', -25.361719),\n",
       "             ('LONGITUDE', 118.6213),\n",
       "             ('WEB_LINK',\n",
       "              'https://minedex.dmirs.wa.gov.au/Web/common/jump.jsp?jumpType=SITE&id=S0000854'),\n",
       "             ('EXTRACT_DA', '2021-07-28')])"
      ]
     },
     "metadata": {},
     "execution_count": 136
    }
   ],
   "metadata": {}
  },
  {
   "cell_type": "code",
   "execution_count": 137,
   "source": [
    "ordered_dicts = []\n",
    "\n",
    "for item in df_SC.items():\n",
    "    ordered_dicts.append(item[1])\n",
    "df_SC = pd.DataFrame([ordered_dicts[i]['properties'] for i, _ in enumerate(ordered_dicts)])\n",
    "df_SC.head()"
   ],
   "outputs": [
    {
     "output_type": "execute_result",
     "data": {
      "text/html": [
       "<div>\n",
       "<style scoped>\n",
       "    .dataframe tbody tr th:only-of-type {\n",
       "        vertical-align: middle;\n",
       "    }\n",
       "\n",
       "    .dataframe tbody tr th {\n",
       "        vertical-align: top;\n",
       "    }\n",
       "\n",
       "    .dataframe thead th {\n",
       "        text-align: right;\n",
       "    }\n",
       "</style>\n",
       "<table border=\"1\" class=\"dataframe\">\n",
       "  <thead>\n",
       "    <tr style=\"text-align: right;\">\n",
       "      <th></th>\n",
       "      <th>SITE_CODE</th>\n",
       "      <th>SITE_TITLE</th>\n",
       "      <th>SHORT_NAME</th>\n",
       "      <th>SITE_COMMO</th>\n",
       "      <th>SITE_TYPE_</th>\n",
       "      <th>SITE_SUB_T</th>\n",
       "      <th>SITE_STAGE</th>\n",
       "      <th>TARGET_COM</th>\n",
       "      <th>COMMODITY</th>\n",
       "      <th>PROJ_CODE</th>\n",
       "      <th>PROJ_TITLE</th>\n",
       "      <th>CONFIDENTI</th>\n",
       "      <th>POINT_CONF</th>\n",
       "      <th>LATITUDE</th>\n",
       "      <th>LONGITUDE</th>\n",
       "      <th>WEB_LINK</th>\n",
       "      <th>EXTRACT_DA</th>\n",
       "    </tr>\n",
       "  </thead>\n",
       "  <tbody>\n",
       "    <tr>\n",
       "      <th>0</th>\n",
       "      <td>S0001179</td>\n",
       "      <td>Bonnie Rock BM</td>\n",
       "      <td>Bonnie Rock BM</td>\n",
       "      <td>Pb, Ag, Zn, Mn</td>\n",
       "      <td>Deposit</td>\n",
       "      <td>Unspecified</td>\n",
       "      <td>Undeveloped</td>\n",
       "      <td>COPPER - LEAD - ZINC</td>\n",
       "      <td>BASE METAL</td>\n",
       "      <td>J00453</td>\n",
       "      <td>Gossan Dam - Bonnie Rock</td>\n",
       "      <td>Public</td>\n",
       "      <td>Public</td>\n",
       "      <td>-30.694559</td>\n",
       "      <td>118.315903</td>\n",
       "      <td>https://minedex.dmirs.wa.gov.au/Web/common/jum...</td>\n",
       "      <td>2021-07-28</td>\n",
       "    </tr>\n",
       "    <tr>\n",
       "      <th>1</th>\n",
       "      <td>S0001250</td>\n",
       "      <td>Manindi - Freddie Well Resource Group</td>\n",
       "      <td>Manindi Res Gp</td>\n",
       "      <td>Zn, Cu</td>\n",
       "      <td>Deposit</td>\n",
       "      <td>Unspecified</td>\n",
       "      <td>Undeveloped</td>\n",
       "      <td>COPPER - LEAD - ZINC</td>\n",
       "      <td>BASE METAL</td>\n",
       "      <td>J00522</td>\n",
       "      <td>Manindi</td>\n",
       "      <td>Public</td>\n",
       "      <td>Public</td>\n",
       "      <td>-28.751856</td>\n",
       "      <td>118.683032</td>\n",
       "      <td>https://minedex.dmirs.wa.gov.au/Web/common/jum...</td>\n",
       "      <td>2021-07-28</td>\n",
       "    </tr>\n",
       "    <tr>\n",
       "      <th>2</th>\n",
       "      <td>S0001256</td>\n",
       "      <td>Gossan Hill Portal</td>\n",
       "      <td>Gossan Hill U/G</td>\n",
       "      <td>Cu, Zn, Pb, Ag, Au</td>\n",
       "      <td>Mine</td>\n",
       "      <td>Decline</td>\n",
       "      <td>Operating</td>\n",
       "      <td>COPPER - LEAD - ZINC</td>\n",
       "      <td>BASE METAL</td>\n",
       "      <td>J00527</td>\n",
       "      <td>Golden Grove</td>\n",
       "      <td>Public</td>\n",
       "      <td>Public</td>\n",
       "      <td>-28.765087</td>\n",
       "      <td>116.962407</td>\n",
       "      <td>https://minedex.dmirs.wa.gov.au/Web/common/jum...</td>\n",
       "      <td>2021-07-28</td>\n",
       "    </tr>\n",
       "    <tr>\n",
       "      <th>3</th>\n",
       "      <td>S0001257</td>\n",
       "      <td>Scuddles Portal</td>\n",
       "      <td>Scuddles U/G</td>\n",
       "      <td>Zn, Pb, Cu, Ag, Au</td>\n",
       "      <td>Mine</td>\n",
       "      <td>Decline</td>\n",
       "      <td>Operating</td>\n",
       "      <td>COPPER - LEAD - ZINC</td>\n",
       "      <td>BASE METAL</td>\n",
       "      <td>J00527</td>\n",
       "      <td>Golden Grove</td>\n",
       "      <td>Public</td>\n",
       "      <td>Public</td>\n",
       "      <td>-28.744567</td>\n",
       "      <td>116.945103</td>\n",
       "      <td>https://minedex.dmirs.wa.gov.au/Web/common/jum...</td>\n",
       "      <td>2021-07-28</td>\n",
       "    </tr>\n",
       "    <tr>\n",
       "      <th>4</th>\n",
       "      <td>S0001335</td>\n",
       "      <td>Hammerhead - Lennons Find</td>\n",
       "      <td>Hammerhead</td>\n",
       "      <td>Zn, Pb, Ag</td>\n",
       "      <td>Deposit</td>\n",
       "      <td>Unspecified</td>\n",
       "      <td>Undeveloped</td>\n",
       "      <td>COPPER - LEAD - ZINC</td>\n",
       "      <td>BASE METAL</td>\n",
       "      <td>J00563</td>\n",
       "      <td>Lennons Find</td>\n",
       "      <td>Public</td>\n",
       "      <td>Public</td>\n",
       "      <td>-21.355850</td>\n",
       "      <td>120.239098</td>\n",
       "      <td>https://minedex.dmirs.wa.gov.au/Web/common/jum...</td>\n",
       "      <td>2021-07-28</td>\n",
       "    </tr>\n",
       "  </tbody>\n",
       "</table>\n",
       "</div>"
      ],
      "text/plain": [
       "  SITE_CODE                             SITE_TITLE       SHORT_NAME  \\\n",
       "0  S0001179                         Bonnie Rock BM   Bonnie Rock BM   \n",
       "1  S0001250  Manindi - Freddie Well Resource Group   Manindi Res Gp   \n",
       "2  S0001256                     Gossan Hill Portal  Gossan Hill U/G   \n",
       "3  S0001257                        Scuddles Portal     Scuddles U/G   \n",
       "4  S0001335              Hammerhead - Lennons Find       Hammerhead   \n",
       "\n",
       "           SITE_COMMO SITE_TYPE_   SITE_SUB_T   SITE_STAGE  \\\n",
       "0      Pb, Ag, Zn, Mn    Deposit  Unspecified  Undeveloped   \n",
       "1              Zn, Cu    Deposit  Unspecified  Undeveloped   \n",
       "2  Cu, Zn, Pb, Ag, Au       Mine      Decline    Operating   \n",
       "3  Zn, Pb, Cu, Ag, Au       Mine      Decline    Operating   \n",
       "4          Zn, Pb, Ag    Deposit  Unspecified  Undeveloped   \n",
       "\n",
       "             TARGET_COM   COMMODITY PROJ_CODE                PROJ_TITLE  \\\n",
       "0  COPPER - LEAD - ZINC  BASE METAL    J00453  Gossan Dam - Bonnie Rock   \n",
       "1  COPPER - LEAD - ZINC  BASE METAL    J00522                   Manindi   \n",
       "2  COPPER - LEAD - ZINC  BASE METAL    J00527              Golden Grove   \n",
       "3  COPPER - LEAD - ZINC  BASE METAL    J00527              Golden Grove   \n",
       "4  COPPER - LEAD - ZINC  BASE METAL    J00563              Lennons Find   \n",
       "\n",
       "  CONFIDENTI POINT_CONF   LATITUDE   LONGITUDE  \\\n",
       "0     Public     Public -30.694559  118.315903   \n",
       "1     Public     Public -28.751856  118.683032   \n",
       "2     Public     Public -28.765087  116.962407   \n",
       "3     Public     Public -28.744567  116.945103   \n",
       "4     Public     Public -21.355850  120.239098   \n",
       "\n",
       "                                            WEB_LINK  EXTRACT_DA  \n",
       "0  https://minedex.dmirs.wa.gov.au/Web/common/jum...  2021-07-28  \n",
       "1  https://minedex.dmirs.wa.gov.au/Web/common/jum...  2021-07-28  \n",
       "2  https://minedex.dmirs.wa.gov.au/Web/common/jum...  2021-07-28  \n",
       "3  https://minedex.dmirs.wa.gov.au/Web/common/jum...  2021-07-28  \n",
       "4  https://minedex.dmirs.wa.gov.au/Web/common/jum...  2021-07-28  "
      ]
     },
     "metadata": {},
     "execution_count": 137
    }
   ],
   "metadata": {}
  },
  {
   "cell_type": "code",
   "execution_count": 138,
   "source": [
    "ordered_dicts = []\n",
    "\n",
    "for item in df.items():\n",
    "    ordered_dicts.append(item[1])\n",
    "df = pd.DataFrame([ordered_dicts[i]['properties'] for i, _ in enumerate(ordered_dicts)])\n",
    "df.head()"
   ],
   "outputs": [
    {
     "output_type": "execute_result",
     "data": {
      "text/html": [
       "<div>\n",
       "<style scoped>\n",
       "    .dataframe tbody tr th:only-of-type {\n",
       "        vertical-align: middle;\n",
       "    }\n",
       "\n",
       "    .dataframe tbody tr th {\n",
       "        vertical-align: top;\n",
       "    }\n",
       "\n",
       "    .dataframe thead th {\n",
       "        text-align: right;\n",
       "    }\n",
       "</style>\n",
       "<table border=\"1\" class=\"dataframe\">\n",
       "  <thead>\n",
       "    <tr style=\"text-align: right;\">\n",
       "      <th></th>\n",
       "      <th>SITE_CODE</th>\n",
       "      <th>SITE_TITLE</th>\n",
       "      <th>SHORT_NAME</th>\n",
       "      <th>SITE_COMMO</th>\n",
       "      <th>SITE_TYPE_</th>\n",
       "      <th>SITE_SUB_T</th>\n",
       "      <th>SITE_STAGE</th>\n",
       "      <th>TARGET_COM</th>\n",
       "      <th>COMMODITY</th>\n",
       "      <th>PROJ_CODE</th>\n",
       "      <th>PROJ_TITLE</th>\n",
       "      <th>CONFIDENTI</th>\n",
       "      <th>POINT_CONF</th>\n",
       "      <th>LATITUDE</th>\n",
       "      <th>LONGITUDE</th>\n",
       "      <th>WEB_LINK</th>\n",
       "      <th>EXTRACT_DA</th>\n",
       "    </tr>\n",
       "  </thead>\n",
       "  <tbody>\n",
       "    <tr>\n",
       "      <th>0</th>\n",
       "      <td>S0000854</td>\n",
       "      <td>Horseshoe Lights</td>\n",
       "      <td>Horseshoe Lights</td>\n",
       "      <td>Cu, Au, Ag</td>\n",
       "      <td>Mine</td>\n",
       "      <td>Openpit</td>\n",
       "      <td>Care and Maintenance</td>\n",
       "      <td>COPPER - LEAD - ZINC</td>\n",
       "      <td>BASE METAL</td>\n",
       "      <td>J00164</td>\n",
       "      <td>Horseshoe Lights</td>\n",
       "      <td>Public</td>\n",
       "      <td>Public</td>\n",
       "      <td>-25.361719</td>\n",
       "      <td>118.621300</td>\n",
       "      <td>https://minedex.dmirs.wa.gov.au/Web/common/jum...</td>\n",
       "      <td>2021-07-28</td>\n",
       "    </tr>\n",
       "    <tr>\n",
       "      <th>1</th>\n",
       "      <td>S0001179</td>\n",
       "      <td>Bonnie Rock BM</td>\n",
       "      <td>Bonnie Rock BM</td>\n",
       "      <td>Pb, Ag, Zn, Mn</td>\n",
       "      <td>Deposit</td>\n",
       "      <td>Unspecified</td>\n",
       "      <td>Undeveloped</td>\n",
       "      <td>COPPER - LEAD - ZINC</td>\n",
       "      <td>BASE METAL</td>\n",
       "      <td>J00453</td>\n",
       "      <td>Gossan Dam - Bonnie Rock</td>\n",
       "      <td>Public</td>\n",
       "      <td>Public</td>\n",
       "      <td>-30.694559</td>\n",
       "      <td>118.315903</td>\n",
       "      <td>https://minedex.dmirs.wa.gov.au/Web/common/jum...</td>\n",
       "      <td>2021-07-28</td>\n",
       "    </tr>\n",
       "    <tr>\n",
       "      <th>2</th>\n",
       "      <td>S0001213</td>\n",
       "      <td>Copper Gorge</td>\n",
       "      <td>Copper Gorge</td>\n",
       "      <td>Cu</td>\n",
       "      <td>Prospect</td>\n",
       "      <td>Drillhole</td>\n",
       "      <td>Undeveloped</td>\n",
       "      <td>COPPER - LEAD - ZINC</td>\n",
       "      <td>BASE METAL</td>\n",
       "      <td>J00486</td>\n",
       "      <td>Otway</td>\n",
       "      <td>Public</td>\n",
       "      <td>Public</td>\n",
       "      <td>-21.608749</td>\n",
       "      <td>120.350098</td>\n",
       "      <td>https://minedex.dmirs.wa.gov.au/Web/common/jum...</td>\n",
       "      <td>2021-07-28</td>\n",
       "    </tr>\n",
       "    <tr>\n",
       "      <th>3</th>\n",
       "      <td>S0001250</td>\n",
       "      <td>Manindi - Freddie Well Resource Group</td>\n",
       "      <td>Manindi Res Gp</td>\n",
       "      <td>Zn, Cu</td>\n",
       "      <td>Deposit</td>\n",
       "      <td>Unspecified</td>\n",
       "      <td>Undeveloped</td>\n",
       "      <td>COPPER - LEAD - ZINC</td>\n",
       "      <td>BASE METAL</td>\n",
       "      <td>J00522</td>\n",
       "      <td>Manindi</td>\n",
       "      <td>Public</td>\n",
       "      <td>Public</td>\n",
       "      <td>-28.751856</td>\n",
       "      <td>118.683032</td>\n",
       "      <td>https://minedex.dmirs.wa.gov.au/Web/common/jum...</td>\n",
       "      <td>2021-07-28</td>\n",
       "    </tr>\n",
       "    <tr>\n",
       "      <th>4</th>\n",
       "      <td>S0001256</td>\n",
       "      <td>Gossan Hill Portal</td>\n",
       "      <td>Gossan Hill U/G</td>\n",
       "      <td>Cu, Zn, Pb, Ag, Au</td>\n",
       "      <td>Mine</td>\n",
       "      <td>Decline</td>\n",
       "      <td>Operating</td>\n",
       "      <td>COPPER - LEAD - ZINC</td>\n",
       "      <td>BASE METAL</td>\n",
       "      <td>J00527</td>\n",
       "      <td>Golden Grove</td>\n",
       "      <td>Public</td>\n",
       "      <td>Public</td>\n",
       "      <td>-28.765087</td>\n",
       "      <td>116.962407</td>\n",
       "      <td>https://minedex.dmirs.wa.gov.au/Web/common/jum...</td>\n",
       "      <td>2021-07-28</td>\n",
       "    </tr>\n",
       "  </tbody>\n",
       "</table>\n",
       "</div>"
      ],
      "text/plain": [
       "  SITE_CODE                             SITE_TITLE        SHORT_NAME  \\\n",
       "0  S0000854                       Horseshoe Lights  Horseshoe Lights   \n",
       "1  S0001179                         Bonnie Rock BM    Bonnie Rock BM   \n",
       "2  S0001213                           Copper Gorge      Copper Gorge   \n",
       "3  S0001250  Manindi - Freddie Well Resource Group    Manindi Res Gp   \n",
       "4  S0001256                     Gossan Hill Portal   Gossan Hill U/G   \n",
       "\n",
       "           SITE_COMMO SITE_TYPE_   SITE_SUB_T            SITE_STAGE  \\\n",
       "0          Cu, Au, Ag       Mine      Openpit  Care and Maintenance   \n",
       "1      Pb, Ag, Zn, Mn    Deposit  Unspecified           Undeveloped   \n",
       "2                  Cu   Prospect    Drillhole           Undeveloped   \n",
       "3              Zn, Cu    Deposit  Unspecified           Undeveloped   \n",
       "4  Cu, Zn, Pb, Ag, Au       Mine      Decline             Operating   \n",
       "\n",
       "             TARGET_COM   COMMODITY PROJ_CODE                PROJ_TITLE  \\\n",
       "0  COPPER - LEAD - ZINC  BASE METAL    J00164          Horseshoe Lights   \n",
       "1  COPPER - LEAD - ZINC  BASE METAL    J00453  Gossan Dam - Bonnie Rock   \n",
       "2  COPPER - LEAD - ZINC  BASE METAL    J00486                     Otway   \n",
       "3  COPPER - LEAD - ZINC  BASE METAL    J00522                   Manindi   \n",
       "4  COPPER - LEAD - ZINC  BASE METAL    J00527              Golden Grove   \n",
       "\n",
       "  CONFIDENTI POINT_CONF   LATITUDE   LONGITUDE  \\\n",
       "0     Public     Public -25.361719  118.621300   \n",
       "1     Public     Public -30.694559  118.315903   \n",
       "2     Public     Public -21.608749  120.350098   \n",
       "3     Public     Public -28.751856  118.683032   \n",
       "4     Public     Public -28.765087  116.962407   \n",
       "\n",
       "                                            WEB_LINK  EXTRACT_DA  \n",
       "0  https://minedex.dmirs.wa.gov.au/Web/common/jum...  2021-07-28  \n",
       "1  https://minedex.dmirs.wa.gov.au/Web/common/jum...  2021-07-28  \n",
       "2  https://minedex.dmirs.wa.gov.au/Web/common/jum...  2021-07-28  \n",
       "3  https://minedex.dmirs.wa.gov.au/Web/common/jum...  2021-07-28  \n",
       "4  https://minedex.dmirs.wa.gov.au/Web/common/jum...  2021-07-28  "
      ]
     },
     "metadata": {},
     "execution_count": 138
    }
   ],
   "metadata": {}
  },
  {
   "cell_type": "code",
   "execution_count": 139,
   "source": [
    "df_Zn = df[df['SITE_COMMO'].str.contains('Zn')]\n",
    "df_Zn.shape"
   ],
   "outputs": [
    {
     "output_type": "execute_result",
     "data": {
      "text/plain": [
       "(964, 17)"
      ]
     },
     "metadata": {},
     "execution_count": 139
    }
   ],
   "metadata": {}
  },
  {
   "cell_type": "code",
   "execution_count": 140,
   "source": [
    "df_SC.shape"
   ],
   "outputs": [
    {
     "output_type": "execute_result",
     "data": {
      "text/plain": [
       "(964, 17)"
      ]
     },
     "metadata": {},
     "execution_count": 140
    }
   ],
   "metadata": {}
  },
  {
   "cell_type": "code",
   "execution_count": 141,
   "source": [
    "# The SITE_COMMO column in MINEDEX-Cu-Pb-Zn(TARGET).csv contains Zn\n",
    "# -> MINEDEX-Cu-Pb-Zn(TARGET)Zn(Site Commodity).csv\n",
    "df_SC.to_csv('MINEDEX-Cu-Pb-Zn(TARGET)Zn(Site Commodity).csv')\n",
    "df.to_csv('MINEDEX-Cu-Pb-Zn(TARGET)')"
   ],
   "outputs": [],
   "metadata": {}
  },
  {
   "cell_type": "code",
   "execution_count": 142,
   "source": [
    "df_minedex = pd.read_csv('MINEDEX-Cu-Pb-Zn(TARGET)Zn(Site Commodity).csv')"
   ],
   "outputs": [],
   "metadata": {}
  },
  {
   "cell_type": "markdown",
   "source": [
    "### Filter CSV"
   ],
   "metadata": {}
  },
  {
   "cell_type": "code",
   "execution_count": 143,
   "source": [
    "df_minedex = df_minedex.loc[(df_minedex['SITE_TYPE_'] == 'Mine') | (df_minedex['SITE_TYPE_'] == 'Deposit')]"
   ],
   "outputs": [],
   "metadata": {}
  },
  {
   "cell_type": "code",
   "execution_count": 144,
   "source": [
    "df_minedex.shape"
   ],
   "outputs": [
    {
     "output_type": "execute_result",
     "data": {
      "text/plain": [
       "(159, 18)"
      ]
     },
     "metadata": {},
     "execution_count": 144
    }
   ],
   "metadata": {}
  },
  {
   "cell_type": "code",
   "execution_count": 145,
   "source": [
    "df_minedex.head()"
   ],
   "outputs": [
    {
     "output_type": "execute_result",
     "data": {
      "text/html": [
       "<div>\n",
       "<style scoped>\n",
       "    .dataframe tbody tr th:only-of-type {\n",
       "        vertical-align: middle;\n",
       "    }\n",
       "\n",
       "    .dataframe tbody tr th {\n",
       "        vertical-align: top;\n",
       "    }\n",
       "\n",
       "    .dataframe thead th {\n",
       "        text-align: right;\n",
       "    }\n",
       "</style>\n",
       "<table border=\"1\" class=\"dataframe\">\n",
       "  <thead>\n",
       "    <tr style=\"text-align: right;\">\n",
       "      <th></th>\n",
       "      <th>Unnamed: 0</th>\n",
       "      <th>SITE_CODE</th>\n",
       "      <th>SITE_TITLE</th>\n",
       "      <th>SHORT_NAME</th>\n",
       "      <th>SITE_COMMO</th>\n",
       "      <th>SITE_TYPE_</th>\n",
       "      <th>SITE_SUB_T</th>\n",
       "      <th>SITE_STAGE</th>\n",
       "      <th>TARGET_COM</th>\n",
       "      <th>COMMODITY</th>\n",
       "      <th>PROJ_CODE</th>\n",
       "      <th>PROJ_TITLE</th>\n",
       "      <th>CONFIDENTI</th>\n",
       "      <th>POINT_CONF</th>\n",
       "      <th>LATITUDE</th>\n",
       "      <th>LONGITUDE</th>\n",
       "      <th>WEB_LINK</th>\n",
       "      <th>EXTRACT_DA</th>\n",
       "    </tr>\n",
       "  </thead>\n",
       "  <tbody>\n",
       "    <tr>\n",
       "      <th>0</th>\n",
       "      <td>0</td>\n",
       "      <td>S0001179</td>\n",
       "      <td>Bonnie Rock BM</td>\n",
       "      <td>Bonnie Rock BM</td>\n",
       "      <td>Pb, Ag, Zn, Mn</td>\n",
       "      <td>Deposit</td>\n",
       "      <td>Unspecified</td>\n",
       "      <td>Undeveloped</td>\n",
       "      <td>COPPER - LEAD - ZINC</td>\n",
       "      <td>BASE METAL</td>\n",
       "      <td>J00453</td>\n",
       "      <td>Gossan Dam - Bonnie Rock</td>\n",
       "      <td>Public</td>\n",
       "      <td>Public</td>\n",
       "      <td>-30.694559</td>\n",
       "      <td>118.315903</td>\n",
       "      <td>https://minedex.dmirs.wa.gov.au/Web/common/jum...</td>\n",
       "      <td>2021-07-28</td>\n",
       "    </tr>\n",
       "    <tr>\n",
       "      <th>1</th>\n",
       "      <td>1</td>\n",
       "      <td>S0001250</td>\n",
       "      <td>Manindi - Freddie Well Resource Group</td>\n",
       "      <td>Manindi Res Gp</td>\n",
       "      <td>Zn, Cu</td>\n",
       "      <td>Deposit</td>\n",
       "      <td>Unspecified</td>\n",
       "      <td>Undeveloped</td>\n",
       "      <td>COPPER - LEAD - ZINC</td>\n",
       "      <td>BASE METAL</td>\n",
       "      <td>J00522</td>\n",
       "      <td>Manindi</td>\n",
       "      <td>Public</td>\n",
       "      <td>Public</td>\n",
       "      <td>-28.751856</td>\n",
       "      <td>118.683032</td>\n",
       "      <td>https://minedex.dmirs.wa.gov.au/Web/common/jum...</td>\n",
       "      <td>2021-07-28</td>\n",
       "    </tr>\n",
       "    <tr>\n",
       "      <th>2</th>\n",
       "      <td>2</td>\n",
       "      <td>S0001256</td>\n",
       "      <td>Gossan Hill Portal</td>\n",
       "      <td>Gossan Hill U/G</td>\n",
       "      <td>Cu, Zn, Pb, Ag, Au</td>\n",
       "      <td>Mine</td>\n",
       "      <td>Decline</td>\n",
       "      <td>Operating</td>\n",
       "      <td>COPPER - LEAD - ZINC</td>\n",
       "      <td>BASE METAL</td>\n",
       "      <td>J00527</td>\n",
       "      <td>Golden Grove</td>\n",
       "      <td>Public</td>\n",
       "      <td>Public</td>\n",
       "      <td>-28.765087</td>\n",
       "      <td>116.962407</td>\n",
       "      <td>https://minedex.dmirs.wa.gov.au/Web/common/jum...</td>\n",
       "      <td>2021-07-28</td>\n",
       "    </tr>\n",
       "    <tr>\n",
       "      <th>3</th>\n",
       "      <td>3</td>\n",
       "      <td>S0001257</td>\n",
       "      <td>Scuddles Portal</td>\n",
       "      <td>Scuddles U/G</td>\n",
       "      <td>Zn, Pb, Cu, Ag, Au</td>\n",
       "      <td>Mine</td>\n",
       "      <td>Decline</td>\n",
       "      <td>Operating</td>\n",
       "      <td>COPPER - LEAD - ZINC</td>\n",
       "      <td>BASE METAL</td>\n",
       "      <td>J00527</td>\n",
       "      <td>Golden Grove</td>\n",
       "      <td>Public</td>\n",
       "      <td>Public</td>\n",
       "      <td>-28.744567</td>\n",
       "      <td>116.945103</td>\n",
       "      <td>https://minedex.dmirs.wa.gov.au/Web/common/jum...</td>\n",
       "      <td>2021-07-28</td>\n",
       "    </tr>\n",
       "    <tr>\n",
       "      <th>4</th>\n",
       "      <td>4</td>\n",
       "      <td>S0001335</td>\n",
       "      <td>Hammerhead - Lennons Find</td>\n",
       "      <td>Hammerhead</td>\n",
       "      <td>Zn, Pb, Ag</td>\n",
       "      <td>Deposit</td>\n",
       "      <td>Unspecified</td>\n",
       "      <td>Undeveloped</td>\n",
       "      <td>COPPER - LEAD - ZINC</td>\n",
       "      <td>BASE METAL</td>\n",
       "      <td>J00563</td>\n",
       "      <td>Lennons Find</td>\n",
       "      <td>Public</td>\n",
       "      <td>Public</td>\n",
       "      <td>-21.355850</td>\n",
       "      <td>120.239098</td>\n",
       "      <td>https://minedex.dmirs.wa.gov.au/Web/common/jum...</td>\n",
       "      <td>2021-07-28</td>\n",
       "    </tr>\n",
       "  </tbody>\n",
       "</table>\n",
       "</div>"
      ],
      "text/plain": [
       "   Unnamed: 0 SITE_CODE                             SITE_TITLE  \\\n",
       "0           0  S0001179                         Bonnie Rock BM   \n",
       "1           1  S0001250  Manindi - Freddie Well Resource Group   \n",
       "2           2  S0001256                     Gossan Hill Portal   \n",
       "3           3  S0001257                        Scuddles Portal   \n",
       "4           4  S0001335              Hammerhead - Lennons Find   \n",
       "\n",
       "        SHORT_NAME          SITE_COMMO SITE_TYPE_   SITE_SUB_T   SITE_STAGE  \\\n",
       "0   Bonnie Rock BM      Pb, Ag, Zn, Mn    Deposit  Unspecified  Undeveloped   \n",
       "1   Manindi Res Gp              Zn, Cu    Deposit  Unspecified  Undeveloped   \n",
       "2  Gossan Hill U/G  Cu, Zn, Pb, Ag, Au       Mine      Decline    Operating   \n",
       "3     Scuddles U/G  Zn, Pb, Cu, Ag, Au       Mine      Decline    Operating   \n",
       "4       Hammerhead          Zn, Pb, Ag    Deposit  Unspecified  Undeveloped   \n",
       "\n",
       "             TARGET_COM   COMMODITY PROJ_CODE                PROJ_TITLE  \\\n",
       "0  COPPER - LEAD - ZINC  BASE METAL    J00453  Gossan Dam - Bonnie Rock   \n",
       "1  COPPER - LEAD - ZINC  BASE METAL    J00522                   Manindi   \n",
       "2  COPPER - LEAD - ZINC  BASE METAL    J00527              Golden Grove   \n",
       "3  COPPER - LEAD - ZINC  BASE METAL    J00527              Golden Grove   \n",
       "4  COPPER - LEAD - ZINC  BASE METAL    J00563              Lennons Find   \n",
       "\n",
       "  CONFIDENTI POINT_CONF   LATITUDE   LONGITUDE  \\\n",
       "0     Public     Public -30.694559  118.315903   \n",
       "1     Public     Public -28.751856  118.683032   \n",
       "2     Public     Public -28.765087  116.962407   \n",
       "3     Public     Public -28.744567  116.945103   \n",
       "4     Public     Public -21.355850  120.239098   \n",
       "\n",
       "                                            WEB_LINK  EXTRACT_DA  \n",
       "0  https://minedex.dmirs.wa.gov.au/Web/common/jum...  2021-07-28  \n",
       "1  https://minedex.dmirs.wa.gov.au/Web/common/jum...  2021-07-28  \n",
       "2  https://minedex.dmirs.wa.gov.au/Web/common/jum...  2021-07-28  \n",
       "3  https://minedex.dmirs.wa.gov.au/Web/common/jum...  2021-07-28  \n",
       "4  https://minedex.dmirs.wa.gov.au/Web/common/jum...  2021-07-28  "
      ]
     },
     "metadata": {},
     "execution_count": 145
    }
   ],
   "metadata": {}
  },
  {
   "cell_type": "code",
   "execution_count": 146,
   "source": [
    "#Count by site type\n",
    "df_minedex['SITE_TYPE_'].value_counts()"
   ],
   "outputs": [
    {
     "output_type": "execute_result",
     "data": {
      "text/plain": [
       "Mine       95\n",
       "Deposit    64\n",
       "Name: SITE_TYPE_, dtype: int64"
      ]
     },
     "metadata": {},
     "execution_count": 146
    }
   ],
   "metadata": {}
  },
  {
   "cell_type": "code",
   "execution_count": 147,
   "source": [
    "df_minedex['SITE_COMMO'].value_counts()"
   ],
   "outputs": [
    {
     "output_type": "execute_result",
     "data": {
      "text/plain": [
       "Pb, Zn, Ag                              23\n",
       "Zn, Pb                                  15\n",
       "Zn, Pb, Ag                              13\n",
       "Cu, Zn, Pb, Ag, Au                       9\n",
       "Pb, Zn                                   8\n",
       "Zn, Cu, Ag, Pb                           6\n",
       "Zn, Cu                                   6\n",
       "Zn, Cu, Pb, Ag, Au                       5\n",
       "Zn, Pb, Cu, Ag, Au                       4\n",
       "Cu, Zn, Ag                               3\n",
       "Zn, Cu, Pb, Ag                           3\n",
       "Cu, Zn                                   3\n",
       "Cu, Au, Ag, Zn, Pd, CuSpec, Ccl, Mal     3\n",
       "Cu, Pb, Zn, Au, Ag                       2\n",
       "Zn, Pb, Ag, Cu                           2\n",
       "Pb, Ag, Zn, Cu                           2\n",
       "Cu, Pb, Zn, Ag                           2\n",
       "Cu, Au, Ag, Zn, Pd                       2\n",
       "Cu, Zn, Ag, Au                           2\n",
       "Zn, Pb, Ag, Ba                           2\n",
       "Zn, Au                                   2\n",
       "Pb, Zn, Cu, Ag, Au                       2\n",
       "Zn, Cu, Ag                               2\n",
       "Zn, Cu, Ag, Au, Pb                       2\n",
       "Pb, Ag, Zn                               2\n",
       "Zn, Ag, Pb                               1\n",
       "Zn, Cu, Ag, Au                           1\n",
       "Cu, Zn, Pb, Au, Ag                       1\n",
       "Pb, Ag, Zn, Cu, Au                       1\n",
       "Cu, Au, Zn, Ag, Pb                       1\n",
       "Cu, Au, Zn, Pb, Ag                       1\n",
       "Cu, Zn, Co, Ag, Au                       1\n",
       "Pb, Cu, U, Zn, Ag                        1\n",
       "Pb, Cu, Ag, Zn                           1\n",
       "Cu, Au, W, Pb, Zn, As, Bi, Ag, Co        1\n",
       "Pb, Ag, Zn, V                            1\n",
       "Cu, Co, Ag, Pb, Zn, CuSpec               1\n",
       "Cu, Pb, Zn, Ag, Au                       1\n",
       "Zn, Pb, Ag, Ba, Brt                      1\n",
       "Zn, Pb, Cu                               1\n",
       "Cu, U, Pb, Zn, Ag                        1\n",
       "Pb, Cu, Zn, Au, Ag                       1\n",
       "Pb, Cu, Zn                               1\n",
       "Pb, Zn, Ag, Brt, Fl                      1\n",
       "Pb, Ag, Zn, Ba, Cu, Mn                   1\n",
       "Cu, Au, Ag, Pb, Zn                       1\n",
       "Zn, Au, Cu, Pb, Ag                       1\n",
       "Zn, Pb, Cu, Ag                           1\n",
       "Zn                                       1\n",
       "Cu, Au, Ag, Pb, Zn, Sb                   1\n",
       "Pb, Au, Cu, Ag, Zn, U                    1\n",
       "Pb, Cu, Zn, Ag                           1\n",
       "Pb, Ag, Cu, Zn                           1\n",
       "Zn, Cu, Au, Pb, Ag                       1\n",
       "Zn, Pb, Ag, SulSpec                      1\n",
       "Pb, Ag, Zn, Mn                           1\n",
       "Cu, Au, Zn, Ag                           1\n",
       "Zn, Cu, Pb, Au, Ag                       1\n",
       "Pb, Zn, Cu, Ag                           1\n",
       "Name: SITE_COMMO, dtype: int64"
      ]
     },
     "metadata": {},
     "execution_count": 147
    }
   ],
   "metadata": {}
  },
  {
   "cell_type": "code",
   "execution_count": 148,
   "source": [
    "data = {'minedex_lat': df_minedex['LATITUDE'], 'minedex_lon': df_minedex['LONGITUDE'], 'minedex_site': df_minedex['SITE_CODE']}\n",
    "mindex_coords_df = pd.DataFrame(data)"
   ],
   "outputs": [],
   "metadata": {}
  },
  {
   "cell_type": "code",
   "execution_count": 149,
   "source": [
    "mindex_coords_df"
   ],
   "outputs": [
    {
     "output_type": "execute_result",
     "data": {
      "text/html": [
       "<div>\n",
       "<style scoped>\n",
       "    .dataframe tbody tr th:only-of-type {\n",
       "        vertical-align: middle;\n",
       "    }\n",
       "\n",
       "    .dataframe tbody tr th {\n",
       "        vertical-align: top;\n",
       "    }\n",
       "\n",
       "    .dataframe thead th {\n",
       "        text-align: right;\n",
       "    }\n",
       "</style>\n",
       "<table border=\"1\" class=\"dataframe\">\n",
       "  <thead>\n",
       "    <tr style=\"text-align: right;\">\n",
       "      <th></th>\n",
       "      <th>minedex_lat</th>\n",
       "      <th>minedex_lon</th>\n",
       "      <th>minedex_site</th>\n",
       "    </tr>\n",
       "  </thead>\n",
       "  <tbody>\n",
       "    <tr>\n",
       "      <th>0</th>\n",
       "      <td>-30.694559</td>\n",
       "      <td>118.315903</td>\n",
       "      <td>S0001179</td>\n",
       "    </tr>\n",
       "    <tr>\n",
       "      <th>1</th>\n",
       "      <td>-28.751856</td>\n",
       "      <td>118.683032</td>\n",
       "      <td>S0001250</td>\n",
       "    </tr>\n",
       "    <tr>\n",
       "      <th>2</th>\n",
       "      <td>-28.765087</td>\n",
       "      <td>116.962407</td>\n",
       "      <td>S0001256</td>\n",
       "    </tr>\n",
       "    <tr>\n",
       "      <th>3</th>\n",
       "      <td>-28.744567</td>\n",
       "      <td>116.945103</td>\n",
       "      <td>S0001257</td>\n",
       "    </tr>\n",
       "    <tr>\n",
       "      <th>4</th>\n",
       "      <td>-21.355850</td>\n",
       "      <td>120.239098</td>\n",
       "      <td>S0001335</td>\n",
       "    </tr>\n",
       "    <tr>\n",
       "      <th>...</th>\n",
       "      <td>...</td>\n",
       "      <td>...</td>\n",
       "      <td>...</td>\n",
       "    </tr>\n",
       "    <tr>\n",
       "      <th>872</th>\n",
       "      <td>-21.146509</td>\n",
       "      <td>119.211954</td>\n",
       "      <td>S0226152</td>\n",
       "    </tr>\n",
       "    <tr>\n",
       "      <th>881</th>\n",
       "      <td>-28.483949</td>\n",
       "      <td>121.169987</td>\n",
       "      <td>S0229619</td>\n",
       "    </tr>\n",
       "    <tr>\n",
       "      <th>889</th>\n",
       "      <td>-19.222219</td>\n",
       "      <td>122.321701</td>\n",
       "      <td>S0230644</td>\n",
       "    </tr>\n",
       "    <tr>\n",
       "      <th>899</th>\n",
       "      <td>-18.321529</td>\n",
       "      <td>125.778999</td>\n",
       "      <td>S0231252</td>\n",
       "    </tr>\n",
       "    <tr>\n",
       "      <th>905</th>\n",
       "      <td>-28.397473</td>\n",
       "      <td>121.145223</td>\n",
       "      <td>S0231974</td>\n",
       "    </tr>\n",
       "  </tbody>\n",
       "</table>\n",
       "<p>159 rows × 3 columns</p>\n",
       "</div>"
      ],
      "text/plain": [
       "     minedex_lat  minedex_lon minedex_site\n",
       "0     -30.694559   118.315903     S0001179\n",
       "1     -28.751856   118.683032     S0001250\n",
       "2     -28.765087   116.962407     S0001256\n",
       "3     -28.744567   116.945103     S0001257\n",
       "4     -21.355850   120.239098     S0001335\n",
       "..           ...          ...          ...\n",
       "872   -21.146509   119.211954     S0226152\n",
       "881   -28.483949   121.169987     S0229619\n",
       "889   -19.222219   122.321701     S0230644\n",
       "899   -18.321529   125.778999     S0231252\n",
       "905   -28.397473   121.145223     S0231974\n",
       "\n",
       "[159 rows x 3 columns]"
      ]
     },
     "metadata": {},
     "execution_count": 149
    }
   ],
   "metadata": {}
  },
  {
   "cell_type": "code",
   "execution_count": 150,
   "source": [
    "mindex_coords_df['minedex_site'].nunique()"
   ],
   "outputs": [
    {
     "output_type": "execute_result",
     "data": {
      "text/plain": [
       "159"
      ]
     },
     "metadata": {},
     "execution_count": 150
    }
   ],
   "metadata": {}
  },
  {
   "cell_type": "code",
   "execution_count": 151,
   "source": [
    "mindex_coords = list(zip(mindex_coords_df['minedex_lat'], mindex_coords_df['minedex_lon']))"
   ],
   "outputs": [],
   "metadata": {}
  },
  {
   "cell_type": "code",
   "execution_count": 152,
   "source": [
    "mindex_coords_df['coords'] = mindex_coords\n",
    "mindex_coords_df.head()"
   ],
   "outputs": [
    {
     "output_type": "execute_result",
     "data": {
      "text/html": [
       "<div>\n",
       "<style scoped>\n",
       "    .dataframe tbody tr th:only-of-type {\n",
       "        vertical-align: middle;\n",
       "    }\n",
       "\n",
       "    .dataframe tbody tr th {\n",
       "        vertical-align: top;\n",
       "    }\n",
       "\n",
       "    .dataframe thead th {\n",
       "        text-align: right;\n",
       "    }\n",
       "</style>\n",
       "<table border=\"1\" class=\"dataframe\">\n",
       "  <thead>\n",
       "    <tr style=\"text-align: right;\">\n",
       "      <th></th>\n",
       "      <th>minedex_lat</th>\n",
       "      <th>minedex_lon</th>\n",
       "      <th>minedex_site</th>\n",
       "      <th>coords</th>\n",
       "    </tr>\n",
       "  </thead>\n",
       "  <tbody>\n",
       "    <tr>\n",
       "      <th>0</th>\n",
       "      <td>-30.694559</td>\n",
       "      <td>118.315903</td>\n",
       "      <td>S0001179</td>\n",
       "      <td>(-30.694559, 118.315903)</td>\n",
       "    </tr>\n",
       "    <tr>\n",
       "      <th>1</th>\n",
       "      <td>-28.751856</td>\n",
       "      <td>118.683032</td>\n",
       "      <td>S0001250</td>\n",
       "      <td>(-28.751856, 118.683032)</td>\n",
       "    </tr>\n",
       "    <tr>\n",
       "      <th>2</th>\n",
       "      <td>-28.765087</td>\n",
       "      <td>116.962407</td>\n",
       "      <td>S0001256</td>\n",
       "      <td>(-28.765087, 116.962407)</td>\n",
       "    </tr>\n",
       "    <tr>\n",
       "      <th>3</th>\n",
       "      <td>-28.744567</td>\n",
       "      <td>116.945103</td>\n",
       "      <td>S0001257</td>\n",
       "      <td>(-28.744567, 116.945103)</td>\n",
       "    </tr>\n",
       "    <tr>\n",
       "      <th>4</th>\n",
       "      <td>-21.355850</td>\n",
       "      <td>120.239098</td>\n",
       "      <td>S0001335</td>\n",
       "      <td>(-21.35585, 120.239098)</td>\n",
       "    </tr>\n",
       "  </tbody>\n",
       "</table>\n",
       "</div>"
      ],
      "text/plain": [
       "   minedex_lat  minedex_lon minedex_site                    coords\n",
       "0   -30.694559   118.315903     S0001179  (-30.694559, 118.315903)\n",
       "1   -28.751856   118.683032     S0001250  (-28.751856, 118.683032)\n",
       "2   -28.765087   116.962407     S0001256  (-28.765087, 116.962407)\n",
       "3   -28.744567   116.945103     S0001257  (-28.744567, 116.945103)\n",
       "4   -21.355850   120.239098     S0001335   (-21.35585, 120.239098)"
      ]
     },
     "metadata": {},
     "execution_count": 152
    }
   ],
   "metadata": {}
  },
  {
   "cell_type": "code",
   "execution_count": 153,
   "source": [
    "mindex_coords_df.shape"
   ],
   "outputs": [
    {
     "output_type": "execute_result",
     "data": {
      "text/plain": [
       "(159, 4)"
      ]
     },
     "metadata": {},
     "execution_count": 153
    }
   ],
   "metadata": {}
  },
  {
   "cell_type": "code",
   "execution_count": 154,
   "source": [
    "mindex_coords_df['minedex_site'].nunique()"
   ],
   "outputs": [
    {
     "output_type": "execute_result",
     "data": {
      "text/plain": [
       "159"
      ]
     },
     "metadata": {},
     "execution_count": 154
    }
   ],
   "metadata": {}
  },
  {
   "cell_type": "code",
   "execution_count": 155,
   "source": [
    "mindex_coords_df['coords'] = mindex_coords\n",
    "mindex_coords_df.head()"
   ],
   "outputs": [
    {
     "output_type": "execute_result",
     "data": {
      "text/html": [
       "<div>\n",
       "<style scoped>\n",
       "    .dataframe tbody tr th:only-of-type {\n",
       "        vertical-align: middle;\n",
       "    }\n",
       "\n",
       "    .dataframe tbody tr th {\n",
       "        vertical-align: top;\n",
       "    }\n",
       "\n",
       "    .dataframe thead th {\n",
       "        text-align: right;\n",
       "    }\n",
       "</style>\n",
       "<table border=\"1\" class=\"dataframe\">\n",
       "  <thead>\n",
       "    <tr style=\"text-align: right;\">\n",
       "      <th></th>\n",
       "      <th>minedex_lat</th>\n",
       "      <th>minedex_lon</th>\n",
       "      <th>minedex_site</th>\n",
       "      <th>coords</th>\n",
       "    </tr>\n",
       "  </thead>\n",
       "  <tbody>\n",
       "    <tr>\n",
       "      <th>0</th>\n",
       "      <td>-30.694559</td>\n",
       "      <td>118.315903</td>\n",
       "      <td>S0001179</td>\n",
       "      <td>(-30.694559, 118.315903)</td>\n",
       "    </tr>\n",
       "    <tr>\n",
       "      <th>1</th>\n",
       "      <td>-28.751856</td>\n",
       "      <td>118.683032</td>\n",
       "      <td>S0001250</td>\n",
       "      <td>(-28.751856, 118.683032)</td>\n",
       "    </tr>\n",
       "    <tr>\n",
       "      <th>2</th>\n",
       "      <td>-28.765087</td>\n",
       "      <td>116.962407</td>\n",
       "      <td>S0001256</td>\n",
       "      <td>(-28.765087, 116.962407)</td>\n",
       "    </tr>\n",
       "    <tr>\n",
       "      <th>3</th>\n",
       "      <td>-28.744567</td>\n",
       "      <td>116.945103</td>\n",
       "      <td>S0001257</td>\n",
       "      <td>(-28.744567, 116.945103)</td>\n",
       "    </tr>\n",
       "    <tr>\n",
       "      <th>4</th>\n",
       "      <td>-21.355850</td>\n",
       "      <td>120.239098</td>\n",
       "      <td>S0001335</td>\n",
       "      <td>(-21.35585, 120.239098)</td>\n",
       "    </tr>\n",
       "  </tbody>\n",
       "</table>\n",
       "</div>"
      ],
      "text/plain": [
       "   minedex_lat  minedex_lon minedex_site                    coords\n",
       "0   -30.694559   118.315903     S0001179  (-30.694559, 118.315903)\n",
       "1   -28.751856   118.683032     S0001250  (-28.751856, 118.683032)\n",
       "2   -28.765087   116.962407     S0001256  (-28.765087, 116.962407)\n",
       "3   -28.744567   116.945103     S0001257  (-28.744567, 116.945103)\n",
       "4   -21.355850   120.239098     S0001335   (-21.35585, 120.239098)"
      ]
     },
     "metadata": {},
     "execution_count": 155
    }
   ],
   "metadata": {}
  },
  {
   "cell_type": "markdown",
   "source": [
    "### WAMEX"
   ],
   "metadata": {}
  },
  {
   "cell_type": "code",
   "execution_count": 156,
   "source": [
    "df_wamex = pd.read_csv('WAMEX_with_In_Ge_MINDEX_available_minerals.csv')\n",
    "df_wamex.shape"
   ],
   "outputs": [
    {
     "output_type": "execute_result",
     "data": {
      "text/plain": [
       "(23736, 11)"
      ]
     },
     "metadata": {},
     "execution_count": 156
    }
   ],
   "metadata": {}
  },
  {
   "cell_type": "code",
   "execution_count": 157,
   "source": [
    "wamex_coords = list(zip(df_wamex['lat'], df_wamex['long']))\n",
    "wamex_coords[1:5]"
   ],
   "outputs": [
    {
     "output_type": "execute_result",
     "data": {
      "text/plain": [
       "[(-22.509684, 117.683172),\n",
       " (-22.509693, 117.683221),\n",
       " (-22.509729, 117.683279),\n",
       " (-22.509738, 117.683328)]"
      ]
     },
     "metadata": {},
     "execution_count": 157
    }
   ],
   "metadata": {}
  },
  {
   "cell_type": "code",
   "execution_count": 158,
   "source": [
    "len(wamex_coords)"
   ],
   "outputs": [
    {
     "output_type": "execute_result",
     "data": {
      "text/plain": [
       "23736"
      ]
     },
     "metadata": {},
     "execution_count": 158
    }
   ],
   "metadata": {}
  },
  {
   "cell_type": "code",
   "execution_count": 159,
   "source": [
    "wamex_coords_nodupl = tuple(set(wamex_coords))\n",
    "len(wamex_coords_nodupl)"
   ],
   "outputs": [
    {
     "output_type": "execute_result",
     "data": {
      "text/plain": [
       "18241"
      ]
     },
     "metadata": {},
     "execution_count": 159
    }
   ],
   "metadata": {}
  },
  {
   "cell_type": "markdown",
   "source": [
    "### Caculate Distance"
   ],
   "metadata": {}
  },
  {
   "cell_type": "code",
   "execution_count": 160,
   "source": [
    "new = pd.DataFrame(columns=['minedex_coords', 'minedex_site', 'wamex_lat', 'wamex_lon', 'distance',])"
   ],
   "outputs": [],
   "metadata": {}
  },
  {
   "cell_type": "code",
   "execution_count": 161,
   "source": [
    "#simple distance function try\n",
    "def calc_distance(coords_a, coords_b):\n",
    "       dist = geopy.distance.distance(coords_a, coords_b)\n",
    "       return(dist)"
   ],
   "outputs": [],
   "metadata": {}
  },
  {
   "cell_type": "code",
   "execution_count": 162,
   "source": [
    "calc_distance((-17.234642, 128.032146), (-26.78737, 118.574407))"
   ],
   "outputs": [
    {
     "output_type": "execute_result",
     "data": {
      "text/plain": [
       "Distance(1438.3974155883463)"
      ]
     },
     "metadata": {},
     "execution_count": 162
    }
   ],
   "metadata": {}
  },
  {
   "cell_type": "code",
   "execution_count": 163,
   "source": [
    "wamex_coords_nodupl[1]"
   ],
   "outputs": [
    {
     "output_type": "execute_result",
     "data": {
      "text/plain": [
       "(-22.075205, 119.17515)"
      ]
     },
     "metadata": {},
     "execution_count": 163
    }
   ],
   "metadata": {}
  },
  {
   "cell_type": "code",
   "execution_count": 164,
   "source": [
    "for i in tqdm(range(0, len(wamex_coords_nodupl))):\n",
    "    for j in range(0, len(mindex_coords_df)):\n",
    "            comp = mindex_coords_df.iloc[j]['coords']\n",
    "            dist = calc_distance(wamex_coords_nodupl[i], comp)\n",
    "            if dist < 15:\n",
    "                new_row = {'minedex_coords': comp, 'minedex_site': mindex_coords_df.iloc[j]['minedex_site'],'wamex_lat':wamex_coords_nodupl[i][0],'wamex_lon': wamex_coords_nodupl[i][1], 'distance':dist}\n",
    "                new = new.append(new_row, ignore_index=True)"
   ],
   "outputs": [
    {
     "output_type": "stream",
     "name": "stderr",
     "text": [
      "100%|██████████| 18241/18241 [12:41<00:00, 23.96it/s]\n"
     ]
    }
   ],
   "metadata": {}
  },
  {
   "cell_type": "code",
   "execution_count": 165,
   "source": [
    "len(new)"
   ],
   "outputs": [
    {
     "output_type": "execute_result",
     "data": {
      "text/plain": [
       "3991"
      ]
     },
     "metadata": {},
     "execution_count": 165
    }
   ],
   "metadata": {}
  },
  {
   "cell_type": "code",
   "execution_count": 166,
   "source": [
    "new.to_csv('Distance_Minedex_WAMEX_In_Ge.csv')"
   ],
   "outputs": [],
   "metadata": {}
  },
  {
   "cell_type": "code",
   "execution_count": 167,
   "source": [
    "new.head()"
   ],
   "outputs": [
    {
     "output_type": "execute_result",
     "data": {
      "text/html": [
       "<div>\n",
       "<style scoped>\n",
       "    .dataframe tbody tr th:only-of-type {\n",
       "        vertical-align: middle;\n",
       "    }\n",
       "\n",
       "    .dataframe tbody tr th {\n",
       "        vertical-align: top;\n",
       "    }\n",
       "\n",
       "    .dataframe thead th {\n",
       "        text-align: right;\n",
       "    }\n",
       "</style>\n",
       "<table border=\"1\" class=\"dataframe\">\n",
       "  <thead>\n",
       "    <tr style=\"text-align: right;\">\n",
       "      <th></th>\n",
       "      <th>minedex_coords</th>\n",
       "      <th>minedex_site</th>\n",
       "      <th>wamex_lat</th>\n",
       "      <th>wamex_lon</th>\n",
       "      <th>distance</th>\n",
       "    </tr>\n",
       "  </thead>\n",
       "  <tbody>\n",
       "    <tr>\n",
       "      <th>0</th>\n",
       "      <td>(-23.715655, 119.281652)</td>\n",
       "      <td>S0002505</td>\n",
       "      <td>-23.722923</td>\n",
       "      <td>119.288533</td>\n",
       "      <td>1.06784626317382 km</td>\n",
       "    </tr>\n",
       "    <tr>\n",
       "      <th>1</th>\n",
       "      <td>(-23.715655, 119.281652)</td>\n",
       "      <td>S0002505</td>\n",
       "      <td>-23.741126</td>\n",
       "      <td>119.347260</td>\n",
       "      <td>7.260152057258165 km</td>\n",
       "    </tr>\n",
       "    <tr>\n",
       "      <th>2</th>\n",
       "      <td>(-27.05574, 117.697197)</td>\n",
       "      <td>S0001380</td>\n",
       "      <td>-26.991805</td>\n",
       "      <td>117.638810</td>\n",
       "      <td>9.151869117283306 km</td>\n",
       "    </tr>\n",
       "    <tr>\n",
       "      <th>3</th>\n",
       "      <td>(-28.40897, 121.147797)</td>\n",
       "      <td>S0002897</td>\n",
       "      <td>-28.493770</td>\n",
       "      <td>121.080858</td>\n",
       "      <td>11.45921164233483 km</td>\n",
       "    </tr>\n",
       "    <tr>\n",
       "      <th>4</th>\n",
       "      <td>(-28.40897, 121.147797)</td>\n",
       "      <td>S0002898</td>\n",
       "      <td>-28.493770</td>\n",
       "      <td>121.080858</td>\n",
       "      <td>11.45921164233483 km</td>\n",
       "    </tr>\n",
       "  </tbody>\n",
       "</table>\n",
       "</div>"
      ],
      "text/plain": [
       "             minedex_coords minedex_site  wamex_lat   wamex_lon  \\\n",
       "0  (-23.715655, 119.281652)     S0002505 -23.722923  119.288533   \n",
       "1  (-23.715655, 119.281652)     S0002505 -23.741126  119.347260   \n",
       "2   (-27.05574, 117.697197)     S0001380 -26.991805  117.638810   \n",
       "3   (-28.40897, 121.147797)     S0002897 -28.493770  121.080858   \n",
       "4   (-28.40897, 121.147797)     S0002898 -28.493770  121.080858   \n",
       "\n",
       "               distance  \n",
       "0   1.06784626317382 km  \n",
       "1  7.260152057258165 km  \n",
       "2  9.151869117283306 km  \n",
       "3  11.45921164233483 km  \n",
       "4  11.45921164233483 km  "
      ]
     },
     "metadata": {},
     "execution_count": 167
    }
   ],
   "metadata": {}
  },
  {
   "cell_type": "markdown",
   "source": [
    "### Merge with actual assays"
   ],
   "metadata": {}
  },
  {
   "cell_type": "code",
   "execution_count": 168,
   "source": [
    "distances = pd.read_csv('Distance_Minedex_WAMEX_In_Ge.csv')"
   ],
   "outputs": [],
   "metadata": {}
  },
  {
   "cell_type": "code",
   "execution_count": 169,
   "source": [
    "distances.head()"
   ],
   "outputs": [
    {
     "output_type": "execute_result",
     "data": {
      "text/html": [
       "<div>\n",
       "<style scoped>\n",
       "    .dataframe tbody tr th:only-of-type {\n",
       "        vertical-align: middle;\n",
       "    }\n",
       "\n",
       "    .dataframe tbody tr th {\n",
       "        vertical-align: top;\n",
       "    }\n",
       "\n",
       "    .dataframe thead th {\n",
       "        text-align: right;\n",
       "    }\n",
       "</style>\n",
       "<table border=\"1\" class=\"dataframe\">\n",
       "  <thead>\n",
       "    <tr style=\"text-align: right;\">\n",
       "      <th></th>\n",
       "      <th>Unnamed: 0</th>\n",
       "      <th>minedex_coords</th>\n",
       "      <th>minedex_site</th>\n",
       "      <th>wamex_lat</th>\n",
       "      <th>wamex_lon</th>\n",
       "      <th>distance</th>\n",
       "    </tr>\n",
       "  </thead>\n",
       "  <tbody>\n",
       "    <tr>\n",
       "      <th>0</th>\n",
       "      <td>0</td>\n",
       "      <td>(-23.715655, 119.281652)</td>\n",
       "      <td>S0002505</td>\n",
       "      <td>-23.722923</td>\n",
       "      <td>119.288533</td>\n",
       "      <td>1.06784626317382 km</td>\n",
       "    </tr>\n",
       "    <tr>\n",
       "      <th>1</th>\n",
       "      <td>1</td>\n",
       "      <td>(-23.715655, 119.281652)</td>\n",
       "      <td>S0002505</td>\n",
       "      <td>-23.741126</td>\n",
       "      <td>119.347260</td>\n",
       "      <td>7.260152057258165 km</td>\n",
       "    </tr>\n",
       "    <tr>\n",
       "      <th>2</th>\n",
       "      <td>2</td>\n",
       "      <td>(-27.05574, 117.697197)</td>\n",
       "      <td>S0001380</td>\n",
       "      <td>-26.991805</td>\n",
       "      <td>117.638810</td>\n",
       "      <td>9.151869117283306 km</td>\n",
       "    </tr>\n",
       "    <tr>\n",
       "      <th>3</th>\n",
       "      <td>3</td>\n",
       "      <td>(-28.40897, 121.147797)</td>\n",
       "      <td>S0002897</td>\n",
       "      <td>-28.493770</td>\n",
       "      <td>121.080858</td>\n",
       "      <td>11.45921164233483 km</td>\n",
       "    </tr>\n",
       "    <tr>\n",
       "      <th>4</th>\n",
       "      <td>4</td>\n",
       "      <td>(-28.40897, 121.147797)</td>\n",
       "      <td>S0002898</td>\n",
       "      <td>-28.493770</td>\n",
       "      <td>121.080858</td>\n",
       "      <td>11.45921164233483 km</td>\n",
       "    </tr>\n",
       "  </tbody>\n",
       "</table>\n",
       "</div>"
      ],
      "text/plain": [
       "   Unnamed: 0            minedex_coords minedex_site  wamex_lat   wamex_lon  \\\n",
       "0           0  (-23.715655, 119.281652)     S0002505 -23.722923  119.288533   \n",
       "1           1  (-23.715655, 119.281652)     S0002505 -23.741126  119.347260   \n",
       "2           2   (-27.05574, 117.697197)     S0001380 -26.991805  117.638810   \n",
       "3           3   (-28.40897, 121.147797)     S0002897 -28.493770  121.080858   \n",
       "4           4   (-28.40897, 121.147797)     S0002898 -28.493770  121.080858   \n",
       "\n",
       "               distance  \n",
       "0   1.06784626317382 km  \n",
       "1  7.260152057258165 km  \n",
       "2  9.151869117283306 km  \n",
       "3  11.45921164233483 km  \n",
       "4  11.45921164233483 km  "
      ]
     },
     "metadata": {},
     "execution_count": 169
    }
   ],
   "metadata": {}
  },
  {
   "cell_type": "code",
   "execution_count": 170,
   "source": [
    "df_wamex.head()"
   ],
   "outputs": [
    {
     "output_type": "execute_result",
     "data": {
      "text/html": [
       "<div>\n",
       "<style scoped>\n",
       "    .dataframe tbody tr th:only-of-type {\n",
       "        vertical-align: middle;\n",
       "    }\n",
       "\n",
       "    .dataframe tbody tr th {\n",
       "        vertical-align: top;\n",
       "    }\n",
       "\n",
       "    .dataframe thead th {\n",
       "        text-align: right;\n",
       "    }\n",
       "</style>\n",
       "<table border=\"1\" class=\"dataframe\">\n",
       "  <thead>\n",
       "    <tr style=\"text-align: right;\">\n",
       "      <th></th>\n",
       "      <th>Unnamed: 0</th>\n",
       "      <th>Zn</th>\n",
       "      <th>Ag</th>\n",
       "      <th>Cu</th>\n",
       "      <th>Pb</th>\n",
       "      <th>Au</th>\n",
       "      <th>Co</th>\n",
       "      <th>In</th>\n",
       "      <th>Ge</th>\n",
       "      <th>lat</th>\n",
       "      <th>long</th>\n",
       "    </tr>\n",
       "  </thead>\n",
       "  <tbody>\n",
       "    <tr>\n",
       "      <th>0</th>\n",
       "      <td>396</td>\n",
       "      <td>107.0</td>\n",
       "      <td>0.16</td>\n",
       "      <td>270.0</td>\n",
       "      <td>5.8</td>\n",
       "      <td>0.0015</td>\n",
       "      <td>38.4</td>\n",
       "      <td>0.155</td>\n",
       "      <td>0.14</td>\n",
       "      <td>-22.509657</td>\n",
       "      <td>117.683133</td>\n",
       "    </tr>\n",
       "    <tr>\n",
       "      <th>1</th>\n",
       "      <td>397</td>\n",
       "      <td>110.0</td>\n",
       "      <td>0.07</td>\n",
       "      <td>280.0</td>\n",
       "      <td>5.4</td>\n",
       "      <td>0.0010</td>\n",
       "      <td>37.2</td>\n",
       "      <td>0.151</td>\n",
       "      <td>0.15</td>\n",
       "      <td>-22.509684</td>\n",
       "      <td>117.683172</td>\n",
       "    </tr>\n",
       "    <tr>\n",
       "      <th>2</th>\n",
       "      <td>398</td>\n",
       "      <td>107.0</td>\n",
       "      <td>0.10</td>\n",
       "      <td>305.0</td>\n",
       "      <td>5.7</td>\n",
       "      <td>0.0018</td>\n",
       "      <td>37.4</td>\n",
       "      <td>0.143</td>\n",
       "      <td>0.14</td>\n",
       "      <td>-22.509693</td>\n",
       "      <td>117.683221</td>\n",
       "    </tr>\n",
       "    <tr>\n",
       "      <th>3</th>\n",
       "      <td>399</td>\n",
       "      <td>55.0</td>\n",
       "      <td>0.07</td>\n",
       "      <td>78.4</td>\n",
       "      <td>44.0</td>\n",
       "      <td>0.0848</td>\n",
       "      <td>10.5</td>\n",
       "      <td>0.513</td>\n",
       "      <td>0.14</td>\n",
       "      <td>-22.509729</td>\n",
       "      <td>117.683279</td>\n",
       "    </tr>\n",
       "    <tr>\n",
       "      <th>4</th>\n",
       "      <td>400</td>\n",
       "      <td>55.0</td>\n",
       "      <td>0.09</td>\n",
       "      <td>84.2</td>\n",
       "      <td>47.0</td>\n",
       "      <td>0.1270</td>\n",
       "      <td>14.6</td>\n",
       "      <td>0.543</td>\n",
       "      <td>0.15</td>\n",
       "      <td>-22.509738</td>\n",
       "      <td>117.683328</td>\n",
       "    </tr>\n",
       "  </tbody>\n",
       "</table>\n",
       "</div>"
      ],
      "text/plain": [
       "   Unnamed: 0     Zn    Ag     Cu    Pb      Au    Co     In    Ge        lat  \\\n",
       "0         396  107.0  0.16  270.0   5.8  0.0015  38.4  0.155  0.14 -22.509657   \n",
       "1         397  110.0  0.07  280.0   5.4  0.0010  37.2  0.151  0.15 -22.509684   \n",
       "2         398  107.0  0.10  305.0   5.7  0.0018  37.4  0.143  0.14 -22.509693   \n",
       "3         399   55.0  0.07   78.4  44.0  0.0848  10.5  0.513  0.14 -22.509729   \n",
       "4         400   55.0  0.09   84.2  47.0  0.1270  14.6  0.543  0.15 -22.509738   \n",
       "\n",
       "         long  \n",
       "0  117.683133  \n",
       "1  117.683172  \n",
       "2  117.683221  \n",
       "3  117.683279  \n",
       "4  117.683328  "
      ]
     },
     "metadata": {},
     "execution_count": 170
    }
   ],
   "metadata": {}
  },
  {
   "cell_type": "code",
   "execution_count": 171,
   "source": [
    "Merged_lessthan15km = pd.merge(df_wamex, distances, how='inner', left_on=['lat', 'long'], right_on=['wamex_lat', 'wamex_lon'])"
   ],
   "outputs": [],
   "metadata": {}
  },
  {
   "cell_type": "code",
   "execution_count": 172,
   "source": [
    "Merged_lessthan15km.to_csv('Merged_lessthan15km_In_Ge.csv')"
   ],
   "outputs": [],
   "metadata": {}
  },
  {
   "cell_type": "markdown",
   "source": [
    "### Modeling"
   ],
   "metadata": {}
  },
  {
   "cell_type": "code",
   "execution_count": 173,
   "source": [
    "df = pd.read_csv('Merged_lessthan15km_In_Ge.csv')"
   ],
   "outputs": [],
   "metadata": {}
  },
  {
   "cell_type": "code",
   "execution_count": 174,
   "source": [
    "df = df.drop(columns=['Unnamed: 0', 'Unnamed: 0_x', 'lat', 'long', 'Unnamed: 0_y', 'minedex_coords',\n",
    "       'minedex_site', 'distance']).drop_duplicates()"
   ],
   "outputs": [],
   "metadata": {}
  },
  {
   "cell_type": "code",
   "execution_count": 175,
   "source": [
    "df.info()"
   ],
   "outputs": [
    {
     "output_type": "stream",
     "name": "stdout",
     "text": [
      "<class 'pandas.core.frame.DataFrame'>\n",
      "Int64Index: 2076 entries, 0 to 4905\n",
      "Data columns (total 10 columns):\n",
      " #   Column     Non-Null Count  Dtype  \n",
      "---  ------     --------------  -----  \n",
      " 0   Zn         1994 non-null   float64\n",
      " 1   Ag         2067 non-null   float64\n",
      " 2   Cu         2066 non-null   float64\n",
      " 3   Pb         2015 non-null   float64\n",
      " 4   Au         1878 non-null   float64\n",
      " 5   Co         2076 non-null   float64\n",
      " 6   In         2076 non-null   float64\n",
      " 7   Ge         2076 non-null   float64\n",
      " 8   wamex_lat  2076 non-null   float64\n",
      " 9   wamex_lon  2076 non-null   float64\n",
      "dtypes: float64(10)\n",
      "memory usage: 178.4 KB\n"
     ]
    }
   ],
   "metadata": {}
  },
  {
   "cell_type": "code",
   "execution_count": 176,
   "source": [
    "df = df.dropna()\n",
    "df.shape"
   ],
   "outputs": [
    {
     "output_type": "execute_result",
     "data": {
      "text/plain": [
       "(1792, 10)"
      ]
     },
     "metadata": {},
     "execution_count": 176
    }
   ],
   "metadata": {}
  },
  {
   "cell_type": "code",
   "execution_count": 177,
   "source": [
    "df.minerals = df.drop(columns=['wamex_lat','wamex_lon'])\n",
    "df.minerals"
   ],
   "outputs": [
    {
     "output_type": "stream",
     "name": "stderr",
     "text": [
      "/Users/zhengyuchen/opt/anaconda3/envs/cits5508-fix/lib/python3.7/site-packages/ipykernel_launcher.py:1: UserWarning: Pandas doesn't allow columns to be created via a new attribute name - see https://pandas.pydata.org/pandas-docs/stable/indexing.html#attribute-access\n",
      "  \"\"\"Entry point for launching an IPython kernel.\n"
     ]
    },
    {
     "output_type": "execute_result",
     "data": {
      "text/html": [
       "<div>\n",
       "<style scoped>\n",
       "    .dataframe tbody tr th:only-of-type {\n",
       "        vertical-align: middle;\n",
       "    }\n",
       "\n",
       "    .dataframe tbody tr th {\n",
       "        vertical-align: top;\n",
       "    }\n",
       "\n",
       "    .dataframe thead th {\n",
       "        text-align: right;\n",
       "    }\n",
       "</style>\n",
       "<table border=\"1\" class=\"dataframe\">\n",
       "  <thead>\n",
       "    <tr style=\"text-align: right;\">\n",
       "      <th></th>\n",
       "      <th>Zn</th>\n",
       "      <th>Ag</th>\n",
       "      <th>Cu</th>\n",
       "      <th>Pb</th>\n",
       "      <th>Au</th>\n",
       "      <th>Co</th>\n",
       "      <th>In</th>\n",
       "      <th>Ge</th>\n",
       "    </tr>\n",
       "  </thead>\n",
       "  <tbody>\n",
       "    <tr>\n",
       "      <th>6</th>\n",
       "      <td>525.0</td>\n",
       "      <td>0.28</td>\n",
       "      <td>81.2</td>\n",
       "      <td>590.0</td>\n",
       "      <td>0.005</td>\n",
       "      <td>48.8</td>\n",
       "      <td>0.056</td>\n",
       "      <td>0.060</td>\n",
       "    </tr>\n",
       "    <tr>\n",
       "      <th>9</th>\n",
       "      <td>142.0</td>\n",
       "      <td>0.07</td>\n",
       "      <td>90.0</td>\n",
       "      <td>31.2</td>\n",
       "      <td>0.005</td>\n",
       "      <td>22.7</td>\n",
       "      <td>0.084</td>\n",
       "      <td>0.110</td>\n",
       "    </tr>\n",
       "    <tr>\n",
       "      <th>10</th>\n",
       "      <td>47.0</td>\n",
       "      <td>0.36</td>\n",
       "      <td>101.5</td>\n",
       "      <td>95.6</td>\n",
       "      <td>0.005</td>\n",
       "      <td>7.3</td>\n",
       "      <td>0.030</td>\n",
       "      <td>0.100</td>\n",
       "    </tr>\n",
       "    <tr>\n",
       "      <th>11</th>\n",
       "      <td>31.0</td>\n",
       "      <td>0.05</td>\n",
       "      <td>65.4</td>\n",
       "      <td>8.3</td>\n",
       "      <td>0.005</td>\n",
       "      <td>7.6</td>\n",
       "      <td>0.031</td>\n",
       "      <td>0.025</td>\n",
       "    </tr>\n",
       "    <tr>\n",
       "      <th>12</th>\n",
       "      <td>68.0</td>\n",
       "      <td>0.15</td>\n",
       "      <td>205.0</td>\n",
       "      <td>17.5</td>\n",
       "      <td>0.005</td>\n",
       "      <td>3.6</td>\n",
       "      <td>0.127</td>\n",
       "      <td>0.180</td>\n",
       "    </tr>\n",
       "    <tr>\n",
       "      <th>...</th>\n",
       "      <td>...</td>\n",
       "      <td>...</td>\n",
       "      <td>...</td>\n",
       "      <td>...</td>\n",
       "      <td>...</td>\n",
       "      <td>...</td>\n",
       "      <td>...</td>\n",
       "      <td>...</td>\n",
       "    </tr>\n",
       "    <tr>\n",
       "      <th>4837</th>\n",
       "      <td>533.0</td>\n",
       "      <td>13.50</td>\n",
       "      <td>99500.0</td>\n",
       "      <td>50.0</td>\n",
       "      <td>0.443</td>\n",
       "      <td>224.0</td>\n",
       "      <td>3.800</td>\n",
       "      <td>10.000</td>\n",
       "    </tr>\n",
       "    <tr>\n",
       "      <th>4841</th>\n",
       "      <td>942.0</td>\n",
       "      <td>4.50</td>\n",
       "      <td>16400.0</td>\n",
       "      <td>31.0</td>\n",
       "      <td>0.035</td>\n",
       "      <td>134.0</td>\n",
       "      <td>3.020</td>\n",
       "      <td>10.000</td>\n",
       "    </tr>\n",
       "    <tr>\n",
       "      <th>4845</th>\n",
       "      <td>1400.0</td>\n",
       "      <td>0.50</td>\n",
       "      <td>3960.0</td>\n",
       "      <td>33.0</td>\n",
       "      <td>0.026</td>\n",
       "      <td>146.0</td>\n",
       "      <td>0.400</td>\n",
       "      <td>10.000</td>\n",
       "    </tr>\n",
       "    <tr>\n",
       "      <th>4849</th>\n",
       "      <td>236.0</td>\n",
       "      <td>14.00</td>\n",
       "      <td>115000.0</td>\n",
       "      <td>12.0</td>\n",
       "      <td>0.350</td>\n",
       "      <td>698.0</td>\n",
       "      <td>23.200</td>\n",
       "      <td>10.000</td>\n",
       "    </tr>\n",
       "    <tr>\n",
       "      <th>4853</th>\n",
       "      <td>68.0</td>\n",
       "      <td>53.00</td>\n",
       "      <td>133000.0</td>\n",
       "      <td>32.0</td>\n",
       "      <td>1.660</td>\n",
       "      <td>1880.0</td>\n",
       "      <td>26.200</td>\n",
       "      <td>10.000</td>\n",
       "    </tr>\n",
       "  </tbody>\n",
       "</table>\n",
       "<p>1792 rows × 8 columns</p>\n",
       "</div>"
      ],
      "text/plain": [
       "          Zn     Ag        Cu     Pb     Au      Co      In      Ge\n",
       "6      525.0   0.28      81.2  590.0  0.005    48.8   0.056   0.060\n",
       "9      142.0   0.07      90.0   31.2  0.005    22.7   0.084   0.110\n",
       "10      47.0   0.36     101.5   95.6  0.005     7.3   0.030   0.100\n",
       "11      31.0   0.05      65.4    8.3  0.005     7.6   0.031   0.025\n",
       "12      68.0   0.15     205.0   17.5  0.005     3.6   0.127   0.180\n",
       "...      ...    ...       ...    ...    ...     ...     ...     ...\n",
       "4837   533.0  13.50   99500.0   50.0  0.443   224.0   3.800  10.000\n",
       "4841   942.0   4.50   16400.0   31.0  0.035   134.0   3.020  10.000\n",
       "4845  1400.0   0.50    3960.0   33.0  0.026   146.0   0.400  10.000\n",
       "4849   236.0  14.00  115000.0   12.0  0.350   698.0  23.200  10.000\n",
       "4853    68.0  53.00  133000.0   32.0  1.660  1880.0  26.200  10.000\n",
       "\n",
       "[1792 rows x 8 columns]"
      ]
     },
     "metadata": {},
     "execution_count": 177
    }
   ],
   "metadata": {}
  },
  {
   "cell_type": "markdown",
   "source": [
    "### Log Transform"
   ],
   "metadata": {}
  },
  {
   "cell_type": "code",
   "execution_count": 178,
   "source": [
    "df_log.columns='log_'+df.minerals.columns\n",
    "df_log.columns"
   ],
   "outputs": [
    {
     "output_type": "execute_result",
     "data": {
      "text/plain": [
       "Index(['log_Zn', 'log_Ag', 'log_Cu', 'log_Pb', 'log_Au', 'log_Co', 'log_In',\n",
       "       'log_Ge'],\n",
       "      dtype='object')"
      ]
     },
     "metadata": {},
     "execution_count": 178
    }
   ],
   "metadata": {}
  },
  {
   "cell_type": "code",
   "execution_count": 179,
   "source": [
    "df_log = pd.DataFrame(np.log(df.minerals.values+1),columns=df_log.columns)\n",
    "df_log"
   ],
   "outputs": [
    {
     "output_type": "execute_result",
     "data": {
      "text/html": [
       "<div>\n",
       "<style scoped>\n",
       "    .dataframe tbody tr th:only-of-type {\n",
       "        vertical-align: middle;\n",
       "    }\n",
       "\n",
       "    .dataframe tbody tr th {\n",
       "        vertical-align: top;\n",
       "    }\n",
       "\n",
       "    .dataframe thead th {\n",
       "        text-align: right;\n",
       "    }\n",
       "</style>\n",
       "<table border=\"1\" class=\"dataframe\">\n",
       "  <thead>\n",
       "    <tr style=\"text-align: right;\">\n",
       "      <th></th>\n",
       "      <th>log_Zn</th>\n",
       "      <th>log_Ag</th>\n",
       "      <th>log_Cu</th>\n",
       "      <th>log_Pb</th>\n",
       "      <th>log_Au</th>\n",
       "      <th>log_Co</th>\n",
       "      <th>log_In</th>\n",
       "      <th>log_Ge</th>\n",
       "    </tr>\n",
       "  </thead>\n",
       "  <tbody>\n",
       "    <tr>\n",
       "      <th>0</th>\n",
       "      <td>6.265301</td>\n",
       "      <td>0.246860</td>\n",
       "      <td>4.409155</td>\n",
       "      <td>6.381816</td>\n",
       "      <td>0.004988</td>\n",
       "      <td>3.908015</td>\n",
       "      <td>0.054488</td>\n",
       "      <td>0.058269</td>\n",
       "    </tr>\n",
       "    <tr>\n",
       "      <th>1</th>\n",
       "      <td>4.962845</td>\n",
       "      <td>0.067659</td>\n",
       "      <td>4.510860</td>\n",
       "      <td>3.471966</td>\n",
       "      <td>0.004988</td>\n",
       "      <td>3.165475</td>\n",
       "      <td>0.080658</td>\n",
       "      <td>0.104360</td>\n",
       "    </tr>\n",
       "    <tr>\n",
       "      <th>2</th>\n",
       "      <td>3.871201</td>\n",
       "      <td>0.307485</td>\n",
       "      <td>4.629863</td>\n",
       "      <td>4.570579</td>\n",
       "      <td>0.004988</td>\n",
       "      <td>2.116256</td>\n",
       "      <td>0.029559</td>\n",
       "      <td>0.095310</td>\n",
       "    </tr>\n",
       "    <tr>\n",
       "      <th>3</th>\n",
       "      <td>3.465736</td>\n",
       "      <td>0.048790</td>\n",
       "      <td>4.195697</td>\n",
       "      <td>2.230014</td>\n",
       "      <td>0.004988</td>\n",
       "      <td>2.151762</td>\n",
       "      <td>0.030529</td>\n",
       "      <td>0.024693</td>\n",
       "    </tr>\n",
       "    <tr>\n",
       "      <th>4</th>\n",
       "      <td>4.234107</td>\n",
       "      <td>0.139762</td>\n",
       "      <td>5.327876</td>\n",
       "      <td>2.917771</td>\n",
       "      <td>0.004988</td>\n",
       "      <td>1.526056</td>\n",
       "      <td>0.119559</td>\n",
       "      <td>0.165514</td>\n",
       "    </tr>\n",
       "    <tr>\n",
       "      <th>...</th>\n",
       "      <td>...</td>\n",
       "      <td>...</td>\n",
       "      <td>...</td>\n",
       "      <td>...</td>\n",
       "      <td>...</td>\n",
       "      <td>...</td>\n",
       "      <td>...</td>\n",
       "      <td>...</td>\n",
       "    </tr>\n",
       "    <tr>\n",
       "      <th>1787</th>\n",
       "      <td>6.280396</td>\n",
       "      <td>2.674149</td>\n",
       "      <td>11.507923</td>\n",
       "      <td>3.931826</td>\n",
       "      <td>0.366724</td>\n",
       "      <td>5.416100</td>\n",
       "      <td>1.568616</td>\n",
       "      <td>2.397895</td>\n",
       "    </tr>\n",
       "    <tr>\n",
       "      <th>1788</th>\n",
       "      <td>6.849066</td>\n",
       "      <td>1.704748</td>\n",
       "      <td>9.705098</td>\n",
       "      <td>3.465736</td>\n",
       "      <td>0.034401</td>\n",
       "      <td>4.905275</td>\n",
       "      <td>1.391282</td>\n",
       "      <td>2.397895</td>\n",
       "    </tr>\n",
       "    <tr>\n",
       "      <th>1789</th>\n",
       "      <td>7.244942</td>\n",
       "      <td>0.405465</td>\n",
       "      <td>8.284252</td>\n",
       "      <td>3.526361</td>\n",
       "      <td>0.025668</td>\n",
       "      <td>4.990433</td>\n",
       "      <td>0.336472</td>\n",
       "      <td>2.397895</td>\n",
       "    </tr>\n",
       "    <tr>\n",
       "      <th>1790</th>\n",
       "      <td>5.468060</td>\n",
       "      <td>2.708050</td>\n",
       "      <td>11.652696</td>\n",
       "      <td>2.564949</td>\n",
       "      <td>0.300105</td>\n",
       "      <td>6.549651</td>\n",
       "      <td>3.186353</td>\n",
       "      <td>2.397895</td>\n",
       "    </tr>\n",
       "    <tr>\n",
       "      <th>1791</th>\n",
       "      <td>4.234107</td>\n",
       "      <td>3.988984</td>\n",
       "      <td>11.798112</td>\n",
       "      <td>3.496508</td>\n",
       "      <td>0.978326</td>\n",
       "      <td>7.539559</td>\n",
       "      <td>3.303217</td>\n",
       "      <td>2.397895</td>\n",
       "    </tr>\n",
       "  </tbody>\n",
       "</table>\n",
       "<p>1792 rows × 8 columns</p>\n",
       "</div>"
      ],
      "text/plain": [
       "        log_Zn    log_Ag     log_Cu    log_Pb    log_Au    log_Co    log_In  \\\n",
       "0     6.265301  0.246860   4.409155  6.381816  0.004988  3.908015  0.054488   \n",
       "1     4.962845  0.067659   4.510860  3.471966  0.004988  3.165475  0.080658   \n",
       "2     3.871201  0.307485   4.629863  4.570579  0.004988  2.116256  0.029559   \n",
       "3     3.465736  0.048790   4.195697  2.230014  0.004988  2.151762  0.030529   \n",
       "4     4.234107  0.139762   5.327876  2.917771  0.004988  1.526056  0.119559   \n",
       "...        ...       ...        ...       ...       ...       ...       ...   \n",
       "1787  6.280396  2.674149  11.507923  3.931826  0.366724  5.416100  1.568616   \n",
       "1788  6.849066  1.704748   9.705098  3.465736  0.034401  4.905275  1.391282   \n",
       "1789  7.244942  0.405465   8.284252  3.526361  0.025668  4.990433  0.336472   \n",
       "1790  5.468060  2.708050  11.652696  2.564949  0.300105  6.549651  3.186353   \n",
       "1791  4.234107  3.988984  11.798112  3.496508  0.978326  7.539559  3.303217   \n",
       "\n",
       "        log_Ge  \n",
       "0     0.058269  \n",
       "1     0.104360  \n",
       "2     0.095310  \n",
       "3     0.024693  \n",
       "4     0.165514  \n",
       "...        ...  \n",
       "1787  2.397895  \n",
       "1788  2.397895  \n",
       "1789  2.397895  \n",
       "1790  2.397895  \n",
       "1791  2.397895  \n",
       "\n",
       "[1792 rows x 8 columns]"
      ]
     },
     "metadata": {},
     "execution_count": 179
    }
   ],
   "metadata": {}
  },
  {
   "cell_type": "markdown",
   "source": [
    "### Zn"
   ],
   "metadata": {}
  },
  {
   "cell_type": "code",
   "execution_count": 197,
   "source": [
    "fig, ax = plt.subplots()\n",
    "df.minerals['Zn'].hist(color='#A9C5D3', bins=30)\n",
    "plt.axvline(df.minerals['Zn'].quantile(), color='r', label='Binary line')\n",
    "plt.legend(fontsize=18, loc='best')\n",
    "ax.set_xlabel('Zn', fontsize=12)\n",
    "ax.set_ylabel('Frequency', fontsize=12)\n",
    "ax.set_title('Zn_hist', fontsize=12)\n",
    "plt.show()"
   ],
   "outputs": [
    {
     "output_type": "display_data",
     "data": {
      "image/png": "[encoded data removed]",
      "text/plain": [
       "<Figure size 432x288 with 1 Axes>"
      ]
     },
     "metadata": {
      "needs_background": "light"
     }
    }
   ],
   "metadata": {}
  },
  {
   "cell_type": "code",
   "execution_count": 198,
   "source": [
    "fig, ax = plt.subplots()\n",
    "df_log['log_Zn'].hist(color='#A9C5D3', bins=30)\n",
    "plt.axvline(df_log['log_Zn'].quantile(), color='r', label='Binary line')\n",
    "plt.legend(fontsize=18, loc='best')\n",
    "ax.set_xlabel('log_Zn', fontsize=12)\n",
    "ax.set_ylabel('Frequency', fontsize=12)\n",
    "ax.set_title('log-Zn_hist', fontsize=12)\n",
    "plt.show()"
   ],
   "outputs": [
    {
     "output_type": "display_data",
     "data": {
      "image/png": "[encoded data removed]",
      "text/plain": [
       "<Figure size 432x288 with 1 Axes>"
      ]
     },
     "metadata": {
      "needs_background": "light"
     }
    }
   ],
   "metadata": {}
  },
  {
   "cell_type": "markdown",
   "source": [
    "#### Linear Regression"
   ],
   "metadata": {}
  },
  {
   "cell_type": "code",
   "execution_count": 199,
   "source": [
    "from sklearn.linear_model import LinearRegression\n",
    "import matplotlib.pyplot as plt\n",
    "from sklearn.metrics import mean_squared_error\n",
    "from sklearn.metrics import mean_absolute_error\n",
    "from sklearn.model_selection import train_test_split"
   ],
   "outputs": [],
   "metadata": {}
  },
  {
   "cell_type": "code",
   "execution_count": 200,
   "source": [
    "X = df_log.drop(['log_Zn'], axis =1)\n",
    "y = df_log['log_Zn']\n",
    "\n",
    "from sklearn.model_selection  import train_test_split\n",
    "X_train, X_test, y_train, y_test = train_test_split(X, y, test_size=0.2, random_state=42, shuffle=True)\n",
    "\n",
    "lr = LinearRegression()\n",
    "lr.fit(X_train, y_train)\n",
    "train_pred = lr.predict(X_train)\n",
    "test_pred = lr.predict(X_test)\n",
    "\n",
    "print(\"train MSE: \", mean_squared_error(train_pred, y_train))\n",
    "print(\"test MSE: \", mean_absolute_error(test_pred, y_test))"
   ],
   "outputs": [
    {
     "output_type": "stream",
     "name": "stdout",
     "text": [
      "train MSE:  1.4848739918365528\n",
      "test MSE:  0.9413559476689094\n"
     ]
    }
   ],
   "metadata": {}
  },
  {
   "cell_type": "code",
   "execution_count": 201,
   "source": [
    "plt.plot(range(0,len(test_pred)), y_test, test_pred)"
   ],
   "outputs": [
    {
     "output_type": "execute_result",
     "data": {
      "text/plain": [
       "[<matplotlib.lines.Line2D at 0x7fd2e10a7ed0>,\n",
       " <matplotlib.lines.Line2D at 0x7fd2e10a7dd0>]"
      ]
     },
     "metadata": {},
     "execution_count": 201
    },
    {
     "output_type": "display_data",
     "data": {
      "image/png": "[encoded data removed]",
      "text/plain": [
       "<Figure size 432x288 with 1 Axes>"
      ]
     },
     "metadata": {
      "needs_background": "light"
     }
    }
   ],
   "metadata": {}
  },
  {
   "cell_type": "markdown",
   "source": [
    "#### Random Forest"
   ],
   "metadata": {}
  },
  {
   "cell_type": "code",
   "execution_count": 202,
   "source": [
    "from sklearn.ensemble import RandomForestRegressor\n",
    "\n",
    "rf=RandomForestRegressor()\n",
    "rf.fit(X_train, y_train)\n",
    "train_pred = rf.predict(X_train)\n",
    "test_pred = rf.predict(X_test)\n",
    "\n",
    "print(\"train MSE: \", mean_squared_error(train_pred, y_train))\n",
    "print(\"test MSE: \", mean_absolute_error(test_pred, y_test))\n"
   ],
   "outputs": [
    {
     "output_type": "stream",
     "name": "stdout",
     "text": [
      "train MSE:  0.18159265771717306\n",
      "test MSE:  0.6764687596399063\n"
     ]
    }
   ],
   "metadata": {}
  },
  {
   "cell_type": "code",
   "execution_count": 203,
   "source": [
    "plt.plot(range(0,len(test_pred)), y_test, test_pred)"
   ],
   "outputs": [
    {
     "output_type": "execute_result",
     "data": {
      "text/plain": [
       "[<matplotlib.lines.Line2D at 0x7fd2e0dc6cd0>,\n",
       " <matplotlib.lines.Line2D at 0x7fd2e0dc6e90>]"
      ]
     },
     "metadata": {},
     "execution_count": 203
    },
    {
     "output_type": "display_data",
     "data": {
      "image/png": "[encoded data removed]",
      "text/plain": [
       "<Figure size 432x288 with 1 Axes>"
      ]
     },
     "metadata": {
      "needs_background": "light"
     }
    }
   ],
   "metadata": {}
  },
  {
   "cell_type": "markdown",
   "source": [
    "### In"
   ],
   "metadata": {}
  },
  {
   "cell_type": "code",
   "execution_count": 204,
   "source": [
    "fig, ax = plt.subplots()\n",
    "df.minerals['In'].hist(color='#A9C5D3', bins=30)\n",
    "plt.axvline(df.minerals['In'].quantile(), color='r', label='Binary line')\n",
    "plt.legend(fontsize=18, loc='best')\n",
    "ax.set_xlabel('In', fontsize=12)\n",
    "ax.set_ylabel('Frequency', fontsize=12)\n",
    "ax.set_title('In_hist', fontsize=12)\n",
    "plt.show()"
   ],
   "outputs": [
    {
     "output_type": "display_data",
     "data": {
      "image/png": "[encoded data removed]",
      "text/plain": [
       "<Figure size 432x288 with 1 Axes>"
      ]
     },
     "metadata": {
      "needs_background": "light"
     }
    }
   ],
   "metadata": {}
  },
  {
   "cell_type": "code",
   "execution_count": 205,
   "source": [
    "fig, ax = plt.subplots()\n",
    "df_log['log_In'].hist(color='#A9C5D3', bins=30)\n",
    "plt.axvline(df_log['log_In'].quantile(), color='r', label='Binary line')\n",
    "plt.legend(fontsize=18, loc='best')\n",
    "ax.set_xlabel('log_In', fontsize=12)\n",
    "ax.set_ylabel('Frequency', fontsize=12)\n",
    "ax.set_title('log_In_hist', fontsize=12)\n",
    "plt.show()"
   ],
   "outputs": [
    {
     "output_type": "display_data",
     "data": {
      "image/png": "[encoded data removed]",
      "text/plain": [
       "<Figure size 432x288 with 1 Axes>"
      ]
     },
     "metadata": {
      "needs_background": "light"
     }
    }
   ],
   "metadata": {}
  },
  {
   "cell_type": "markdown",
   "source": [
    "#### Linear Regression"
   ],
   "metadata": {}
  },
  {
   "cell_type": "code",
   "execution_count": 206,
   "source": [
    "X = df_log.drop(['log_In'], axis =1)\n",
    "y = df_log['log_In']\n",
    "\n",
    "X_train, X_test, y_train, y_test = train_test_split(X, y, test_size=0.2, random_state=42, shuffle=True)\n",
    "\n",
    "lr = LinearRegression()\n",
    "lr.fit(X_train, y_train)\n",
    "train_pred = lr.predict(X_train)\n",
    "test_pred = lr.predict(X_test)\n",
    "\n",
    "print(\"train MSE: \", mean_squared_error(train_pred, y_train))\n",
    "print(\"test MSE: \", mean_absolute_error(test_pred, y_test))"
   ],
   "outputs": [
    {
     "output_type": "stream",
     "name": "stdout",
     "text": [
      "train MSE:  0.04094925878422788\n",
      "test MSE:  0.07943615887033703\n"
     ]
    }
   ],
   "metadata": {}
  },
  {
   "cell_type": "code",
   "execution_count": 207,
   "source": [
    "plt.plot(range(0,len(test_pred)), y_test, test_pred)"
   ],
   "outputs": [
    {
     "output_type": "execute_result",
     "data": {
      "text/plain": [
       "[<matplotlib.lines.Line2D at 0x7fd30415e8d0>,\n",
       " <matplotlib.lines.Line2D at 0x7fd30415ead0>]"
      ]
     },
     "metadata": {},
     "execution_count": 207
    },
    {
     "output_type": "display_data",
     "data": {
      "image/png": "[encoded data removed]",
      "text/plain": [
       "<Figure size 432x288 with 1 Axes>"
      ]
     },
     "metadata": {
      "needs_background": "light"
     }
    }
   ],
   "metadata": {}
  },
  {
   "cell_type": "markdown",
   "source": [
    "#### Random Forest"
   ],
   "metadata": {}
  },
  {
   "cell_type": "code",
   "execution_count": 208,
   "source": [
    "rf=RandomForestRegressor()\n",
    "rf.fit(X_train, y_train)\n",
    "train_pred = rf.predict(X_train)\n",
    "test_pred = rf.predict(X_test)\n",
    "\n",
    "print(\"train MSE: \", mean_squared_error(train_pred, y_train))\n",
    "print(\"test MSE: \", mean_absolute_error(test_pred, y_test))"
   ],
   "outputs": [
    {
     "output_type": "stream",
     "name": "stdout",
     "text": [
      "train MSE:  0.0028541854759835347\n",
      "test MSE:  0.028197096854836987\n"
     ]
    }
   ],
   "metadata": {}
  },
  {
   "cell_type": "code",
   "execution_count": 209,
   "source": [
    "plt.plot(range(0,len(test_pred)), y_test, test_pred)"
   ],
   "outputs": [
    {
     "output_type": "execute_result",
     "data": {
      "text/plain": [
       "[<matplotlib.lines.Line2D at 0x7fd3057d1f10>,\n",
       " <matplotlib.lines.Line2D at 0x7fd3057d11d0>]"
      ]
     },
     "metadata": {},
     "execution_count": 209
    },
    {
     "output_type": "display_data",
     "data": {
      "image/png": "[encoded data removed]",
      "text/plain": [
       "<Figure size 432x288 with 1 Axes>"
      ]
     },
     "metadata": {
      "needs_background": "light"
     }
    }
   ],
   "metadata": {}
  },
  {
   "cell_type": "markdown",
   "source": [
    "### Ge"
   ],
   "metadata": {}
  },
  {
   "cell_type": "code",
   "execution_count": 210,
   "source": [
    "fig, ax = plt.subplots()\n",
    "df.minerals['Ge'].hist(color='#A9C5D3', bins=30)\n",
    "plt.axvline(df.minerals['Ge'].quantile(), color='r', label='Binary line')\n",
    "plt.legend(fontsize=18, loc='best')\n",
    "ax.set_xlabel('Ge', fontsize=12)\n",
    "ax.set_ylabel('Frequency', fontsize=12)\n",
    "ax.set_title('Ge_hist', fontsize=12)\n",
    "plt.show()"
   ],
   "outputs": [
    {
     "output_type": "display_data",
     "data": {
      "image/png": "[encoded data removed]",
      "text/plain": [
       "<Figure size 432x288 with 1 Axes>"
      ]
     },
     "metadata": {
      "needs_background": "light"
     }
    }
   ],
   "metadata": {}
  },
  {
   "cell_type": "code",
   "execution_count": 211,
   "source": [
    "fig, ax = plt.subplots()\n",
    "df_log['log_Ge'].hist(color='#A9C5D3', bins=30)\n",
    "plt.axvline(df_log['log_Ge'].quantile(), color='r', label='Binary line')\n",
    "plt.legend(fontsize=18, loc='best')\n",
    "ax.set_xlabel('log_Ge', fontsize=12)\n",
    "ax.set_ylabel('Frequency', fontsize=12)\n",
    "ax.set_title('log_Ge_hist', fontsize=12)\n",
    "plt.show()"
   ],
   "outputs": [
    {
     "output_type": "display_data",
     "data": {
      "image/png": "[encoded data removed]",
      "text/plain": [
       "<Figure size 432x288 with 1 Axes>"
      ]
     },
     "metadata": {
      "needs_background": "light"
     }
    }
   ],
   "metadata": {}
  },
  {
   "cell_type": "markdown",
   "source": [
    "#### Linear Regression"
   ],
   "metadata": {}
  },
  {
   "cell_type": "code",
   "execution_count": 214,
   "source": [
    "X = df_log.drop(['log_Ge'], axis =1)\n",
    "y = df_log['log_Ge']\n",
    "\n",
    "X_train, X_test, y_train, y_test = train_test_split(X, y, test_size=0.2, random_state=42, shuffle=True)\n",
    "\n",
    "lr = LinearRegression()\n",
    "lr.fit(X_train, y_train)\n",
    "train_pred = lr.predict(X_train)\n",
    "test_pred = lr.predict(X_test)\n",
    "\n",
    "print(\"train MSE: \", mean_squared_error(train_pred, y_train))\n",
    "print(\"test MSE: \", mean_absolute_error(test_pred, y_test))"
   ],
   "outputs": [
    {
     "output_type": "stream",
     "name": "stdout",
     "text": [
      "train MSE:  0.2011904824877862\n",
      "test MSE:  0.20569138068117923\n"
     ]
    }
   ],
   "metadata": {}
  },
  {
   "cell_type": "code",
   "execution_count": 215,
   "source": [
    "plt.plot(range(0,len(test_pred)), y_test, test_pred)"
   ],
   "outputs": [
    {
     "output_type": "execute_result",
     "data": {
      "text/plain": [
       "[<matplotlib.lines.Line2D at 0x7fd2f321a490>,\n",
       " <matplotlib.lines.Line2D at 0x7fd2f321a310>]"
      ]
     },
     "metadata": {},
     "execution_count": 215
    },
    {
     "output_type": "display_data",
     "data": {
      "image/png": "[encoded data removed]",
      "text/plain": [
       "<Figure size 432x288 with 1 Axes>"
      ]
     },
     "metadata": {
      "needs_background": "light"
     }
    }
   ],
   "metadata": {}
  },
  {
   "cell_type": "markdown",
   "source": [
    "#### Random Forest"
   ],
   "metadata": {}
  },
  {
   "cell_type": "code",
   "execution_count": 216,
   "source": [
    "rf=RandomForestRegressor()\n",
    "rf.fit(X_train, y_train)\n",
    "train_pred = rf.predict(X_train)\n",
    "test_pred = rf.predict(X_test)\n",
    "\n",
    "print(\"train MSE: \", mean_squared_error(train_pred, y_train))\n",
    "print(\"test MSE: \", mean_absolute_error(test_pred, y_test))"
   ],
   "outputs": [
    {
     "output_type": "stream",
     "name": "stdout",
     "text": [
      "train MSE:  0.009290194039310378\n",
      "test MSE:  0.09794425731401879\n"
     ]
    }
   ],
   "metadata": {}
  },
  {
   "cell_type": "code",
   "execution_count": 217,
   "source": [
    "plt.plot(range(0,len(test_pred)), y_test, test_pred)"
   ],
   "outputs": [
    {
     "output_type": "execute_result",
     "data": {
      "text/plain": [
       "[<matplotlib.lines.Line2D at 0x7fd3063c9fd0>,\n",
       " <matplotlib.lines.Line2D at 0x7fd3063c9f10>]"
      ]
     },
     "metadata": {},
     "execution_count": 217
    },
    {
     "output_type": "display_data",
     "data": {
      "image/png": "[encoded data removed]",
      "text/plain": [
       "<Figure size 432x288 with 1 Axes>"
      ]
     },
     "metadata": {
      "needs_background": "light"
     }
    }
   ],
   "metadata": {}
  }
 ],
 "metadata": {
  "orig_nbformat": 4,
  "language_info": {
   "name": "python",
   "version": "3.7.10",
   "mimetype": "text/x-python",
   "codemirror_mode": {
    "name": "ipython",
    "version": 3
   },
   "pygments_lexer": "ipython3",
   "nbconvert_exporter": "python",
   "file_extension": ".py"
  },
  "kernelspec": {
   "name": "python3",
   "display_name": "Python 3.7.10 64-bit ('cits5508-fix': conda)"
  },
  "interpreter": {
   "hash": "83def2c927d79f74eac1e8a9334dfc8423fb47183e1de0990794ab6c42fdc83a"
  }
 },
 "nbformat": 4,
 "nbformat_minor": 2
}