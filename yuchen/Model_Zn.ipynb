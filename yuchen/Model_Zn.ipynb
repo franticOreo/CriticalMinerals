{
 "cells": [
  {
   "cell_type": "code",
   "execution_count": 49,
   "source": [
    "import pandas as pd\n",
    "import numpy as np\n",
    "import geopy.distance\n",
    "import fiona\n",
    "from tqdm import tqdm\n",
    "import matplotlib.pyplot as plt"
   ],
   "outputs": [],
   "metadata": {}
  },
  {
   "cell_type": "markdown",
   "source": [
    "### Shape file to CSV"
   ],
   "metadata": {}
  },
  {
   "cell_type": "code",
   "execution_count": 7,
   "source": [
    "df_SC = fiona.open('MINEDEX - Cu-Pb-Zn (TARGET) Zn (Site Commodity).shp')\n",
    "df_SC.next()['properties']"
   ],
   "outputs": [
    {
     "output_type": "stream",
     "name": "stderr",
     "text": [
      "/Users/zhengyuchen/opt/anaconda3/envs/cits5508-fix/lib/python3.7/site-packages/ipykernel_launcher.py:2: FionaDeprecationWarning: Collection.__next__() is buggy and will be removed in Fiona 2.0. Switch to `next(iter(collection))`.\n",
      "  \n"
     ]
    },
    {
     "output_type": "execute_result",
     "data": {
      "text/plain": [
       "OrderedDict([('SITE_CODE', 'S0001179'),\n",
       "             ('SITE_TITLE', 'Bonnie Rock BM'),\n",
       "             ('SHORT_NAME', 'Bonnie Rock BM'),\n",
       "             ('SITE_COMMO', 'Pb, Ag, Zn, Mn'),\n",
       "             ('SITE_TYPE_', 'Deposit'),\n",
       "             ('SITE_SUB_T', 'Unspecified'),\n",
       "             ('SITE_STAGE', 'Undeveloped'),\n",
       "             ('TARGET_COM', 'COPPER - LEAD - ZINC'),\n",
       "             ('COMMODITY', 'BASE METAL'),\n",
       "             ('PROJ_CODE', 'J00453'),\n",
       "             ('PROJ_TITLE', 'Gossan Dam - Bonnie Rock'),\n",
       "             ('CONFIDENTI', 'Public'),\n",
       "             ('POINT_CONF', 'Public'),\n",
       "             ('LATITUDE', -30.694559),\n",
       "             ('LONGITUDE', 118.315903),\n",
       "             ('WEB_LINK',\n",
       "              'https://minedex.dmirs.wa.gov.au/Web/common/jump.jsp?jumpType=SITE&id=S0001179'),\n",
       "             ('EXTRACT_DA', '2021-07-28')])"
      ]
     },
     "metadata": {},
     "execution_count": 7
    }
   ],
   "metadata": {}
  },
  {
   "cell_type": "code",
   "execution_count": 8,
   "source": [
    "df = fiona.open('MINEDEX - Cu-Pb-Zn (TARGET).shp')\n",
    "df.next()['properties']"
   ],
   "outputs": [
    {
     "output_type": "stream",
     "name": "stderr",
     "text": [
      "/Users/zhengyuchen/opt/anaconda3/envs/cits5508-fix/lib/python3.7/site-packages/ipykernel_launcher.py:2: FionaDeprecationWarning: Collection.__next__() is buggy and will be removed in Fiona 2.0. Switch to `next(iter(collection))`.\n",
      "  \n"
     ]
    },
    {
     "output_type": "execute_result",
     "data": {
      "text/plain": [
       "OrderedDict([('SITE_CODE', 'S0000854'),\n",
       "             ('SITE_TITLE', 'Horseshoe Lights'),\n",
       "             ('SHORT_NAME', 'Horseshoe Lights'),\n",
       "             ('SITE_COMMO', 'Cu, Au, Ag'),\n",
       "             ('SITE_TYPE_', 'Mine'),\n",
       "             ('SITE_SUB_T', 'Openpit'),\n",
       "             ('SITE_STAGE', 'Care and Maintenance'),\n",
       "             ('TARGET_COM', 'COPPER - LEAD - ZINC'),\n",
       "             ('COMMODITY', 'BASE METAL'),\n",
       "             ('PROJ_CODE', 'J00164'),\n",
       "             ('PROJ_TITLE', 'Horseshoe Lights'),\n",
       "             ('CONFIDENTI', 'Public'),\n",
       "             ('POINT_CONF', 'Public'),\n",
       "             ('LATITUDE', -25.361719),\n",
       "             ('LONGITUDE', 118.6213),\n",
       "             ('WEB_LINK',\n",
       "              'https://minedex.dmirs.wa.gov.au/Web/common/jump.jsp?jumpType=SITE&id=S0000854'),\n",
       "             ('EXTRACT_DA', '2021-07-28')])"
      ]
     },
     "metadata": {},
     "execution_count": 8
    }
   ],
   "metadata": {}
  },
  {
   "cell_type": "code",
   "execution_count": 9,
   "source": [
    "ordered_dicts = []\n",
    "\n",
    "for item in df_SC.items():\n",
    "    ordered_dicts.append(item[1])\n",
    "df_SC = pd.DataFrame([ordered_dicts[i]['properties'] for i, _ in enumerate(ordered_dicts)])\n",
    "df_SC.head()"
   ],
   "outputs": [
    {
     "output_type": "execute_result",
     "data": {
      "text/html": [
       "<div>\n",
       "<style scoped>\n",
       "    .dataframe tbody tr th:only-of-type {\n",
       "        vertical-align: middle;\n",
       "    }\n",
       "\n",
       "    .dataframe tbody tr th {\n",
       "        vertical-align: top;\n",
       "    }\n",
       "\n",
       "    .dataframe thead th {\n",
       "        text-align: right;\n",
       "    }\n",
       "</style>\n",
       "<table border=\"1\" class=\"dataframe\">\n",
       "  <thead>\n",
       "    <tr style=\"text-align: right;\">\n",
       "      <th></th>\n",
       "      <th>SITE_CODE</th>\n",
       "      <th>SITE_TITLE</th>\n",
       "      <th>SHORT_NAME</th>\n",
       "      <th>SITE_COMMO</th>\n",
       "      <th>SITE_TYPE_</th>\n",
       "      <th>SITE_SUB_T</th>\n",
       "      <th>SITE_STAGE</th>\n",
       "      <th>TARGET_COM</th>\n",
       "      <th>COMMODITY</th>\n",
       "      <th>PROJ_CODE</th>\n",
       "      <th>PROJ_TITLE</th>\n",
       "      <th>CONFIDENTI</th>\n",
       "      <th>POINT_CONF</th>\n",
       "      <th>LATITUDE</th>\n",
       "      <th>LONGITUDE</th>\n",
       "      <th>WEB_LINK</th>\n",
       "      <th>EXTRACT_DA</th>\n",
       "    </tr>\n",
       "  </thead>\n",
       "  <tbody>\n",
       "    <tr>\n",
       "      <th>0</th>\n",
       "      <td>S0001179</td>\n",
       "      <td>Bonnie Rock BM</td>\n",
       "      <td>Bonnie Rock BM</td>\n",
       "      <td>Pb, Ag, Zn, Mn</td>\n",
       "      <td>Deposit</td>\n",
       "      <td>Unspecified</td>\n",
       "      <td>Undeveloped</td>\n",
       "      <td>COPPER - LEAD - ZINC</td>\n",
       "      <td>BASE METAL</td>\n",
       "      <td>J00453</td>\n",
       "      <td>Gossan Dam - Bonnie Rock</td>\n",
       "      <td>Public</td>\n",
       "      <td>Public</td>\n",
       "      <td>-30.694559</td>\n",
       "      <td>118.315903</td>\n",
       "      <td>https://minedex.dmirs.wa.gov.au/Web/common/jum...</td>\n",
       "      <td>2021-07-28</td>\n",
       "    </tr>\n",
       "    <tr>\n",
       "      <th>1</th>\n",
       "      <td>S0001250</td>\n",
       "      <td>Manindi - Freddie Well Resource Group</td>\n",
       "      <td>Manindi Res Gp</td>\n",
       "      <td>Zn, Cu</td>\n",
       "      <td>Deposit</td>\n",
       "      <td>Unspecified</td>\n",
       "      <td>Undeveloped</td>\n",
       "      <td>COPPER - LEAD - ZINC</td>\n",
       "      <td>BASE METAL</td>\n",
       "      <td>J00522</td>\n",
       "      <td>Manindi</td>\n",
       "      <td>Public</td>\n",
       "      <td>Public</td>\n",
       "      <td>-28.751856</td>\n",
       "      <td>118.683032</td>\n",
       "      <td>https://minedex.dmirs.wa.gov.au/Web/common/jum...</td>\n",
       "      <td>2021-07-28</td>\n",
       "    </tr>\n",
       "    <tr>\n",
       "      <th>2</th>\n",
       "      <td>S0001256</td>\n",
       "      <td>Gossan Hill Portal</td>\n",
       "      <td>Gossan Hill U/G</td>\n",
       "      <td>Cu, Zn, Pb, Ag, Au</td>\n",
       "      <td>Mine</td>\n",
       "      <td>Decline</td>\n",
       "      <td>Operating</td>\n",
       "      <td>COPPER - LEAD - ZINC</td>\n",
       "      <td>BASE METAL</td>\n",
       "      <td>J00527</td>\n",
       "      <td>Golden Grove</td>\n",
       "      <td>Public</td>\n",
       "      <td>Public</td>\n",
       "      <td>-28.765087</td>\n",
       "      <td>116.962407</td>\n",
       "      <td>https://minedex.dmirs.wa.gov.au/Web/common/jum...</td>\n",
       "      <td>2021-07-28</td>\n",
       "    </tr>\n",
       "    <tr>\n",
       "      <th>3</th>\n",
       "      <td>S0001257</td>\n",
       "      <td>Scuddles Portal</td>\n",
       "      <td>Scuddles U/G</td>\n",
       "      <td>Zn, Pb, Cu, Ag, Au</td>\n",
       "      <td>Mine</td>\n",
       "      <td>Decline</td>\n",
       "      <td>Operating</td>\n",
       "      <td>COPPER - LEAD - ZINC</td>\n",
       "      <td>BASE METAL</td>\n",
       "      <td>J00527</td>\n",
       "      <td>Golden Grove</td>\n",
       "      <td>Public</td>\n",
       "      <td>Public</td>\n",
       "      <td>-28.744567</td>\n",
       "      <td>116.945103</td>\n",
       "      <td>https://minedex.dmirs.wa.gov.au/Web/common/jum...</td>\n",
       "      <td>2021-07-28</td>\n",
       "    </tr>\n",
       "    <tr>\n",
       "      <th>4</th>\n",
       "      <td>S0001335</td>\n",
       "      <td>Hammerhead - Lennons Find</td>\n",
       "      <td>Hammerhead</td>\n",
       "      <td>Zn, Pb, Ag</td>\n",
       "      <td>Deposit</td>\n",
       "      <td>Unspecified</td>\n",
       "      <td>Undeveloped</td>\n",
       "      <td>COPPER - LEAD - ZINC</td>\n",
       "      <td>BASE METAL</td>\n",
       "      <td>J00563</td>\n",
       "      <td>Lennons Find</td>\n",
       "      <td>Public</td>\n",
       "      <td>Public</td>\n",
       "      <td>-21.355850</td>\n",
       "      <td>120.239098</td>\n",
       "      <td>https://minedex.dmirs.wa.gov.au/Web/common/jum...</td>\n",
       "      <td>2021-07-28</td>\n",
       "    </tr>\n",
       "  </tbody>\n",
       "</table>\n",
       "</div>"
      ],
      "text/plain": [
       "  SITE_CODE                             SITE_TITLE       SHORT_NAME  \\\n",
       "0  S0001179                         Bonnie Rock BM   Bonnie Rock BM   \n",
       "1  S0001250  Manindi - Freddie Well Resource Group   Manindi Res Gp   \n",
       "2  S0001256                     Gossan Hill Portal  Gossan Hill U/G   \n",
       "3  S0001257                        Scuddles Portal     Scuddles U/G   \n",
       "4  S0001335              Hammerhead - Lennons Find       Hammerhead   \n",
       "\n",
       "           SITE_COMMO SITE_TYPE_   SITE_SUB_T   SITE_STAGE  \\\n",
       "0      Pb, Ag, Zn, Mn    Deposit  Unspecified  Undeveloped   \n",
       "1              Zn, Cu    Deposit  Unspecified  Undeveloped   \n",
       "2  Cu, Zn, Pb, Ag, Au       Mine      Decline    Operating   \n",
       "3  Zn, Pb, Cu, Ag, Au       Mine      Decline    Operating   \n",
       "4          Zn, Pb, Ag    Deposit  Unspecified  Undeveloped   \n",
       "\n",
       "             TARGET_COM   COMMODITY PROJ_CODE                PROJ_TITLE  \\\n",
       "0  COPPER - LEAD - ZINC  BASE METAL    J00453  Gossan Dam - Bonnie Rock   \n",
       "1  COPPER - LEAD - ZINC  BASE METAL    J00522                   Manindi   \n",
       "2  COPPER - LEAD - ZINC  BASE METAL    J00527              Golden Grove   \n",
       "3  COPPER - LEAD - ZINC  BASE METAL    J00527              Golden Grove   \n",
       "4  COPPER - LEAD - ZINC  BASE METAL    J00563              Lennons Find   \n",
       "\n",
       "  CONFIDENTI POINT_CONF   LATITUDE   LONGITUDE  \\\n",
       "0     Public     Public -30.694559  118.315903   \n",
       "1     Public     Public -28.751856  118.683032   \n",
       "2     Public     Public -28.765087  116.962407   \n",
       "3     Public     Public -28.744567  116.945103   \n",
       "4     Public     Public -21.355850  120.239098   \n",
       "\n",
       "                                            WEB_LINK  EXTRACT_DA  \n",
       "0  https://minedex.dmirs.wa.gov.au/Web/common/jum...  2021-07-28  \n",
       "1  https://minedex.dmirs.wa.gov.au/Web/common/jum...  2021-07-28  \n",
       "2  https://minedex.dmirs.wa.gov.au/Web/common/jum...  2021-07-28  \n",
       "3  https://minedex.dmirs.wa.gov.au/Web/common/jum...  2021-07-28  \n",
       "4  https://minedex.dmirs.wa.gov.au/Web/common/jum...  2021-07-28  "
      ]
     },
     "metadata": {},
     "execution_count": 9
    }
   ],
   "metadata": {}
  },
  {
   "cell_type": "code",
   "execution_count": 10,
   "source": [
    "ordered_dicts = []\n",
    "\n",
    "for item in df.items():\n",
    "    ordered_dicts.append(item[1])\n",
    "df = pd.DataFrame([ordered_dicts[i]['properties'] for i, _ in enumerate(ordered_dicts)])\n",
    "df.head()"
   ],
   "outputs": [
    {
     "output_type": "execute_result",
     "data": {
      "text/html": [
       "<div>\n",
       "<style scoped>\n",
       "    .dataframe tbody tr th:only-of-type {\n",
       "        vertical-align: middle;\n",
       "    }\n",
       "\n",
       "    .dataframe tbody tr th {\n",
       "        vertical-align: top;\n",
       "    }\n",
       "\n",
       "    .dataframe thead th {\n",
       "        text-align: right;\n",
       "    }\n",
       "</style>\n",
       "<table border=\"1\" class=\"dataframe\">\n",
       "  <thead>\n",
       "    <tr style=\"text-align: right;\">\n",
       "      <th></th>\n",
       "      <th>SITE_CODE</th>\n",
       "      <th>SITE_TITLE</th>\n",
       "      <th>SHORT_NAME</th>\n",
       "      <th>SITE_COMMO</th>\n",
       "      <th>SITE_TYPE_</th>\n",
       "      <th>SITE_SUB_T</th>\n",
       "      <th>SITE_STAGE</th>\n",
       "      <th>TARGET_COM</th>\n",
       "      <th>COMMODITY</th>\n",
       "      <th>PROJ_CODE</th>\n",
       "      <th>PROJ_TITLE</th>\n",
       "      <th>CONFIDENTI</th>\n",
       "      <th>POINT_CONF</th>\n",
       "      <th>LATITUDE</th>\n",
       "      <th>LONGITUDE</th>\n",
       "      <th>WEB_LINK</th>\n",
       "      <th>EXTRACT_DA</th>\n",
       "    </tr>\n",
       "  </thead>\n",
       "  <tbody>\n",
       "    <tr>\n",
       "      <th>0</th>\n",
       "      <td>S0000854</td>\n",
       "      <td>Horseshoe Lights</td>\n",
       "      <td>Horseshoe Lights</td>\n",
       "      <td>Cu, Au, Ag</td>\n",
       "      <td>Mine</td>\n",
       "      <td>Openpit</td>\n",
       "      <td>Care and Maintenance</td>\n",
       "      <td>COPPER - LEAD - ZINC</td>\n",
       "      <td>BASE METAL</td>\n",
       "      <td>J00164</td>\n",
       "      <td>Horseshoe Lights</td>\n",
       "      <td>Public</td>\n",
       "      <td>Public</td>\n",
       "      <td>-25.361719</td>\n",
       "      <td>118.621300</td>\n",
       "      <td>https://minedex.dmirs.wa.gov.au/Web/common/jum...</td>\n",
       "      <td>2021-07-28</td>\n",
       "    </tr>\n",
       "    <tr>\n",
       "      <th>1</th>\n",
       "      <td>S0001179</td>\n",
       "      <td>Bonnie Rock BM</td>\n",
       "      <td>Bonnie Rock BM</td>\n",
       "      <td>Pb, Ag, Zn, Mn</td>\n",
       "      <td>Deposit</td>\n",
       "      <td>Unspecified</td>\n",
       "      <td>Undeveloped</td>\n",
       "      <td>COPPER - LEAD - ZINC</td>\n",
       "      <td>BASE METAL</td>\n",
       "      <td>J00453</td>\n",
       "      <td>Gossan Dam - Bonnie Rock</td>\n",
       "      <td>Public</td>\n",
       "      <td>Public</td>\n",
       "      <td>-30.694559</td>\n",
       "      <td>118.315903</td>\n",
       "      <td>https://minedex.dmirs.wa.gov.au/Web/common/jum...</td>\n",
       "      <td>2021-07-28</td>\n",
       "    </tr>\n",
       "    <tr>\n",
       "      <th>2</th>\n",
       "      <td>S0001213</td>\n",
       "      <td>Copper Gorge</td>\n",
       "      <td>Copper Gorge</td>\n",
       "      <td>Cu</td>\n",
       "      <td>Prospect</td>\n",
       "      <td>Drillhole</td>\n",
       "      <td>Undeveloped</td>\n",
       "      <td>COPPER - LEAD - ZINC</td>\n",
       "      <td>BASE METAL</td>\n",
       "      <td>J00486</td>\n",
       "      <td>Otway</td>\n",
       "      <td>Public</td>\n",
       "      <td>Public</td>\n",
       "      <td>-21.608749</td>\n",
       "      <td>120.350098</td>\n",
       "      <td>https://minedex.dmirs.wa.gov.au/Web/common/jum...</td>\n",
       "      <td>2021-07-28</td>\n",
       "    </tr>\n",
       "    <tr>\n",
       "      <th>3</th>\n",
       "      <td>S0001250</td>\n",
       "      <td>Manindi - Freddie Well Resource Group</td>\n",
       "      <td>Manindi Res Gp</td>\n",
       "      <td>Zn, Cu</td>\n",
       "      <td>Deposit</td>\n",
       "      <td>Unspecified</td>\n",
       "      <td>Undeveloped</td>\n",
       "      <td>COPPER - LEAD - ZINC</td>\n",
       "      <td>BASE METAL</td>\n",
       "      <td>J00522</td>\n",
       "      <td>Manindi</td>\n",
       "      <td>Public</td>\n",
       "      <td>Public</td>\n",
       "      <td>-28.751856</td>\n",
       "      <td>118.683032</td>\n",
       "      <td>https://minedex.dmirs.wa.gov.au/Web/common/jum...</td>\n",
       "      <td>2021-07-28</td>\n",
       "    </tr>\n",
       "    <tr>\n",
       "      <th>4</th>\n",
       "      <td>S0001256</td>\n",
       "      <td>Gossan Hill Portal</td>\n",
       "      <td>Gossan Hill U/G</td>\n",
       "      <td>Cu, Zn, Pb, Ag, Au</td>\n",
       "      <td>Mine</td>\n",
       "      <td>Decline</td>\n",
       "      <td>Operating</td>\n",
       "      <td>COPPER - LEAD - ZINC</td>\n",
       "      <td>BASE METAL</td>\n",
       "      <td>J00527</td>\n",
       "      <td>Golden Grove</td>\n",
       "      <td>Public</td>\n",
       "      <td>Public</td>\n",
       "      <td>-28.765087</td>\n",
       "      <td>116.962407</td>\n",
       "      <td>https://minedex.dmirs.wa.gov.au/Web/common/jum...</td>\n",
       "      <td>2021-07-28</td>\n",
       "    </tr>\n",
       "  </tbody>\n",
       "</table>\n",
       "</div>"
      ],
      "text/plain": [
       "  SITE_CODE                             SITE_TITLE        SHORT_NAME  \\\n",
       "0  S0000854                       Horseshoe Lights  Horseshoe Lights   \n",
       "1  S0001179                         Bonnie Rock BM    Bonnie Rock BM   \n",
       "2  S0001213                           Copper Gorge      Copper Gorge   \n",
       "3  S0001250  Manindi - Freddie Well Resource Group    Manindi Res Gp   \n",
       "4  S0001256                     Gossan Hill Portal   Gossan Hill U/G   \n",
       "\n",
       "           SITE_COMMO SITE_TYPE_   SITE_SUB_T            SITE_STAGE  \\\n",
       "0          Cu, Au, Ag       Mine      Openpit  Care and Maintenance   \n",
       "1      Pb, Ag, Zn, Mn    Deposit  Unspecified           Undeveloped   \n",
       "2                  Cu   Prospect    Drillhole           Undeveloped   \n",
       "3              Zn, Cu    Deposit  Unspecified           Undeveloped   \n",
       "4  Cu, Zn, Pb, Ag, Au       Mine      Decline             Operating   \n",
       "\n",
       "             TARGET_COM   COMMODITY PROJ_CODE                PROJ_TITLE  \\\n",
       "0  COPPER - LEAD - ZINC  BASE METAL    J00164          Horseshoe Lights   \n",
       "1  COPPER - LEAD - ZINC  BASE METAL    J00453  Gossan Dam - Bonnie Rock   \n",
       "2  COPPER - LEAD - ZINC  BASE METAL    J00486                     Otway   \n",
       "3  COPPER - LEAD - ZINC  BASE METAL    J00522                   Manindi   \n",
       "4  COPPER - LEAD - ZINC  BASE METAL    J00527              Golden Grove   \n",
       "\n",
       "  CONFIDENTI POINT_CONF   LATITUDE   LONGITUDE  \\\n",
       "0     Public     Public -25.361719  118.621300   \n",
       "1     Public     Public -30.694559  118.315903   \n",
       "2     Public     Public -21.608749  120.350098   \n",
       "3     Public     Public -28.751856  118.683032   \n",
       "4     Public     Public -28.765087  116.962407   \n",
       "\n",
       "                                            WEB_LINK  EXTRACT_DA  \n",
       "0  https://minedex.dmirs.wa.gov.au/Web/common/jum...  2021-07-28  \n",
       "1  https://minedex.dmirs.wa.gov.au/Web/common/jum...  2021-07-28  \n",
       "2  https://minedex.dmirs.wa.gov.au/Web/common/jum...  2021-07-28  \n",
       "3  https://minedex.dmirs.wa.gov.au/Web/common/jum...  2021-07-28  \n",
       "4  https://minedex.dmirs.wa.gov.au/Web/common/jum...  2021-07-28  "
      ]
     },
     "metadata": {},
     "execution_count": 10
    }
   ],
   "metadata": {}
  },
  {
   "cell_type": "code",
   "execution_count": 11,
   "source": [
    "df_Zn = df[df['SITE_COMMO'].str.contains('Zn')]\n",
    "df_Zn.shape"
   ],
   "outputs": [
    {
     "output_type": "execute_result",
     "data": {
      "text/plain": [
       "(964, 17)"
      ]
     },
     "metadata": {},
     "execution_count": 11
    }
   ],
   "metadata": {}
  },
  {
   "cell_type": "code",
   "execution_count": 12,
   "source": [
    "df_SC.shape"
   ],
   "outputs": [
    {
     "output_type": "execute_result",
     "data": {
      "text/plain": [
       "(964, 17)"
      ]
     },
     "metadata": {},
     "execution_count": 12
    }
   ],
   "metadata": {}
  },
  {
   "cell_type": "code",
   "execution_count": 13,
   "source": [
    "# The SITE_COMMO column in MINEDEX-Cu-Pb-Zn(TARGET).csv contains Zn\n",
    "# -> MINEDEX-Cu-Pb-Zn(TARGET)Zn(Site Commodity).csv\n",
    "df_SC.to_csv('MINEDEX-Cu-Pb-Zn(TARGET)Zn(Site Commodity).csv')\n",
    "df.to_csv('MINEDEX-Cu-Pb-Zn(TARGET)')"
   ],
   "outputs": [],
   "metadata": {}
  },
  {
   "cell_type": "code",
   "execution_count": 14,
   "source": [
    "df_minedex = pd.read_csv('MINEDEX-Cu-Pb-Zn(TARGET)Zn(Site Commodity).csv')"
   ],
   "outputs": [],
   "metadata": {}
  },
  {
   "cell_type": "markdown",
   "source": [
    "### Filter CSV"
   ],
   "metadata": {}
  },
  {
   "cell_type": "code",
   "execution_count": 15,
   "source": [
    "df_minedex = df_minedex.loc[(df_minedex['SITE_TYPE_'] == 'Mine') | (df_minedex['SITE_TYPE_'] == 'Deposit')]"
   ],
   "outputs": [],
   "metadata": {}
  },
  {
   "cell_type": "code",
   "execution_count": 16,
   "source": [
    "df_minedex.shape"
   ],
   "outputs": [
    {
     "output_type": "execute_result",
     "data": {
      "text/plain": [
       "(159, 18)"
      ]
     },
     "metadata": {},
     "execution_count": 16
    }
   ],
   "metadata": {}
  },
  {
   "cell_type": "code",
   "execution_count": 17,
   "source": [
    "df_minedex.head()"
   ],
   "outputs": [
    {
     "output_type": "execute_result",
     "data": {
      "text/html": [
       "<div>\n",
       "<style scoped>\n",
       "    .dataframe tbody tr th:only-of-type {\n",
       "        vertical-align: middle;\n",
       "    }\n",
       "\n",
       "    .dataframe tbody tr th {\n",
       "        vertical-align: top;\n",
       "    }\n",
       "\n",
       "    .dataframe thead th {\n",
       "        text-align: right;\n",
       "    }\n",
       "</style>\n",
       "<table border=\"1\" class=\"dataframe\">\n",
       "  <thead>\n",
       "    <tr style=\"text-align: right;\">\n",
       "      <th></th>\n",
       "      <th>Unnamed: 0</th>\n",
       "      <th>SITE_CODE</th>\n",
       "      <th>SITE_TITLE</th>\n",
       "      <th>SHORT_NAME</th>\n",
       "      <th>SITE_COMMO</th>\n",
       "      <th>SITE_TYPE_</th>\n",
       "      <th>SITE_SUB_T</th>\n",
       "      <th>SITE_STAGE</th>\n",
       "      <th>TARGET_COM</th>\n",
       "      <th>COMMODITY</th>\n",
       "      <th>PROJ_CODE</th>\n",
       "      <th>PROJ_TITLE</th>\n",
       "      <th>CONFIDENTI</th>\n",
       "      <th>POINT_CONF</th>\n",
       "      <th>LATITUDE</th>\n",
       "      <th>LONGITUDE</th>\n",
       "      <th>WEB_LINK</th>\n",
       "      <th>EXTRACT_DA</th>\n",
       "    </tr>\n",
       "  </thead>\n",
       "  <tbody>\n",
       "    <tr>\n",
       "      <th>0</th>\n",
       "      <td>0</td>\n",
       "      <td>S0001179</td>\n",
       "      <td>Bonnie Rock BM</td>\n",
       "      <td>Bonnie Rock BM</td>\n",
       "      <td>Pb, Ag, Zn, Mn</td>\n",
       "      <td>Deposit</td>\n",
       "      <td>Unspecified</td>\n",
       "      <td>Undeveloped</td>\n",
       "      <td>COPPER - LEAD - ZINC</td>\n",
       "      <td>BASE METAL</td>\n",
       "      <td>J00453</td>\n",
       "      <td>Gossan Dam - Bonnie Rock</td>\n",
       "      <td>Public</td>\n",
       "      <td>Public</td>\n",
       "      <td>-30.694559</td>\n",
       "      <td>118.315903</td>\n",
       "      <td>https://minedex.dmirs.wa.gov.au/Web/common/jum...</td>\n",
       "      <td>2021-07-28</td>\n",
       "    </tr>\n",
       "    <tr>\n",
       "      <th>1</th>\n",
       "      <td>1</td>\n",
       "      <td>S0001250</td>\n",
       "      <td>Manindi - Freddie Well Resource Group</td>\n",
       "      <td>Manindi Res Gp</td>\n",
       "      <td>Zn, Cu</td>\n",
       "      <td>Deposit</td>\n",
       "      <td>Unspecified</td>\n",
       "      <td>Undeveloped</td>\n",
       "      <td>COPPER - LEAD - ZINC</td>\n",
       "      <td>BASE METAL</td>\n",
       "      <td>J00522</td>\n",
       "      <td>Manindi</td>\n",
       "      <td>Public</td>\n",
       "      <td>Public</td>\n",
       "      <td>-28.751856</td>\n",
       "      <td>118.683032</td>\n",
       "      <td>https://minedex.dmirs.wa.gov.au/Web/common/jum...</td>\n",
       "      <td>2021-07-28</td>\n",
       "    </tr>\n",
       "    <tr>\n",
       "      <th>2</th>\n",
       "      <td>2</td>\n",
       "      <td>S0001256</td>\n",
       "      <td>Gossan Hill Portal</td>\n",
       "      <td>Gossan Hill U/G</td>\n",
       "      <td>Cu, Zn, Pb, Ag, Au</td>\n",
       "      <td>Mine</td>\n",
       "      <td>Decline</td>\n",
       "      <td>Operating</td>\n",
       "      <td>COPPER - LEAD - ZINC</td>\n",
       "      <td>BASE METAL</td>\n",
       "      <td>J00527</td>\n",
       "      <td>Golden Grove</td>\n",
       "      <td>Public</td>\n",
       "      <td>Public</td>\n",
       "      <td>-28.765087</td>\n",
       "      <td>116.962407</td>\n",
       "      <td>https://minedex.dmirs.wa.gov.au/Web/common/jum...</td>\n",
       "      <td>2021-07-28</td>\n",
       "    </tr>\n",
       "    <tr>\n",
       "      <th>3</th>\n",
       "      <td>3</td>\n",
       "      <td>S0001257</td>\n",
       "      <td>Scuddles Portal</td>\n",
       "      <td>Scuddles U/G</td>\n",
       "      <td>Zn, Pb, Cu, Ag, Au</td>\n",
       "      <td>Mine</td>\n",
       "      <td>Decline</td>\n",
       "      <td>Operating</td>\n",
       "      <td>COPPER - LEAD - ZINC</td>\n",
       "      <td>BASE METAL</td>\n",
       "      <td>J00527</td>\n",
       "      <td>Golden Grove</td>\n",
       "      <td>Public</td>\n",
       "      <td>Public</td>\n",
       "      <td>-28.744567</td>\n",
       "      <td>116.945103</td>\n",
       "      <td>https://minedex.dmirs.wa.gov.au/Web/common/jum...</td>\n",
       "      <td>2021-07-28</td>\n",
       "    </tr>\n",
       "    <tr>\n",
       "      <th>4</th>\n",
       "      <td>4</td>\n",
       "      <td>S0001335</td>\n",
       "      <td>Hammerhead - Lennons Find</td>\n",
       "      <td>Hammerhead</td>\n",
       "      <td>Zn, Pb, Ag</td>\n",
       "      <td>Deposit</td>\n",
       "      <td>Unspecified</td>\n",
       "      <td>Undeveloped</td>\n",
       "      <td>COPPER - LEAD - ZINC</td>\n",
       "      <td>BASE METAL</td>\n",
       "      <td>J00563</td>\n",
       "      <td>Lennons Find</td>\n",
       "      <td>Public</td>\n",
       "      <td>Public</td>\n",
       "      <td>-21.355850</td>\n",
       "      <td>120.239098</td>\n",
       "      <td>https://minedex.dmirs.wa.gov.au/Web/common/jum...</td>\n",
       "      <td>2021-07-28</td>\n",
       "    </tr>\n",
       "  </tbody>\n",
       "</table>\n",
       "</div>"
      ],
      "text/plain": [
       "   Unnamed: 0 SITE_CODE                             SITE_TITLE  \\\n",
       "0           0  S0001179                         Bonnie Rock BM   \n",
       "1           1  S0001250  Manindi - Freddie Well Resource Group   \n",
       "2           2  S0001256                     Gossan Hill Portal   \n",
       "3           3  S0001257                        Scuddles Portal   \n",
       "4           4  S0001335              Hammerhead - Lennons Find   \n",
       "\n",
       "        SHORT_NAME          SITE_COMMO SITE_TYPE_   SITE_SUB_T   SITE_STAGE  \\\n",
       "0   Bonnie Rock BM      Pb, Ag, Zn, Mn    Deposit  Unspecified  Undeveloped   \n",
       "1   Manindi Res Gp              Zn, Cu    Deposit  Unspecified  Undeveloped   \n",
       "2  Gossan Hill U/G  Cu, Zn, Pb, Ag, Au       Mine      Decline    Operating   \n",
       "3     Scuddles U/G  Zn, Pb, Cu, Ag, Au       Mine      Decline    Operating   \n",
       "4       Hammerhead          Zn, Pb, Ag    Deposit  Unspecified  Undeveloped   \n",
       "\n",
       "             TARGET_COM   COMMODITY PROJ_CODE                PROJ_TITLE  \\\n",
       "0  COPPER - LEAD - ZINC  BASE METAL    J00453  Gossan Dam - Bonnie Rock   \n",
       "1  COPPER - LEAD - ZINC  BASE METAL    J00522                   Manindi   \n",
       "2  COPPER - LEAD - ZINC  BASE METAL    J00527              Golden Grove   \n",
       "3  COPPER - LEAD - ZINC  BASE METAL    J00527              Golden Grove   \n",
       "4  COPPER - LEAD - ZINC  BASE METAL    J00563              Lennons Find   \n",
       "\n",
       "  CONFIDENTI POINT_CONF   LATITUDE   LONGITUDE  \\\n",
       "0     Public     Public -30.694559  118.315903   \n",
       "1     Public     Public -28.751856  118.683032   \n",
       "2     Public     Public -28.765087  116.962407   \n",
       "3     Public     Public -28.744567  116.945103   \n",
       "4     Public     Public -21.355850  120.239098   \n",
       "\n",
       "                                            WEB_LINK  EXTRACT_DA  \n",
       "0  https://minedex.dmirs.wa.gov.au/Web/common/jum...  2021-07-28  \n",
       "1  https://minedex.dmirs.wa.gov.au/Web/common/jum...  2021-07-28  \n",
       "2  https://minedex.dmirs.wa.gov.au/Web/common/jum...  2021-07-28  \n",
       "3  https://minedex.dmirs.wa.gov.au/Web/common/jum...  2021-07-28  \n",
       "4  https://minedex.dmirs.wa.gov.au/Web/common/jum...  2021-07-28  "
      ]
     },
     "metadata": {},
     "execution_count": 17
    }
   ],
   "metadata": {}
  },
  {
   "cell_type": "code",
   "execution_count": 18,
   "source": [
    "#Count by site type\n",
    "df_minedex['SITE_TYPE_'].value_counts()"
   ],
   "outputs": [
    {
     "output_type": "execute_result",
     "data": {
      "text/plain": [
       "Mine       95\n",
       "Deposit    64\n",
       "Name: SITE_TYPE_, dtype: int64"
      ]
     },
     "metadata": {},
     "execution_count": 18
    }
   ],
   "metadata": {}
  },
  {
   "cell_type": "code",
   "execution_count": 19,
   "source": [
    "df_minedex['SITE_COMMO'].value_counts()"
   ],
   "outputs": [
    {
     "output_type": "execute_result",
     "data": {
      "text/plain": [
       "Pb, Zn, Ag                              23\n",
       "Zn, Pb                                  15\n",
       "Zn, Pb, Ag                              13\n",
       "Cu, Zn, Pb, Ag, Au                       9\n",
       "Pb, Zn                                   8\n",
       "Zn, Cu, Ag, Pb                           6\n",
       "Zn, Cu                                   6\n",
       "Zn, Cu, Pb, Ag, Au                       5\n",
       "Zn, Pb, Cu, Ag, Au                       4\n",
       "Zn, Cu, Pb, Ag                           3\n",
       "Cu, Zn, Ag                               3\n",
       "Cu, Zn                                   3\n",
       "Cu, Au, Ag, Zn, Pd, CuSpec, Ccl, Mal     3\n",
       "Zn, Pb, Ag, Cu                           2\n",
       "Cu, Pb, Zn, Ag                           2\n",
       "Zn, Cu, Ag, Au, Pb                       2\n",
       "Cu, Au, Ag, Zn, Pd                       2\n",
       "Pb, Ag, Zn, Cu                           2\n",
       "Pb, Ag, Zn                               2\n",
       "Cu, Zn, Ag, Au                           2\n",
       "Cu, Pb, Zn, Au, Ag                       2\n",
       "Zn, Pb, Ag, Ba                           2\n",
       "Zn, Au                                   2\n",
       "Zn, Cu, Ag                               2\n",
       "Pb, Zn, Cu, Ag, Au                       2\n",
       "Cu, Co, Ag, Pb, Zn, CuSpec               1\n",
       "Pb, Ag, Zn, Ba, Cu, Mn                   1\n",
       "Pb, Cu, Zn                               1\n",
       "Zn, Cu, Ag, Au                           1\n",
       "Pb, Ag, Zn, Mn                           1\n",
       "Zn, Pb, Cu                               1\n",
       "Zn, Pb, Cu, Ag                           1\n",
       "Pb, Zn, Ag, Brt, Fl                      1\n",
       "Zn, Au, Cu, Pb, Ag                       1\n",
       "Zn, Ag, Pb                               1\n",
       "Pb, Cu, Ag, Zn                           1\n",
       "Cu, U, Pb, Zn, Ag                        1\n",
       "Cu, Au, Ag, Pb, Zn                       1\n",
       "Pb, Ag, Cu, Zn                           1\n",
       "Zn                                       1\n",
       "Cu, Au, Zn, Pb, Ag                       1\n",
       "Cu, Au, Zn, Ag                           1\n",
       "Cu, Pb, Zn, Ag, Au                       1\n",
       "Cu, Zn, Co, Ag, Au                       1\n",
       "Cu, Zn, Pb, Au, Ag                       1\n",
       "Zn, Pb, Ag, SulSpec                      1\n",
       "Pb, Ag, Zn, Cu, Au                       1\n",
       "Pb, Au, Cu, Ag, Zn, U                    1\n",
       "Pb, Cu, U, Zn, Ag                        1\n",
       "Zn, Pb, Ag, Ba, Brt                      1\n",
       "Pb, Cu, Zn, Au, Ag                       1\n",
       "Cu, Au, Zn, Ag, Pb                       1\n",
       "Zn, Cu, Au, Pb, Ag                       1\n",
       "Pb, Cu, Zn, Ag                           1\n",
       "Cu, Au, W, Pb, Zn, As, Bi, Ag, Co        1\n",
       "Cu, Au, Ag, Pb, Zn, Sb                   1\n",
       "Pb, Ag, Zn, V                            1\n",
       "Pb, Zn, Cu, Ag                           1\n",
       "Zn, Cu, Pb, Au, Ag                       1\n",
       "Name: SITE_COMMO, dtype: int64"
      ]
     },
     "metadata": {},
     "execution_count": 19
    }
   ],
   "metadata": {}
  },
  {
   "cell_type": "code",
   "execution_count": 20,
   "source": [
    "data = {'minedex_lat': df_minedex['LATITUDE'], 'minedex_lon': df_minedex['LONGITUDE'], 'minedex_site': df_minedex['SITE_CODE']}\n",
    "mindex_coords_df = pd.DataFrame(data)"
   ],
   "outputs": [],
   "metadata": {}
  },
  {
   "cell_type": "code",
   "execution_count": 21,
   "source": [
    "mindex_coords_df"
   ],
   "outputs": [
    {
     "output_type": "execute_result",
     "data": {
      "text/html": [
       "<div>\n",
       "<style scoped>\n",
       "    .dataframe tbody tr th:only-of-type {\n",
       "        vertical-align: middle;\n",
       "    }\n",
       "\n",
       "    .dataframe tbody tr th {\n",
       "        vertical-align: top;\n",
       "    }\n",
       "\n",
       "    .dataframe thead th {\n",
       "        text-align: right;\n",
       "    }\n",
       "</style>\n",
       "<table border=\"1\" class=\"dataframe\">\n",
       "  <thead>\n",
       "    <tr style=\"text-align: right;\">\n",
       "      <th></th>\n",
       "      <th>minedex_lat</th>\n",
       "      <th>minedex_lon</th>\n",
       "      <th>minedex_site</th>\n",
       "    </tr>\n",
       "  </thead>\n",
       "  <tbody>\n",
       "    <tr>\n",
       "      <th>0</th>\n",
       "      <td>-30.694559</td>\n",
       "      <td>118.315903</td>\n",
       "      <td>S0001179</td>\n",
       "    </tr>\n",
       "    <tr>\n",
       "      <th>1</th>\n",
       "      <td>-28.751856</td>\n",
       "      <td>118.683032</td>\n",
       "      <td>S0001250</td>\n",
       "    </tr>\n",
       "    <tr>\n",
       "      <th>2</th>\n",
       "      <td>-28.765087</td>\n",
       "      <td>116.962407</td>\n",
       "      <td>S0001256</td>\n",
       "    </tr>\n",
       "    <tr>\n",
       "      <th>3</th>\n",
       "      <td>-28.744567</td>\n",
       "      <td>116.945103</td>\n",
       "      <td>S0001257</td>\n",
       "    </tr>\n",
       "    <tr>\n",
       "      <th>4</th>\n",
       "      <td>-21.355850</td>\n",
       "      <td>120.239098</td>\n",
       "      <td>S0001335</td>\n",
       "    </tr>\n",
       "    <tr>\n",
       "      <th>...</th>\n",
       "      <td>...</td>\n",
       "      <td>...</td>\n",
       "      <td>...</td>\n",
       "    </tr>\n",
       "    <tr>\n",
       "      <th>872</th>\n",
       "      <td>-21.146509</td>\n",
       "      <td>119.211954</td>\n",
       "      <td>S0226152</td>\n",
       "    </tr>\n",
       "    <tr>\n",
       "      <th>881</th>\n",
       "      <td>-28.483949</td>\n",
       "      <td>121.169987</td>\n",
       "      <td>S0229619</td>\n",
       "    </tr>\n",
       "    <tr>\n",
       "      <th>889</th>\n",
       "      <td>-19.222219</td>\n",
       "      <td>122.321701</td>\n",
       "      <td>S0230644</td>\n",
       "    </tr>\n",
       "    <tr>\n",
       "      <th>899</th>\n",
       "      <td>-18.321529</td>\n",
       "      <td>125.778999</td>\n",
       "      <td>S0231252</td>\n",
       "    </tr>\n",
       "    <tr>\n",
       "      <th>905</th>\n",
       "      <td>-28.397473</td>\n",
       "      <td>121.145223</td>\n",
       "      <td>S0231974</td>\n",
       "    </tr>\n",
       "  </tbody>\n",
       "</table>\n",
       "<p>159 rows × 3 columns</p>\n",
       "</div>"
      ],
      "text/plain": [
       "     minedex_lat  minedex_lon minedex_site\n",
       "0     -30.694559   118.315903     S0001179\n",
       "1     -28.751856   118.683032     S0001250\n",
       "2     -28.765087   116.962407     S0001256\n",
       "3     -28.744567   116.945103     S0001257\n",
       "4     -21.355850   120.239098     S0001335\n",
       "..           ...          ...          ...\n",
       "872   -21.146509   119.211954     S0226152\n",
       "881   -28.483949   121.169987     S0229619\n",
       "889   -19.222219   122.321701     S0230644\n",
       "899   -18.321529   125.778999     S0231252\n",
       "905   -28.397473   121.145223     S0231974\n",
       "\n",
       "[159 rows x 3 columns]"
      ]
     },
     "metadata": {},
     "execution_count": 21
    }
   ],
   "metadata": {}
  },
  {
   "cell_type": "code",
   "execution_count": 22,
   "source": [
    "mindex_coords_df['minedex_site'].nunique()"
   ],
   "outputs": [
    {
     "output_type": "execute_result",
     "data": {
      "text/plain": [
       "159"
      ]
     },
     "metadata": {},
     "execution_count": 22
    }
   ],
   "metadata": {}
  },
  {
   "cell_type": "code",
   "execution_count": 23,
   "source": [
    "mindex_coords = list(zip(mindex_coords_df['minedex_lat'], mindex_coords_df['minedex_lon']))"
   ],
   "outputs": [],
   "metadata": {}
  },
  {
   "cell_type": "code",
   "execution_count": 24,
   "source": [
    "mindex_coords_df['coords'] = mindex_coords\n",
    "mindex_coords_df.head()"
   ],
   "outputs": [
    {
     "output_type": "execute_result",
     "data": {
      "text/html": [
       "<div>\n",
       "<style scoped>\n",
       "    .dataframe tbody tr th:only-of-type {\n",
       "        vertical-align: middle;\n",
       "    }\n",
       "\n",
       "    .dataframe tbody tr th {\n",
       "        vertical-align: top;\n",
       "    }\n",
       "\n",
       "    .dataframe thead th {\n",
       "        text-align: right;\n",
       "    }\n",
       "</style>\n",
       "<table border=\"1\" class=\"dataframe\">\n",
       "  <thead>\n",
       "    <tr style=\"text-align: right;\">\n",
       "      <th></th>\n",
       "      <th>minedex_lat</th>\n",
       "      <th>minedex_lon</th>\n",
       "      <th>minedex_site</th>\n",
       "      <th>coords</th>\n",
       "    </tr>\n",
       "  </thead>\n",
       "  <tbody>\n",
       "    <tr>\n",
       "      <th>0</th>\n",
       "      <td>-30.694559</td>\n",
       "      <td>118.315903</td>\n",
       "      <td>S0001179</td>\n",
       "      <td>(-30.694559, 118.315903)</td>\n",
       "    </tr>\n",
       "    <tr>\n",
       "      <th>1</th>\n",
       "      <td>-28.751856</td>\n",
       "      <td>118.683032</td>\n",
       "      <td>S0001250</td>\n",
       "      <td>(-28.751856, 118.683032)</td>\n",
       "    </tr>\n",
       "    <tr>\n",
       "      <th>2</th>\n",
       "      <td>-28.765087</td>\n",
       "      <td>116.962407</td>\n",
       "      <td>S0001256</td>\n",
       "      <td>(-28.765087, 116.962407)</td>\n",
       "    </tr>\n",
       "    <tr>\n",
       "      <th>3</th>\n",
       "      <td>-28.744567</td>\n",
       "      <td>116.945103</td>\n",
       "      <td>S0001257</td>\n",
       "      <td>(-28.744567, 116.945103)</td>\n",
       "    </tr>\n",
       "    <tr>\n",
       "      <th>4</th>\n",
       "      <td>-21.355850</td>\n",
       "      <td>120.239098</td>\n",
       "      <td>S0001335</td>\n",
       "      <td>(-21.35585, 120.239098)</td>\n",
       "    </tr>\n",
       "  </tbody>\n",
       "</table>\n",
       "</div>"
      ],
      "text/plain": [
       "   minedex_lat  minedex_lon minedex_site                    coords\n",
       "0   -30.694559   118.315903     S0001179  (-30.694559, 118.315903)\n",
       "1   -28.751856   118.683032     S0001250  (-28.751856, 118.683032)\n",
       "2   -28.765087   116.962407     S0001256  (-28.765087, 116.962407)\n",
       "3   -28.744567   116.945103     S0001257  (-28.744567, 116.945103)\n",
       "4   -21.355850   120.239098     S0001335   (-21.35585, 120.239098)"
      ]
     },
     "metadata": {},
     "execution_count": 24
    }
   ],
   "metadata": {}
  },
  {
   "cell_type": "code",
   "execution_count": 25,
   "source": [
    "mindex_coords_df.shape"
   ],
   "outputs": [
    {
     "output_type": "execute_result",
     "data": {
      "text/plain": [
       "(159, 4)"
      ]
     },
     "metadata": {},
     "execution_count": 25
    }
   ],
   "metadata": {}
  },
  {
   "cell_type": "code",
   "execution_count": 26,
   "source": [
    "mindex_coords_df['minedex_site'].nunique()"
   ],
   "outputs": [
    {
     "output_type": "execute_result",
     "data": {
      "text/plain": [
       "159"
      ]
     },
     "metadata": {},
     "execution_count": 26
    }
   ],
   "metadata": {}
  },
  {
   "cell_type": "code",
   "execution_count": 27,
   "source": [
    "mindex_coords_df['coords'] = mindex_coords\n",
    "mindex_coords_df.head()"
   ],
   "outputs": [
    {
     "output_type": "execute_result",
     "data": {
      "text/html": [
       "<div>\n",
       "<style scoped>\n",
       "    .dataframe tbody tr th:only-of-type {\n",
       "        vertical-align: middle;\n",
       "    }\n",
       "\n",
       "    .dataframe tbody tr th {\n",
       "        vertical-align: top;\n",
       "    }\n",
       "\n",
       "    .dataframe thead th {\n",
       "        text-align: right;\n",
       "    }\n",
       "</style>\n",
       "<table border=\"1\" class=\"dataframe\">\n",
       "  <thead>\n",
       "    <tr style=\"text-align: right;\">\n",
       "      <th></th>\n",
       "      <th>minedex_lat</th>\n",
       "      <th>minedex_lon</th>\n",
       "      <th>minedex_site</th>\n",
       "      <th>coords</th>\n",
       "    </tr>\n",
       "  </thead>\n",
       "  <tbody>\n",
       "    <tr>\n",
       "      <th>0</th>\n",
       "      <td>-30.694559</td>\n",
       "      <td>118.315903</td>\n",
       "      <td>S0001179</td>\n",
       "      <td>(-30.694559, 118.315903)</td>\n",
       "    </tr>\n",
       "    <tr>\n",
       "      <th>1</th>\n",
       "      <td>-28.751856</td>\n",
       "      <td>118.683032</td>\n",
       "      <td>S0001250</td>\n",
       "      <td>(-28.751856, 118.683032)</td>\n",
       "    </tr>\n",
       "    <tr>\n",
       "      <th>2</th>\n",
       "      <td>-28.765087</td>\n",
       "      <td>116.962407</td>\n",
       "      <td>S0001256</td>\n",
       "      <td>(-28.765087, 116.962407)</td>\n",
       "    </tr>\n",
       "    <tr>\n",
       "      <th>3</th>\n",
       "      <td>-28.744567</td>\n",
       "      <td>116.945103</td>\n",
       "      <td>S0001257</td>\n",
       "      <td>(-28.744567, 116.945103)</td>\n",
       "    </tr>\n",
       "    <tr>\n",
       "      <th>4</th>\n",
       "      <td>-21.355850</td>\n",
       "      <td>120.239098</td>\n",
       "      <td>S0001335</td>\n",
       "      <td>(-21.35585, 120.239098)</td>\n",
       "    </tr>\n",
       "  </tbody>\n",
       "</table>\n",
       "</div>"
      ],
      "text/plain": [
       "   minedex_lat  minedex_lon minedex_site                    coords\n",
       "0   -30.694559   118.315903     S0001179  (-30.694559, 118.315903)\n",
       "1   -28.751856   118.683032     S0001250  (-28.751856, 118.683032)\n",
       "2   -28.765087   116.962407     S0001256  (-28.765087, 116.962407)\n",
       "3   -28.744567   116.945103     S0001257  (-28.744567, 116.945103)\n",
       "4   -21.355850   120.239098     S0001335   (-21.35585, 120.239098)"
      ]
     },
     "metadata": {},
     "execution_count": 27
    }
   ],
   "metadata": {}
  },
  {
   "cell_type": "markdown",
   "source": [
    "### WAMEX"
   ],
   "metadata": {}
  },
  {
   "cell_type": "code",
   "execution_count": 28,
   "source": [
    "df_wamex = pd.read_csv('WAMEX_with_Cu_Pb_MINDEX_available_minerals.csv')\n",
    "df_wamex.shape"
   ],
   "outputs": [
    {
     "output_type": "execute_result",
     "data": {
      "text/plain": [
       "(238027, 9)"
      ]
     },
     "metadata": {},
     "execution_count": 28
    }
   ],
   "metadata": {}
  },
  {
   "cell_type": "code",
   "execution_count": 29,
   "source": [
    "wamex_coords = list(zip(df_wamex['lat'], df_wamex['long']))\n",
    "wamex_coords[1:5]"
   ],
   "outputs": [
    {
     "output_type": "execute_result",
     "data": {
      "text/plain": [
       "[(-34.048839, 118.176663),\n",
       " (-34.048839, 118.176663),\n",
       " (-34.048839, 118.176663),\n",
       " (-34.048839, 118.176663)]"
      ]
     },
     "metadata": {},
     "execution_count": 29
    }
   ],
   "metadata": {}
  },
  {
   "cell_type": "code",
   "execution_count": 30,
   "source": [
    "len(wamex_coords)"
   ],
   "outputs": [
    {
     "output_type": "execute_result",
     "data": {
      "text/plain": [
       "238027"
      ]
     },
     "metadata": {},
     "execution_count": 30
    }
   ],
   "metadata": {}
  },
  {
   "cell_type": "code",
   "execution_count": 31,
   "source": [
    "wamex_coords_nodupl = tuple(set(wamex_coords))\n",
    "len(wamex_coords_nodupl)"
   ],
   "outputs": [
    {
     "output_type": "execute_result",
     "data": {
      "text/plain": [
       "177503"
      ]
     },
     "metadata": {},
     "execution_count": 31
    }
   ],
   "metadata": {}
  },
  {
   "cell_type": "markdown",
   "source": [
    "### Caculate Distance"
   ],
   "metadata": {}
  },
  {
   "cell_type": "code",
   "execution_count": 32,
   "source": [
    "new = pd.DataFrame(columns=['minedex_coords', 'minedex_site', 'wamex_lat', 'wamex_lon', 'distance',])"
   ],
   "outputs": [],
   "metadata": {}
  },
  {
   "cell_type": "code",
   "execution_count": 33,
   "source": [
    "#simple distance function try\n",
    "def calc_distance(coords_a, coords_b):\n",
    "       dist = geopy.distance.distance(coords_a, coords_b)\n",
    "       return(dist)"
   ],
   "outputs": [],
   "metadata": {}
  },
  {
   "cell_type": "code",
   "execution_count": 34,
   "source": [
    "calc_distance((-17.234642, 128.032146), (-26.78737, 118.574407))"
   ],
   "outputs": [
    {
     "output_type": "execute_result",
     "data": {
      "text/plain": [
       "Distance(1438.3974155883463)"
      ]
     },
     "metadata": {},
     "execution_count": 34
    }
   ],
   "metadata": {}
  },
  {
   "cell_type": "code",
   "execution_count": 35,
   "source": [
    "wamex_coords_nodupl[1]"
   ],
   "outputs": [
    {
     "output_type": "execute_result",
     "data": {
      "text/plain": [
       "(-24.448693, 116.954155)"
      ]
     },
     "metadata": {},
     "execution_count": 35
    }
   ],
   "metadata": {}
  },
  {
   "cell_type": "code",
   "execution_count": null,
   "source": [
    "for i in tqdm(range(0, len(wamex_coords_nodupl))):\n",
    "    for j in range(0, len(mindex_coords_df)):\n",
    "            comp = mindex_coords_df.iloc[j]['coords']\n",
    "            dist = calc_distance(wamex_coords_nodupl[i], comp)\n",
    "            if dist < 15:\n",
    "                new_row = {'minedex_coords': comp, 'minedex_site': mindex_coords_df.iloc[j]['minedex_site'],'wamex_lat':wamex_coords_nodupl[i][0],'wamex_lon': wamex_coords_nodupl[i][1], 'distance':dist}\n",
    "                new = new.append(new_row, ignore_index=True)"
   ],
   "outputs": [],
   "metadata": {}
  },
  {
   "cell_type": "code",
   "execution_count": null,
   "source": [
    "len(new)"
   ],
   "outputs": [
    {
     "output_type": "execute_result",
     "data": {
      "text/plain": [
       "32632"
      ]
     },
     "metadata": {},
     "execution_count": 32
    }
   ],
   "metadata": {}
  },
  {
   "cell_type": "code",
   "execution_count": null,
   "source": [
    "new.to_csv('Distance_Minedex_WAMEX.csv')"
   ],
   "outputs": [],
   "metadata": {}
  },
  {
   "cell_type": "code",
   "execution_count": null,
   "source": [
    "new.head()"
   ],
   "outputs": [
    {
     "output_type": "execute_result",
     "data": {
      "text/html": [
       "<div>\n",
       "<style scoped>\n",
       "    .dataframe tbody tr th:only-of-type {\n",
       "        vertical-align: middle;\n",
       "    }\n",
       "\n",
       "    .dataframe tbody tr th {\n",
       "        vertical-align: top;\n",
       "    }\n",
       "\n",
       "    .dataframe thead th {\n",
       "        text-align: right;\n",
       "    }\n",
       "</style>\n",
       "<table border=\"1\" class=\"dataframe\">\n",
       "  <thead>\n",
       "    <tr style=\"text-align: right;\">\n",
       "      <th></th>\n",
       "      <th>minedex_coords</th>\n",
       "      <th>minedex_site</th>\n",
       "      <th>wamex_lat</th>\n",
       "      <th>wamex_lon</th>\n",
       "      <th>distance</th>\n",
       "    </tr>\n",
       "  </thead>\n",
       "  <tbody>\n",
       "    <tr>\n",
       "      <th>0</th>\n",
       "      <td>(-21.293719, 121.14488)</td>\n",
       "      <td>S0017100</td>\n",
       "      <td>-21.400841</td>\n",
       "      <td>121.181256</td>\n",
       "      <td>12.446433006181342 km</td>\n",
       "    </tr>\n",
       "    <tr>\n",
       "      <th>1</th>\n",
       "      <td>(-21.295206, 121.146001)</td>\n",
       "      <td>S0018173</td>\n",
       "      <td>-21.400841</td>\n",
       "      <td>121.181256</td>\n",
       "      <td>12.254434073771199 km</td>\n",
       "    </tr>\n",
       "    <tr>\n",
       "      <th>2</th>\n",
       "      <td>(-20.881552, 117.808023)</td>\n",
       "      <td>S0001357</td>\n",
       "      <td>-20.881126</td>\n",
       "      <td>117.840231</td>\n",
       "      <td>3.351650014495068 km</td>\n",
       "    </tr>\n",
       "    <tr>\n",
       "      <th>3</th>\n",
       "      <td>(-20.87973, 117.809097)</td>\n",
       "      <td>S0001358</td>\n",
       "      <td>-20.881126</td>\n",
       "      <td>117.840231</td>\n",
       "      <td>3.2432703145175146 km</td>\n",
       "    </tr>\n",
       "    <tr>\n",
       "      <th>4</th>\n",
       "      <td>(-20.847059, 117.8311)</td>\n",
       "      <td>S0001499</td>\n",
       "      <td>-20.881126</td>\n",
       "      <td>117.840231</td>\n",
       "      <td>3.889588615961408 km</td>\n",
       "    </tr>\n",
       "  </tbody>\n",
       "</table>\n",
       "</div>"
      ],
      "text/plain": [
       "             minedex_coords minedex_site  wamex_lat   wamex_lon  \\\n",
       "0   (-21.293719, 121.14488)     S0017100 -21.400841  121.181256   \n",
       "1  (-21.295206, 121.146001)     S0018173 -21.400841  121.181256   \n",
       "2  (-20.881552, 117.808023)     S0001357 -20.881126  117.840231   \n",
       "3   (-20.87973, 117.809097)     S0001358 -20.881126  117.840231   \n",
       "4    (-20.847059, 117.8311)     S0001499 -20.881126  117.840231   \n",
       "\n",
       "                distance  \n",
       "0  12.446433006181342 km  \n",
       "1  12.254434073771199 km  \n",
       "2   3.351650014495068 km  \n",
       "3  3.2432703145175146 km  \n",
       "4   3.889588615961408 km  "
      ]
     },
     "metadata": {},
     "execution_count": 41
    }
   ],
   "metadata": {}
  },
  {
   "cell_type": "markdown",
   "source": [
    "### Merge with actual assays"
   ],
   "metadata": {}
  },
  {
   "cell_type": "code",
   "execution_count": 37,
   "source": [
    "distances = pd.read_csv('Distance_Minedex_WAMEX.csv')"
   ],
   "outputs": [],
   "metadata": {}
  },
  {
   "cell_type": "code",
   "execution_count": 38,
   "source": [
    "distances.head()"
   ],
   "outputs": [
    {
     "output_type": "execute_result",
     "data": {
      "text/html": [
       "<div>\n",
       "<style scoped>\n",
       "    .dataframe tbody tr th:only-of-type {\n",
       "        vertical-align: middle;\n",
       "    }\n",
       "\n",
       "    .dataframe tbody tr th {\n",
       "        vertical-align: top;\n",
       "    }\n",
       "\n",
       "    .dataframe thead th {\n",
       "        text-align: right;\n",
       "    }\n",
       "</style>\n",
       "<table border=\"1\" class=\"dataframe\">\n",
       "  <thead>\n",
       "    <tr style=\"text-align: right;\">\n",
       "      <th></th>\n",
       "      <th>Unnamed: 0</th>\n",
       "      <th>minedex_coords</th>\n",
       "      <th>minedex_site</th>\n",
       "      <th>wamex_lat</th>\n",
       "      <th>wamex_lon</th>\n",
       "      <th>distance</th>\n",
       "    </tr>\n",
       "  </thead>\n",
       "  <tbody>\n",
       "    <tr>\n",
       "      <th>0</th>\n",
       "      <td>0</td>\n",
       "      <td>(-21.293719, 121.14488)</td>\n",
       "      <td>S0017100</td>\n",
       "      <td>-21.400841</td>\n",
       "      <td>121.181256</td>\n",
       "      <td>12.446433006181342 km</td>\n",
       "    </tr>\n",
       "    <tr>\n",
       "      <th>1</th>\n",
       "      <td>1</td>\n",
       "      <td>(-21.295206, 121.146001)</td>\n",
       "      <td>S0018173</td>\n",
       "      <td>-21.400841</td>\n",
       "      <td>121.181256</td>\n",
       "      <td>12.254434073771199 km</td>\n",
       "    </tr>\n",
       "    <tr>\n",
       "      <th>2</th>\n",
       "      <td>2</td>\n",
       "      <td>(-20.881552, 117.808023)</td>\n",
       "      <td>S0001357</td>\n",
       "      <td>-20.881126</td>\n",
       "      <td>117.840231</td>\n",
       "      <td>3.351650014495068 km</td>\n",
       "    </tr>\n",
       "    <tr>\n",
       "      <th>3</th>\n",
       "      <td>3</td>\n",
       "      <td>(-20.87973, 117.809097)</td>\n",
       "      <td>S0001358</td>\n",
       "      <td>-20.881126</td>\n",
       "      <td>117.840231</td>\n",
       "      <td>3.2432703145175146 km</td>\n",
       "    </tr>\n",
       "    <tr>\n",
       "      <th>4</th>\n",
       "      <td>4</td>\n",
       "      <td>(-20.847059, 117.8311)</td>\n",
       "      <td>S0001499</td>\n",
       "      <td>-20.881126</td>\n",
       "      <td>117.840231</td>\n",
       "      <td>3.889588615961408 km</td>\n",
       "    </tr>\n",
       "  </tbody>\n",
       "</table>\n",
       "</div>"
      ],
      "text/plain": [
       "   Unnamed: 0            minedex_coords minedex_site  wamex_lat   wamex_lon  \\\n",
       "0           0   (-21.293719, 121.14488)     S0017100 -21.400841  121.181256   \n",
       "1           1  (-21.295206, 121.146001)     S0018173 -21.400841  121.181256   \n",
       "2           2  (-20.881552, 117.808023)     S0001357 -20.881126  117.840231   \n",
       "3           3   (-20.87973, 117.809097)     S0001358 -20.881126  117.840231   \n",
       "4           4    (-20.847059, 117.8311)     S0001499 -20.881126  117.840231   \n",
       "\n",
       "                distance  \n",
       "0  12.446433006181342 km  \n",
       "1  12.254434073771199 km  \n",
       "2   3.351650014495068 km  \n",
       "3  3.2432703145175146 km  \n",
       "4   3.889588615961408 km  "
      ]
     },
     "metadata": {},
     "execution_count": 38
    }
   ],
   "metadata": {}
  },
  {
   "cell_type": "code",
   "execution_count": null,
   "source": [
    "df_wamex.head()"
   ],
   "outputs": [
    {
     "output_type": "execute_result",
     "data": {
      "text/html": [
       "<div>\n",
       "<style scoped>\n",
       "    .dataframe tbody tr th:only-of-type {\n",
       "        vertical-align: middle;\n",
       "    }\n",
       "\n",
       "    .dataframe tbody tr th {\n",
       "        vertical-align: top;\n",
       "    }\n",
       "\n",
       "    .dataframe thead th {\n",
       "        text-align: right;\n",
       "    }\n",
       "</style>\n",
       "<table border=\"1\" class=\"dataframe\">\n",
       "  <thead>\n",
       "    <tr style=\"text-align: right;\">\n",
       "      <th></th>\n",
       "      <th>Unnamed: 0</th>\n",
       "      <th>Zn</th>\n",
       "      <th>Ag</th>\n",
       "      <th>Cu</th>\n",
       "      <th>Pb</th>\n",
       "      <th>Au</th>\n",
       "      <th>Co</th>\n",
       "      <th>lat</th>\n",
       "      <th>long</th>\n",
       "    </tr>\n",
       "  </thead>\n",
       "  <tbody>\n",
       "    <tr>\n",
       "      <th>0</th>\n",
       "      <td>0</td>\n",
       "      <td>NaN</td>\n",
       "      <td>NaN</td>\n",
       "      <td>252.0</td>\n",
       "      <td>14.0</td>\n",
       "      <td>0.008</td>\n",
       "      <td>NaN</td>\n",
       "      <td>-34.048839</td>\n",
       "      <td>118.176663</td>\n",
       "    </tr>\n",
       "    <tr>\n",
       "      <th>1</th>\n",
       "      <td>1</td>\n",
       "      <td>NaN</td>\n",
       "      <td>NaN</td>\n",
       "      <td>447.0</td>\n",
       "      <td>18.0</td>\n",
       "      <td>0.012</td>\n",
       "      <td>NaN</td>\n",
       "      <td>-34.048839</td>\n",
       "      <td>118.176663</td>\n",
       "    </tr>\n",
       "    <tr>\n",
       "      <th>2</th>\n",
       "      <td>2</td>\n",
       "      <td>NaN</td>\n",
       "      <td>NaN</td>\n",
       "      <td>314.0</td>\n",
       "      <td>28.0</td>\n",
       "      <td>0.005</td>\n",
       "      <td>NaN</td>\n",
       "      <td>-34.048839</td>\n",
       "      <td>118.176663</td>\n",
       "    </tr>\n",
       "    <tr>\n",
       "      <th>3</th>\n",
       "      <td>3</td>\n",
       "      <td>NaN</td>\n",
       "      <td>NaN</td>\n",
       "      <td>115.0</td>\n",
       "      <td>41.0</td>\n",
       "      <td>0.005</td>\n",
       "      <td>NaN</td>\n",
       "      <td>-34.048839</td>\n",
       "      <td>118.176663</td>\n",
       "    </tr>\n",
       "    <tr>\n",
       "      <th>4</th>\n",
       "      <td>4</td>\n",
       "      <td>NaN</td>\n",
       "      <td>NaN</td>\n",
       "      <td>11.0</td>\n",
       "      <td>5.0</td>\n",
       "      <td>0.009</td>\n",
       "      <td>NaN</td>\n",
       "      <td>-34.048839</td>\n",
       "      <td>118.176663</td>\n",
       "    </tr>\n",
       "  </tbody>\n",
       "</table>\n",
       "</div>"
      ],
      "text/plain": [
       "   Unnamed: 0  Zn  Ag     Cu    Pb     Au  Co        lat        long\n",
       "0           0 NaN NaN  252.0  14.0  0.008 NaN -34.048839  118.176663\n",
       "1           1 NaN NaN  447.0  18.0  0.012 NaN -34.048839  118.176663\n",
       "2           2 NaN NaN  314.0  28.0  0.005 NaN -34.048839  118.176663\n",
       "3           3 NaN NaN  115.0  41.0  0.005 NaN -34.048839  118.176663\n",
       "4           4 NaN NaN   11.0   5.0  0.009 NaN -34.048839  118.176663"
      ]
     },
     "metadata": {},
     "execution_count": 7
    }
   ],
   "metadata": {}
  },
  {
   "cell_type": "code",
   "execution_count": 39,
   "source": [
    "Merged_lessthan15km = pd.merge(df_wamex, distances, how='inner', left_on=['lat', 'long'], right_on=['wamex_lat', 'wamex_lon'])"
   ],
   "outputs": [],
   "metadata": {}
  },
  {
   "cell_type": "code",
   "execution_count": 40,
   "source": [
    "Merged_lessthan15km.to_csv('Merged_lessthan15km.csv')"
   ],
   "outputs": [],
   "metadata": {}
  },
  {
   "cell_type": "markdown",
   "source": [
    "### Modeling"
   ],
   "metadata": {}
  },
  {
   "cell_type": "code",
   "execution_count": 41,
   "source": [
    "df = pd.read_csv('Merged_lessthan15km.csv')"
   ],
   "outputs": [],
   "metadata": {}
  },
  {
   "cell_type": "code",
   "execution_count": 42,
   "source": [
    "df = df.drop(columns=['Unnamed: 0', 'Unnamed: 0_x', 'lat', 'long', 'Unnamed: 0_y', 'minedex_coords',\n",
    "       'minedex_site', 'distance']).drop_duplicates()"
   ],
   "outputs": [],
   "metadata": {}
  },
  {
   "cell_type": "code",
   "execution_count": 43,
   "source": [
    "df.info()"
   ],
   "outputs": [
    {
     "output_type": "stream",
     "name": "stdout",
     "text": [
      "<class 'pandas.core.frame.DataFrame'>\n",
      "Int64Index: 14797 entries, 0 to 40731\n",
      "Data columns (total 8 columns):\n",
      " #   Column     Non-Null Count  Dtype  \n",
      "---  ------     --------------  -----  \n",
      " 0   Zn         14609 non-null  float64\n",
      " 1   Ag         8837 non-null   float64\n",
      " 2   Cu         14797 non-null  float64\n",
      " 3   Pb         14797 non-null  float64\n",
      " 4   Au         8920 non-null   float64\n",
      " 5   Co         10384 non-null  float64\n",
      " 6   wamex_lat  14797 non-null  float64\n",
      " 7   wamex_lon  14797 non-null  float64\n",
      "dtypes: float64(8)\n",
      "memory usage: 1.0 MB\n"
     ]
    }
   ],
   "metadata": {}
  },
  {
   "cell_type": "code",
   "execution_count": 44,
   "source": [
    "df = df.dropna()\n",
    "df.shape"
   ],
   "outputs": [
    {
     "output_type": "execute_result",
     "data": {
      "text/plain": [
       "(5579, 8)"
      ]
     },
     "metadata": {},
     "execution_count": 44
    }
   ],
   "metadata": {}
  },
  {
   "cell_type": "code",
   "execution_count": 45,
   "source": [
    "df.minerals = df.drop(columns=['wamex_lat','wamex_lon'])\n",
    "df.minerals"
   ],
   "outputs": [
    {
     "output_type": "stream",
     "name": "stderr",
     "text": [
      "/Users/zhengyuchen/opt/anaconda3/envs/cits5508-fix/lib/python3.7/site-packages/ipykernel_launcher.py:1: UserWarning: Pandas doesn't allow columns to be created via a new attribute name - see https://pandas.pydata.org/pandas-docs/stable/indexing.html#attribute-access\n",
      "  \"\"\"Entry point for launching an IPython kernel.\n"
     ]
    },
    {
     "output_type": "execute_result",
     "data": {
      "text/html": [
       "<div>\n",
       "<style scoped>\n",
       "    .dataframe tbody tr th:only-of-type {\n",
       "        vertical-align: middle;\n",
       "    }\n",
       "\n",
       "    .dataframe tbody tr th {\n",
       "        vertical-align: top;\n",
       "    }\n",
       "\n",
       "    .dataframe thead th {\n",
       "        text-align: right;\n",
       "    }\n",
       "</style>\n",
       "<table border=\"1\" class=\"dataframe\">\n",
       "  <thead>\n",
       "    <tr style=\"text-align: right;\">\n",
       "      <th></th>\n",
       "      <th>Zn</th>\n",
       "      <th>Ag</th>\n",
       "      <th>Cu</th>\n",
       "      <th>Pb</th>\n",
       "      <th>Au</th>\n",
       "      <th>Co</th>\n",
       "    </tr>\n",
       "  </thead>\n",
       "  <tbody>\n",
       "    <tr>\n",
       "      <th>0</th>\n",
       "      <td>3.0</td>\n",
       "      <td>0.025</td>\n",
       "      <td>3.5</td>\n",
       "      <td>2.0</td>\n",
       "      <td>0.00005</td>\n",
       "      <td>1.0</td>\n",
       "    </tr>\n",
       "    <tr>\n",
       "      <th>5</th>\n",
       "      <td>3.0</td>\n",
       "      <td>0.025</td>\n",
       "      <td>4.0</td>\n",
       "      <td>2.0</td>\n",
       "      <td>0.00005</td>\n",
       "      <td>1.0</td>\n",
       "    </tr>\n",
       "    <tr>\n",
       "      <th>10</th>\n",
       "      <td>4.0</td>\n",
       "      <td>0.025</td>\n",
       "      <td>2.0</td>\n",
       "      <td>3.0</td>\n",
       "      <td>0.00005</td>\n",
       "      <td>1.6</td>\n",
       "    </tr>\n",
       "    <tr>\n",
       "      <th>20</th>\n",
       "      <td>3.0</td>\n",
       "      <td>0.025</td>\n",
       "      <td>3.5</td>\n",
       "      <td>4.0</td>\n",
       "      <td>0.00005</td>\n",
       "      <td>2.2</td>\n",
       "    </tr>\n",
       "    <tr>\n",
       "      <th>25</th>\n",
       "      <td>3.0</td>\n",
       "      <td>0.025</td>\n",
       "      <td>4.0</td>\n",
       "      <td>4.0</td>\n",
       "      <td>0.00020</td>\n",
       "      <td>2.2</td>\n",
       "    </tr>\n",
       "    <tr>\n",
       "      <th>...</th>\n",
       "      <td>...</td>\n",
       "      <td>...</td>\n",
       "      <td>...</td>\n",
       "      <td>...</td>\n",
       "      <td>...</td>\n",
       "      <td>...</td>\n",
       "    </tr>\n",
       "    <tr>\n",
       "      <th>40081</th>\n",
       "      <td>533.0</td>\n",
       "      <td>13.500</td>\n",
       "      <td>99500.0</td>\n",
       "      <td>50.0</td>\n",
       "      <td>0.44300</td>\n",
       "      <td>224.0</td>\n",
       "    </tr>\n",
       "    <tr>\n",
       "      <th>40085</th>\n",
       "      <td>942.0</td>\n",
       "      <td>4.500</td>\n",
       "      <td>16400.0</td>\n",
       "      <td>31.0</td>\n",
       "      <td>0.03500</td>\n",
       "      <td>134.0</td>\n",
       "    </tr>\n",
       "    <tr>\n",
       "      <th>40089</th>\n",
       "      <td>1400.0</td>\n",
       "      <td>0.500</td>\n",
       "      <td>3960.0</td>\n",
       "      <td>33.0</td>\n",
       "      <td>0.02600</td>\n",
       "      <td>146.0</td>\n",
       "    </tr>\n",
       "    <tr>\n",
       "      <th>40093</th>\n",
       "      <td>236.0</td>\n",
       "      <td>14.000</td>\n",
       "      <td>115000.0</td>\n",
       "      <td>12.0</td>\n",
       "      <td>0.35000</td>\n",
       "      <td>698.0</td>\n",
       "    </tr>\n",
       "    <tr>\n",
       "      <th>40097</th>\n",
       "      <td>68.0</td>\n",
       "      <td>53.000</td>\n",
       "      <td>133000.0</td>\n",
       "      <td>32.0</td>\n",
       "      <td>1.66000</td>\n",
       "      <td>1880.0</td>\n",
       "    </tr>\n",
       "  </tbody>\n",
       "</table>\n",
       "<p>5579 rows × 6 columns</p>\n",
       "</div>"
      ],
      "text/plain": [
       "           Zn      Ag        Cu    Pb       Au      Co\n",
       "0         3.0   0.025       3.5   2.0  0.00005     1.0\n",
       "5         3.0   0.025       4.0   2.0  0.00005     1.0\n",
       "10        4.0   0.025       2.0   3.0  0.00005     1.6\n",
       "20        3.0   0.025       3.5   4.0  0.00005     2.2\n",
       "25        3.0   0.025       4.0   4.0  0.00020     2.2\n",
       "...       ...     ...       ...   ...      ...     ...\n",
       "40081   533.0  13.500   99500.0  50.0  0.44300   224.0\n",
       "40085   942.0   4.500   16400.0  31.0  0.03500   134.0\n",
       "40089  1400.0   0.500    3960.0  33.0  0.02600   146.0\n",
       "40093   236.0  14.000  115000.0  12.0  0.35000   698.0\n",
       "40097    68.0  53.000  133000.0  32.0  1.66000  1880.0\n",
       "\n",
       "[5579 rows x 6 columns]"
      ]
     },
     "metadata": {},
     "execution_count": 45
    }
   ],
   "metadata": {}
  },
  {
   "cell_type": "code",
   "execution_count": 50,
   "source": [
    "fig, ax = plt.subplots()\n",
    "df['Zn'].hist(color='#A9C5D3', bins=30)\n",
    "plt.axvline(df['Zn'].quantile(), color='r', label='Binary line')\n",
    "plt.legend(fontsize=18, loc='best')\n",
    "ax.set_xlabel('Zn', fontsize=12)\n",
    "ax.set_ylabel('Frequency', fontsize=12)\n",
    "ax.set_title('Zn_hist', fontsize=12)\n",
    "plt.show()"
   ],
   "outputs": [
    {
     "output_type": "display_data",
     "data": {
      "image/png": "[encoded data removed]",
      "text/plain": [
       "<Figure size 432x288 with 1 Axes>"
      ]
     },
     "metadata": {
      "needs_background": "light"
     }
    }
   ],
   "metadata": {}
  },
  {
   "cell_type": "markdown",
   "source": [
    "### Log Transform"
   ],
   "metadata": {}
  },
  {
   "cell_type": "code",
   "execution_count": 51,
   "source": [
    "df['log_Zn'] = np.log(df['Zn'].values+1)\n",
    "print(df[['Zn', 'log_Zn']])"
   ],
   "outputs": [
    {
     "output_type": "stream",
     "name": "stdout",
     "text": [
      "           Zn    log_Zn\n",
      "0         3.0  1.386294\n",
      "5         3.0  1.386294\n",
      "10        4.0  1.609438\n",
      "20        3.0  1.386294\n",
      "25        3.0  1.386294\n",
      "...       ...       ...\n",
      "40081   533.0  6.280396\n",
      "40085   942.0  6.849066\n",
      "40089  1400.0  7.244942\n",
      "40093   236.0  5.468060\n",
      "40097    68.0  4.234107\n",
      "\n",
      "[5579 rows x 2 columns]\n"
     ]
    }
   ],
   "metadata": {}
  },
  {
   "cell_type": "code",
   "execution_count": 52,
   "source": [
    "fig, ax = plt.subplots()\n",
    "df['log_Zn'].hist(color='#A9C5D3', bins=30)\n",
    "plt.axvline(df['log_Zn'].quantile(), color='r', label='Binary line')\n",
    "plt.legend(fontsize=18, loc='best')\n",
    "ax.set_xlabel('log_Zn', fontsize=12)\n",
    "ax.set_ylabel('Frequency', fontsize=12)\n",
    "ax.set_title('Zn_hist', fontsize=12)\n",
    "plt.show()"
   ],
   "outputs": [
    {
     "output_type": "display_data",
     "data": {
      "image/png": "[encoded data removed]",
      "text/plain": [
       "<Figure size 432x288 with 1 Axes>"
      ]
     },
     "metadata": {
      "needs_background": "light"
     }
    }
   ],
   "metadata": {}
  },
  {
   "cell_type": "markdown",
   "source": [
    "### Linear Regression"
   ],
   "metadata": {}
  },
  {
   "cell_type": "code",
   "execution_count": 53,
   "source": [
    "from sklearn.linear_model import LinearRegression\n",
    "import matplotlib.pyplot as plt\n",
    "from sklearn.metrics import mean_squared_error\n",
    "from sklearn.metrics import mean_absolute_error\n",
    "from sklearn.model_selection import train_test_split"
   ],
   "outputs": [],
   "metadata": {}
  },
  {
   "cell_type": "code",
   "execution_count": 54,
   "source": [
    "X = df.drop(['log_Zn', 'Zn', 'wamex_lat', 'wamex_lon'], axis =1)\n",
    "y = df['log_Zn']\n",
    "\n",
    "from sklearn.model_selection  import train_test_split\n",
    "X_train, X_test, y_train, y_test = train_test_split(X, y, test_size=0.2, random_state=42, shuffle=True)\n",
    "\n",
    "lr = LinearRegression()\n",
    "lr.fit(X_train, y_train)\n",
    "train_pred = lr.predict(X_train)\n",
    "test_pred = lr.predict(X_test)\n",
    "\n",
    "print(\"train MSE: \", mean_squared_error(train_pred, y_train))\n",
    "print(\"test MSE: \", mean_absolute_error(test_pred, y_test))"
   ],
   "outputs": [
    {
     "output_type": "stream",
     "name": "stdout",
     "text": [
      "train MSE:  3.9141137775982493\n",
      "test MSE:  1.6043853619531814\n"
     ]
    }
   ],
   "metadata": {}
  },
  {
   "cell_type": "markdown",
   "source": [
    "### Random Forest"
   ],
   "metadata": {}
  },
  {
   "cell_type": "code",
   "execution_count": 60,
   "source": [
    "from sklearn.ensemble import RandomForestRegressor\n",
    "\n",
    "rf=RandomForestRegressor()\n",
    "rf.fit(X_train, y_train)\n",
    "train_pred = rf.predict(X_train)\n",
    "test_pred = rf.predict(X_test)\n",
    "\n",
    "print(\"train MSE: \", mean_squared_error(train_pred, y_train))\n",
    "print(\"test MSE: \", mean_absolute_error(test_pred, y_test))\n"
   ],
   "outputs": [
    {
     "output_type": "stream",
     "name": "stdout",
     "text": [
      "train MSE:  0.170209238822174\n",
      "test MSE:  0.7330821715417963\n"
     ]
    }
   ],
   "metadata": {}
  },
  {
   "cell_type": "code",
   "execution_count": 61,
   "source": [
    "plt.plot(range(0,len(test_pred)), y_test, test_pred)"
   ],
   "outputs": [
    {
     "output_type": "execute_result",
     "data": {
      "text/plain": [
       "[<matplotlib.lines.Line2D at 0x7f9b5536de90>,\n",
       " <matplotlib.lines.Line2D at 0x7f9b5535ed10>]"
      ]
     },
     "metadata": {},
     "execution_count": 61
    },
    {
     "output_type": "display_data",
     "data": {
      "image/png": "[encoded data removed]",
      "text/plain": [
       "<Figure size 432x288 with 1 Axes>"
      ]
     },
     "metadata": {
      "needs_background": "light"
     }
    }
   ],
   "metadata": {}
  }
 ],
 "metadata": {
  "orig_nbformat": 4,
  "language_info": {
   "name": "python",
   "version": "3.7.10",
   "mimetype": "text/x-python",
   "codemirror_mode": {
    "name": "ipython",
    "version": 3
   },
   "pygments_lexer": "ipython3",
   "nbconvert_exporter": "python",
   "file_extension": ".py"
  },
  "kernelspec": {
   "name": "python3",
   "display_name": "Python 3.7.10 64-bit ('cits5508-fix': conda)"
  },
  "interpreter": {
   "hash": "83def2c927d79f74eac1e8a9334dfc8423fb47183e1de0990794ab6c42fdc83a"
  }
 },
 "nbformat": 4,
 "nbformat_minor": 2
}