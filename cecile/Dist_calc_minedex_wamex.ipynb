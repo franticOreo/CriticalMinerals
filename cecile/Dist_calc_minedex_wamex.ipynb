{
 "cells": [
  {
   "cell_type": "markdown",
   "metadata": {},
   "source": [
    "### WA nickle deposits locations (from Minedex)"
   ]
  },
  {
   "cell_type": "code",
   "execution_count": 57,
   "metadata": {},
   "outputs": [],
   "source": [
    "import pandas as pd\n",
    "import numpy as np"
   ]
  },
  {
   "cell_type": "code",
   "execution_count": 62,
   "metadata": {},
   "outputs": [
    {
     "data": {
      "text/plain": [
       "(41515, 18)"
      ]
     },
     "execution_count": 62,
     "metadata": {},
     "output_type": "execute_result"
    }
   ],
   "source": [
    "df_minedex = pd.read_csv('./data/minedex_filtered_shp.csv')\n",
    "df_minedex.shape"
   ]
  },
  {
   "cell_type": "code",
   "execution_count": 54,
   "metadata": {},
   "outputs": [
    {
     "data": {
      "text/html": [
       "<div>\n",
       "<style scoped>\n",
       "    .dataframe tbody tr th:only-of-type {\n",
       "        vertical-align: middle;\n",
       "    }\n",
       "\n",
       "    .dataframe tbody tr th {\n",
       "        vertical-align: top;\n",
       "    }\n",
       "\n",
       "    .dataframe thead th {\n",
       "        text-align: right;\n",
       "    }\n",
       "</style>\n",
       "<table border=\"1\" class=\"dataframe\">\n",
       "  <thead>\n",
       "    <tr style=\"text-align: right;\">\n",
       "      <th></th>\n",
       "      <th>Unnamed: 0</th>\n",
       "      <th>SITE_CODE</th>\n",
       "      <th>SITE_TITLE</th>\n",
       "      <th>SHORT_NAME</th>\n",
       "      <th>SITE_COMMO</th>\n",
       "      <th>SITE_TYPE_</th>\n",
       "      <th>SITE_SUB_T</th>\n",
       "      <th>SITE_STAGE</th>\n",
       "      <th>TARGET_COM</th>\n",
       "      <th>COMMODITY</th>\n",
       "      <th>PROJ_CODE</th>\n",
       "      <th>PROJ_TITLE</th>\n",
       "      <th>CONFIDENTI</th>\n",
       "      <th>POINT_CONF</th>\n",
       "      <th>LATITUDE</th>\n",
       "      <th>LONGITUDE</th>\n",
       "      <th>WEB_LINK</th>\n",
       "      <th>EXTRACT_DA</th>\n",
       "    </tr>\n",
       "  </thead>\n",
       "  <tbody>\n",
       "    <tr>\n",
       "      <th>0</th>\n",
       "      <td>0</td>\n",
       "      <td>S0000001</td>\n",
       "      <td>Pieces of Eight - Admiral Hill</td>\n",
       "      <td>Pieces of Eight</td>\n",
       "      <td>Au, Ag</td>\n",
       "      <td>Mine</td>\n",
       "      <td>Openpit</td>\n",
       "      <td>Care and Maintenance</td>\n",
       "      <td>GOLD</td>\n",
       "      <td>PRECIOUS METAL</td>\n",
       "      <td>J00238</td>\n",
       "      <td>Laverton - Barnicoat - Karridale - Merolia / F...</td>\n",
       "      <td>Public</td>\n",
       "      <td>Public</td>\n",
       "      <td>-28.565092</td>\n",
       "      <td>122.480745</td>\n",
       "      <td>https://minedex.dmirs.wa.gov.au/Web/common/jum...</td>\n",
       "      <td>2021-07-28</td>\n",
       "    </tr>\n",
       "    <tr>\n",
       "      <th>1</th>\n",
       "      <td>1</td>\n",
       "      <td>S0000002</td>\n",
       "      <td>Albury Heath</td>\n",
       "      <td>Albury Heath</td>\n",
       "      <td>Au, Ag</td>\n",
       "      <td>Deposit</td>\n",
       "      <td>Unspecified</td>\n",
       "      <td>Undeveloped</td>\n",
       "      <td>GOLD</td>\n",
       "      <td>PRECIOUS METAL</td>\n",
       "      <td>J00002</td>\n",
       "      <td>Albury Heath</td>\n",
       "      <td>Public</td>\n",
       "      <td>Public</td>\n",
       "      <td>-26.787370</td>\n",
       "      <td>118.574407</td>\n",
       "      <td>https://minedex.dmirs.wa.gov.au/Web/common/jum...</td>\n",
       "      <td>2021-07-28</td>\n",
       "    </tr>\n",
       "    <tr>\n",
       "      <th>2</th>\n",
       "      <td>2</td>\n",
       "      <td>S0000005</td>\n",
       "      <td>Aspacia</td>\n",
       "      <td>Aspacia</td>\n",
       "      <td>Au, Ag</td>\n",
       "      <td>Mine</td>\n",
       "      <td>Openpit</td>\n",
       "      <td>Shut</td>\n",
       "      <td>GOLD</td>\n",
       "      <td>PRECIOUS METAL</td>\n",
       "      <td>J01011</td>\n",
       "      <td>Menzies</td>\n",
       "      <td>Public</td>\n",
       "      <td>Public</td>\n",
       "      <td>-29.690630</td>\n",
       "      <td>121.012802</td>\n",
       "      <td>https://minedex.dmirs.wa.gov.au/Web/common/jum...</td>\n",
       "      <td>2021-07-28</td>\n",
       "    </tr>\n",
       "    <tr>\n",
       "      <th>3</th>\n",
       "      <td>3</td>\n",
       "      <td>S0000006</td>\n",
       "      <td>Baden Powell Test Pit</td>\n",
       "      <td>Baden Powell</td>\n",
       "      <td>Au, Ag</td>\n",
       "      <td>Mine</td>\n",
       "      <td>Openpit</td>\n",
       "      <td>Shut</td>\n",
       "      <td>GOLD</td>\n",
       "      <td>PRECIOUS METAL</td>\n",
       "      <td>J05474</td>\n",
       "      <td>Baden Powell / Horizon</td>\n",
       "      <td>Public</td>\n",
       "      <td>Public</td>\n",
       "      <td>-30.239151</td>\n",
       "      <td>121.222783</td>\n",
       "      <td>https://minedex.dmirs.wa.gov.au/Web/common/jum...</td>\n",
       "      <td>2021-07-28</td>\n",
       "    </tr>\n",
       "    <tr>\n",
       "      <th>4</th>\n",
       "      <td>4</td>\n",
       "      <td>S0000007</td>\n",
       "      <td>Dingo - Katanning</td>\n",
       "      <td>Dingo</td>\n",
       "      <td>Au, Ag</td>\n",
       "      <td>Mine</td>\n",
       "      <td>Openpit</td>\n",
       "      <td>Proposed</td>\n",
       "      <td>GOLD</td>\n",
       "      <td>PRECIOUS METAL</td>\n",
       "      <td>J00007</td>\n",
       "      <td>Katanning Gold</td>\n",
       "      <td>Public</td>\n",
       "      <td>Public</td>\n",
       "      <td>-33.574907</td>\n",
       "      <td>117.920153</td>\n",
       "      <td>https://minedex.dmirs.wa.gov.au/Web/common/jum...</td>\n",
       "      <td>2021-07-28</td>\n",
       "    </tr>\n",
       "  </tbody>\n",
       "</table>\n",
       "</div>"
      ],
      "text/plain": [
       "   Unnamed: 0 SITE_CODE                      SITE_TITLE       SHORT_NAME  \\\n",
       "0           0  S0000001  Pieces of Eight - Admiral Hill  Pieces of Eight   \n",
       "1           1  S0000002                    Albury Heath     Albury Heath   \n",
       "2           2  S0000005                         Aspacia          Aspacia   \n",
       "3           3  S0000006           Baden Powell Test Pit     Baden Powell   \n",
       "4           4  S0000007               Dingo - Katanning            Dingo   \n",
       "\n",
       "  SITE_COMMO SITE_TYPE_   SITE_SUB_T            SITE_STAGE TARGET_COM  \\\n",
       "0     Au, Ag       Mine      Openpit  Care and Maintenance       GOLD   \n",
       "1     Au, Ag    Deposit  Unspecified           Undeveloped       GOLD   \n",
       "2     Au, Ag       Mine      Openpit                  Shut       GOLD   \n",
       "3     Au, Ag       Mine      Openpit                  Shut       GOLD   \n",
       "4     Au, Ag       Mine      Openpit              Proposed       GOLD   \n",
       "\n",
       "        COMMODITY PROJ_CODE  \\\n",
       "0  PRECIOUS METAL    J00238   \n",
       "1  PRECIOUS METAL    J00002   \n",
       "2  PRECIOUS METAL    J01011   \n",
       "3  PRECIOUS METAL    J05474   \n",
       "4  PRECIOUS METAL    J00007   \n",
       "\n",
       "                                          PROJ_TITLE CONFIDENTI POINT_CONF  \\\n",
       "0  Laverton - Barnicoat - Karridale - Merolia / F...     Public     Public   \n",
       "1                                       Albury Heath     Public     Public   \n",
       "2                                            Menzies     Public     Public   \n",
       "3                             Baden Powell / Horizon     Public     Public   \n",
       "4                                     Katanning Gold     Public     Public   \n",
       "\n",
       "    LATITUDE   LONGITUDE                                           WEB_LINK  \\\n",
       "0 -28.565092  122.480745  https://minedex.dmirs.wa.gov.au/Web/common/jum...   \n",
       "1 -26.787370  118.574407  https://minedex.dmirs.wa.gov.au/Web/common/jum...   \n",
       "2 -29.690630  121.012802  https://minedex.dmirs.wa.gov.au/Web/common/jum...   \n",
       "3 -30.239151  121.222783  https://minedex.dmirs.wa.gov.au/Web/common/jum...   \n",
       "4 -33.574907  117.920153  https://minedex.dmirs.wa.gov.au/Web/common/jum...   \n",
       "\n",
       "   EXTRACT_DA  \n",
       "0  2021-07-28  \n",
       "1  2021-07-28  \n",
       "2  2021-07-28  \n",
       "3  2021-07-28  \n",
       "4  2021-07-28  "
      ]
     },
     "execution_count": 54,
     "metadata": {},
     "output_type": "execute_result"
    }
   ],
   "source": [
    "df_minedex.head()"
   ]
  },
  {
   "cell_type": "code",
   "execution_count": 63,
   "metadata": {},
   "outputs": [],
   "source": [
    "#only using Mine, Deposit and Occurence types\n",
    "a = ['Mine', 'Deposit', 'Occurence']\n",
    "df_minedex = df_minedex[df_minedex['SITE_TYPE_'].isin(a)]"
   ]
  },
  {
   "cell_type": "code",
   "execution_count": 64,
   "metadata": {},
   "outputs": [
    {
     "data": {
      "text/plain": [
       "25643"
      ]
     },
     "execution_count": 64,
     "metadata": {},
     "output_type": "execute_result"
    }
   ],
   "source": [
    "len(df_minedex)"
   ]
  },
  {
   "cell_type": "code",
   "execution_count": 86,
   "metadata": {},
   "outputs": [
    {
     "data": {
      "text/html": [
       "<div>\n",
       "<style scoped>\n",
       "    .dataframe tbody tr th:only-of-type {\n",
       "        vertical-align: middle;\n",
       "    }\n",
       "\n",
       "    .dataframe tbody tr th {\n",
       "        vertical-align: top;\n",
       "    }\n",
       "\n",
       "    .dataframe thead th {\n",
       "        text-align: right;\n",
       "    }\n",
       "</style>\n",
       "<table border=\"1\" class=\"dataframe\">\n",
       "  <thead>\n",
       "    <tr style=\"text-align: right;\">\n",
       "      <th></th>\n",
       "      <th>Unnamed: 0</th>\n",
       "      <th>SITE_CODE</th>\n",
       "      <th>SITE_TITLE</th>\n",
       "      <th>SHORT_NAME</th>\n",
       "      <th>SITE_COMMO</th>\n",
       "      <th>SITE_TYPE_</th>\n",
       "      <th>SITE_SUB_T</th>\n",
       "      <th>SITE_STAGE</th>\n",
       "      <th>TARGET_COM</th>\n",
       "      <th>COMMODITY</th>\n",
       "      <th>PROJ_CODE</th>\n",
       "      <th>PROJ_TITLE</th>\n",
       "      <th>CONFIDENTI</th>\n",
       "      <th>POINT_CONF</th>\n",
       "      <th>LATITUDE</th>\n",
       "      <th>LONGITUDE</th>\n",
       "      <th>WEB_LINK</th>\n",
       "      <th>EXTRACT_DA</th>\n",
       "    </tr>\n",
       "  </thead>\n",
       "  <tbody>\n",
       "    <tr>\n",
       "      <th>8</th>\n",
       "      <td>8</td>\n",
       "      <td>S0000011</td>\n",
       "      <td>Prophecy - Perseverance</td>\n",
       "      <td>Prophecy</td>\n",
       "      <td>Au, Ni</td>\n",
       "      <td>Mine</td>\n",
       "      <td>Unspecified</td>\n",
       "      <td>Care and Maintenance</td>\n",
       "      <td>GOLD</td>\n",
       "      <td>PRECIOUS METAL</td>\n",
       "      <td>J00008</td>\n",
       "      <td>Bamboo Creek Gold</td>\n",
       "      <td>Public</td>\n",
       "      <td>Public</td>\n",
       "      <td>-20.930700</td>\n",
       "      <td>120.211700</td>\n",
       "      <td>https://minedex.dmirs.wa.gov.au/Web/common/jum...</td>\n",
       "      <td>2021-07-28</td>\n",
       "    </tr>\n",
       "    <tr>\n",
       "      <th>154</th>\n",
       "      <td>154</td>\n",
       "      <td>S0000192</td>\n",
       "      <td>Flying Fox Old - OTZ / Outokumpu</td>\n",
       "      <td>Flying Fox Old</td>\n",
       "      <td>Ni, Cu</td>\n",
       "      <td>Mine</td>\n",
       "      <td>Decline</td>\n",
       "      <td>Shut</td>\n",
       "      <td>NICKEL</td>\n",
       "      <td>STEEL ALLOY METAL</td>\n",
       "      <td>J00757</td>\n",
       "      <td>Forrestania Nickel / Western Areas</td>\n",
       "      <td>Public</td>\n",
       "      <td>Public</td>\n",
       "      <td>-32.416982</td>\n",
       "      <td>119.689058</td>\n",
       "      <td>https://minedex.dmirs.wa.gov.au/Web/common/jum...</td>\n",
       "      <td>2021-07-28</td>\n",
       "    </tr>\n",
       "    <tr>\n",
       "      <th>889</th>\n",
       "      <td>889</td>\n",
       "      <td>S0001174</td>\n",
       "      <td>Halleys</td>\n",
       "      <td>Halleys</td>\n",
       "      <td>Ni, Co, Mg</td>\n",
       "      <td>Mine</td>\n",
       "      <td>Openpit</td>\n",
       "      <td>Operating</td>\n",
       "      <td>NICKEL</td>\n",
       "      <td>STEEL ALLOY METAL</td>\n",
       "      <td>J02145</td>\n",
       "      <td>Ravensthorpe - First Quantum</td>\n",
       "      <td>Public</td>\n",
       "      <td>Public</td>\n",
       "      <td>-33.633382</td>\n",
       "      <td>120.374303</td>\n",
       "      <td>https://minedex.dmirs.wa.gov.au/Web/common/jum...</td>\n",
       "      <td>2021-07-28</td>\n",
       "    </tr>\n",
       "    <tr>\n",
       "      <th>893</th>\n",
       "      <td>893</td>\n",
       "      <td>S0001178</td>\n",
       "      <td>Black Swan - Gosling</td>\n",
       "      <td>Black Swan</td>\n",
       "      <td>Ni</td>\n",
       "      <td>Mine</td>\n",
       "      <td>Openpit</td>\n",
       "      <td>Care and Maintenance</td>\n",
       "      <td>NICKEL</td>\n",
       "      <td>STEEL ALLOY METAL</td>\n",
       "      <td>J00452</td>\n",
       "      <td>Silver Swan - Black Swan</td>\n",
       "      <td>Public</td>\n",
       "      <td>Public</td>\n",
       "      <td>-30.393502</td>\n",
       "      <td>121.648875</td>\n",
       "      <td>https://minedex.dmirs.wa.gov.au/Web/common/jum...</td>\n",
       "      <td>2021-07-28</td>\n",
       "    </tr>\n",
       "    <tr>\n",
       "      <th>902</th>\n",
       "      <td>902</td>\n",
       "      <td>S0001188</td>\n",
       "      <td>Avalon Group</td>\n",
       "      <td>Bulong</td>\n",
       "      <td>Ni, Co</td>\n",
       "      <td>Mine</td>\n",
       "      <td>Openpit</td>\n",
       "      <td>Care and Maintenance</td>\n",
       "      <td>NICKEL</td>\n",
       "      <td>STEEL ALLOY METAL</td>\n",
       "      <td>J00461</td>\n",
       "      <td>Avalon</td>\n",
       "      <td>Public</td>\n",
       "      <td>Public</td>\n",
       "      <td>-30.736222</td>\n",
       "      <td>121.802770</td>\n",
       "      <td>https://minedex.dmirs.wa.gov.au/Web/common/jum...</td>\n",
       "      <td>2021-07-28</td>\n",
       "    </tr>\n",
       "  </tbody>\n",
       "</table>\n",
       "</div>"
      ],
      "text/plain": [
       "     Unnamed: 0 SITE_CODE                        SITE_TITLE      SHORT_NAME  \\\n",
       "8             8  S0000011           Prophecy - Perseverance        Prophecy   \n",
       "154         154  S0000192  Flying Fox Old - OTZ / Outokumpu  Flying Fox Old   \n",
       "889         889  S0001174                           Halleys         Halleys   \n",
       "893         893  S0001178              Black Swan - Gosling      Black Swan   \n",
       "902         902  S0001188                      Avalon Group          Bulong   \n",
       "\n",
       "     SITE_COMMO SITE_TYPE_   SITE_SUB_T            SITE_STAGE TARGET_COM  \\\n",
       "8        Au, Ni       Mine  Unspecified  Care and Maintenance       GOLD   \n",
       "154      Ni, Cu       Mine      Decline                  Shut     NICKEL   \n",
       "889  Ni, Co, Mg       Mine      Openpit             Operating     NICKEL   \n",
       "893          Ni       Mine      Openpit  Care and Maintenance     NICKEL   \n",
       "902      Ni, Co       Mine      Openpit  Care and Maintenance     NICKEL   \n",
       "\n",
       "             COMMODITY PROJ_CODE                          PROJ_TITLE  \\\n",
       "8       PRECIOUS METAL    J00008                   Bamboo Creek Gold   \n",
       "154  STEEL ALLOY METAL    J00757  Forrestania Nickel / Western Areas   \n",
       "889  STEEL ALLOY METAL    J02145        Ravensthorpe - First Quantum   \n",
       "893  STEEL ALLOY METAL    J00452            Silver Swan - Black Swan   \n",
       "902  STEEL ALLOY METAL    J00461                              Avalon   \n",
       "\n",
       "    CONFIDENTI POINT_CONF   LATITUDE   LONGITUDE  \\\n",
       "8       Public     Public -20.930700  120.211700   \n",
       "154     Public     Public -32.416982  119.689058   \n",
       "889     Public     Public -33.633382  120.374303   \n",
       "893     Public     Public -30.393502  121.648875   \n",
       "902     Public     Public -30.736222  121.802770   \n",
       "\n",
       "                                              WEB_LINK  EXTRACT_DA  \n",
       "8    https://minedex.dmirs.wa.gov.au/Web/common/jum...  2021-07-28  \n",
       "154  https://minedex.dmirs.wa.gov.au/Web/common/jum...  2021-07-28  \n",
       "889  https://minedex.dmirs.wa.gov.au/Web/common/jum...  2021-07-28  \n",
       "893  https://minedex.dmirs.wa.gov.au/Web/common/jum...  2021-07-28  \n",
       "902  https://minedex.dmirs.wa.gov.au/Web/common/jum...  2021-07-28  "
      ]
     },
     "execution_count": 86,
     "metadata": {},
     "output_type": "execute_result"
    }
   ],
   "source": [
    "#Using only subset where Site commo contains Nickel\n",
    "df_minedex = df_minedex[df_minedex['SITE_COMMO'].str.contains('Ni', na=False)]\n",
    "df_minedex.head()"
   ]
  },
  {
   "cell_type": "code",
   "execution_count": 87,
   "metadata": {},
   "outputs": [],
   "source": [
    "data = {'minedex_lat': df_minedex['LATITUDE'], 'minedex_lon': df_minedex['LONGITUDE'], 'minedex_site': df_minedex['SITE_CODE']}"
   ]
  },
  {
   "cell_type": "code",
   "execution_count": 88,
   "metadata": {},
   "outputs": [],
   "source": [
    "mindex_coords_df = pd.DataFrame(data)"
   ]
  },
  {
   "cell_type": "code",
   "execution_count": 89,
   "metadata": {},
   "outputs": [
    {
     "data": {
      "text/html": [
       "<div>\n",
       "<style scoped>\n",
       "    .dataframe tbody tr th:only-of-type {\n",
       "        vertical-align: middle;\n",
       "    }\n",
       "\n",
       "    .dataframe tbody tr th {\n",
       "        vertical-align: top;\n",
       "    }\n",
       "\n",
       "    .dataframe thead th {\n",
       "        text-align: right;\n",
       "    }\n",
       "</style>\n",
       "<table border=\"1\" class=\"dataframe\">\n",
       "  <thead>\n",
       "    <tr style=\"text-align: right;\">\n",
       "      <th></th>\n",
       "      <th>minedex_lat</th>\n",
       "      <th>minedex_lon</th>\n",
       "      <th>minedex_site</th>\n",
       "    </tr>\n",
       "  </thead>\n",
       "  <tbody>\n",
       "    <tr>\n",
       "      <th>8</th>\n",
       "      <td>-20.930700</td>\n",
       "      <td>120.211700</td>\n",
       "      <td>S0000011</td>\n",
       "    </tr>\n",
       "    <tr>\n",
       "      <th>154</th>\n",
       "      <td>-32.416982</td>\n",
       "      <td>119.689058</td>\n",
       "      <td>S0000192</td>\n",
       "    </tr>\n",
       "    <tr>\n",
       "      <th>889</th>\n",
       "      <td>-33.633382</td>\n",
       "      <td>120.374303</td>\n",
       "      <td>S0001174</td>\n",
       "    </tr>\n",
       "    <tr>\n",
       "      <th>893</th>\n",
       "      <td>-30.393502</td>\n",
       "      <td>121.648875</td>\n",
       "      <td>S0001178</td>\n",
       "    </tr>\n",
       "    <tr>\n",
       "      <th>902</th>\n",
       "      <td>-30.736222</td>\n",
       "      <td>121.802770</td>\n",
       "      <td>S0001188</td>\n",
       "    </tr>\n",
       "  </tbody>\n",
       "</table>\n",
       "</div>"
      ],
      "text/plain": [
       "     minedex_lat  minedex_lon minedex_site\n",
       "8     -20.930700   120.211700     S0000011\n",
       "154   -32.416982   119.689058     S0000192\n",
       "889   -33.633382   120.374303     S0001174\n",
       "893   -30.393502   121.648875     S0001178\n",
       "902   -30.736222   121.802770     S0001188"
      ]
     },
     "execution_count": 89,
     "metadata": {},
     "output_type": "execute_result"
    }
   ],
   "source": [
    "mindex_coords_df.head()"
   ]
  },
  {
   "cell_type": "code",
   "execution_count": 90,
   "metadata": {},
   "outputs": [
    {
     "data": {
      "text/plain": [
       "681"
      ]
     },
     "execution_count": 90,
     "metadata": {},
     "output_type": "execute_result"
    }
   ],
   "source": [
    "#there are as many different mine sites locations as rows\n",
    "mindex_coords_df['minedex_site'].nunique()"
   ]
  },
  {
   "cell_type": "code",
   "execution_count": 91,
   "metadata": {},
   "outputs": [
    {
     "data": {
      "text/plain": [
       "[(-32.416982, 119.689058),\n",
       " (-33.633382, 120.374303),\n",
       " (-30.393502, 121.648875),\n",
       " (-30.736222, 121.80277)]"
      ]
     },
     "execution_count": 91,
     "metadata": {},
     "output_type": "execute_result"
    }
   ],
   "source": [
    "mindex_coords = list(zip(mindex_coords_df['minedex_lat'], mindex_coords_df['minedex_lon']))\n",
    "mindex_coords[1:5]"
   ]
  },
  {
   "cell_type": "code",
   "execution_count": 92,
   "metadata": {},
   "outputs": [],
   "source": [
    "mindex_coords_df['coords'] = mindex_coords"
   ]
  },
  {
   "cell_type": "code",
   "execution_count": 93,
   "metadata": {},
   "outputs": [
    {
     "data": {
      "text/html": [
       "<div>\n",
       "<style scoped>\n",
       "    .dataframe tbody tr th:only-of-type {\n",
       "        vertical-align: middle;\n",
       "    }\n",
       "\n",
       "    .dataframe tbody tr th {\n",
       "        vertical-align: top;\n",
       "    }\n",
       "\n",
       "    .dataframe thead th {\n",
       "        text-align: right;\n",
       "    }\n",
       "</style>\n",
       "<table border=\"1\" class=\"dataframe\">\n",
       "  <thead>\n",
       "    <tr style=\"text-align: right;\">\n",
       "      <th></th>\n",
       "      <th>minedex_lat</th>\n",
       "      <th>minedex_lon</th>\n",
       "      <th>minedex_site</th>\n",
       "      <th>coords</th>\n",
       "    </tr>\n",
       "  </thead>\n",
       "  <tbody>\n",
       "    <tr>\n",
       "      <th>8</th>\n",
       "      <td>-20.930700</td>\n",
       "      <td>120.211700</td>\n",
       "      <td>S0000011</td>\n",
       "      <td>(-20.9307, 120.2117)</td>\n",
       "    </tr>\n",
       "    <tr>\n",
       "      <th>154</th>\n",
       "      <td>-32.416982</td>\n",
       "      <td>119.689058</td>\n",
       "      <td>S0000192</td>\n",
       "      <td>(-32.416982, 119.689058)</td>\n",
       "    </tr>\n",
       "    <tr>\n",
       "      <th>889</th>\n",
       "      <td>-33.633382</td>\n",
       "      <td>120.374303</td>\n",
       "      <td>S0001174</td>\n",
       "      <td>(-33.633382, 120.374303)</td>\n",
       "    </tr>\n",
       "    <tr>\n",
       "      <th>893</th>\n",
       "      <td>-30.393502</td>\n",
       "      <td>121.648875</td>\n",
       "      <td>S0001178</td>\n",
       "      <td>(-30.393502, 121.648875)</td>\n",
       "    </tr>\n",
       "    <tr>\n",
       "      <th>902</th>\n",
       "      <td>-30.736222</td>\n",
       "      <td>121.802770</td>\n",
       "      <td>S0001188</td>\n",
       "      <td>(-30.736222, 121.80277)</td>\n",
       "    </tr>\n",
       "  </tbody>\n",
       "</table>\n",
       "</div>"
      ],
      "text/plain": [
       "     minedex_lat  minedex_lon minedex_site                    coords\n",
       "8     -20.930700   120.211700     S0000011      (-20.9307, 120.2117)\n",
       "154   -32.416982   119.689058     S0000192  (-32.416982, 119.689058)\n",
       "889   -33.633382   120.374303     S0001174  (-33.633382, 120.374303)\n",
       "893   -30.393502   121.648875     S0001178  (-30.393502, 121.648875)\n",
       "902   -30.736222   121.802770     S0001188   (-30.736222, 121.80277)"
      ]
     },
     "execution_count": 93,
     "metadata": {},
     "output_type": "execute_result"
    }
   ],
   "source": [
    "mindex_coords_df.head()"
   ]
  },
  {
   "cell_type": "markdown",
   "metadata": {},
   "source": [
    "## WAMEX assays"
   ]
  },
  {
   "cell_type": "code",
   "execution_count": 94,
   "metadata": {},
   "outputs": [
    {
     "name": "stderr",
     "output_type": "stream",
     "text": [
      "C:\\Users\\missc\\anaconda3\\lib\\site-packages\\IPython\\core\\interactiveshell.py:3418: DtypeWarning: Columns (18) have mixed types.Specify dtype option on import or set low_memory=False.\n",
      "  exec(code_obj, self.user_global_ns, self.user_ns)\n"
     ]
    },
    {
     "data": {
      "text/plain": [
       "(402770, 143)"
      ]
     },
     "execution_count": 94,
     "metadata": {},
     "output_type": "execute_result"
    }
   ],
   "source": [
    "df_wamex = pd.read_csv('./data/WAMEX_1_Rockchip_Original.csv')\n",
    "df_wamex.shape"
   ]
  },
  {
   "cell_type": "code",
   "execution_count": 155,
   "metadata": {},
   "outputs": [
    {
     "data": {
      "text/html": [
       "<div>\n",
       "<style scoped>\n",
       "    .dataframe tbody tr th:only-of-type {\n",
       "        vertical-align: middle;\n",
       "    }\n",
       "\n",
       "    .dataframe tbody tr th {\n",
       "        vertical-align: top;\n",
       "    }\n",
       "\n",
       "    .dataframe thead th {\n",
       "        text-align: right;\n",
       "    }\n",
       "</style>\n",
       "<table border=\"1\" class=\"dataframe\">\n",
       "  <thead>\n",
       "    <tr style=\"text-align: right;\">\n",
       "      <th></th>\n",
       "      <th>OBJECTID</th>\n",
       "      <th>DATASET</th>\n",
       "      <th>SAMPLEID</th>\n",
       "      <th>GSWANO</th>\n",
       "      <th>EXTRACT_DA</th>\n",
       "      <th>BATCH_NO</th>\n",
       "      <th>QMAPID</th>\n",
       "      <th>DLAT</th>\n",
       "      <th>DLONG</th>\n",
       "      <th>EASTING</th>\n",
       "      <th>...</th>\n",
       "      <th>W_ppm</th>\n",
       "      <th>WO3_ppm</th>\n",
       "      <th>Y_ppm</th>\n",
       "      <th>Y2O3_ppm</th>\n",
       "      <th>Yb_ppm</th>\n",
       "      <th>Yb2O3_ppm</th>\n",
       "      <th>Zn_ppm</th>\n",
       "      <th>ZnO_ppm</th>\n",
       "      <th>Zr_ppm</th>\n",
       "      <th>ZrO2_ppm</th>\n",
       "    </tr>\n",
       "  </thead>\n",
       "  <tbody>\n",
       "    <tr>\n",
       "      <th>0</th>\n",
       "      <td>1</td>\n",
       "      <td>NaN</td>\n",
       "      <td>229866</td>\n",
       "      <td>NaN</td>\n",
       "      <td>NaN</td>\n",
       "      <td>NaN</td>\n",
       "      <td>NaN</td>\n",
       "      <td>-34.048839</td>\n",
       "      <td>118.176663</td>\n",
       "      <td>NaN</td>\n",
       "      <td>...</td>\n",
       "      <td>-9999.0</td>\n",
       "      <td>-9999.0</td>\n",
       "      <td>-9999.0</td>\n",
       "      <td>-9999.0</td>\n",
       "      <td>-9999.0</td>\n",
       "      <td>-9999.0</td>\n",
       "      <td>-9999.0</td>\n",
       "      <td>-9999.0</td>\n",
       "      <td>-9999.0</td>\n",
       "      <td>-9999.0</td>\n",
       "    </tr>\n",
       "    <tr>\n",
       "      <th>1</th>\n",
       "      <td>2</td>\n",
       "      <td>NaN</td>\n",
       "      <td>229867</td>\n",
       "      <td>NaN</td>\n",
       "      <td>NaN</td>\n",
       "      <td>NaN</td>\n",
       "      <td>NaN</td>\n",
       "      <td>-34.048839</td>\n",
       "      <td>118.176663</td>\n",
       "      <td>NaN</td>\n",
       "      <td>...</td>\n",
       "      <td>-9999.0</td>\n",
       "      <td>-9999.0</td>\n",
       "      <td>-9999.0</td>\n",
       "      <td>-9999.0</td>\n",
       "      <td>-9999.0</td>\n",
       "      <td>-9999.0</td>\n",
       "      <td>-9999.0</td>\n",
       "      <td>-9999.0</td>\n",
       "      <td>-9999.0</td>\n",
       "      <td>-9999.0</td>\n",
       "    </tr>\n",
       "    <tr>\n",
       "      <th>2</th>\n",
       "      <td>3</td>\n",
       "      <td>NaN</td>\n",
       "      <td>229868</td>\n",
       "      <td>NaN</td>\n",
       "      <td>NaN</td>\n",
       "      <td>NaN</td>\n",
       "      <td>NaN</td>\n",
       "      <td>-34.048839</td>\n",
       "      <td>118.176663</td>\n",
       "      <td>NaN</td>\n",
       "      <td>...</td>\n",
       "      <td>-9999.0</td>\n",
       "      <td>-9999.0</td>\n",
       "      <td>-9999.0</td>\n",
       "      <td>-9999.0</td>\n",
       "      <td>-9999.0</td>\n",
       "      <td>-9999.0</td>\n",
       "      <td>-9999.0</td>\n",
       "      <td>-9999.0</td>\n",
       "      <td>-9999.0</td>\n",
       "      <td>-9999.0</td>\n",
       "    </tr>\n",
       "    <tr>\n",
       "      <th>3</th>\n",
       "      <td>4</td>\n",
       "      <td>NaN</td>\n",
       "      <td>229869</td>\n",
       "      <td>NaN</td>\n",
       "      <td>NaN</td>\n",
       "      <td>NaN</td>\n",
       "      <td>NaN</td>\n",
       "      <td>-34.048839</td>\n",
       "      <td>118.176663</td>\n",
       "      <td>NaN</td>\n",
       "      <td>...</td>\n",
       "      <td>-9999.0</td>\n",
       "      <td>-9999.0</td>\n",
       "      <td>-9999.0</td>\n",
       "      <td>-9999.0</td>\n",
       "      <td>-9999.0</td>\n",
       "      <td>-9999.0</td>\n",
       "      <td>-9999.0</td>\n",
       "      <td>-9999.0</td>\n",
       "      <td>-9999.0</td>\n",
       "      <td>-9999.0</td>\n",
       "    </tr>\n",
       "    <tr>\n",
       "      <th>4</th>\n",
       "      <td>5</td>\n",
       "      <td>NaN</td>\n",
       "      <td>229870</td>\n",
       "      <td>NaN</td>\n",
       "      <td>NaN</td>\n",
       "      <td>NaN</td>\n",
       "      <td>NaN</td>\n",
       "      <td>-34.048839</td>\n",
       "      <td>118.176663</td>\n",
       "      <td>NaN</td>\n",
       "      <td>...</td>\n",
       "      <td>-9999.0</td>\n",
       "      <td>-9999.0</td>\n",
       "      <td>-9999.0</td>\n",
       "      <td>-9999.0</td>\n",
       "      <td>-9999.0</td>\n",
       "      <td>-9999.0</td>\n",
       "      <td>-9999.0</td>\n",
       "      <td>-9999.0</td>\n",
       "      <td>-9999.0</td>\n",
       "      <td>-9999.0</td>\n",
       "    </tr>\n",
       "  </tbody>\n",
       "</table>\n",
       "<p>5 rows × 143 columns</p>\n",
       "</div>"
      ],
      "text/plain": [
       "   OBJECTID  DATASET  SAMPLEID  GSWANO  EXTRACT_DA  BATCH_NO  QMAPID  \\\n",
       "0         1      NaN    229866     NaN         NaN       NaN     NaN   \n",
       "1         2      NaN    229867     NaN         NaN       NaN     NaN   \n",
       "2         3      NaN    229868     NaN         NaN       NaN     NaN   \n",
       "3         4      NaN    229869     NaN         NaN       NaN     NaN   \n",
       "4         5      NaN    229870     NaN         NaN       NaN     NaN   \n",
       "\n",
       "        DLAT       DLONG  EASTING  ...   W_ppm  WO3_ppm   Y_ppm  Y2O3_ppm  \\\n",
       "0 -34.048839  118.176663      NaN  ... -9999.0  -9999.0 -9999.0   -9999.0   \n",
       "1 -34.048839  118.176663      NaN  ... -9999.0  -9999.0 -9999.0   -9999.0   \n",
       "2 -34.048839  118.176663      NaN  ... -9999.0  -9999.0 -9999.0   -9999.0   \n",
       "3 -34.048839  118.176663      NaN  ... -9999.0  -9999.0 -9999.0   -9999.0   \n",
       "4 -34.048839  118.176663      NaN  ... -9999.0  -9999.0 -9999.0   -9999.0   \n",
       "\n",
       "   Yb_ppm  Yb2O3_ppm  Zn_ppm  ZnO_ppm  Zr_ppm  ZrO2_ppm  \n",
       "0 -9999.0    -9999.0 -9999.0  -9999.0 -9999.0   -9999.0  \n",
       "1 -9999.0    -9999.0 -9999.0  -9999.0 -9999.0   -9999.0  \n",
       "2 -9999.0    -9999.0 -9999.0  -9999.0 -9999.0   -9999.0  \n",
       "3 -9999.0    -9999.0 -9999.0  -9999.0 -9999.0   -9999.0  \n",
       "4 -9999.0    -9999.0 -9999.0  -9999.0 -9999.0   -9999.0  \n",
       "\n",
       "[5 rows x 143 columns]"
      ]
     },
     "execution_count": 155,
     "metadata": {},
     "output_type": "execute_result"
    }
   ],
   "source": [
    "df_wamex.head()"
   ]
  },
  {
   "cell_type": "code",
   "execution_count": 95,
   "metadata": {},
   "outputs": [
    {
     "data": {
      "text/plain": [
       "count    4.027700e+05\n",
       "mean    -2.783185e+05\n",
       "std      5.097680e+06\n",
       "min     -9.999000e+07\n",
       "25%     -9.999000e+03\n",
       "50%     -9.999000e+03\n",
       "75%      8.000000e+00\n",
       "max      9.000000e+05\n",
       "Name: Co_ppm, dtype: float64"
      ]
     },
     "execution_count": 95,
     "metadata": {},
     "output_type": "execute_result"
    }
   ],
   "source": [
    "df_wamex['Co_ppm'].describe()"
   ]
  },
  {
   "cell_type": "markdown",
   "metadata": {},
   "source": [
    "There are unreasonable negative values that we remove."
   ]
  },
  {
   "cell_type": "code",
   "execution_count": 112,
   "metadata": {},
   "outputs": [
    {
     "data": {
      "text/plain": [
       "count    187505.000000\n",
       "mean        233.683396\n",
       "std       10023.862809\n",
       "min       -9013.000000\n",
       "25%           1.300000\n",
       "50%          10.000000\n",
       "75%          36.000000\n",
       "max      900000.000000\n",
       "Name: Co_ppm, dtype: float64"
      ]
     },
     "execution_count": 112,
     "metadata": {},
     "output_type": "execute_result"
    }
   ],
   "source": [
    "#only selecting the ones that have reasonable values (to be confirmed)\n",
    "a = [-9999, -99990000, -9990000, -33300000, -10000]\n",
    "df = df_wamex[~df_wamex['Co_ppm'].isin(a)] #not equal to these weird values\n",
    "df['Co_ppm'].describe()"
   ]
  },
  {
   "cell_type": "code",
   "execution_count": 113,
   "metadata": {},
   "outputs": [
    {
     "data": {
      "text/plain": [
       "count    177843.000000\n",
       "mean        310.792201\n",
       "std        9437.266067\n",
       "min       -7777.000000\n",
       "25%           5.000000\n",
       "50%          28.000000\n",
       "75%         104.000000\n",
       "max      980000.000000\n",
       "Name: Ni_ppm, dtype: float64"
      ]
     },
     "execution_count": 113,
     "metadata": {},
     "output_type": "execute_result"
    }
   ],
   "source": [
    "#only selecting the ones that have nickel\n",
    "a = [-99990000, -33300000, -9990000, -50000, -10000, -9999]\n",
    "df = df[~df['Ni_ppm'].isin(a)] #not equal to these weird values\n",
    "df['Ni_ppm'].describe()"
   ]
  },
  {
   "cell_type": "code",
   "execution_count": 114,
   "metadata": {},
   "outputs": [
    {
     "data": {
      "text/plain": [
       "177843"
      ]
     },
     "execution_count": 114,
     "metadata": {},
     "output_type": "execute_result"
    }
   ],
   "source": [
    "#much lower amount of rows\n",
    "len(df)"
   ]
  },
  {
   "cell_type": "code",
   "execution_count": 115,
   "metadata": {},
   "outputs": [
    {
     "data": {
      "text/plain": [
       "[(-17.234642, 128.032146),\n",
       " (-17.234642, 128.032146),\n",
       " (-17.216592, 128.047184),\n",
       " (-17.216028, 128.048165)]"
      ]
     },
     "execution_count": 115,
     "metadata": {},
     "output_type": "execute_result"
    }
   ],
   "source": [
    "wamex_coords = list(zip(df['DLAT'], df['DLONG']))\n",
    "wamex_coords[1:5]"
   ]
  },
  {
   "cell_type": "code",
   "execution_count": 116,
   "metadata": {},
   "outputs": [
    {
     "data": {
      "text/plain": [
       "177843"
      ]
     },
     "execution_count": 116,
     "metadata": {},
     "output_type": "execute_result"
    }
   ],
   "source": [
    "len(wamex_coords)"
   ]
  },
  {
   "cell_type": "code",
   "execution_count": 117,
   "metadata": {},
   "outputs": [
    {
     "data": {
      "text/plain": [
       "132960"
      ]
     },
     "execution_count": 117,
     "metadata": {},
     "output_type": "execute_result"
    }
   ],
   "source": [
    "wamex_coords_nodupl = tuple(set(wamex_coords))\n",
    "len(wamex_coords_nodupl)"
   ]
  },
  {
   "cell_type": "code",
   "execution_count": 130,
   "metadata": {},
   "outputs": [],
   "source": [
    "new = pd.DataFrame(columns=['minedex_coords', 'minedex_site', 'wamex_lat', 'wamex_lon', 'distance',])"
   ]
  },
  {
   "cell_type": "code",
   "execution_count": 102,
   "metadata": {},
   "outputs": [],
   "source": [
    "import geopy.distance"
   ]
  },
  {
   "cell_type": "code",
   "execution_count": 119,
   "metadata": {},
   "outputs": [],
   "source": [
    "#simple distance function try\n",
    "def calc_distance(coords_a, coords_b):\n",
    "       dist = geopy.distance.distance(coords_a, coords_b)\n",
    "       return(dist)"
   ]
  },
  {
   "cell_type": "code",
   "execution_count": 120,
   "metadata": {},
   "outputs": [
    {
     "data": {
      "text/plain": [
       "Distance(1438.3974155883463)"
      ]
     },
     "execution_count": 120,
     "metadata": {},
     "output_type": "execute_result"
    }
   ],
   "source": [
    "calc_distance((-17.234642, 128.032146), (-26.78737, 118.574407))"
   ]
  },
  {
   "cell_type": "code",
   "execution_count": 129,
   "metadata": {},
   "outputs": [
    {
     "data": {
      "text/plain": [
       "(-25.585249, 116.825226)"
      ]
     },
     "execution_count": 129,
     "metadata": {},
     "output_type": "execute_result"
    }
   ],
   "source": [
    "wamex_coords_nodupl[1]"
   ]
  },
  {
   "cell_type": "code",
   "execution_count": 121,
   "metadata": {},
   "outputs": [],
   "source": [
    "from tqdm import tqdm"
   ]
  },
  {
   "cell_type": "markdown",
   "metadata": {},
   "source": [
    "STOPPED AT i = 15122"
   ]
  },
  {
   "cell_type": "code",
   "execution_count": 131,
   "metadata": {},
   "outputs": [
    {
     "name": "stderr",
     "output_type": "stream",
     "text": [
      " 11%|████████▎                                                                | 15122/132960 [57:24<7:27:23,  4.39it/s]\n"
     ]
    },
    {
     "ename": "KeyboardInterrupt",
     "evalue": "",
     "output_type": "error",
     "traceback": [
      "\u001b[1;31m---------------------------------------------------------------------------\u001b[0m",
      "\u001b[1;31mKeyboardInterrupt\u001b[0m                         Traceback (most recent call last)",
      "\u001b[1;32m<ipython-input-131-74e04c5ce3c0>\u001b[0m in \u001b[0;36m<module>\u001b[1;34m\u001b[0m\n\u001b[0;32m      2\u001b[0m     \u001b[1;32mfor\u001b[0m \u001b[0mj\u001b[0m \u001b[1;32min\u001b[0m \u001b[0mrange\u001b[0m\u001b[1;33m(\u001b[0m\u001b[1;36m0\u001b[0m\u001b[1;33m,\u001b[0m \u001b[0mlen\u001b[0m\u001b[1;33m(\u001b[0m\u001b[0mmindex_coords_df\u001b[0m\u001b[1;33m)\u001b[0m\u001b[1;33m)\u001b[0m\u001b[1;33m:\u001b[0m\u001b[1;33m\u001b[0m\u001b[1;33m\u001b[0m\u001b[0m\n\u001b[0;32m      3\u001b[0m             \u001b[0mcomp\u001b[0m \u001b[1;33m=\u001b[0m \u001b[0mmindex_coords_df\u001b[0m\u001b[1;33m.\u001b[0m\u001b[0miloc\u001b[0m\u001b[1;33m[\u001b[0m\u001b[0mj\u001b[0m\u001b[1;33m]\u001b[0m\u001b[1;33m[\u001b[0m\u001b[1;34m'coords'\u001b[0m\u001b[1;33m]\u001b[0m\u001b[1;33m\u001b[0m\u001b[1;33m\u001b[0m\u001b[0m\n\u001b[1;32m----> 4\u001b[1;33m             \u001b[0mdist\u001b[0m \u001b[1;33m=\u001b[0m \u001b[0mcalc_distance\u001b[0m\u001b[1;33m(\u001b[0m\u001b[0mwamex_coords\u001b[0m\u001b[1;33m[\u001b[0m\u001b[0mi\u001b[0m\u001b[1;33m]\u001b[0m\u001b[1;33m,\u001b[0m \u001b[0mcomp\u001b[0m\u001b[1;33m)\u001b[0m\u001b[1;33m\u001b[0m\u001b[1;33m\u001b[0m\u001b[0m\n\u001b[0m\u001b[0;32m      5\u001b[0m             \u001b[1;32mif\u001b[0m \u001b[0mdist\u001b[0m \u001b[1;33m<\u001b[0m \u001b[1;36m15\u001b[0m\u001b[1;33m:\u001b[0m\u001b[1;33m\u001b[0m\u001b[1;33m\u001b[0m\u001b[0m\n\u001b[0;32m      6\u001b[0m                 \u001b[0mnew_row\u001b[0m \u001b[1;33m=\u001b[0m \u001b[1;33m{\u001b[0m\u001b[1;34m'minedex_coords'\u001b[0m\u001b[1;33m:\u001b[0m \u001b[0mcomp\u001b[0m\u001b[1;33m,\u001b[0m \u001b[1;34m'minedex_site'\u001b[0m\u001b[1;33m:\u001b[0m \u001b[0mmindex_coords_df\u001b[0m\u001b[1;33m.\u001b[0m\u001b[0miloc\u001b[0m\u001b[1;33m[\u001b[0m\u001b[0mj\u001b[0m\u001b[1;33m]\u001b[0m\u001b[1;33m[\u001b[0m\u001b[1;34m'minedex_site'\u001b[0m\u001b[1;33m]\u001b[0m\u001b[1;33m,\u001b[0m\u001b[1;34m'wamex_lat'\u001b[0m\u001b[1;33m:\u001b[0m\u001b[0mwamex_coords\u001b[0m\u001b[1;33m[\u001b[0m\u001b[0mi\u001b[0m\u001b[1;33m]\u001b[0m\u001b[1;33m[\u001b[0m\u001b[1;36m0\u001b[0m\u001b[1;33m]\u001b[0m\u001b[1;33m,\u001b[0m\u001b[1;34m'wamex_lon'\u001b[0m\u001b[1;33m:\u001b[0m \u001b[0mwamex_coords\u001b[0m\u001b[1;33m[\u001b[0m\u001b[0mi\u001b[0m\u001b[1;33m]\u001b[0m\u001b[1;33m[\u001b[0m\u001b[1;36m1\u001b[0m\u001b[1;33m]\u001b[0m\u001b[1;33m,\u001b[0m \u001b[1;34m'distance'\u001b[0m\u001b[1;33m:\u001b[0m\u001b[0mdist\u001b[0m\u001b[1;33m}\u001b[0m\u001b[1;33m\u001b[0m\u001b[1;33m\u001b[0m\u001b[0m\n",
      "\u001b[1;32m<ipython-input-119-f40cf033cf7a>\u001b[0m in \u001b[0;36mcalc_distance\u001b[1;34m(coords_a, coords_b)\u001b[0m\n\u001b[0;32m      1\u001b[0m \u001b[1;31m#simple distance function try\u001b[0m\u001b[1;33m\u001b[0m\u001b[1;33m\u001b[0m\u001b[1;33m\u001b[0m\u001b[0m\n\u001b[0;32m      2\u001b[0m \u001b[1;32mdef\u001b[0m \u001b[0mcalc_distance\u001b[0m\u001b[1;33m(\u001b[0m\u001b[0mcoords_a\u001b[0m\u001b[1;33m,\u001b[0m \u001b[0mcoords_b\u001b[0m\u001b[1;33m)\u001b[0m\u001b[1;33m:\u001b[0m\u001b[1;33m\u001b[0m\u001b[1;33m\u001b[0m\u001b[0m\n\u001b[1;32m----> 3\u001b[1;33m        \u001b[0mdist\u001b[0m \u001b[1;33m=\u001b[0m \u001b[0mgeopy\u001b[0m\u001b[1;33m.\u001b[0m\u001b[0mdistance\u001b[0m\u001b[1;33m.\u001b[0m\u001b[0mdistance\u001b[0m\u001b[1;33m(\u001b[0m\u001b[0mcoords_a\u001b[0m\u001b[1;33m,\u001b[0m \u001b[0mcoords_b\u001b[0m\u001b[1;33m)\u001b[0m\u001b[1;33m\u001b[0m\u001b[1;33m\u001b[0m\u001b[0m\n\u001b[0m\u001b[0;32m      4\u001b[0m        \u001b[1;32mreturn\u001b[0m\u001b[1;33m(\u001b[0m\u001b[0mdist\u001b[0m\u001b[1;33m)\u001b[0m\u001b[1;33m\u001b[0m\u001b[1;33m\u001b[0m\u001b[0m\n",
      "\u001b[1;32m~\\anaconda3\\lib\\site-packages\\geopy\\distance.py\u001b[0m in \u001b[0;36m__init__\u001b[1;34m(self, *args, **kwargs)\u001b[0m\n\u001b[0;32m    520\u001b[0m         \u001b[0mself\u001b[0m\u001b[1;33m.\u001b[0m\u001b[0mset_ellipsoid\u001b[0m\u001b[1;33m(\u001b[0m\u001b[0mkwargs\u001b[0m\u001b[1;33m.\u001b[0m\u001b[0mpop\u001b[0m\u001b[1;33m(\u001b[0m\u001b[1;34m'ellipsoid'\u001b[0m\u001b[1;33m,\u001b[0m \u001b[1;34m'WGS-84'\u001b[0m\u001b[1;33m)\u001b[0m\u001b[1;33m)\u001b[0m\u001b[1;33m\u001b[0m\u001b[1;33m\u001b[0m\u001b[0m\n\u001b[0;32m    521\u001b[0m         \u001b[0mmajor\u001b[0m\u001b[1;33m,\u001b[0m \u001b[0mminor\u001b[0m\u001b[1;33m,\u001b[0m \u001b[0mf\u001b[0m \u001b[1;33m=\u001b[0m \u001b[0mself\u001b[0m\u001b[1;33m.\u001b[0m\u001b[0mELLIPSOID\u001b[0m\u001b[1;33m\u001b[0m\u001b[1;33m\u001b[0m\u001b[0m\n\u001b[1;32m--> 522\u001b[1;33m         \u001b[0msuper\u001b[0m\u001b[1;33m(\u001b[0m\u001b[1;33m)\u001b[0m\u001b[1;33m.\u001b[0m\u001b[0m__init__\u001b[0m\u001b[1;33m(\u001b[0m\u001b[1;33m*\u001b[0m\u001b[0margs\u001b[0m\u001b[1;33m,\u001b[0m \u001b[1;33m**\u001b[0m\u001b[0mkwargs\u001b[0m\u001b[1;33m)\u001b[0m\u001b[1;33m\u001b[0m\u001b[1;33m\u001b[0m\u001b[0m\n\u001b[0m\u001b[0;32m    523\u001b[0m \u001b[1;33m\u001b[0m\u001b[0m\n\u001b[0;32m    524\u001b[0m     \u001b[1;32mdef\u001b[0m \u001b[0mset_ellipsoid\u001b[0m\u001b[1;33m(\u001b[0m\u001b[0mself\u001b[0m\u001b[1;33m,\u001b[0m \u001b[0mellipsoid\u001b[0m\u001b[1;33m)\u001b[0m\u001b[1;33m:\u001b[0m\u001b[1;33m\u001b[0m\u001b[1;33m\u001b[0m\u001b[0m\n",
      "\u001b[1;32m~\\anaconda3\\lib\\site-packages\\geopy\\distance.py\u001b[0m in \u001b[0;36m__init__\u001b[1;34m(self, *args, **kwargs)\u001b[0m\n\u001b[0;32m    274\u001b[0m         \u001b[1;32melif\u001b[0m \u001b[0mlen\u001b[0m\u001b[1;33m(\u001b[0m\u001b[0margs\u001b[0m\u001b[1;33m)\u001b[0m \u001b[1;33m>\u001b[0m \u001b[1;36m1\u001b[0m\u001b[1;33m:\u001b[0m\u001b[1;33m\u001b[0m\u001b[1;33m\u001b[0m\u001b[0m\n\u001b[0;32m    275\u001b[0m             \u001b[1;32mfor\u001b[0m \u001b[0ma\u001b[0m\u001b[1;33m,\u001b[0m \u001b[0mb\u001b[0m \u001b[1;32min\u001b[0m \u001b[0mutil\u001b[0m\u001b[1;33m.\u001b[0m\u001b[0mpairwise\u001b[0m\u001b[1;33m(\u001b[0m\u001b[0margs\u001b[0m\u001b[1;33m)\u001b[0m\u001b[1;33m:\u001b[0m\u001b[1;33m\u001b[0m\u001b[1;33m\u001b[0m\u001b[0m\n\u001b[1;32m--> 276\u001b[1;33m                 \u001b[0mkilometers\u001b[0m \u001b[1;33m+=\u001b[0m \u001b[0mself\u001b[0m\u001b[1;33m.\u001b[0m\u001b[0mmeasure\u001b[0m\u001b[1;33m(\u001b[0m\u001b[0ma\u001b[0m\u001b[1;33m,\u001b[0m \u001b[0mb\u001b[0m\u001b[1;33m)\u001b[0m\u001b[1;33m\u001b[0m\u001b[1;33m\u001b[0m\u001b[0m\n\u001b[0m\u001b[0;32m    277\u001b[0m \u001b[1;33m\u001b[0m\u001b[0m\n\u001b[0;32m    278\u001b[0m         \u001b[0mkilometers\u001b[0m \u001b[1;33m+=\u001b[0m \u001b[0munits\u001b[0m\u001b[1;33m.\u001b[0m\u001b[0mkilometers\u001b[0m\u001b[1;33m(\u001b[0m\u001b[1;33m**\u001b[0m\u001b[0mkwargs\u001b[0m\u001b[1;33m)\u001b[0m\u001b[1;33m\u001b[0m\u001b[1;33m\u001b[0m\u001b[0m\n",
      "\u001b[1;32m~\\anaconda3\\lib\\site-packages\\geopy\\distance.py\u001b[0m in \u001b[0;36mmeasure\u001b[1;34m(self, a, b)\u001b[0m\n\u001b[0;32m    544\u001b[0m                 \u001b[0mself\u001b[0m\u001b[1;33m.\u001b[0m\u001b[0mgeod\u001b[0m\u001b[1;33m.\u001b[0m\u001b[0ma\u001b[0m \u001b[1;33m==\u001b[0m \u001b[0mself\u001b[0m\u001b[1;33m.\u001b[0m\u001b[0mELLIPSOID\u001b[0m\u001b[1;33m[\u001b[0m\u001b[1;36m0\u001b[0m\u001b[1;33m]\u001b[0m \u001b[1;32mand\u001b[0m\u001b[1;33m\u001b[0m\u001b[1;33m\u001b[0m\u001b[0m\n\u001b[0;32m    545\u001b[0m                 self.geod.f == self.ELLIPSOID[2]):\n\u001b[1;32m--> 546\u001b[1;33m             \u001b[0mself\u001b[0m\u001b[1;33m.\u001b[0m\u001b[0mgeod\u001b[0m \u001b[1;33m=\u001b[0m \u001b[0mGeodesic\u001b[0m\u001b[1;33m(\u001b[0m\u001b[0mself\u001b[0m\u001b[1;33m.\u001b[0m\u001b[0mELLIPSOID\u001b[0m\u001b[1;33m[\u001b[0m\u001b[1;36m0\u001b[0m\u001b[1;33m]\u001b[0m\u001b[1;33m,\u001b[0m \u001b[0mself\u001b[0m\u001b[1;33m.\u001b[0m\u001b[0mELLIPSOID\u001b[0m\u001b[1;33m[\u001b[0m\u001b[1;36m2\u001b[0m\u001b[1;33m]\u001b[0m\u001b[1;33m)\u001b[0m\u001b[1;33m\u001b[0m\u001b[1;33m\u001b[0m\u001b[0m\n\u001b[0m\u001b[0;32m    547\u001b[0m \u001b[1;33m\u001b[0m\u001b[0m\n\u001b[0;32m    548\u001b[0m         s12 = self.geod.Inverse(lat1, lon1, lat2, lon2,\n",
      "\u001b[1;32m~\\anaconda3\\lib\\site-packages\\geographiclib\\geodesic.py\u001b[0m in \u001b[0;36m__init__\u001b[1;34m(self, a, f)\u001b[0m\n\u001b[0;32m    318\u001b[0m     \u001b[0mself\u001b[0m\u001b[1;33m.\u001b[0m\u001b[0m_A3coeff\u001b[0m\u001b[1;33m(\u001b[0m\u001b[1;33m)\u001b[0m\u001b[1;33m\u001b[0m\u001b[1;33m\u001b[0m\u001b[0m\n\u001b[0;32m    319\u001b[0m     \u001b[0mself\u001b[0m\u001b[1;33m.\u001b[0m\u001b[0m_C3coeff\u001b[0m\u001b[1;33m(\u001b[0m\u001b[1;33m)\u001b[0m\u001b[1;33m\u001b[0m\u001b[1;33m\u001b[0m\u001b[0m\n\u001b[1;32m--> 320\u001b[1;33m     \u001b[0mself\u001b[0m\u001b[1;33m.\u001b[0m\u001b[0m_C4coeff\u001b[0m\u001b[1;33m(\u001b[0m\u001b[1;33m)\u001b[0m\u001b[1;33m\u001b[0m\u001b[1;33m\u001b[0m\u001b[0m\n\u001b[0m\u001b[0;32m    321\u001b[0m \u001b[1;33m\u001b[0m\u001b[0m\n\u001b[0;32m    322\u001b[0m   \u001b[1;32mdef\u001b[0m \u001b[0m_A3coeff\u001b[0m\u001b[1;33m(\u001b[0m\u001b[0mself\u001b[0m\u001b[1;33m)\u001b[0m\u001b[1;33m:\u001b[0m\u001b[1;33m\u001b[0m\u001b[1;33m\u001b[0m\u001b[0m\n",
      "\u001b[1;32m~\\anaconda3\\lib\\site-packages\\geographiclib\\geodesic.py\u001b[0m in \u001b[0;36m_C4coeff\u001b[1;34m(self)\u001b[0m\n\u001b[0;32m    392\u001b[0m     \u001b[1;32mfor\u001b[0m \u001b[0ml\u001b[0m \u001b[1;32min\u001b[0m \u001b[0mrange\u001b[0m\u001b[1;33m(\u001b[0m\u001b[0mGeodesic\u001b[0m\u001b[1;33m.\u001b[0m\u001b[0mnC4_\u001b[0m\u001b[1;33m)\u001b[0m\u001b[1;33m:\u001b[0m \u001b[1;31m# l is index of C4[l]\u001b[0m\u001b[1;33m\u001b[0m\u001b[1;33m\u001b[0m\u001b[0m\n\u001b[0;32m    393\u001b[0m       \u001b[1;32mfor\u001b[0m \u001b[0mj\u001b[0m \u001b[1;32min\u001b[0m \u001b[0mrange\u001b[0m\u001b[1;33m(\u001b[0m\u001b[0mGeodesic\u001b[0m\u001b[1;33m.\u001b[0m\u001b[0mnC4_\u001b[0m \u001b[1;33m-\u001b[0m \u001b[1;36m1\u001b[0m\u001b[1;33m,\u001b[0m \u001b[0ml\u001b[0m \u001b[1;33m-\u001b[0m \u001b[1;36m1\u001b[0m\u001b[1;33m,\u001b[0m \u001b[1;33m-\u001b[0m\u001b[1;36m1\u001b[0m\u001b[1;33m)\u001b[0m\u001b[1;33m:\u001b[0m \u001b[1;31m# coeff of eps^j\u001b[0m\u001b[1;33m\u001b[0m\u001b[1;33m\u001b[0m\u001b[0m\n\u001b[1;32m--> 394\u001b[1;33m         \u001b[0mm\u001b[0m \u001b[1;33m=\u001b[0m \u001b[0mGeodesic\u001b[0m\u001b[1;33m.\u001b[0m\u001b[0mnC4_\u001b[0m \u001b[1;33m-\u001b[0m \u001b[0mj\u001b[0m \u001b[1;33m-\u001b[0m \u001b[1;36m1\u001b[0m \u001b[1;31m# order of polynomial in n\u001b[0m\u001b[1;33m\u001b[0m\u001b[1;33m\u001b[0m\u001b[0m\n\u001b[0m\u001b[0;32m    395\u001b[0m         \u001b[0mself\u001b[0m\u001b[1;33m.\u001b[0m\u001b[0m_C4x\u001b[0m\u001b[1;33m[\u001b[0m\u001b[0mk\u001b[0m\u001b[1;33m]\u001b[0m \u001b[1;33m=\u001b[0m \u001b[0mMath\u001b[0m\u001b[1;33m.\u001b[0m\u001b[0mpolyval\u001b[0m\u001b[1;33m(\u001b[0m\u001b[0mm\u001b[0m\u001b[1;33m,\u001b[0m \u001b[0mcoeff\u001b[0m\u001b[1;33m,\u001b[0m \u001b[0mo\u001b[0m\u001b[1;33m,\u001b[0m \u001b[0mself\u001b[0m\u001b[1;33m.\u001b[0m\u001b[0m_n\u001b[0m\u001b[1;33m)\u001b[0m \u001b[1;33m/\u001b[0m \u001b[0mcoeff\u001b[0m\u001b[1;33m[\u001b[0m\u001b[0mo\u001b[0m \u001b[1;33m+\u001b[0m \u001b[0mm\u001b[0m \u001b[1;33m+\u001b[0m \u001b[1;36m1\u001b[0m\u001b[1;33m]\u001b[0m\u001b[1;33m\u001b[0m\u001b[1;33m\u001b[0m\u001b[0m\n\u001b[0;32m    396\u001b[0m         \u001b[0mk\u001b[0m \u001b[1;33m+=\u001b[0m \u001b[1;36m1\u001b[0m\u001b[1;33m\u001b[0m\u001b[1;33m\u001b[0m\u001b[0m\n",
      "\u001b[1;31mKeyboardInterrupt\u001b[0m: "
     ]
    }
   ],
   "source": [
    "for i in tqdm(range(0, len(wamex_coords_nodupl))):\n",
    "    for j in range(0, len(mindex_coords_df)):\n",
    "            comp = mindex_coords_df.iloc[j]['coords']\n",
    "            dist = calc_distance(wamex_coords[i], comp)\n",
    "            if dist < 15:\n",
    "                new_row = {'minedex_coords': comp, 'minedex_site': mindex_coords_df.iloc[j]['minedex_site'],'wamex_lat':wamex_coords[i][0],'wamex_lon': wamex_coords[i][1], 'distance':dist}\n",
    "                new = new.append(new_row, ignore_index=True)"
   ]
  },
  {
   "cell_type": "code",
   "execution_count": 132,
   "metadata": {},
   "outputs": [
    {
     "data": {
      "text/plain": [
       "14826"
      ]
     },
     "execution_count": 132,
     "metadata": {},
     "output_type": "execute_result"
    }
   ],
   "source": [
    "len(new)"
   ]
  },
  {
   "cell_type": "code",
   "execution_count": 134,
   "metadata": {},
   "outputs": [],
   "source": [
    "new.to_csv('./data/distance_wamexRc_minedex.csv')"
   ]
  },
  {
   "cell_type": "code",
   "execution_count": null,
   "metadata": {},
   "outputs": [],
   "source": []
  }
 ],
 "metadata": {
  "kernelspec": {
   "display_name": "Python 3",
   "language": "python",
   "name": "python3"
  },
  "language_info": {
   "codemirror_mode": {
    "name": "ipython",
    "version": 3
   },
   "file_extension": ".py",
   "mimetype": "text/x-python",
   "name": "python",
   "nbconvert_exporter": "python",
   "pygments_lexer": "ipython3",
   "version": "3.8.5"
  }
 },
 "nbformat": 4,
 "nbformat_minor": 4
}
