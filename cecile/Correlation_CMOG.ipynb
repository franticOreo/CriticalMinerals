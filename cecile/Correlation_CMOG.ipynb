{
 "cells": [
  {
   "cell_type": "markdown",
   "metadata": {},
   "source": [
    "# CMOG Correlations"
   ]
  },
  {
   "cell_type": "code",
   "execution_count": 219,
   "metadata": {},
   "outputs": [
    {
     "data": {
      "text/html": [
       "<div>\n",
       "<style scoped>\n",
       "    .dataframe tbody tr th:only-of-type {\n",
       "        vertical-align: middle;\n",
       "    }\n",
       "\n",
       "    .dataframe tbody tr th {\n",
       "        vertical-align: top;\n",
       "    }\n",
       "\n",
       "    .dataframe thead th {\n",
       "        text-align: right;\n",
       "    }\n",
       "</style>\n",
       "<table border=\"1\" class=\"dataframe\">\n",
       "  <thead>\n",
       "    <tr style=\"text-align: right;\">\n",
       "      <th></th>\n",
       "      <th>FID</th>\n",
       "      <th>deposit_uid</th>\n",
       "      <th>deposit_name</th>\n",
       "      <th>deposit_local_id</th>\n",
       "      <th>deposit_environment</th>\n",
       "      <th>deposit_group</th>\n",
       "      <th>deposit_type</th>\n",
       "      <th>primary_commodities</th>\n",
       "      <th>secondary_commodities</th>\n",
       "      <th>all_commodities</th>\n",
       "      <th>...</th>\n",
       "      <th>sample_longitude_wgs84</th>\n",
       "      <th>sample_latitude_wgs84</th>\n",
       "      <th>sample_easting</th>\n",
       "      <th>sample_northing</th>\n",
       "      <th>sample_utm_zone</th>\n",
       "      <th>sample_location_description</th>\n",
       "      <th>location_accuracy</th>\n",
       "      <th>comments</th>\n",
       "      <th>last_update</th>\n",
       "      <th>geometry</th>\n",
       "    </tr>\n",
       "  </thead>\n",
       "  <tbody>\n",
       "    <tr>\n",
       "      <th>0</th>\n",
       "      <td>CriticalMineralDepositsGeochemistry.672862-74156</td>\n",
       "      <td>CAN.ON.06000135</td>\n",
       "      <td>Worthington</td>\n",
       "      <td>469</td>\n",
       "      <td>Magmatic</td>\n",
       "      <td>Ultramafic and (or) mafic intrusion</td>\n",
       "      <td>Impact U-M intrusion Ni-Cu-PGE</td>\n",
       "      <td>NaN</td>\n",
       "      <td>NaN</td>\n",
       "      <td>Ni, Cu, PGE</td>\n",
       "      <td>...</td>\n",
       "      <td>-81.4409</td>\n",
       "      <td>46.3906</td>\n",
       "      <td>466101</td>\n",
       "      <td>5137545</td>\n",
       "      <td>17N</td>\n",
       "      <td>NaN</td>\n",
       "      <td>NaN</td>\n",
       "      <td>NaN</td>\n",
       "      <td>2021-06-04</td>\n",
       "      <td>POINT (46.390633 -81.440903)</td>\n",
       "    </tr>\n",
       "    <tr>\n",
       "      <th>1</th>\n",
       "      <td>CriticalMineralDepositsGeochemistry.672862-74157</td>\n",
       "      <td>CAN.ON.06000135</td>\n",
       "      <td>Worthington</td>\n",
       "      <td>469</td>\n",
       "      <td>Magmatic</td>\n",
       "      <td>Ultramafic and (or) mafic intrusion</td>\n",
       "      <td>Impact U-M intrusion Ni-Cu-PGE</td>\n",
       "      <td>NaN</td>\n",
       "      <td>NaN</td>\n",
       "      <td>Ni, Cu, PGE</td>\n",
       "      <td>...</td>\n",
       "      <td>-81.4409</td>\n",
       "      <td>46.3906</td>\n",
       "      <td>466101</td>\n",
       "      <td>5137545</td>\n",
       "      <td>17N</td>\n",
       "      <td>NaN</td>\n",
       "      <td>NaN</td>\n",
       "      <td>NaN</td>\n",
       "      <td>2021-06-04</td>\n",
       "      <td>POINT (46.390633 -81.440903)</td>\n",
       "    </tr>\n",
       "    <tr>\n",
       "      <th>2</th>\n",
       "      <td>CriticalMineralDepositsGeochemistry.672871-74135</td>\n",
       "      <td>CAN.ON.06000062</td>\n",
       "      <td>Whistle</td>\n",
       "      <td>500</td>\n",
       "      <td>Magmatic</td>\n",
       "      <td>Ultramafic and (or) mafic intrusion</td>\n",
       "      <td>Impact U-M intrusion Ni-Cu-PGE</td>\n",
       "      <td>NaN</td>\n",
       "      <td>NaN</td>\n",
       "      <td>Ni, Cu, PGE</td>\n",
       "      <td>...</td>\n",
       "      <td>-80.8788</td>\n",
       "      <td>46.7723</td>\n",
       "      <td>509250</td>\n",
       "      <td>5179869</td>\n",
       "      <td>17N</td>\n",
       "      <td>NaN</td>\n",
       "      <td>NaN</td>\n",
       "      <td>NaN</td>\n",
       "      <td>2021-06-04</td>\n",
       "      <td>POINT (46.772306 -80.878847)</td>\n",
       "    </tr>\n",
       "    <tr>\n",
       "      <th>3</th>\n",
       "      <td>CriticalMineralDepositsGeochemistry.672872-74136</td>\n",
       "      <td>CAN.ON.06000062</td>\n",
       "      <td>Whistle</td>\n",
       "      <td>500</td>\n",
       "      <td>Magmatic</td>\n",
       "      <td>Ultramafic and (or) mafic intrusion</td>\n",
       "      <td>Impact U-M intrusion Ni-Cu-PGE</td>\n",
       "      <td>NaN</td>\n",
       "      <td>NaN</td>\n",
       "      <td>Ni, Cu, PGE</td>\n",
       "      <td>...</td>\n",
       "      <td>-80.8788</td>\n",
       "      <td>46.7723</td>\n",
       "      <td>509250</td>\n",
       "      <td>5179869</td>\n",
       "      <td>17N</td>\n",
       "      <td>NaN</td>\n",
       "      <td>NaN</td>\n",
       "      <td>NaN</td>\n",
       "      <td>2021-06-04</td>\n",
       "      <td>POINT (46.772306 -80.878847)</td>\n",
       "    </tr>\n",
       "    <tr>\n",
       "      <th>4</th>\n",
       "      <td>CriticalMineralDepositsGeochemistry.672873-74137</td>\n",
       "      <td>CAN.ON.06000062</td>\n",
       "      <td>Whistle</td>\n",
       "      <td>500</td>\n",
       "      <td>Magmatic</td>\n",
       "      <td>Ultramafic and (or) mafic intrusion</td>\n",
       "      <td>Impact U-M intrusion Ni-Cu-PGE</td>\n",
       "      <td>NaN</td>\n",
       "      <td>NaN</td>\n",
       "      <td>Ni, Cu, PGE</td>\n",
       "      <td>...</td>\n",
       "      <td>-80.8788</td>\n",
       "      <td>46.7723</td>\n",
       "      <td>509250</td>\n",
       "      <td>5179869</td>\n",
       "      <td>17N</td>\n",
       "      <td>NaN</td>\n",
       "      <td>NaN</td>\n",
       "      <td>NaN</td>\n",
       "      <td>2021-06-04</td>\n",
       "      <td>POINT (46.772306 -80.878847)</td>\n",
       "    </tr>\n",
       "  </tbody>\n",
       "</table>\n",
       "<p>5 rows × 340 columns</p>\n",
       "</div>"
      ],
      "text/plain": [
       "                                                FID      deposit_uid  \\\n",
       "0  CriticalMineralDepositsGeochemistry.672862-74156  CAN.ON.06000135   \n",
       "1  CriticalMineralDepositsGeochemistry.672862-74157  CAN.ON.06000135   \n",
       "2  CriticalMineralDepositsGeochemistry.672871-74135  CAN.ON.06000062   \n",
       "3  CriticalMineralDepositsGeochemistry.672872-74136  CAN.ON.06000062   \n",
       "4  CriticalMineralDepositsGeochemistry.672873-74137  CAN.ON.06000062   \n",
       "\n",
       "  deposit_name deposit_local_id deposit_environment  \\\n",
       "0  Worthington              469            Magmatic   \n",
       "1  Worthington              469            Magmatic   \n",
       "2      Whistle              500            Magmatic   \n",
       "3      Whistle              500            Magmatic   \n",
       "4      Whistle              500            Magmatic   \n",
       "\n",
       "                         deposit_group                    deposit_type  \\\n",
       "0  Ultramafic and (or) mafic intrusion  Impact U-M intrusion Ni-Cu-PGE   \n",
       "1  Ultramafic and (or) mafic intrusion  Impact U-M intrusion Ni-Cu-PGE   \n",
       "2  Ultramafic and (or) mafic intrusion  Impact U-M intrusion Ni-Cu-PGE   \n",
       "3  Ultramafic and (or) mafic intrusion  Impact U-M intrusion Ni-Cu-PGE   \n",
       "4  Ultramafic and (or) mafic intrusion  Impact U-M intrusion Ni-Cu-PGE   \n",
       "\n",
       "  primary_commodities secondary_commodities all_commodities  ...  \\\n",
       "0                 NaN                   NaN     Ni, Cu, PGE  ...   \n",
       "1                 NaN                   NaN     Ni, Cu, PGE  ...   \n",
       "2                 NaN                   NaN     Ni, Cu, PGE  ...   \n",
       "3                 NaN                   NaN     Ni, Cu, PGE  ...   \n",
       "4                 NaN                   NaN     Ni, Cu, PGE  ...   \n",
       "\n",
       "  sample_longitude_wgs84 sample_latitude_wgs84 sample_easting sample_northing  \\\n",
       "0               -81.4409               46.3906         466101         5137545   \n",
       "1               -81.4409               46.3906         466101         5137545   \n",
       "2               -80.8788               46.7723         509250         5179869   \n",
       "3               -80.8788               46.7723         509250         5179869   \n",
       "4               -80.8788               46.7723         509250         5179869   \n",
       "\n",
       "  sample_utm_zone sample_location_description location_accuracy  comments  \\\n",
       "0             17N                         NaN               NaN       NaN   \n",
       "1             17N                         NaN               NaN       NaN   \n",
       "2             17N                         NaN               NaN       NaN   \n",
       "3             17N                         NaN               NaN       NaN   \n",
       "4             17N                         NaN               NaN       NaN   \n",
       "\n",
       "   last_update                      geometry  \n",
       "0   2021-06-04  POINT (46.390633 -81.440903)  \n",
       "1   2021-06-04  POINT (46.390633 -81.440903)  \n",
       "2   2021-06-04  POINT (46.772306 -80.878847)  \n",
       "3   2021-06-04  POINT (46.772306 -80.878847)  \n",
       "4   2021-06-04  POINT (46.772306 -80.878847)  \n",
       "\n",
       "[5 rows x 340 columns]"
      ]
     },
     "execution_count": 219,
     "metadata": {},
     "output_type": "execute_result"
    }
   ],
   "source": [
    "import pandas as pd\n",
    "pd.options.mode.chained_assignment = None\n",
    "df = pd.read_csv('CriticalMineralDepositsGeochemistry - GA-GSC-USGS.csv', low_memory = False)\n",
    "df.head()"
   ]
  },
  {
   "cell_type": "code",
   "execution_count": 220,
   "metadata": {},
   "outputs": [
    {
     "name": "stdout",
     "output_type": "stream",
     "text": [
      "<class 'pandas.core.frame.DataFrame'>\n",
      "RangeIndex: 9553 entries, 0 to 9552\n",
      "Columns: 340 entries, FID to geometry\n",
      "dtypes: float64(201), int64(2), object(137)\n",
      "memory usage: 24.8+ MB\n"
     ]
    }
   ],
   "source": [
    "df.info()"
   ]
  },
  {
   "cell_type": "code",
   "execution_count": 221,
   "metadata": {},
   "outputs": [
    {
     "data": {
      "text/plain": [
       "(9553, 340)"
      ]
     },
     "execution_count": 221,
     "metadata": {},
     "output_type": "execute_result"
    }
   ],
   "source": [
    "df.shape"
   ]
  },
  {
   "cell_type": "code",
   "execution_count": 144,
   "metadata": {},
   "outputs": [
    {
     "data": {
      "text/html": [
       "<div>\n",
       "<style scoped>\n",
       "    .dataframe tbody tr th:only-of-type {\n",
       "        vertical-align: middle;\n",
       "    }\n",
       "\n",
       "    .dataframe tbody tr th {\n",
       "        vertical-align: top;\n",
       "    }\n",
       "\n",
       "    .dataframe thead th {\n",
       "        text-align: right;\n",
       "    }\n",
       "</style>\n",
       "<table border=\"1\" class=\"dataframe\">\n",
       "  <thead>\n",
       "    <tr style=\"text-align: right;\">\n",
       "      <th></th>\n",
       "      <th>FID</th>\n",
       "      <th>deposit_uid</th>\n",
       "      <th>deposit_name</th>\n",
       "      <th>deposit_local_id</th>\n",
       "      <th>deposit_environment</th>\n",
       "      <th>deposit_group</th>\n",
       "      <th>deposit_type</th>\n",
       "      <th>primary_commodities</th>\n",
       "      <th>secondary_commodities</th>\n",
       "      <th>all_commodities</th>\n",
       "      <th>...</th>\n",
       "      <th>sample_longitude_wgs84</th>\n",
       "      <th>sample_latitude_wgs84</th>\n",
       "      <th>sample_easting</th>\n",
       "      <th>sample_northing</th>\n",
       "      <th>sample_utm_zone</th>\n",
       "      <th>sample_location_description</th>\n",
       "      <th>location_accuracy</th>\n",
       "      <th>comments</th>\n",
       "      <th>last_update</th>\n",
       "      <th>geometry</th>\n",
       "    </tr>\n",
       "  </thead>\n",
       "  <tbody>\n",
       "  </tbody>\n",
       "</table>\n",
       "<p>0 rows × 340 columns</p>\n",
       "</div>"
      ],
      "text/plain": [
       "Empty DataFrame\n",
       "Columns: [FID, deposit_uid, deposit_name, deposit_local_id, deposit_environment, deposit_group, deposit_type, primary_commodities, secondary_commodities, all_commodities, deposit_source, sample_uid, sample_name, sample_local_id, feature_type, feature_name, feature_uid, top_depth_m, base_depth_m, sample_deposit_relation, sample_type, sampling_method, material_class, province, strat_unit_name, strat_unit_uid, strat_grouping, earth_material_group, earth_material_qualifier, earth_material, mode_occurrence, alteration, texture, minerals, sample_description, sample_preparation, sio2_wt_percent, sio2_detection_limit, sio2_method, tio2_wt_percent, tio2_detection_limit, tio2_method, al2o3_wt_percent, al2o3_detection_limit, al2o3_method, fe2o3tot_wt_percent, fe2o3tot_detection_limit, fe2o3tot_method, fe2o3_wt_percent, fe2o3_detection_limit, fe2o3_method, feo_wt_percent, feo_detection_limit, feo_method, mno_wt_percent, mno_detection_limit, mno_method, mgo_wt_percent, mgo_detection_limit, mgo_method, cao_wt_percent, cao_detection_limit, cao_method, na2o_wt_percent, na2o_detection_limit, na2o_method, k2o_wt_percent, k2o_detection_limit, k2o_method, p2o5_wt_percent, p2o5_detection_limit, p2o5_method, h2oplus_wt_percent, h2oplus_detection_limit, h2oplus_method, h2ominus_wt_percent, h2ominus_detection_limit, h2ominus_method, h2ototal_wt_percent, h2ototal_detection_limit, h2ototal_method, co2_wt_percent, co2_detection_limit, co2_method, so3_wt_percent, so3_detection_limit, so3_method, mloi_wt_percent, mloi_detection_limit, mloi_method, loitot_wt_percent, loitot_detection_limit, loitot_method, rest_wt_percent, rest_method, total_wt_percent, total_method, ag_ppm, ag_detection_limit, ag_method, ...]\n",
       "Index: []\n",
       "\n",
       "[0 rows x 340 columns]"
      ]
     },
     "execution_count": 144,
     "metadata": {},
     "output_type": "execute_result"
    }
   ],
   "source": [
    "df[df.values == -9999] #here are no -9999 values like the other datasets"
   ]
  },
  {
   "cell_type": "code",
   "execution_count": 222,
   "metadata": {},
   "outputs": [
    {
     "data": {
      "text/plain": [
       "count     1379.000000\n",
       "mean      1061.566309\n",
       "std       5644.343191\n",
       "min         -8.000000\n",
       "25%         -1.000000\n",
       "50%          1.000000\n",
       "75%         12.000000\n",
       "max      90700.000000\n",
       "Name: pd_ppb, dtype: float64"
      ]
     },
     "execution_count": 222,
     "metadata": {},
     "output_type": "execute_result"
    }
   ],
   "source": [
    "df['pd_ppb'].describe()"
   ]
  },
  {
   "cell_type": "code",
   "execution_count": 223,
   "metadata": {},
   "outputs": [],
   "source": [
    "#pd_ppm, 'au_ppb', 'pt_ppm', 'rh_ppm' not available so we calculate them\n",
    "df['pd_ppm'] = df['pd_ppb'] / 1000\n",
    "df['au_ppm'] = df['au_ppb'] / 1000\n",
    "df['pt_ppm'] = df['pt_ppb'] / 1000\n",
    "df['rh_ppm'] = df['rh_ppb'] / 1000"
   ]
  },
  {
   "cell_type": "code",
   "execution_count": 224,
   "metadata": {},
   "outputs": [
    {
     "data": {
      "text/plain": [
       "ag_ppm       3044\n",
       "al_ppm       7135\n",
       "as_ppm       4519\n",
       "b_ppm        7869\n",
       "ba_ppm       5906\n",
       "             ... \n",
       "ree_y_ppm    7132\n",
       "pd_ppm       8174\n",
       "au_ppm       6217\n",
       "pt_ppm       8173\n",
       "rh_ppm       9546\n",
       "Length: 73, dtype: int64"
      ]
     },
     "execution_count": 224,
     "metadata": {},
     "output_type": "execute_result"
    }
   ],
   "source": [
    "df.filter(like='ppm').isna().sum()"
   ]
  },
  {
   "cell_type": "markdown",
   "metadata": {},
   "source": [
    "We note many pd, au, pt, rh values are missing. "
   ]
  },
  {
   "cell_type": "code",
   "execution_count": 225,
   "metadata": {},
   "outputs": [],
   "source": [
    "#change NAs to 0\n",
    "df = df.fillna(0)"
   ]
  },
  {
   "cell_type": "code",
   "execution_count": 226,
   "metadata": {},
   "outputs": [
    {
     "data": {
      "text/html": [
       "<div>\n",
       "<style scoped>\n",
       "    .dataframe tbody tr th:only-of-type {\n",
       "        vertical-align: middle;\n",
       "    }\n",
       "\n",
       "    .dataframe tbody tr th {\n",
       "        vertical-align: top;\n",
       "    }\n",
       "\n",
       "    .dataframe thead th {\n",
       "        text-align: right;\n",
       "    }\n",
       "</style>\n",
       "<table border=\"1\" class=\"dataframe\">\n",
       "  <thead>\n",
       "    <tr style=\"text-align: right;\">\n",
       "      <th></th>\n",
       "      <th>pd_ppm</th>\n",
       "      <th>au_ppm</th>\n",
       "      <th>pt_ppm</th>\n",
       "      <th>rh_ppm</th>\n",
       "    </tr>\n",
       "  </thead>\n",
       "  <tbody>\n",
       "    <tr>\n",
       "      <th>count</th>\n",
       "      <td>9553.000000</td>\n",
       "      <td>9553.000000</td>\n",
       "      <td>9553.000000</td>\n",
       "      <td>9553.000000</td>\n",
       "    </tr>\n",
       "    <tr>\n",
       "      <th>mean</th>\n",
       "      <td>0.153240</td>\n",
       "      <td>4.207993</td>\n",
       "      <td>0.064766</td>\n",
       "      <td>-0.000524</td>\n",
       "    </tr>\n",
       "    <tr>\n",
       "      <th>std</th>\n",
       "      <td>2.176057</td>\n",
       "      <td>84.185019</td>\n",
       "      <td>0.848051</td>\n",
       "      <td>0.051156</td>\n",
       "    </tr>\n",
       "    <tr>\n",
       "      <th>min</th>\n",
       "      <td>-0.008000</td>\n",
       "      <td>-1.000000</td>\n",
       "      <td>-0.010000</td>\n",
       "      <td>-5.000000</td>\n",
       "    </tr>\n",
       "    <tr>\n",
       "      <th>25%</th>\n",
       "      <td>0.000000</td>\n",
       "      <td>0.000000</td>\n",
       "      <td>0.000000</td>\n",
       "      <td>0.000000</td>\n",
       "    </tr>\n",
       "    <tr>\n",
       "      <th>50%</th>\n",
       "      <td>0.000000</td>\n",
       "      <td>0.000000</td>\n",
       "      <td>0.000000</td>\n",
       "      <td>0.000000</td>\n",
       "    </tr>\n",
       "    <tr>\n",
       "      <th>75%</th>\n",
       "      <td>0.000000</td>\n",
       "      <td>0.084000</td>\n",
       "      <td>0.000000</td>\n",
       "      <td>0.000000</td>\n",
       "    </tr>\n",
       "    <tr>\n",
       "      <th>max</th>\n",
       "      <td>90.700000</td>\n",
       "      <td>6570.000000</td>\n",
       "      <td>34.200000</td>\n",
       "      <td>0.001000</td>\n",
       "    </tr>\n",
       "  </tbody>\n",
       "</table>\n",
       "</div>"
      ],
      "text/plain": [
       "            pd_ppm       au_ppm       pt_ppm       rh_ppm\n",
       "count  9553.000000  9553.000000  9553.000000  9553.000000\n",
       "mean      0.153240     4.207993     0.064766    -0.000524\n",
       "std       2.176057    84.185019     0.848051     0.051156\n",
       "min      -0.008000    -1.000000    -0.010000    -5.000000\n",
       "25%       0.000000     0.000000     0.000000     0.000000\n",
       "50%       0.000000     0.000000     0.000000     0.000000\n",
       "75%       0.000000     0.084000     0.000000     0.000000\n",
       "max      90.700000  6570.000000    34.200000     0.001000"
      ]
     },
     "execution_count": 226,
     "metadata": {},
     "output_type": "execute_result"
    }
   ],
   "source": [
    "df[['pd_ppm','au_ppm','pt_ppm','rh_ppm']].describe()"
   ]
  },
  {
   "cell_type": "code",
   "execution_count": 227,
   "metadata": {},
   "outputs": [],
   "source": [
    "#only keep ppm columns\n",
    "df_ppm = df.filter(like='ppm') "
   ]
  },
  {
   "cell_type": "code",
   "execution_count": 228,
   "metadata": {},
   "outputs": [],
   "source": [
    "#also keep coordonates\n",
    "df_ppm['longitude'] = df['sample_longitude_wgs84']\n",
    "df_ppm['latitude'] = df['sample_latitude_wgs84']\n",
    "df_ppm['deposit_group'] = df['deposit_group']"
   ]
  },
  {
   "cell_type": "code",
   "execution_count": 229,
   "metadata": {},
   "outputs": [
    {
     "data": {
      "text/plain": [
       "(9553, 76)"
      ]
     },
     "execution_count": 229,
     "metadata": {},
     "output_type": "execute_result"
    }
   ],
   "source": [
    "df_ppm.shape"
   ]
  },
  {
   "cell_type": "markdown",
   "metadata": {},
   "source": [
    "## Correlations"
   ]
  },
  {
   "cell_type": "code",
   "execution_count": 230,
   "metadata": {},
   "outputs": [],
   "source": [
    "def abs_halve_neg_val(val):\n",
    "    if val < 0: \n",
    "        return abs(val) / 2\n",
    "    else: \n",
    "        return val\n",
    "\n",
    "def clean_assays(df):\n",
    "    df = df.applymap(abs_halve_neg_val)\n",
    "    \n",
    "    return df"
   ]
  },
  {
   "cell_type": "code",
   "execution_count": 231,
   "metadata": {},
   "outputs": [],
   "source": [
    "df_minerals = df_ppm.drop(columns=['latitude', 'longitude', 'deposit_group'])\n",
    "\n",
    "df_ppm.loc[:, df_minerals.columns] = clean_assays(df_ppm.loc[:,df_minerals.columns])"
   ]
  },
  {
   "cell_type": "markdown",
   "metadata": {},
   "source": [
    "### VMS"
   ]
  },
  {
   "cell_type": "code",
   "execution_count": 157,
   "metadata": {},
   "outputs": [
    {
     "data": {
      "text/plain": [
       "(2886, 76)"
      ]
     },
     "execution_count": 157,
     "metadata": {},
     "output_type": "execute_result"
    }
   ],
   "source": [
    "VMS = 'Volcanogenic massive sulfide (VMS)'\n",
    "VMS = df_ppm[df_ppm['deposit_group'] == VMS]\n",
    "VMS.shape"
   ]
  },
  {
   "cell_type": "code",
   "execution_count": 158,
   "metadata": {},
   "outputs": [
    {
     "data": {
      "text/plain": [
       "<AxesSubplot:>"
      ]
     },
     "execution_count": 158,
     "metadata": {},
     "output_type": "execute_result"
    },
    {
     "data": {
      "image/png": "[encoded data removed]",
      "text/plain": [
       "<Figure size 432x288 with 1 Axes>"
      ]
     },
     "metadata": {
      "needs_background": "light"
     },
     "output_type": "display_data"
    }
   ],
   "source": [
    "VMS['ge_ppm'].plot(kind='box')"
   ]
  },
  {
   "cell_type": "code",
   "execution_count": 159,
   "metadata": {},
   "outputs": [],
   "source": [
    "#remove 2 clear outliers \n",
    "VMS = VMS[VMS['ge_ppm'] < 100]"
   ]
  },
  {
   "cell_type": "code",
   "execution_count": 160,
   "metadata": {},
   "outputs": [
    {
     "data": {
      "text/plain": [
       "<AxesSubplot:>"
      ]
     },
     "execution_count": 160,
     "metadata": {},
     "output_type": "execute_result"
    },
    {
     "data": {
      "image/png": "[encoded data removed]",
      "text/plain": [
       "<Figure size 432x288 with 1 Axes>"
      ]
     },
     "metadata": {
      "needs_background": "light"
     },
     "output_type": "display_data"
    }
   ],
   "source": [
    "VMS['in_ppm'].plot(kind='box')"
   ]
  },
  {
   "cell_type": "code",
   "execution_count": 161,
   "metadata": {},
   "outputs": [],
   "source": [
    "#remove 2 clear outliers \n",
    "VMS = VMS[VMS['in_ppm'] < 350]"
   ]
  },
  {
   "cell_type": "code",
   "execution_count": 183,
   "metadata": {},
   "outputs": [],
   "source": [
    "VMS_corr = VMS.corr()"
   ]
  },
  {
   "cell_type": "code",
   "execution_count": 185,
   "metadata": {},
   "outputs": [],
   "source": [
    "only_ge = VMS_corr['ge_ppm'].sort_values()"
   ]
  },
  {
   "cell_type": "code",
   "execution_count": 188,
   "metadata": {},
   "outputs": [
    {
     "data": {
      "text/plain": [
       "latitude   -0.125422\n",
       "zn_ppm     -0.068217\n",
       "se_ppm     -0.028046\n",
       "cd_ppm     -0.026441\n",
       "eu_ppm     -0.023563\n",
       "Name: ge_ppm, dtype: float64"
      ]
     },
     "execution_count": 188,
     "metadata": {},
     "output_type": "execute_result"
    }
   ],
   "source": [
    "only_ge[0:5]"
   ]
  },
  {
   "cell_type": "code",
   "execution_count": 192,
   "metadata": {},
   "outputs": [
    {
     "data": {
      "text/plain": [
       "al_ppm       0.080195\n",
       "pt_ppm       0.082323\n",
       "fe_ppm       0.115824\n",
       "li_ppm       0.124128\n",
       "pd_ppm       0.125423\n",
       "longitude    0.126038\n",
       "ti_ppm       0.191062\n",
       "s_ppm        0.457723\n",
       "ge_ppm       1.000000\n",
       "rh_ppm            NaN\n",
       "Name: ge_ppm, dtype: float64"
      ]
     },
     "execution_count": 192,
     "metadata": {},
     "output_type": "execute_result"
    }
   ],
   "source": [
    "only_ge[-10:]"
   ]
  },
  {
   "cell_type": "code",
   "execution_count": 186,
   "metadata": {},
   "outputs": [],
   "source": [
    "only_in = VMS_corr['in_ppm'].sort_values()"
   ]
  },
  {
   "cell_type": "code",
   "execution_count": 189,
   "metadata": {},
   "outputs": [
    {
     "data": {
      "text/plain": [
       "latitude   -0.128724\n",
       "cr_ppm     -0.025449\n",
       "s_ppm      -0.020405\n",
       "ga_ppm     -0.019506\n",
       "zr_ppm     -0.018365\n",
       "Name: in_ppm, dtype: float64"
      ]
     },
     "execution_count": 189,
     "metadata": {},
     "output_type": "execute_result"
    }
   ],
   "source": [
    "only_in[0:5]"
   ]
  },
  {
   "cell_type": "code",
   "execution_count": 193,
   "metadata": {},
   "outputs": [
    {
     "data": {
      "text/plain": [
       "ree_ppm      0.071511\n",
       "ree_y_ppm    0.076386\n",
       "na_ppm       0.077104\n",
       "k_ppm        0.136133\n",
       "longitude    0.138283\n",
       "al_ppm       0.142141\n",
       "hree_ppm     0.209385\n",
       "fe_ppm       0.277406\n",
       "in_ppm       1.000000\n",
       "rh_ppm            NaN\n",
       "Name: in_ppm, dtype: float64"
      ]
     },
     "execution_count": 193,
     "metadata": {},
     "output_type": "execute_result"
    }
   ],
   "source": [
    "only_in[-10:]"
   ]
  },
  {
   "cell_type": "markdown",
   "metadata": {},
   "source": [
    "### Cobalt deposits "
   ]
  },
  {
   "cell_type": "markdown",
   "metadata": {},
   "source": [
    "Co_Deposits = ['Komatiite', 'Ultramafic and (or) mafic-layered intrusion',  'Ultramafic and (or) mafic intrusion', 'Ultramafic and (or) mafic conduit']\n",
    "Co_Deposits = df[df['deposit_group'].isin(Co_Deposits)]\n",
    "Co_Deposits.shape#### Cobalt deposits"
   ]
  },
  {
   "cell_type": "code",
   "execution_count": 232,
   "metadata": {},
   "outputs": [
    {
     "data": {
      "text/plain": [
       "(950, 76)"
      ]
     },
     "execution_count": 232,
     "metadata": {},
     "output_type": "execute_result"
    }
   ],
   "source": [
    "Co_Deposits = ['Komatiite', 'Ultramafic and (or) mafic-layered intrusion',  'Ultramafic and (or) mafic intrusion', 'Ultramafic and (or) mafic conduit']\n",
    "Co_Deposits = df_ppm[df_ppm['deposit_group'].isin(Co_Deposits)]\n",
    "Co_Deposits.shape"
   ]
  },
  {
   "cell_type": "code",
   "execution_count": 233,
   "metadata": {},
   "outputs": [
    {
     "data": {
      "text/plain": [
       "(3, 76)"
      ]
     },
     "execution_count": 233,
     "metadata": {},
     "output_type": "execute_result"
    }
   ],
   "source": [
    "Co_Deposits[Co_Deposits['zn_ppm'] > 300000].shape"
   ]
  },
  {
   "cell_type": "code",
   "execution_count": 234,
   "metadata": {},
   "outputs": [],
   "source": [
    "Co_Deposits = Co_Deposits[Co_Deposits['zn_ppm'] < 300000]"
   ]
  },
  {
   "cell_type": "code",
   "execution_count": 235,
   "metadata": {},
   "outputs": [
    {
     "data": {
      "text/plain": [
       "<AxesSubplot:>"
      ]
     },
     "execution_count": 235,
     "metadata": {},
     "output_type": "execute_result"
    },
    {
     "data": {
      "image/png": "[encoded data removed]",
      "text/plain": [
       "<Figure size 432x288 with 1 Axes>"
      ]
     },
     "metadata": {
      "needs_background": "light"
     },
     "output_type": "display_data"
    }
   ],
   "source": [
    "Co_Deposits['co_ppm'].plot(kind='box')"
   ]
  },
  {
   "cell_type": "code",
   "execution_count": 236,
   "metadata": {},
   "outputs": [],
   "source": [
    "#remove outliers very far from the rest\n",
    "Co_Deposits = Co_Deposits[Co_Deposits['co_ppm'] < 7500]"
   ]
  },
  {
   "cell_type": "code",
   "execution_count": 237,
   "metadata": {},
   "outputs": [],
   "source": [
    "Co_Deposits_corr = Co_Deposits.corr()"
   ]
  },
  {
   "cell_type": "code",
   "execution_count": 238,
   "metadata": {},
   "outputs": [],
   "source": [
    "only_co = Co_Deposits_corr['co_ppm'].sort_values()"
   ]
  },
  {
   "cell_type": "code",
   "execution_count": 239,
   "metadata": {},
   "outputs": [
    {
     "data": {
      "text/plain": [
       "s_ppm       -0.079833\n",
       "ree_y_ppm   -0.077451\n",
       "sc_ppm      -0.073970\n",
       "cr_ppm      -0.067745\n",
       "Name: co_ppm, dtype: float64"
      ]
     },
     "execution_count": 239,
     "metadata": {},
     "output_type": "execute_result"
    }
   ],
   "source": [
    "only_co[1:5]"
   ]
  },
  {
   "cell_type": "code",
   "execution_count": 240,
   "metadata": {},
   "outputs": [
    {
     "data": {
      "text/plain": [
       "in_ppm      0.083771\n",
       "bi_ppm      0.142677\n",
       "pt_ppm      0.160318\n",
       "tl_ppm      0.162724\n",
       "se_ppm      0.292625\n",
       "fe_ppm      0.342642\n",
       "latitude    0.384801\n",
       "ni_ppm      0.729625\n",
       "co_ppm      1.000000\n",
       "rh_ppm           NaN\n",
       "Name: co_ppm, dtype: float64"
      ]
     },
     "execution_count": 240,
     "metadata": {},
     "output_type": "execute_result"
    }
   ],
   "source": [
    "only_co[-10:]"
   ]
  },
  {
   "cell_type": "code",
   "execution_count": 244,
   "metadata": {},
   "outputs": [],
   "source": [
    "only_minedex_co = Co_Deposits[['ni_ppm','cu_ppm','co_ppm', 'pd_ppm', 'au_ppm','pt_ppm', 'rh_ppm', 'fe_ppm', 's_ppm', 'ag_ppm', 'latitude', 'longitude']].corr()"
   ]
  },
  {
   "cell_type": "markdown",
   "metadata": {},
   "source": [
    "Strongest collections are with Nickel, latitude, iron,se, tl, Pt, and Bi. "
   ]
  },
  {
   "cell_type": "code",
   "execution_count": 245,
   "metadata": {},
   "outputs": [
    {
     "data": {
      "text/plain": [
       "count    942.0\n",
       "mean       0.0\n",
       "std        0.0\n",
       "min        0.0\n",
       "25%        0.0\n",
       "50%        0.0\n",
       "75%        0.0\n",
       "max        0.0\n",
       "Name: rh_ppm, dtype: float64"
      ]
     },
     "execution_count": 245,
     "metadata": {},
     "output_type": "execute_result"
    }
   ],
   "source": [
    "Co_Deposits['rh_ppm'].describe() #rh is 0 because only 0s in the data"
   ]
  },
  {
   "cell_type": "code",
   "execution_count": 246,
   "metadata": {},
   "outputs": [
    {
     "data": {
      "text/html": [
       "<div>\n",
       "<style scoped>\n",
       "    .dataframe tbody tr th:only-of-type {\n",
       "        vertical-align: middle;\n",
       "    }\n",
       "\n",
       "    .dataframe tbody tr th {\n",
       "        vertical-align: top;\n",
       "    }\n",
       "\n",
       "    .dataframe thead th {\n",
       "        text-align: right;\n",
       "    }\n",
       "</style>\n",
       "<table border=\"1\" class=\"dataframe\">\n",
       "  <thead>\n",
       "    <tr style=\"text-align: right;\">\n",
       "      <th></th>\n",
       "      <th>ni_ppm</th>\n",
       "      <th>cu_ppm</th>\n",
       "      <th>co_ppm</th>\n",
       "      <th>pd_ppm</th>\n",
       "      <th>au_ppm</th>\n",
       "      <th>pt_ppm</th>\n",
       "      <th>rh_ppm</th>\n",
       "      <th>fe_ppm</th>\n",
       "      <th>s_ppm</th>\n",
       "      <th>ag_ppm</th>\n",
       "      <th>latitude</th>\n",
       "      <th>longitude</th>\n",
       "    </tr>\n",
       "  </thead>\n",
       "  <tbody>\n",
       "    <tr>\n",
       "      <th>ni_ppm</th>\n",
       "      <td>1.000000</td>\n",
       "      <td>0.050393</td>\n",
       "      <td>0.729625</td>\n",
       "      <td>0.088031</td>\n",
       "      <td>0.190949</td>\n",
       "      <td>0.202376</td>\n",
       "      <td>NaN</td>\n",
       "      <td>0.244737</td>\n",
       "      <td>-0.039457</td>\n",
       "      <td>0.007194</td>\n",
       "      <td>0.252380</td>\n",
       "      <td>-0.272396</td>\n",
       "    </tr>\n",
       "    <tr>\n",
       "      <th>cu_ppm</th>\n",
       "      <td>0.050393</td>\n",
       "      <td>1.000000</td>\n",
       "      <td>0.004566</td>\n",
       "      <td>0.530901</td>\n",
       "      <td>0.009310</td>\n",
       "      <td>0.325321</td>\n",
       "      <td>NaN</td>\n",
       "      <td>-0.019729</td>\n",
       "      <td>-0.065535</td>\n",
       "      <td>0.106730</td>\n",
       "      <td>0.413760</td>\n",
       "      <td>-0.436696</td>\n",
       "    </tr>\n",
       "    <tr>\n",
       "      <th>co_ppm</th>\n",
       "      <td>0.729625</td>\n",
       "      <td>0.004566</td>\n",
       "      <td>1.000000</td>\n",
       "      <td>0.042468</td>\n",
       "      <td>0.070199</td>\n",
       "      <td>0.160318</td>\n",
       "      <td>NaN</td>\n",
       "      <td>0.342642</td>\n",
       "      <td>-0.079833</td>\n",
       "      <td>-0.006236</td>\n",
       "      <td>0.384801</td>\n",
       "      <td>-0.410017</td>\n",
       "    </tr>\n",
       "    <tr>\n",
       "      <th>pd_ppm</th>\n",
       "      <td>0.088031</td>\n",
       "      <td>0.530901</td>\n",
       "      <td>0.042468</td>\n",
       "      <td>1.000000</td>\n",
       "      <td>0.051901</td>\n",
       "      <td>0.399874</td>\n",
       "      <td>NaN</td>\n",
       "      <td>-0.058665</td>\n",
       "      <td>-0.033264</td>\n",
       "      <td>0.026932</td>\n",
       "      <td>0.257973</td>\n",
       "      <td>-0.270058</td>\n",
       "    </tr>\n",
       "    <tr>\n",
       "      <th>au_ppm</th>\n",
       "      <td>0.190949</td>\n",
       "      <td>0.009310</td>\n",
       "      <td>0.070199</td>\n",
       "      <td>0.051901</td>\n",
       "      <td>1.000000</td>\n",
       "      <td>0.119678</td>\n",
       "      <td>NaN</td>\n",
       "      <td>-0.028059</td>\n",
       "      <td>0.061193</td>\n",
       "      <td>0.007150</td>\n",
       "      <td>0.055297</td>\n",
       "      <td>-0.031277</td>\n",
       "    </tr>\n",
       "    <tr>\n",
       "      <th>pt_ppm</th>\n",
       "      <td>0.202376</td>\n",
       "      <td>0.325321</td>\n",
       "      <td>0.160318</td>\n",
       "      <td>0.399874</td>\n",
       "      <td>0.119678</td>\n",
       "      <td>1.000000</td>\n",
       "      <td>NaN</td>\n",
       "      <td>-0.055183</td>\n",
       "      <td>-0.037083</td>\n",
       "      <td>0.026206</td>\n",
       "      <td>0.252047</td>\n",
       "      <td>-0.276671</td>\n",
       "    </tr>\n",
       "    <tr>\n",
       "      <th>rh_ppm</th>\n",
       "      <td>NaN</td>\n",
       "      <td>NaN</td>\n",
       "      <td>NaN</td>\n",
       "      <td>NaN</td>\n",
       "      <td>NaN</td>\n",
       "      <td>NaN</td>\n",
       "      <td>NaN</td>\n",
       "      <td>NaN</td>\n",
       "      <td>NaN</td>\n",
       "      <td>NaN</td>\n",
       "      <td>NaN</td>\n",
       "      <td>NaN</td>\n",
       "    </tr>\n",
       "    <tr>\n",
       "      <th>fe_ppm</th>\n",
       "      <td>0.244737</td>\n",
       "      <td>-0.019729</td>\n",
       "      <td>0.342642</td>\n",
       "      <td>-0.058665</td>\n",
       "      <td>-0.028059</td>\n",
       "      <td>-0.055183</td>\n",
       "      <td>NaN</td>\n",
       "      <td>1.000000</td>\n",
       "      <td>0.007688</td>\n",
       "      <td>0.041269</td>\n",
       "      <td>-0.002936</td>\n",
       "      <td>0.002623</td>\n",
       "    </tr>\n",
       "    <tr>\n",
       "      <th>s_ppm</th>\n",
       "      <td>-0.039457</td>\n",
       "      <td>-0.065535</td>\n",
       "      <td>-0.079833</td>\n",
       "      <td>-0.033264</td>\n",
       "      <td>0.061193</td>\n",
       "      <td>-0.037083</td>\n",
       "      <td>NaN</td>\n",
       "      <td>0.007688</td>\n",
       "      <td>1.000000</td>\n",
       "      <td>-0.019875</td>\n",
       "      <td>-0.065231</td>\n",
       "      <td>0.080582</td>\n",
       "    </tr>\n",
       "    <tr>\n",
       "      <th>ag_ppm</th>\n",
       "      <td>0.007194</td>\n",
       "      <td>0.106730</td>\n",
       "      <td>-0.006236</td>\n",
       "      <td>0.026932</td>\n",
       "      <td>0.007150</td>\n",
       "      <td>0.026206</td>\n",
       "      <td>NaN</td>\n",
       "      <td>0.041269</td>\n",
       "      <td>-0.019875</td>\n",
       "      <td>1.000000</td>\n",
       "      <td>0.098736</td>\n",
       "      <td>-0.045718</td>\n",
       "    </tr>\n",
       "    <tr>\n",
       "      <th>latitude</th>\n",
       "      <td>0.252380</td>\n",
       "      <td>0.413760</td>\n",
       "      <td>0.384801</td>\n",
       "      <td>0.257973</td>\n",
       "      <td>0.055297</td>\n",
       "      <td>0.252047</td>\n",
       "      <td>NaN</td>\n",
       "      <td>-0.002936</td>\n",
       "      <td>-0.065231</td>\n",
       "      <td>0.098736</td>\n",
       "      <td>1.000000</td>\n",
       "      <td>-0.918215</td>\n",
       "    </tr>\n",
       "    <tr>\n",
       "      <th>longitude</th>\n",
       "      <td>-0.272396</td>\n",
       "      <td>-0.436696</td>\n",
       "      <td>-0.410017</td>\n",
       "      <td>-0.270058</td>\n",
       "      <td>-0.031277</td>\n",
       "      <td>-0.276671</td>\n",
       "      <td>NaN</td>\n",
       "      <td>0.002623</td>\n",
       "      <td>0.080582</td>\n",
       "      <td>-0.045718</td>\n",
       "      <td>-0.918215</td>\n",
       "      <td>1.000000</td>\n",
       "    </tr>\n",
       "  </tbody>\n",
       "</table>\n",
       "</div>"
      ],
      "text/plain": [
       "             ni_ppm    cu_ppm    co_ppm    pd_ppm    au_ppm    pt_ppm  rh_ppm  \\\n",
       "ni_ppm     1.000000  0.050393  0.729625  0.088031  0.190949  0.202376     NaN   \n",
       "cu_ppm     0.050393  1.000000  0.004566  0.530901  0.009310  0.325321     NaN   \n",
       "co_ppm     0.729625  0.004566  1.000000  0.042468  0.070199  0.160318     NaN   \n",
       "pd_ppm     0.088031  0.530901  0.042468  1.000000  0.051901  0.399874     NaN   \n",
       "au_ppm     0.190949  0.009310  0.070199  0.051901  1.000000  0.119678     NaN   \n",
       "pt_ppm     0.202376  0.325321  0.160318  0.399874  0.119678  1.000000     NaN   \n",
       "rh_ppm          NaN       NaN       NaN       NaN       NaN       NaN     NaN   \n",
       "fe_ppm     0.244737 -0.019729  0.342642 -0.058665 -0.028059 -0.055183     NaN   \n",
       "s_ppm     -0.039457 -0.065535 -0.079833 -0.033264  0.061193 -0.037083     NaN   \n",
       "ag_ppm     0.007194  0.106730 -0.006236  0.026932  0.007150  0.026206     NaN   \n",
       "latitude   0.252380  0.413760  0.384801  0.257973  0.055297  0.252047     NaN   \n",
       "longitude -0.272396 -0.436696 -0.410017 -0.270058 -0.031277 -0.276671     NaN   \n",
       "\n",
       "             fe_ppm     s_ppm    ag_ppm  latitude  longitude  \n",
       "ni_ppm     0.244737 -0.039457  0.007194  0.252380  -0.272396  \n",
       "cu_ppm    -0.019729 -0.065535  0.106730  0.413760  -0.436696  \n",
       "co_ppm     0.342642 -0.079833 -0.006236  0.384801  -0.410017  \n",
       "pd_ppm    -0.058665 -0.033264  0.026932  0.257973  -0.270058  \n",
       "au_ppm    -0.028059  0.061193  0.007150  0.055297  -0.031277  \n",
       "pt_ppm    -0.055183 -0.037083  0.026206  0.252047  -0.276671  \n",
       "rh_ppm          NaN       NaN       NaN       NaN        NaN  \n",
       "fe_ppm     1.000000  0.007688  0.041269 -0.002936   0.002623  \n",
       "s_ppm      0.007688  1.000000 -0.019875 -0.065231   0.080582  \n",
       "ag_ppm     0.041269 -0.019875  1.000000  0.098736  -0.045718  \n",
       "latitude  -0.002936 -0.065231  0.098736  1.000000  -0.918215  \n",
       "longitude  0.002623  0.080582 -0.045718 -0.918215   1.000000  "
      ]
     },
     "execution_count": 246,
     "metadata": {},
     "output_type": "execute_result"
    }
   ],
   "source": [
    "only_minedex_co"
   ]
  },
  {
   "cell_type": "code",
   "execution_count": 247,
   "metadata": {},
   "outputs": [],
   "source": [
    "only_minedex_co.to_csv('Co_correlations_CMOG.csv')"
   ]
  },
  {
   "cell_type": "code",
   "execution_count": null,
   "metadata": {},
   "outputs": [],
   "source": []
  }
 ],
 "metadata": {
  "kernelspec": {
   "display_name": "Python 3",
   "language": "python",
   "name": "python3"
  },
  "language_info": {
   "codemirror_mode": {
    "name": "ipython",
    "version": 3
   },
   "file_extension": ".py",
   "mimetype": "text/x-python",
   "name": "python",
   "nbconvert_exporter": "python",
   "pygments_lexer": "ipython3",
   "version": "3.8.5"
  }
 },
 "nbformat": 4,
 "nbformat_minor": 4
}
