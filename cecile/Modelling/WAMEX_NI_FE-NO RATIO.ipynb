{
 "cells": [
  {
   "cell_type": "code",
   "execution_count": 1,
   "metadata": {},
   "outputs": [],
   "source": [
    "import pandas as pd\n",
    "import pickle\n",
    "from sklearn.metrics import mean_squared_error\n",
    "from sklearn.model_selection import train_test_split\n",
    "from sklearn.linear_model import LinearRegression\n",
    "from sklearn.ensemble import RandomForestRegressor\n",
    "from sklearn.svm import SVR\n",
    "from sklearn.model_selection import GridSearchCV"
   ]
  },
  {
   "cell_type": "markdown",
   "metadata": {},
   "source": [
    "# Trying Eli's nb with no ratio approach"
   ]
  },
  {
   "cell_type": "code",
   "execution_count": 2,
   "metadata": {},
   "outputs": [
    {
     "data": {
      "text/html": [
       "<div>\n",
       "<style scoped>\n",
       "    .dataframe tbody tr th:only-of-type {\n",
       "        vertical-align: middle;\n",
       "    }\n",
       "\n",
       "    .dataframe tbody tr th {\n",
       "        vertical-align: top;\n",
       "    }\n",
       "\n",
       "    .dataframe thead th {\n",
       "        text-align: right;\n",
       "    }\n",
       "</style>\n",
       "<table border=\"1\" class=\"dataframe\">\n",
       "  <thead>\n",
       "    <tr style=\"text-align: right;\">\n",
       "      <th></th>\n",
       "      <th>Unnamed: 0_x</th>\n",
       "      <th>Ni</th>\n",
       "      <th>Cu</th>\n",
       "      <th>Co</th>\n",
       "      <th>Pd</th>\n",
       "      <th>Au</th>\n",
       "      <th>Pt</th>\n",
       "      <th>Rh</th>\n",
       "      <th>Fe</th>\n",
       "      <th>S</th>\n",
       "      <th>Ag</th>\n",
       "      <th>lat</th>\n",
       "      <th>long</th>\n",
       "      <th>Unnamed: 0_y</th>\n",
       "      <th>minedex_coords</th>\n",
       "      <th>minedex_site</th>\n",
       "      <th>wamex_lat</th>\n",
       "      <th>wamex_lon</th>\n",
       "      <th>distance</th>\n",
       "    </tr>\n",
       "  </thead>\n",
       "  <tbody>\n",
       "    <tr>\n",
       "      <th>0</th>\n",
       "      <td>33</td>\n",
       "      <td>56.0</td>\n",
       "      <td>420.0</td>\n",
       "      <td>9.0</td>\n",
       "      <td>14.0</td>\n",
       "      <td>0.01</td>\n",
       "      <td>1.0</td>\n",
       "      <td>NaN</td>\n",
       "      <td>NaN</td>\n",
       "      <td>NaN</td>\n",
       "      <td>NaN</td>\n",
       "      <td>-17.234642</td>\n",
       "      <td>128.032146</td>\n",
       "      <td>46661</td>\n",
       "      <td>(-17.34893, 128.022095)</td>\n",
       "      <td>S0001442</td>\n",
       "      <td>-17.234642</td>\n",
       "      <td>128.032146</td>\n",
       "      <td>12.693593881734987 km</td>\n",
       "    </tr>\n",
       "    <tr>\n",
       "      <th>1</th>\n",
       "      <td>33</td>\n",
       "      <td>56.0</td>\n",
       "      <td>420.0</td>\n",
       "      <td>9.0</td>\n",
       "      <td>14.0</td>\n",
       "      <td>0.01</td>\n",
       "      <td>1.0</td>\n",
       "      <td>NaN</td>\n",
       "      <td>NaN</td>\n",
       "      <td>NaN</td>\n",
       "      <td>NaN</td>\n",
       "      <td>-17.234642</td>\n",
       "      <td>128.032146</td>\n",
       "      <td>46662</td>\n",
       "      <td>(-17.31078, 128.023499)</td>\n",
       "      <td>S0002890</td>\n",
       "      <td>-17.234642</td>\n",
       "      <td>128.032146</td>\n",
       "      <td>8.476376684524638 km</td>\n",
       "    </tr>\n",
       "    <tr>\n",
       "      <th>2</th>\n",
       "      <td>33</td>\n",
       "      <td>56.0</td>\n",
       "      <td>420.0</td>\n",
       "      <td>9.0</td>\n",
       "      <td>14.0</td>\n",
       "      <td>0.01</td>\n",
       "      <td>1.0</td>\n",
       "      <td>NaN</td>\n",
       "      <td>NaN</td>\n",
       "      <td>NaN</td>\n",
       "      <td>NaN</td>\n",
       "      <td>-17.234642</td>\n",
       "      <td>128.032146</td>\n",
       "      <td>46663</td>\n",
       "      <td>(-17.3526, 128.027695)</td>\n",
       "      <td>S0019720</td>\n",
       "      <td>-17.234642</td>\n",
       "      <td>128.032146</td>\n",
       "      <td>13.063277176872425 km</td>\n",
       "    </tr>\n",
       "  </tbody>\n",
       "</table>\n",
       "</div>"
      ],
      "text/plain": [
       "   Unnamed: 0_x    Ni     Cu   Co    Pd    Au   Pt  Rh  Fe   S  Ag        lat  \\\n",
       "0            33  56.0  420.0  9.0  14.0  0.01  1.0 NaN NaN NaN NaN -17.234642   \n",
       "1            33  56.0  420.0  9.0  14.0  0.01  1.0 NaN NaN NaN NaN -17.234642   \n",
       "2            33  56.0  420.0  9.0  14.0  0.01  1.0 NaN NaN NaN NaN -17.234642   \n",
       "\n",
       "         long  Unnamed: 0_y           minedex_coords minedex_site  wamex_lat  \\\n",
       "0  128.032146         46661  (-17.34893, 128.022095)     S0001442 -17.234642   \n",
       "1  128.032146         46662  (-17.31078, 128.023499)     S0002890 -17.234642   \n",
       "2  128.032146         46663   (-17.3526, 128.027695)     S0019720 -17.234642   \n",
       "\n",
       "    wamex_lon               distance  \n",
       "0  128.032146  12.693593881734987 km  \n",
       "1  128.032146   8.476376684524638 km  \n",
       "2  128.032146  13.063277176872425 km  "
      ]
     },
     "execution_count": 2,
     "metadata": {},
     "output_type": "execute_result"
    }
   ],
   "source": [
    "file_path = 'Merged_Ni_lessthan15km.csv'\n",
    "\n",
    "df = pd.read_csv(file_path, index_col=0)\n",
    "df.head(3)"
   ]
  },
  {
   "cell_type": "code",
   "execution_count": 3,
   "metadata": {},
   "outputs": [
    {
     "data": {
      "text/plain": [
       "(150625, 19)"
      ]
     },
     "execution_count": 3,
     "metadata": {},
     "output_type": "execute_result"
    }
   ],
   "source": [
    "df.shape"
   ]
  },
  {
   "cell_type": "code",
   "execution_count": 4,
   "metadata": {},
   "outputs": [
    {
     "data": {
      "text/html": [
       "<div>\n",
       "<style scoped>\n",
       "    .dataframe tbody tr th:only-of-type {\n",
       "        vertical-align: middle;\n",
       "    }\n",
       "\n",
       "    .dataframe tbody tr th {\n",
       "        vertical-align: top;\n",
       "    }\n",
       "\n",
       "    .dataframe thead th {\n",
       "        text-align: right;\n",
       "    }\n",
       "</style>\n",
       "<table border=\"1\" class=\"dataframe\">\n",
       "  <thead>\n",
       "    <tr style=\"text-align: right;\">\n",
       "      <th></th>\n",
       "      <th>Unnamed: 0_x</th>\n",
       "      <th>Ni</th>\n",
       "      <th>Cu</th>\n",
       "      <th>Co</th>\n",
       "      <th>Pd</th>\n",
       "      <th>Au</th>\n",
       "      <th>Pt</th>\n",
       "      <th>Rh</th>\n",
       "      <th>Fe</th>\n",
       "      <th>S</th>\n",
       "      <th>Ag</th>\n",
       "      <th>lat</th>\n",
       "      <th>long</th>\n",
       "      <th>Unnamed: 0_y</th>\n",
       "      <th>minedex_coords</th>\n",
       "      <th>minedex_site</th>\n",
       "      <th>wamex_lat</th>\n",
       "      <th>wamex_lon</th>\n",
       "      <th>distance</th>\n",
       "    </tr>\n",
       "  </thead>\n",
       "  <tbody>\n",
       "    <tr>\n",
       "      <th>15478</th>\n",
       "      <td>39939</td>\n",
       "      <td>67647.0</td>\n",
       "      <td>1838.0</td>\n",
       "      <td>57408.0</td>\n",
       "      <td>0.0</td>\n",
       "      <td>0.0</td>\n",
       "      <td>6.0</td>\n",
       "      <td>0.0</td>\n",
       "      <td>1630.0</td>\n",
       "      <td>0.0364</td>\n",
       "      <td>1.0</td>\n",
       "      <td>-26.061367</td>\n",
       "      <td>127.580028</td>\n",
       "      <td>73190</td>\n",
       "      <td>(-26.107121, 127.696899)</td>\n",
       "      <td>S0019102</td>\n",
       "      <td>-26.061367</td>\n",
       "      <td>127.580028</td>\n",
       "      <td>12.744010894761297 km</td>\n",
       "    </tr>\n",
       "    <tr>\n",
       "      <th>15479</th>\n",
       "      <td>39939</td>\n",
       "      <td>67647.0</td>\n",
       "      <td>1838.0</td>\n",
       "      <td>57408.0</td>\n",
       "      <td>0.0</td>\n",
       "      <td>0.0</td>\n",
       "      <td>6.0</td>\n",
       "      <td>0.0</td>\n",
       "      <td>1630.0</td>\n",
       "      <td>0.0364</td>\n",
       "      <td>1.0</td>\n",
       "      <td>-26.061367</td>\n",
       "      <td>127.580028</td>\n",
       "      <td>73191</td>\n",
       "      <td>(-26.107121, 127.696899)</td>\n",
       "      <td>S0224398</td>\n",
       "      <td>-26.061367</td>\n",
       "      <td>127.580028</td>\n",
       "      <td>12.744010894761297 km</td>\n",
       "    </tr>\n",
       "  </tbody>\n",
       "</table>\n",
       "</div>"
      ],
      "text/plain": [
       "       Unnamed: 0_x       Ni      Cu       Co   Pd   Au   Pt   Rh      Fe  \\\n",
       "15478         39939  67647.0  1838.0  57408.0  0.0  0.0  6.0  0.0  1630.0   \n",
       "15479         39939  67647.0  1838.0  57408.0  0.0  0.0  6.0  0.0  1630.0   \n",
       "\n",
       "            S   Ag        lat        long  Unnamed: 0_y  \\\n",
       "15478  0.0364  1.0 -26.061367  127.580028         73190   \n",
       "15479  0.0364  1.0 -26.061367  127.580028         73191   \n",
       "\n",
       "                 minedex_coords minedex_site  wamex_lat   wamex_lon  \\\n",
       "15478  (-26.107121, 127.696899)     S0019102 -26.061367  127.580028   \n",
       "15479  (-26.107121, 127.696899)     S0224398 -26.061367  127.580028   \n",
       "\n",
       "                    distance  \n",
       "15478  12.744010894761297 km  \n",
       "15479  12.744010894761297 km  "
      ]
     },
     "execution_count": 4,
     "metadata": {},
     "output_type": "execute_result"
    }
   ],
   "source": [
    "df[df['Co'] == df['Co'].max()]"
   ]
  },
  {
   "cell_type": "code",
   "execution_count": 5,
   "metadata": {},
   "outputs": [],
   "source": [
    "df_unique = df.drop(columns=['Unnamed: 0_x', 'Unnamed: 0_y', 'lat', 'long', \n",
    "                     'minedex_coords', 'minedex_site',\n",
    "                    'distance'])\n",
    "\n",
    "df_unique = df_unique.drop_duplicates()"
   ]
  },
  {
   "cell_type": "code",
   "execution_count": 6,
   "metadata": {},
   "outputs": [
    {
     "name": "stdout",
     "output_type": "stream",
     "text": [
      "Amount of Duplicate rows: 127392\n"
     ]
    }
   ],
   "source": [
    "print(f\"Amount of Duplicate rows: {df.shape[0] - df_unique.shape[0]}\")"
   ]
  },
  {
   "cell_type": "code",
   "execution_count": 211,
   "metadata": {},
   "outputs": [
    {
     "data": {
      "text/plain": [
       "(23233, 12)"
      ]
     },
     "execution_count": 211,
     "metadata": {},
     "output_type": "execute_result"
    }
   ],
   "source": [
    "df_unique.shape"
   ]
  },
  {
   "cell_type": "markdown",
   "metadata": {},
   "source": [
    "### WAMEX data\n",
    "\n",
    " ·      Cobalt associated with nickel (and copper) in so-called orthomagmatic (igneous) mafic to ultramafic volcanic (komatiite)-hosted and intrusion-hosted deposits\n",
    " \n",
    " \n",
    " Cobalt is a chemical element with the symbol Co and atomic number 27. Like nickel, cobalt is found in the Earth's crust only in a chemically combined form, save for small deposits found in alloys of natural meteoric iron. The free element, produced by reductive smelting, is a hard, lustrous, silver-gray metal. Wikipedia\n",
    "Symbol: Co <br>\n",
    "Electron configuration: [Ar] 3d74s2 <br>\n",
    "Atomic number: 27 <br>\n",
    "Atomic mass: 58.933195 u <br>\n",
    "Melting point: 1,495 °C <br>\n",
    "Discovered: 1735 <br>\n",
    "Discoverer: Georg Brandt <br>"
   ]
  },
  {
   "cell_type": "markdown",
   "metadata": {},
   "source": [
    "### Nickel and Iron"
   ]
  },
  {
   "cell_type": "code",
   "execution_count": 7,
   "metadata": {},
   "outputs": [],
   "source": [
    "# most common pair in MINEDEX data.\n",
    "abdundant_minerals = ['Nickel', 'Iron'] #'Sulfur', 'Palladium','Platinum',\n",
    "critical_mineral = ['Cobalt']\n",
    "\n",
    "full_to_atomic = {\n",
    "    \"Copper\": \"Cu\",\n",
    "    \"Cobalt\": \"Co\",\n",
    "    \"Nickel\": \"Ni\",\n",
    "    \"Iron\": \"Fe\",\n",
    "    \"Sulfur\": \"S\",\n",
    "    \"Palladium\": \"Pd\",\n",
    "    \"Platinum\": \"Pt\",\n",
    "    \"Gold\": \"Au\",\n",
    "    \"Silver\": \"Ag\"\n",
    "}\n"
   ]
  },
  {
   "cell_type": "code",
   "execution_count": 8,
   "metadata": {},
   "outputs": [],
   "source": [
    "def get_clean_mineral_col(df):\n",
    "    new_cols = []\n",
    "    for col in df.columns: \n",
    "        if \"ppm\" in col:\n",
    "            new_cols.append(col.split('_')[0])\n",
    "        else:\n",
    "            new_cols.append(col)\n",
    "            \n",
    "    return new_cols\n",
    "\n",
    "df_unique.columns = get_clean_mineral_col(df_unique)"
   ]
  },
  {
   "cell_type": "code",
   "execution_count": 9,
   "metadata": {},
   "outputs": [
    {
     "data": {
      "text/html": [
       "<div>\n",
       "<style scoped>\n",
       "    .dataframe tbody tr th:only-of-type {\n",
       "        vertical-align: middle;\n",
       "    }\n",
       "\n",
       "    .dataframe tbody tr th {\n",
       "        vertical-align: top;\n",
       "    }\n",
       "\n",
       "    .dataframe thead th {\n",
       "        text-align: right;\n",
       "    }\n",
       "</style>\n",
       "<table border=\"1\" class=\"dataframe\">\n",
       "  <thead>\n",
       "    <tr style=\"text-align: right;\">\n",
       "      <th></th>\n",
       "      <th>Ni</th>\n",
       "      <th>Cu</th>\n",
       "      <th>Co</th>\n",
       "      <th>Pd</th>\n",
       "      <th>Au</th>\n",
       "      <th>Pt</th>\n",
       "      <th>Rh</th>\n",
       "      <th>Fe</th>\n",
       "      <th>S</th>\n",
       "      <th>Ag</th>\n",
       "      <th>wamex_lat</th>\n",
       "      <th>wamex_lon</th>\n",
       "    </tr>\n",
       "  </thead>\n",
       "  <tbody>\n",
       "    <tr>\n",
       "      <th>0</th>\n",
       "      <td>56.0</td>\n",
       "      <td>420.0</td>\n",
       "      <td>9.0</td>\n",
       "      <td>14.0</td>\n",
       "      <td>0.010</td>\n",
       "      <td>1.0</td>\n",
       "      <td>NaN</td>\n",
       "      <td>NaN</td>\n",
       "      <td>NaN</td>\n",
       "      <td>NaN</td>\n",
       "      <td>-17.234642</td>\n",
       "      <td>128.032146</td>\n",
       "    </tr>\n",
       "    <tr>\n",
       "      <th>5</th>\n",
       "      <td>31.0</td>\n",
       "      <td>195.0</td>\n",
       "      <td>6.0</td>\n",
       "      <td>10.0</td>\n",
       "      <td>0.007</td>\n",
       "      <td>1.0</td>\n",
       "      <td>NaN</td>\n",
       "      <td>NaN</td>\n",
       "      <td>NaN</td>\n",
       "      <td>NaN</td>\n",
       "      <td>-17.234642</td>\n",
       "      <td>128.032146</td>\n",
       "    </tr>\n",
       "  </tbody>\n",
       "</table>\n",
       "</div>"
      ],
      "text/plain": [
       "     Ni     Cu   Co    Pd     Au   Pt  Rh  Fe   S  Ag  wamex_lat   wamex_lon\n",
       "0  56.0  420.0  9.0  14.0  0.010  1.0 NaN NaN NaN NaN -17.234642  128.032146\n",
       "5  31.0  195.0  6.0  10.0  0.007  1.0 NaN NaN NaN NaN -17.234642  128.032146"
      ]
     },
     "execution_count": 9,
     "metadata": {},
     "output_type": "execute_result"
    }
   ],
   "source": [
    "df_unique.head(2)"
   ]
  },
  {
   "cell_type": "code",
   "execution_count": 10,
   "metadata": {},
   "outputs": [
    {
     "data": {
      "text/plain": [
       "['Ni', 'Fe', 'Co']"
      ]
     },
     "execution_count": 10,
     "metadata": {},
     "output_type": "execute_result"
    }
   ],
   "source": [
    "minerals = abdundant_minerals + critical_mineral\n",
    "\n",
    "minerals_atomic = [full_to_atomic[mineral] for mineral in minerals]\n",
    "minerals_atomic"
   ]
  },
  {
   "cell_type": "code",
   "execution_count": 11,
   "metadata": {},
   "outputs": [],
   "source": [
    "input_cols = ['wamex_lat', 'wamex_lon'] + minerals_atomic"
   ]
  },
  {
   "cell_type": "code",
   "execution_count": 12,
   "metadata": {},
   "outputs": [
    {
     "data": {
      "text/html": [
       "<div>\n",
       "<style scoped>\n",
       "    .dataframe tbody tr th:only-of-type {\n",
       "        vertical-align: middle;\n",
       "    }\n",
       "\n",
       "    .dataframe tbody tr th {\n",
       "        vertical-align: top;\n",
       "    }\n",
       "\n",
       "    .dataframe thead th {\n",
       "        text-align: right;\n",
       "    }\n",
       "</style>\n",
       "<table border=\"1\" class=\"dataframe\">\n",
       "  <thead>\n",
       "    <tr style=\"text-align: right;\">\n",
       "      <th></th>\n",
       "      <th>wamex_lat</th>\n",
       "      <th>wamex_lon</th>\n",
       "      <th>Ni</th>\n",
       "      <th>Fe</th>\n",
       "      <th>Co</th>\n",
       "    </tr>\n",
       "  </thead>\n",
       "  <tbody>\n",
       "    <tr>\n",
       "      <th>0</th>\n",
       "      <td>-17.234642</td>\n",
       "      <td>128.032146</td>\n",
       "      <td>56.0</td>\n",
       "      <td>NaN</td>\n",
       "      <td>9.0</td>\n",
       "    </tr>\n",
       "    <tr>\n",
       "      <th>5</th>\n",
       "      <td>-17.234642</td>\n",
       "      <td>128.032146</td>\n",
       "      <td>31.0</td>\n",
       "      <td>NaN</td>\n",
       "      <td>6.0</td>\n",
       "    </tr>\n",
       "  </tbody>\n",
       "</table>\n",
       "</div>"
      ],
      "text/plain": [
       "   wamex_lat   wamex_lon    Ni  Fe   Co\n",
       "0 -17.234642  128.032146  56.0 NaN  9.0\n",
       "5 -17.234642  128.032146  31.0 NaN  6.0"
      ]
     },
     "execution_count": 12,
     "metadata": {},
     "output_type": "execute_result"
    }
   ],
   "source": [
    "df_inputs = df_unique[input_cols]\n",
    "df_inputs.head(2)"
   ]
  },
  {
   "cell_type": "code",
   "execution_count": 13,
   "metadata": {},
   "outputs": [],
   "source": [
    "def replace_neg9999(val):\n",
    "    if val == -9999: \n",
    "        return 0\n",
    "    else:\n",
    "        return val\n",
    "    \n",
    "def abs_halve_neg_val(val):\n",
    "    if val < 0: \n",
    "        return abs(val) / 2\n",
    "    else: \n",
    "        return val\n",
    "\n",
    "def clean_assays(df):\n",
    "    df = df.applymap(replace_neg9999)\n",
    "    df = df.applymap(abs_halve_neg_val)\n",
    "    df = df[df['Ni'] < 300000]\n",
    "    indexs_0 = df[df.values == 0].index\n",
    "    df = df.drop(index=indexs_0)\n",
    "    \n",
    "    return df"
   ]
  },
  {
   "cell_type": "code",
   "execution_count": 14,
   "metadata": {},
   "outputs": [
    {
     "name": "stderr",
     "output_type": "stream",
     "text": [
      "C:\\Users\\missc\\anaconda3\\lib\\site-packages\\pandas\\core\\indexing.py:1732: SettingWithCopyWarning: \n",
      "A value is trying to be set on a copy of a slice from a DataFrame\n",
      "\n",
      "See the caveats in the documentation: https://pandas.pydata.org/pandas-docs/stable/user_guide/indexing.html#returning-a-view-versus-a-copy\n",
      "  self._setitem_single_block(indexer, value, name)\n",
      "C:\\Users\\missc\\anaconda3\\lib\\site-packages\\pandas\\core\\indexing.py:723: SettingWithCopyWarning: \n",
      "A value is trying to be set on a copy of a slice from a DataFrame\n",
      "\n",
      "See the caveats in the documentation: https://pandas.pydata.org/pandas-docs/stable/user_guide/indexing.html#returning-a-view-versus-a-copy\n",
      "  iloc._setitem_with_indexer(indexer, value, self.name)\n"
     ]
    },
    {
     "data": {
      "text/plain": [
       "(23233, 5)"
      ]
     },
     "execution_count": 14,
     "metadata": {},
     "output_type": "execute_result"
    }
   ],
   "source": [
    "df_minerals = df_inputs.drop(columns=['wamex_lat', 'wamex_lon'])\n",
    "\n",
    "df_inputs.loc[:, df_minerals.columns] = clean_assays(df_inputs.loc[:,df_minerals.columns])\n",
    "df_inputs.shape"
   ]
  },
  {
   "cell_type": "markdown",
   "metadata": {},
   "source": [
    "## `drop_na`"
   ]
  },
  {
   "cell_type": "code",
   "execution_count": 15,
   "metadata": {},
   "outputs": [
    {
     "data": {
      "text/plain": [
       "(14261, 5)"
      ]
     },
     "execution_count": 15,
     "metadata": {},
     "output_type": "execute_result"
    }
   ],
   "source": [
    "df_inputs = df_inputs.dropna()\n",
    "df_inputs = df_inputs.drop_duplicates()\n",
    "df_inputs.shape"
   ]
  },
  {
   "cell_type": "code",
   "execution_count": 13,
   "metadata": {},
   "outputs": [
    {
     "data": {
      "text/plain": [
       "<AxesSubplot:ylabel='Frequency'>"
      ]
     },
     "execution_count": 13,
     "metadata": {},
     "output_type": "execute_result"
    },
    {
     "data": {
      "image/png": "[encoded data removed]",
      "text/plain": [
       "<Figure size 432x288 with 1 Axes>"
      ]
     },
     "metadata": {
      "needs_background": "light"
     },
     "output_type": "display_data"
    }
   ],
   "source": [
    "df_inputs['Co'].plot(kind='hist')"
   ]
  },
  {
   "cell_type": "code",
   "execution_count": 14,
   "metadata": {},
   "outputs": [
    {
     "data": {
      "text/plain": [
       "<AxesSubplot:>"
      ]
     },
     "execution_count": 14,
     "metadata": {},
     "output_type": "execute_result"
    },
    {
     "data": {
      "image/png": "[encoded data removed]",
      "text/plain": [
       "<Figure size 432x288 with 1 Axes>"
      ]
     },
     "metadata": {
      "needs_background": "light"
     },
     "output_type": "display_data"
    }
   ],
   "source": [
    "df_inputs['Co'].plot(kind='box')"
   ]
  },
  {
   "cell_type": "code",
   "execution_count": 16,
   "metadata": {},
   "outputs": [],
   "source": [
    "#remove 2 large outliers \n",
    "df_inputs = df_inputs[df_inputs['Co'] < 40000]"
   ]
  },
  {
   "cell_type": "code",
   "execution_count": 16,
   "metadata": {},
   "outputs": [
    {
     "data": {
      "text/plain": [
       "<AxesSubplot:>"
      ]
     },
     "execution_count": 16,
     "metadata": {},
     "output_type": "execute_result"
    },
    {
     "data": {
      "image/png": "[encoded data removed]",
      "text/plain": [
       "<Figure size 432x288 with 1 Axes>"
      ]
     },
     "metadata": {
      "needs_background": "light"
     },
     "output_type": "display_data"
    }
   ],
   "source": [
    "df_inputs['Co'].plot(kind='box')"
   ]
  },
  {
   "cell_type": "code",
   "execution_count": 18,
   "metadata": {},
   "outputs": [
    {
     "data": {
      "text/plain": [
       "count    14259.000000\n",
       "mean        75.983857\n",
       "std        415.441102\n",
       "min          0.000500\n",
       "25%         10.000000\n",
       "50%         25.000000\n",
       "75%         64.000000\n",
       "max      22106.000000\n",
       "Name: Co, dtype: float64"
      ]
     },
     "execution_count": 18,
     "metadata": {},
     "output_type": "execute_result"
    }
   ],
   "source": [
    "df_inputs['Co'].describe()"
   ]
  },
  {
   "cell_type": "markdown",
   "metadata": {},
   "source": [
    "### LARGE Colbalt deposits"
   ]
  },
  {
   "cell_type": "code",
   "execution_count": 14,
   "metadata": {},
   "outputs": [
    {
     "data": {
      "text/html": [
       "<div>\n",
       "<style scoped>\n",
       "    .dataframe tbody tr th:only-of-type {\n",
       "        vertical-align: middle;\n",
       "    }\n",
       "\n",
       "    .dataframe tbody tr th {\n",
       "        vertical-align: top;\n",
       "    }\n",
       "\n",
       "    .dataframe thead th {\n",
       "        text-align: right;\n",
       "    }\n",
       "</style>\n",
       "<table border=\"1\" class=\"dataframe\">\n",
       "  <thead>\n",
       "    <tr style=\"text-align: right;\">\n",
       "      <th></th>\n",
       "      <th>wamex_lat</th>\n",
       "      <th>wamex_lon</th>\n",
       "      <th>Ni</th>\n",
       "      <th>Fe</th>\n",
       "      <th>Co</th>\n",
       "    </tr>\n",
       "  </thead>\n",
       "  <tbody>\n",
       "    <tr>\n",
       "      <th>3342</th>\n",
       "      <td>-32.094878</td>\n",
       "      <td>121.651236</td>\n",
       "      <td>6450.0</td>\n",
       "      <td>9266.7</td>\n",
       "      <td>10476.0</td>\n",
       "    </tr>\n",
       "    <tr>\n",
       "      <th>15446</th>\n",
       "      <td>-26.060096</td>\n",
       "      <td>127.578510</td>\n",
       "      <td>14811.0</td>\n",
       "      <td>5090.0</td>\n",
       "      <td>10122.0</td>\n",
       "    </tr>\n",
       "    <tr>\n",
       "      <th>15452</th>\n",
       "      <td>-26.060924</td>\n",
       "      <td>127.579434</td>\n",
       "      <td>32363.0</td>\n",
       "      <td>6700.0</td>\n",
       "      <td>22106.0</td>\n",
       "    </tr>\n",
       "    <tr>\n",
       "      <th>15454</th>\n",
       "      <td>-26.062044</td>\n",
       "      <td>127.580593</td>\n",
       "      <td>32734.0</td>\n",
       "      <td>3440.0</td>\n",
       "      <td>20913.0</td>\n",
       "    </tr>\n",
       "    <tr>\n",
       "      <th>15472</th>\n",
       "      <td>-26.061490</td>\n",
       "      <td>127.579983</td>\n",
       "      <td>23560.0</td>\n",
       "      <td>8730.0</td>\n",
       "      <td>14119.0</td>\n",
       "    </tr>\n",
       "    <tr>\n",
       "      <th>52865</th>\n",
       "      <td>-32.096211</td>\n",
       "      <td>121.651299</td>\n",
       "      <td>10782.0</td>\n",
       "      <td>12120.0</td>\n",
       "      <td>17180.0</td>\n",
       "    </tr>\n",
       "  </tbody>\n",
       "</table>\n",
       "</div>"
      ],
      "text/plain": [
       "       wamex_lat   wamex_lon       Ni       Fe       Co\n",
       "3342  -32.094878  121.651236   6450.0   9266.7  10476.0\n",
       "15446 -26.060096  127.578510  14811.0   5090.0  10122.0\n",
       "15452 -26.060924  127.579434  32363.0   6700.0  22106.0\n",
       "15454 -26.062044  127.580593  32734.0   3440.0  20913.0\n",
       "15472 -26.061490  127.579983  23560.0   8730.0  14119.0\n",
       "52865 -32.096211  121.651299  10782.0  12120.0  17180.0"
      ]
     },
     "execution_count": 14,
     "metadata": {},
     "output_type": "execute_result"
    }
   ],
   "source": [
    "df_inputs[df_inputs['Co'] > 10000]"
   ]
  },
  {
   "cell_type": "markdown",
   "metadata": {},
   "source": [
    "### Log Transform"
   ]
  },
  {
   "cell_type": "code",
   "execution_count": 17,
   "metadata": {},
   "outputs": [],
   "source": [
    "import numpy as np"
   ]
  },
  {
   "cell_type": "code",
   "execution_count": 18,
   "metadata": {},
   "outputs": [
    {
     "data": {
      "text/plain": [
       "<AxesSubplot:ylabel='Frequency'>"
      ]
     },
     "execution_count": 18,
     "metadata": {},
     "output_type": "execute_result"
    },
    {
     "data": {
      "image/png": "[encoded data removed]",
      "text/plain": [
       "<Figure size 432x288 with 1 Axes>"
      ]
     },
     "metadata": {
      "needs_background": "light"
     },
     "output_type": "display_data"
    }
   ],
   "source": [
    "np.log(df_inputs[df_inputs['Co'] < 5000]['Co']).plot(kind='hist')"
   ]
  },
  {
   "cell_type": "code",
   "execution_count": 19,
   "metadata": {},
   "outputs": [],
   "source": [
    "df_inputs.loc[:, df_minerals.columns] = df_inputs.loc[:,df_minerals.columns].apply(np.log, axis=1)"
   ]
  },
  {
   "cell_type": "markdown",
   "metadata": {},
   "source": [
    "### Independent Variables"
   ]
  },
  {
   "cell_type": "code",
   "execution_count": 23,
   "metadata": {},
   "outputs": [],
   "source": [
    "from sklearn.preprocessing import StandardScaler"
   ]
  },
  {
   "cell_type": "markdown",
   "metadata": {},
   "source": [
    "## Plotting First 100 Observations"
   ]
  },
  {
   "cell_type": "code",
   "execution_count": 24,
   "metadata": {},
   "outputs": [
    {
     "data": {
      "text/plain": [
       "<AxesSubplot:>"
      ]
     },
     "execution_count": 24,
     "metadata": {},
     "output_type": "execute_result"
    },
    {
     "data": {
      "image/png": "[encoded data removed]",
      "text/plain": [
       "<Figure size 432x288 with 1 Axes>"
      ]
     },
     "metadata": {
      "needs_background": "light"
     },
     "output_type": "display_data"
    }
   ],
   "source": [
    "df_inputs[minerals_atomic][:1000].plot()"
   ]
  },
  {
   "cell_type": "code",
   "execution_count": 18,
   "metadata": {},
   "outputs": [],
   "source": [
    "import pandas as pd\n",
    "import numpy as np\n",
    "import matplotlib.pyplot as plt"
   ]
  },
  {
   "cell_type": "markdown",
   "metadata": {},
   "source": [
    "### LINEAR REGRESSION"
   ]
  },
  {
   "cell_type": "code",
   "execution_count": 20,
   "metadata": {},
   "outputs": [],
   "source": [
    "y = df_inputs['Co']\n",
    "X = df_inputs.drop(columns=['Co'])"
   ]
  },
  {
   "cell_type": "code",
   "execution_count": 21,
   "metadata": {},
   "outputs": [
    {
     "name": "stdout",
     "output_type": "stream",
     "text": [
      "Train MSE: 0.9857170874346729\n",
      "Test MSE: 1.0375636890242796\n"
     ]
    }
   ],
   "source": [
    "X_train, X_test, y_train, y_test = train_test_split(\n",
    "    X, y, test_size=0.2, random_state=42, shuffle=True)\n",
    "\n",
    "lr = LinearRegression()\n",
    "\n",
    "lr.fit(X_train, y_train)\n",
    "train_preds = lr.predict(X_train)\n",
    "test_preds = lr.predict(X_test)\n",
    "\n",
    "from sklearn.metrics import mean_squared_error\n",
    "\n",
    "print(f\"Train MSE: {mean_squared_error(train_preds, y_train)}\")\n",
    "print(f\"Test MSE: {mean_squared_error(test_preds, y_test)}\")"
   ]
  },
  {
   "cell_type": "code",
   "execution_count": 29,
   "metadata": {},
   "outputs": [
    {
     "data": {
      "text/plain": [
       "[<matplotlib.lines.Line2D at 0x1b582b575b0>,\n",
       " <matplotlib.lines.Line2D at 0x1b582b57610>]"
      ]
     },
     "execution_count": 29,
     "metadata": {},
     "output_type": "execute_result"
    },
    {
     "data": {
      "image/png": "[encoded data removed]",
      "text/plain": [
       "<Figure size 432x288 with 1 Axes>"
      ]
     },
     "metadata": {
      "needs_background": "light"
     },
     "output_type": "display_data"
    }
   ],
   "source": [
    "plt.plot(range(0, len(test_preds)), y_test, test_preds)"
   ]
  },
  {
   "cell_type": "code",
   "execution_count": 22,
   "metadata": {},
   "outputs": [
    {
     "data": {
      "text/plain": [
       "-0.131291    wamex_lon\n",
       " 0.020056    wamex_lat\n",
       " 0.559605           Ni\n",
       " 0.073822           Fe\n",
       "dtype: object"
      ]
     },
     "execution_count": 22,
     "metadata": {},
     "output_type": "execute_result"
    }
   ],
   "source": [
    "pd.Series(X_train.columns, lr.coef_).sort_values(ascending=False)"
   ]
  },
  {
   "cell_type": "markdown",
   "metadata": {},
   "source": [
    "### Predict from MINDEX data"
   ]
  },
  {
   "cell_type": "code",
   "execution_count": 23,
   "metadata": {},
   "outputs": [
    {
     "data": {
      "text/html": [
       "<div>\n",
       "<style scoped>\n",
       "    .dataframe tbody tr th:only-of-type {\n",
       "        vertical-align: middle;\n",
       "    }\n",
       "\n",
       "    .dataframe tbody tr th {\n",
       "        vertical-align: top;\n",
       "    }\n",
       "\n",
       "    .dataframe thead th {\n",
       "        text-align: right;\n",
       "    }\n",
       "</style>\n",
       "<table border=\"1\" class=\"dataframe\">\n",
       "  <thead>\n",
       "    <tr style=\"text-align: right;\">\n",
       "      <th></th>\n",
       "      <th>Unnamed: 0</th>\n",
       "      <th>Nickel</th>\n",
       "      <th>Iron</th>\n",
       "      <th>Latitude</th>\n",
       "      <th>Longitude</th>\n",
       "    </tr>\n",
       "  </thead>\n",
       "  <tbody>\n",
       "    <tr>\n",
       "      <th>0</th>\n",
       "      <td>S0001174</td>\n",
       "      <td>6000.0</td>\n",
       "      <td>79300.0</td>\n",
       "      <td>-33.633382</td>\n",
       "      <td>120.374303</td>\n",
       "    </tr>\n",
       "    <tr>\n",
       "      <th>1</th>\n",
       "      <td>S0004371</td>\n",
       "      <td>9900.0</td>\n",
       "      <td>325000.0</td>\n",
       "      <td>-29.125713</td>\n",
       "      <td>122.999515</td>\n",
       "    </tr>\n",
       "    <tr>\n",
       "      <th>2</th>\n",
       "      <td>S0004371</td>\n",
       "      <td>9900.0</td>\n",
       "      <td>325000.0</td>\n",
       "      <td>-29.125713</td>\n",
       "      <td>122.999515</td>\n",
       "    </tr>\n",
       "    <tr>\n",
       "      <th>3</th>\n",
       "      <td>S0005631</td>\n",
       "      <td>6200.0</td>\n",
       "      <td>108000.0</td>\n",
       "      <td>-33.666733</td>\n",
       "      <td>120.400034</td>\n",
       "    </tr>\n",
       "    <tr>\n",
       "      <th>4</th>\n",
       "      <td>S0006586</td>\n",
       "      <td>5500.0</td>\n",
       "      <td>113000.0</td>\n",
       "      <td>-33.592899</td>\n",
       "      <td>120.280502</td>\n",
       "    </tr>\n",
       "  </tbody>\n",
       "</table>\n",
       "</div>"
      ],
      "text/plain": [
       "  Unnamed: 0  Nickel      Iron   Latitude   Longitude\n",
       "0   S0001174  6000.0   79300.0 -33.633382  120.374303\n",
       "1   S0004371  9900.0  325000.0 -29.125713  122.999515\n",
       "2   S0004371  9900.0  325000.0 -29.125713  122.999515\n",
       "3   S0005631  6200.0  108000.0 -33.666733  120.400034\n",
       "4   S0006586  5500.0  113000.0 -33.592899  120.280502"
      ]
     },
     "execution_count": 23,
     "metadata": {},
     "output_type": "execute_result"
    }
   ],
   "source": [
    "pred_set = pd.read_csv('./ni_fe_prediction_set.csv')\n",
    "pred_set.head()"
   ]
  },
  {
   "cell_type": "code",
   "execution_count": 24,
   "metadata": {},
   "outputs": [],
   "source": [
    "# save original nickel before transform.\n",
    "orig_ni = pred_set['Nickel']"
   ]
  },
  {
   "cell_type": "code",
   "execution_count": 25,
   "metadata": {},
   "outputs": [],
   "source": [
    "pred_set = pred_set.rename(columns={\n",
    "    \"Nickel\": \"Ni\",\n",
    "    \"Iron\": \"Fe\",\n",
    "    \"Latitude\": \"wamex_lat\",\n",
    "    \"Longitude\": \"wamex_lon\",\n",
    "    \"Unnamed: 0\": 'site_code'\n",
    "})"
   ]
  },
  {
   "cell_type": "code",
   "execution_count": 26,
   "metadata": {},
   "outputs": [],
   "source": [
    "df_minerals = pred_set.drop(columns=['wamex_lat', 'wamex_lon', 'site_code'])"
   ]
  },
  {
   "cell_type": "code",
   "execution_count": 27,
   "metadata": {},
   "outputs": [],
   "source": [
    "pred_set['Fe'] = pred_set['Fe'].apply(np.log, axis=1)\n",
    "pred_set['Ni'] = pred_set['Ni'].apply(np.log, axis=1)"
   ]
  },
  {
   "cell_type": "code",
   "execution_count": 28,
   "metadata": {},
   "outputs": [],
   "source": [
    "pred_X = pred_set[X.columns]"
   ]
  },
  {
   "cell_type": "code",
   "execution_count": 29,
   "metadata": {},
   "outputs": [],
   "source": [
    "pred_set['Co_pred'] = lr.predict(pred_X)"
   ]
  },
  {
   "cell_type": "code",
   "execution_count": 29,
   "metadata": {},
   "outputs": [
    {
     "data": {
      "text/html": [
       "<div>\n",
       "<style scoped>\n",
       "    .dataframe tbody tr th:only-of-type {\n",
       "        vertical-align: middle;\n",
       "    }\n",
       "\n",
       "    .dataframe tbody tr th {\n",
       "        vertical-align: top;\n",
       "    }\n",
       "\n",
       "    .dataframe thead th {\n",
       "        text-align: right;\n",
       "    }\n",
       "</style>\n",
       "<table border=\"1\" class=\"dataframe\">\n",
       "  <thead>\n",
       "    <tr style=\"text-align: right;\">\n",
       "      <th></th>\n",
       "      <th>site_code</th>\n",
       "      <th>Ni</th>\n",
       "      <th>Fe</th>\n",
       "      <th>wamex_lat</th>\n",
       "      <th>wamex_lon</th>\n",
       "      <th>Co_pred</th>\n",
       "    </tr>\n",
       "  </thead>\n",
       "  <tbody>\n",
       "    <tr>\n",
       "      <th>0</th>\n",
       "      <td>S0001174</td>\n",
       "      <td>8.699515</td>\n",
       "      <td>11.280993</td>\n",
       "      <td>-33.633382</td>\n",
       "      <td>120.374303</td>\n",
       "      <td>5.493879</td>\n",
       "    </tr>\n",
       "    <tr>\n",
       "      <th>1</th>\n",
       "      <td>S0004371</td>\n",
       "      <td>9.200290</td>\n",
       "      <td>12.691580</td>\n",
       "      <td>-29.125713</td>\n",
       "      <td>122.999515</td>\n",
       "      <td>5.623986</td>\n",
       "    </tr>\n",
       "  </tbody>\n",
       "</table>\n",
       "</div>"
      ],
      "text/plain": [
       "  site_code        Ni         Fe  wamex_lat   wamex_lon   Co_pred\n",
       "0  S0001174  8.699515  11.280993 -33.633382  120.374303  5.493879\n",
       "1  S0004371  9.200290  12.691580 -29.125713  122.999515  5.623986"
      ]
     },
     "execution_count": 29,
     "metadata": {},
     "output_type": "execute_result"
    }
   ],
   "source": [
    "pred_set.head(2)"
   ]
  },
  {
   "cell_type": "markdown",
   "metadata": {},
   "source": [
    "#### Invert preds"
   ]
  },
  {
   "cell_type": "code",
   "execution_count": 30,
   "metadata": {},
   "outputs": [],
   "source": [
    "pred_set['Co_pred'] = np.exp(pred_set['Co_pred'])"
   ]
  },
  {
   "cell_type": "code",
   "execution_count": 31,
   "metadata": {},
   "outputs": [
    {
     "data": {
      "text/html": [
       "<div>\n",
       "<style scoped>\n",
       "    .dataframe tbody tr th:only-of-type {\n",
       "        vertical-align: middle;\n",
       "    }\n",
       "\n",
       "    .dataframe tbody tr th {\n",
       "        vertical-align: top;\n",
       "    }\n",
       "\n",
       "    .dataframe thead th {\n",
       "        text-align: right;\n",
       "    }\n",
       "</style>\n",
       "<table border=\"1\" class=\"dataframe\">\n",
       "  <thead>\n",
       "    <tr style=\"text-align: right;\">\n",
       "      <th></th>\n",
       "      <th>site_code</th>\n",
       "      <th>Ni</th>\n",
       "      <th>Fe</th>\n",
       "      <th>wamex_lat</th>\n",
       "      <th>wamex_lon</th>\n",
       "      <th>Co_pred</th>\n",
       "    </tr>\n",
       "  </thead>\n",
       "  <tbody>\n",
       "    <tr>\n",
       "      <th>0</th>\n",
       "      <td>S0001174</td>\n",
       "      <td>8.699515</td>\n",
       "      <td>11.280993</td>\n",
       "      <td>-33.633382</td>\n",
       "      <td>120.374303</td>\n",
       "      <td>243.198764</td>\n",
       "    </tr>\n",
       "    <tr>\n",
       "      <th>1</th>\n",
       "      <td>S0004371</td>\n",
       "      <td>9.200290</td>\n",
       "      <td>12.691580</td>\n",
       "      <td>-29.125713</td>\n",
       "      <td>122.999515</td>\n",
       "      <td>276.991202</td>\n",
       "    </tr>\n",
       "    <tr>\n",
       "      <th>2</th>\n",
       "      <td>S0004371</td>\n",
       "      <td>9.200290</td>\n",
       "      <td>12.691580</td>\n",
       "      <td>-29.125713</td>\n",
       "      <td>122.999515</td>\n",
       "      <td>276.991202</td>\n",
       "    </tr>\n",
       "    <tr>\n",
       "      <th>3</th>\n",
       "      <td>S0005631</td>\n",
       "      <td>8.732305</td>\n",
       "      <td>11.589887</td>\n",
       "      <td>-33.666733</td>\n",
       "      <td>120.400034</td>\n",
       "      <td>252.392213</td>\n",
       "    </tr>\n",
       "    <tr>\n",
       "      <th>4</th>\n",
       "      <td>S0006586</td>\n",
       "      <td>8.612503</td>\n",
       "      <td>11.635143</td>\n",
       "      <td>-33.592899</td>\n",
       "      <td>120.280502</td>\n",
       "      <td>240.918340</td>\n",
       "    </tr>\n",
       "  </tbody>\n",
       "</table>\n",
       "</div>"
      ],
      "text/plain": [
       "  site_code        Ni         Fe  wamex_lat   wamex_lon     Co_pred\n",
       "0  S0001174  8.699515  11.280993 -33.633382  120.374303  243.198764\n",
       "1  S0004371  9.200290  12.691580 -29.125713  122.999515  276.991202\n",
       "2  S0004371  9.200290  12.691580 -29.125713  122.999515  276.991202\n",
       "3  S0005631  8.732305  11.589887 -33.666733  120.400034  252.392213\n",
       "4  S0006586  8.612503  11.635143 -33.592899  120.280502  240.918340"
      ]
     },
     "execution_count": 31,
     "metadata": {},
     "output_type": "execute_result"
    }
   ],
   "source": [
    "pred_set.head()"
   ]
  },
  {
   "cell_type": "code",
   "execution_count": 32,
   "metadata": {},
   "outputs": [],
   "source": [
    "minedex = pd.read_csv('Transformed_Minedex_data.csv')"
   ]
  },
  {
   "cell_type": "code",
   "execution_count": 33,
   "metadata": {},
   "outputs": [],
   "source": [
    "pred_sites = pred_set.site_code.to_list()"
   ]
  },
  {
   "cell_type": "code",
   "execution_count": 34,
   "metadata": {},
   "outputs": [],
   "source": [
    "minedex = minedex[minedex['SiteCode'].isin(pred_sites)]\n",
    "\n",
    "minedex_co = minedex[minedex['CommodityName'] == 'Cobalt']\n",
    "\n",
    "minedex_co_uniq = minedex_co[['SiteCode', 'CommodityName']].drop_duplicates().index"
   ]
  },
  {
   "cell_type": "code",
   "execution_count": 35,
   "metadata": {},
   "outputs": [
    {
     "data": {
      "text/html": [
       "<div>\n",
       "<style scoped>\n",
       "    .dataframe tbody tr th:only-of-type {\n",
       "        vertical-align: middle;\n",
       "    }\n",
       "\n",
       "    .dataframe tbody tr th {\n",
       "        vertical-align: top;\n",
       "    }\n",
       "\n",
       "    .dataframe thead th {\n",
       "        text-align: right;\n",
       "    }\n",
       "</style>\n",
       "<table border=\"1\" class=\"dataframe\">\n",
       "  <thead>\n",
       "    <tr style=\"text-align: right;\">\n",
       "      <th></th>\n",
       "      <th>SiteCode</th>\n",
       "      <th>StartDate</th>\n",
       "      <th>EndDate</th>\n",
       "      <th>Tonnage (Mt)</th>\n",
       "      <th>Grade</th>\n",
       "      <th>GradeUnit</th>\n",
       "      <th>CommodityName</th>\n",
       "      <th>ContainedMetal</th>\n",
       "      <th>ContainedMetalUnit</th>\n",
       "      <th>CutOffGrade</th>\n",
       "      <th>TargetCommodityGroup</th>\n",
       "      <th>quantity(tonne)</th>\n",
       "      <th>ppm</th>\n",
       "    </tr>\n",
       "  </thead>\n",
       "  <tbody>\n",
       "    <tr>\n",
       "      <th>5649</th>\n",
       "      <td>S0001174</td>\n",
       "      <td>31/12/2017</td>\n",
       "      <td>NaN</td>\n",
       "      <td>11.100000</td>\n",
       "      <td>0.020</td>\n",
       "      <td>percent</td>\n",
       "      <td>Cobalt</td>\n",
       "      <td>2220.00000</td>\n",
       "      <td>tonnes</td>\n",
       "      <td>NaN</td>\n",
       "      <td>NICKEL</td>\n",
       "      <td>2220.00000</td>\n",
       "      <td>200.0</td>\n",
       "    </tr>\n",
       "    <tr>\n",
       "      <th>8633</th>\n",
       "      <td>S0004371</td>\n",
       "      <td>01/10/2013</td>\n",
       "      <td>30/12/2018</td>\n",
       "      <td>9.780000</td>\n",
       "      <td>0.100</td>\n",
       "      <td>percent</td>\n",
       "      <td>Cobalt</td>\n",
       "      <td>9780.00000</td>\n",
       "      <td>tonnes</td>\n",
       "      <td>NaN</td>\n",
       "      <td>NICKEL</td>\n",
       "      <td>9780.00000</td>\n",
       "      <td>1000.0</td>\n",
       "    </tr>\n",
       "    <tr>\n",
       "      <th>8996</th>\n",
       "      <td>S0005631</td>\n",
       "      <td>31/12/2017</td>\n",
       "      <td>NaN</td>\n",
       "      <td>24.300000</td>\n",
       "      <td>0.030</td>\n",
       "      <td>percent</td>\n",
       "      <td>Cobalt</td>\n",
       "      <td>7290.00000</td>\n",
       "      <td>tonnes</td>\n",
       "      <td>NaN</td>\n",
       "      <td>NICKEL</td>\n",
       "      <td>7290.00000</td>\n",
       "      <td>300.0</td>\n",
       "    </tr>\n",
       "    <tr>\n",
       "      <th>9205</th>\n",
       "      <td>S0006586</td>\n",
       "      <td>31/12/2012</td>\n",
       "      <td>NaN</td>\n",
       "      <td>31.400000</td>\n",
       "      <td>0.020</td>\n",
       "      <td>percent</td>\n",
       "      <td>Cobalt</td>\n",
       "      <td>6280.00000</td>\n",
       "      <td>tonnes</td>\n",
       "      <td>NaN</td>\n",
       "      <td>NICKEL</td>\n",
       "      <td>6280.00000</td>\n",
       "      <td>200.0</td>\n",
       "    </tr>\n",
       "    <tr>\n",
       "      <th>9271</th>\n",
       "      <td>S0006685</td>\n",
       "      <td>31/12/2012</td>\n",
       "      <td>NaN</td>\n",
       "      <td>63.100000</td>\n",
       "      <td>0.030</td>\n",
       "      <td>percent</td>\n",
       "      <td>Cobalt</td>\n",
       "      <td>18930.00000</td>\n",
       "      <td>tonnes</td>\n",
       "      <td>NaN</td>\n",
       "      <td>NICKEL</td>\n",
       "      <td>18930.00000</td>\n",
       "      <td>300.0</td>\n",
       "    </tr>\n",
       "    <tr>\n",
       "      <th>9378</th>\n",
       "      <td>S0016710</td>\n",
       "      <td>24/09/2013</td>\n",
       "      <td>NaN</td>\n",
       "      <td>4.338000</td>\n",
       "      <td>0.084</td>\n",
       "      <td>percent</td>\n",
       "      <td>Cobalt</td>\n",
       "      <td>3643.92000</td>\n",
       "      <td>tonnes</td>\n",
       "      <td>NaN</td>\n",
       "      <td>NICKEL</td>\n",
       "      <td>3643.92000</td>\n",
       "      <td>840.0</td>\n",
       "    </tr>\n",
       "    <tr>\n",
       "      <th>9385</th>\n",
       "      <td>S0016719</td>\n",
       "      <td>31/03/2001</td>\n",
       "      <td>NaN</td>\n",
       "      <td>5.390000</td>\n",
       "      <td>0.084</td>\n",
       "      <td>percent</td>\n",
       "      <td>Cobalt</td>\n",
       "      <td>4527.60000</td>\n",
       "      <td>tonnes</td>\n",
       "      <td>NaN</td>\n",
       "      <td>NICKEL</td>\n",
       "      <td>4527.60000</td>\n",
       "      <td>840.0</td>\n",
       "    </tr>\n",
       "    <tr>\n",
       "      <th>9559</th>\n",
       "      <td>S0018838</td>\n",
       "      <td>31/12/2017</td>\n",
       "      <td>NaN</td>\n",
       "      <td>81.800000</td>\n",
       "      <td>0.030</td>\n",
       "      <td>percent</td>\n",
       "      <td>Cobalt</td>\n",
       "      <td>24540.00000</td>\n",
       "      <td>tonnes</td>\n",
       "      <td>NaN</td>\n",
       "      <td>NICKEL</td>\n",
       "      <td>24540.00000</td>\n",
       "      <td>300.0</td>\n",
       "    </tr>\n",
       "    <tr>\n",
       "      <th>9628</th>\n",
       "      <td>S0018919</td>\n",
       "      <td>26/02/2014</td>\n",
       "      <td>30/12/2018</td>\n",
       "      <td>0.840000</td>\n",
       "      <td>0.090</td>\n",
       "      <td>percent</td>\n",
       "      <td>Cobalt</td>\n",
       "      <td>756.00000</td>\n",
       "      <td>tonnes</td>\n",
       "      <td>NaN</td>\n",
       "      <td>NICKEL</td>\n",
       "      <td>756.00000</td>\n",
       "      <td>900.0</td>\n",
       "    </tr>\n",
       "    <tr>\n",
       "      <th>10321</th>\n",
       "      <td>S0020571</td>\n",
       "      <td>31/10/2000</td>\n",
       "      <td>NaN</td>\n",
       "      <td>4.650000</td>\n",
       "      <td>0.069</td>\n",
       "      <td>percent</td>\n",
       "      <td>Cobalt</td>\n",
       "      <td>3208.50000</td>\n",
       "      <td>tonnes</td>\n",
       "      <td>NaN</td>\n",
       "      <td>NICKEL</td>\n",
       "      <td>3208.50000</td>\n",
       "      <td>690.0</td>\n",
       "    </tr>\n",
       "    <tr>\n",
       "      <th>10478</th>\n",
       "      <td>S0020966</td>\n",
       "      <td>13/11/2019</td>\n",
       "      <td>NaN</td>\n",
       "      <td>0.321100</td>\n",
       "      <td>0.050</td>\n",
       "      <td>percent</td>\n",
       "      <td>Cobalt</td>\n",
       "      <td>160.55000</td>\n",
       "      <td>tonnes</td>\n",
       "      <td>NaN</td>\n",
       "      <td>NICKEL</td>\n",
       "      <td>160.55000</td>\n",
       "      <td>500.0</td>\n",
       "    </tr>\n",
       "    <tr>\n",
       "      <th>11727</th>\n",
       "      <td>S0022918</td>\n",
       "      <td>18/09/2006</td>\n",
       "      <td>NaN</td>\n",
       "      <td>30.000000</td>\n",
       "      <td>0.030</td>\n",
       "      <td>percent</td>\n",
       "      <td>Cobalt</td>\n",
       "      <td>9000.00000</td>\n",
       "      <td>tonnes</td>\n",
       "      <td>NaN</td>\n",
       "      <td>NICKEL</td>\n",
       "      <td>9000.00000</td>\n",
       "      <td>300.0</td>\n",
       "    </tr>\n",
       "    <tr>\n",
       "      <th>13900</th>\n",
       "      <td>S0224398</td>\n",
       "      <td>01/08/2012</td>\n",
       "      <td>24/02/2015</td>\n",
       "      <td>446.000000</td>\n",
       "      <td>0.013</td>\n",
       "      <td>percent</td>\n",
       "      <td>Cobalt</td>\n",
       "      <td>57980.00000</td>\n",
       "      <td>tonnes</td>\n",
       "      <td>NaN</td>\n",
       "      <td>NICKEL</td>\n",
       "      <td>57980.00000</td>\n",
       "      <td>130.0</td>\n",
       "    </tr>\n",
       "    <tr>\n",
       "      <th>15187</th>\n",
       "      <td>S0226200</td>\n",
       "      <td>26/10/2011</td>\n",
       "      <td>28/08/2017</td>\n",
       "      <td>29.830578</td>\n",
       "      <td>0.072</td>\n",
       "      <td>percent</td>\n",
       "      <td>Cobalt</td>\n",
       "      <td>21478.01616</td>\n",
       "      <td>tonnes</td>\n",
       "      <td>NaN</td>\n",
       "      <td>IRON ORE</td>\n",
       "      <td>21478.01616</td>\n",
       "      <td>720.0</td>\n",
       "    </tr>\n",
       "    <tr>\n",
       "      <th>15323</th>\n",
       "      <td>S0229459</td>\n",
       "      <td>31/12/2015</td>\n",
       "      <td>NaN</td>\n",
       "      <td>25.300000</td>\n",
       "      <td>0.020</td>\n",
       "      <td>percent</td>\n",
       "      <td>Cobalt</td>\n",
       "      <td>5060.00000</td>\n",
       "      <td>tonnes</td>\n",
       "      <td>NaN</td>\n",
       "      <td>NICKEL</td>\n",
       "      <td>5060.00000</td>\n",
       "      <td>200.0</td>\n",
       "    </tr>\n",
       "    <tr>\n",
       "      <th>15923</th>\n",
       "      <td>S0230774</td>\n",
       "      <td>24/09/2013</td>\n",
       "      <td>30/12/2014</td>\n",
       "      <td>1.488000</td>\n",
       "      <td>0.047</td>\n",
       "      <td>percent</td>\n",
       "      <td>Cobalt</td>\n",
       "      <td>699.36000</td>\n",
       "      <td>tonnes</td>\n",
       "      <td>NaN</td>\n",
       "      <td>NICKEL</td>\n",
       "      <td>699.36000</td>\n",
       "      <td>470.0</td>\n",
       "    </tr>\n",
       "    <tr>\n",
       "      <th>15931</th>\n",
       "      <td>S0230776</td>\n",
       "      <td>24/09/2013</td>\n",
       "      <td>NaN</td>\n",
       "      <td>3.444000</td>\n",
       "      <td>0.079</td>\n",
       "      <td>percent</td>\n",
       "      <td>Cobalt</td>\n",
       "      <td>2720.76000</td>\n",
       "      <td>tonnes</td>\n",
       "      <td>NaN</td>\n",
       "      <td>NICKEL</td>\n",
       "      <td>2720.76000</td>\n",
       "      <td>790.0</td>\n",
       "    </tr>\n",
       "    <tr>\n",
       "      <th>15970</th>\n",
       "      <td>S0230931</td>\n",
       "      <td>29/10/2013</td>\n",
       "      <td>NaN</td>\n",
       "      <td>385.300000</td>\n",
       "      <td>0.040</td>\n",
       "      <td>percent</td>\n",
       "      <td>Cobalt</td>\n",
       "      <td>154120.00000</td>\n",
       "      <td>tonnes</td>\n",
       "      <td>NaN</td>\n",
       "      <td>NICKEL</td>\n",
       "      <td>154120.00000</td>\n",
       "      <td>400.0</td>\n",
       "    </tr>\n",
       "    <tr>\n",
       "      <th>16380</th>\n",
       "      <td>S0232040</td>\n",
       "      <td>15/10/2014</td>\n",
       "      <td>30/12/2014</td>\n",
       "      <td>0.162330</td>\n",
       "      <td>0.080</td>\n",
       "      <td>percent</td>\n",
       "      <td>Cobalt</td>\n",
       "      <td>129.86400</td>\n",
       "      <td>tonnes</td>\n",
       "      <td>NaN</td>\n",
       "      <td>NICKEL</td>\n",
       "      <td>129.86400</td>\n",
       "      <td>800.0</td>\n",
       "    </tr>\n",
       "    <tr>\n",
       "      <th>16395</th>\n",
       "      <td>S0232041</td>\n",
       "      <td>15/10/2014</td>\n",
       "      <td>30/12/2014</td>\n",
       "      <td>0.653980</td>\n",
       "      <td>0.075</td>\n",
       "      <td>percent</td>\n",
       "      <td>Cobalt</td>\n",
       "      <td>490.48500</td>\n",
       "      <td>tonnes</td>\n",
       "      <td>NaN</td>\n",
       "      <td>NICKEL</td>\n",
       "      <td>490.48500</td>\n",
       "      <td>750.0</td>\n",
       "    </tr>\n",
       "  </tbody>\n",
       "</table>\n",
       "</div>"
      ],
      "text/plain": [
       "       SiteCode   StartDate     EndDate  Tonnage (Mt)  Grade GradeUnit  \\\n",
       "5649   S0001174  31/12/2017         NaN     11.100000  0.020   percent   \n",
       "8633   S0004371  01/10/2013  30/12/2018      9.780000  0.100   percent   \n",
       "8996   S0005631  31/12/2017         NaN     24.300000  0.030   percent   \n",
       "9205   S0006586  31/12/2012         NaN     31.400000  0.020   percent   \n",
       "9271   S0006685  31/12/2012         NaN     63.100000  0.030   percent   \n",
       "9378   S0016710  24/09/2013         NaN      4.338000  0.084   percent   \n",
       "9385   S0016719  31/03/2001         NaN      5.390000  0.084   percent   \n",
       "9559   S0018838  31/12/2017         NaN     81.800000  0.030   percent   \n",
       "9628   S0018919  26/02/2014  30/12/2018      0.840000  0.090   percent   \n",
       "10321  S0020571  31/10/2000         NaN      4.650000  0.069   percent   \n",
       "10478  S0020966  13/11/2019         NaN      0.321100  0.050   percent   \n",
       "11727  S0022918  18/09/2006         NaN     30.000000  0.030   percent   \n",
       "13900  S0224398  01/08/2012  24/02/2015    446.000000  0.013   percent   \n",
       "15187  S0226200  26/10/2011  28/08/2017     29.830578  0.072   percent   \n",
       "15323  S0229459  31/12/2015         NaN     25.300000  0.020   percent   \n",
       "15923  S0230774  24/09/2013  30/12/2014      1.488000  0.047   percent   \n",
       "15931  S0230776  24/09/2013         NaN      3.444000  0.079   percent   \n",
       "15970  S0230931  29/10/2013         NaN    385.300000  0.040   percent   \n",
       "16380  S0232040  15/10/2014  30/12/2014      0.162330  0.080   percent   \n",
       "16395  S0232041  15/10/2014  30/12/2014      0.653980  0.075   percent   \n",
       "\n",
       "      CommodityName  ContainedMetal ContainedMetalUnit  CutOffGrade  \\\n",
       "5649         Cobalt      2220.00000             tonnes          NaN   \n",
       "8633         Cobalt      9780.00000             tonnes          NaN   \n",
       "8996         Cobalt      7290.00000             tonnes          NaN   \n",
       "9205         Cobalt      6280.00000             tonnes          NaN   \n",
       "9271         Cobalt     18930.00000             tonnes          NaN   \n",
       "9378         Cobalt      3643.92000             tonnes          NaN   \n",
       "9385         Cobalt      4527.60000             tonnes          NaN   \n",
       "9559         Cobalt     24540.00000             tonnes          NaN   \n",
       "9628         Cobalt       756.00000             tonnes          NaN   \n",
       "10321        Cobalt      3208.50000             tonnes          NaN   \n",
       "10478        Cobalt       160.55000             tonnes          NaN   \n",
       "11727        Cobalt      9000.00000             tonnes          NaN   \n",
       "13900        Cobalt     57980.00000             tonnes          NaN   \n",
       "15187        Cobalt     21478.01616             tonnes          NaN   \n",
       "15323        Cobalt      5060.00000             tonnes          NaN   \n",
       "15923        Cobalt       699.36000             tonnes          NaN   \n",
       "15931        Cobalt      2720.76000             tonnes          NaN   \n",
       "15970        Cobalt    154120.00000             tonnes          NaN   \n",
       "16380        Cobalt       129.86400             tonnes          NaN   \n",
       "16395        Cobalt       490.48500             tonnes          NaN   \n",
       "\n",
       "      TargetCommodityGroup  quantity(tonne)     ppm  \n",
       "5649                NICKEL       2220.00000   200.0  \n",
       "8633                NICKEL       9780.00000  1000.0  \n",
       "8996                NICKEL       7290.00000   300.0  \n",
       "9205                NICKEL       6280.00000   200.0  \n",
       "9271                NICKEL      18930.00000   300.0  \n",
       "9378                NICKEL       3643.92000   840.0  \n",
       "9385                NICKEL       4527.60000   840.0  \n",
       "9559                NICKEL      24540.00000   300.0  \n",
       "9628                NICKEL        756.00000   900.0  \n",
       "10321               NICKEL       3208.50000   690.0  \n",
       "10478               NICKEL        160.55000   500.0  \n",
       "11727               NICKEL       9000.00000   300.0  \n",
       "13900               NICKEL      57980.00000   130.0  \n",
       "15187             IRON ORE      21478.01616   720.0  \n",
       "15323               NICKEL       5060.00000   200.0  \n",
       "15923               NICKEL        699.36000   470.0  \n",
       "15931               NICKEL       2720.76000   790.0  \n",
       "15970               NICKEL     154120.00000   400.0  \n",
       "16380               NICKEL        129.86400   800.0  \n",
       "16395               NICKEL        490.48500   750.0  "
      ]
     },
     "execution_count": 35,
     "metadata": {},
     "output_type": "execute_result"
    }
   ],
   "source": [
    "minedex_co_uniq = minedex_co[minedex_co.index.isin(minedex_co_uniq)]\n",
    "minedex_co_uniq"
   ]
  },
  {
   "cell_type": "code",
   "execution_count": 36,
   "metadata": {},
   "outputs": [
    {
     "data": {
      "text/html": [
       "<div>\n",
       "<style scoped>\n",
       "    .dataframe tbody tr th:only-of-type {\n",
       "        vertical-align: middle;\n",
       "    }\n",
       "\n",
       "    .dataframe tbody tr th {\n",
       "        vertical-align: top;\n",
       "    }\n",
       "\n",
       "    .dataframe thead th {\n",
       "        text-align: right;\n",
       "    }\n",
       "</style>\n",
       "<table border=\"1\" class=\"dataframe\">\n",
       "  <thead>\n",
       "    <tr style=\"text-align: right;\">\n",
       "      <th></th>\n",
       "      <th>site_code</th>\n",
       "      <th>Co_pred</th>\n",
       "      <th>Co_true</th>\n",
       "    </tr>\n",
       "  </thead>\n",
       "  <tbody>\n",
       "    <tr>\n",
       "      <th>0</th>\n",
       "      <td>S0001174</td>\n",
       "      <td>243.198764</td>\n",
       "      <td>200.0</td>\n",
       "    </tr>\n",
       "    <tr>\n",
       "      <th>1</th>\n",
       "      <td>S0004371</td>\n",
       "      <td>276.991202</td>\n",
       "      <td>1000.0</td>\n",
       "    </tr>\n",
       "    <tr>\n",
       "      <th>2</th>\n",
       "      <td>S0004371</td>\n",
       "      <td>276.991202</td>\n",
       "      <td>1000.0</td>\n",
       "    </tr>\n",
       "    <tr>\n",
       "      <th>3</th>\n",
       "      <td>S0005631</td>\n",
       "      <td>252.392213</td>\n",
       "      <td>300.0</td>\n",
       "    </tr>\n",
       "    <tr>\n",
       "      <th>4</th>\n",
       "      <td>S0006586</td>\n",
       "      <td>240.918340</td>\n",
       "      <td>200.0</td>\n",
       "    </tr>\n",
       "    <tr>\n",
       "      <th>5</th>\n",
       "      <td>S0006685</td>\n",
       "      <td>260.138942</td>\n",
       "      <td>300.0</td>\n",
       "    </tr>\n",
       "    <tr>\n",
       "      <th>6</th>\n",
       "      <td>S0016710</td>\n",
       "      <td>308.303376</td>\n",
       "      <td>840.0</td>\n",
       "    </tr>\n",
       "    <tr>\n",
       "      <th>7</th>\n",
       "      <td>S0016719</td>\n",
       "      <td>281.243668</td>\n",
       "      <td>840.0</td>\n",
       "    </tr>\n",
       "    <tr>\n",
       "      <th>8</th>\n",
       "      <td>S0018838</td>\n",
       "      <td>253.285503</td>\n",
       "      <td>300.0</td>\n",
       "    </tr>\n",
       "    <tr>\n",
       "      <th>9</th>\n",
       "      <td>S0018919</td>\n",
       "      <td>260.959459</td>\n",
       "      <td>900.0</td>\n",
       "    </tr>\n",
       "    <tr>\n",
       "      <th>10</th>\n",
       "      <td>S0018919</td>\n",
       "      <td>260.959459</td>\n",
       "      <td>900.0</td>\n",
       "    </tr>\n",
       "    <tr>\n",
       "      <th>11</th>\n",
       "      <td>S0020571</td>\n",
       "      <td>291.092922</td>\n",
       "      <td>690.0</td>\n",
       "    </tr>\n",
       "    <tr>\n",
       "      <th>12</th>\n",
       "      <td>S0020966</td>\n",
       "      <td>465.404147</td>\n",
       "      <td>500.0</td>\n",
       "    </tr>\n",
       "    <tr>\n",
       "      <th>13</th>\n",
       "      <td>S0022918</td>\n",
       "      <td>227.385353</td>\n",
       "      <td>300.0</td>\n",
       "    </tr>\n",
       "    <tr>\n",
       "      <th>14</th>\n",
       "      <td>S0224398</td>\n",
       "      <td>78.640643</td>\n",
       "      <td>130.0</td>\n",
       "    </tr>\n",
       "    <tr>\n",
       "      <th>15</th>\n",
       "      <td>S0224398</td>\n",
       "      <td>78.640643</td>\n",
       "      <td>130.0</td>\n",
       "    </tr>\n",
       "    <tr>\n",
       "      <th>16</th>\n",
       "      <td>S0226200</td>\n",
       "      <td>312.191334</td>\n",
       "      <td>720.0</td>\n",
       "    </tr>\n",
       "    <tr>\n",
       "      <th>17</th>\n",
       "      <td>S0229459</td>\n",
       "      <td>235.241618</td>\n",
       "      <td>200.0</td>\n",
       "    </tr>\n",
       "    <tr>\n",
       "      <th>18</th>\n",
       "      <td>S0230774</td>\n",
       "      <td>333.120091</td>\n",
       "      <td>470.0</td>\n",
       "    </tr>\n",
       "    <tr>\n",
       "      <th>19</th>\n",
       "      <td>S0230776</td>\n",
       "      <td>311.449973</td>\n",
       "      <td>790.0</td>\n",
       "    </tr>\n",
       "    <tr>\n",
       "      <th>20</th>\n",
       "      <td>S0230931</td>\n",
       "      <td>436.915859</td>\n",
       "      <td>400.0</td>\n",
       "    </tr>\n",
       "    <tr>\n",
       "      <th>21</th>\n",
       "      <td>S0232040</td>\n",
       "      <td>319.292995</td>\n",
       "      <td>800.0</td>\n",
       "    </tr>\n",
       "    <tr>\n",
       "      <th>22</th>\n",
       "      <td>S0232041</td>\n",
       "      <td>312.929731</td>\n",
       "      <td>750.0</td>\n",
       "    </tr>\n",
       "  </tbody>\n",
       "</table>\n",
       "</div>"
      ],
      "text/plain": [
       "   site_code     Co_pred  Co_true\n",
       "0   S0001174  243.198764    200.0\n",
       "1   S0004371  276.991202   1000.0\n",
       "2   S0004371  276.991202   1000.0\n",
       "3   S0005631  252.392213    300.0\n",
       "4   S0006586  240.918340    200.0\n",
       "5   S0006685  260.138942    300.0\n",
       "6   S0016710  308.303376    840.0\n",
       "7   S0016719  281.243668    840.0\n",
       "8   S0018838  253.285503    300.0\n",
       "9   S0018919  260.959459    900.0\n",
       "10  S0018919  260.959459    900.0\n",
       "11  S0020571  291.092922    690.0\n",
       "12  S0020966  465.404147    500.0\n",
       "13  S0022918  227.385353    300.0\n",
       "14  S0224398   78.640643    130.0\n",
       "15  S0224398   78.640643    130.0\n",
       "16  S0226200  312.191334    720.0\n",
       "17  S0229459  235.241618    200.0\n",
       "18  S0230774  333.120091    470.0\n",
       "19  S0230776  311.449973    790.0\n",
       "20  S0230931  436.915859    400.0\n",
       "21  S0232040  319.292995    800.0\n",
       "22  S0232041  312.929731    750.0"
      ]
     },
     "execution_count": 36,
     "metadata": {},
     "output_type": "execute_result"
    }
   ],
   "source": [
    "cross_ref = pred_set[['site_code', 'Co_pred']].merge(minedex_co_uniq[['SiteCode', 'ppm']],\n",
    "                                        left_on='site_code', \n",
    "                                        right_on='SiteCode')\n",
    "\n",
    "cross_ref = cross_ref.rename(columns={\n",
    "    \"ppm\": \"Co_true\"\n",
    "})\n",
    "\n",
    "cross_ref.drop(columns=['SiteCode'])"
   ]
  },
  {
   "cell_type": "code",
   "execution_count": 37,
   "metadata": {},
   "outputs": [
    {
     "data": {
      "text/plain": [
       "151145.9924783405"
      ]
     },
     "execution_count": 37,
     "metadata": {},
     "output_type": "execute_result"
    }
   ],
   "source": [
    "mean_squared_error(cross_ref['Co_true'], cross_ref['Co_pred'])"
   ]
  },
  {
   "cell_type": "markdown",
   "metadata": {},
   "source": [
    "### RANDOM FORREST"
   ]
  },
  {
   "cell_type": "code",
   "execution_count": 39,
   "metadata": {},
   "outputs": [
    {
     "name": "stdout",
     "output_type": "stream",
     "text": [
      "Train MSE: 0.0575429243997386\n",
      "Test MSE: 0.4450488480942712\n"
     ]
    },
    {
     "ename": "NameError",
     "evalue": "name 'plt' is not defined",
     "output_type": "error",
     "traceback": [
      "\u001b[1;31m---------------------------------------------------------------------------\u001b[0m",
      "\u001b[1;31mNameError\u001b[0m                                 Traceback (most recent call last)",
      "\u001b[1;32m<ipython-input-39-a120e78a4390>\u001b[0m in \u001b[0;36m<module>\u001b[1;34m\u001b[0m\n\u001b[0;32m      8\u001b[0m \u001b[0mprint\u001b[0m\u001b[1;33m(\u001b[0m\u001b[1;34mf\"Test MSE: {mean_squared_error(test_preds, y_test)}\"\u001b[0m\u001b[1;33m)\u001b[0m\u001b[1;33m\u001b[0m\u001b[1;33m\u001b[0m\u001b[0m\n\u001b[0;32m      9\u001b[0m \u001b[1;33m\u001b[0m\u001b[0m\n\u001b[1;32m---> 10\u001b[1;33m \u001b[0mplt\u001b[0m\u001b[1;33m.\u001b[0m\u001b[0mplot\u001b[0m\u001b[1;33m(\u001b[0m\u001b[0mrange\u001b[0m\u001b[1;33m(\u001b[0m\u001b[1;36m0\u001b[0m\u001b[1;33m,\u001b[0m \u001b[0mlen\u001b[0m\u001b[1;33m(\u001b[0m\u001b[0mtest_preds\u001b[0m\u001b[1;33m)\u001b[0m\u001b[1;33m)\u001b[0m\u001b[1;33m,\u001b[0m \u001b[0my_test\u001b[0m\u001b[1;33m,\u001b[0m \u001b[0mtest_preds\u001b[0m\u001b[1;33m)\u001b[0m\u001b[1;33m\u001b[0m\u001b[1;33m\u001b[0m\u001b[0m\n\u001b[0m",
      "\u001b[1;31mNameError\u001b[0m: name 'plt' is not defined"
     ]
    }
   ],
   "source": [
    "rf = RandomForestRegressor(random_state = 42)\n",
    "\n",
    "rf.fit(X_train, y_train)\n",
    "train_preds = rf.predict(X_train)\n",
    "test_preds = rf.predict(X_test)\n",
    "\n",
    "print(f\"Train MSE: {mean_squared_error(train_preds, y_train)}\")\n",
    "print(f\"Test MSE: {mean_squared_error(test_preds, y_test)}\")\n",
    "\n",
    "plt.plot(range(0, len(test_preds)), y_test, test_preds)"
   ]
  },
  {
   "cell_type": "code",
   "execution_count": 40,
   "metadata": {},
   "outputs": [
    {
     "data": {
      "text/html": [
       "<div>\n",
       "<style scoped>\n",
       "    .dataframe tbody tr th:only-of-type {\n",
       "        vertical-align: middle;\n",
       "    }\n",
       "\n",
       "    .dataframe tbody tr th {\n",
       "        vertical-align: top;\n",
       "    }\n",
       "\n",
       "    .dataframe thead th {\n",
       "        text-align: right;\n",
       "    }\n",
       "</style>\n",
       "<table border=\"1\" class=\"dataframe\">\n",
       "  <thead>\n",
       "    <tr style=\"text-align: right;\">\n",
       "      <th></th>\n",
       "      <th>site_code</th>\n",
       "      <th>Ni</th>\n",
       "      <th>Fe</th>\n",
       "      <th>wamex_lat</th>\n",
       "      <th>wamex_lon</th>\n",
       "      <th>Co_pred</th>\n",
       "      <th>RF_Co_pred</th>\n",
       "    </tr>\n",
       "  </thead>\n",
       "  <tbody>\n",
       "    <tr>\n",
       "      <th>0</th>\n",
       "      <td>S0001174</td>\n",
       "      <td>8.699515</td>\n",
       "      <td>11.280993</td>\n",
       "      <td>-33.633382</td>\n",
       "      <td>120.374303</td>\n",
       "      <td>243.198764</td>\n",
       "      <td>463.644585</td>\n",
       "    </tr>\n",
       "    <tr>\n",
       "      <th>1</th>\n",
       "      <td>S0004371</td>\n",
       "      <td>9.200290</td>\n",
       "      <td>12.691580</td>\n",
       "      <td>-29.125713</td>\n",
       "      <td>122.999515</td>\n",
       "      <td>276.991202</td>\n",
       "      <td>343.017853</td>\n",
       "    </tr>\n",
       "    <tr>\n",
       "      <th>2</th>\n",
       "      <td>S0004371</td>\n",
       "      <td>9.200290</td>\n",
       "      <td>12.691580</td>\n",
       "      <td>-29.125713</td>\n",
       "      <td>122.999515</td>\n",
       "      <td>276.991202</td>\n",
       "      <td>343.017853</td>\n",
       "    </tr>\n",
       "    <tr>\n",
       "      <th>3</th>\n",
       "      <td>S0005631</td>\n",
       "      <td>8.732305</td>\n",
       "      <td>11.589887</td>\n",
       "      <td>-33.666733</td>\n",
       "      <td>120.400034</td>\n",
       "      <td>252.392213</td>\n",
       "      <td>716.369233</td>\n",
       "    </tr>\n",
       "    <tr>\n",
       "      <th>4</th>\n",
       "      <td>S0006586</td>\n",
       "      <td>8.612503</td>\n",
       "      <td>11.635143</td>\n",
       "      <td>-33.592899</td>\n",
       "      <td>120.280502</td>\n",
       "      <td>240.918340</td>\n",
       "      <td>449.477716</td>\n",
       "    </tr>\n",
       "  </tbody>\n",
       "</table>\n",
       "</div>"
      ],
      "text/plain": [
       "  site_code        Ni         Fe  wamex_lat   wamex_lon     Co_pred  \\\n",
       "0  S0001174  8.699515  11.280993 -33.633382  120.374303  243.198764   \n",
       "1  S0004371  9.200290  12.691580 -29.125713  122.999515  276.991202   \n",
       "2  S0004371  9.200290  12.691580 -29.125713  122.999515  276.991202   \n",
       "3  S0005631  8.732305  11.589887 -33.666733  120.400034  252.392213   \n",
       "4  S0006586  8.612503  11.635143 -33.592899  120.280502  240.918340   \n",
       "\n",
       "   RF_Co_pred  \n",
       "0  463.644585  \n",
       "1  343.017853  \n",
       "2  343.017853  \n",
       "3  716.369233  \n",
       "4  449.477716  "
      ]
     },
     "execution_count": 40,
     "metadata": {},
     "output_type": "execute_result"
    }
   ],
   "source": [
    "pred_set['RF_Co_pred'] = rf.predict(pred_X)\n",
    "pred_set['RF_Co_pred'] = np.exp(pred_set['RF_Co_pred'])\n",
    "pred_set.head()"
   ]
  },
  {
   "cell_type": "code",
   "execution_count": 41,
   "metadata": {},
   "outputs": [
    {
     "data": {
      "text/html": [
       "<div>\n",
       "<style scoped>\n",
       "    .dataframe tbody tr th:only-of-type {\n",
       "        vertical-align: middle;\n",
       "    }\n",
       "\n",
       "    .dataframe tbody tr th {\n",
       "        vertical-align: top;\n",
       "    }\n",
       "\n",
       "    .dataframe thead th {\n",
       "        text-align: right;\n",
       "    }\n",
       "</style>\n",
       "<table border=\"1\" class=\"dataframe\">\n",
       "  <thead>\n",
       "    <tr style=\"text-align: right;\">\n",
       "      <th></th>\n",
       "      <th>site_code</th>\n",
       "      <th>Co_pred</th>\n",
       "      <th>RF_Co_pred</th>\n",
       "      <th>Co_true</th>\n",
       "    </tr>\n",
       "  </thead>\n",
       "  <tbody>\n",
       "    <tr>\n",
       "      <th>0</th>\n",
       "      <td>S0001174</td>\n",
       "      <td>243.198764</td>\n",
       "      <td>463.644585</td>\n",
       "      <td>200.0</td>\n",
       "    </tr>\n",
       "    <tr>\n",
       "      <th>1</th>\n",
       "      <td>S0004371</td>\n",
       "      <td>276.991202</td>\n",
       "      <td>343.017853</td>\n",
       "      <td>1000.0</td>\n",
       "    </tr>\n",
       "    <tr>\n",
       "      <th>2</th>\n",
       "      <td>S0004371</td>\n",
       "      <td>276.991202</td>\n",
       "      <td>343.017853</td>\n",
       "      <td>1000.0</td>\n",
       "    </tr>\n",
       "    <tr>\n",
       "      <th>3</th>\n",
       "      <td>S0005631</td>\n",
       "      <td>252.392213</td>\n",
       "      <td>716.369233</td>\n",
       "      <td>300.0</td>\n",
       "    </tr>\n",
       "    <tr>\n",
       "      <th>4</th>\n",
       "      <td>S0006586</td>\n",
       "      <td>240.918340</td>\n",
       "      <td>449.477716</td>\n",
       "      <td>200.0</td>\n",
       "    </tr>\n",
       "    <tr>\n",
       "      <th>5</th>\n",
       "      <td>S0006685</td>\n",
       "      <td>260.138942</td>\n",
       "      <td>717.081460</td>\n",
       "      <td>300.0</td>\n",
       "    </tr>\n",
       "    <tr>\n",
       "      <th>6</th>\n",
       "      <td>S0016710</td>\n",
       "      <td>308.303376</td>\n",
       "      <td>446.262074</td>\n",
       "      <td>840.0</td>\n",
       "    </tr>\n",
       "    <tr>\n",
       "      <th>7</th>\n",
       "      <td>S0016719</td>\n",
       "      <td>281.243668</td>\n",
       "      <td>526.369936</td>\n",
       "      <td>840.0</td>\n",
       "    </tr>\n",
       "    <tr>\n",
       "      <th>8</th>\n",
       "      <td>S0018838</td>\n",
       "      <td>253.285503</td>\n",
       "      <td>717.117367</td>\n",
       "      <td>300.0</td>\n",
       "    </tr>\n",
       "    <tr>\n",
       "      <th>9</th>\n",
       "      <td>S0018919</td>\n",
       "      <td>260.959459</td>\n",
       "      <td>456.095765</td>\n",
       "      <td>900.0</td>\n",
       "    </tr>\n",
       "    <tr>\n",
       "      <th>10</th>\n",
       "      <td>S0018919</td>\n",
       "      <td>260.959459</td>\n",
       "      <td>456.095765</td>\n",
       "      <td>900.0</td>\n",
       "    </tr>\n",
       "    <tr>\n",
       "      <th>11</th>\n",
       "      <td>S0020571</td>\n",
       "      <td>291.092922</td>\n",
       "      <td>532.593781</td>\n",
       "      <td>690.0</td>\n",
       "    </tr>\n",
       "    <tr>\n",
       "      <th>12</th>\n",
       "      <td>S0020966</td>\n",
       "      <td>465.404147</td>\n",
       "      <td>822.422265</td>\n",
       "      <td>500.0</td>\n",
       "    </tr>\n",
       "    <tr>\n",
       "      <th>13</th>\n",
       "      <td>S0022918</td>\n",
       "      <td>227.385353</td>\n",
       "      <td>293.612878</td>\n",
       "      <td>300.0</td>\n",
       "    </tr>\n",
       "    <tr>\n",
       "      <th>14</th>\n",
       "      <td>S0224398</td>\n",
       "      <td>78.640643</td>\n",
       "      <td>149.387986</td>\n",
       "      <td>130.0</td>\n",
       "    </tr>\n",
       "    <tr>\n",
       "      <th>15</th>\n",
       "      <td>S0224398</td>\n",
       "      <td>78.640643</td>\n",
       "      <td>149.387986</td>\n",
       "      <td>130.0</td>\n",
       "    </tr>\n",
       "    <tr>\n",
       "      <th>16</th>\n",
       "      <td>S0226200</td>\n",
       "      <td>312.191334</td>\n",
       "      <td>424.363408</td>\n",
       "      <td>720.0</td>\n",
       "    </tr>\n",
       "    <tr>\n",
       "      <th>17</th>\n",
       "      <td>S0229459</td>\n",
       "      <td>235.241618</td>\n",
       "      <td>461.783837</td>\n",
       "      <td>200.0</td>\n",
       "    </tr>\n",
       "    <tr>\n",
       "      <th>18</th>\n",
       "      <td>S0230774</td>\n",
       "      <td>333.120091</td>\n",
       "      <td>863.239020</td>\n",
       "      <td>470.0</td>\n",
       "    </tr>\n",
       "    <tr>\n",
       "      <th>19</th>\n",
       "      <td>S0230776</td>\n",
       "      <td>311.449973</td>\n",
       "      <td>433.147783</td>\n",
       "      <td>790.0</td>\n",
       "    </tr>\n",
       "    <tr>\n",
       "      <th>20</th>\n",
       "      <td>S0230931</td>\n",
       "      <td>436.915859</td>\n",
       "      <td>314.594727</td>\n",
       "      <td>400.0</td>\n",
       "    </tr>\n",
       "    <tr>\n",
       "      <th>21</th>\n",
       "      <td>S0232040</td>\n",
       "      <td>319.292995</td>\n",
       "      <td>288.963691</td>\n",
       "      <td>800.0</td>\n",
       "    </tr>\n",
       "    <tr>\n",
       "      <th>22</th>\n",
       "      <td>S0232041</td>\n",
       "      <td>312.929731</td>\n",
       "      <td>204.302983</td>\n",
       "      <td>750.0</td>\n",
       "    </tr>\n",
       "  </tbody>\n",
       "</table>\n",
       "</div>"
      ],
      "text/plain": [
       "   site_code     Co_pred  RF_Co_pred  Co_true\n",
       "0   S0001174  243.198764  463.644585    200.0\n",
       "1   S0004371  276.991202  343.017853   1000.0\n",
       "2   S0004371  276.991202  343.017853   1000.0\n",
       "3   S0005631  252.392213  716.369233    300.0\n",
       "4   S0006586  240.918340  449.477716    200.0\n",
       "5   S0006685  260.138942  717.081460    300.0\n",
       "6   S0016710  308.303376  446.262074    840.0\n",
       "7   S0016719  281.243668  526.369936    840.0\n",
       "8   S0018838  253.285503  717.117367    300.0\n",
       "9   S0018919  260.959459  456.095765    900.0\n",
       "10  S0018919  260.959459  456.095765    900.0\n",
       "11  S0020571  291.092922  532.593781    690.0\n",
       "12  S0020966  465.404147  822.422265    500.0\n",
       "13  S0022918  227.385353  293.612878    300.0\n",
       "14  S0224398   78.640643  149.387986    130.0\n",
       "15  S0224398   78.640643  149.387986    130.0\n",
       "16  S0226200  312.191334  424.363408    720.0\n",
       "17  S0229459  235.241618  461.783837    200.0\n",
       "18  S0230774  333.120091  863.239020    470.0\n",
       "19  S0230776  311.449973  433.147783    790.0\n",
       "20  S0230931  436.915859  314.594727    400.0\n",
       "21  S0232040  319.292995  288.963691    800.0\n",
       "22  S0232041  312.929731  204.302983    750.0"
      ]
     },
     "execution_count": 41,
     "metadata": {},
     "output_type": "execute_result"
    }
   ],
   "source": [
    "cross_ref = pred_set[['site_code', 'Co_pred', 'RF_Co_pred']].merge(minedex_co_uniq[['SiteCode', 'ppm']],\n",
    "                                        left_on='site_code', \n",
    "                                        right_on='SiteCode')\n",
    "\n",
    "cross_ref = cross_ref.rename(columns={\n",
    "    \"ppm\": \"Co_true\"\n",
    "})\n",
    "\n",
    "cross_ref.drop(columns=['SiteCode'])"
   ]
  },
  {
   "cell_type": "code",
   "execution_count": 42,
   "metadata": {},
   "outputs": [
    {
     "data": {
      "text/plain": [
       "143368.53033536676"
      ]
     },
     "execution_count": 42,
     "metadata": {},
     "output_type": "execute_result"
    }
   ],
   "source": [
    "mean_squared_error(cross_ref['RF_Co_pred'], cross_ref['Co_true'])"
   ]
  },
  {
   "cell_type": "markdown",
   "metadata": {},
   "source": [
    "## SVR"
   ]
  },
  {
   "cell_type": "code",
   "execution_count": null,
   "metadata": {},
   "outputs": [
    {
     "name": "stdout",
     "output_type": "stream",
     "text": [
      "Fitting 3 folds for each of 96 candidates, totalling 288 fits\n",
      "[CV] C=0.1, degree=1, gamma=auto, kernel=linear ......................\n"
     ]
    },
    {
     "name": "stderr",
     "output_type": "stream",
     "text": [
      "[Parallel(n_jobs=1)]: Using backend SequentialBackend with 1 concurrent workers.\n"
     ]
    },
    {
     "name": "stdout",
     "output_type": "stream",
     "text": [
      "[CV] ....... C=0.1, degree=1, gamma=auto, kernel=linear, total=   5.0s\n",
      "[CV] C=0.1, degree=1, gamma=auto, kernel=linear ......................\n"
     ]
    },
    {
     "name": "stderr",
     "output_type": "stream",
     "text": [
      "[Parallel(n_jobs=1)]: Done   1 out of   1 | elapsed:    4.9s remaining:    0.0s\n"
     ]
    },
    {
     "name": "stdout",
     "output_type": "stream",
     "text": [
      "[CV] ....... C=0.1, degree=1, gamma=auto, kernel=linear, total=   4.4s\n",
      "[CV] C=0.1, degree=1, gamma=auto, kernel=linear ......................\n",
      "[CV] ....... C=0.1, degree=1, gamma=auto, kernel=linear, total=   4.6s\n",
      "[CV] C=0.1, degree=1, gamma=auto, kernel=poly ........................\n",
      "[CV] ......... C=0.1, degree=1, gamma=auto, kernel=poly, total=   3.4s\n",
      "[CV] C=0.1, degree=1, gamma=auto, kernel=poly ........................\n",
      "[CV] ......... C=0.1, degree=1, gamma=auto, kernel=poly, total=   3.9s\n",
      "[CV] C=0.1, degree=1, gamma=auto, kernel=poly ........................\n",
      "[CV] ......... C=0.1, degree=1, gamma=auto, kernel=poly, total=   4.0s\n",
      "[CV] C=0.1, degree=1, gamma=auto, kernel=rbf .........................\n",
      "[CV] .......... C=0.1, degree=1, gamma=auto, kernel=rbf, total=   3.5s\n",
      "[CV] C=0.1, degree=1, gamma=auto, kernel=rbf .........................\n",
      "[CV] .......... C=0.1, degree=1, gamma=auto, kernel=rbf, total=   3.4s\n",
      "[CV] C=0.1, degree=1, gamma=auto, kernel=rbf .........................\n",
      "[CV] .......... C=0.1, degree=1, gamma=auto, kernel=rbf, total=   3.4s\n",
      "[CV] C=0.1, degree=1, gamma=auto, kernel=sigmoid .....................\n",
      "[CV] ...... C=0.1, degree=1, gamma=auto, kernel=sigmoid, total=   2.7s\n",
      "[CV] C=0.1, degree=1, gamma=auto, kernel=sigmoid .....................\n",
      "[CV] ...... C=0.1, degree=1, gamma=auto, kernel=sigmoid, total=   2.6s\n",
      "[CV] C=0.1, degree=1, gamma=auto, kernel=sigmoid .....................\n",
      "[CV] ...... C=0.1, degree=1, gamma=auto, kernel=sigmoid, total=   2.6s\n",
      "[CV] C=0.1, degree=1, gamma=scale, kernel=linear .....................\n",
      "[CV] ...... C=0.1, degree=1, gamma=scale, kernel=linear, total=   4.8s\n",
      "[CV] C=0.1, degree=1, gamma=scale, kernel=linear .....................\n",
      "[CV] ...... C=0.1, degree=1, gamma=scale, kernel=linear, total=   4.8s\n",
      "[CV] C=0.1, degree=1, gamma=scale, kernel=linear .....................\n",
      "[CV] ...... C=0.1, degree=1, gamma=scale, kernel=linear, total=   4.7s\n",
      "[CV] C=0.1, degree=1, gamma=scale, kernel=poly .......................\n",
      "[CV] ........ C=0.1, degree=1, gamma=scale, kernel=poly, total=   2.9s\n",
      "[CV] C=0.1, degree=1, gamma=scale, kernel=poly .......................\n",
      "[CV] ........ C=0.1, degree=1, gamma=scale, kernel=poly, total=   2.9s\n",
      "[CV] C=0.1, degree=1, gamma=scale, kernel=poly .......................\n",
      "[CV] ........ C=0.1, degree=1, gamma=scale, kernel=poly, total=   2.8s\n",
      "[CV] C=0.1, degree=1, gamma=scale, kernel=rbf ........................\n",
      "[CV] ......... C=0.1, degree=1, gamma=scale, kernel=rbf, total=   4.4s\n",
      "[CV] C=0.1, degree=1, gamma=scale, kernel=rbf ........................\n",
      "[CV] ......... C=0.1, degree=1, gamma=scale, kernel=rbf, total=   4.2s\n",
      "[CV] C=0.1, degree=1, gamma=scale, kernel=rbf ........................\n",
      "[CV] ......... C=0.1, degree=1, gamma=scale, kernel=rbf, total=   4.2s\n",
      "[CV] C=0.1, degree=1, gamma=scale, kernel=sigmoid ....................\n",
      "[CV] ..... C=0.1, degree=1, gamma=scale, kernel=sigmoid, total=   6.5s\n",
      "[CV] C=0.1, degree=1, gamma=scale, kernel=sigmoid ....................\n",
      "[CV] ..... C=0.1, degree=1, gamma=scale, kernel=sigmoid, total=   6.5s\n",
      "[CV] C=0.1, degree=1, gamma=scale, kernel=sigmoid ....................\n",
      "[CV] ..... C=0.1, degree=1, gamma=scale, kernel=sigmoid, total=   6.6s\n",
      "[CV] C=0.1, degree=3, gamma=auto, kernel=linear ......................\n",
      "[CV] ....... C=0.1, degree=3, gamma=auto, kernel=linear, total=   4.6s\n",
      "[CV] C=0.1, degree=3, gamma=auto, kernel=linear ......................\n",
      "[CV] ....... C=0.1, degree=3, gamma=auto, kernel=linear, total=   4.3s\n",
      "[CV] C=0.1, degree=3, gamma=auto, kernel=linear ......................\n",
      "[CV] ....... C=0.1, degree=3, gamma=auto, kernel=linear, total=   4.6s\n",
      "[CV] C=0.1, degree=3, gamma=auto, kernel=poly ........................\n",
      "[CV] ......... C=0.1, degree=3, gamma=auto, kernel=poly, total= 2.8min\n",
      "[CV] C=0.1, degree=3, gamma=auto, kernel=poly ........................\n"
     ]
    }
   ],
   "source": [
    "svr = SVR()\n",
    "param = {'kernel' : ('linear', 'poly', 'rbf', 'sigmoid'),'C' : [0.1, 1,5,10],'degree' : [1,3,5],'gamma' : ('auto','scale')}\n",
    "grid_search = GridSearchCV(estimator = svr, param_grid = param, \n",
    "                      cv = 3, n_jobs = None, verbose = 2)\n",
    "\n",
    "svr_grid = grid_search.fit(X_train, y_train)\n",
    "print(svr_grid.best_params_)\n",
    "\n",
    "train_preds = svr_grid.predict(X_train)\n",
    "test_preds = svr_grid.predict(X_test)\n",
    "\n",
    "print(f\"Train MSE: {mean_squared_error(train_preds, y_train)}\")\n",
    "print(f\"Test MSE: {mean_squared_error(test_preds, y_test)}\")\n",
    "\n",
    "plt.plot(range(0, len(test_preds)), y_test, test_preds)"
   ]
  },
  {
   "cell_type": "code",
   "execution_count": 73,
   "metadata": {},
   "outputs": [
    {
     "data": {
      "text/html": [
       "<div>\n",
       "<style scoped>\n",
       "    .dataframe tbody tr th:only-of-type {\n",
       "        vertical-align: middle;\n",
       "    }\n",
       "\n",
       "    .dataframe tbody tr th {\n",
       "        vertical-align: top;\n",
       "    }\n",
       "\n",
       "    .dataframe thead th {\n",
       "        text-align: right;\n",
       "    }\n",
       "</style>\n",
       "<table border=\"1\" class=\"dataframe\">\n",
       "  <thead>\n",
       "    <tr style=\"text-align: right;\">\n",
       "      <th></th>\n",
       "      <th>site_code</th>\n",
       "      <th>Ni</th>\n",
       "      <th>Fe</th>\n",
       "      <th>wamex_lat</th>\n",
       "      <th>wamex_lon</th>\n",
       "      <th>Co_pred</th>\n",
       "      <th>RF_Co_pred</th>\n",
       "      <th>SVR_Co_pred</th>\n",
       "    </tr>\n",
       "  </thead>\n",
       "  <tbody>\n",
       "    <tr>\n",
       "      <th>0</th>\n",
       "      <td>S0001174</td>\n",
       "      <td>8.699515</td>\n",
       "      <td>11.280993</td>\n",
       "      <td>-33.633382</td>\n",
       "      <td>120.374303</td>\n",
       "      <td>243.198764</td>\n",
       "      <td>439.556900</td>\n",
       "      <td>190.988848</td>\n",
       "    </tr>\n",
       "    <tr>\n",
       "      <th>1</th>\n",
       "      <td>S0004371</td>\n",
       "      <td>9.200290</td>\n",
       "      <td>12.691580</td>\n",
       "      <td>-29.125713</td>\n",
       "      <td>122.999515</td>\n",
       "      <td>276.991202</td>\n",
       "      <td>205.243465</td>\n",
       "      <td>188.888353</td>\n",
       "    </tr>\n",
       "    <tr>\n",
       "      <th>2</th>\n",
       "      <td>S0004371</td>\n",
       "      <td>9.200290</td>\n",
       "      <td>12.691580</td>\n",
       "      <td>-29.125713</td>\n",
       "      <td>122.999515</td>\n",
       "      <td>276.991202</td>\n",
       "      <td>205.243465</td>\n",
       "      <td>188.888353</td>\n",
       "    </tr>\n",
       "    <tr>\n",
       "      <th>3</th>\n",
       "      <td>S0005631</td>\n",
       "      <td>8.732305</td>\n",
       "      <td>11.589887</td>\n",
       "      <td>-33.666733</td>\n",
       "      <td>120.400034</td>\n",
       "      <td>252.392213</td>\n",
       "      <td>851.598956</td>\n",
       "      <td>197.334269</td>\n",
       "    </tr>\n",
       "    <tr>\n",
       "      <th>4</th>\n",
       "      <td>S0006586</td>\n",
       "      <td>8.612503</td>\n",
       "      <td>11.635143</td>\n",
       "      <td>-33.592899</td>\n",
       "      <td>120.280502</td>\n",
       "      <td>240.918340</td>\n",
       "      <td>369.323614</td>\n",
       "      <td>190.174864</td>\n",
       "    </tr>\n",
       "  </tbody>\n",
       "</table>\n",
       "</div>"
      ],
      "text/plain": [
       "  site_code        Ni         Fe  wamex_lat   wamex_lon     Co_pred  \\\n",
       "0  S0001174  8.699515  11.280993 -33.633382  120.374303  243.198764   \n",
       "1  S0004371  9.200290  12.691580 -29.125713  122.999515  276.991202   \n",
       "2  S0004371  9.200290  12.691580 -29.125713  122.999515  276.991202   \n",
       "3  S0005631  8.732305  11.589887 -33.666733  120.400034  252.392213   \n",
       "4  S0006586  8.612503  11.635143 -33.592899  120.280502  240.918340   \n",
       "\n",
       "   RF_Co_pred  SVR_Co_pred  \n",
       "0  439.556900   190.988848  \n",
       "1  205.243465   188.888353  \n",
       "2  205.243465   188.888353  \n",
       "3  851.598956   197.334269  \n",
       "4  369.323614   190.174864  "
      ]
     },
     "execution_count": 73,
     "metadata": {},
     "output_type": "execute_result"
    }
   ],
   "source": [
    "pred_set['SVR_Co_pred'] = svr.predict(pred_X)\n",
    "pred_set['SVR_Co_pred'] = np.exp(pred_set['SVR_Co_pred'])\n",
    "pred_set.head()"
   ]
  },
  {
   "cell_type": "code",
   "execution_count": 74,
   "metadata": {},
   "outputs": [
    {
     "data": {
      "text/html": [
       "<div>\n",
       "<style scoped>\n",
       "    .dataframe tbody tr th:only-of-type {\n",
       "        vertical-align: middle;\n",
       "    }\n",
       "\n",
       "    .dataframe tbody tr th {\n",
       "        vertical-align: top;\n",
       "    }\n",
       "\n",
       "    .dataframe thead th {\n",
       "        text-align: right;\n",
       "    }\n",
       "</style>\n",
       "<table border=\"1\" class=\"dataframe\">\n",
       "  <thead>\n",
       "    <tr style=\"text-align: right;\">\n",
       "      <th></th>\n",
       "      <th>site_code</th>\n",
       "      <th>Co_pred</th>\n",
       "      <th>RF_Co_pred</th>\n",
       "      <th>SVR_Co_pred</th>\n",
       "      <th>Co_true</th>\n",
       "    </tr>\n",
       "  </thead>\n",
       "  <tbody>\n",
       "    <tr>\n",
       "      <th>0</th>\n",
       "      <td>S0001174</td>\n",
       "      <td>243.198764</td>\n",
       "      <td>439.556900</td>\n",
       "      <td>190.988848</td>\n",
       "      <td>200.0</td>\n",
       "    </tr>\n",
       "    <tr>\n",
       "      <th>1</th>\n",
       "      <td>S0004371</td>\n",
       "      <td>276.991202</td>\n",
       "      <td>205.243465</td>\n",
       "      <td>188.888353</td>\n",
       "      <td>1000.0</td>\n",
       "    </tr>\n",
       "    <tr>\n",
       "      <th>2</th>\n",
       "      <td>S0004371</td>\n",
       "      <td>276.991202</td>\n",
       "      <td>205.243465</td>\n",
       "      <td>188.888353</td>\n",
       "      <td>1000.0</td>\n",
       "    </tr>\n",
       "    <tr>\n",
       "      <th>3</th>\n",
       "      <td>S0005631</td>\n",
       "      <td>252.392213</td>\n",
       "      <td>851.598956</td>\n",
       "      <td>197.334269</td>\n",
       "      <td>300.0</td>\n",
       "    </tr>\n",
       "    <tr>\n",
       "      <th>4</th>\n",
       "      <td>S0006586</td>\n",
       "      <td>240.918340</td>\n",
       "      <td>369.323614</td>\n",
       "      <td>190.174864</td>\n",
       "      <td>200.0</td>\n",
       "    </tr>\n",
       "    <tr>\n",
       "      <th>5</th>\n",
       "      <td>S0006685</td>\n",
       "      <td>260.138942</td>\n",
       "      <td>851.598956</td>\n",
       "      <td>202.781400</td>\n",
       "      <td>300.0</td>\n",
       "    </tr>\n",
       "    <tr>\n",
       "      <th>6</th>\n",
       "      <td>S0016710</td>\n",
       "      <td>308.303376</td>\n",
       "      <td>438.290424</td>\n",
       "      <td>213.269802</td>\n",
       "      <td>840.0</td>\n",
       "    </tr>\n",
       "    <tr>\n",
       "      <th>7</th>\n",
       "      <td>S0016719</td>\n",
       "      <td>281.243668</td>\n",
       "      <td>312.253258</td>\n",
       "      <td>191.889861</td>\n",
       "      <td>840.0</td>\n",
       "    </tr>\n",
       "    <tr>\n",
       "      <th>8</th>\n",
       "      <td>S0018838</td>\n",
       "      <td>253.285503</td>\n",
       "      <td>843.140466</td>\n",
       "      <td>197.808680</td>\n",
       "      <td>300.0</td>\n",
       "    </tr>\n",
       "    <tr>\n",
       "      <th>9</th>\n",
       "      <td>S0018919</td>\n",
       "      <td>260.959459</td>\n",
       "      <td>328.542155</td>\n",
       "      <td>179.163509</td>\n",
       "      <td>900.0</td>\n",
       "    </tr>\n",
       "    <tr>\n",
       "      <th>10</th>\n",
       "      <td>S0018919</td>\n",
       "      <td>260.959459</td>\n",
       "      <td>328.542155</td>\n",
       "      <td>179.163509</td>\n",
       "      <td>900.0</td>\n",
       "    </tr>\n",
       "    <tr>\n",
       "      <th>11</th>\n",
       "      <td>S0020571</td>\n",
       "      <td>291.092922</td>\n",
       "      <td>332.743528</td>\n",
       "      <td>199.906206</td>\n",
       "      <td>690.0</td>\n",
       "    </tr>\n",
       "    <tr>\n",
       "      <th>12</th>\n",
       "      <td>S0020966</td>\n",
       "      <td>465.404147</td>\n",
       "      <td>1047.367194</td>\n",
       "      <td>310.357585</td>\n",
       "      <td>500.0</td>\n",
       "    </tr>\n",
       "    <tr>\n",
       "      <th>13</th>\n",
       "      <td>S0022918</td>\n",
       "      <td>227.385353</td>\n",
       "      <td>255.987043</td>\n",
       "      <td>167.651154</td>\n",
       "      <td>300.0</td>\n",
       "    </tr>\n",
       "    <tr>\n",
       "      <th>14</th>\n",
       "      <td>S0224398</td>\n",
       "      <td>78.640643</td>\n",
       "      <td>137.236123</td>\n",
       "      <td>56.258524</td>\n",
       "      <td>130.0</td>\n",
       "    </tr>\n",
       "    <tr>\n",
       "      <th>15</th>\n",
       "      <td>S0224398</td>\n",
       "      <td>78.640643</td>\n",
       "      <td>137.236123</td>\n",
       "      <td>56.258524</td>\n",
       "      <td>130.0</td>\n",
       "    </tr>\n",
       "    <tr>\n",
       "      <th>16</th>\n",
       "      <td>S0226200</td>\n",
       "      <td>312.191334</td>\n",
       "      <td>465.031672</td>\n",
       "      <td>221.431463</td>\n",
       "      <td>720.0</td>\n",
       "    </tr>\n",
       "    <tr>\n",
       "      <th>17</th>\n",
       "      <td>S0229459</td>\n",
       "      <td>235.241618</td>\n",
       "      <td>395.793876</td>\n",
       "      <td>186.052150</td>\n",
       "      <td>200.0</td>\n",
       "    </tr>\n",
       "    <tr>\n",
       "      <th>18</th>\n",
       "      <td>S0230774</td>\n",
       "      <td>333.120091</td>\n",
       "      <td>706.233911</td>\n",
       "      <td>226.087580</td>\n",
       "      <td>470.0</td>\n",
       "    </tr>\n",
       "    <tr>\n",
       "      <th>19</th>\n",
       "      <td>S0230776</td>\n",
       "      <td>311.449973</td>\n",
       "      <td>520.245539</td>\n",
       "      <td>214.160128</td>\n",
       "      <td>790.0</td>\n",
       "    </tr>\n",
       "    <tr>\n",
       "      <th>20</th>\n",
       "      <td>S0230931</td>\n",
       "      <td>436.915859</td>\n",
       "      <td>326.186462</td>\n",
       "      <td>301.146462</td>\n",
       "      <td>400.0</td>\n",
       "    </tr>\n",
       "    <tr>\n",
       "      <th>21</th>\n",
       "      <td>S0232040</td>\n",
       "      <td>319.292995</td>\n",
       "      <td>210.443747</td>\n",
       "      <td>217.278598</td>\n",
       "      <td>800.0</td>\n",
       "    </tr>\n",
       "    <tr>\n",
       "      <th>22</th>\n",
       "      <td>S0232041</td>\n",
       "      <td>312.929731</td>\n",
       "      <td>160.985428</td>\n",
       "      <td>213.475747</td>\n",
       "      <td>750.0</td>\n",
       "    </tr>\n",
       "  </tbody>\n",
       "</table>\n",
       "</div>"
      ],
      "text/plain": [
       "   site_code     Co_pred   RF_Co_pred  SVR_Co_pred  Co_true\n",
       "0   S0001174  243.198764   439.556900   190.988848    200.0\n",
       "1   S0004371  276.991202   205.243465   188.888353   1000.0\n",
       "2   S0004371  276.991202   205.243465   188.888353   1000.0\n",
       "3   S0005631  252.392213   851.598956   197.334269    300.0\n",
       "4   S0006586  240.918340   369.323614   190.174864    200.0\n",
       "5   S0006685  260.138942   851.598956   202.781400    300.0\n",
       "6   S0016710  308.303376   438.290424   213.269802    840.0\n",
       "7   S0016719  281.243668   312.253258   191.889861    840.0\n",
       "8   S0018838  253.285503   843.140466   197.808680    300.0\n",
       "9   S0018919  260.959459   328.542155   179.163509    900.0\n",
       "10  S0018919  260.959459   328.542155   179.163509    900.0\n",
       "11  S0020571  291.092922   332.743528   199.906206    690.0\n",
       "12  S0020966  465.404147  1047.367194   310.357585    500.0\n",
       "13  S0022918  227.385353   255.987043   167.651154    300.0\n",
       "14  S0224398   78.640643   137.236123    56.258524    130.0\n",
       "15  S0224398   78.640643   137.236123    56.258524    130.0\n",
       "16  S0226200  312.191334   465.031672   221.431463    720.0\n",
       "17  S0229459  235.241618   395.793876   186.052150    200.0\n",
       "18  S0230774  333.120091   706.233911   226.087580    470.0\n",
       "19  S0230776  311.449973   520.245539   214.160128    790.0\n",
       "20  S0230931  436.915859   326.186462   301.146462    400.0\n",
       "21  S0232040  319.292995   210.443747   217.278598    800.0\n",
       "22  S0232041  312.929731   160.985428   213.475747    750.0"
      ]
     },
     "execution_count": 74,
     "metadata": {},
     "output_type": "execute_result"
    }
   ],
   "source": [
    "cross_ref = pred_set[['site_code', 'Co_pred', 'RF_Co_pred', 'SVR_Co_pred']].merge(minedex_co_uniq[['SiteCode', 'ppm']],\n",
    "                                        left_on='site_code', \n",
    "                                        right_on='SiteCode')\n",
    "\n",
    "cross_ref = cross_ref.rename(columns={\n",
    "    \"ppm\": \"Co_true\"\n",
    "})\n",
    "\n",
    "cross_ref.drop(columns=['SiteCode'])"
   ]
  },
  {
   "cell_type": "code",
   "execution_count": null,
   "metadata": {},
   "outputs": [],
   "source": [
    "mean_squared_error(cross_ref['SVR_Co_pred'], cross_ref['Co_true'])"
   ]
  }
 ],
 "metadata": {
  "kernelspec": {
   "display_name": "Python 3",
   "language": "python",
   "name": "python3"
  },
  "language_info": {
   "codemirror_mode": {
    "name": "ipython",
    "version": 3
   },
   "file_extension": ".py",
   "mimetype": "text/x-python",
   "name": "python",
   "nbconvert_exporter": "python",
   "pygments_lexer": "ipython3",
   "version": "3.8.5"
  }
 },
 "nbformat": 4,
 "nbformat_minor": 5
}
