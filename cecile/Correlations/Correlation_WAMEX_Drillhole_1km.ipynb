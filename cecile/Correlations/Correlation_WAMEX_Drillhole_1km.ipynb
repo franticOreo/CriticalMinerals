{
 "cells": [
  {
   "cell_type": "markdown",
   "metadata": {},
   "source": [
    "# Correlation WAMEX Drillhole"
   ]
  },
  {
   "cell_type": "markdown",
   "metadata": {},
   "source": [
<<<<<<< HEAD
    "10% of the entire data due to large volume of entire data (8 GB). For each CM, we get WAMEX Drillhole assays that were within 15km of the relevant MINEDEX sites. Then we filter those that were within 1km and run correlations. We remove obvious outliers and observe highest/lowest correlations involving the CM, as well as correlations between the CM and MINEDEX commodities available for the relevant MINEDEX sites. "
=======
    "We use only Drillhole assays that were within 1km of MINEDEX relevant sites. "
>>>>>>> cecile
   ]
  },
  {
   "cell_type": "code",
   "execution_count": 69,
   "metadata": {},
   "outputs": [],
   "source": [
    "import pandas as pd\n",
    "import matplotlib.pyplot as plt\n",
    "import numpy as np\n",
    "pd.options.mode.chained_assignment = None"
   ]
  },
  {
   "cell_type": "code",
   "execution_count": 70,
   "metadata": {},
   "outputs": [],
   "source": [
    "#need to change distance column to numeric\n",
    "def dist_to_float(val):\n",
    "        val = val[0:-3]\n",
    "        return float(val)"
   ]
  },
  {
   "cell_type": "code",
   "execution_count": 71,
   "metadata": {},
   "outputs": [],
   "source": [
    "#cleaning functions\n",
    "def replace_neg9999(val):\n",
    "    if val == -9999: \n",
    "        return 0\n",
    "    else:\n",
    "        return val\n",
    "    \n",
    "def abs_halve_neg_val(val):\n",
    "    if val < 0: \n",
    "        return abs(val) / 2\n",
    "    else: \n",
    "        return val\n",
    "\n",
    "def clean_assays(df):\n",
    "    df = df.applymap(replace_neg9999)\n",
    "    df = df.applymap(abs_halve_neg_val)\n",
    "    \n",
    "    return df"
   ]
  },
  {
   "cell_type": "markdown",
   "metadata": {},
   "source": [
    "## Cobalt"
   ]
  },
  {
   "cell_type": "code",
   "execution_count": 5,
   "metadata": {},
   "outputs": [],
   "source": [
    "Merged_Ni_Drillhole_lessthan15km = pd.read_csv('Merged_Ni_Drillhole_lessthan15km.csv')"
   ]
  },
  {
   "cell_type": "code",
   "execution_count": 6,
   "metadata": {},
   "outputs": [
    {
     "data": {
      "text/plain": [
       "count                   1016489\n",
       "unique                   101583\n",
       "top       0.9607957208912363 km\n",
       "freq                       1592\n",
       "Name: distance, dtype: object"
      ]
     },
     "execution_count": 6,
     "metadata": {},
     "output_type": "execute_result"
    }
   ],
   "source": [
    "Merged_Ni_Drillhole_lessthan15km['distance'].describe()"
   ]
  },
  {
   "cell_type": "code",
   "execution_count": 9,
   "metadata": {},
   "outputs": [],
   "source": [
    "for i in range(0, len(Merged_Ni_Drillhole_lessthan15km)):\n",
    "    Merged_Ni_Drillhole_lessthan15km.at[i, 'distance'] = dist_to_float(Merged_Ni_Drillhole_lessthan15km.at[i, 'distance'])"
   ]
  },
  {
   "cell_type": "code",
   "execution_count": 10,
   "metadata": {},
   "outputs": [
    {
     "data": {
      "text/plain": [
       "(220757, 179)"
      ]
     },
     "execution_count": 10,
     "metadata": {},
     "output_type": "execute_result"
    }
   ],
   "source": [
    "Merged_Ni_Drillhole_lessthan15km = Merged_Ni_Drillhole_lessthan15km[Merged_Ni_Drillhole_lessthan15km['distance']<=1]\n",
    "Merged_Ni_Drillhole_lessthan15km.shape"
   ]
  },
  {
   "cell_type": "code",
   "execution_count": 11,
   "metadata": {},
   "outputs": [],
   "source": [
    "#remove duplicates\n",
    "df_Co = Merged_Ni_Drillhole_lessthan15km.drop(columns=['Unnamed: 0', 'Unnamed: 0_x', 'Unnamed: 0_y', 'Latitude', 'Longitude', \n",
    "                     'minedex_coords', 'minedex_site',\n",
    "                    'distance'])"
   ]
  },
  {
   "cell_type": "code",
   "execution_count": 12,
   "metadata": {},
   "outputs": [
    {
     "data": {
      "text/html": [
       "<div>\n",
       "<style scoped>\n",
       "    .dataframe tbody tr th:only-of-type {\n",
       "        vertical-align: middle;\n",
       "    }\n",
       "\n",
       "    .dataframe tbody tr th {\n",
       "        vertical-align: top;\n",
       "    }\n",
       "\n",
       "    .dataframe thead th {\n",
       "        text-align: right;\n",
       "    }\n",
       "</style>\n",
       "<table border=\"1\" class=\"dataframe\">\n",
       "  <thead>\n",
       "    <tr style=\"text-align: right;\">\n",
       "      <th></th>\n",
       "      <th>CollarId</th>\n",
       "      <th>CompanyHoleId</th>\n",
       "      <th>HoleType</th>\n",
       "      <th>Azimuth</th>\n",
       "      <th>Dip</th>\n",
       "      <th>MaxDepth</th>\n",
       "      <th>Anumber</th>\n",
       "      <th>SampleId</th>\n",
       "      <th>CompanySampleId</th>\n",
       "      <th>FromDepth</th>\n",
       "      <th>...</th>\n",
       "      <th>Y_PPM</th>\n",
       "      <th>Y2O3_PPM</th>\n",
       "      <th>Yb_PPM</th>\n",
       "      <th>Yb2O3_PPM</th>\n",
       "      <th>Zn_PPM</th>\n",
       "      <th>ZnO_PPM</th>\n",
       "      <th>Zr_PPM</th>\n",
       "      <th>ZrO2_PPM</th>\n",
       "      <th>wamex_lat</th>\n",
       "      <th>wamex_lon</th>\n",
       "    </tr>\n",
       "  </thead>\n",
       "  <tbody>\n",
       "    <tr>\n",
       "      <th>1</th>\n",
       "      <td>868290</td>\n",
       "      <td>AMD352</td>\n",
       "      <td>DD</td>\n",
       "      <td>360</td>\n",
       "      <td>-90</td>\n",
       "      <td>338.6</td>\n",
       "      <td>79089</td>\n",
       "      <td>18042279</td>\n",
       "      <td>CD011299</td>\n",
       "      <td>86.0</td>\n",
       "      <td>...</td>\n",
       "      <td>-9999.0</td>\n",
       "      <td>-9999.0</td>\n",
       "      <td>-9999.0</td>\n",
       "      <td>-9999.0</td>\n",
       "      <td>82.0</td>\n",
       "      <td>-9999.0</td>\n",
       "      <td>8.0</td>\n",
       "      <td>-9999.0</td>\n",
       "      <td>-27.606633</td>\n",
       "      <td>120.573672</td>\n",
       "    </tr>\n",
       "    <tr>\n",
       "      <th>19</th>\n",
       "      <td>868286</td>\n",
       "      <td>AMD348</td>\n",
       "      <td>DD</td>\n",
       "      <td>360</td>\n",
       "      <td>-90</td>\n",
       "      <td>377.9</td>\n",
       "      <td>79089</td>\n",
       "      <td>18040715</td>\n",
       "      <td>1156461</td>\n",
       "      <td>287.0</td>\n",
       "      <td>...</td>\n",
       "      <td>-9999.0</td>\n",
       "      <td>-9999.0</td>\n",
       "      <td>-9999.0</td>\n",
       "      <td>-9999.0</td>\n",
       "      <td>-9999.0</td>\n",
       "      <td>-9999.0</td>\n",
       "      <td>7.0</td>\n",
       "      <td>-9999.0</td>\n",
       "      <td>-27.606633</td>\n",
       "      <td>120.573672</td>\n",
       "    </tr>\n",
       "    <tr>\n",
       "      <th>37</th>\n",
       "      <td>868288</td>\n",
       "      <td>AMD350</td>\n",
       "      <td>DD</td>\n",
       "      <td>360</td>\n",
       "      <td>-90</td>\n",
       "      <td>374.8</td>\n",
       "      <td>79089</td>\n",
       "      <td>18041566</td>\n",
       "      <td>CD013428</td>\n",
       "      <td>211.0</td>\n",
       "      <td>...</td>\n",
       "      <td>-9999.0</td>\n",
       "      <td>-9999.0</td>\n",
       "      <td>-9999.0</td>\n",
       "      <td>-9999.0</td>\n",
       "      <td>50.0</td>\n",
       "      <td>-9999.0</td>\n",
       "      <td>-5.0</td>\n",
       "      <td>-9999.0</td>\n",
       "      <td>-27.606633</td>\n",
       "      <td>120.573672</td>\n",
       "    </tr>\n",
       "    <tr>\n",
       "      <th>55</th>\n",
       "      <td>868287</td>\n",
       "      <td>AMD349</td>\n",
       "      <td>DD</td>\n",
       "      <td>360</td>\n",
       "      <td>-90</td>\n",
       "      <td>349.3</td>\n",
       "      <td>79089</td>\n",
       "      <td>18041158</td>\n",
       "      <td>1158442</td>\n",
       "      <td>217.0</td>\n",
       "      <td>...</td>\n",
       "      <td>-9999.0</td>\n",
       "      <td>-9999.0</td>\n",
       "      <td>-9999.0</td>\n",
       "      <td>-9999.0</td>\n",
       "      <td>82.0</td>\n",
       "      <td>-9999.0</td>\n",
       "      <td>12.0</td>\n",
       "      <td>-9999.0</td>\n",
       "      <td>-27.606633</td>\n",
       "      <td>120.573672</td>\n",
       "    </tr>\n",
       "    <tr>\n",
       "      <th>73</th>\n",
       "      <td>868286</td>\n",
       "      <td>AMD348</td>\n",
       "      <td>DD</td>\n",
       "      <td>360</td>\n",
       "      <td>-90</td>\n",
       "      <td>377.9</td>\n",
       "      <td>79089</td>\n",
       "      <td>18040407</td>\n",
       "      <td>1156228</td>\n",
       "      <td>92.0</td>\n",
       "      <td>...</td>\n",
       "      <td>-9999.0</td>\n",
       "      <td>-9999.0</td>\n",
       "      <td>-9999.0</td>\n",
       "      <td>-9999.0</td>\n",
       "      <td>50.0</td>\n",
       "      <td>-9999.0</td>\n",
       "      <td>-5.0</td>\n",
       "      <td>-9999.0</td>\n",
       "      <td>-27.606633</td>\n",
       "      <td>120.573672</td>\n",
       "    </tr>\n",
       "  </tbody>\n",
       "</table>\n",
       "<p>5 rows × 171 columns</p>\n",
       "</div>"
      ],
      "text/plain": [
       "    CollarId CompanyHoleId HoleType  Azimuth  Dip  MaxDepth  Anumber  \\\n",
       "1     868290        AMD352       DD      360  -90     338.6    79089   \n",
       "19    868286        AMD348       DD      360  -90     377.9    79089   \n",
       "37    868288        AMD350       DD      360  -90     374.8    79089   \n",
       "55    868287        AMD349       DD      360  -90     349.3    79089   \n",
       "73    868286        AMD348       DD      360  -90     377.9    79089   \n",
       "\n",
       "    SampleId CompanySampleId  FromDepth  ...   Y_PPM  Y2O3_PPM  Yb_PPM  \\\n",
       "1   18042279        CD011299       86.0  ... -9999.0   -9999.0 -9999.0   \n",
       "19  18040715         1156461      287.0  ... -9999.0   -9999.0 -9999.0   \n",
       "37  18041566        CD013428      211.0  ... -9999.0   -9999.0 -9999.0   \n",
       "55  18041158         1158442      217.0  ... -9999.0   -9999.0 -9999.0   \n",
       "73  18040407         1156228       92.0  ... -9999.0   -9999.0 -9999.0   \n",
       "\n",
       "    Yb2O3_PPM  Zn_PPM  ZnO_PPM  Zr_PPM  ZrO2_PPM  wamex_lat   wamex_lon  \n",
       "1     -9999.0    82.0  -9999.0     8.0   -9999.0 -27.606633  120.573672  \n",
       "19    -9999.0 -9999.0  -9999.0     7.0   -9999.0 -27.606633  120.573672  \n",
       "37    -9999.0    50.0  -9999.0    -5.0   -9999.0 -27.606633  120.573672  \n",
       "55    -9999.0    82.0  -9999.0    12.0   -9999.0 -27.606633  120.573672  \n",
       "73    -9999.0    50.0  -9999.0    -5.0   -9999.0 -27.606633  120.573672  \n",
       "\n",
       "[5 rows x 171 columns]"
      ]
     },
     "execution_count": 12,
     "metadata": {},
     "output_type": "execute_result"
    }
   ],
   "source": [
    "df_Co = df_Co.drop_duplicates()\n",
    "df_Co.head()"
   ]
  },
  {
   "cell_type": "code",
   "execution_count": 13,
   "metadata": {},
   "outputs": [
    {
     "data": {
      "text/plain": [
       "(58042, 171)"
      ]
     },
     "execution_count": 13,
     "metadata": {},
     "output_type": "execute_result"
    }
   ],
   "source": [
    "df_Co.shape"
   ]
  },
  {
   "cell_type": "code",
   "execution_count": 14,
   "metadata": {},
   "outputs": [
    {
     "data": {
      "text/plain": [
       "1800"
      ]
     },
     "execution_count": 14,
     "metadata": {},
     "output_type": "execute_result"
    }
   ],
   "source": [
    "df_Co.isna().sum().sum()"
   ]
  },
  {
   "cell_type": "code",
   "execution_count": 16,
   "metadata": {},
   "outputs": [],
   "source": [
    "#change NAs to 0\n",
    "df_Co = df_Co.fillna(0)"
   ]
  },
  {
   "cell_type": "code",
   "execution_count": 17,
   "metadata": {},
   "outputs": [],
   "source": [
    "#only keep ppm columns\n",
    "df_Co_ppm = df_Co.filter(like='PPM')"
   ]
  },
  {
   "cell_type": "code",
   "execution_count": 18,
   "metadata": {},
   "outputs": [],
   "source": [
    "#also keep coordonates\n",
    "df_Co_ppm['wamex_lon'] = df_Co['wamex_lon']\n",
    "df_Co_ppm['wamex_lat'] = df_Co['wamex_lat']"
   ]
  },
  {
   "cell_type": "code",
   "execution_count": 19,
   "metadata": {},
   "outputs": [
    {
     "data": {
      "text/plain": [
       "(58042, 160)"
      ]
     },
     "execution_count": 19,
     "metadata": {},
     "output_type": "execute_result"
    }
   ],
   "source": [
    "df_minerals = df_Co_ppm.drop(columns=['wamex_lat', 'wamex_lon'])\n",
    "\n",
    "df_Co_ppm.loc[:, df_minerals.columns] = clean_assays(df_Co_ppm.loc[:,df_minerals.columns])\n",
    "df_Co_ppm.shape"
   ]
  },
  {
   "cell_type": "code",
   "execution_count": 20,
   "metadata": {},
   "outputs": [
    {
     "data": {
      "text/plain": [
       "(57916, 160)"
      ]
     },
     "execution_count": 20,
     "metadata": {},
     "output_type": "execute_result"
    }
   ],
   "source": [
    "df_Co_ppm = df_Co_ppm.drop_duplicates()\n",
    "df_Co_ppm.shape"
   ]
  },
  {
   "cell_type": "code",
   "execution_count": 21,
   "metadata": {},
   "outputs": [
    {
     "data": {
      "text/plain": [
       "(298, 160)"
      ]
     },
     "execution_count": 21,
     "metadata": {},
     "output_type": "execute_result"
    }
   ],
   "source": [
    "df_Co_ppm[df_Co_ppm['Ni_PPM'] > 300000].shape"
   ]
  },
  {
   "cell_type": "code",
   "execution_count": 22,
   "metadata": {},
   "outputs": [],
   "source": [
    "df_Co_ppm = df_Co_ppm[df_Co_ppm['Ni_PPM'] < 300000]"
   ]
  },
  {
   "cell_type": "code",
   "execution_count": 23,
   "metadata": {},
   "outputs": [
    {
     "data": {
      "text/plain": [
       "<AxesSubplot:>"
      ]
     },
     "execution_count": 23,
     "metadata": {},
     "output_type": "execute_result"
    },
    {
     "data": {
      "image/png": "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",
      "text/plain": [
       "<Figure size 432x288 with 1 Axes>"
      ]
     },
     "metadata": {
      "needs_background": "light"
     },
     "output_type": "display_data"
    }
   ],
   "source": [
    "df_Co_ppm['Co_PPM'].plot(kind='box')"
   ]
  },
  {
   "cell_type": "code",
   "execution_count": 24,
   "metadata": {},
   "outputs": [
    {
     "data": {
      "text/plain": [
       "(57617, 160)"
      ]
     },
     "execution_count": 24,
     "metadata": {},
     "output_type": "execute_result"
    }
   ],
   "source": [
    "df_Co_ppm.shape"
   ]
  },
  {
   "cell_type": "code",
   "execution_count": 25,
   "metadata": {},
   "outputs": [],
   "source": [
    "df_Co_corr = df_Co_ppm.corr()"
   ]
  },
  {
   "cell_type": "code",
   "execution_count": 26,
   "metadata": {},
   "outputs": [],
   "source": [
    "only_co = df_Co_corr['Co_PPM'].sort_values()"
   ]
  },
  {
   "cell_type": "code",
   "execution_count": 27,
   "metadata": {},
   "outputs": [
    {
     "data": {
      "text/plain": [
       "wamex_lat   -0.016646\n",
       "V_PPM       -0.015079\n",
       "Sr_PPM      -0.006182\n",
       "MgO2_PPM    -0.004456\n",
       "Ba_PPM      -0.003988\n",
       "Name: Co_PPM, dtype: float64"
      ]
     },
     "execution_count": 27,
     "metadata": {},
     "output_type": "execute_result"
    }
   ],
   "source": [
    "only_co[0:5]"
   ]
  },
  {
   "cell_type": "code",
   "execution_count": 39,
   "metadata": {},
   "outputs": [
    {
     "data": {
      "text/plain": [
       "As_PPM       0.002370\n",
       "Ni_PPM       0.003881\n",
       "wamex_lon    0.007858\n",
       "MgO_PPM      0.043312\n",
       "Al_PPM       0.086705\n",
       "Mg_PPM       0.137561\n",
       "S_PPM        0.162070\n",
       "Cr_PPM       0.274979\n",
       "Cu_PPM       0.502013\n",
       "Co_PPM       1.000000\n",
       "Name: Co_PPM, dtype: float64"
      ]
     },
     "execution_count": 39,
     "metadata": {},
     "output_type": "execute_result"
    }
   ],
   "source": [
    "#the ones before that are NaNs because they are all 0 values in df_Co_ppm\n",
    "only_co[-78:-68:]"
   ]
  },
  {
   "cell_type": "code",
   "execution_count": 40,
   "metadata": {},
   "outputs": [],
   "source": [
    "only_minedex_co = df_Co_ppm[['Ni_PPM','Cu_PPM','Co_PPM', 'Pd_PPM', 'Au_PPM','Pt_PPM', 'Rh_PPM', 'Fe_PPM', 'S_PPM', 'Ag_PPM', 'wamex_lon', 'wamex_lat']].corr()"
   ]
  },
  {
   "cell_type": "code",
   "execution_count": 41,
   "metadata": {},
   "outputs": [],
   "source": [
    "only_minedex_co['dataframe'] = 'WAMEX Drillhole'"
   ]
  },
  {
   "cell_type": "code",
   "execution_count": 42,
   "metadata": {},
   "outputs": [
    {
     "data": {
      "text/html": [
       "<div>\n",
       "<style scoped>\n",
       "    .dataframe tbody tr th:only-of-type {\n",
       "        vertical-align: middle;\n",
       "    }\n",
       "\n",
       "    .dataframe tbody tr th {\n",
       "        vertical-align: top;\n",
       "    }\n",
       "\n",
       "    .dataframe thead th {\n",
       "        text-align: right;\n",
       "    }\n",
       "</style>\n",
       "<table border=\"1\" class=\"dataframe\">\n",
       "  <thead>\n",
       "    <tr style=\"text-align: right;\">\n",
       "      <th></th>\n",
       "      <th>Ni_PPM</th>\n",
       "      <th>Cu_PPM</th>\n",
       "      <th>Co_PPM</th>\n",
       "      <th>Pd_PPM</th>\n",
       "      <th>Au_PPM</th>\n",
       "      <th>Pt_PPM</th>\n",
       "      <th>Rh_PPM</th>\n",
       "      <th>Fe_PPM</th>\n",
       "      <th>S_PPM</th>\n",
       "      <th>Ag_PPM</th>\n",
       "      <th>wamex_lon</th>\n",
       "      <th>wamex_lat</th>\n",
       "      <th>dataframe</th>\n",
       "    </tr>\n",
       "  </thead>\n",
       "  <tbody>\n",
       "    <tr>\n",
       "      <th>Ni_PPM</th>\n",
       "      <td>1.000000</td>\n",
       "      <td>0.003525</td>\n",
       "      <td>0.003881</td>\n",
       "      <td>0.063760</td>\n",
       "      <td>0.058099</td>\n",
       "      <td>0.028209</td>\n",
       "      <td>0.088918</td>\n",
       "      <td>0.001303</td>\n",
       "      <td>0.046014</td>\n",
       "      <td>-0.028122</td>\n",
       "      <td>0.009070</td>\n",
       "      <td>-0.051218</td>\n",
       "      <td>WAMEX Drillhole</td>\n",
       "    </tr>\n",
       "    <tr>\n",
       "      <th>Cu_PPM</th>\n",
       "      <td>0.003525</td>\n",
       "      <td>1.000000</td>\n",
       "      <td>0.502013</td>\n",
       "      <td>-0.000095</td>\n",
       "      <td>-0.000316</td>\n",
       "      <td>-0.000182</td>\n",
       "      <td>0.000448</td>\n",
       "      <td>-0.000471</td>\n",
       "      <td>0.262952</td>\n",
       "      <td>-0.002281</td>\n",
       "      <td>0.007980</td>\n",
       "      <td>-0.013378</td>\n",
       "      <td>WAMEX Drillhole</td>\n",
       "    </tr>\n",
       "    <tr>\n",
       "      <th>Co_PPM</th>\n",
       "      <td>0.003881</td>\n",
       "      <td>0.502013</td>\n",
       "      <td>1.000000</td>\n",
       "      <td>0.000289</td>\n",
       "      <td>-0.000565</td>\n",
       "      <td>-0.000239</td>\n",
       "      <td>0.000584</td>\n",
       "      <td>-0.000609</td>\n",
       "      <td>0.162070</td>\n",
       "      <td>-0.003172</td>\n",
       "      <td>0.007858</td>\n",
       "      <td>-0.016646</td>\n",
       "      <td>WAMEX Drillhole</td>\n",
       "    </tr>\n",
       "    <tr>\n",
       "      <th>Pd_PPM</th>\n",
       "      <td>0.063760</td>\n",
       "      <td>-0.000095</td>\n",
       "      <td>0.000289</td>\n",
       "      <td>1.000000</td>\n",
       "      <td>0.008985</td>\n",
       "      <td>0.024397</td>\n",
       "      <td>0.001042</td>\n",
       "      <td>-0.000059</td>\n",
       "      <td>0.438494</td>\n",
       "      <td>-0.000412</td>\n",
       "      <td>0.002282</td>\n",
       "      <td>-0.002223</td>\n",
       "      <td>WAMEX Drillhole</td>\n",
       "    </tr>\n",
       "    <tr>\n",
       "      <th>Au_PPM</th>\n",
       "      <td>0.058099</td>\n",
       "      <td>-0.000316</td>\n",
       "      <td>-0.000565</td>\n",
       "      <td>0.008985</td>\n",
       "      <td>1.000000</td>\n",
       "      <td>0.004608</td>\n",
       "      <td>0.000919</td>\n",
       "      <td>0.198353</td>\n",
       "      <td>0.003355</td>\n",
       "      <td>0.018778</td>\n",
       "      <td>-0.000115</td>\n",
       "      <td>-0.006067</td>\n",
       "      <td>WAMEX Drillhole</td>\n",
       "    </tr>\n",
       "    <tr>\n",
       "      <th>Pt_PPM</th>\n",
       "      <td>0.028209</td>\n",
       "      <td>-0.000182</td>\n",
       "      <td>-0.000239</td>\n",
       "      <td>0.024397</td>\n",
       "      <td>0.004608</td>\n",
       "      <td>1.000000</td>\n",
       "      <td>0.001202</td>\n",
       "      <td>-0.000156</td>\n",
       "      <td>0.010791</td>\n",
       "      <td>-0.000569</td>\n",
       "      <td>0.025739</td>\n",
       "      <td>0.007374</td>\n",
       "      <td>WAMEX Drillhole</td>\n",
       "    </tr>\n",
       "    <tr>\n",
       "      <th>Rh_PPM</th>\n",
       "      <td>0.088918</td>\n",
       "      <td>0.000448</td>\n",
       "      <td>0.000584</td>\n",
       "      <td>0.001042</td>\n",
       "      <td>0.000919</td>\n",
       "      <td>0.001202</td>\n",
       "      <td>1.000000</td>\n",
       "      <td>-0.000259</td>\n",
       "      <td>-0.000360</td>\n",
       "      <td>-0.002162</td>\n",
       "      <td>0.008745</td>\n",
       "      <td>0.010162</td>\n",
       "      <td>WAMEX Drillhole</td>\n",
       "    </tr>\n",
       "    <tr>\n",
       "      <th>Fe_PPM</th>\n",
       "      <td>0.001303</td>\n",
       "      <td>-0.000471</td>\n",
       "      <td>-0.000609</td>\n",
       "      <td>-0.000059</td>\n",
       "      <td>0.198353</td>\n",
       "      <td>-0.000156</td>\n",
       "      <td>-0.000259</td>\n",
       "      <td>1.000000</td>\n",
       "      <td>-0.000316</td>\n",
       "      <td>-0.001878</td>\n",
       "      <td>0.005847</td>\n",
       "      <td>-0.020456</td>\n",
       "      <td>WAMEX Drillhole</td>\n",
       "    </tr>\n",
       "    <tr>\n",
       "      <th>S_PPM</th>\n",
       "      <td>0.046014</td>\n",
       "      <td>0.262952</td>\n",
       "      <td>0.162070</td>\n",
       "      <td>0.438494</td>\n",
       "      <td>0.003355</td>\n",
       "      <td>0.010791</td>\n",
       "      <td>-0.000360</td>\n",
       "      <td>-0.000316</td>\n",
       "      <td>1.000000</td>\n",
       "      <td>-0.001922</td>\n",
       "      <td>0.015478</td>\n",
       "      <td>0.002766</td>\n",
       "      <td>WAMEX Drillhole</td>\n",
       "    </tr>\n",
       "    <tr>\n",
       "      <th>Ag_PPM</th>\n",
       "      <td>-0.028122</td>\n",
       "      <td>-0.002281</td>\n",
       "      <td>-0.003172</td>\n",
       "      <td>-0.000412</td>\n",
       "      <td>0.018778</td>\n",
       "      <td>-0.000569</td>\n",
       "      <td>-0.002162</td>\n",
       "      <td>-0.001878</td>\n",
       "      <td>-0.001922</td>\n",
       "      <td>1.000000</td>\n",
       "      <td>0.013140</td>\n",
       "      <td>-0.082229</td>\n",
       "      <td>WAMEX Drillhole</td>\n",
       "    </tr>\n",
       "    <tr>\n",
       "      <th>wamex_lon</th>\n",
       "      <td>0.009070</td>\n",
       "      <td>0.007980</td>\n",
       "      <td>0.007858</td>\n",
       "      <td>0.002282</td>\n",
       "      <td>-0.000115</td>\n",
       "      <td>0.025739</td>\n",
       "      <td>0.008745</td>\n",
       "      <td>0.005847</td>\n",
       "      <td>0.015478</td>\n",
       "      <td>0.013140</td>\n",
       "      <td>1.000000</td>\n",
       "      <td>0.267513</td>\n",
       "      <td>WAMEX Drillhole</td>\n",
       "    </tr>\n",
       "    <tr>\n",
       "      <th>wamex_lat</th>\n",
       "      <td>-0.051218</td>\n",
       "      <td>-0.013378</td>\n",
       "      <td>-0.016646</td>\n",
       "      <td>-0.002223</td>\n",
       "      <td>-0.006067</td>\n",
       "      <td>0.007374</td>\n",
       "      <td>0.010162</td>\n",
       "      <td>-0.020456</td>\n",
       "      <td>0.002766</td>\n",
       "      <td>-0.082229</td>\n",
       "      <td>0.267513</td>\n",
       "      <td>1.000000</td>\n",
       "      <td>WAMEX Drillhole</td>\n",
       "    </tr>\n",
       "  </tbody>\n",
       "</table>\n",
       "</div>"
      ],
      "text/plain": [
       "             Ni_PPM    Cu_PPM    Co_PPM    Pd_PPM    Au_PPM    Pt_PPM  \\\n",
       "Ni_PPM     1.000000  0.003525  0.003881  0.063760  0.058099  0.028209   \n",
       "Cu_PPM     0.003525  1.000000  0.502013 -0.000095 -0.000316 -0.000182   \n",
       "Co_PPM     0.003881  0.502013  1.000000  0.000289 -0.000565 -0.000239   \n",
       "Pd_PPM     0.063760 -0.000095  0.000289  1.000000  0.008985  0.024397   \n",
       "Au_PPM     0.058099 -0.000316 -0.000565  0.008985  1.000000  0.004608   \n",
       "Pt_PPM     0.028209 -0.000182 -0.000239  0.024397  0.004608  1.000000   \n",
       "Rh_PPM     0.088918  0.000448  0.000584  0.001042  0.000919  0.001202   \n",
       "Fe_PPM     0.001303 -0.000471 -0.000609 -0.000059  0.198353 -0.000156   \n",
       "S_PPM      0.046014  0.262952  0.162070  0.438494  0.003355  0.010791   \n",
       "Ag_PPM    -0.028122 -0.002281 -0.003172 -0.000412  0.018778 -0.000569   \n",
       "wamex_lon  0.009070  0.007980  0.007858  0.002282 -0.000115  0.025739   \n",
       "wamex_lat -0.051218 -0.013378 -0.016646 -0.002223 -0.006067  0.007374   \n",
       "\n",
       "             Rh_PPM    Fe_PPM     S_PPM    Ag_PPM  wamex_lon  wamex_lat  \\\n",
       "Ni_PPM     0.088918  0.001303  0.046014 -0.028122   0.009070  -0.051218   \n",
       "Cu_PPM     0.000448 -0.000471  0.262952 -0.002281   0.007980  -0.013378   \n",
       "Co_PPM     0.000584 -0.000609  0.162070 -0.003172   0.007858  -0.016646   \n",
       "Pd_PPM     0.001042 -0.000059  0.438494 -0.000412   0.002282  -0.002223   \n",
       "Au_PPM     0.000919  0.198353  0.003355  0.018778  -0.000115  -0.006067   \n",
       "Pt_PPM     0.001202 -0.000156  0.010791 -0.000569   0.025739   0.007374   \n",
       "Rh_PPM     1.000000 -0.000259 -0.000360 -0.002162   0.008745   0.010162   \n",
       "Fe_PPM    -0.000259  1.000000 -0.000316 -0.001878   0.005847  -0.020456   \n",
       "S_PPM     -0.000360 -0.000316  1.000000 -0.001922   0.015478   0.002766   \n",
       "Ag_PPM    -0.002162 -0.001878 -0.001922  1.000000   0.013140  -0.082229   \n",
       "wamex_lon  0.008745  0.005847  0.015478  0.013140   1.000000   0.267513   \n",
       "wamex_lat  0.010162 -0.020456  0.002766 -0.082229   0.267513   1.000000   \n",
       "\n",
       "                 dataframe  \n",
       "Ni_PPM     WAMEX Drillhole  \n",
       "Cu_PPM     WAMEX Drillhole  \n",
       "Co_PPM     WAMEX Drillhole  \n",
       "Pd_PPM     WAMEX Drillhole  \n",
       "Au_PPM     WAMEX Drillhole  \n",
       "Pt_PPM     WAMEX Drillhole  \n",
       "Rh_PPM     WAMEX Drillhole  \n",
       "Fe_PPM     WAMEX Drillhole  \n",
       "S_PPM      WAMEX Drillhole  \n",
       "Ag_PPM     WAMEX Drillhole  \n",
       "wamex_lon  WAMEX Drillhole  \n",
       "wamex_lat  WAMEX Drillhole  "
      ]
     },
     "execution_count": 42,
     "metadata": {},
     "output_type": "execute_result"
    }
   ],
   "source": [
    "only_minedex_co"
   ]
  },
  {
   "cell_type": "code",
   "execution_count": 43,
   "metadata": {},
   "outputs": [],
   "source": [
    "only_minedex_co.to_csv('Co_correlations_Drillhole_1km.csv')"
   ]
  },
  {
   "cell_type": "markdown",
   "metadata": {},
   "source": [
    "## Indium/germanium"
   ]
  },
  {
   "cell_type": "code",
   "execution_count": 72,
   "metadata": {},
   "outputs": [],
   "source": [
    "Merged_Zn_Drillhole_lessthan15km = pd.read_csv('Merged_Zn_Drillhole_lessthan15km.csv')"
   ]
  },
  {
   "cell_type": "code",
   "execution_count": 73,
   "metadata": {},
   "outputs": [],
   "source": [
    "for i in range(0, len(Merged_Zn_Drillhole_lessthan15km)):\n",
    "    Merged_Zn_Drillhole_lessthan15km.at[i, 'distance'] = dist_to_float(Merged_Zn_Drillhole_lessthan15km.at[i, 'distance'])"
   ]
  },
  {
   "cell_type": "code",
   "execution_count": 74,
   "metadata": {},
   "outputs": [
    {
     "data": {
      "text/plain": [
       "(1414, 179)"
      ]
     },
     "execution_count": 74,
     "metadata": {},
     "output_type": "execute_result"
    }
   ],
   "source": [
    "Merged_Zn_Drillhole_lessthan15km = Merged_Zn_Drillhole_lessthan15km[Merged_Zn_Drillhole_lessthan15km['distance']<=1]\n",
    "Merged_Zn_Drillhole_lessthan15km.shape"
   ]
  },
  {
   "cell_type": "code",
   "execution_count": 75,
   "metadata": {},
   "outputs": [
    {
     "data": {
      "text/html": [
       "<div>\n",
       "<style scoped>\n",
       "    .dataframe tbody tr th:only-of-type {\n",
       "        vertical-align: middle;\n",
       "    }\n",
       "\n",
       "    .dataframe tbody tr th {\n",
       "        vertical-align: top;\n",
       "    }\n",
       "\n",
       "    .dataframe thead th {\n",
       "        text-align: right;\n",
       "    }\n",
       "</style>\n",
       "<table border=\"1\" class=\"dataframe\">\n",
       "  <thead>\n",
       "    <tr style=\"text-align: right;\">\n",
       "      <th></th>\n",
       "      <th>CollarId</th>\n",
       "      <th>CompanyHoleId</th>\n",
       "      <th>HoleType</th>\n",
       "      <th>Azimuth</th>\n",
       "      <th>Dip</th>\n",
       "      <th>MaxDepth</th>\n",
       "      <th>Anumber</th>\n",
       "      <th>SampleId</th>\n",
       "      <th>CompanySampleId</th>\n",
       "      <th>FromDepth</th>\n",
       "      <th>...</th>\n",
       "      <th>Y_PPM</th>\n",
       "      <th>Y2O3_PPM</th>\n",
       "      <th>Yb_PPM</th>\n",
       "      <th>Yb2O3_PPM</th>\n",
       "      <th>Zn_PPM</th>\n",
       "      <th>ZnO_PPM</th>\n",
       "      <th>Zr_PPM</th>\n",
       "      <th>ZrO2_PPM</th>\n",
       "      <th>wamex_lat</th>\n",
       "      <th>wamex_lon</th>\n",
       "    </tr>\n",
       "  </thead>\n",
       "  <tbody>\n",
       "    <tr>\n",
       "      <th>115</th>\n",
       "      <td>792021</td>\n",
       "      <td>CWD364</td>\n",
       "      <td>DD</td>\n",
       "      <td>360</td>\n",
       "      <td>-90</td>\n",
       "      <td>420.7</td>\n",
       "      <td>78217</td>\n",
       "      <td>16634942</td>\n",
       "      <td>2070355</td>\n",
       "      <td>355.0</td>\n",
       "      <td>...</td>\n",
       "      <td>0.9</td>\n",
       "      <td>-9999.0</td>\n",
       "      <td>-9999.0</td>\n",
       "      <td>-9999.0</td>\n",
       "      <td>16.0</td>\n",
       "      <td>-9999.0</td>\n",
       "      <td>1.1</td>\n",
       "      <td>-9999.0</td>\n",
       "      <td>-28.37446</td>\n",
       "      <td>120.861653</td>\n",
       "    </tr>\n",
       "    <tr>\n",
       "      <th>120</th>\n",
       "      <td>792021</td>\n",
       "      <td>CWD364</td>\n",
       "      <td>DD</td>\n",
       "      <td>360</td>\n",
       "      <td>-90</td>\n",
       "      <td>420.7</td>\n",
       "      <td>78217</td>\n",
       "      <td>16635062</td>\n",
       "      <td>2070188</td>\n",
       "      <td>161.0</td>\n",
       "      <td>...</td>\n",
       "      <td>2.2</td>\n",
       "      <td>-9999.0</td>\n",
       "      <td>-9999.0</td>\n",
       "      <td>-9999.0</td>\n",
       "      <td>62.0</td>\n",
       "      <td>-9999.0</td>\n",
       "      <td>2.7</td>\n",
       "      <td>-9999.0</td>\n",
       "      <td>-28.37446</td>\n",
       "      <td>120.861653</td>\n",
       "    </tr>\n",
       "    <tr>\n",
       "      <th>125</th>\n",
       "      <td>792021</td>\n",
       "      <td>CWD364</td>\n",
       "      <td>DD</td>\n",
       "      <td>360</td>\n",
       "      <td>-90</td>\n",
       "      <td>420.7</td>\n",
       "      <td>78217</td>\n",
       "      <td>16635083</td>\n",
       "      <td>2070227</td>\n",
       "      <td>208.0</td>\n",
       "      <td>...</td>\n",
       "      <td>8.0</td>\n",
       "      <td>-9999.0</td>\n",
       "      <td>-9999.0</td>\n",
       "      <td>-9999.0</td>\n",
       "      <td>90.0</td>\n",
       "      <td>-9999.0</td>\n",
       "      <td>6.4</td>\n",
       "      <td>-9999.0</td>\n",
       "      <td>-28.37446</td>\n",
       "      <td>120.861653</td>\n",
       "    </tr>\n",
       "    <tr>\n",
       "      <th>130</th>\n",
       "      <td>792021</td>\n",
       "      <td>CWD364</td>\n",
       "      <td>DD</td>\n",
       "      <td>360</td>\n",
       "      <td>-90</td>\n",
       "      <td>420.7</td>\n",
       "      <td>78217</td>\n",
       "      <td>16634934</td>\n",
       "      <td>2070343</td>\n",
       "      <td>344.0</td>\n",
       "      <td>...</td>\n",
       "      <td>2.2</td>\n",
       "      <td>-9999.0</td>\n",
       "      <td>-9999.0</td>\n",
       "      <td>-9999.0</td>\n",
       "      <td>18.0</td>\n",
       "      <td>-9999.0</td>\n",
       "      <td>0.5</td>\n",
       "      <td>-9999.0</td>\n",
       "      <td>-28.37446</td>\n",
       "      <td>120.861653</td>\n",
       "    </tr>\n",
       "    <tr>\n",
       "      <th>135</th>\n",
       "      <td>792021</td>\n",
       "      <td>CWD364</td>\n",
       "      <td>DD</td>\n",
       "      <td>360</td>\n",
       "      <td>-90</td>\n",
       "      <td>420.7</td>\n",
       "      <td>78217</td>\n",
       "      <td>16635137</td>\n",
       "      <td>2070341</td>\n",
       "      <td>342.0</td>\n",
       "      <td>...</td>\n",
       "      <td>1.8</td>\n",
       "      <td>-9999.0</td>\n",
       "      <td>-9999.0</td>\n",
       "      <td>-9999.0</td>\n",
       "      <td>62.0</td>\n",
       "      <td>-9999.0</td>\n",
       "      <td>0.6</td>\n",
       "      <td>-9999.0</td>\n",
       "      <td>-28.37446</td>\n",
       "      <td>120.861653</td>\n",
       "    </tr>\n",
       "  </tbody>\n",
       "</table>\n",
       "<p>5 rows × 171 columns</p>\n",
       "</div>"
      ],
      "text/plain": [
       "     CollarId CompanyHoleId HoleType  Azimuth  Dip  MaxDepth  Anumber  \\\n",
       "115    792021        CWD364       DD      360  -90     420.7    78217   \n",
       "120    792021        CWD364       DD      360  -90     420.7    78217   \n",
       "125    792021        CWD364       DD      360  -90     420.7    78217   \n",
       "130    792021        CWD364       DD      360  -90     420.7    78217   \n",
       "135    792021        CWD364       DD      360  -90     420.7    78217   \n",
       "\n",
       "     SampleId CompanySampleId  FromDepth  ...  Y_PPM  Y2O3_PPM  Yb_PPM  \\\n",
       "115  16634942         2070355      355.0  ...    0.9   -9999.0 -9999.0   \n",
       "120  16635062         2070188      161.0  ...    2.2   -9999.0 -9999.0   \n",
       "125  16635083         2070227      208.0  ...    8.0   -9999.0 -9999.0   \n",
       "130  16634934         2070343      344.0  ...    2.2   -9999.0 -9999.0   \n",
       "135  16635137         2070341      342.0  ...    1.8   -9999.0 -9999.0   \n",
       "\n",
       "     Yb2O3_PPM  Zn_PPM  ZnO_PPM  Zr_PPM  ZrO2_PPM  wamex_lat   wamex_lon  \n",
       "115    -9999.0    16.0  -9999.0     1.1   -9999.0  -28.37446  120.861653  \n",
       "120    -9999.0    62.0  -9999.0     2.7   -9999.0  -28.37446  120.861653  \n",
       "125    -9999.0    90.0  -9999.0     6.4   -9999.0  -28.37446  120.861653  \n",
       "130    -9999.0    18.0  -9999.0     0.5   -9999.0  -28.37446  120.861653  \n",
       "135    -9999.0    62.0  -9999.0     0.6   -9999.0  -28.37446  120.861653  \n",
       "\n",
       "[5 rows x 171 columns]"
      ]
     },
     "execution_count": 75,
     "metadata": {},
     "output_type": "execute_result"
    }
   ],
   "source": [
    "#remove duplicates\n",
    "df_Ge_In = Merged_Zn_Drillhole_lessthan15km.drop(columns=['Unnamed: 0', 'Unnamed: 0_x', 'Unnamed: 0_y', 'Latitude', 'Longitude', \n",
    "                     'minedex_coords', 'minedex_site',\n",
    "                    'distance'])\n",
    "\n",
    "df_Ge_In = df_Ge_In.drop_duplicates()\n",
    "df_Ge_In.head()"
   ]
  },
  {
   "cell_type": "code",
   "execution_count": 76,
   "metadata": {},
   "outputs": [
    {
     "data": {
      "text/plain": [
       "(528, 171)"
      ]
     },
     "execution_count": 76,
     "metadata": {},
     "output_type": "execute_result"
    }
   ],
   "source": [
    "df_Ge_In.shape"
   ]
  },
  {
   "cell_type": "code",
   "execution_count": 77,
   "metadata": {},
   "outputs": [
    {
     "data": {
      "text/plain": [
       "0"
      ]
     },
     "execution_count": 77,
     "metadata": {},
     "output_type": "execute_result"
    }
   ],
   "source": [
    "df_Ge_In.isna().sum().sum()"
   ]
  },
  {
   "cell_type": "code",
   "execution_count": 78,
   "metadata": {},
   "outputs": [],
   "source": [
    "#only keep ppm columns\n",
    "df_Ge_In_ppm = df_Ge_In.filter(like='PPM')"
   ]
  },
  {
   "cell_type": "code",
   "execution_count": 79,
   "metadata": {},
   "outputs": [],
   "source": [
    "#also keep coordonates\n",
    "df_Ge_In_ppm['wamex_lon'] = df_Ge_In['wamex_lon']\n",
    "df_Ge_In_ppm['wamex_lat'] = df_Ge_In['wamex_lat']"
   ]
  },
  {
   "cell_type": "code",
   "execution_count": 80,
   "metadata": {},
   "outputs": [
    {
     "data": {
      "text/plain": [
       "(528, 160)"
      ]
     },
     "execution_count": 80,
     "metadata": {},
     "output_type": "execute_result"
    }
   ],
   "source": [
    "df_minerals = df_Ge_In_ppm.drop(columns=['wamex_lat', 'wamex_lon'])\n",
    "\n",
    "df_Ge_In_ppm.loc[:, df_minerals.columns] = clean_assays(df_Ge_In_ppm.loc[:,df_minerals.columns])\n",
    "df_Ge_In_ppm.shape"
   ]
  },
  {
   "cell_type": "code",
   "execution_count": 81,
   "metadata": {},
   "outputs": [
    {
     "data": {
      "text/plain": [
       "(528, 160)"
      ]
     },
     "execution_count": 81,
     "metadata": {},
     "output_type": "execute_result"
    }
   ],
   "source": [
    "df_Ge_In_ppm = df_Ge_In_ppm.drop_duplicates()\n",
    "df_Ge_In_ppm.shape"
   ]
  },
  {
   "cell_type": "code",
   "execution_count": 54,
   "metadata": {},
   "outputs": [
    {
     "data": {
      "text/plain": [
       "<AxesSubplot:>"
      ]
     },
     "execution_count": 54,
     "metadata": {},
     "output_type": "execute_result"
    },
    {
     "data": {
      "image/png": "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",
      "text/plain": [
       "<Figure size 432x288 with 1 Axes>"
      ]
     },
     "metadata": {
      "needs_background": "light"
     },
     "output_type": "display_data"
    }
   ],
   "source": [
    "df_Ge_In_ppm['Ge_PPM'].plot(kind='box')"
   ]
  },
  {
   "cell_type": "code",
   "execution_count": 82,
   "metadata": {},
   "outputs": [],
   "source": [
    "df_Ge_In_ppm = df_Ge_In_ppm[df_Ge_In_ppm['Ge_PPM'] < 2]"
   ]
  },
  {
   "cell_type": "code",
   "execution_count": 56,
   "metadata": {},
   "outputs": [
    {
     "data": {
      "text/plain": [
       "<AxesSubplot:>"
      ]
     },
     "execution_count": 56,
     "metadata": {},
     "output_type": "execute_result"
    },
    {
     "data": {
      "image/png": "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",
      "text/plain": [
       "<Figure size 432x288 with 1 Axes>"
      ]
     },
     "metadata": {
      "needs_background": "light"
     },
     "output_type": "display_data"
    }
   ],
   "source": [
    "df_Ge_In_ppm['In_PPM'].plot(kind='box')"
   ]
  },
  {
   "cell_type": "code",
   "execution_count": 83,
   "metadata": {},
   "outputs": [],
   "source": [
    "df_Ge_In_ppm = df_Ge_In_ppm[df_Ge_In_ppm['In_PPM'] < 1]"
   ]
  },
  {
   "cell_type": "code",
   "execution_count": 84,
   "metadata": {},
   "outputs": [
    {
     "data": {
      "text/plain": [
       "count    525.000000\n",
       "mean       0.043413\n",
       "std        0.041340\n",
       "min        0.005000\n",
       "25%        0.017000\n",
       "50%        0.030000\n",
       "75%        0.061000\n",
       "max        0.355000\n",
       "Name: In_PPM, dtype: float64"
      ]
     },
     "execution_count": 84,
     "metadata": {},
     "output_type": "execute_result"
    }
   ],
   "source": [
    "df_Ge_In_ppm['In_PPM'].describe()"
   ]
  },
  {
   "cell_type": "code",
   "execution_count": 85,
   "metadata": {},
   "outputs": [
    {
     "data": {
      "text/plain": [
       "(525, 160)"
      ]
     },
     "execution_count": 85,
     "metadata": {},
     "output_type": "execute_result"
    }
   ],
   "source": [
    "df_Ge_In_ppm.shape"
   ]
  },
  {
   "cell_type": "code",
   "execution_count": 86,
   "metadata": {},
   "outputs": [],
   "source": [
    "df_corr = df_Ge_In_ppm.corr()"
   ]
  },
  {
   "cell_type": "code",
   "execution_count": 87,
   "metadata": {},
   "outputs": [],
   "source": [
    "only_ge = df_corr['Ge_PPM'].sort_values()\n",
    "only_in = df_corr['In_PPM'].sort_values()"
   ]
  },
  {
   "cell_type": "code",
   "execution_count": 88,
   "metadata": {},
   "outputs": [
    {
     "data": {
      "text/plain": [
       "wamex_lon   -0.575472\n",
       "Cr_PPM      -0.153465\n",
       "Ni_PPM      -0.085691\n",
       "W_PPM       -0.082847\n",
       "Mo_PPM      -0.062272\n",
       "Name: Ge_PPM, dtype: float64"
      ]
     },
     "execution_count": 88,
     "metadata": {},
     "output_type": "execute_result"
    }
   ],
   "source": [
    "only_ge[0:5]"
   ]
  },
  {
   "cell_type": "code",
   "execution_count": 101,
   "metadata": {},
   "outputs": [
    {
     "data": {
      "text/plain": [
       "Zn_PPM       0.168904\n",
       "Tm_PPM       0.176063\n",
       "Er_PPM       0.177955\n",
       "Ho_PPM       0.178747\n",
       "Sm_PPM       0.179213\n",
       "Gd_PPM       0.179395\n",
       "Dy_PPM       0.179652\n",
       "Pr_PPM       0.181478\n",
       "Nd_PPM       0.181628\n",
       "Y_PPM        0.185070\n",
       "Pt_PPM       0.186141\n",
       "Se_PPM       0.226921\n",
       "Ce_PPM       0.227013\n",
       "V_PPM        0.227249\n",
       "Nb_PPM       0.239451\n",
       "Ag_PPM       0.263443\n",
       "Rb_PPM       0.274890\n",
       "Zr_PPM       0.281831\n",
       "Cs_PPM       0.337961\n",
       "P_PPM        0.338192\n",
       "Cu_PPM       0.363562\n",
       "Pd_PPM       0.384451\n",
       "U_PPM        0.424895\n",
       "Th_PPM       0.438266\n",
       "wamex_lat    0.444317\n",
       "Sc_PPM       0.497738\n",
       "Re_PPM       0.519303\n",
       "Hf_PPM       0.529022\n",
       "Ga_PPM       0.630890\n",
       "Ge_PPM       1.000000\n",
       "Name: Ge_PPM, dtype: float64"
      ]
     },
     "execution_count": 101,
     "metadata": {},
     "output_type": "execute_result"
    }
   ],
   "source": [
    "only_ge[-125:-95]"
   ]
  },
  {
   "cell_type": "code",
   "execution_count": 96,
   "metadata": {},
   "outputs": [
    {
     "data": {
      "text/plain": [
       "Ni_PPM      -0.197647\n",
       "wamex_lon   -0.068883\n",
       "Co_PPM      -0.061027\n",
       "Al_PPM      -0.031434\n",
       "Mn_PPM      -0.015893\n",
       "Name: In_PPM, dtype: float64"
      ]
     },
     "execution_count": 96,
     "metadata": {},
     "output_type": "execute_result"
    }
   ],
   "source": [
    "only_in[0:5]"
   ]
  },
  {
   "cell_type": "code",
   "execution_count": 102,
   "metadata": {},
   "outputs": [
    {
     "data": {
      "text/plain": [
       "Pt_PPM     0.056912\n",
       "Mo_PPM     0.064855\n",
       "U_PPM      0.068900\n",
       "Mg_PPM     0.076581\n",
       "MnO_PPM    0.082149\n",
       "Th_PPM     0.090503\n",
       "La_PPM     0.095943\n",
       "Sr_PPM     0.107291\n",
       "P_PPM      0.128145\n",
       "Ge_PPM     0.128810\n",
       "Hf_PPM     0.134164\n",
       "Sc_PPM     0.136679\n",
       "Cu_PPM     0.174466\n",
       "Ce_PPM     0.176517\n",
       "Ga_PPM     0.196984\n",
       "Bi_PPM     0.197512\n",
       "Sb_PPM     0.204440\n",
       "Ta_PPM     0.227962\n",
       "Ag_PPM     0.249755\n",
       "S_PPM      0.254232\n",
       "Y_PPM      0.351249\n",
       "Zr_PPM     0.405254\n",
       "Li_PPM     0.426292\n",
       "Se_PPM     0.426570\n",
       "Cd_PPM     0.437723\n",
       "Te_PPM     0.444443\n",
       "Nb_PPM     0.472515\n",
       "V_PPM      0.525741\n",
       "Sn_PPM     0.530554\n",
       "In_PPM     1.000000\n",
       "Name: In_PPM, dtype: float64"
      ]
     },
     "execution_count": 102,
     "metadata": {},
     "output_type": "execute_result"
    }
   ],
   "source": [
    "only_in[-125:-95]"
   ]
  },
  {
   "cell_type": "code",
   "execution_count": 62,
   "metadata": {},
   "outputs": [],
   "source": [
    "Zn_deposits = ['Zn_PPM', 'Ag_PPM', 'Cu_PPM', 'Pb_PPM', 'Au_PPM', 'Co_PPM', 'In_PPM', 'Ge_PPM', 'wamex_lat', 'wamex_lon']\n",
    "only_minedex = df_Ge_In_ppm[Zn_deposits].corr()"
   ]
  },
  {
   "cell_type": "code",
   "execution_count": 63,
   "metadata": {},
   "outputs": [
    {
     "data": {
      "text/html": [
       "<div>\n",
       "<style scoped>\n",
       "    .dataframe tbody tr th:only-of-type {\n",
       "        vertical-align: middle;\n",
       "    }\n",
       "\n",
       "    .dataframe tbody tr th {\n",
       "        vertical-align: top;\n",
       "    }\n",
       "\n",
       "    .dataframe thead th {\n",
       "        text-align: right;\n",
       "    }\n",
       "</style>\n",
       "<table border=\"1\" class=\"dataframe\">\n",
       "  <thead>\n",
       "    <tr style=\"text-align: right;\">\n",
       "      <th></th>\n",
       "      <th>Zn_PPM</th>\n",
       "      <th>Ag_PPM</th>\n",
       "      <th>Cu_PPM</th>\n",
       "      <th>Pb_PPM</th>\n",
       "      <th>Au_PPM</th>\n",
       "      <th>Co_PPM</th>\n",
       "      <th>In_PPM</th>\n",
       "      <th>Ge_PPM</th>\n",
       "      <th>wamex_lat</th>\n",
       "      <th>wamex_lon</th>\n",
       "    </tr>\n",
       "  </thead>\n",
       "  <tbody>\n",
       "    <tr>\n",
       "      <th>Zn_PPM</th>\n",
       "      <td>1.000000</td>\n",
       "      <td>0.108922</td>\n",
       "      <td>-0.006179</td>\n",
       "      <td>0.707704</td>\n",
       "      <td>0.091419</td>\n",
       "      <td>0.443658</td>\n",
       "      <td>0.000794</td>\n",
       "      <td>0.168904</td>\n",
       "      <td>0.284323</td>\n",
       "      <td>-0.297591</td>\n",
       "    </tr>\n",
       "    <tr>\n",
       "      <th>Ag_PPM</th>\n",
       "      <td>0.108922</td>\n",
       "      <td>1.000000</td>\n",
       "      <td>0.861482</td>\n",
       "      <td>0.158204</td>\n",
       "      <td>0.135811</td>\n",
       "      <td>0.168952</td>\n",
       "      <td>0.249755</td>\n",
       "      <td>0.263443</td>\n",
       "      <td>0.394181</td>\n",
       "      <td>-0.451813</td>\n",
       "    </tr>\n",
       "    <tr>\n",
       "      <th>Cu_PPM</th>\n",
       "      <td>-0.006179</td>\n",
       "      <td>0.861482</td>\n",
       "      <td>1.000000</td>\n",
       "      <td>-0.005847</td>\n",
       "      <td>0.171682</td>\n",
       "      <td>0.069746</td>\n",
       "      <td>0.174466</td>\n",
       "      <td>0.363562</td>\n",
       "      <td>0.511480</td>\n",
       "      <td>-0.537379</td>\n",
       "    </tr>\n",
       "    <tr>\n",
       "      <th>Pb_PPM</th>\n",
       "      <td>0.707704</td>\n",
       "      <td>0.158204</td>\n",
       "      <td>-0.005847</td>\n",
       "      <td>1.000000</td>\n",
       "      <td>0.047329</td>\n",
       "      <td>0.629080</td>\n",
       "      <td>-0.005904</td>\n",
       "      <td>0.100246</td>\n",
       "      <td>0.199514</td>\n",
       "      <td>-0.208914</td>\n",
       "    </tr>\n",
       "    <tr>\n",
       "      <th>Au_PPM</th>\n",
       "      <td>0.091419</td>\n",
       "      <td>0.135811</td>\n",
       "      <td>0.171682</td>\n",
       "      <td>0.047329</td>\n",
       "      <td>1.000000</td>\n",
       "      <td>0.030758</td>\n",
       "      <td>0.012088</td>\n",
       "      <td>0.164713</td>\n",
       "      <td>0.071120</td>\n",
       "      <td>-0.101630</td>\n",
       "    </tr>\n",
       "    <tr>\n",
       "      <th>Co_PPM</th>\n",
       "      <td>0.443658</td>\n",
       "      <td>0.168952</td>\n",
       "      <td>0.069746</td>\n",
       "      <td>0.629080</td>\n",
       "      <td>0.030758</td>\n",
       "      <td>1.000000</td>\n",
       "      <td>-0.061027</td>\n",
       "      <td>0.058694</td>\n",
       "      <td>0.187909</td>\n",
       "      <td>-0.185215</td>\n",
       "    </tr>\n",
       "    <tr>\n",
       "      <th>In_PPM</th>\n",
       "      <td>0.000794</td>\n",
       "      <td>0.249755</td>\n",
       "      <td>0.174466</td>\n",
       "      <td>-0.005904</td>\n",
       "      <td>0.012088</td>\n",
       "      <td>-0.061027</td>\n",
       "      <td>1.000000</td>\n",
       "      <td>0.128810</td>\n",
       "      <td>0.049026</td>\n",
       "      <td>-0.068883</td>\n",
       "    </tr>\n",
       "    <tr>\n",
       "      <th>Ge_PPM</th>\n",
       "      <td>0.168904</td>\n",
       "      <td>0.263443</td>\n",
       "      <td>0.363562</td>\n",
       "      <td>0.100246</td>\n",
       "      <td>0.164713</td>\n",
       "      <td>0.058694</td>\n",
       "      <td>0.128810</td>\n",
       "      <td>1.000000</td>\n",
       "      <td>0.444317</td>\n",
       "      <td>-0.575472</td>\n",
       "    </tr>\n",
       "    <tr>\n",
       "      <th>wamex_lat</th>\n",
       "      <td>0.284323</td>\n",
       "      <td>0.394181</td>\n",
       "      <td>0.511480</td>\n",
       "      <td>0.199514</td>\n",
       "      <td>0.071120</td>\n",
       "      <td>0.187909</td>\n",
       "      <td>0.049026</td>\n",
       "      <td>0.444317</td>\n",
       "      <td>1.000000</td>\n",
       "      <td>-0.944322</td>\n",
       "    </tr>\n",
       "    <tr>\n",
       "      <th>wamex_lon</th>\n",
       "      <td>-0.297591</td>\n",
       "      <td>-0.451813</td>\n",
       "      <td>-0.537379</td>\n",
       "      <td>-0.208914</td>\n",
       "      <td>-0.101630</td>\n",
       "      <td>-0.185215</td>\n",
       "      <td>-0.068883</td>\n",
       "      <td>-0.575472</td>\n",
       "      <td>-0.944322</td>\n",
       "      <td>1.000000</td>\n",
       "    </tr>\n",
       "  </tbody>\n",
       "</table>\n",
       "</div>"
      ],
      "text/plain": [
       "             Zn_PPM    Ag_PPM    Cu_PPM    Pb_PPM    Au_PPM    Co_PPM  \\\n",
       "Zn_PPM     1.000000  0.108922 -0.006179  0.707704  0.091419  0.443658   \n",
       "Ag_PPM     0.108922  1.000000  0.861482  0.158204  0.135811  0.168952   \n",
       "Cu_PPM    -0.006179  0.861482  1.000000 -0.005847  0.171682  0.069746   \n",
       "Pb_PPM     0.707704  0.158204 -0.005847  1.000000  0.047329  0.629080   \n",
       "Au_PPM     0.091419  0.135811  0.171682  0.047329  1.000000  0.030758   \n",
       "Co_PPM     0.443658  0.168952  0.069746  0.629080  0.030758  1.000000   \n",
       "In_PPM     0.000794  0.249755  0.174466 -0.005904  0.012088 -0.061027   \n",
       "Ge_PPM     0.168904  0.263443  0.363562  0.100246  0.164713  0.058694   \n",
       "wamex_lat  0.284323  0.394181  0.511480  0.199514  0.071120  0.187909   \n",
       "wamex_lon -0.297591 -0.451813 -0.537379 -0.208914 -0.101630 -0.185215   \n",
       "\n",
       "             In_PPM    Ge_PPM  wamex_lat  wamex_lon  \n",
       "Zn_PPM     0.000794  0.168904   0.284323  -0.297591  \n",
       "Ag_PPM     0.249755  0.263443   0.394181  -0.451813  \n",
       "Cu_PPM     0.174466  0.363562   0.511480  -0.537379  \n",
       "Pb_PPM    -0.005904  0.100246   0.199514  -0.208914  \n",
       "Au_PPM     0.012088  0.164713   0.071120  -0.101630  \n",
       "Co_PPM    -0.061027  0.058694   0.187909  -0.185215  \n",
       "In_PPM     1.000000  0.128810   0.049026  -0.068883  \n",
       "Ge_PPM     0.128810  1.000000   0.444317  -0.575472  \n",
       "wamex_lat  0.049026  0.444317   1.000000  -0.944322  \n",
       "wamex_lon -0.068883 -0.575472  -0.944322   1.000000  "
      ]
     },
     "execution_count": 63,
     "metadata": {},
     "output_type": "execute_result"
    }
   ],
   "source": [
    "only_minedex"
   ]
  },
  {
   "cell_type": "code",
   "execution_count": 64,
   "metadata": {},
   "outputs": [],
   "source": [
    "only_minedex.to_csv('GeIn_correlations_Drillhole_1km.csv')"
   ]
  },
  {
   "cell_type": "code",
   "execution_count": null,
   "metadata": {},
   "outputs": [],
   "source": []
  }
 ],
 "metadata": {
  "kernelspec": {
   "display_name": "Python 3",
   "language": "python",
   "name": "python3"
  },
  "language_info": {
   "codemirror_mode": {
    "name": "ipython",
    "version": 3
   },
   "file_extension": ".py",
   "mimetype": "text/x-python",
   "name": "python",
   "nbconvert_exporter": "python",
   "pygments_lexer": "ipython3",
   "version": "3.8.10"
  }
 },
 "nbformat": 4,
 "nbformat_minor": 4
}
