{
 "cells": [
  {
   "cell_type": "markdown",
   "metadata": {},
   "source": [
    "# CMOG Correlations"
   ]
  },
  {
   "cell_type": "code",
   "execution_count": 186,
   "metadata": {
    "tags": []
   },
   "outputs": [
    {
     "data": {
      "text/html": [
       "<div>\n",
       "<style scoped>\n",
       "    .dataframe tbody tr th:only-of-type {\n",
       "        vertical-align: middle;\n",
       "    }\n",
       "\n",
       "    .dataframe tbody tr th {\n",
       "        vertical-align: top;\n",
       "    }\n",
       "\n",
       "    .dataframe thead th {\n",
       "        text-align: right;\n",
       "    }\n",
       "</style>\n",
       "<table border=\"1\" class=\"dataframe\">\n",
       "  <thead>\n",
       "    <tr style=\"text-align: right;\">\n",
       "      <th></th>\n",
       "      <th>FID</th>\n",
       "      <th>deposit_uid</th>\n",
       "      <th>deposit_name</th>\n",
       "      <th>deposit_local_id</th>\n",
       "      <th>deposit_environment</th>\n",
       "      <th>deposit_group</th>\n",
       "      <th>deposit_type</th>\n",
       "      <th>primary_commodities</th>\n",
       "      <th>secondary_commodities</th>\n",
       "      <th>all_commodities</th>\n",
       "      <th>...</th>\n",
       "      <th>sample_longitude_wgs84</th>\n",
       "      <th>sample_latitude_wgs84</th>\n",
       "      <th>sample_easting</th>\n",
       "      <th>sample_northing</th>\n",
       "      <th>sample_utm_zone</th>\n",
       "      <th>sample_location_description</th>\n",
       "      <th>location_accuracy</th>\n",
       "      <th>comments</th>\n",
       "      <th>last_update</th>\n",
       "      <th>geometry</th>\n",
       "    </tr>\n",
       "  </thead>\n",
       "  <tbody>\n",
       "    <tr>\n",
       "      <th>0</th>\n",
       "      <td>CriticalMineralDepositsGeochemistry.672862-74156</td>\n",
       "      <td>CAN.ON.06000135</td>\n",
       "      <td>Worthington</td>\n",
       "      <td>469</td>\n",
       "      <td>Magmatic</td>\n",
       "      <td>Ultramafic and (or) mafic intrusion</td>\n",
       "      <td>Impact U-M intrusion Ni-Cu-PGE</td>\n",
       "      <td>NaN</td>\n",
       "      <td>NaN</td>\n",
       "      <td>Ni, Cu, PGE</td>\n",
       "      <td>...</td>\n",
       "      <td>-81.4409</td>\n",
       "      <td>46.3906</td>\n",
       "      <td>466101</td>\n",
       "      <td>5137545</td>\n",
       "      <td>17N</td>\n",
       "      <td>NaN</td>\n",
       "      <td>NaN</td>\n",
       "      <td>NaN</td>\n",
       "      <td>2021-06-04</td>\n",
       "      <td>POINT (46.390633 -81.440903)</td>\n",
       "    </tr>\n",
       "    <tr>\n",
       "      <th>1</th>\n",
       "      <td>CriticalMineralDepositsGeochemistry.672862-74157</td>\n",
       "      <td>CAN.ON.06000135</td>\n",
       "      <td>Worthington</td>\n",
       "      <td>469</td>\n",
       "      <td>Magmatic</td>\n",
       "      <td>Ultramafic and (or) mafic intrusion</td>\n",
       "      <td>Impact U-M intrusion Ni-Cu-PGE</td>\n",
       "      <td>NaN</td>\n",
       "      <td>NaN</td>\n",
       "      <td>Ni, Cu, PGE</td>\n",
       "      <td>...</td>\n",
       "      <td>-81.4409</td>\n",
       "      <td>46.3906</td>\n",
       "      <td>466101</td>\n",
       "      <td>5137545</td>\n",
       "      <td>17N</td>\n",
       "      <td>NaN</td>\n",
       "      <td>NaN</td>\n",
       "      <td>NaN</td>\n",
       "      <td>2021-06-04</td>\n",
       "      <td>POINT (46.390633 -81.440903)</td>\n",
       "    </tr>\n",
       "    <tr>\n",
       "      <th>2</th>\n",
       "      <td>CriticalMineralDepositsGeochemistry.672871-74135</td>\n",
       "      <td>CAN.ON.06000062</td>\n",
       "      <td>Whistle</td>\n",
       "      <td>500</td>\n",
       "      <td>Magmatic</td>\n",
       "      <td>Ultramafic and (or) mafic intrusion</td>\n",
       "      <td>Impact U-M intrusion Ni-Cu-PGE</td>\n",
       "      <td>NaN</td>\n",
       "      <td>NaN</td>\n",
       "      <td>Ni, Cu, PGE</td>\n",
       "      <td>...</td>\n",
       "      <td>-80.8788</td>\n",
       "      <td>46.7723</td>\n",
       "      <td>509250</td>\n",
       "      <td>5179869</td>\n",
       "      <td>17N</td>\n",
       "      <td>NaN</td>\n",
       "      <td>NaN</td>\n",
       "      <td>NaN</td>\n",
       "      <td>2021-06-04</td>\n",
       "      <td>POINT (46.772306 -80.878847)</td>\n",
       "    </tr>\n",
       "    <tr>\n",
       "      <th>3</th>\n",
       "      <td>CriticalMineralDepositsGeochemistry.672872-74136</td>\n",
       "      <td>CAN.ON.06000062</td>\n",
       "      <td>Whistle</td>\n",
       "      <td>500</td>\n",
       "      <td>Magmatic</td>\n",
       "      <td>Ultramafic and (or) mafic intrusion</td>\n",
       "      <td>Impact U-M intrusion Ni-Cu-PGE</td>\n",
       "      <td>NaN</td>\n",
       "      <td>NaN</td>\n",
       "      <td>Ni, Cu, PGE</td>\n",
       "      <td>...</td>\n",
       "      <td>-80.8788</td>\n",
       "      <td>46.7723</td>\n",
       "      <td>509250</td>\n",
       "      <td>5179869</td>\n",
       "      <td>17N</td>\n",
       "      <td>NaN</td>\n",
       "      <td>NaN</td>\n",
       "      <td>NaN</td>\n",
       "      <td>2021-06-04</td>\n",
       "      <td>POINT (46.772306 -80.878847)</td>\n",
       "    </tr>\n",
       "    <tr>\n",
       "      <th>4</th>\n",
       "      <td>CriticalMineralDepositsGeochemistry.672873-74137</td>\n",
       "      <td>CAN.ON.06000062</td>\n",
       "      <td>Whistle</td>\n",
       "      <td>500</td>\n",
       "      <td>Magmatic</td>\n",
       "      <td>Ultramafic and (or) mafic intrusion</td>\n",
       "      <td>Impact U-M intrusion Ni-Cu-PGE</td>\n",
       "      <td>NaN</td>\n",
       "      <td>NaN</td>\n",
       "      <td>Ni, Cu, PGE</td>\n",
       "      <td>...</td>\n",
       "      <td>-80.8788</td>\n",
       "      <td>46.7723</td>\n",
       "      <td>509250</td>\n",
       "      <td>5179869</td>\n",
       "      <td>17N</td>\n",
       "      <td>NaN</td>\n",
       "      <td>NaN</td>\n",
       "      <td>NaN</td>\n",
       "      <td>2021-06-04</td>\n",
       "      <td>POINT (46.772306 -80.878847)</td>\n",
       "    </tr>\n",
       "  </tbody>\n",
       "</table>\n",
       "<p>5 rows × 340 columns</p>\n",
       "</div>"
      ],
      "text/plain": [
       "                                                FID      deposit_uid  \\\n",
       "0  CriticalMineralDepositsGeochemistry.672862-74156  CAN.ON.06000135   \n",
       "1  CriticalMineralDepositsGeochemistry.672862-74157  CAN.ON.06000135   \n",
       "2  CriticalMineralDepositsGeochemistry.672871-74135  CAN.ON.06000062   \n",
       "3  CriticalMineralDepositsGeochemistry.672872-74136  CAN.ON.06000062   \n",
       "4  CriticalMineralDepositsGeochemistry.672873-74137  CAN.ON.06000062   \n",
       "\n",
       "  deposit_name deposit_local_id deposit_environment  \\\n",
       "0  Worthington              469            Magmatic   \n",
       "1  Worthington              469            Magmatic   \n",
       "2      Whistle              500            Magmatic   \n",
       "3      Whistle              500            Magmatic   \n",
       "4      Whistle              500            Magmatic   \n",
       "\n",
       "                         deposit_group                    deposit_type  \\\n",
       "0  Ultramafic and (or) mafic intrusion  Impact U-M intrusion Ni-Cu-PGE   \n",
       "1  Ultramafic and (or) mafic intrusion  Impact U-M intrusion Ni-Cu-PGE   \n",
       "2  Ultramafic and (or) mafic intrusion  Impact U-M intrusion Ni-Cu-PGE   \n",
       "3  Ultramafic and (or) mafic intrusion  Impact U-M intrusion Ni-Cu-PGE   \n",
       "4  Ultramafic and (or) mafic intrusion  Impact U-M intrusion Ni-Cu-PGE   \n",
       "\n",
       "  primary_commodities secondary_commodities all_commodities  ...  \\\n",
       "0                 NaN                   NaN     Ni, Cu, PGE  ...   \n",
       "1                 NaN                   NaN     Ni, Cu, PGE  ...   \n",
       "2                 NaN                   NaN     Ni, Cu, PGE  ...   \n",
       "3                 NaN                   NaN     Ni, Cu, PGE  ...   \n",
       "4                 NaN                   NaN     Ni, Cu, PGE  ...   \n",
       "\n",
       "  sample_longitude_wgs84 sample_latitude_wgs84 sample_easting sample_northing  \\\n",
       "0               -81.4409               46.3906         466101         5137545   \n",
       "1               -81.4409               46.3906         466101         5137545   \n",
       "2               -80.8788               46.7723         509250         5179869   \n",
       "3               -80.8788               46.7723         509250         5179869   \n",
       "4               -80.8788               46.7723         509250         5179869   \n",
       "\n",
       "  sample_utm_zone sample_location_description location_accuracy  comments  \\\n",
       "0             17N                         NaN               NaN       NaN   \n",
       "1             17N                         NaN               NaN       NaN   \n",
       "2             17N                         NaN               NaN       NaN   \n",
       "3             17N                         NaN               NaN       NaN   \n",
       "4             17N                         NaN               NaN       NaN   \n",
       "\n",
       "   last_update                      geometry  \n",
       "0   2021-06-04  POINT (46.390633 -81.440903)  \n",
       "1   2021-06-04  POINT (46.390633 -81.440903)  \n",
       "2   2021-06-04  POINT (46.772306 -80.878847)  \n",
       "3   2021-06-04  POINT (46.772306 -80.878847)  \n",
       "4   2021-06-04  POINT (46.772306 -80.878847)  \n",
       "\n",
       "[5 rows x 340 columns]"
      ]
     },
     "execution_count": 186,
     "metadata": {},
     "output_type": "execute_result"
    }
   ],
   "source": [
    "import pandas as pd\n",
    "pd.options.mode.chained_assignment = None\n",
    "df = pd.read_csv('CriticalMineralDepositsGeochemistry - GA-GSC-USGS.csv', low_memory = False)\n",
    "df.head()"
   ]
  },
  {
   "cell_type": "code",
   "execution_count": 187,
   "metadata": {},
   "outputs": [
    {
     "name": "stdout",
     "output_type": "stream",
     "text": [
      "<class 'pandas.core.frame.DataFrame'>\n",
      "RangeIndex: 9553 entries, 0 to 9552\n",
      "Columns: 340 entries, FID to geometry\n",
      "dtypes: float64(201), int64(2), object(137)\n",
      "memory usage: 24.8+ MB\n"
     ]
    }
   ],
   "source": [
    "df.info()"
   ]
  },
  {
   "cell_type": "code",
   "execution_count": 188,
   "metadata": {},
   "outputs": [
    {
     "data": {
      "text/plain": [
       "(9553, 340)"
      ]
     },
     "execution_count": 188,
     "metadata": {},
     "output_type": "execute_result"
    }
   ],
   "source": [
    "df.shape"
   ]
  },
  {
   "cell_type": "code",
   "execution_count": 189,
   "metadata": {},
   "outputs": [
    {
     "data": {
      "text/html": [
       "<div>\n",
       "<style scoped>\n",
       "    .dataframe tbody tr th:only-of-type {\n",
       "        vertical-align: middle;\n",
       "    }\n",
       "\n",
       "    .dataframe tbody tr th {\n",
       "        vertical-align: top;\n",
       "    }\n",
       "\n",
       "    .dataframe thead th {\n",
       "        text-align: right;\n",
       "    }\n",
       "</style>\n",
       "<table border=\"1\" class=\"dataframe\">\n",
       "  <thead>\n",
       "    <tr style=\"text-align: right;\">\n",
       "      <th></th>\n",
       "      <th>FID</th>\n",
       "      <th>deposit_uid</th>\n",
       "      <th>deposit_name</th>\n",
       "      <th>deposit_local_id</th>\n",
       "      <th>deposit_environment</th>\n",
       "      <th>deposit_group</th>\n",
       "      <th>deposit_type</th>\n",
       "      <th>primary_commodities</th>\n",
       "      <th>secondary_commodities</th>\n",
       "      <th>all_commodities</th>\n",
       "      <th>...</th>\n",
       "      <th>sample_longitude_wgs84</th>\n",
       "      <th>sample_latitude_wgs84</th>\n",
       "      <th>sample_easting</th>\n",
       "      <th>sample_northing</th>\n",
       "      <th>sample_utm_zone</th>\n",
       "      <th>sample_location_description</th>\n",
       "      <th>location_accuracy</th>\n",
       "      <th>comments</th>\n",
       "      <th>last_update</th>\n",
       "      <th>geometry</th>\n",
       "    </tr>\n",
       "  </thead>\n",
       "  <tbody>\n",
       "  </tbody>\n",
       "</table>\n",
       "<p>0 rows × 340 columns</p>\n",
       "</div>"
      ],
      "text/plain": [
       "Empty DataFrame\n",
       "Columns: [FID, deposit_uid, deposit_name, deposit_local_id, deposit_environment, deposit_group, deposit_type, primary_commodities, secondary_commodities, all_commodities, deposit_source, sample_uid, sample_name, sample_local_id, feature_type, feature_name, feature_uid, top_depth_m, base_depth_m, sample_deposit_relation, sample_type, sampling_method, material_class, province, strat_unit_name, strat_unit_uid, strat_grouping, earth_material_group, earth_material_qualifier, earth_material, mode_occurrence, alteration, texture, minerals, sample_description, sample_preparation, sio2_wt_percent, sio2_detection_limit, sio2_method, tio2_wt_percent, tio2_detection_limit, tio2_method, al2o3_wt_percent, al2o3_detection_limit, al2o3_method, fe2o3tot_wt_percent, fe2o3tot_detection_limit, fe2o3tot_method, fe2o3_wt_percent, fe2o3_detection_limit, fe2o3_method, feo_wt_percent, feo_detection_limit, feo_method, mno_wt_percent, mno_detection_limit, mno_method, mgo_wt_percent, mgo_detection_limit, mgo_method, cao_wt_percent, cao_detection_limit, cao_method, na2o_wt_percent, na2o_detection_limit, na2o_method, k2o_wt_percent, k2o_detection_limit, k2o_method, p2o5_wt_percent, p2o5_detection_limit, p2o5_method, h2oplus_wt_percent, h2oplus_detection_limit, h2oplus_method, h2ominus_wt_percent, h2ominus_detection_limit, h2ominus_method, h2ototal_wt_percent, h2ototal_detection_limit, h2ototal_method, co2_wt_percent, co2_detection_limit, co2_method, so3_wt_percent, so3_detection_limit, so3_method, mloi_wt_percent, mloi_detection_limit, mloi_method, loitot_wt_percent, loitot_detection_limit, loitot_method, rest_wt_percent, rest_method, total_wt_percent, total_method, ag_ppm, ag_detection_limit, ag_method, ...]\n",
       "Index: []\n",
       "\n",
       "[0 rows x 340 columns]"
      ]
     },
     "execution_count": 189,
     "metadata": {},
     "output_type": "execute_result"
    }
   ],
   "source": [
    "df[df.values == -9999] #here are no -9999 values like the other datasets"
   ]
  },
  {
   "cell_type": "code",
   "execution_count": 190,
   "metadata": {},
   "outputs": [],
   "source": [
    "#pd_ppm, 'au_ppb', 'pt_ppm', 'rh_ppm' not available so we calculate them\n",
    "df['pd_ppm'] = df['pd_ppb'] / 1000\n",
    "df['au_ppm'] = df['au_ppb'] / 1000\n",
    "df['pt_ppm'] = df['pt_ppb'] / 1000\n",
    "df['rh_ppm'] = df['rh_ppb'] / 1000"
   ]
  },
  {
   "cell_type": "code",
   "execution_count": 191,
   "metadata": {},
   "outputs": [
    {
     "data": {
      "text/plain": [
       "ag_ppm       3044\n",
       "al_ppm       7135\n",
       "as_ppm       4519\n",
       "b_ppm        7869\n",
       "ba_ppm       5906\n",
       "             ... \n",
       "ree_y_ppm    7132\n",
       "pd_ppm       8174\n",
       "au_ppm       6217\n",
       "pt_ppm       8173\n",
       "rh_ppm       9546\n",
       "Length: 73, dtype: int64"
      ]
     },
     "execution_count": 191,
     "metadata": {},
     "output_type": "execute_result"
    }
   ],
   "source": [
    "df.filter(like='ppm').isna().sum()"
   ]
  },
  {
   "cell_type": "markdown",
   "metadata": {},
   "source": [
    "We note many pd, au, pt, rh values are missing. "
   ]
  },
  {
   "cell_type": "code",
   "execution_count": 192,
   "metadata": {},
   "outputs": [],
   "source": [
    "#change NAs to 0\n",
    "df = df.fillna(0)"
   ]
  },
  {
   "cell_type": "code",
   "execution_count": 193,
   "metadata": {},
   "outputs": [
    {
     "data": {
      "text/html": [
       "<div>\n",
       "<style scoped>\n",
       "    .dataframe tbody tr th:only-of-type {\n",
       "        vertical-align: middle;\n",
       "    }\n",
       "\n",
       "    .dataframe tbody tr th {\n",
       "        vertical-align: top;\n",
       "    }\n",
       "\n",
       "    .dataframe thead th {\n",
       "        text-align: right;\n",
       "    }\n",
       "</style>\n",
       "<table border=\"1\" class=\"dataframe\">\n",
       "  <thead>\n",
       "    <tr style=\"text-align: right;\">\n",
       "      <th></th>\n",
       "      <th>pd_ppm</th>\n",
       "      <th>au_ppm</th>\n",
       "      <th>pt_ppm</th>\n",
       "      <th>rh_ppm</th>\n",
       "    </tr>\n",
       "  </thead>\n",
       "  <tbody>\n",
       "    <tr>\n",
       "      <th>count</th>\n",
       "      <td>9553.000000</td>\n",
       "      <td>9553.000000</td>\n",
       "      <td>9553.000000</td>\n",
       "      <td>9553.000000</td>\n",
       "    </tr>\n",
       "    <tr>\n",
       "      <th>mean</th>\n",
       "      <td>0.153240</td>\n",
       "      <td>4.207993</td>\n",
       "      <td>0.064766</td>\n",
       "      <td>-0.000524</td>\n",
       "    </tr>\n",
       "    <tr>\n",
       "      <th>std</th>\n",
       "      <td>2.176057</td>\n",
       "      <td>84.185019</td>\n",
       "      <td>0.848051</td>\n",
       "      <td>0.051156</td>\n",
       "    </tr>\n",
       "    <tr>\n",
       "      <th>min</th>\n",
       "      <td>-0.008000</td>\n",
       "      <td>-1.000000</td>\n",
       "      <td>-0.010000</td>\n",
       "      <td>-5.000000</td>\n",
       "    </tr>\n",
       "    <tr>\n",
       "      <th>25%</th>\n",
       "      <td>0.000000</td>\n",
       "      <td>0.000000</td>\n",
       "      <td>0.000000</td>\n",
       "      <td>0.000000</td>\n",
       "    </tr>\n",
       "    <tr>\n",
       "      <th>50%</th>\n",
       "      <td>0.000000</td>\n",
       "      <td>0.000000</td>\n",
       "      <td>0.000000</td>\n",
       "      <td>0.000000</td>\n",
       "    </tr>\n",
       "    <tr>\n",
       "      <th>75%</th>\n",
       "      <td>0.000000</td>\n",
       "      <td>0.084000</td>\n",
       "      <td>0.000000</td>\n",
       "      <td>0.000000</td>\n",
       "    </tr>\n",
       "    <tr>\n",
       "      <th>max</th>\n",
       "      <td>90.700000</td>\n",
       "      <td>6570.000000</td>\n",
       "      <td>34.200000</td>\n",
       "      <td>0.001000</td>\n",
       "    </tr>\n",
       "  </tbody>\n",
       "</table>\n",
       "</div>"
      ],
      "text/plain": [
       "            pd_ppm       au_ppm       pt_ppm       rh_ppm\n",
       "count  9553.000000  9553.000000  9553.000000  9553.000000\n",
       "mean      0.153240     4.207993     0.064766    -0.000524\n",
       "std       2.176057    84.185019     0.848051     0.051156\n",
       "min      -0.008000    -1.000000    -0.010000    -5.000000\n",
       "25%       0.000000     0.000000     0.000000     0.000000\n",
       "50%       0.000000     0.000000     0.000000     0.000000\n",
       "75%       0.000000     0.084000     0.000000     0.000000\n",
       "max      90.700000  6570.000000    34.200000     0.001000"
      ]
     },
     "execution_count": 193,
     "metadata": {},
     "output_type": "execute_result"
    }
   ],
   "source": [
    "df[['pd_ppm','au_ppm','pt_ppm','rh_ppm']].describe()"
   ]
  },
  {
   "cell_type": "code",
   "execution_count": 194,
   "metadata": {},
   "outputs": [],
   "source": [
    "#only keep ppm columns\n",
    "df_ppm = df.filter(like='ppm') "
   ]
  },
  {
   "cell_type": "code",
   "execution_count": 195,
   "metadata": {},
   "outputs": [],
   "source": [
    "#also keep coordonates\n",
    "df_ppm['longitude'] = df['sample_longitude_wgs84']\n",
    "df_ppm['latitude'] = df['sample_latitude_wgs84']\n",
    "df_ppm['deposit_group'] = df['deposit_group']\n",
    "df_ppm['country'] = df['country']\n",
    "df_ppm['state'] = df['state']"
   ]
  },
  {
   "cell_type": "code",
   "execution_count": 196,
   "metadata": {},
   "outputs": [
    {
     "data": {
      "text/plain": [
       "(9553, 78)"
      ]
     },
     "execution_count": 196,
     "metadata": {},
     "output_type": "execute_result"
    }
   ],
   "source": [
    "df_ppm.shape"
   ]
  },
  {
   "cell_type": "markdown",
   "metadata": {},
   "source": [
    "## Correlations"
   ]
  },
  {
   "cell_type": "code",
   "execution_count": 197,
   "metadata": {},
   "outputs": [],
   "source": [
    "def abs_halve_neg_val(val):\n",
    "    if val < 0: \n",
    "        return abs(val) / 2\n",
    "    else: \n",
    "        return val\n",
    "\n",
    "def clean_assays(df):\n",
    "    df = df.applymap(abs_halve_neg_val)\n",
    "    \n",
    "    return df"
   ]
  },
  {
   "cell_type": "code",
   "execution_count": 198,
   "metadata": {},
   "outputs": [],
   "source": [
    "df_minerals = df_ppm.drop(columns=['latitude', 'longitude', 'deposit_group', 'country', 'state'])\n",
    "\n",
    "df_ppm.loc[:, df_minerals.columns] = clean_assays(df_ppm.loc[:,df_minerals.columns])"
   ]
  },
  {
   "cell_type": "code",
   "execution_count": 199,
   "metadata": {},
   "outputs": [],
   "source": [
    "df_ppm = df_ppm.drop_duplicates()"
   ]
  },
  {
   "cell_type": "code",
   "execution_count": 201,
   "metadata": {},
   "outputs": [],
   "source": [
    "Zn_deposits = ['zn_ppm', 'ag_ppm', 'cu_ppm', 'pb_ppm', 'au_ppm', 'co_ppm', 'in_ppm', 'ge_ppm', 'latitude', 'longitude']"
   ]
  },
  {
   "cell_type": "markdown",
   "metadata": {},
   "source": [
    "### VMS - All countries"
   ]
  },
  {
   "cell_type": "code",
   "execution_count": 202,
   "metadata": {},
   "outputs": [
    {
     "data": {
      "text/plain": [
       "(2844, 78)"
      ]
     },
     "execution_count": 202,
     "metadata": {},
     "output_type": "execute_result"
    }
   ],
   "source": [
    "VMS = 'Volcanogenic massive sulfide (VMS)'\n",
    "VMS = df_ppm[df_ppm['deposit_group'] == VMS]\n",
    "VMS.shape"
   ]
  },
  {
   "cell_type": "code",
   "execution_count": 203,
   "metadata": {},
   "outputs": [
    {
     "data": {
      "text/plain": [
       "<AxesSubplot:>"
      ]
     },
     "execution_count": 203,
     "metadata": {},
     "output_type": "execute_result"
    },
    {
     "data": {
      "image/png": "[encoded data removed]",
      "text/plain": [
       "<Figure size 432x288 with 1 Axes>"
      ]
     },
     "metadata": {
      "needs_background": "light"
     },
     "output_type": "display_data"
    }
   ],
   "source": [
    "VMS['ge_ppm'].plot(kind='box')"
   ]
  },
  {
   "cell_type": "code",
   "execution_count": 204,
   "metadata": {},
   "outputs": [],
   "source": [
    "#remove 2 clear outliers \n",
    "VMS = VMS[VMS['ge_ppm'] < 100]"
   ]
  },
  {
   "cell_type": "code",
   "execution_count": 205,
   "metadata": {},
   "outputs": [
    {
     "data": {
      "text/plain": [
       "<AxesSubplot:>"
      ]
     },
     "execution_count": 205,
     "metadata": {},
     "output_type": "execute_result"
    },
    {
     "data": {
      "image/png": "[encoded data removed]",
      "text/plain": [
       "<Figure size 432x288 with 1 Axes>"
      ]
     },
     "metadata": {
      "needs_background": "light"
     },
     "output_type": "display_data"
    }
   ],
   "source": [
    "VMS['in_ppm'].plot(kind='box')"
   ]
  },
  {
   "cell_type": "code",
   "execution_count": 206,
   "metadata": {},
   "outputs": [],
   "source": [
    "#remove 2 clear outliers \n",
    "VMS = VMS[VMS['in_ppm'] < 350]"
   ]
  },
  {
   "cell_type": "code",
   "execution_count": 207,
   "metadata": {},
   "outputs": [
    {
     "data": {
      "text/plain": [
       "(2840, 78)"
      ]
     },
     "execution_count": 207,
     "metadata": {},
     "output_type": "execute_result"
    }
   ],
   "source": [
    "VMS.shape"
   ]
  },
  {
   "cell_type": "code",
   "execution_count": 208,
   "metadata": {},
   "outputs": [],
   "source": [
    "VMS_corr = VMS.corr()"
   ]
  },
  {
   "cell_type": "code",
   "execution_count": 209,
   "metadata": {},
   "outputs": [],
   "source": [
    "only_ge = VMS_corr['ge_ppm'].sort_values()"
   ]
  },
  {
   "cell_type": "code",
   "execution_count": 210,
   "metadata": {},
   "outputs": [
    {
     "data": {
      "text/plain": [
       "latitude   -0.137421\n",
       "zn_ppm     -0.069878\n",
       "se_ppm     -0.028771\n",
       "cd_ppm     -0.027622\n",
       "eu_ppm     -0.024257\n",
       "Name: ge_ppm, dtype: float64"
      ]
     },
     "execution_count": 210,
     "metadata": {},
     "output_type": "execute_result"
    }
   ],
   "source": [
    "only_ge[0:5]"
   ]
  },
  {
   "cell_type": "code",
   "execution_count": 211,
   "metadata": {},
   "outputs": [
    {
     "data": {
      "text/plain": [
       "al_ppm       0.079843\n",
       "pt_ppm       0.082186\n",
       "fe_ppm       0.115314\n",
       "li_ppm       0.123742\n",
       "pd_ppm       0.125256\n",
       "longitude    0.137235\n",
       "ti_ppm       0.190785\n",
       "s_ppm        0.457444\n",
       "ge_ppm       1.000000\n",
       "rh_ppm            NaN\n",
       "Name: ge_ppm, dtype: float64"
      ]
     },
     "execution_count": 211,
     "metadata": {},
     "output_type": "execute_result"
    }
   ],
   "source": [
    "only_ge[-10:]"
   ]
  },
  {
   "cell_type": "code",
   "execution_count": 212,
   "metadata": {},
   "outputs": [],
   "source": [
    "only_in = VMS_corr['in_ppm'].sort_values()"
   ]
  },
  {
   "cell_type": "code",
   "execution_count": 213,
   "metadata": {},
   "outputs": [
    {
     "data": {
      "text/plain": [
       "latitude   -0.138805\n",
       "cr_ppm     -0.025849\n",
       "s_ppm      -0.020742\n",
       "ga_ppm     -0.020052\n",
       "zr_ppm     -0.018670\n",
       "Name: in_ppm, dtype: float64"
      ]
     },
     "execution_count": 213,
     "metadata": {},
     "output_type": "execute_result"
    }
   ],
   "source": [
    "only_in[0:5]"
   ]
  },
  {
   "cell_type": "code",
   "execution_count": 214,
   "metadata": {},
   "outputs": [
    {
     "data": {
      "text/plain": [
       "ree_ppm      0.071315\n",
       "ree_y_ppm    0.076180\n",
       "na_ppm       0.077024\n",
       "k_ppm        0.135994\n",
       "al_ppm       0.141951\n",
       "longitude    0.147887\n",
       "hree_ppm     0.209242\n",
       "fe_ppm       0.277205\n",
       "in_ppm       1.000000\n",
       "rh_ppm            NaN\n",
       "Name: in_ppm, dtype: float64"
      ]
     },
     "execution_count": 214,
     "metadata": {},
     "output_type": "execute_result"
    }
   ],
   "source": [
    "only_in[-10:]"
   ]
  },
  {
   "cell_type": "code",
   "execution_count": 215,
   "metadata": {},
   "outputs": [],
   "source": [
    "only_minedex = VMS[Zn_deposits].corr()"
   ]
  },
  {
   "cell_type": "code",
   "execution_count": 216,
   "metadata": {},
   "outputs": [
    {
     "data": {
      "text/html": [
       "<div>\n",
       "<style scoped>\n",
       "    .dataframe tbody tr th:only-of-type {\n",
       "        vertical-align: middle;\n",
       "    }\n",
       "\n",
       "    .dataframe tbody tr th {\n",
       "        vertical-align: top;\n",
       "    }\n",
       "\n",
       "    .dataframe thead th {\n",
       "        text-align: right;\n",
       "    }\n",
       "</style>\n",
       "<table border=\"1\" class=\"dataframe\">\n",
       "  <thead>\n",
       "    <tr style=\"text-align: right;\">\n",
       "      <th></th>\n",
       "      <th>zn_ppm</th>\n",
       "      <th>ag_ppm</th>\n",
       "      <th>cu_ppm</th>\n",
       "      <th>pb_ppm</th>\n",
       "      <th>au_ppm</th>\n",
       "      <th>co_ppm</th>\n",
       "      <th>in_ppm</th>\n",
       "      <th>ge_ppm</th>\n",
       "      <th>latitude</th>\n",
       "      <th>longitude</th>\n",
       "    </tr>\n",
       "  </thead>\n",
       "  <tbody>\n",
       "    <tr>\n",
       "      <th>zn_ppm</th>\n",
       "      <td>1.000000</td>\n",
       "      <td>-0.015348</td>\n",
       "      <td>-0.205633</td>\n",
       "      <td>-0.060094</td>\n",
       "      <td>-0.047187</td>\n",
       "      <td>-0.050135</td>\n",
       "      <td>0.005612</td>\n",
       "      <td>-0.069878</td>\n",
       "      <td>0.143540</td>\n",
       "      <td>-0.146334</td>\n",
       "    </tr>\n",
       "    <tr>\n",
       "      <th>ag_ppm</th>\n",
       "      <td>-0.015348</td>\n",
       "      <td>1.000000</td>\n",
       "      <td>-0.014603</td>\n",
       "      <td>0.016530</td>\n",
       "      <td>0.041372</td>\n",
       "      <td>-0.007255</td>\n",
       "      <td>-0.004017</td>\n",
       "      <td>-0.004894</td>\n",
       "      <td>0.016227</td>\n",
       "      <td>-0.020322</td>\n",
       "    </tr>\n",
       "    <tr>\n",
       "      <th>cu_ppm</th>\n",
       "      <td>-0.205633</td>\n",
       "      <td>-0.014603</td>\n",
       "      <td>1.000000</td>\n",
       "      <td>-0.081936</td>\n",
       "      <td>0.022251</td>\n",
       "      <td>0.001271</td>\n",
       "      <td>0.052206</td>\n",
       "      <td>-0.019127</td>\n",
       "      <td>0.085265</td>\n",
       "      <td>-0.109675</td>\n",
       "    </tr>\n",
       "    <tr>\n",
       "      <th>pb_ppm</th>\n",
       "      <td>-0.060094</td>\n",
       "      <td>0.016530</td>\n",
       "      <td>-0.081936</td>\n",
       "      <td>1.000000</td>\n",
       "      <td>0.060446</td>\n",
       "      <td>0.019221</td>\n",
       "      <td>-0.018599</td>\n",
       "      <td>0.012673</td>\n",
       "      <td>0.029675</td>\n",
       "      <td>-0.035903</td>\n",
       "    </tr>\n",
       "    <tr>\n",
       "      <th>au_ppm</th>\n",
       "      <td>-0.047187</td>\n",
       "      <td>0.041372</td>\n",
       "      <td>0.022251</td>\n",
       "      <td>0.060446</td>\n",
       "      <td>1.000000</td>\n",
       "      <td>-0.005970</td>\n",
       "      <td>-0.015007</td>\n",
       "      <td>-0.009425</td>\n",
       "      <td>0.037330</td>\n",
       "      <td>-0.050779</td>\n",
       "    </tr>\n",
       "    <tr>\n",
       "      <th>co_ppm</th>\n",
       "      <td>-0.050135</td>\n",
       "      <td>-0.007255</td>\n",
       "      <td>0.001271</td>\n",
       "      <td>0.019221</td>\n",
       "      <td>-0.005970</td>\n",
       "      <td>1.000000</td>\n",
       "      <td>-0.005350</td>\n",
       "      <td>-0.018380</td>\n",
       "      <td>0.041500</td>\n",
       "      <td>-0.038683</td>\n",
       "    </tr>\n",
       "    <tr>\n",
       "      <th>in_ppm</th>\n",
       "      <td>0.005612</td>\n",
       "      <td>-0.004017</td>\n",
       "      <td>0.052206</td>\n",
       "      <td>-0.018599</td>\n",
       "      <td>-0.015007</td>\n",
       "      <td>-0.005350</td>\n",
       "      <td>1.000000</td>\n",
       "      <td>-0.009458</td>\n",
       "      <td>-0.138805</td>\n",
       "      <td>0.147887</td>\n",
       "    </tr>\n",
       "    <tr>\n",
       "      <th>ge_ppm</th>\n",
       "      <td>-0.069878</td>\n",
       "      <td>-0.004894</td>\n",
       "      <td>-0.019127</td>\n",
       "      <td>0.012673</td>\n",
       "      <td>-0.009425</td>\n",
       "      <td>-0.018380</td>\n",
       "      <td>-0.009458</td>\n",
       "      <td>1.000000</td>\n",
       "      <td>-0.137421</td>\n",
       "      <td>0.137235</td>\n",
       "    </tr>\n",
       "    <tr>\n",
       "      <th>latitude</th>\n",
       "      <td>0.143540</td>\n",
       "      <td>0.016227</td>\n",
       "      <td>0.085265</td>\n",
       "      <td>0.029675</td>\n",
       "      <td>0.037330</td>\n",
       "      <td>0.041500</td>\n",
       "      <td>-0.138805</td>\n",
       "      <td>-0.137421</td>\n",
       "      <td>1.000000</td>\n",
       "      <td>-0.897515</td>\n",
       "    </tr>\n",
       "    <tr>\n",
       "      <th>longitude</th>\n",
       "      <td>-0.146334</td>\n",
       "      <td>-0.020322</td>\n",
       "      <td>-0.109675</td>\n",
       "      <td>-0.035903</td>\n",
       "      <td>-0.050779</td>\n",
       "      <td>-0.038683</td>\n",
       "      <td>0.147887</td>\n",
       "      <td>0.137235</td>\n",
       "      <td>-0.897515</td>\n",
       "      <td>1.000000</td>\n",
       "    </tr>\n",
       "  </tbody>\n",
       "</table>\n",
       "</div>"
      ],
      "text/plain": [
       "             zn_ppm    ag_ppm    cu_ppm    pb_ppm    au_ppm    co_ppm  \\\n",
       "zn_ppm     1.000000 -0.015348 -0.205633 -0.060094 -0.047187 -0.050135   \n",
       "ag_ppm    -0.015348  1.000000 -0.014603  0.016530  0.041372 -0.007255   \n",
       "cu_ppm    -0.205633 -0.014603  1.000000 -0.081936  0.022251  0.001271   \n",
       "pb_ppm    -0.060094  0.016530 -0.081936  1.000000  0.060446  0.019221   \n",
       "au_ppm    -0.047187  0.041372  0.022251  0.060446  1.000000 -0.005970   \n",
       "co_ppm    -0.050135 -0.007255  0.001271  0.019221 -0.005970  1.000000   \n",
       "in_ppm     0.005612 -0.004017  0.052206 -0.018599 -0.015007 -0.005350   \n",
       "ge_ppm    -0.069878 -0.004894 -0.019127  0.012673 -0.009425 -0.018380   \n",
       "latitude   0.143540  0.016227  0.085265  0.029675  0.037330  0.041500   \n",
       "longitude -0.146334 -0.020322 -0.109675 -0.035903 -0.050779 -0.038683   \n",
       "\n",
       "             in_ppm    ge_ppm  latitude  longitude  \n",
       "zn_ppm     0.005612 -0.069878  0.143540  -0.146334  \n",
       "ag_ppm    -0.004017 -0.004894  0.016227  -0.020322  \n",
       "cu_ppm     0.052206 -0.019127  0.085265  -0.109675  \n",
       "pb_ppm    -0.018599  0.012673  0.029675  -0.035903  \n",
       "au_ppm    -0.015007 -0.009425  0.037330  -0.050779  \n",
       "co_ppm    -0.005350 -0.018380  0.041500  -0.038683  \n",
       "in_ppm     1.000000 -0.009458 -0.138805   0.147887  \n",
       "ge_ppm    -0.009458  1.000000 -0.137421   0.137235  \n",
       "latitude  -0.138805 -0.137421  1.000000  -0.897515  \n",
       "longitude  0.147887  0.137235 -0.897515   1.000000  "
      ]
     },
     "execution_count": 216,
     "metadata": {},
     "output_type": "execute_result"
    }
   ],
   "source": [
    "only_minedex"
   ]
  },
  {
   "cell_type": "code",
   "execution_count": 217,
   "metadata": {},
   "outputs": [],
   "source": [
    "only_minedex.to_csv('GeIn_correlations_All_countries_CMOG.csv')"
   ]
  },
  {
   "cell_type": "markdown",
   "metadata": {},
   "source": [
    "### VHMS - Australia "
   ]
  },
  {
   "cell_type": "code",
   "execution_count": 218,
   "metadata": {},
   "outputs": [],
   "source": [
    "VMS_Au = VMS[VMS['country'] == 'AUS']"
   ]
  },
  {
   "cell_type": "code",
   "execution_count": 219,
   "metadata": {},
   "outputs": [
    {
     "data": {
      "text/plain": [
       "(235, 78)"
      ]
     },
     "execution_count": 219,
     "metadata": {},
     "output_type": "execute_result"
    }
   ],
   "source": [
    "VMS_Au.shape"
   ]
  },
  {
   "cell_type": "code",
   "execution_count": 220,
   "metadata": {},
   "outputs": [],
   "source": [
    "VMS_Au_corr = VMS_Au.corr()"
   ]
  },
  {
   "cell_type": "code",
   "execution_count": 221,
   "metadata": {},
   "outputs": [],
   "source": [
    "only_ge = VMS_Au_corr['ge_ppm'].sort_values()\n",
    "only_in = VMS_Au_corr['in_ppm'].sort_values()"
   ]
  },
  {
   "cell_type": "code",
   "execution_count": 222,
   "metadata": {},
   "outputs": [
    {
     "data": {
      "text/plain": [
       "nb_ppm      -0.170899\n",
       "rb_ppm      -0.163162\n",
       "longitude   -0.160020\n",
       "fe_ppm      -0.154796\n",
       "ree_y_ppm   -0.148415\n",
       "ree_ppm     -0.135566\n",
       "lree_ppm    -0.134517\n",
       "ce_ppm      -0.128595\n",
       "li_ppm      -0.113564\n",
       "zn_ppm      -0.110132\n",
       "Name: ge_ppm, dtype: float64"
      ]
     },
     "execution_count": 222,
     "metadata": {},
     "output_type": "execute_result"
    }
   ],
   "source": [
    "only_ge[0:10]"
   ]
  },
  {
   "cell_type": "code",
   "execution_count": 223,
   "metadata": {},
   "outputs": [
    {
     "data": {
      "text/plain": [
       "latitude    0.011637\n",
       "zr_ppm      0.044946\n",
       "w_ppm       0.068588\n",
       "b_ppm       0.077920\n",
       "ti_ppm      0.123600\n",
       "ga_ppm      0.139438\n",
       "hf_ppm      0.184331\n",
       "sn_ppm      0.188367\n",
       "sb_ppm      0.210085\n",
       "au_ppm      0.211299\n",
       "pt_ppm      0.213380\n",
       "ta_ppm      0.237245\n",
       "pd_ppm      0.243225\n",
       "pb_ppm      0.356624\n",
       "s_ppm       0.454489\n",
       "ge_ppm      1.000000\n",
       "br_ppm           NaN\n",
       "ir_ppm           NaN\n",
       "si_ppm           NaN\n",
       "rh_ppm           NaN\n",
       "Name: ge_ppm, dtype: float64"
      ]
     },
     "execution_count": 223,
     "metadata": {},
     "output_type": "execute_result"
    }
   ],
   "source": [
    "only_ge[-20:]"
   ]
  },
  {
   "cell_type": "code",
   "execution_count": 224,
   "metadata": {},
   "outputs": [
    {
     "data": {
      "text/plain": [
       "s_ppm       -0.167523\n",
       "zr_ppm      -0.163214\n",
       "longitude   -0.147328\n",
       "ta_ppm      -0.145301\n",
       "nb_ppm      -0.128204\n",
       "rb_ppm      -0.112568\n",
       "ce_ppm      -0.100716\n",
       "pd_ppm      -0.098263\n",
       "pt_ppm      -0.090618\n",
       "lree_ppm    -0.089144\n",
       "Name: in_ppm, dtype: float64"
      ]
     },
     "execution_count": 224,
     "metadata": {},
     "output_type": "execute_result"
    }
   ],
   "source": [
    "only_in[0:10]"
   ]
  },
  {
   "cell_type": "code",
   "execution_count": 225,
   "metadata": {},
   "outputs": [
    {
     "data": {
      "text/plain": [
       "na_ppm    0.098987\n",
       "mg_ppm    0.143455\n",
       "tl_ppm    0.153982\n",
       "al_ppm    0.185544\n",
       "tm_ppm    0.186639\n",
       "as_ppm    0.202622\n",
       "ag_ppm    0.220023\n",
       "bi_ppm    0.269944\n",
       "cu_ppm    0.316840\n",
       "mn_ppm    0.333448\n",
       "zn_ppm    0.377769\n",
       "cd_ppm    0.385185\n",
       "fe_ppm    0.391547\n",
       "co_ppm    0.422664\n",
       "se_ppm    0.493801\n",
       "in_ppm    1.000000\n",
       "br_ppm         NaN\n",
       "ir_ppm         NaN\n",
       "si_ppm         NaN\n",
       "rh_ppm         NaN\n",
       "Name: in_ppm, dtype: float64"
      ]
     },
     "execution_count": 225,
     "metadata": {},
     "output_type": "execute_result"
    }
   ],
   "source": [
    "only_in[-20:]"
   ]
  },
  {
   "cell_type": "code",
   "execution_count": 226,
   "metadata": {},
   "outputs": [],
   "source": [
    "only_minedex = VMS_Au[Zn_deposits].corr()"
   ]
  },
  {
   "cell_type": "code",
   "execution_count": 227,
   "metadata": {},
   "outputs": [
    {
     "data": {
      "text/html": [
       "<div>\n",
       "<style scoped>\n",
       "    .dataframe tbody tr th:only-of-type {\n",
       "        vertical-align: middle;\n",
       "    }\n",
       "\n",
       "    .dataframe tbody tr th {\n",
       "        vertical-align: top;\n",
       "    }\n",
       "\n",
       "    .dataframe thead th {\n",
       "        text-align: right;\n",
       "    }\n",
       "</style>\n",
       "<table border=\"1\" class=\"dataframe\">\n",
       "  <thead>\n",
       "    <tr style=\"text-align: right;\">\n",
       "      <th></th>\n",
       "      <th>zn_ppm</th>\n",
       "      <th>ag_ppm</th>\n",
       "      <th>cu_ppm</th>\n",
       "      <th>pb_ppm</th>\n",
       "      <th>au_ppm</th>\n",
       "      <th>co_ppm</th>\n",
       "      <th>in_ppm</th>\n",
       "      <th>ge_ppm</th>\n",
       "      <th>latitude</th>\n",
       "      <th>longitude</th>\n",
       "    </tr>\n",
       "  </thead>\n",
       "  <tbody>\n",
       "    <tr>\n",
       "      <th>zn_ppm</th>\n",
       "      <td>1.000000</td>\n",
       "      <td>0.634034</td>\n",
       "      <td>-0.008127</td>\n",
       "      <td>-0.082680</td>\n",
       "      <td>-0.074638</td>\n",
       "      <td>0.034978</td>\n",
       "      <td>0.377769</td>\n",
       "      <td>-0.110132</td>\n",
       "      <td>0.033344</td>\n",
       "      <td>-0.163282</td>\n",
       "    </tr>\n",
       "    <tr>\n",
       "      <th>ag_ppm</th>\n",
       "      <td>0.634034</td>\n",
       "      <td>1.000000</td>\n",
       "      <td>0.161894</td>\n",
       "      <td>-0.058456</td>\n",
       "      <td>-0.062295</td>\n",
       "      <td>0.078231</td>\n",
       "      <td>0.220023</td>\n",
       "      <td>-0.092005</td>\n",
       "      <td>-0.086726</td>\n",
       "      <td>-0.037973</td>\n",
       "    </tr>\n",
       "    <tr>\n",
       "      <th>cu_ppm</th>\n",
       "      <td>-0.008127</td>\n",
       "      <td>0.161894</td>\n",
       "      <td>1.000000</td>\n",
       "      <td>-0.056172</td>\n",
       "      <td>-0.046105</td>\n",
       "      <td>0.426562</td>\n",
       "      <td>0.316840</td>\n",
       "      <td>-0.067626</td>\n",
       "      <td>0.041334</td>\n",
       "      <td>-0.106846</td>\n",
       "    </tr>\n",
       "    <tr>\n",
       "      <th>pb_ppm</th>\n",
       "      <td>-0.082680</td>\n",
       "      <td>-0.058456</td>\n",
       "      <td>-0.056172</td>\n",
       "      <td>1.000000</td>\n",
       "      <td>0.418274</td>\n",
       "      <td>-0.083546</td>\n",
       "      <td>-0.072560</td>\n",
       "      <td>0.356624</td>\n",
       "      <td>-0.134224</td>\n",
       "      <td>0.025711</td>\n",
       "    </tr>\n",
       "    <tr>\n",
       "      <th>au_ppm</th>\n",
       "      <td>-0.074638</td>\n",
       "      <td>-0.062295</td>\n",
       "      <td>-0.046105</td>\n",
       "      <td>0.418274</td>\n",
       "      <td>1.000000</td>\n",
       "      <td>-0.069347</td>\n",
       "      <td>-0.057763</td>\n",
       "      <td>0.211299</td>\n",
       "      <td>-0.139979</td>\n",
       "      <td>0.013996</td>\n",
       "    </tr>\n",
       "    <tr>\n",
       "      <th>co_ppm</th>\n",
       "      <td>0.034978</td>\n",
       "      <td>0.078231</td>\n",
       "      <td>0.426562</td>\n",
       "      <td>-0.083546</td>\n",
       "      <td>-0.069347</td>\n",
       "      <td>1.000000</td>\n",
       "      <td>0.422664</td>\n",
       "      <td>-0.099940</td>\n",
       "      <td>0.164301</td>\n",
       "      <td>-0.233054</td>\n",
       "    </tr>\n",
       "    <tr>\n",
       "      <th>in_ppm</th>\n",
       "      <td>0.377769</td>\n",
       "      <td>0.220023</td>\n",
       "      <td>0.316840</td>\n",
       "      <td>-0.072560</td>\n",
       "      <td>-0.057763</td>\n",
       "      <td>0.422664</td>\n",
       "      <td>1.000000</td>\n",
       "      <td>-0.085370</td>\n",
       "      <td>0.033001</td>\n",
       "      <td>-0.147328</td>\n",
       "    </tr>\n",
       "    <tr>\n",
       "      <th>ge_ppm</th>\n",
       "      <td>-0.110132</td>\n",
       "      <td>-0.092005</td>\n",
       "      <td>-0.067626</td>\n",
       "      <td>0.356624</td>\n",
       "      <td>0.211299</td>\n",
       "      <td>-0.099940</td>\n",
       "      <td>-0.085370</td>\n",
       "      <td>1.000000</td>\n",
       "      <td>0.011637</td>\n",
       "      <td>-0.160020</td>\n",
       "    </tr>\n",
       "    <tr>\n",
       "      <th>latitude</th>\n",
       "      <td>0.033344</td>\n",
       "      <td>-0.086726</td>\n",
       "      <td>0.041334</td>\n",
       "      <td>-0.134224</td>\n",
       "      <td>-0.139979</td>\n",
       "      <td>0.164301</td>\n",
       "      <td>0.033001</td>\n",
       "      <td>0.011637</td>\n",
       "      <td>1.000000</td>\n",
       "      <td>-0.729019</td>\n",
       "    </tr>\n",
       "    <tr>\n",
       "      <th>longitude</th>\n",
       "      <td>-0.163282</td>\n",
       "      <td>-0.037973</td>\n",
       "      <td>-0.106846</td>\n",
       "      <td>0.025711</td>\n",
       "      <td>0.013996</td>\n",
       "      <td>-0.233054</td>\n",
       "      <td>-0.147328</td>\n",
       "      <td>-0.160020</td>\n",
       "      <td>-0.729019</td>\n",
       "      <td>1.000000</td>\n",
       "    </tr>\n",
       "  </tbody>\n",
       "</table>\n",
       "</div>"
      ],
      "text/plain": [
       "             zn_ppm    ag_ppm    cu_ppm    pb_ppm    au_ppm    co_ppm  \\\n",
       "zn_ppm     1.000000  0.634034 -0.008127 -0.082680 -0.074638  0.034978   \n",
       "ag_ppm     0.634034  1.000000  0.161894 -0.058456 -0.062295  0.078231   \n",
       "cu_ppm    -0.008127  0.161894  1.000000 -0.056172 -0.046105  0.426562   \n",
       "pb_ppm    -0.082680 -0.058456 -0.056172  1.000000  0.418274 -0.083546   \n",
       "au_ppm    -0.074638 -0.062295 -0.046105  0.418274  1.000000 -0.069347   \n",
       "co_ppm     0.034978  0.078231  0.426562 -0.083546 -0.069347  1.000000   \n",
       "in_ppm     0.377769  0.220023  0.316840 -0.072560 -0.057763  0.422664   \n",
       "ge_ppm    -0.110132 -0.092005 -0.067626  0.356624  0.211299 -0.099940   \n",
       "latitude   0.033344 -0.086726  0.041334 -0.134224 -0.139979  0.164301   \n",
       "longitude -0.163282 -0.037973 -0.106846  0.025711  0.013996 -0.233054   \n",
       "\n",
       "             in_ppm    ge_ppm  latitude  longitude  \n",
       "zn_ppm     0.377769 -0.110132  0.033344  -0.163282  \n",
       "ag_ppm     0.220023 -0.092005 -0.086726  -0.037973  \n",
       "cu_ppm     0.316840 -0.067626  0.041334  -0.106846  \n",
       "pb_ppm    -0.072560  0.356624 -0.134224   0.025711  \n",
       "au_ppm    -0.057763  0.211299 -0.139979   0.013996  \n",
       "co_ppm     0.422664 -0.099940  0.164301  -0.233054  \n",
       "in_ppm     1.000000 -0.085370  0.033001  -0.147328  \n",
       "ge_ppm    -0.085370  1.000000  0.011637  -0.160020  \n",
       "latitude   0.033001  0.011637  1.000000  -0.729019  \n",
       "longitude -0.147328 -0.160020 -0.729019   1.000000  "
      ]
     },
     "execution_count": 227,
     "metadata": {},
     "output_type": "execute_result"
    }
   ],
   "source": [
    "only_minedex"
   ]
  },
  {
   "cell_type": "code",
   "execution_count": 228,
   "metadata": {},
   "outputs": [],
   "source": [
    "only_minedex.to_csv('GeIn_correlations_Au_CMOG.csv')"
   ]
  },
  {
   "cell_type": "markdown",
   "metadata": {},
   "source": [
    "### VHMS - WA"
   ]
  },
  {
   "cell_type": "code",
   "execution_count": 229,
   "metadata": {},
   "outputs": [],
   "source": [
    "VMS_WA = VMS_Au[VMS_Au['state'] == 'AU-WA']"
   ]
  },
  {
   "cell_type": "code",
   "execution_count": 230,
   "metadata": {},
   "outputs": [
    {
     "data": {
      "text/plain": [
       "(78, 78)"
      ]
     },
     "execution_count": 230,
     "metadata": {},
     "output_type": "execute_result"
    }
   ],
   "source": [
    "VMS_WA.shape"
   ]
  },
  {
   "cell_type": "code",
   "execution_count": 231,
   "metadata": {},
   "outputs": [],
   "source": [
    "VMS_WA_corr = VMS_WA.corr()"
   ]
  },
  {
   "cell_type": "code",
   "execution_count": 232,
   "metadata": {},
   "outputs": [],
   "source": [
    "only_ge = VMS_WA_corr['ge_ppm'].sort_values()\n",
    "only_in = VMS_WA_corr['in_ppm'].sort_values()"
   ]
  },
  {
   "cell_type": "code",
   "execution_count": 233,
   "metadata": {},
   "outputs": [
    {
     "data": {
      "text/plain": [
       "fe_ppm     -0.198627\n",
       "tm_ppm     -0.157870\n",
       "zn_ppm     -0.156078\n",
       "cd_ppm     -0.153499\n",
       "se_ppm     -0.147288\n",
       "co_ppm     -0.144361\n",
       "p_ppm      -0.142571\n",
       "latitude   -0.141071\n",
       "mo_ppm     -0.137746\n",
       "ag_ppm     -0.130267\n",
       "Name: ge_ppm, dtype: float64"
      ]
     },
     "execution_count": 233,
     "metadata": {},
     "output_type": "execute_result"
    }
   ],
   "source": [
    "only_ge[0:10]"
   ]
  },
  {
   "cell_type": "code",
   "execution_count": 234,
   "metadata": {},
   "outputs": [
    {
     "data": {
      "text/plain": [
       "ti_ppm       0.057980\n",
       "zr_ppm       0.068408\n",
       "longitude    0.114465\n",
       "ta_ppm       0.153879\n",
       "pd_ppm       0.214024\n",
       "sn_ppm       0.224144\n",
       "pt_ppm       0.245056\n",
       "au_ppm       0.311460\n",
       "pb_ppm       0.352527\n",
       "s_ppm        0.431726\n",
       "ga_ppm       0.433919\n",
       "hf_ppm       0.493636\n",
       "sb_ppm       0.671654\n",
       "b_ppm        0.777642\n",
       "ge_ppm       1.000000\n",
       "br_ppm            NaN\n",
       "cl_ppm            NaN\n",
       "ir_ppm            NaN\n",
       "si_ppm            NaN\n",
       "rh_ppm            NaN\n",
       "Name: ge_ppm, dtype: float64"
      ]
     },
     "execution_count": 234,
     "metadata": {},
     "output_type": "execute_result"
    }
   ],
   "source": [
    "only_ge[-20:]"
   ]
  },
  {
   "cell_type": "code",
   "execution_count": 235,
   "metadata": {},
   "outputs": [
    {
     "data": {
      "text/plain": [
       "s_ppm    -0.232257\n",
       "ta_ppm   -0.207204\n",
       "b_ppm    -0.184609\n",
       "pt_ppm   -0.180910\n",
       "ga_ppm   -0.166594\n",
       "pd_ppm   -0.151286\n",
       "hf_ppm   -0.137183\n",
       "sb_ppm   -0.136346\n",
       "zr_ppm   -0.134609\n",
       "ge_ppm   -0.120566\n",
       "Name: in_ppm, dtype: float64"
      ]
     },
     "execution_count": 235,
     "metadata": {},
     "output_type": "execute_result"
    }
   ],
   "source": [
    "only_in[0:10]"
   ]
  },
  {
   "cell_type": "code",
   "execution_count": 236,
   "metadata": {},
   "outputs": [
    {
     "data": {
      "text/plain": [
       "zn_ppm    0.288758\n",
       "p_ppm     0.291422\n",
       "cd_ppm    0.323290\n",
       "ag_ppm    0.355329\n",
       "na_ppm    0.362239\n",
       "fe_ppm    0.367910\n",
       "mg_ppm    0.370688\n",
       "cu_ppm    0.387313\n",
       "tm_ppm    0.398653\n",
       "co_ppm    0.512394\n",
       "se_ppm    0.522947\n",
       "k_ppm     0.525592\n",
       "al_ppm    0.545555\n",
       "bi_ppm    0.647232\n",
       "in_ppm    1.000000\n",
       "br_ppm         NaN\n",
       "cl_ppm         NaN\n",
       "ir_ppm         NaN\n",
       "si_ppm         NaN\n",
       "rh_ppm         NaN\n",
       "Name: in_ppm, dtype: float64"
      ]
     },
     "execution_count": 236,
     "metadata": {},
     "output_type": "execute_result"
    }
   ],
   "source": [
    "only_in[-20:]"
   ]
  },
  {
   "cell_type": "code",
   "execution_count": 237,
   "metadata": {},
   "outputs": [],
   "source": [
    "only_minedex = VMS_WA[Zn_deposits].corr()"
   ]
  },
  {
   "cell_type": "code",
   "execution_count": 238,
   "metadata": {},
   "outputs": [
    {
     "data": {
      "text/html": [
       "<div>\n",
       "<style scoped>\n",
       "    .dataframe tbody tr th:only-of-type {\n",
       "        vertical-align: middle;\n",
       "    }\n",
       "\n",
       "    .dataframe tbody tr th {\n",
       "        vertical-align: top;\n",
       "    }\n",
       "\n",
       "    .dataframe thead th {\n",
       "        text-align: right;\n",
       "    }\n",
       "</style>\n",
       "<table border=\"1\" class=\"dataframe\">\n",
       "  <thead>\n",
       "    <tr style=\"text-align: right;\">\n",
       "      <th></th>\n",
       "      <th>zn_ppm</th>\n",
       "      <th>ag_ppm</th>\n",
       "      <th>cu_ppm</th>\n",
       "      <th>pb_ppm</th>\n",
       "      <th>au_ppm</th>\n",
       "      <th>co_ppm</th>\n",
       "      <th>in_ppm</th>\n",
       "      <th>ge_ppm</th>\n",
       "      <th>latitude</th>\n",
       "      <th>longitude</th>\n",
       "    </tr>\n",
       "  </thead>\n",
       "  <tbody>\n",
       "    <tr>\n",
       "      <th>zn_ppm</th>\n",
       "      <td>1.000000</td>\n",
       "      <td>0.638772</td>\n",
       "      <td>-0.041350</td>\n",
       "      <td>-0.129816</td>\n",
       "      <td>-0.116342</td>\n",
       "      <td>0.011938</td>\n",
       "      <td>0.288758</td>\n",
       "      <td>-0.156078</td>\n",
       "      <td>0.028752</td>\n",
       "      <td>-0.129235</td>\n",
       "    </tr>\n",
       "    <tr>\n",
       "      <th>ag_ppm</th>\n",
       "      <td>0.638772</td>\n",
       "      <td>1.000000</td>\n",
       "      <td>0.309396</td>\n",
       "      <td>-0.107975</td>\n",
       "      <td>-0.097036</td>\n",
       "      <td>0.146962</td>\n",
       "      <td>0.355329</td>\n",
       "      <td>-0.130267</td>\n",
       "      <td>-0.264328</td>\n",
       "      <td>-0.031807</td>\n",
       "    </tr>\n",
       "    <tr>\n",
       "      <th>cu_ppm</th>\n",
       "      <td>-0.041350</td>\n",
       "      <td>0.309396</td>\n",
       "      <td>1.000000</td>\n",
       "      <td>-0.078478</td>\n",
       "      <td>-0.070763</td>\n",
       "      <td>0.495990</td>\n",
       "      <td>0.387313</td>\n",
       "      <td>-0.094796</td>\n",
       "      <td>-0.092423</td>\n",
       "      <td>0.168814</td>\n",
       "    </tr>\n",
       "    <tr>\n",
       "      <th>pb_ppm</th>\n",
       "      <td>-0.129816</td>\n",
       "      <td>-0.107975</td>\n",
       "      <td>-0.078478</td>\n",
       "      <td>1.000000</td>\n",
       "      <td>0.654495</td>\n",
       "      <td>-0.119109</td>\n",
       "      <td>-0.098714</td>\n",
       "      <td>0.352527</td>\n",
       "      <td>-0.029589</td>\n",
       "      <td>-0.180255</td>\n",
       "    </tr>\n",
       "    <tr>\n",
       "      <th>au_ppm</th>\n",
       "      <td>-0.116342</td>\n",
       "      <td>-0.097036</td>\n",
       "      <td>-0.070763</td>\n",
       "      <td>0.654495</td>\n",
       "      <td>1.000000</td>\n",
       "      <td>-0.108407</td>\n",
       "      <td>-0.089742</td>\n",
       "      <td>0.311460</td>\n",
       "      <td>-0.117308</td>\n",
       "      <td>-0.167755</td>\n",
       "    </tr>\n",
       "    <tr>\n",
       "      <th>co_ppm</th>\n",
       "      <td>0.011938</td>\n",
       "      <td>0.146962</td>\n",
       "      <td>0.495990</td>\n",
       "      <td>-0.119109</td>\n",
       "      <td>-0.108407</td>\n",
       "      <td>1.000000</td>\n",
       "      <td>0.512394</td>\n",
       "      <td>-0.144361</td>\n",
       "      <td>-0.093722</td>\n",
       "      <td>0.040173</td>\n",
       "    </tr>\n",
       "    <tr>\n",
       "      <th>in_ppm</th>\n",
       "      <td>0.288758</td>\n",
       "      <td>0.355329</td>\n",
       "      <td>0.387313</td>\n",
       "      <td>-0.098714</td>\n",
       "      <td>-0.089742</td>\n",
       "      <td>0.512394</td>\n",
       "      <td>1.000000</td>\n",
       "      <td>-0.120566</td>\n",
       "      <td>-0.087987</td>\n",
       "      <td>0.083206</td>\n",
       "    </tr>\n",
       "    <tr>\n",
       "      <th>ge_ppm</th>\n",
       "      <td>-0.156078</td>\n",
       "      <td>-0.130267</td>\n",
       "      <td>-0.094796</td>\n",
       "      <td>0.352527</td>\n",
       "      <td>0.311460</td>\n",
       "      <td>-0.144361</td>\n",
       "      <td>-0.120566</td>\n",
       "      <td>1.000000</td>\n",
       "      <td>-0.141071</td>\n",
       "      <td>0.114465</td>\n",
       "    </tr>\n",
       "    <tr>\n",
       "      <th>latitude</th>\n",
       "      <td>0.028752</td>\n",
       "      <td>-0.264328</td>\n",
       "      <td>-0.092423</td>\n",
       "      <td>-0.029589</td>\n",
       "      <td>-0.117308</td>\n",
       "      <td>-0.093722</td>\n",
       "      <td>-0.087987</td>\n",
       "      <td>-0.141071</td>\n",
       "      <td>1.000000</td>\n",
       "      <td>-0.273042</td>\n",
       "    </tr>\n",
       "    <tr>\n",
       "      <th>longitude</th>\n",
       "      <td>-0.129235</td>\n",
       "      <td>-0.031807</td>\n",
       "      <td>0.168814</td>\n",
       "      <td>-0.180255</td>\n",
       "      <td>-0.167755</td>\n",
       "      <td>0.040173</td>\n",
       "      <td>0.083206</td>\n",
       "      <td>0.114465</td>\n",
       "      <td>-0.273042</td>\n",
       "      <td>1.000000</td>\n",
       "    </tr>\n",
       "  </tbody>\n",
       "</table>\n",
       "</div>"
      ],
      "text/plain": [
       "             zn_ppm    ag_ppm    cu_ppm    pb_ppm    au_ppm    co_ppm  \\\n",
       "zn_ppm     1.000000  0.638772 -0.041350 -0.129816 -0.116342  0.011938   \n",
       "ag_ppm     0.638772  1.000000  0.309396 -0.107975 -0.097036  0.146962   \n",
       "cu_ppm    -0.041350  0.309396  1.000000 -0.078478 -0.070763  0.495990   \n",
       "pb_ppm    -0.129816 -0.107975 -0.078478  1.000000  0.654495 -0.119109   \n",
       "au_ppm    -0.116342 -0.097036 -0.070763  0.654495  1.000000 -0.108407   \n",
       "co_ppm     0.011938  0.146962  0.495990 -0.119109 -0.108407  1.000000   \n",
       "in_ppm     0.288758  0.355329  0.387313 -0.098714 -0.089742  0.512394   \n",
       "ge_ppm    -0.156078 -0.130267 -0.094796  0.352527  0.311460 -0.144361   \n",
       "latitude   0.028752 -0.264328 -0.092423 -0.029589 -0.117308 -0.093722   \n",
       "longitude -0.129235 -0.031807  0.168814 -0.180255 -0.167755  0.040173   \n",
       "\n",
       "             in_ppm    ge_ppm  latitude  longitude  \n",
       "zn_ppm     0.288758 -0.156078  0.028752  -0.129235  \n",
       "ag_ppm     0.355329 -0.130267 -0.264328  -0.031807  \n",
       "cu_ppm     0.387313 -0.094796 -0.092423   0.168814  \n",
       "pb_ppm    -0.098714  0.352527 -0.029589  -0.180255  \n",
       "au_ppm    -0.089742  0.311460 -0.117308  -0.167755  \n",
       "co_ppm     0.512394 -0.144361 -0.093722   0.040173  \n",
       "in_ppm     1.000000 -0.120566 -0.087987   0.083206  \n",
       "ge_ppm    -0.120566  1.000000 -0.141071   0.114465  \n",
       "latitude  -0.087987 -0.141071  1.000000  -0.273042  \n",
       "longitude  0.083206  0.114465 -0.273042   1.000000  "
      ]
     },
     "execution_count": 238,
     "metadata": {},
     "output_type": "execute_result"
    }
   ],
   "source": [
    "only_minedex"
   ]
  },
  {
   "cell_type": "code",
   "execution_count": 239,
   "metadata": {},
   "outputs": [],
   "source": [
    "only_minedex.to_csv('GeIn_correlations_WA_CMOG.csv')"
   ]
  },
  {
   "cell_type": "markdown",
   "metadata": {},
   "source": [
    "### Cobalt deposits - All countries"
   ]
  },
  {
   "cell_type": "markdown",
   "metadata": {},
   "source": [
    "Co_Deposits = ['Komatiite', 'Ultramafic and (or) mafic-layered intrusion',  'Ultramafic and (or) mafic intrusion', 'Ultramafic and (or) mafic conduit']\n",
    "Co_Deposits = df[df['deposit_group'].isin(Co_Deposits)]\n",
    "Co_Deposits.shape#### Cobalt deposits"
   ]
  },
  {
   "cell_type": "code",
   "execution_count": 155,
   "metadata": {},
   "outputs": [
    {
     "data": {
      "text/plain": [
       "(940, 78)"
      ]
     },
     "execution_count": 155,
     "metadata": {},
     "output_type": "execute_result"
    }
   ],
   "source": [
    "Co_Deposits = ['Komatiite', 'Ultramafic and (or) mafic-layered intrusion',  'Ultramafic and (or) mafic intrusion', 'Ultramafic and (or) mafic conduit']\n",
    "Co_Deposits = df_ppm[df_ppm['deposit_group'].isin(Co_Deposits)]\n",
    "Co_Deposits.shape"
   ]
  },
  {
   "cell_type": "code",
   "execution_count": 156,
   "metadata": {},
   "outputs": [
    {
     "data": {
      "text/plain": [
       "(3, 78)"
      ]
     },
     "execution_count": 156,
     "metadata": {},
     "output_type": "execute_result"
    }
   ],
   "source": [
    "Co_Deposits[Co_Deposits['ni_ppm'] > 300000].shape"
   ]
  },
  {
   "cell_type": "code",
   "execution_count": 157,
   "metadata": {},
   "outputs": [
    {
     "data": {
      "text/plain": [
       "<AxesSubplot:>"
      ]
     },
     "execution_count": 157,
     "metadata": {},
     "output_type": "execute_result"
    },
    {
     "data": {
      "image/png": "[encoded data removed]",
      "text/plain": [
       "<Figure size 432x288 with 1 Axes>"
      ]
     },
     "metadata": {
      "needs_background": "light"
     },
     "output_type": "display_data"
    }
   ],
   "source": [
    "Co_Deposits['ni_ppm'].plot(kind='box')"
   ]
  },
  {
   "cell_type": "code",
   "execution_count": 158,
   "metadata": {},
   "outputs": [],
   "source": [
    "Co_deposits = Co_Deposits[Co_Deposits['ni_ppm'] < 300000]"
   ]
  },
  {
   "cell_type": "code",
   "execution_count": 159,
   "metadata": {},
   "outputs": [
    {
     "data": {
      "text/plain": [
       "<AxesSubplot:>"
      ]
     },
     "execution_count": 159,
     "metadata": {},
     "output_type": "execute_result"
    },
    {
     "data": {
      "image/png": "[encoded data removed]",
      "text/plain": [
       "<Figure size 432x288 with 1 Axes>"
      ]
     },
     "metadata": {
      "needs_background": "light"
     },
     "output_type": "display_data"
    }
   ],
   "source": [
    "Co_Deposits['co_ppm'].plot(kind='box')"
   ]
  },
  {
   "cell_type": "code",
   "execution_count": 160,
   "metadata": {
    "tags": []
   },
   "outputs": [],
   "source": [
    "#remove outliers very far from the rest\n",
    "Co_Deposits = Co_Deposits[Co_Deposits['co_ppm'] < 7500]"
   ]
  },
  {
   "cell_type": "code",
   "execution_count": 161,
   "metadata": {},
   "outputs": [
    {
     "data": {
      "text/plain": [
       "(935, 78)"
      ]
     },
     "execution_count": 161,
     "metadata": {},
     "output_type": "execute_result"
    }
   ],
   "source": [
    "Co_Deposits.shape"
   ]
  },
  {
   "cell_type": "code",
   "execution_count": 162,
   "metadata": {},
   "outputs": [],
   "source": [
    "Co_Deposits_corr = Co_Deposits.corr()"
   ]
  },
  {
   "cell_type": "code",
   "execution_count": 163,
   "metadata": {},
   "outputs": [],
   "source": [
    "only_co = Co_Deposits_corr['co_ppm'].sort_values()"
   ]
  },
  {
   "cell_type": "code",
   "execution_count": 164,
   "metadata": {},
   "outputs": [
    {
     "data": {
      "text/plain": [
       "s_ppm       -0.080152\n",
       "ree_y_ppm   -0.078147\n",
       "sc_ppm      -0.075607\n",
       "cr_ppm      -0.068273\n",
       "Name: co_ppm, dtype: float64"
      ]
     },
     "execution_count": 164,
     "metadata": {},
     "output_type": "execute_result"
    }
   ],
   "source": [
    "only_co[1:5]"
   ]
  },
  {
   "cell_type": "code",
   "execution_count": 165,
   "metadata": {},
   "outputs": [
    {
     "data": {
      "text/plain": [
       "tm_ppm      0.075257\n",
       "bi_ppm      0.127725\n",
       "pt_ppm      0.145781\n",
       "tl_ppm      0.167169\n",
       "se_ppm      0.278097\n",
       "fe_ppm      0.349492\n",
       "latitude    0.385601\n",
       "ni_ppm      0.747719\n",
       "co_ppm      1.000000\n",
       "rh_ppm           NaN\n",
       "Name: co_ppm, dtype: float64"
      ]
     },
     "execution_count": 165,
     "metadata": {},
     "output_type": "execute_result"
    }
   ],
   "source": [
    "only_co[-10:]"
   ]
  },
  {
   "cell_type": "code",
   "execution_count": 166,
   "metadata": {},
   "outputs": [],
   "source": [
    "only_minedex_co = Co_Deposits[['ni_ppm','cu_ppm','co_ppm', 'pd_ppm', 'au_ppm','pt_ppm', 'rh_ppm', 'fe_ppm', 's_ppm', 'ag_ppm', 'latitude', 'longitude']].corr()"
   ]
  },
  {
   "cell_type": "code",
   "execution_count": 167,
   "metadata": {},
   "outputs": [
    {
     "data": {
      "text/plain": [
       "count    935.0\n",
       "mean       0.0\n",
       "std        0.0\n",
       "min        0.0\n",
       "25%        0.0\n",
       "50%        0.0\n",
       "75%        0.0\n",
       "max        0.0\n",
       "Name: rh_ppm, dtype: float64"
      ]
     },
     "execution_count": 167,
     "metadata": {},
     "output_type": "execute_result"
    }
   ],
   "source": [
    "Co_Deposits['rh_ppm'].describe() #rh is 0 because only 0s in the data"
   ]
  },
  {
   "cell_type": "code",
   "execution_count": 168,
   "metadata": {},
   "outputs": [
    {
     "data": {
      "text/html": [
       "<div>\n",
       "<style scoped>\n",
       "    .dataframe tbody tr th:only-of-type {\n",
       "        vertical-align: middle;\n",
       "    }\n",
       "\n",
       "    .dataframe tbody tr th {\n",
       "        vertical-align: top;\n",
       "    }\n",
       "\n",
       "    .dataframe thead th {\n",
       "        text-align: right;\n",
       "    }\n",
       "</style>\n",
       "<table border=\"1\" class=\"dataframe\">\n",
       "  <thead>\n",
       "    <tr style=\"text-align: right;\">\n",
       "      <th></th>\n",
       "      <th>ni_ppm</th>\n",
       "      <th>cu_ppm</th>\n",
       "      <th>co_ppm</th>\n",
       "      <th>pd_ppm</th>\n",
       "      <th>au_ppm</th>\n",
       "      <th>pt_ppm</th>\n",
       "      <th>rh_ppm</th>\n",
       "      <th>fe_ppm</th>\n",
       "      <th>s_ppm</th>\n",
       "      <th>ag_ppm</th>\n",
       "      <th>latitude</th>\n",
       "      <th>longitude</th>\n",
       "    </tr>\n",
       "  </thead>\n",
       "  <tbody>\n",
       "    <tr>\n",
       "      <th>ni_ppm</th>\n",
       "      <td>1.000000</td>\n",
       "      <td>0.045486</td>\n",
       "      <td>0.747719</td>\n",
       "      <td>0.089866</td>\n",
       "      <td>0.114184</td>\n",
       "      <td>0.181423</td>\n",
       "      <td>NaN</td>\n",
       "      <td>0.287543</td>\n",
       "      <td>-0.039207</td>\n",
       "      <td>-0.002055</td>\n",
       "      <td>0.260394</td>\n",
       "      <td>-0.280537</td>\n",
       "    </tr>\n",
       "    <tr>\n",
       "      <th>cu_ppm</th>\n",
       "      <td>0.045486</td>\n",
       "      <td>1.000000</td>\n",
       "      <td>0.003227</td>\n",
       "      <td>0.522426</td>\n",
       "      <td>0.010441</td>\n",
       "      <td>0.327312</td>\n",
       "      <td>NaN</td>\n",
       "      <td>-0.018315</td>\n",
       "      <td>-0.064607</td>\n",
       "      <td>0.104216</td>\n",
       "      <td>0.410661</td>\n",
       "      <td>-0.432506</td>\n",
       "    </tr>\n",
       "    <tr>\n",
       "      <th>co_ppm</th>\n",
       "      <td>0.747719</td>\n",
       "      <td>0.003227</td>\n",
       "      <td>1.000000</td>\n",
       "      <td>0.041046</td>\n",
       "      <td>0.034799</td>\n",
       "      <td>0.145781</td>\n",
       "      <td>NaN</td>\n",
       "      <td>0.349492</td>\n",
       "      <td>-0.080152</td>\n",
       "      <td>-0.009339</td>\n",
       "      <td>0.385601</td>\n",
       "      <td>-0.409209</td>\n",
       "    </tr>\n",
       "    <tr>\n",
       "      <th>pd_ppm</th>\n",
       "      <td>0.089866</td>\n",
       "      <td>0.522426</td>\n",
       "      <td>0.041046</td>\n",
       "      <td>1.000000</td>\n",
       "      <td>0.045812</td>\n",
       "      <td>0.397869</td>\n",
       "      <td>NaN</td>\n",
       "      <td>-0.058215</td>\n",
       "      <td>-0.032290</td>\n",
       "      <td>0.022611</td>\n",
       "      <td>0.255180</td>\n",
       "      <td>-0.266478</td>\n",
       "    </tr>\n",
       "    <tr>\n",
       "      <th>au_ppm</th>\n",
       "      <td>0.114184</td>\n",
       "      <td>0.010441</td>\n",
       "      <td>0.034799</td>\n",
       "      <td>0.045812</td>\n",
       "      <td>1.000000</td>\n",
       "      <td>0.098370</td>\n",
       "      <td>NaN</td>\n",
       "      <td>-0.026904</td>\n",
       "      <td>0.064500</td>\n",
       "      <td>0.002727</td>\n",
       "      <td>0.048121</td>\n",
       "      <td>-0.022561</td>\n",
       "    </tr>\n",
       "    <tr>\n",
       "      <th>pt_ppm</th>\n",
       "      <td>0.181423</td>\n",
       "      <td>0.327312</td>\n",
       "      <td>0.145781</td>\n",
       "      <td>0.397869</td>\n",
       "      <td>0.098370</td>\n",
       "      <td>1.000000</td>\n",
       "      <td>NaN</td>\n",
       "      <td>-0.054729</td>\n",
       "      <td>-0.036354</td>\n",
       "      <td>0.022852</td>\n",
       "      <td>0.249013</td>\n",
       "      <td>-0.272896</td>\n",
       "    </tr>\n",
       "    <tr>\n",
       "      <th>rh_ppm</th>\n",
       "      <td>NaN</td>\n",
       "      <td>NaN</td>\n",
       "      <td>NaN</td>\n",
       "      <td>NaN</td>\n",
       "      <td>NaN</td>\n",
       "      <td>NaN</td>\n",
       "      <td>NaN</td>\n",
       "      <td>NaN</td>\n",
       "      <td>NaN</td>\n",
       "      <td>NaN</td>\n",
       "      <td>NaN</td>\n",
       "      <td>NaN</td>\n",
       "    </tr>\n",
       "    <tr>\n",
       "      <th>fe_ppm</th>\n",
       "      <td>0.287543</td>\n",
       "      <td>-0.018315</td>\n",
       "      <td>0.349492</td>\n",
       "      <td>-0.058215</td>\n",
       "      <td>-0.026904</td>\n",
       "      <td>-0.054729</td>\n",
       "      <td>NaN</td>\n",
       "      <td>1.000000</td>\n",
       "      <td>0.006876</td>\n",
       "      <td>0.041693</td>\n",
       "      <td>-0.002090</td>\n",
       "      <td>0.001094</td>\n",
       "    </tr>\n",
       "    <tr>\n",
       "      <th>s_ppm</th>\n",
       "      <td>-0.039207</td>\n",
       "      <td>-0.064607</td>\n",
       "      <td>-0.080152</td>\n",
       "      <td>-0.032290</td>\n",
       "      <td>0.064500</td>\n",
       "      <td>-0.036354</td>\n",
       "      <td>NaN</td>\n",
       "      <td>0.006876</td>\n",
       "      <td>1.000000</td>\n",
       "      <td>-0.020172</td>\n",
       "      <td>-0.064090</td>\n",
       "      <td>0.080691</td>\n",
       "    </tr>\n",
       "    <tr>\n",
       "      <th>ag_ppm</th>\n",
       "      <td>-0.002055</td>\n",
       "      <td>0.104216</td>\n",
       "      <td>-0.009339</td>\n",
       "      <td>0.022611</td>\n",
       "      <td>0.002727</td>\n",
       "      <td>0.022852</td>\n",
       "      <td>NaN</td>\n",
       "      <td>0.041693</td>\n",
       "      <td>-0.020172</td>\n",
       "      <td>1.000000</td>\n",
       "      <td>0.098581</td>\n",
       "      <td>-0.046435</td>\n",
       "    </tr>\n",
       "    <tr>\n",
       "      <th>latitude</th>\n",
       "      <td>0.260394</td>\n",
       "      <td>0.410661</td>\n",
       "      <td>0.385601</td>\n",
       "      <td>0.255180</td>\n",
       "      <td>0.048121</td>\n",
       "      <td>0.249013</td>\n",
       "      <td>NaN</td>\n",
       "      <td>-0.002090</td>\n",
       "      <td>-0.064090</td>\n",
       "      <td>0.098581</td>\n",
       "      <td>1.000000</td>\n",
       "      <td>-0.917988</td>\n",
       "    </tr>\n",
       "    <tr>\n",
       "      <th>longitude</th>\n",
       "      <td>-0.280537</td>\n",
       "      <td>-0.432506</td>\n",
       "      <td>-0.409209</td>\n",
       "      <td>-0.266478</td>\n",
       "      <td>-0.022561</td>\n",
       "      <td>-0.272896</td>\n",
       "      <td>NaN</td>\n",
       "      <td>0.001094</td>\n",
       "      <td>0.080691</td>\n",
       "      <td>-0.046435</td>\n",
       "      <td>-0.917988</td>\n",
       "      <td>1.000000</td>\n",
       "    </tr>\n",
       "  </tbody>\n",
       "</table>\n",
       "</div>"
      ],
      "text/plain": [
       "             ni_ppm    cu_ppm    co_ppm    pd_ppm    au_ppm    pt_ppm  rh_ppm  \\\n",
       "ni_ppm     1.000000  0.045486  0.747719  0.089866  0.114184  0.181423     NaN   \n",
       "cu_ppm     0.045486  1.000000  0.003227  0.522426  0.010441  0.327312     NaN   \n",
       "co_ppm     0.747719  0.003227  1.000000  0.041046  0.034799  0.145781     NaN   \n",
       "pd_ppm     0.089866  0.522426  0.041046  1.000000  0.045812  0.397869     NaN   \n",
       "au_ppm     0.114184  0.010441  0.034799  0.045812  1.000000  0.098370     NaN   \n",
       "pt_ppm     0.181423  0.327312  0.145781  0.397869  0.098370  1.000000     NaN   \n",
       "rh_ppm          NaN       NaN       NaN       NaN       NaN       NaN     NaN   \n",
       "fe_ppm     0.287543 -0.018315  0.349492 -0.058215 -0.026904 -0.054729     NaN   \n",
       "s_ppm     -0.039207 -0.064607 -0.080152 -0.032290  0.064500 -0.036354     NaN   \n",
       "ag_ppm    -0.002055  0.104216 -0.009339  0.022611  0.002727  0.022852     NaN   \n",
       "latitude   0.260394  0.410661  0.385601  0.255180  0.048121  0.249013     NaN   \n",
       "longitude -0.280537 -0.432506 -0.409209 -0.266478 -0.022561 -0.272896     NaN   \n",
       "\n",
       "             fe_ppm     s_ppm    ag_ppm  latitude  longitude  \n",
       "ni_ppm     0.287543 -0.039207 -0.002055  0.260394  -0.280537  \n",
       "cu_ppm    -0.018315 -0.064607  0.104216  0.410661  -0.432506  \n",
       "co_ppm     0.349492 -0.080152 -0.009339  0.385601  -0.409209  \n",
       "pd_ppm    -0.058215 -0.032290  0.022611  0.255180  -0.266478  \n",
       "au_ppm    -0.026904  0.064500  0.002727  0.048121  -0.022561  \n",
       "pt_ppm    -0.054729 -0.036354  0.022852  0.249013  -0.272896  \n",
       "rh_ppm          NaN       NaN       NaN       NaN        NaN  \n",
       "fe_ppm     1.000000  0.006876  0.041693 -0.002090   0.001094  \n",
       "s_ppm      0.006876  1.000000 -0.020172 -0.064090   0.080691  \n",
       "ag_ppm     0.041693 -0.020172  1.000000  0.098581  -0.046435  \n",
       "latitude  -0.002090 -0.064090  0.098581  1.000000  -0.917988  \n",
       "longitude  0.001094  0.080691 -0.046435 -0.917988   1.000000  "
      ]
     },
     "execution_count": 168,
     "metadata": {},
     "output_type": "execute_result"
    }
   ],
   "source": [
    "only_minedex_co"
   ]
  },
  {
   "cell_type": "code",
   "execution_count": 169,
   "metadata": {},
   "outputs": [],
   "source": [
    "only_minedex_co.to_csv('Co_correlations_All_countries_CMOG.csv')"
   ]
  },
  {
   "cell_type": "markdown",
   "metadata": {},
   "source": [
    "### Cobalt - Australia "
   ]
  },
  {
   "cell_type": "code",
   "execution_count": 170,
   "metadata": {},
   "outputs": [],
   "source": [
    "Co_Deposits_Au = Co_Deposits[Co_Deposits['country'] == 'AUS']"
   ]
  },
  {
   "cell_type": "code",
   "execution_count": 171,
   "metadata": {},
   "outputs": [
    {
     "data": {
      "text/plain": [
       "(512, 78)"
      ]
     },
     "execution_count": 171,
     "metadata": {},
     "output_type": "execute_result"
    }
   ],
   "source": [
    "Co_Deposits_Au.shape"
   ]
  },
  {
   "cell_type": "code",
   "execution_count": 172,
   "metadata": {},
   "outputs": [
    {
     "data": {
      "text/plain": [
       "AU-WA    512\n",
       "Name: state, dtype: int64"
      ]
     },
     "execution_count": 172,
     "metadata": {},
     "output_type": "execute_result"
    }
   ],
   "source": [
    "Co_Deposits_Au['state'].value_counts()"
   ]
  },
  {
   "cell_type": "code",
   "execution_count": 173,
   "metadata": {},
   "outputs": [],
   "source": [
    "Co_Deposits_Au_corr = Co_Deposits_Au.corr()"
   ]
  },
  {
   "cell_type": "code",
   "execution_count": 179,
   "metadata": {},
   "outputs": [],
   "source": [
    "only_co = Co_Deposits_Au_corr['co_ppm'].sort_values()"
   ]
  },
  {
   "cell_type": "code",
   "execution_count": 180,
   "metadata": {},
   "outputs": [
    {
     "data": {
      "text/plain": [
       "ge_ppm     -0.141412\n",
       "zr_ppm     -0.119805\n",
       "ga_ppm     -0.093263\n",
       "s_ppm      -0.082183\n",
       "b_ppm      -0.078389\n",
       "cl_ppm     -0.077078\n",
       "latitude   -0.076408\n",
       "ti_ppm     -0.068487\n",
       "ta_ppm     -0.068066\n",
       "Name: co_ppm, dtype: float64"
      ]
     },
     "execution_count": 180,
     "metadata": {},
     "output_type": "execute_result"
    }
   ],
   "source": [
    "only_co[1:10]"
   ]
  },
  {
   "cell_type": "code",
   "execution_count": 182,
   "metadata": {},
   "outputs": [
    {
     "data": {
      "text/plain": [
       "hree_ppm    0.321201\n",
       "dy_ppm      0.324500\n",
       "ho_ppm      0.327507\n",
       "tb_ppm      0.332543\n",
       "ca_ppm      0.335353\n",
       "er_ppm      0.337649\n",
       "bi_ppm      0.344122\n",
       "yb_ppm      0.345795\n",
       "cd_ppm      0.353224\n",
       "tl_ppm      0.355595\n",
       "tm_ppm      0.362730\n",
       "p_ppm       0.417563\n",
       "in_ppm      0.454958\n",
       "se_ppm      0.653759\n",
       "ni_ppm      0.854877\n",
       "fe_ppm      0.895821\n",
       "co_ppm      1.000000\n",
       "br_ppm           NaN\n",
       "si_ppm           NaN\n",
       "rh_ppm           NaN\n",
       "Name: co_ppm, dtype: float64"
      ]
     },
     "execution_count": 182,
     "metadata": {},
     "output_type": "execute_result"
    }
   ],
   "source": [
    "only_co[-20:]"
   ]
  },
  {
   "cell_type": "code",
   "execution_count": 176,
   "metadata": {},
   "outputs": [],
   "source": [
    "only_minedex_co = Co_Deposits_Au[['ni_ppm','cu_ppm','co_ppm', 'pd_ppm', 'au_ppm','pt_ppm', 'rh_ppm', 'fe_ppm', 's_ppm', 'ag_ppm', 'latitude', 'longitude']].corr()"
   ]
  },
  {
   "cell_type": "code",
   "execution_count": 177,
   "metadata": {},
   "outputs": [
    {
     "data": {
      "text/html": [
       "<div>\n",
       "<style scoped>\n",
       "    .dataframe tbody tr th:only-of-type {\n",
       "        vertical-align: middle;\n",
       "    }\n",
       "\n",
       "    .dataframe tbody tr th {\n",
       "        vertical-align: top;\n",
       "    }\n",
       "\n",
       "    .dataframe thead th {\n",
       "        text-align: right;\n",
       "    }\n",
       "</style>\n",
       "<table border=\"1\" class=\"dataframe\">\n",
       "  <thead>\n",
       "    <tr style=\"text-align: right;\">\n",
       "      <th></th>\n",
       "      <th>ni_ppm</th>\n",
       "      <th>cu_ppm</th>\n",
       "      <th>co_ppm</th>\n",
       "      <th>pd_ppm</th>\n",
       "      <th>au_ppm</th>\n",
       "      <th>pt_ppm</th>\n",
       "      <th>rh_ppm</th>\n",
       "      <th>fe_ppm</th>\n",
       "      <th>s_ppm</th>\n",
       "      <th>ag_ppm</th>\n",
       "      <th>latitude</th>\n",
       "      <th>longitude</th>\n",
       "    </tr>\n",
       "  </thead>\n",
       "  <tbody>\n",
       "    <tr>\n",
       "      <th>ni_ppm</th>\n",
       "      <td>1.000000</td>\n",
       "      <td>0.192028</td>\n",
       "      <td>0.854877</td>\n",
       "      <td>-0.050372</td>\n",
       "      <td>-0.013493</td>\n",
       "      <td>-0.035662</td>\n",
       "      <td>NaN</td>\n",
       "      <td>0.811370</td>\n",
       "      <td>-0.065218</td>\n",
       "      <td>0.315757</td>\n",
       "      <td>-0.089710</td>\n",
       "      <td>-0.026507</td>\n",
       "    </tr>\n",
       "    <tr>\n",
       "      <th>cu_ppm</th>\n",
       "      <td>0.192028</td>\n",
       "      <td>1.000000</td>\n",
       "      <td>0.243221</td>\n",
       "      <td>0.004675</td>\n",
       "      <td>-0.007161</td>\n",
       "      <td>-0.007313</td>\n",
       "      <td>NaN</td>\n",
       "      <td>0.279303</td>\n",
       "      <td>0.032740</td>\n",
       "      <td>0.190116</td>\n",
       "      <td>0.125084</td>\n",
       "      <td>-0.091637</td>\n",
       "    </tr>\n",
       "    <tr>\n",
       "      <th>co_ppm</th>\n",
       "      <td>0.854877</td>\n",
       "      <td>0.243221</td>\n",
       "      <td>1.000000</td>\n",
       "      <td>-0.059887</td>\n",
       "      <td>-0.016925</td>\n",
       "      <td>-0.043393</td>\n",
       "      <td>NaN</td>\n",
       "      <td>0.895821</td>\n",
       "      <td>-0.082183</td>\n",
       "      <td>0.266596</td>\n",
       "      <td>-0.076408</td>\n",
       "      <td>-0.052546</td>\n",
       "    </tr>\n",
       "    <tr>\n",
       "      <th>pd_ppm</th>\n",
       "      <td>-0.050372</td>\n",
       "      <td>0.004675</td>\n",
       "      <td>-0.059887</td>\n",
       "      <td>1.000000</td>\n",
       "      <td>0.026865</td>\n",
       "      <td>0.680353</td>\n",
       "      <td>NaN</td>\n",
       "      <td>-0.053296</td>\n",
       "      <td>0.457339</td>\n",
       "      <td>-0.037125</td>\n",
       "      <td>0.118610</td>\n",
       "      <td>-0.028855</td>\n",
       "    </tr>\n",
       "    <tr>\n",
       "      <th>au_ppm</th>\n",
       "      <td>-0.013493</td>\n",
       "      <td>-0.007161</td>\n",
       "      <td>-0.016925</td>\n",
       "      <td>0.026865</td>\n",
       "      <td>1.000000</td>\n",
       "      <td>0.009402</td>\n",
       "      <td>NaN</td>\n",
       "      <td>-0.011821</td>\n",
       "      <td>0.038960</td>\n",
       "      <td>-0.017620</td>\n",
       "      <td>-0.031708</td>\n",
       "      <td>0.003117</td>\n",
       "    </tr>\n",
       "    <tr>\n",
       "      <th>pt_ppm</th>\n",
       "      <td>-0.035662</td>\n",
       "      <td>-0.007313</td>\n",
       "      <td>-0.043393</td>\n",
       "      <td>0.680353</td>\n",
       "      <td>0.009402</td>\n",
       "      <td>1.000000</td>\n",
       "      <td>NaN</td>\n",
       "      <td>-0.037006</td>\n",
       "      <td>0.261964</td>\n",
       "      <td>0.000397</td>\n",
       "      <td>0.088097</td>\n",
       "      <td>0.074255</td>\n",
       "    </tr>\n",
       "    <tr>\n",
       "      <th>rh_ppm</th>\n",
       "      <td>NaN</td>\n",
       "      <td>NaN</td>\n",
       "      <td>NaN</td>\n",
       "      <td>NaN</td>\n",
       "      <td>NaN</td>\n",
       "      <td>NaN</td>\n",
       "      <td>NaN</td>\n",
       "      <td>NaN</td>\n",
       "      <td>NaN</td>\n",
       "      <td>NaN</td>\n",
       "      <td>NaN</td>\n",
       "      <td>NaN</td>\n",
       "    </tr>\n",
       "    <tr>\n",
       "      <th>fe_ppm</th>\n",
       "      <td>0.811370</td>\n",
       "      <td>0.279303</td>\n",
       "      <td>0.895821</td>\n",
       "      <td>-0.053296</td>\n",
       "      <td>-0.011821</td>\n",
       "      <td>-0.037006</td>\n",
       "      <td>NaN</td>\n",
       "      <td>1.000000</td>\n",
       "      <td>-0.066041</td>\n",
       "      <td>0.340619</td>\n",
       "      <td>-0.053015</td>\n",
       "      <td>-0.028902</td>\n",
       "    </tr>\n",
       "    <tr>\n",
       "      <th>s_ppm</th>\n",
       "      <td>-0.065218</td>\n",
       "      <td>0.032740</td>\n",
       "      <td>-0.082183</td>\n",
       "      <td>0.457339</td>\n",
       "      <td>0.038960</td>\n",
       "      <td>0.261964</td>\n",
       "      <td>NaN</td>\n",
       "      <td>-0.066041</td>\n",
       "      <td>1.000000</td>\n",
       "      <td>-0.098667</td>\n",
       "      <td>-0.051420</td>\n",
       "      <td>-0.043261</td>\n",
       "    </tr>\n",
       "    <tr>\n",
       "      <th>ag_ppm</th>\n",
       "      <td>0.315757</td>\n",
       "      <td>0.190116</td>\n",
       "      <td>0.266596</td>\n",
       "      <td>-0.037125</td>\n",
       "      <td>-0.017620</td>\n",
       "      <td>0.000397</td>\n",
       "      <td>NaN</td>\n",
       "      <td>0.340619</td>\n",
       "      <td>-0.098667</td>\n",
       "      <td>1.000000</td>\n",
       "      <td>0.389008</td>\n",
       "      <td>0.423200</td>\n",
       "    </tr>\n",
       "    <tr>\n",
       "      <th>latitude</th>\n",
       "      <td>-0.089710</td>\n",
       "      <td>0.125084</td>\n",
       "      <td>-0.076408</td>\n",
       "      <td>0.118610</td>\n",
       "      <td>-0.031708</td>\n",
       "      <td>0.088097</td>\n",
       "      <td>NaN</td>\n",
       "      <td>-0.053015</td>\n",
       "      <td>-0.051420</td>\n",
       "      <td>0.389008</td>\n",
       "      <td>1.000000</td>\n",
       "      <td>0.142623</td>\n",
       "    </tr>\n",
       "    <tr>\n",
       "      <th>longitude</th>\n",
       "      <td>-0.026507</td>\n",
       "      <td>-0.091637</td>\n",
       "      <td>-0.052546</td>\n",
       "      <td>-0.028855</td>\n",
       "      <td>0.003117</td>\n",
       "      <td>0.074255</td>\n",
       "      <td>NaN</td>\n",
       "      <td>-0.028902</td>\n",
       "      <td>-0.043261</td>\n",
       "      <td>0.423200</td>\n",
       "      <td>0.142623</td>\n",
       "      <td>1.000000</td>\n",
       "    </tr>\n",
       "  </tbody>\n",
       "</table>\n",
       "</div>"
      ],
      "text/plain": [
       "             ni_ppm    cu_ppm    co_ppm    pd_ppm    au_ppm    pt_ppm  rh_ppm  \\\n",
       "ni_ppm     1.000000  0.192028  0.854877 -0.050372 -0.013493 -0.035662     NaN   \n",
       "cu_ppm     0.192028  1.000000  0.243221  0.004675 -0.007161 -0.007313     NaN   \n",
       "co_ppm     0.854877  0.243221  1.000000 -0.059887 -0.016925 -0.043393     NaN   \n",
       "pd_ppm    -0.050372  0.004675 -0.059887  1.000000  0.026865  0.680353     NaN   \n",
       "au_ppm    -0.013493 -0.007161 -0.016925  0.026865  1.000000  0.009402     NaN   \n",
       "pt_ppm    -0.035662 -0.007313 -0.043393  0.680353  0.009402  1.000000     NaN   \n",
       "rh_ppm          NaN       NaN       NaN       NaN       NaN       NaN     NaN   \n",
       "fe_ppm     0.811370  0.279303  0.895821 -0.053296 -0.011821 -0.037006     NaN   \n",
       "s_ppm     -0.065218  0.032740 -0.082183  0.457339  0.038960  0.261964     NaN   \n",
       "ag_ppm     0.315757  0.190116  0.266596 -0.037125 -0.017620  0.000397     NaN   \n",
       "latitude  -0.089710  0.125084 -0.076408  0.118610 -0.031708  0.088097     NaN   \n",
       "longitude -0.026507 -0.091637 -0.052546 -0.028855  0.003117  0.074255     NaN   \n",
       "\n",
       "             fe_ppm     s_ppm    ag_ppm  latitude  longitude  \n",
       "ni_ppm     0.811370 -0.065218  0.315757 -0.089710  -0.026507  \n",
       "cu_ppm     0.279303  0.032740  0.190116  0.125084  -0.091637  \n",
       "co_ppm     0.895821 -0.082183  0.266596 -0.076408  -0.052546  \n",
       "pd_ppm    -0.053296  0.457339 -0.037125  0.118610  -0.028855  \n",
       "au_ppm    -0.011821  0.038960 -0.017620 -0.031708   0.003117  \n",
       "pt_ppm    -0.037006  0.261964  0.000397  0.088097   0.074255  \n",
       "rh_ppm          NaN       NaN       NaN       NaN        NaN  \n",
       "fe_ppm     1.000000 -0.066041  0.340619 -0.053015  -0.028902  \n",
       "s_ppm     -0.066041  1.000000 -0.098667 -0.051420  -0.043261  \n",
       "ag_ppm     0.340619 -0.098667  1.000000  0.389008   0.423200  \n",
       "latitude  -0.053015 -0.051420  0.389008  1.000000   0.142623  \n",
       "longitude -0.028902 -0.043261  0.423200  0.142623   1.000000  "
      ]
     },
     "execution_count": 177,
     "metadata": {},
     "output_type": "execute_result"
    }
   ],
   "source": [
    "only_minedex_co"
   ]
  },
  {
   "cell_type": "code",
   "execution_count": 178,
   "metadata": {},
   "outputs": [],
   "source": [
    "only_minedex_co.to_csv('Co_correlations_Au_CMOG.csv')"
   ]
  },
  {
   "cell_type": "code",
   "execution_count": null,
   "metadata": {},
   "outputs": [],
   "source": []
  }
 ],
 "metadata": {
  "kernelspec": {
   "display_name": "Python 3",
   "language": "python",
   "name": "python3"
  },
  "language_info": {
   "codemirror_mode": {
    "name": "ipython",
    "version": 3
   },
   "file_extension": ".py",
   "mimetype": "text/x-python",
   "name": "python",
   "nbconvert_exporter": "python",
   "pygments_lexer": "ipython3",
   "version": "3.8.10"
  }
 },
 "nbformat": 4,
 "nbformat_minor": 4
}
