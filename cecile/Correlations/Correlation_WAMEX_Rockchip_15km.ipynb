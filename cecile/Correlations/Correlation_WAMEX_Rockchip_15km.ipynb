{
 "cells": [
  {
   "cell_type": "markdown",
   "id": "1f753241",
   "metadata": {},
   "source": [
    "# WAMEX Rockchip Correlations"
   ]
  },
  {
   "cell_type": "markdown",
   "metadata": {},
   "source": [
<<<<<<< HEAD
    "We get the WAMEX Rockchip assays that were within 15km of the relevant MINEDEX sites, remove obvious outliers and observe highest/lowest correlations involving the CM, as well as correlations between the CM and MINEDEX commodities available for the relevant MINEDEX sites. "
=======
    "We use only Rockchip assays that were within 15km of MINEDEX relevant sites. "
>>>>>>> cecile
   ]
  },
  {
   "cell_type": "code",
   "execution_count": 51,
   "id": "e3cb6130",
   "metadata": {},
   "outputs": [],
   "source": [
    "#Cleaning functions\n",
    "def replace_neg9999(val):\n",
    "    if val == -9999: \n",
    "        return 0\n",
    "    else:\n",
    "        return val\n",
    "    \n",
    "def abs_halve_neg_val(val):\n",
    "    if val < 0: \n",
    "        return abs(val) / 2\n",
    "    else: \n",
    "        return val\n",
    "\n",
    "def clean_assays_co(df):\n",
    "    df = df.applymap(replace_neg9999)\n",
    "    df = df.applymap(abs_halve_neg_val)\n",
    "    df = df[df['Ni'] < 300000]\n",
    "    \n",
    "    return df\n",
    "\n",
    "def clean_assays_zn(df):\n",
    "    df = df.applymap(replace_neg9999)\n",
    "    df = df.applymap(abs_halve_neg_val)\n",
    "    \n",
    "    return df"
   ]
  },
  {
   "cell_type": "markdown",
   "id": "2638b92d",
   "metadata": {},
   "source": [
    "## Cobalt"
   ]
  },
  {
   "cell_type": "code",
   "execution_count": 52,
   "id": "bf74a284",
   "metadata": {},
   "outputs": [],
   "source": [
    "import pandas as pd"
   ]
  },
  {
   "cell_type": "code",
   "execution_count": 53,
   "id": "4e58bc49",
   "metadata": {},
   "outputs": [
    {
     "data": {
      "text/html": [
       "<div>\n",
       "<style scoped>\n",
       "    .dataframe tbody tr th:only-of-type {\n",
       "        vertical-align: middle;\n",
       "    }\n",
       "\n",
       "    .dataframe tbody tr th {\n",
       "        vertical-align: top;\n",
       "    }\n",
       "\n",
       "    .dataframe thead th {\n",
       "        text-align: right;\n",
       "    }\n",
       "</style>\n",
       "<table border=\"1\" class=\"dataframe\">\n",
       "  <thead>\n",
       "    <tr style=\"text-align: right;\">\n",
       "      <th></th>\n",
       "      <th>Unnamed: 0_x</th>\n",
       "      <th>Ni</th>\n",
       "      <th>Cu</th>\n",
       "      <th>Co</th>\n",
       "      <th>Pd</th>\n",
       "      <th>Au</th>\n",
       "      <th>Pt</th>\n",
       "      <th>Rh</th>\n",
       "      <th>Fe</th>\n",
       "      <th>S</th>\n",
       "      <th>Ag</th>\n",
       "      <th>lat</th>\n",
       "      <th>long</th>\n",
       "      <th>Unnamed: 0_y</th>\n",
       "      <th>minedex_coords</th>\n",
       "      <th>minedex_site</th>\n",
       "      <th>wamex_lat</th>\n",
       "      <th>wamex_lon</th>\n",
       "      <th>distance</th>\n",
       "    </tr>\n",
       "  </thead>\n",
       "  <tbody>\n",
       "    <tr>\n",
       "      <th>0</th>\n",
       "      <td>33</td>\n",
       "      <td>56.0</td>\n",
       "      <td>420.0</td>\n",
       "      <td>9.0</td>\n",
       "      <td>14.0</td>\n",
       "      <td>0.01</td>\n",
       "      <td>1.0</td>\n",
       "      <td>NaN</td>\n",
       "      <td>NaN</td>\n",
       "      <td>NaN</td>\n",
       "      <td>NaN</td>\n",
       "      <td>-17.234642</td>\n",
       "      <td>128.032146</td>\n",
       "      <td>46661</td>\n",
       "      <td>(-17.34893, 128.022095)</td>\n",
       "      <td>S0001442</td>\n",
       "      <td>-17.234642</td>\n",
       "      <td>128.032146</td>\n",
       "      <td>12.693593881734987 km</td>\n",
       "    </tr>\n",
       "    <tr>\n",
       "      <th>1</th>\n",
       "      <td>33</td>\n",
       "      <td>56.0</td>\n",
       "      <td>420.0</td>\n",
       "      <td>9.0</td>\n",
       "      <td>14.0</td>\n",
       "      <td>0.01</td>\n",
       "      <td>1.0</td>\n",
       "      <td>NaN</td>\n",
       "      <td>NaN</td>\n",
       "      <td>NaN</td>\n",
       "      <td>NaN</td>\n",
       "      <td>-17.234642</td>\n",
       "      <td>128.032146</td>\n",
       "      <td>46662</td>\n",
       "      <td>(-17.31078, 128.023499)</td>\n",
       "      <td>S0002890</td>\n",
       "      <td>-17.234642</td>\n",
       "      <td>128.032146</td>\n",
       "      <td>8.476376684524638 km</td>\n",
       "    </tr>\n",
       "    <tr>\n",
       "      <th>2</th>\n",
       "      <td>33</td>\n",
       "      <td>56.0</td>\n",
       "      <td>420.0</td>\n",
       "      <td>9.0</td>\n",
       "      <td>14.0</td>\n",
       "      <td>0.01</td>\n",
       "      <td>1.0</td>\n",
       "      <td>NaN</td>\n",
       "      <td>NaN</td>\n",
       "      <td>NaN</td>\n",
       "      <td>NaN</td>\n",
       "      <td>-17.234642</td>\n",
       "      <td>128.032146</td>\n",
       "      <td>46663</td>\n",
       "      <td>(-17.3526, 128.027695)</td>\n",
       "      <td>S0019720</td>\n",
       "      <td>-17.234642</td>\n",
       "      <td>128.032146</td>\n",
       "      <td>13.063277176872425 km</td>\n",
       "    </tr>\n",
       "  </tbody>\n",
       "</table>\n",
       "</div>"
      ],
      "text/plain": [
       "   Unnamed: 0_x    Ni     Cu   Co    Pd    Au   Pt  Rh  Fe   S  Ag        lat  \\\n",
       "0            33  56.0  420.0  9.0  14.0  0.01  1.0 NaN NaN NaN NaN -17.234642   \n",
       "1            33  56.0  420.0  9.0  14.0  0.01  1.0 NaN NaN NaN NaN -17.234642   \n",
       "2            33  56.0  420.0  9.0  14.0  0.01  1.0 NaN NaN NaN NaN -17.234642   \n",
       "\n",
       "         long  Unnamed: 0_y           minedex_coords minedex_site  wamex_lat  \\\n",
       "0  128.032146         46661  (-17.34893, 128.022095)     S0001442 -17.234642   \n",
       "1  128.032146         46662  (-17.31078, 128.023499)     S0002890 -17.234642   \n",
       "2  128.032146         46663   (-17.3526, 128.027695)     S0019720 -17.234642   \n",
       "\n",
       "    wamex_lon               distance  \n",
       "0  128.032146  12.693593881734987 km  \n",
       "1  128.032146   8.476376684524638 km  \n",
       "2  128.032146  13.063277176872425 km  "
      ]
     },
     "execution_count": 53,
     "metadata": {},
     "output_type": "execute_result"
    }
   ],
   "source": [
    "file_path = 'Merged_Ni_lessthan15km.csv'\n",
    "\n",
    "df = pd.read_csv(file_path, index_col=0)\n",
    "df.head(3)"
   ]
  },
  {
   "cell_type": "code",
   "execution_count": 54,
   "id": "a1ce6a98",
   "metadata": {},
   "outputs": [
    {
     "data": {
      "text/plain": [
       "(150625, 19)"
      ]
     },
     "execution_count": 54,
     "metadata": {},
     "output_type": "execute_result"
    }
   ],
   "source": [
    "df.shape"
   ]
  },
  {
   "cell_type": "code",
   "execution_count": 55,
   "id": "9cb5b37d",
   "metadata": {},
   "outputs": [],
   "source": [
    "df_unique = df.drop(columns=['Unnamed: 0_x', 'Unnamed: 0_y', 'lat', 'long', \n",
    "                     'minedex_coords', 'minedex_site',\n",
    "                    'distance'])\n",
    "\n",
    "df_unique = df_unique.drop_duplicates()"
   ]
  },
  {
   "cell_type": "code",
   "execution_count": 56,
   "id": "d1f9633e",
   "metadata": {},
   "outputs": [
    {
     "name": "stdout",
     "output_type": "stream",
     "text": [
      "Amount of Duplicate rows: 127392\n"
     ]
    }
   ],
   "source": [
    "print(f\"Amount of Duplicate rows: {df.shape[0] - df_unique.shape[0]}\")"
   ]
  },
  {
   "cell_type": "code",
   "execution_count": 57,
   "id": "c663b6b7",
   "metadata": {},
   "outputs": [
    {
     "data": {
      "text/plain": [
       "(23233, 12)"
      ]
     },
     "execution_count": 57,
     "metadata": {},
     "output_type": "execute_result"
    }
   ],
   "source": [
    "df_unique.shape"
   ]
  },
  {
   "cell_type": "code",
   "execution_count": 58,
   "id": "3f370d71",
   "metadata": {},
   "outputs": [
    {
     "data": {
      "text/plain": [
       "Ni               0\n",
       "Cu             158\n",
       "Co               0\n",
       "Pd           11999\n",
       "Au            4200\n",
       "Pt           12136\n",
       "Rh           21331\n",
       "Fe            7917\n",
       "S            11681\n",
       "Ag            7410\n",
       "wamex_lat        0\n",
       "wamex_lon        0\n",
       "dtype: int64"
      ]
     },
     "execution_count": 58,
     "metadata": {},
     "output_type": "execute_result"
    }
   ],
   "source": [
    "df_unique.isna().sum()"
   ]
  },
  {
   "cell_type": "code",
   "execution_count": 59,
   "id": "0db879b8",
   "metadata": {},
   "outputs": [],
   "source": [
    "#change NAs to 0\n",
    "df_unique = df_unique.fillna(0)"
   ]
  },
  {
   "cell_type": "code",
   "execution_count": 60,
   "id": "6c604a4e",
   "metadata": {},
   "outputs": [
    {
     "data": {
      "text/plain": [
       "(23233, 12)"
      ]
     },
     "execution_count": 60,
     "metadata": {},
     "output_type": "execute_result"
    }
   ],
   "source": [
    "df_minerals = df_unique.drop(columns=['wamex_lat', 'wamex_lon'])\n",
    "\n",
    "df_unique.loc[:, df_minerals.columns] = clean_assays_co(df_unique.loc[:,df_minerals.columns])\n",
    "df_unique.shape"
   ]
  },
  {
   "cell_type": "code",
   "execution_count": 61,
   "id": "4a488f9e",
   "metadata": {},
   "outputs": [
    {
     "data": {
      "text/plain": [
       "(23117, 12)"
      ]
     },
     "execution_count": 61,
     "metadata": {},
     "output_type": "execute_result"
    }
   ],
   "source": [
    "df_unique = df_unique.drop_duplicates()\n",
    "df_unique.shape"
   ]
  },
  {
   "cell_type": "code",
   "execution_count": 62,
   "id": "59d6d685",
   "metadata": {},
   "outputs": [
    {
     "data": {
      "text/plain": [
       "Ni           1\n",
       "Cu           1\n",
       "Co           1\n",
       "Pd           1\n",
       "Au           1\n",
       "Pt           1\n",
       "Rh           1\n",
       "Fe           1\n",
       "S            1\n",
       "Ag           1\n",
       "wamex_lat    0\n",
       "wamex_lon    0\n",
       "dtype: int64"
      ]
     },
     "execution_count": 62,
     "metadata": {},
     "output_type": "execute_result"
    }
   ],
   "source": [
    "df_unique.isna().sum() #only one row where Ni > 300000"
   ]
  },
  {
   "cell_type": "code",
   "execution_count": 63,
   "id": "9aebfe24",
   "metadata": {},
   "outputs": [],
   "source": [
    "df_unique = df_unique.dropna()"
   ]
  },
  {
   "cell_type": "code",
   "execution_count": 64,
   "id": "df69d518",
   "metadata": {},
   "outputs": [
    {
     "data": {
      "text/plain": [
       "<AxesSubplot:>"
      ]
     },
     "execution_count": 64,
     "metadata": {},
     "output_type": "execute_result"
    },
    {
     "data": {
      "image/png": "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",
      "text/plain": [
       "<Figure size 432x288 with 1 Axes>"
      ]
     },
     "metadata": {
      "needs_background": "light"
     },
     "output_type": "display_data"
    }
   ],
   "source": [
    "df_unique['Co'].plot(kind='box')"
   ]
  },
  {
   "cell_type": "code",
   "execution_count": 65,
   "id": "69c18859",
   "metadata": {},
   "outputs": [],
   "source": [
    "#remove two obvious outliers\n",
    "df_unique = df_unique[df_unique['Co'] < 40000]"
   ]
  },
  {
   "cell_type": "code",
   "execution_count": 66,
   "id": "25d35b8d-35fd-4941-861a-2ba2c651470a",
   "metadata": {},
   "outputs": [
    {
     "data": {
      "text/plain": [
       "(23114, 12)"
      ]
     },
     "execution_count": 66,
     "metadata": {},
     "output_type": "execute_result"
    }
   ],
   "source": [
    "df_unique.shape"
   ]
  },
  {
   "cell_type": "code",
   "execution_count": 67,
   "id": "47bf942f",
   "metadata": {},
   "outputs": [],
   "source": [
    "df_unique_corr = df_unique.corr()"
   ]
  },
  {
   "cell_type": "code",
   "execution_count": 68,
   "id": "6b8400f8",
   "metadata": {},
   "outputs": [
    {
     "data": {
      "text/html": [
       "<div>\n",
       "<style scoped>\n",
       "    .dataframe tbody tr th:only-of-type {\n",
       "        vertical-align: middle;\n",
       "    }\n",
       "\n",
       "    .dataframe tbody tr th {\n",
       "        vertical-align: top;\n",
       "    }\n",
       "\n",
       "    .dataframe thead th {\n",
       "        text-align: right;\n",
       "    }\n",
       "</style>\n",
       "<table border=\"1\" class=\"dataframe\">\n",
       "  <thead>\n",
       "    <tr style=\"text-align: right;\">\n",
       "      <th></th>\n",
       "      <th>Ni</th>\n",
       "      <th>Cu</th>\n",
       "      <th>Co</th>\n",
       "      <th>Pd</th>\n",
       "      <th>Au</th>\n",
       "      <th>Pt</th>\n",
       "      <th>Rh</th>\n",
       "      <th>Fe</th>\n",
       "      <th>S</th>\n",
       "      <th>Ag</th>\n",
       "      <th>wamex_lat</th>\n",
       "      <th>wamex_lon</th>\n",
       "    </tr>\n",
       "  </thead>\n",
       "  <tbody>\n",
       "    <tr>\n",
       "      <th>Ni</th>\n",
       "      <td>1.000000</td>\n",
       "      <td>0.019451</td>\n",
       "      <td>0.293238</td>\n",
       "      <td>0.009413</td>\n",
       "      <td>0.146162</td>\n",
       "      <td>-0.022393</td>\n",
       "      <td>0.005301</td>\n",
       "      <td>0.014679</td>\n",
       "      <td>0.009477</td>\n",
       "      <td>0.014856</td>\n",
       "      <td>0.002104</td>\n",
       "      <td>0.042935</td>\n",
       "    </tr>\n",
       "    <tr>\n",
       "      <th>Cu</th>\n",
       "      <td>0.019451</td>\n",
       "      <td>1.000000</td>\n",
       "      <td>0.016596</td>\n",
       "      <td>0.003723</td>\n",
       "      <td>-0.010194</td>\n",
       "      <td>-0.002590</td>\n",
       "      <td>0.000947</td>\n",
       "      <td>-0.009478</td>\n",
       "      <td>0.013286</td>\n",
       "      <td>-0.000797</td>\n",
       "      <td>0.018308</td>\n",
       "      <td>-0.017361</td>\n",
       "    </tr>\n",
       "    <tr>\n",
       "      <th>Co</th>\n",
       "      <td>0.293238</td>\n",
       "      <td>0.016596</td>\n",
       "      <td>1.000000</td>\n",
       "      <td>0.021103</td>\n",
       "      <td>-0.026063</td>\n",
       "      <td>-0.000505</td>\n",
       "      <td>0.000132</td>\n",
       "      <td>0.022590</td>\n",
       "      <td>0.035508</td>\n",
       "      <td>0.024334</td>\n",
       "      <td>0.005555</td>\n",
       "      <td>-0.008729</td>\n",
       "    </tr>\n",
       "    <tr>\n",
       "      <th>Pd</th>\n",
       "      <td>0.009413</td>\n",
       "      <td>0.003723</td>\n",
       "      <td>0.021103</td>\n",
       "      <td>1.000000</td>\n",
       "      <td>-0.004379</td>\n",
       "      <td>-0.001836</td>\n",
       "      <td>-0.000410</td>\n",
       "      <td>0.015056</td>\n",
       "      <td>0.005892</td>\n",
       "      <td>-0.000854</td>\n",
       "      <td>0.061988</td>\n",
       "      <td>0.043266</td>\n",
       "    </tr>\n",
       "    <tr>\n",
       "      <th>Au</th>\n",
       "      <td>0.146162</td>\n",
       "      <td>-0.010194</td>\n",
       "      <td>-0.026063</td>\n",
       "      <td>-0.004379</td>\n",
       "      <td>1.000000</td>\n",
       "      <td>-0.019026</td>\n",
       "      <td>-0.003852</td>\n",
       "      <td>-0.044106</td>\n",
       "      <td>0.027937</td>\n",
       "      <td>0.129761</td>\n",
       "      <td>0.091280</td>\n",
       "      <td>0.379493</td>\n",
       "    </tr>\n",
       "    <tr>\n",
       "      <th>Pt</th>\n",
       "      <td>-0.022393</td>\n",
       "      <td>-0.002590</td>\n",
       "      <td>-0.000505</td>\n",
       "      <td>-0.001836</td>\n",
       "      <td>-0.019026</td>\n",
       "      <td>1.000000</td>\n",
       "      <td>-0.000407</td>\n",
       "      <td>-0.037532</td>\n",
       "      <td>-0.004585</td>\n",
       "      <td>0.008988</td>\n",
       "      <td>0.048472</td>\n",
       "      <td>0.120067</td>\n",
       "    </tr>\n",
       "    <tr>\n",
       "      <th>Rh</th>\n",
       "      <td>0.005301</td>\n",
       "      <td>0.000947</td>\n",
       "      <td>0.000132</td>\n",
       "      <td>-0.000410</td>\n",
       "      <td>-0.003852</td>\n",
       "      <td>-0.000407</td>\n",
       "      <td>1.000000</td>\n",
       "      <td>0.010076</td>\n",
       "      <td>-0.000231</td>\n",
       "      <td>-0.000819</td>\n",
       "      <td>0.000052</td>\n",
       "      <td>-0.008241</td>\n",
       "    </tr>\n",
       "    <tr>\n",
       "      <th>Fe</th>\n",
       "      <td>0.014679</td>\n",
       "      <td>-0.009478</td>\n",
       "      <td>0.022590</td>\n",
       "      <td>0.015056</td>\n",
       "      <td>-0.044106</td>\n",
       "      <td>-0.037532</td>\n",
       "      <td>0.010076</td>\n",
       "      <td>1.000000</td>\n",
       "      <td>0.005667</td>\n",
       "      <td>0.051108</td>\n",
       "      <td>0.000582</td>\n",
       "      <td>-0.112697</td>\n",
       "    </tr>\n",
       "    <tr>\n",
       "      <th>S</th>\n",
       "      <td>0.009477</td>\n",
       "      <td>0.013286</td>\n",
       "      <td>0.035508</td>\n",
       "      <td>0.005892</td>\n",
       "      <td>0.027937</td>\n",
       "      <td>-0.004585</td>\n",
       "      <td>-0.000231</td>\n",
       "      <td>0.005667</td>\n",
       "      <td>1.000000</td>\n",
       "      <td>0.003245</td>\n",
       "      <td>0.020227</td>\n",
       "      <td>0.014858</td>\n",
       "    </tr>\n",
       "    <tr>\n",
       "      <th>Ag</th>\n",
       "      <td>0.014856</td>\n",
       "      <td>-0.000797</td>\n",
       "      <td>0.024334</td>\n",
       "      <td>-0.000854</td>\n",
       "      <td>0.129761</td>\n",
       "      <td>0.008988</td>\n",
       "      <td>-0.000819</td>\n",
       "      <td>0.051108</td>\n",
       "      <td>0.003245</td>\n",
       "      <td>1.000000</td>\n",
       "      <td>-0.003475</td>\n",
       "      <td>0.056522</td>\n",
       "    </tr>\n",
       "    <tr>\n",
       "      <th>wamex_lat</th>\n",
       "      <td>0.002104</td>\n",
       "      <td>0.018308</td>\n",
       "      <td>0.005555</td>\n",
       "      <td>0.061988</td>\n",
       "      <td>0.091280</td>\n",
       "      <td>0.048472</td>\n",
       "      <td>0.000052</td>\n",
       "      <td>0.000582</td>\n",
       "      <td>0.020227</td>\n",
       "      <td>-0.003475</td>\n",
       "      <td>1.000000</td>\n",
       "      <td>0.246905</td>\n",
       "    </tr>\n",
       "    <tr>\n",
       "      <th>wamex_lon</th>\n",
       "      <td>0.042935</td>\n",
       "      <td>-0.017361</td>\n",
       "      <td>-0.008729</td>\n",
       "      <td>0.043266</td>\n",
       "      <td>0.379493</td>\n",
       "      <td>0.120067</td>\n",
       "      <td>-0.008241</td>\n",
       "      <td>-0.112697</td>\n",
       "      <td>0.014858</td>\n",
       "      <td>0.056522</td>\n",
       "      <td>0.246905</td>\n",
       "      <td>1.000000</td>\n",
       "    </tr>\n",
       "  </tbody>\n",
       "</table>\n",
       "</div>"
      ],
      "text/plain": [
       "                 Ni        Cu        Co        Pd        Au        Pt  \\\n",
       "Ni         1.000000  0.019451  0.293238  0.009413  0.146162 -0.022393   \n",
       "Cu         0.019451  1.000000  0.016596  0.003723 -0.010194 -0.002590   \n",
       "Co         0.293238  0.016596  1.000000  0.021103 -0.026063 -0.000505   \n",
       "Pd         0.009413  0.003723  0.021103  1.000000 -0.004379 -0.001836   \n",
       "Au         0.146162 -0.010194 -0.026063 -0.004379  1.000000 -0.019026   \n",
       "Pt        -0.022393 -0.002590 -0.000505 -0.001836 -0.019026  1.000000   \n",
       "Rh         0.005301  0.000947  0.000132 -0.000410 -0.003852 -0.000407   \n",
       "Fe         0.014679 -0.009478  0.022590  0.015056 -0.044106 -0.037532   \n",
       "S          0.009477  0.013286  0.035508  0.005892  0.027937 -0.004585   \n",
       "Ag         0.014856 -0.000797  0.024334 -0.000854  0.129761  0.008988   \n",
       "wamex_lat  0.002104  0.018308  0.005555  0.061988  0.091280  0.048472   \n",
       "wamex_lon  0.042935 -0.017361 -0.008729  0.043266  0.379493  0.120067   \n",
       "\n",
       "                 Rh        Fe         S        Ag  wamex_lat  wamex_lon  \n",
       "Ni         0.005301  0.014679  0.009477  0.014856   0.002104   0.042935  \n",
       "Cu         0.000947 -0.009478  0.013286 -0.000797   0.018308  -0.017361  \n",
       "Co         0.000132  0.022590  0.035508  0.024334   0.005555  -0.008729  \n",
       "Pd        -0.000410  0.015056  0.005892 -0.000854   0.061988   0.043266  \n",
       "Au        -0.003852 -0.044106  0.027937  0.129761   0.091280   0.379493  \n",
       "Pt        -0.000407 -0.037532 -0.004585  0.008988   0.048472   0.120067  \n",
       "Rh         1.000000  0.010076 -0.000231 -0.000819   0.000052  -0.008241  \n",
       "Fe         0.010076  1.000000  0.005667  0.051108   0.000582  -0.112697  \n",
       "S         -0.000231  0.005667  1.000000  0.003245   0.020227   0.014858  \n",
       "Ag        -0.000819  0.051108  0.003245  1.000000  -0.003475   0.056522  \n",
       "wamex_lat  0.000052  0.000582  0.020227 -0.003475   1.000000   0.246905  \n",
       "wamex_lon -0.008241 -0.112697  0.014858  0.056522   0.246905   1.000000  "
      ]
     },
     "execution_count": 68,
     "metadata": {},
     "output_type": "execute_result"
    }
   ],
   "source": [
    "df_unique.corr()"
   ]
  },
  {
   "cell_type": "code",
   "execution_count": 17,
   "id": "511f893f",
   "metadata": {},
   "outputs": [],
   "source": [
    "df_unique_corr['dataframe'] = 'WAMEX Rockchip'"
   ]
  },
  {
   "cell_type": "code",
   "execution_count": 19,
   "id": "9daf03ae",
   "metadata": {},
   "outputs": [],
   "source": [
    "df_unique_corr.to_csv('Co_correlations_Rockchip_15km.csv')"
   ]
  },
  {
   "cell_type": "markdown",
   "id": "dede539d",
   "metadata": {},
   "source": [
    "## Indium/Germanium"
   ]
  },
  {
   "cell_type": "code",
   "execution_count": 32,
   "id": "9e318273",
   "metadata": {},
   "outputs": [
    {
     "data": {
      "text/html": [
       "<div>\n",
       "<style scoped>\n",
       "    .dataframe tbody tr th:only-of-type {\n",
       "        vertical-align: middle;\n",
       "    }\n",
       "\n",
       "    .dataframe tbody tr th {\n",
       "        vertical-align: top;\n",
       "    }\n",
       "\n",
       "    .dataframe thead th {\n",
       "        text-align: right;\n",
       "    }\n",
       "</style>\n",
       "<table border=\"1\" class=\"dataframe\">\n",
       "  <thead>\n",
       "    <tr style=\"text-align: right;\">\n",
       "      <th></th>\n",
       "      <th>Unnamed: 0_x</th>\n",
       "      <th>Zn</th>\n",
       "      <th>Ag</th>\n",
       "      <th>Cu</th>\n",
       "      <th>Pb</th>\n",
       "      <th>Au</th>\n",
       "      <th>Co</th>\n",
       "      <th>In</th>\n",
       "      <th>Ge</th>\n",
       "      <th>lat</th>\n",
       "      <th>long</th>\n",
       "      <th>Unnamed: 0_y</th>\n",
       "      <th>minedex_coords</th>\n",
       "      <th>minedex_site</th>\n",
       "      <th>wamex_lat</th>\n",
       "      <th>wamex_lon</th>\n",
       "      <th>distance</th>\n",
       "    </tr>\n",
       "  </thead>\n",
       "  <tbody>\n",
       "    <tr>\n",
       "      <th>0</th>\n",
       "      <td>24985</td>\n",
       "      <td>14.0</td>\n",
       "      <td>0.03</td>\n",
       "      <td>11.6</td>\n",
       "      <td>1.2</td>\n",
       "      <td>NaN</td>\n",
       "      <td>1.6</td>\n",
       "      <td>0.007</td>\n",
       "      <td>0.025</td>\n",
       "      <td>-23.722310</td>\n",
       "      <td>119.290297</td>\n",
       "      <td>2271</td>\n",
       "      <td>(-23.715655, 119.281652)</td>\n",
       "      <td>S0002505</td>\n",
       "      <td>-23.722310</td>\n",
       "      <td>119.290297</td>\n",
       "      <td>1.1490822602067268 km</td>\n",
       "    </tr>\n",
       "    <tr>\n",
       "      <th>1</th>\n",
       "      <td>24986</td>\n",
       "      <td>18.0</td>\n",
       "      <td>0.05</td>\n",
       "      <td>55.7</td>\n",
       "      <td>1.4</td>\n",
       "      <td>NaN</td>\n",
       "      <td>4.4</td>\n",
       "      <td>0.053</td>\n",
       "      <td>0.110</td>\n",
       "      <td>-23.722511</td>\n",
       "      <td>119.290732</td>\n",
       "      <td>3573</td>\n",
       "      <td>(-23.715655, 119.281652)</td>\n",
       "      <td>S0002505</td>\n",
       "      <td>-23.722511</td>\n",
       "      <td>119.290732</td>\n",
       "      <td>1.1974451584269783 km</td>\n",
       "    </tr>\n",
       "    <tr>\n",
       "      <th>2</th>\n",
       "      <td>24987</td>\n",
       "      <td>72.0</td>\n",
       "      <td>0.10</td>\n",
       "      <td>54.2</td>\n",
       "      <td>21.8</td>\n",
       "      <td>NaN</td>\n",
       "      <td>14.9</td>\n",
       "      <td>0.076</td>\n",
       "      <td>0.070</td>\n",
       "      <td>-23.720042</td>\n",
       "      <td>119.286168</td>\n",
       "      <td>3473</td>\n",
       "      <td>(-23.715655, 119.281652)</td>\n",
       "      <td>S0002505</td>\n",
       "      <td>-23.720042</td>\n",
       "      <td>119.286168</td>\n",
       "      <td>0.6694362586362227 km</td>\n",
       "    </tr>\n",
       "  </tbody>\n",
       "</table>\n",
       "</div>"
      ],
      "text/plain": [
       "   Unnamed: 0_x    Zn    Ag    Cu    Pb  Au    Co     In     Ge        lat  \\\n",
       "0         24985  14.0  0.03  11.6   1.2 NaN   1.6  0.007  0.025 -23.722310   \n",
       "1         24986  18.0  0.05  55.7   1.4 NaN   4.4  0.053  0.110 -23.722511   \n",
       "2         24987  72.0  0.10  54.2  21.8 NaN  14.9  0.076  0.070 -23.720042   \n",
       "\n",
       "         long  Unnamed: 0_y            minedex_coords minedex_site  wamex_lat  \\\n",
       "0  119.290297          2271  (-23.715655, 119.281652)     S0002505 -23.722310   \n",
       "1  119.290732          3573  (-23.715655, 119.281652)     S0002505 -23.722511   \n",
       "2  119.286168          3473  (-23.715655, 119.281652)     S0002505 -23.720042   \n",
       "\n",
       "    wamex_lon               distance  \n",
       "0  119.290297  1.1490822602067268 km  \n",
       "1  119.290732  1.1974451584269783 km  \n",
       "2  119.286168  0.6694362586362227 km  "
      ]
     },
     "execution_count": 32,
     "metadata": {},
     "output_type": "execute_result"
    }
   ],
   "source": [
    "file_path = 'Merged_lessthan15km_In_Ge.csv'\n",
    "\n",
    "df = pd.read_csv(file_path, index_col=0)\n",
    "df.head(3)"
   ]
  },
  {
   "cell_type": "code",
   "execution_count": 22,
   "id": "55f1cc7c",
   "metadata": {},
   "outputs": [
    {
     "data": {
      "text/plain": [
       "(4909, 17)"
      ]
     },
     "execution_count": 22,
     "metadata": {},
     "output_type": "execute_result"
    }
   ],
   "source": [
    "df.shape"
   ]
  },
  {
   "cell_type": "code",
   "execution_count": 33,
   "id": "43b42147",
   "metadata": {},
   "outputs": [],
   "source": [
    "df_unique = df.drop(columns=['Unnamed: 0_x', 'Unnamed: 0_y', 'lat', 'long', \n",
    "                     'minedex_coords', 'minedex_site',\n",
    "                    'distance'])\n",
    "\n",
    "df_unique = df_unique.drop_duplicates()"
   ]
  },
  {
   "cell_type": "code",
   "execution_count": 34,
   "id": "6a1a5ff8",
   "metadata": {},
   "outputs": [
    {
     "name": "stdout",
     "output_type": "stream",
     "text": [
      "Amount of Duplicate rows: 2833\n"
     ]
    }
   ],
   "source": [
    "print(f\"Amount of Duplicate rows: {df.shape[0] - df_unique.shape[0]}\")"
   ]
  },
  {
   "cell_type": "code",
   "execution_count": 35,
   "id": "e013292d",
   "metadata": {},
   "outputs": [
    {
     "data": {
      "text/plain": [
       "(2076, 10)"
      ]
     },
     "execution_count": 35,
     "metadata": {},
     "output_type": "execute_result"
    }
   ],
   "source": [
    "df_unique.shape"
   ]
  },
  {
   "cell_type": "code",
   "execution_count": 36,
   "id": "bc669c18",
   "metadata": {},
   "outputs": [
    {
     "data": {
      "text/plain": [
       "Zn            82\n",
       "Ag             9\n",
       "Cu            10\n",
       "Pb            61\n",
       "Au           198\n",
       "Co             0\n",
       "In             0\n",
       "Ge             0\n",
       "wamex_lat      0\n",
       "wamex_lon      0\n",
       "dtype: int64"
      ]
     },
     "execution_count": 36,
     "metadata": {},
     "output_type": "execute_result"
    }
   ],
   "source": [
    "df_unique.isna().sum()"
   ]
  },
  {
   "cell_type": "code",
   "execution_count": 37,
   "id": "b455c98f",
   "metadata": {},
   "outputs": [],
   "source": [
    "#change NAs to 0\n",
    "df_unique = df_unique.fillna(0)"
   ]
  },
  {
   "cell_type": "code",
   "execution_count": 38,
   "id": "a61ae6f0",
   "metadata": {},
   "outputs": [
    {
     "data": {
      "text/plain": [
       "(2076, 10)"
      ]
     },
     "execution_count": 38,
     "metadata": {},
     "output_type": "execute_result"
    }
   ],
   "source": [
    "df_minerals = df_unique.drop(columns=['wamex_lat', 'wamex_lon'])\n",
    "\n",
    "df_unique.loc[:, df_minerals.columns] = clean_assays_zn(df_unique.loc[:,df_minerals.columns])\n",
    "df_unique.shape"
   ]
  },
  {
   "cell_type": "code",
   "execution_count": 39,
   "id": "83f38e7a",
   "metadata": {},
   "outputs": [
    {
     "data": {
      "text/plain": [
       "(2072, 10)"
      ]
     },
     "execution_count": 39,
     "metadata": {},
     "output_type": "execute_result"
    }
   ],
   "source": [
    "df_unique = df_unique.drop_duplicates()\n",
    "df_unique.shape"
   ]
  },
  {
   "cell_type": "code",
   "execution_count": 40,
   "id": "3689dd66",
   "metadata": {},
   "outputs": [
    {
     "data": {
      "text/plain": [
       "<AxesSubplot:>"
      ]
     },
     "execution_count": 40,
     "metadata": {},
     "output_type": "execute_result"
    },
    {
     "data": {
      "image/png": "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",
      "text/plain": [
       "<Figure size 432x288 with 1 Axes>"
      ]
     },
     "metadata": {
      "needs_background": "light"
     },
     "output_type": "display_data"
    }
   ],
   "source": [
    "df_unique['Ge'].plot(kind='box')"
   ]
  },
  {
   "cell_type": "code",
   "execution_count": 41,
   "id": "7c986d20",
   "metadata": {},
   "outputs": [
    {
     "data": {
      "text/plain": [
       "<AxesSubplot:>"
      ]
     },
     "execution_count": 41,
     "metadata": {},
     "output_type": "execute_result"
    },
    {
     "data": {
      "image/png": "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",
      "text/plain": [
       "<Figure size 432x288 with 1 Axes>"
      ]
     },
     "metadata": {
      "needs_background": "light"
     },
     "output_type": "display_data"
    }
   ],
   "source": [
    "df_unique['In'].plot(kind='box')"
   ]
  },
  {
   "cell_type": "code",
   "execution_count": 42,
   "id": "1eb6f112",
   "metadata": {},
   "outputs": [],
   "source": [
    "df_unique = df_unique[df_unique['In'] < 150]"
   ]
  },
  {
   "cell_type": "code",
   "execution_count": 43,
   "id": "f007a7da-72e7-4dfb-805f-60fcdb0a4913",
   "metadata": {},
   "outputs": [
    {
     "data": {
      "text/plain": [
       "(2071, 10)"
      ]
     },
     "execution_count": 43,
     "metadata": {},
     "output_type": "execute_result"
    }
   ],
   "source": [
    "df_unique.shape"
   ]
  },
  {
   "cell_type": "code",
   "execution_count": 44,
   "id": "9102406f",
   "metadata": {},
   "outputs": [],
   "source": [
    "only_ge = df_unique.corr()['Ge'].sort_values()\n",
    "only_in = df_unique.corr()['In'].sort_values()"
   ]
  },
  {
   "cell_type": "code",
   "execution_count": 45,
   "id": "56b5028e",
   "metadata": {},
   "outputs": [
    {
     "data": {
      "text/plain": [
       "wamex_lon   -0.032768\n",
       "Au          -0.023676\n",
       "wamex_lat    0.005374\n",
       "Zn           0.011537\n",
       "Co           0.018306\n",
       "Name: Ge, dtype: float64"
      ]
     },
     "execution_count": 45,
     "metadata": {},
     "output_type": "execute_result"
    }
   ],
   "source": [
    "only_ge[0:5]"
   ]
  },
  {
   "cell_type": "code",
   "execution_count": 46,
   "id": "51c71d6a",
   "metadata": {},
   "outputs": [
    {
     "data": {
      "text/plain": [
       "wamex_lon   -0.032768\n",
       "Au          -0.023676\n",
       "wamex_lat    0.005374\n",
       "Zn           0.011537\n",
       "Co           0.018306\n",
       "Pb           0.027267\n",
       "Ag           0.138593\n",
       "Cu           0.235612\n",
       "In           0.298057\n",
       "Ge           1.000000\n",
       "Name: Ge, dtype: float64"
      ]
     },
     "execution_count": 46,
     "metadata": {},
     "output_type": "execute_result"
    }
   ],
   "source": [
    "only_ge[-20:]"
   ]
  },
  {
   "cell_type": "code",
   "execution_count": 116,
   "id": "86903f27",
   "metadata": {},
   "outputs": [
    {
     "data": {
      "text/plain": [
       "wamex_lat   -0.062714\n",
       "Au           0.002944\n",
       "wamex_lon    0.004277\n",
       "Co           0.015730\n",
       "Zn           0.094839\n",
       "Name: In, dtype: float64"
      ]
     },
     "execution_count": 116,
     "metadata": {},
     "output_type": "execute_result"
    }
   ],
   "source": [
    "only_in[0:5]"
   ]
  },
  {
   "cell_type": "code",
   "execution_count": 117,
   "id": "605fd4ac",
   "metadata": {},
   "outputs": [
    {
     "data": {
      "text/plain": [
       "wamex_lat   -0.062714\n",
       "Au           0.002944\n",
       "wamex_lon    0.004277\n",
       "Co           0.015730\n",
       "Zn           0.094839\n",
       "Pb           0.139196\n",
       "Ge           0.298057\n",
       "Ag           0.310838\n",
       "Cu           0.395946\n",
       "In           1.000000\n",
       "Name: In, dtype: float64"
      ]
     },
     "execution_count": 117,
     "metadata": {},
     "output_type": "execute_result"
    }
   ],
   "source": [
    "only_in[-20:]"
   ]
  },
  {
   "cell_type": "code",
   "execution_count": 47,
   "id": "c511446a",
   "metadata": {},
   "outputs": [],
   "source": [
    "Zn_deposits = ['Zn', 'Ag', 'Cu', 'Pb', 'Au', 'Co', 'In', 'Ge', 'wamex_lat', 'wamex_lon']\n",
    "only_minedex = df_unique[Zn_deposits].corr()"
   ]
  },
  {
   "cell_type": "code",
   "execution_count": 48,
   "id": "aada36ca",
   "metadata": {},
   "outputs": [
    {
     "data": {
      "text/html": [
       "<div>\n",
       "<style scoped>\n",
       "    .dataframe tbody tr th:only-of-type {\n",
       "        vertical-align: middle;\n",
       "    }\n",
       "\n",
       "    .dataframe tbody tr th {\n",
       "        vertical-align: top;\n",
       "    }\n",
       "\n",
       "    .dataframe thead th {\n",
       "        text-align: right;\n",
       "    }\n",
       "</style>\n",
       "<table border=\"1\" class=\"dataframe\">\n",
       "  <thead>\n",
       "    <tr style=\"text-align: right;\">\n",
       "      <th></th>\n",
       "      <th>Zn</th>\n",
       "      <th>Ag</th>\n",
       "      <th>Cu</th>\n",
       "      <th>Pb</th>\n",
       "      <th>Au</th>\n",
       "      <th>Co</th>\n",
       "      <th>In</th>\n",
       "      <th>Ge</th>\n",
       "      <th>wamex_lat</th>\n",
       "      <th>wamex_lon</th>\n",
       "    </tr>\n",
       "  </thead>\n",
       "  <tbody>\n",
       "    <tr>\n",
       "      <th>Zn</th>\n",
       "      <td>1.000000</td>\n",
       "      <td>0.125689</td>\n",
       "      <td>0.022400</td>\n",
       "      <td>0.422986</td>\n",
       "      <td>-0.001621</td>\n",
       "      <td>-0.000982</td>\n",
       "      <td>0.094839</td>\n",
       "      <td>0.011537</td>\n",
       "      <td>-0.006218</td>\n",
       "      <td>0.020946</td>\n",
       "    </tr>\n",
       "    <tr>\n",
       "      <th>Ag</th>\n",
       "      <td>0.125689</td>\n",
       "      <td>1.000000</td>\n",
       "      <td>0.208102</td>\n",
       "      <td>0.479223</td>\n",
       "      <td>0.042062</td>\n",
       "      <td>0.001883</td>\n",
       "      <td>0.310838</td>\n",
       "      <td>0.138593</td>\n",
       "      <td>0.003242</td>\n",
       "      <td>-0.011099</td>\n",
       "    </tr>\n",
       "    <tr>\n",
       "      <th>Cu</th>\n",
       "      <td>0.022400</td>\n",
       "      <td>0.208102</td>\n",
       "      <td>1.000000</td>\n",
       "      <td>0.120668</td>\n",
       "      <td>0.013389</td>\n",
       "      <td>0.027497</td>\n",
       "      <td>0.395946</td>\n",
       "      <td>0.235612</td>\n",
       "      <td>0.042730</td>\n",
       "      <td>-0.085085</td>\n",
       "    </tr>\n",
       "    <tr>\n",
       "      <th>Pb</th>\n",
       "      <td>0.422986</td>\n",
       "      <td>0.479223</td>\n",
       "      <td>0.120668</td>\n",
       "      <td>1.000000</td>\n",
       "      <td>-0.002181</td>\n",
       "      <td>-0.003556</td>\n",
       "      <td>0.139196</td>\n",
       "      <td>0.027267</td>\n",
       "      <td>-0.021909</td>\n",
       "      <td>-0.062874</td>\n",
       "    </tr>\n",
       "    <tr>\n",
       "      <th>Au</th>\n",
       "      <td>-0.001621</td>\n",
       "      <td>0.042062</td>\n",
       "      <td>0.013389</td>\n",
       "      <td>-0.002181</td>\n",
       "      <td>1.000000</td>\n",
       "      <td>-0.007002</td>\n",
       "      <td>0.002944</td>\n",
       "      <td>-0.023676</td>\n",
       "      <td>0.102360</td>\n",
       "      <td>-0.087369</td>\n",
       "    </tr>\n",
       "    <tr>\n",
       "      <th>Co</th>\n",
       "      <td>-0.000982</td>\n",
       "      <td>0.001883</td>\n",
       "      <td>0.027497</td>\n",
       "      <td>-0.003556</td>\n",
       "      <td>-0.007002</td>\n",
       "      <td>1.000000</td>\n",
       "      <td>0.015730</td>\n",
       "      <td>0.018306</td>\n",
       "      <td>0.037244</td>\n",
       "      <td>-0.070681</td>\n",
       "    </tr>\n",
       "    <tr>\n",
       "      <th>In</th>\n",
       "      <td>0.094839</td>\n",
       "      <td>0.310838</td>\n",
       "      <td>0.395946</td>\n",
       "      <td>0.139196</td>\n",
       "      <td>0.002944</td>\n",
       "      <td>0.015730</td>\n",
       "      <td>1.000000</td>\n",
       "      <td>0.298057</td>\n",
       "      <td>-0.062714</td>\n",
       "      <td>0.004277</td>\n",
       "    </tr>\n",
       "    <tr>\n",
       "      <th>Ge</th>\n",
       "      <td>0.011537</td>\n",
       "      <td>0.138593</td>\n",
       "      <td>0.235612</td>\n",
       "      <td>0.027267</td>\n",
       "      <td>-0.023676</td>\n",
       "      <td>0.018306</td>\n",
       "      <td>0.298057</td>\n",
       "      <td>1.000000</td>\n",
       "      <td>0.005374</td>\n",
       "      <td>-0.032768</td>\n",
       "    </tr>\n",
       "    <tr>\n",
       "      <th>wamex_lat</th>\n",
       "      <td>-0.006218</td>\n",
       "      <td>0.003242</td>\n",
       "      <td>0.042730</td>\n",
       "      <td>-0.021909</td>\n",
       "      <td>0.102360</td>\n",
       "      <td>0.037244</td>\n",
       "      <td>-0.062714</td>\n",
       "      <td>0.005374</td>\n",
       "      <td>1.000000</td>\n",
       "      <td>-0.267308</td>\n",
       "    </tr>\n",
       "    <tr>\n",
       "      <th>wamex_lon</th>\n",
       "      <td>0.020946</td>\n",
       "      <td>-0.011099</td>\n",
       "      <td>-0.085085</td>\n",
       "      <td>-0.062874</td>\n",
       "      <td>-0.087369</td>\n",
       "      <td>-0.070681</td>\n",
       "      <td>0.004277</td>\n",
       "      <td>-0.032768</td>\n",
       "      <td>-0.267308</td>\n",
       "      <td>1.000000</td>\n",
       "    </tr>\n",
       "  </tbody>\n",
       "</table>\n",
       "</div>"
      ],
      "text/plain": [
       "                 Zn        Ag        Cu        Pb        Au        Co  \\\n",
       "Zn         1.000000  0.125689  0.022400  0.422986 -0.001621 -0.000982   \n",
       "Ag         0.125689  1.000000  0.208102  0.479223  0.042062  0.001883   \n",
       "Cu         0.022400  0.208102  1.000000  0.120668  0.013389  0.027497   \n",
       "Pb         0.422986  0.479223  0.120668  1.000000 -0.002181 -0.003556   \n",
       "Au        -0.001621  0.042062  0.013389 -0.002181  1.000000 -0.007002   \n",
       "Co        -0.000982  0.001883  0.027497 -0.003556 -0.007002  1.000000   \n",
       "In         0.094839  0.310838  0.395946  0.139196  0.002944  0.015730   \n",
       "Ge         0.011537  0.138593  0.235612  0.027267 -0.023676  0.018306   \n",
       "wamex_lat -0.006218  0.003242  0.042730 -0.021909  0.102360  0.037244   \n",
       "wamex_lon  0.020946 -0.011099 -0.085085 -0.062874 -0.087369 -0.070681   \n",
       "\n",
       "                 In        Ge  wamex_lat  wamex_lon  \n",
       "Zn         0.094839  0.011537  -0.006218   0.020946  \n",
       "Ag         0.310838  0.138593   0.003242  -0.011099  \n",
       "Cu         0.395946  0.235612   0.042730  -0.085085  \n",
       "Pb         0.139196  0.027267  -0.021909  -0.062874  \n",
       "Au         0.002944 -0.023676   0.102360  -0.087369  \n",
       "Co         0.015730  0.018306   0.037244  -0.070681  \n",
       "In         1.000000  0.298057  -0.062714   0.004277  \n",
       "Ge         0.298057  1.000000   0.005374  -0.032768  \n",
       "wamex_lat -0.062714  0.005374   1.000000  -0.267308  \n",
       "wamex_lon  0.004277 -0.032768  -0.267308   1.000000  "
      ]
     },
     "execution_count": 48,
     "metadata": {},
     "output_type": "execute_result"
    }
   ],
   "source": [
    "only_minedex"
   ]
  },
  {
   "cell_type": "code",
   "execution_count": 50,
   "id": "dcda51f1",
   "metadata": {},
   "outputs": [],
   "source": [
    "only_minedex.to_csv('GeIn_correlations_Rockchip_15km.csv')"
   ]
  },
  {
   "cell_type": "code",
   "execution_count": null,
   "id": "cd49aaed-b695-4b63-9545-1a4fde076b3c",
   "metadata": {},
   "outputs": [],
   "source": []
  }
 ],
 "metadata": {
  "kernelspec": {
   "display_name": "Python 3",
   "language": "python",
   "name": "python3"
  },
  "language_info": {
   "codemirror_mode": {
    "name": "ipython",
    "version": 3
   },
   "file_extension": ".py",
   "mimetype": "text/x-python",
   "name": "python",
   "nbconvert_exporter": "python",
   "pygments_lexer": "ipython3",
   "version": "3.8.10"
  }
 },
 "nbformat": 4,
 "nbformat_minor": 5
}
