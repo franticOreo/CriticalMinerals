{
 "cells": [
  {
   "cell_type": "markdown",
   "id": "1f753241",
   "metadata": {},
   "source": [
    "# WAMEX Rockchip Correlations - 1km"
   ]
  },
  {
   "cell_type": "code",
   "execution_count": 64,
   "id": "e3cb6130",
   "metadata": {},
   "outputs": [],
   "source": [
    "def replace_neg9999(val):\n",
    "    if val == -9999: \n",
    "        return 0\n",
    "    else:\n",
    "        return val\n",
    "    \n",
    "def abs_halve_neg_val(val):\n",
    "    if val < 0: \n",
    "        return abs(val) / 2\n",
    "    else: \n",
    "        return val\n",
    "\n",
    "def clean_assays_co(df):\n",
    "    df = df.applymap(replace_neg9999)\n",
    "    df = df.applymap(abs_halve_neg_val)\n",
    "    df = df[df['Ni'] < 300000]\n",
    "    \n",
    "    return df\n",
    "\n",
    "def clean_assays_zn(df):\n",
    "    df = df.applymap(replace_neg9999)\n",
    "    df = df.applymap(abs_halve_neg_val)\n",
    "    \n",
    "    return df"
   ]
  },
  {
   "cell_type": "markdown",
   "id": "2638b92d",
   "metadata": {},
   "source": [
    "## Cobalt"
   ]
  },
  {
   "cell_type": "code",
   "execution_count": 65,
   "id": "bf74a284",
   "metadata": {},
   "outputs": [],
   "source": [
    "import pandas as pd"
   ]
  },
  {
   "cell_type": "code",
   "execution_count": 66,
   "id": "4e58bc49",
   "metadata": {},
   "outputs": [
    {
     "data": {
      "text/html": [
       "<div>\n",
       "<style scoped>\n",
       "    .dataframe tbody tr th:only-of-type {\n",
       "        vertical-align: middle;\n",
       "    }\n",
       "\n",
       "    .dataframe tbody tr th {\n",
       "        vertical-align: top;\n",
       "    }\n",
       "\n",
       "    .dataframe thead th {\n",
       "        text-align: right;\n",
       "    }\n",
       "</style>\n",
       "<table border=\"1\" class=\"dataframe\">\n",
       "  <thead>\n",
       "    <tr style=\"text-align: right;\">\n",
       "      <th></th>\n",
       "      <th>Unnamed: 0_x</th>\n",
       "      <th>Ni</th>\n",
       "      <th>Cu</th>\n",
       "      <th>Co</th>\n",
       "      <th>Pd</th>\n",
       "      <th>Au</th>\n",
       "      <th>Pt</th>\n",
       "      <th>Rh</th>\n",
       "      <th>Fe</th>\n",
       "      <th>S</th>\n",
       "      <th>Ag</th>\n",
       "      <th>lat</th>\n",
       "      <th>long</th>\n",
       "      <th>Unnamed: 0_y</th>\n",
       "      <th>minedex_coords</th>\n",
       "      <th>minedex_site</th>\n",
       "      <th>wamex_lat</th>\n",
       "      <th>wamex_lon</th>\n",
       "      <th>distance</th>\n",
       "    </tr>\n",
       "  </thead>\n",
       "  <tbody>\n",
       "    <tr>\n",
       "      <th>0</th>\n",
       "      <td>33</td>\n",
       "      <td>56.0</td>\n",
       "      <td>420.0</td>\n",
       "      <td>9.0</td>\n",
       "      <td>14.0</td>\n",
       "      <td>0.01</td>\n",
       "      <td>1.0</td>\n",
       "      <td>NaN</td>\n",
       "      <td>NaN</td>\n",
       "      <td>NaN</td>\n",
       "      <td>NaN</td>\n",
       "      <td>-17.234642</td>\n",
       "      <td>128.032146</td>\n",
       "      <td>46661</td>\n",
       "      <td>(-17.34893, 128.022095)</td>\n",
       "      <td>S0001442</td>\n",
       "      <td>-17.234642</td>\n",
       "      <td>128.032146</td>\n",
       "      <td>12.693593881734987 km</td>\n",
       "    </tr>\n",
       "    <tr>\n",
       "      <th>1</th>\n",
       "      <td>33</td>\n",
       "      <td>56.0</td>\n",
       "      <td>420.0</td>\n",
       "      <td>9.0</td>\n",
       "      <td>14.0</td>\n",
       "      <td>0.01</td>\n",
       "      <td>1.0</td>\n",
       "      <td>NaN</td>\n",
       "      <td>NaN</td>\n",
       "      <td>NaN</td>\n",
       "      <td>NaN</td>\n",
       "      <td>-17.234642</td>\n",
       "      <td>128.032146</td>\n",
       "      <td>46662</td>\n",
       "      <td>(-17.31078, 128.023499)</td>\n",
       "      <td>S0002890</td>\n",
       "      <td>-17.234642</td>\n",
       "      <td>128.032146</td>\n",
       "      <td>8.476376684524638 km</td>\n",
       "    </tr>\n",
       "    <tr>\n",
       "      <th>2</th>\n",
       "      <td>33</td>\n",
       "      <td>56.0</td>\n",
       "      <td>420.0</td>\n",
       "      <td>9.0</td>\n",
       "      <td>14.0</td>\n",
       "      <td>0.01</td>\n",
       "      <td>1.0</td>\n",
       "      <td>NaN</td>\n",
       "      <td>NaN</td>\n",
       "      <td>NaN</td>\n",
       "      <td>NaN</td>\n",
       "      <td>-17.234642</td>\n",
       "      <td>128.032146</td>\n",
       "      <td>46663</td>\n",
       "      <td>(-17.3526, 128.027695)</td>\n",
       "      <td>S0019720</td>\n",
       "      <td>-17.234642</td>\n",
       "      <td>128.032146</td>\n",
       "      <td>13.063277176872425 km</td>\n",
       "    </tr>\n",
       "  </tbody>\n",
       "</table>\n",
       "</div>"
      ],
      "text/plain": [
       "   Unnamed: 0_x    Ni     Cu   Co    Pd    Au   Pt  Rh  Fe   S  Ag        lat  \\\n",
       "0            33  56.0  420.0  9.0  14.0  0.01  1.0 NaN NaN NaN NaN -17.234642   \n",
       "1            33  56.0  420.0  9.0  14.0  0.01  1.0 NaN NaN NaN NaN -17.234642   \n",
       "2            33  56.0  420.0  9.0  14.0  0.01  1.0 NaN NaN NaN NaN -17.234642   \n",
       "\n",
       "         long  Unnamed: 0_y           minedex_coords minedex_site  wamex_lat  \\\n",
       "0  128.032146         46661  (-17.34893, 128.022095)     S0001442 -17.234642   \n",
       "1  128.032146         46662  (-17.31078, 128.023499)     S0002890 -17.234642   \n",
       "2  128.032146         46663   (-17.3526, 128.027695)     S0019720 -17.234642   \n",
       "\n",
       "    wamex_lon               distance  \n",
       "0  128.032146  12.693593881734987 km  \n",
       "1  128.032146   8.476376684524638 km  \n",
       "2  128.032146  13.063277176872425 km  "
      ]
     },
     "execution_count": 66,
     "metadata": {},
     "output_type": "execute_result"
    }
   ],
   "source": [
    "file_path = 'Merged_Ni_lessthan15km.csv'\n",
    "\n",
    "df = pd.read_csv(file_path, index_col=0)\n",
    "df.head(3)"
   ]
  },
  {
   "cell_type": "code",
   "execution_count": 67,
   "id": "a1ce6a98",
   "metadata": {},
   "outputs": [
    {
     "data": {
      "text/plain": [
       "(150625, 19)"
      ]
     },
     "execution_count": 67,
     "metadata": {},
     "output_type": "execute_result"
    }
   ],
   "source": [
    "df.shape"
   ]
  },
  {
   "cell_type": "markdown",
   "id": "a6be505a-9688-4dc4-b78c-7baac38dc89f",
   "metadata": {},
   "source": [
    "### filter less or equal to 1km"
   ]
  },
  {
   "cell_type": "code",
   "execution_count": 68,
   "id": "97d8564e-415b-49a0-8f9a-3aa45ff76bac",
   "metadata": {},
   "outputs": [],
   "source": [
    "#need to change distance column to numeric\n",
    "def dist_to_float(val):\n",
    "        val = val[0:-3]\n",
    "        return float(val)"
   ]
  },
  {
   "cell_type": "code",
   "execution_count": 69,
   "id": "e8bb54c1-54e7-414c-b101-2857b8ac89f9",
   "metadata": {},
   "outputs": [],
   "source": [
    "for i in range(0, len(df)):\n",
    "    df.at[i, 'distance'] = dist_to_float(df.at[i, 'distance'])"
   ]
  },
  {
   "cell_type": "code",
   "execution_count": 70,
   "id": "71913c1d-8c12-456e-8809-af687bea88b6",
   "metadata": {},
   "outputs": [
    {
     "data": {
      "text/plain": [
       "(5835, 19)"
      ]
     },
     "execution_count": 70,
     "metadata": {},
     "output_type": "execute_result"
    }
   ],
   "source": [
    "df = df[df['distance']<=1]\n",
    "df.shape"
   ]
  },
  {
   "cell_type": "code",
   "execution_count": 71,
   "id": "9cb5b37d",
   "metadata": {},
   "outputs": [],
   "source": [
    "df_unique = df.drop(columns=['Unnamed: 0_x', 'Unnamed: 0_y', 'lat', 'long', \n",
    "                     'minedex_coords', 'minedex_site',\n",
    "                    'distance'])\n",
    "\n",
    "df_unique = df_unique.drop_duplicates()"
   ]
  },
  {
   "cell_type": "code",
   "execution_count": 72,
   "id": "d1f9633e",
   "metadata": {},
   "outputs": [
    {
     "name": "stdout",
     "output_type": "stream",
     "text": [
      "Amount of Duplicate rows: 2884\n"
     ]
    }
   ],
   "source": [
    "print(f\"Amount of Duplicate rows: {df.shape[0] - df_unique.shape[0]}\")"
   ]
  },
  {
   "cell_type": "code",
   "execution_count": 73,
   "id": "c663b6b7",
   "metadata": {},
   "outputs": [
    {
     "data": {
      "text/plain": [
       "(2951, 12)"
      ]
     },
     "execution_count": 73,
     "metadata": {},
     "output_type": "execute_result"
    }
   ],
   "source": [
    "df_unique.shape"
   ]
  },
  {
   "cell_type": "code",
   "execution_count": 74,
   "id": "3f370d71",
   "metadata": {},
   "outputs": [
    {
     "data": {
      "text/plain": [
       "Ni              0\n",
       "Cu             52\n",
       "Co              0\n",
       "Pd           1361\n",
       "Au            946\n",
       "Pt           1357\n",
       "Rh           2069\n",
       "Fe           1194\n",
       "S            1239\n",
       "Ag           1473\n",
       "wamex_lat       0\n",
       "wamex_lon       0\n",
       "dtype: int64"
      ]
     },
     "execution_count": 74,
     "metadata": {},
     "output_type": "execute_result"
    }
   ],
   "source": [
    "df_unique.isna().sum()"
   ]
  },
  {
   "cell_type": "code",
   "execution_count": 75,
   "id": "0db879b8",
   "metadata": {},
   "outputs": [],
   "source": [
    "#change NAs to 0\n",
    "df_unique = df_unique.fillna(0)"
   ]
  },
  {
   "cell_type": "code",
   "execution_count": 76,
   "id": "6c604a4e",
   "metadata": {},
   "outputs": [
    {
     "data": {
      "text/plain": [
       "(2951, 12)"
      ]
     },
     "execution_count": 76,
     "metadata": {},
     "output_type": "execute_result"
    }
   ],
   "source": [
    "df_minerals = df_unique.drop(columns=['wamex_lat', 'wamex_lon'])\n",
    "\n",
    "df_unique.loc[:, df_minerals.columns] = clean_assays_co(df_unique.loc[:,df_minerals.columns])\n",
    "df_unique.shape"
   ]
  },
  {
   "cell_type": "code",
   "execution_count": 77,
   "id": "4a488f9e",
   "metadata": {},
   "outputs": [
    {
     "data": {
      "text/plain": [
       "(2944, 12)"
      ]
     },
     "execution_count": 77,
     "metadata": {},
     "output_type": "execute_result"
    }
   ],
   "source": [
    "df_unique = df_unique.drop_duplicates()\n",
    "df_unique.shape"
   ]
  },
  {
   "cell_type": "code",
   "execution_count": 29,
   "id": "df69d518",
   "metadata": {},
   "outputs": [
    {
     "data": {
      "text/plain": [
       "<AxesSubplot:>"
      ]
     },
     "execution_count": 29,
     "metadata": {},
     "output_type": "execute_result"
    },
    {
     "data": {
      "image/png": "[encoded data removed]",
      "text/plain": [
       "<Figure size 432x288 with 1 Axes>"
      ]
     },
     "metadata": {
      "needs_background": "light"
     },
     "output_type": "display_data"
    }
   ],
   "source": [
    "df_unique['Co'].plot(kind='box')"
   ]
  },
  {
   "cell_type": "code",
   "execution_count": 31,
   "id": "47bf942f",
   "metadata": {},
   "outputs": [],
   "source": [
    "df_unique_corr = df_unique.corr()"
   ]
  },
  {
   "cell_type": "code",
   "execution_count": 32,
   "id": "6b8400f8",
   "metadata": {},
   "outputs": [
    {
     "data": {
      "text/html": [
       "<div>\n",
       "<style scoped>\n",
       "    .dataframe tbody tr th:only-of-type {\n",
       "        vertical-align: middle;\n",
       "    }\n",
       "\n",
       "    .dataframe tbody tr th {\n",
       "        vertical-align: top;\n",
       "    }\n",
       "\n",
       "    .dataframe thead th {\n",
       "        text-align: right;\n",
       "    }\n",
       "</style>\n",
       "<table border=\"1\" class=\"dataframe\">\n",
       "  <thead>\n",
       "    <tr style=\"text-align: right;\">\n",
       "      <th></th>\n",
       "      <th>Ni</th>\n",
       "      <th>Cu</th>\n",
       "      <th>Co</th>\n",
       "      <th>Pd</th>\n",
       "      <th>Au</th>\n",
       "      <th>Pt</th>\n",
       "      <th>Rh</th>\n",
       "      <th>Fe</th>\n",
       "      <th>S</th>\n",
       "      <th>Ag</th>\n",
       "      <th>wamex_lat</th>\n",
       "      <th>wamex_lon</th>\n",
       "    </tr>\n",
       "  </thead>\n",
       "  <tbody>\n",
       "    <tr>\n",
       "      <th>Ni</th>\n",
       "      <td>1.000000</td>\n",
       "      <td>0.108374</td>\n",
       "      <td>0.239854</td>\n",
       "      <td>0.105371</td>\n",
       "      <td>-0.059352</td>\n",
       "      <td>0.001500</td>\n",
       "      <td>-0.007069</td>\n",
       "      <td>-0.091675</td>\n",
       "      <td>0.002184</td>\n",
       "      <td>-0.015792</td>\n",
       "      <td>0.063577</td>\n",
       "      <td>0.261229</td>\n",
       "    </tr>\n",
       "    <tr>\n",
       "      <th>Cu</th>\n",
       "      <td>0.108374</td>\n",
       "      <td>1.000000</td>\n",
       "      <td>0.010296</td>\n",
       "      <td>0.107283</td>\n",
       "      <td>-0.015070</td>\n",
       "      <td>0.011517</td>\n",
       "      <td>0.007172</td>\n",
       "      <td>-0.022500</td>\n",
       "      <td>-0.007922</td>\n",
       "      <td>-0.004776</td>\n",
       "      <td>0.195462</td>\n",
       "      <td>0.144866</td>\n",
       "    </tr>\n",
       "    <tr>\n",
       "      <th>Co</th>\n",
       "      <td>0.239854</td>\n",
       "      <td>0.010296</td>\n",
       "      <td>1.000000</td>\n",
       "      <td>0.000737</td>\n",
       "      <td>-0.027865</td>\n",
       "      <td>0.031308</td>\n",
       "      <td>-0.005728</td>\n",
       "      <td>-0.015180</td>\n",
       "      <td>-0.005741</td>\n",
       "      <td>0.035981</td>\n",
       "      <td>-0.070024</td>\n",
       "      <td>0.091441</td>\n",
       "    </tr>\n",
       "    <tr>\n",
       "      <th>Pd</th>\n",
       "      <td>0.105371</td>\n",
       "      <td>0.107283</td>\n",
       "      <td>0.000737</td>\n",
       "      <td>1.000000</td>\n",
       "      <td>-0.030816</td>\n",
       "      <td>0.129249</td>\n",
       "      <td>0.124961</td>\n",
       "      <td>-0.004897</td>\n",
       "      <td>-0.013294</td>\n",
       "      <td>-0.007691</td>\n",
       "      <td>0.002496</td>\n",
       "      <td>0.057883</td>\n",
       "    </tr>\n",
       "    <tr>\n",
       "      <th>Au</th>\n",
       "      <td>-0.059352</td>\n",
       "      <td>-0.015070</td>\n",
       "      <td>-0.027865</td>\n",
       "      <td>-0.030816</td>\n",
       "      <td>1.000000</td>\n",
       "      <td>-0.011699</td>\n",
       "      <td>-0.006480</td>\n",
       "      <td>-0.042059</td>\n",
       "      <td>-0.012326</td>\n",
       "      <td>-0.003820</td>\n",
       "      <td>-0.118949</td>\n",
       "      <td>0.026586</td>\n",
       "    </tr>\n",
       "    <tr>\n",
       "      <th>Pt</th>\n",
       "      <td>0.001500</td>\n",
       "      <td>0.011517</td>\n",
       "      <td>0.031308</td>\n",
       "      <td>0.129249</td>\n",
       "      <td>-0.011699</td>\n",
       "      <td>1.000000</td>\n",
       "      <td>0.021461</td>\n",
       "      <td>0.046541</td>\n",
       "      <td>-0.004413</td>\n",
       "      <td>0.288957</td>\n",
       "      <td>0.049994</td>\n",
       "      <td>-0.044069</td>\n",
       "    </tr>\n",
       "    <tr>\n",
       "      <th>Rh</th>\n",
       "      <td>-0.007069</td>\n",
       "      <td>0.007172</td>\n",
       "      <td>-0.005728</td>\n",
       "      <td>0.124961</td>\n",
       "      <td>-0.006480</td>\n",
       "      <td>0.021461</td>\n",
       "      <td>1.000000</td>\n",
       "      <td>0.014334</td>\n",
       "      <td>-0.002613</td>\n",
       "      <td>-0.001670</td>\n",
       "      <td>0.006534</td>\n",
       "      <td>-0.005837</td>\n",
       "    </tr>\n",
       "    <tr>\n",
       "      <th>Fe</th>\n",
       "      <td>-0.091675</td>\n",
       "      <td>-0.022500</td>\n",
       "      <td>-0.015180</td>\n",
       "      <td>-0.004897</td>\n",
       "      <td>-0.042059</td>\n",
       "      <td>0.046541</td>\n",
       "      <td>0.014334</td>\n",
       "      <td>1.000000</td>\n",
       "      <td>0.027201</td>\n",
       "      <td>0.122790</td>\n",
       "      <td>-0.023538</td>\n",
       "      <td>0.019185</td>\n",
       "    </tr>\n",
       "    <tr>\n",
       "      <th>S</th>\n",
       "      <td>0.002184</td>\n",
       "      <td>-0.007922</td>\n",
       "      <td>-0.005741</td>\n",
       "      <td>-0.013294</td>\n",
       "      <td>-0.012326</td>\n",
       "      <td>-0.004413</td>\n",
       "      <td>-0.002613</td>\n",
       "      <td>0.027201</td>\n",
       "      <td>1.000000</td>\n",
       "      <td>-0.003805</td>\n",
       "      <td>0.012901</td>\n",
       "      <td>-0.010057</td>\n",
       "    </tr>\n",
       "    <tr>\n",
       "      <th>Ag</th>\n",
       "      <td>-0.015792</td>\n",
       "      <td>-0.004776</td>\n",
       "      <td>0.035981</td>\n",
       "      <td>-0.007691</td>\n",
       "      <td>-0.003820</td>\n",
       "      <td>0.288957</td>\n",
       "      <td>-0.001670</td>\n",
       "      <td>0.122790</td>\n",
       "      <td>-0.003805</td>\n",
       "      <td>1.000000</td>\n",
       "      <td>-0.044333</td>\n",
       "      <td>0.060725</td>\n",
       "    </tr>\n",
       "    <tr>\n",
       "      <th>wamex_lat</th>\n",
       "      <td>0.063577</td>\n",
       "      <td>0.195462</td>\n",
       "      <td>-0.070024</td>\n",
       "      <td>0.002496</td>\n",
       "      <td>-0.118949</td>\n",
       "      <td>0.049994</td>\n",
       "      <td>0.006534</td>\n",
       "      <td>-0.023538</td>\n",
       "      <td>0.012901</td>\n",
       "      <td>-0.044333</td>\n",
       "      <td>1.000000</td>\n",
       "      <td>-0.077411</td>\n",
       "    </tr>\n",
       "    <tr>\n",
       "      <th>wamex_lon</th>\n",
       "      <td>0.261229</td>\n",
       "      <td>0.144866</td>\n",
       "      <td>0.091441</td>\n",
       "      <td>0.057883</td>\n",
       "      <td>0.026586</td>\n",
       "      <td>-0.044069</td>\n",
       "      <td>-0.005837</td>\n",
       "      <td>0.019185</td>\n",
       "      <td>-0.010057</td>\n",
       "      <td>0.060725</td>\n",
       "      <td>-0.077411</td>\n",
       "      <td>1.000000</td>\n",
       "    </tr>\n",
       "  </tbody>\n",
       "</table>\n",
       "</div>"
      ],
      "text/plain": [
       "                 Ni        Cu        Co        Pd        Au        Pt  \\\n",
       "Ni         1.000000  0.108374  0.239854  0.105371 -0.059352  0.001500   \n",
       "Cu         0.108374  1.000000  0.010296  0.107283 -0.015070  0.011517   \n",
       "Co         0.239854  0.010296  1.000000  0.000737 -0.027865  0.031308   \n",
       "Pd         0.105371  0.107283  0.000737  1.000000 -0.030816  0.129249   \n",
       "Au        -0.059352 -0.015070 -0.027865 -0.030816  1.000000 -0.011699   \n",
       "Pt         0.001500  0.011517  0.031308  0.129249 -0.011699  1.000000   \n",
       "Rh        -0.007069  0.007172 -0.005728  0.124961 -0.006480  0.021461   \n",
       "Fe        -0.091675 -0.022500 -0.015180 -0.004897 -0.042059  0.046541   \n",
       "S          0.002184 -0.007922 -0.005741 -0.013294 -0.012326 -0.004413   \n",
       "Ag        -0.015792 -0.004776  0.035981 -0.007691 -0.003820  0.288957   \n",
       "wamex_lat  0.063577  0.195462 -0.070024  0.002496 -0.118949  0.049994   \n",
       "wamex_lon  0.261229  0.144866  0.091441  0.057883  0.026586 -0.044069   \n",
       "\n",
       "                 Rh        Fe         S        Ag  wamex_lat  wamex_lon  \n",
       "Ni        -0.007069 -0.091675  0.002184 -0.015792   0.063577   0.261229  \n",
       "Cu         0.007172 -0.022500 -0.007922 -0.004776   0.195462   0.144866  \n",
       "Co        -0.005728 -0.015180 -0.005741  0.035981  -0.070024   0.091441  \n",
       "Pd         0.124961 -0.004897 -0.013294 -0.007691   0.002496   0.057883  \n",
       "Au        -0.006480 -0.042059 -0.012326 -0.003820  -0.118949   0.026586  \n",
       "Pt         0.021461  0.046541 -0.004413  0.288957   0.049994  -0.044069  \n",
       "Rh         1.000000  0.014334 -0.002613 -0.001670   0.006534  -0.005837  \n",
       "Fe         0.014334  1.000000  0.027201  0.122790  -0.023538   0.019185  \n",
       "S         -0.002613  0.027201  1.000000 -0.003805   0.012901  -0.010057  \n",
       "Ag        -0.001670  0.122790 -0.003805  1.000000  -0.044333   0.060725  \n",
       "wamex_lat  0.006534 -0.023538  0.012901 -0.044333   1.000000  -0.077411  \n",
       "wamex_lon -0.005837  0.019185 -0.010057  0.060725  -0.077411   1.000000  "
      ]
     },
     "execution_count": 32,
     "metadata": {},
     "output_type": "execute_result"
    }
   ],
   "source": [
    "df_unique.corr()"
   ]
  },
  {
   "cell_type": "code",
   "execution_count": 33,
   "id": "511f893f",
   "metadata": {},
   "outputs": [],
   "source": [
    "df_unique_corr['dataframe'] = 'WAMEX Rockchip'"
   ]
  },
  {
   "cell_type": "code",
   "execution_count": 34,
   "id": "9daf03ae",
   "metadata": {},
   "outputs": [],
   "source": [
    "df_unique_corr.to_csv('Co_correlations_Rockchip_1km.csv')"
   ]
  },
  {
   "cell_type": "markdown",
   "id": "dede539d",
   "metadata": {},
   "source": [
    "## Indium/Germanium"
   ]
  },
  {
   "cell_type": "code",
   "execution_count": 38,
   "id": "9e318273",
   "metadata": {},
   "outputs": [
    {
     "data": {
      "text/html": [
       "<div>\n",
       "<style scoped>\n",
       "    .dataframe tbody tr th:only-of-type {\n",
       "        vertical-align: middle;\n",
       "    }\n",
       "\n",
       "    .dataframe tbody tr th {\n",
       "        vertical-align: top;\n",
       "    }\n",
       "\n",
       "    .dataframe thead th {\n",
       "        text-align: right;\n",
       "    }\n",
       "</style>\n",
       "<table border=\"1\" class=\"dataframe\">\n",
       "  <thead>\n",
       "    <tr style=\"text-align: right;\">\n",
       "      <th></th>\n",
       "      <th>Unnamed: 0_x</th>\n",
       "      <th>Zn</th>\n",
       "      <th>Ag</th>\n",
       "      <th>Cu</th>\n",
       "      <th>Pb</th>\n",
       "      <th>Au</th>\n",
       "      <th>Co</th>\n",
       "      <th>In</th>\n",
       "      <th>Ge</th>\n",
       "      <th>lat</th>\n",
       "      <th>long</th>\n",
       "      <th>Unnamed: 0_y</th>\n",
       "      <th>minedex_coords</th>\n",
       "      <th>minedex_site</th>\n",
       "      <th>wamex_lat</th>\n",
       "      <th>wamex_lon</th>\n",
       "      <th>distance</th>\n",
       "    </tr>\n",
       "  </thead>\n",
       "  <tbody>\n",
       "    <tr>\n",
       "      <th>0</th>\n",
       "      <td>24985</td>\n",
       "      <td>14.0</td>\n",
       "      <td>0.03</td>\n",
       "      <td>11.6</td>\n",
       "      <td>1.2</td>\n",
       "      <td>NaN</td>\n",
       "      <td>1.6</td>\n",
       "      <td>0.007</td>\n",
       "      <td>0.025</td>\n",
       "      <td>-23.722310</td>\n",
       "      <td>119.290297</td>\n",
       "      <td>2271</td>\n",
       "      <td>(-23.715655, 119.281652)</td>\n",
       "      <td>S0002505</td>\n",
       "      <td>-23.722310</td>\n",
       "      <td>119.290297</td>\n",
       "      <td>1.1490822602067268 km</td>\n",
       "    </tr>\n",
       "    <tr>\n",
       "      <th>1</th>\n",
       "      <td>24986</td>\n",
       "      <td>18.0</td>\n",
       "      <td>0.05</td>\n",
       "      <td>55.7</td>\n",
       "      <td>1.4</td>\n",
       "      <td>NaN</td>\n",
       "      <td>4.4</td>\n",
       "      <td>0.053</td>\n",
       "      <td>0.110</td>\n",
       "      <td>-23.722511</td>\n",
       "      <td>119.290732</td>\n",
       "      <td>3573</td>\n",
       "      <td>(-23.715655, 119.281652)</td>\n",
       "      <td>S0002505</td>\n",
       "      <td>-23.722511</td>\n",
       "      <td>119.290732</td>\n",
       "      <td>1.1974451584269783 km</td>\n",
       "    </tr>\n",
       "    <tr>\n",
       "      <th>2</th>\n",
       "      <td>24987</td>\n",
       "      <td>72.0</td>\n",
       "      <td>0.10</td>\n",
       "      <td>54.2</td>\n",
       "      <td>21.8</td>\n",
       "      <td>NaN</td>\n",
       "      <td>14.9</td>\n",
       "      <td>0.076</td>\n",
       "      <td>0.070</td>\n",
       "      <td>-23.720042</td>\n",
       "      <td>119.286168</td>\n",
       "      <td>3473</td>\n",
       "      <td>(-23.715655, 119.281652)</td>\n",
       "      <td>S0002505</td>\n",
       "      <td>-23.720042</td>\n",
       "      <td>119.286168</td>\n",
       "      <td>0.6694362586362227 km</td>\n",
       "    </tr>\n",
       "  </tbody>\n",
       "</table>\n",
       "</div>"
      ],
      "text/plain": [
       "   Unnamed: 0_x    Zn    Ag    Cu    Pb  Au    Co     In     Ge        lat  \\\n",
       "0         24985  14.0  0.03  11.6   1.2 NaN   1.6  0.007  0.025 -23.722310   \n",
       "1         24986  18.0  0.05  55.7   1.4 NaN   4.4  0.053  0.110 -23.722511   \n",
       "2         24987  72.0  0.10  54.2  21.8 NaN  14.9  0.076  0.070 -23.720042   \n",
       "\n",
       "         long  Unnamed: 0_y            minedex_coords minedex_site  wamex_lat  \\\n",
       "0  119.290297          2271  (-23.715655, 119.281652)     S0002505 -23.722310   \n",
       "1  119.290732          3573  (-23.715655, 119.281652)     S0002505 -23.722511   \n",
       "2  119.286168          3473  (-23.715655, 119.281652)     S0002505 -23.720042   \n",
       "\n",
       "    wamex_lon               distance  \n",
       "0  119.290297  1.1490822602067268 km  \n",
       "1  119.290732  1.1974451584269783 km  \n",
       "2  119.286168  0.6694362586362227 km  "
      ]
     },
     "execution_count": 38,
     "metadata": {},
     "output_type": "execute_result"
    }
   ],
   "source": [
    "file_path = 'Merged_lessthan15km_In_Ge.csv'\n",
    "\n",
    "df = pd.read_csv(file_path, index_col=0)\n",
    "df.head(3)"
   ]
  },
  {
   "cell_type": "code",
   "execution_count": 42,
   "id": "55f1cc7c",
   "metadata": {},
   "outputs": [
    {
     "data": {
      "text/plain": [
       "(4909, 17)"
      ]
     },
     "execution_count": 42,
     "metadata": {},
     "output_type": "execute_result"
    }
   ],
   "source": [
    "df.shape"
   ]
  },
  {
   "cell_type": "code",
   "execution_count": 40,
   "id": "7cebf808-acc9-4325-8919-399075ab3853",
   "metadata": {},
   "outputs": [
    {
     "data": {
      "text/plain": [
       "count                      4909\n",
       "unique                     3361\n",
       "top       11.418691703026479 km\n",
       "freq                         12\n",
       "Name: distance, dtype: object"
      ]
     },
     "execution_count": 40,
     "metadata": {},
     "output_type": "execute_result"
    }
   ],
   "source": [
    "df['distance'].describe()"
   ]
  },
  {
   "cell_type": "code",
   "execution_count": 41,
   "id": "0a47e1e1-b9fd-4ac0-b2e3-6c06510cf373",
   "metadata": {},
   "outputs": [],
   "source": [
    "for i in range(0, len(df)):\n",
    "    df.at[i, 'distance'] = dist_to_float(df.at[i, 'distance'])"
   ]
  },
  {
   "cell_type": "code",
   "execution_count": 43,
   "id": "7333470c-1bdf-4eec-a912-1af8f7030cb1",
   "metadata": {},
   "outputs": [
    {
     "data": {
      "text/plain": [
       "(286, 17)"
      ]
     },
     "execution_count": 43,
     "metadata": {},
     "output_type": "execute_result"
    }
   ],
   "source": [
    "df = df[df['distance']<=1]\n",
    "df.shape"
   ]
  },
  {
   "cell_type": "code",
   "execution_count": 44,
   "id": "43b42147",
   "metadata": {},
   "outputs": [],
   "source": [
    "df_unique = df.drop(columns=['Unnamed: 0_x', 'Unnamed: 0_y', 'lat', 'long', \n",
    "                     'minedex_coords', 'minedex_site',\n",
    "                    'distance'])\n",
    "\n",
    "df_unique = df_unique.drop_duplicates()"
   ]
  },
  {
   "cell_type": "code",
   "execution_count": 45,
   "id": "6a1a5ff8",
   "metadata": {},
   "outputs": [
    {
     "name": "stdout",
     "output_type": "stream",
     "text": [
      "Amount of Duplicate rows: 72\n"
     ]
    }
   ],
   "source": [
    "print(f\"Amount of Duplicate rows: {df.shape[0] - df_unique.shape[0]}\")"
   ]
  },
  {
   "cell_type": "code",
   "execution_count": 46,
   "id": "e013292d",
   "metadata": {},
   "outputs": [
    {
     "data": {
      "text/plain": [
       "(214, 10)"
      ]
     },
     "execution_count": 46,
     "metadata": {},
     "output_type": "execute_result"
    }
   ],
   "source": [
    "df_unique.shape"
   ]
  },
  {
   "cell_type": "code",
   "execution_count": 47,
   "id": "bc669c18",
   "metadata": {},
   "outputs": [
    {
     "data": {
      "text/plain": [
       "Zn            0\n",
       "Ag            0\n",
       "Cu           10\n",
       "Pb            0\n",
       "Au           23\n",
       "Co            0\n",
       "In            0\n",
       "Ge            0\n",
       "wamex_lat     0\n",
       "wamex_lon     0\n",
       "dtype: int64"
      ]
     },
     "execution_count": 47,
     "metadata": {},
     "output_type": "execute_result"
    }
   ],
   "source": [
    "df_unique.isna().sum()"
   ]
  },
  {
   "cell_type": "code",
   "execution_count": 48,
   "id": "b455c98f",
   "metadata": {},
   "outputs": [],
   "source": [
    "#change NAs to 0\n",
    "df_unique = df_unique.fillna(0)"
   ]
  },
  {
   "cell_type": "code",
   "execution_count": 49,
   "id": "a61ae6f0",
   "metadata": {},
   "outputs": [
    {
     "data": {
      "text/plain": [
       "(214, 10)"
      ]
     },
     "execution_count": 49,
     "metadata": {},
     "output_type": "execute_result"
    }
   ],
   "source": [
    "df_minerals = df_unique.drop(columns=['wamex_lat', 'wamex_lon'])\n",
    "\n",
    "df_unique.loc[:, df_minerals.columns] = clean_assays_zn(df_unique.loc[:,df_minerals.columns])\n",
    "df_unique.shape"
   ]
  },
  {
   "cell_type": "code",
   "execution_count": 50,
   "id": "83f38e7a",
   "metadata": {},
   "outputs": [
    {
     "data": {
      "text/plain": [
       "(214, 10)"
      ]
     },
     "execution_count": 50,
     "metadata": {},
     "output_type": "execute_result"
    }
   ],
   "source": [
    "df_unique = df_unique.drop_duplicates()\n",
    "df_unique.shape"
   ]
  },
  {
   "cell_type": "code",
   "execution_count": 51,
   "id": "3689dd66",
   "metadata": {},
   "outputs": [
    {
     "data": {
      "text/plain": [
       "<AxesSubplot:>"
      ]
     },
     "execution_count": 51,
     "metadata": {},
     "output_type": "execute_result"
    },
    {
     "data": {
      "image/png": "[encoded data removed]",
      "text/plain": [
       "<Figure size 432x288 with 1 Axes>"
      ]
     },
     "metadata": {
      "needs_background": "light"
     },
     "output_type": "display_data"
    }
   ],
   "source": [
    "df_unique['Ge'].plot(kind='box')"
   ]
  },
  {
   "cell_type": "code",
   "execution_count": 54,
   "id": "7c986d20",
   "metadata": {},
   "outputs": [
    {
     "data": {
      "text/plain": [
       "<AxesSubplot:>"
      ]
     },
     "execution_count": 54,
     "metadata": {},
     "output_type": "execute_result"
    },
    {
     "data": {
      "image/png": "[encoded data removed]",
      "text/plain": [
       "<Figure size 432x288 with 1 Axes>"
      ]
     },
     "metadata": {
      "needs_background": "light"
     },
     "output_type": "display_data"
    }
   ],
   "source": [
    "df_unique['In'].plot(kind='box')"
   ]
  },
  {
   "cell_type": "code",
   "execution_count": 55,
   "id": "9102406f",
   "metadata": {},
   "outputs": [],
   "source": [
    "only_ge = df_unique.corr()['Ge'].sort_values()\n",
    "only_in = df_unique.corr()['In'].sort_values()"
   ]
  },
  {
   "cell_type": "code",
   "execution_count": 56,
   "id": "56b5028e",
   "metadata": {},
   "outputs": [
    {
     "data": {
      "text/plain": [
       "wamex_lon   -0.293608\n",
       "Pb           0.142517\n",
       "wamex_lat    0.256096\n",
       "Zn           0.355080\n",
       "Ag           0.400856\n",
       "Name: Ge, dtype: float64"
      ]
     },
     "execution_count": 56,
     "metadata": {},
     "output_type": "execute_result"
    }
   ],
   "source": [
    "only_ge[0:5]"
   ]
  },
  {
   "cell_type": "code",
   "execution_count": 57,
   "id": "51c71d6a",
   "metadata": {},
   "outputs": [
    {
     "data": {
      "text/plain": [
       "wamex_lon   -0.293608\n",
       "Pb           0.142517\n",
       "wamex_lat    0.256096\n",
       "Zn           0.355080\n",
       "Ag           0.400856\n",
       "Au           0.407188\n",
       "Co           0.454929\n",
       "Cu           0.545180\n",
       "In           0.647412\n",
       "Ge           1.000000\n",
       "Name: Ge, dtype: float64"
      ]
     },
     "execution_count": 57,
     "metadata": {},
     "output_type": "execute_result"
    }
   ],
   "source": [
    "only_ge[-20:]"
   ]
  },
  {
   "cell_type": "code",
   "execution_count": 58,
   "id": "86903f27",
   "metadata": {},
   "outputs": [
    {
     "data": {
      "text/plain": [
       "wamex_lat   -0.130168\n",
       "wamex_lon   -0.027026\n",
       "Pb           0.274988\n",
       "Au           0.384623\n",
       "Ag           0.388069\n",
       "Name: In, dtype: float64"
      ]
     },
     "execution_count": 58,
     "metadata": {},
     "output_type": "execute_result"
    }
   ],
   "source": [
    "only_in[0:5]"
   ]
  },
  {
   "cell_type": "code",
   "execution_count": 59,
   "id": "605fd4ac",
   "metadata": {},
   "outputs": [
    {
     "data": {
      "text/plain": [
       "wamex_lat   -0.130168\n",
       "wamex_lon   -0.027026\n",
       "Pb           0.274988\n",
       "Au           0.384623\n",
       "Ag           0.388069\n",
       "Co           0.400482\n",
       "Cu           0.406482\n",
       "Zn           0.458381\n",
       "Ge           0.647412\n",
       "In           1.000000\n",
       "Name: In, dtype: float64"
      ]
     },
     "execution_count": 59,
     "metadata": {},
     "output_type": "execute_result"
    }
   ],
   "source": [
    "only_in[-20:]"
   ]
  },
  {
   "cell_type": "code",
   "execution_count": 60,
   "id": "c511446a",
   "metadata": {},
   "outputs": [],
   "source": [
    "Zn_deposits = ['Zn', 'Ag', 'Cu', 'Pb', 'Au', 'Co', 'In', 'Ge', 'wamex_lat', 'wamex_lon']\n",
    "only_minedex = df_unique[Zn_deposits].corr()"
   ]
  },
  {
   "cell_type": "code",
   "execution_count": 61,
   "id": "aada36ca",
   "metadata": {},
   "outputs": [
    {
     "data": {
      "text/html": [
       "<div>\n",
       "<style scoped>\n",
       "    .dataframe tbody tr th:only-of-type {\n",
       "        vertical-align: middle;\n",
       "    }\n",
       "\n",
       "    .dataframe tbody tr th {\n",
       "        vertical-align: top;\n",
       "    }\n",
       "\n",
       "    .dataframe thead th {\n",
       "        text-align: right;\n",
       "    }\n",
       "</style>\n",
       "<table border=\"1\" class=\"dataframe\">\n",
       "  <thead>\n",
       "    <tr style=\"text-align: right;\">\n",
       "      <th></th>\n",
       "      <th>Zn</th>\n",
       "      <th>Ag</th>\n",
       "      <th>Cu</th>\n",
       "      <th>Pb</th>\n",
       "      <th>Au</th>\n",
       "      <th>Co</th>\n",
       "      <th>In</th>\n",
       "      <th>Ge</th>\n",
       "      <th>wamex_lat</th>\n",
       "      <th>wamex_lon</th>\n",
       "    </tr>\n",
       "  </thead>\n",
       "  <tbody>\n",
       "    <tr>\n",
       "      <th>Zn</th>\n",
       "      <td>1.000000</td>\n",
       "      <td>0.107959</td>\n",
       "      <td>0.140253</td>\n",
       "      <td>0.545672</td>\n",
       "      <td>0.096263</td>\n",
       "      <td>0.056042</td>\n",
       "      <td>0.458381</td>\n",
       "      <td>0.355080</td>\n",
       "      <td>-0.300482</td>\n",
       "      <td>-0.124224</td>\n",
       "    </tr>\n",
       "    <tr>\n",
       "      <th>Ag</th>\n",
       "      <td>0.107959</td>\n",
       "      <td>1.000000</td>\n",
       "      <td>0.128012</td>\n",
       "      <td>0.030692</td>\n",
       "      <td>0.320534</td>\n",
       "      <td>0.173490</td>\n",
       "      <td>0.388069</td>\n",
       "      <td>0.400856</td>\n",
       "      <td>-0.025145</td>\n",
       "      <td>0.050647</td>\n",
       "    </tr>\n",
       "    <tr>\n",
       "      <th>Cu</th>\n",
       "      <td>0.140253</td>\n",
       "      <td>0.128012</td>\n",
       "      <td>1.000000</td>\n",
       "      <td>0.115430</td>\n",
       "      <td>0.479543</td>\n",
       "      <td>0.664866</td>\n",
       "      <td>0.406482</td>\n",
       "      <td>0.545180</td>\n",
       "      <td>0.189028</td>\n",
       "      <td>-0.209431</td>\n",
       "    </tr>\n",
       "    <tr>\n",
       "      <th>Pb</th>\n",
       "      <td>0.545672</td>\n",
       "      <td>0.030692</td>\n",
       "      <td>0.115430</td>\n",
       "      <td>1.000000</td>\n",
       "      <td>-0.023386</td>\n",
       "      <td>0.013395</td>\n",
       "      <td>0.274988</td>\n",
       "      <td>0.142517</td>\n",
       "      <td>-0.164587</td>\n",
       "      <td>-0.332053</td>\n",
       "    </tr>\n",
       "    <tr>\n",
       "      <th>Au</th>\n",
       "      <td>0.096263</td>\n",
       "      <td>0.320534</td>\n",
       "      <td>0.479543</td>\n",
       "      <td>-0.023386</td>\n",
       "      <td>1.000000</td>\n",
       "      <td>0.548256</td>\n",
       "      <td>0.384623</td>\n",
       "      <td>0.407188</td>\n",
       "      <td>-0.174767</td>\n",
       "      <td>0.217672</td>\n",
       "    </tr>\n",
       "    <tr>\n",
       "      <th>Co</th>\n",
       "      <td>0.056042</td>\n",
       "      <td>0.173490</td>\n",
       "      <td>0.664866</td>\n",
       "      <td>0.013395</td>\n",
       "      <td>0.548256</td>\n",
       "      <td>1.000000</td>\n",
       "      <td>0.400482</td>\n",
       "      <td>0.454929</td>\n",
       "      <td>0.215098</td>\n",
       "      <td>-0.176932</td>\n",
       "    </tr>\n",
       "    <tr>\n",
       "      <th>In</th>\n",
       "      <td>0.458381</td>\n",
       "      <td>0.388069</td>\n",
       "      <td>0.406482</td>\n",
       "      <td>0.274988</td>\n",
       "      <td>0.384623</td>\n",
       "      <td>0.400482</td>\n",
       "      <td>1.000000</td>\n",
       "      <td>0.647412</td>\n",
       "      <td>-0.130168</td>\n",
       "      <td>-0.027026</td>\n",
       "    </tr>\n",
       "    <tr>\n",
       "      <th>Ge</th>\n",
       "      <td>0.355080</td>\n",
       "      <td>0.400856</td>\n",
       "      <td>0.545180</td>\n",
       "      <td>0.142517</td>\n",
       "      <td>0.407188</td>\n",
       "      <td>0.454929</td>\n",
       "      <td>0.647412</td>\n",
       "      <td>1.000000</td>\n",
       "      <td>0.256096</td>\n",
       "      <td>-0.293608</td>\n",
       "    </tr>\n",
       "    <tr>\n",
       "      <th>wamex_lat</th>\n",
       "      <td>-0.300482</td>\n",
       "      <td>-0.025145</td>\n",
       "      <td>0.189028</td>\n",
       "      <td>-0.164587</td>\n",
       "      <td>-0.174767</td>\n",
       "      <td>0.215098</td>\n",
       "      <td>-0.130168</td>\n",
       "      <td>0.256096</td>\n",
       "      <td>1.000000</td>\n",
       "      <td>-0.671257</td>\n",
       "    </tr>\n",
       "    <tr>\n",
       "      <th>wamex_lon</th>\n",
       "      <td>-0.124224</td>\n",
       "      <td>0.050647</td>\n",
       "      <td>-0.209431</td>\n",
       "      <td>-0.332053</td>\n",
       "      <td>0.217672</td>\n",
       "      <td>-0.176932</td>\n",
       "      <td>-0.027026</td>\n",
       "      <td>-0.293608</td>\n",
       "      <td>-0.671257</td>\n",
       "      <td>1.000000</td>\n",
       "    </tr>\n",
       "  </tbody>\n",
       "</table>\n",
       "</div>"
      ],
      "text/plain": [
       "                 Zn        Ag        Cu        Pb        Au        Co  \\\n",
       "Zn         1.000000  0.107959  0.140253  0.545672  0.096263  0.056042   \n",
       "Ag         0.107959  1.000000  0.128012  0.030692  0.320534  0.173490   \n",
       "Cu         0.140253  0.128012  1.000000  0.115430  0.479543  0.664866   \n",
       "Pb         0.545672  0.030692  0.115430  1.000000 -0.023386  0.013395   \n",
       "Au         0.096263  0.320534  0.479543 -0.023386  1.000000  0.548256   \n",
       "Co         0.056042  0.173490  0.664866  0.013395  0.548256  1.000000   \n",
       "In         0.458381  0.388069  0.406482  0.274988  0.384623  0.400482   \n",
       "Ge         0.355080  0.400856  0.545180  0.142517  0.407188  0.454929   \n",
       "wamex_lat -0.300482 -0.025145  0.189028 -0.164587 -0.174767  0.215098   \n",
       "wamex_lon -0.124224  0.050647 -0.209431 -0.332053  0.217672 -0.176932   \n",
       "\n",
       "                 In        Ge  wamex_lat  wamex_lon  \n",
       "Zn         0.458381  0.355080  -0.300482  -0.124224  \n",
       "Ag         0.388069  0.400856  -0.025145   0.050647  \n",
       "Cu         0.406482  0.545180   0.189028  -0.209431  \n",
       "Pb         0.274988  0.142517  -0.164587  -0.332053  \n",
       "Au         0.384623  0.407188  -0.174767   0.217672  \n",
       "Co         0.400482  0.454929   0.215098  -0.176932  \n",
       "In         1.000000  0.647412  -0.130168  -0.027026  \n",
       "Ge         0.647412  1.000000   0.256096  -0.293608  \n",
       "wamex_lat -0.130168  0.256096   1.000000  -0.671257  \n",
       "wamex_lon -0.027026 -0.293608  -0.671257   1.000000  "
      ]
     },
     "execution_count": 61,
     "metadata": {},
     "output_type": "execute_result"
    }
   ],
   "source": [
    "only_minedex"
   ]
  },
  {
   "cell_type": "code",
   "execution_count": 63,
   "id": "dcda51f1",
   "metadata": {},
   "outputs": [],
   "source": [
    "only_minedex.to_csv('GeIn_correlations_Rockchip_within1km.csv')"
   ]
  },
  {
   "cell_type": "code",
   "execution_count": null,
   "id": "cd49aaed-b695-4b63-9545-1a4fde076b3c",
   "metadata": {},
   "outputs": [],
   "source": []
  }
 ],
 "metadata": {
  "kernelspec": {
   "display_name": "Python 3",
   "language": "python",
   "name": "python3"
  },
  "language_info": {
   "codemirror_mode": {
    "name": "ipython",
    "version": 3
   },
   "file_extension": ".py",
   "mimetype": "text/x-python",
   "name": "python",
   "nbconvert_exporter": "python",
   "pygments_lexer": "ipython3",
   "version": "3.8.10"
  }
 },
 "nbformat": 4,
 "nbformat_minor": 5
}
