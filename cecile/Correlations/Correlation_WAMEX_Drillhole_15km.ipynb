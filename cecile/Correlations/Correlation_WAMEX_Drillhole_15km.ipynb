{
 "cells": [
  {
   "cell_type": "markdown",
   "metadata": {},
   "source": [
    "# Correlation WAMEX Drillhole"
   ]
  },
  {
   "cell_type": "markdown",
   "metadata": {},
   "source": [
    "10% of the entire data due to large volume of entire data (8 GB). We use the WAMEX Drillhole assays that were within 15km of the relevant MINEDEX sites, remove obvious outliers and observe highest/lowest correlations involving the CM, as well as correlations between the CM and MINEDEX commodities available for the relevant MINEDEX sites. "
   ]
  },
  {
   "cell_type": "code",
   "execution_count": 54,
   "metadata": {},
   "outputs": [],
   "source": [
    "def replace_neg9999(val):\n",
    "    if val == -9999: \n",
    "        return 0\n",
    "    else:\n",
    "        return val\n",
    "    \n",
    "def abs_halve_neg_val(val):\n",
    "    if val < 0: \n",
    "        return abs(val) / 2\n",
    "    else: \n",
    "        return val\n",
    "\n",
    "def clean_assays(df):\n",
    "    df = df.applymap(replace_neg9999)\n",
    "    df = df.applymap(abs_halve_neg_val)\n",
    "    \n",
    "    return df"
   ]
  },
  {
   "cell_type": "markdown",
   "metadata": {},
   "source": [
    "## Cobalt"
   ]
  },
  {
   "cell_type": "code",
   "execution_count": 6,
   "metadata": {},
   "outputs": [],
   "source": [
    "Merged_Ni_Drillhole_lessthan15km = pd.read_csv('Merged_Ni_Drillhole_lessthan15km.csv')"
   ]
  },
  {
   "cell_type": "code",
   "execution_count": 7,
   "metadata": {},
   "outputs": [],
   "source": [
    "#remove duplicates\n",
    "df_Co = Merged_Ni_Drillhole_lessthan15km.drop(columns=['Unnamed: 0', 'Unnamed: 0_x', 'Unnamed: 0_y', 'Latitude', 'Longitude', \n",
    "                     'minedex_coords', 'minedex_site',\n",
    "                    'distance'])"
   ]
  },
  {
   "cell_type": "code",
   "execution_count": 8,
   "metadata": {},
   "outputs": [
    {
     "data": {
      "text/html": [
       "<div>\n",
       "<style scoped>\n",
       "    .dataframe tbody tr th:only-of-type {\n",
       "        vertical-align: middle;\n",
       "    }\n",
       "\n",
       "    .dataframe tbody tr th {\n",
       "        vertical-align: top;\n",
       "    }\n",
       "\n",
       "    .dataframe thead th {\n",
       "        text-align: right;\n",
       "    }\n",
       "</style>\n",
       "<table border=\"1\" class=\"dataframe\">\n",
       "  <thead>\n",
       "    <tr style=\"text-align: right;\">\n",
       "      <th></th>\n",
       "      <th>CollarId</th>\n",
       "      <th>CompanyHoleId</th>\n",
       "      <th>HoleType</th>\n",
       "      <th>Azimuth</th>\n",
       "      <th>Dip</th>\n",
       "      <th>MaxDepth</th>\n",
       "      <th>Anumber</th>\n",
       "      <th>SampleId</th>\n",
       "      <th>CompanySampleId</th>\n",
       "      <th>FromDepth</th>\n",
       "      <th>...</th>\n",
       "      <th>Y_PPM</th>\n",
       "      <th>Y2O3_PPM</th>\n",
       "      <th>Yb_PPM</th>\n",
       "      <th>Yb2O3_PPM</th>\n",
       "      <th>Zn_PPM</th>\n",
       "      <th>ZnO_PPM</th>\n",
       "      <th>Zr_PPM</th>\n",
       "      <th>ZrO2_PPM</th>\n",
       "      <th>wamex_lat</th>\n",
       "      <th>wamex_lon</th>\n",
       "    </tr>\n",
       "  </thead>\n",
       "  <tbody>\n",
       "    <tr>\n",
       "      <th>0</th>\n",
       "      <td>868290</td>\n",
       "      <td>AMD352</td>\n",
       "      <td>DD</td>\n",
       "      <td>360</td>\n",
       "      <td>-90</td>\n",
       "      <td>338.6</td>\n",
       "      <td>79089</td>\n",
       "      <td>18042279</td>\n",
       "      <td>CD011299</td>\n",
       "      <td>86.0</td>\n",
       "      <td>...</td>\n",
       "      <td>-9999.0</td>\n",
       "      <td>-9999.0</td>\n",
       "      <td>-9999.0</td>\n",
       "      <td>-9999.0</td>\n",
       "      <td>82.0</td>\n",
       "      <td>-9999.0</td>\n",
       "      <td>8.0</td>\n",
       "      <td>-9999.0</td>\n",
       "      <td>-27.606633</td>\n",
       "      <td>120.573672</td>\n",
       "    </tr>\n",
       "    <tr>\n",
       "      <th>18</th>\n",
       "      <td>868286</td>\n",
       "      <td>AMD348</td>\n",
       "      <td>DD</td>\n",
       "      <td>360</td>\n",
       "      <td>-90</td>\n",
       "      <td>377.9</td>\n",
       "      <td>79089</td>\n",
       "      <td>18040715</td>\n",
       "      <td>1156461</td>\n",
       "      <td>287.0</td>\n",
       "      <td>...</td>\n",
       "      <td>-9999.0</td>\n",
       "      <td>-9999.0</td>\n",
       "      <td>-9999.0</td>\n",
       "      <td>-9999.0</td>\n",
       "      <td>-9999.0</td>\n",
       "      <td>-9999.0</td>\n",
       "      <td>7.0</td>\n",
       "      <td>-9999.0</td>\n",
       "      <td>-27.606633</td>\n",
       "      <td>120.573672</td>\n",
       "    </tr>\n",
       "    <tr>\n",
       "      <th>36</th>\n",
       "      <td>868288</td>\n",
       "      <td>AMD350</td>\n",
       "      <td>DD</td>\n",
       "      <td>360</td>\n",
       "      <td>-90</td>\n",
       "      <td>374.8</td>\n",
       "      <td>79089</td>\n",
       "      <td>18041566</td>\n",
       "      <td>CD013428</td>\n",
       "      <td>211.0</td>\n",
       "      <td>...</td>\n",
       "      <td>-9999.0</td>\n",
       "      <td>-9999.0</td>\n",
       "      <td>-9999.0</td>\n",
       "      <td>-9999.0</td>\n",
       "      <td>50.0</td>\n",
       "      <td>-9999.0</td>\n",
       "      <td>-5.0</td>\n",
       "      <td>-9999.0</td>\n",
       "      <td>-27.606633</td>\n",
       "      <td>120.573672</td>\n",
       "    </tr>\n",
       "    <tr>\n",
       "      <th>54</th>\n",
       "      <td>868287</td>\n",
       "      <td>AMD349</td>\n",
       "      <td>DD</td>\n",
       "      <td>360</td>\n",
       "      <td>-90</td>\n",
       "      <td>349.3</td>\n",
       "      <td>79089</td>\n",
       "      <td>18041158</td>\n",
       "      <td>1158442</td>\n",
       "      <td>217.0</td>\n",
       "      <td>...</td>\n",
       "      <td>-9999.0</td>\n",
       "      <td>-9999.0</td>\n",
       "      <td>-9999.0</td>\n",
       "      <td>-9999.0</td>\n",
       "      <td>82.0</td>\n",
       "      <td>-9999.0</td>\n",
       "      <td>12.0</td>\n",
       "      <td>-9999.0</td>\n",
       "      <td>-27.606633</td>\n",
       "      <td>120.573672</td>\n",
       "    </tr>\n",
       "    <tr>\n",
       "      <th>72</th>\n",
       "      <td>868286</td>\n",
       "      <td>AMD348</td>\n",
       "      <td>DD</td>\n",
       "      <td>360</td>\n",
       "      <td>-90</td>\n",
       "      <td>377.9</td>\n",
       "      <td>79089</td>\n",
       "      <td>18040407</td>\n",
       "      <td>1156228</td>\n",
       "      <td>92.0</td>\n",
       "      <td>...</td>\n",
       "      <td>-9999.0</td>\n",
       "      <td>-9999.0</td>\n",
       "      <td>-9999.0</td>\n",
       "      <td>-9999.0</td>\n",
       "      <td>50.0</td>\n",
       "      <td>-9999.0</td>\n",
       "      <td>-5.0</td>\n",
       "      <td>-9999.0</td>\n",
       "      <td>-27.606633</td>\n",
       "      <td>120.573672</td>\n",
       "    </tr>\n",
       "  </tbody>\n",
       "</table>\n",
       "<p>5 rows × 171 columns</p>\n",
       "</div>"
      ],
      "text/plain": [
       "    CollarId CompanyHoleId HoleType  Azimuth  Dip  MaxDepth  Anumber  \\\n",
       "0     868290        AMD352       DD      360  -90     338.6    79089   \n",
       "18    868286        AMD348       DD      360  -90     377.9    79089   \n",
       "36    868288        AMD350       DD      360  -90     374.8    79089   \n",
       "54    868287        AMD349       DD      360  -90     349.3    79089   \n",
       "72    868286        AMD348       DD      360  -90     377.9    79089   \n",
       "\n",
       "    SampleId CompanySampleId  FromDepth  ...   Y_PPM  Y2O3_PPM  Yb_PPM  \\\n",
       "0   18042279        CD011299       86.0  ... -9999.0   -9999.0 -9999.0   \n",
       "18  18040715         1156461      287.0  ... -9999.0   -9999.0 -9999.0   \n",
       "36  18041566        CD013428      211.0  ... -9999.0   -9999.0 -9999.0   \n",
       "54  18041158         1158442      217.0  ... -9999.0   -9999.0 -9999.0   \n",
       "72  18040407         1156228       92.0  ... -9999.0   -9999.0 -9999.0   \n",
       "\n",
       "    Yb2O3_PPM  Zn_PPM  ZnO_PPM  Zr_PPM  ZrO2_PPM  wamex_lat   wamex_lon  \n",
       "0     -9999.0    82.0  -9999.0     8.0   -9999.0 -27.606633  120.573672  \n",
       "18    -9999.0 -9999.0  -9999.0     7.0   -9999.0 -27.606633  120.573672  \n",
       "36    -9999.0    50.0  -9999.0    -5.0   -9999.0 -27.606633  120.573672  \n",
       "54    -9999.0    82.0  -9999.0    12.0   -9999.0 -27.606633  120.573672  \n",
       "72    -9999.0    50.0  -9999.0    -5.0   -9999.0 -27.606633  120.573672  \n",
       "\n",
       "[5 rows x 171 columns]"
      ]
     },
     "execution_count": 8,
     "metadata": {},
     "output_type": "execute_result"
    }
   ],
   "source": [
    "df_Co = df_Co.drop_duplicates()\n",
    "df_Co.head()"
   ]
  },
  {
   "cell_type": "code",
   "execution_count": 9,
   "metadata": {},
   "outputs": [
    {
     "data": {
      "text/plain": [
       "(80815, 171)"
      ]
     },
     "execution_count": 9,
     "metadata": {},
     "output_type": "execute_result"
    }
   ],
   "source": [
    "df_Co.shape"
   ]
  },
  {
   "cell_type": "code",
   "execution_count": 10,
   "metadata": {},
   "outputs": [
    {
     "data": {
      "text/plain": [
       "2775"
      ]
     },
     "execution_count": 10,
     "metadata": {},
     "output_type": "execute_result"
    }
   ],
   "source": [
    "df_Co.isna().sum().sum()"
   ]
  },
  {
   "cell_type": "code",
   "execution_count": 11,
   "metadata": {},
   "outputs": [],
   "source": [
    "#change NAs to 0\n",
    "df_Co = df_Co.fillna(0)"
   ]
  },
  {
   "cell_type": "code",
   "execution_count": 12,
   "metadata": {},
   "outputs": [],
   "source": [
    "#only keep ppm columns\n",
    "df_Co_ppm = df_Co.filter(like='PPM')"
   ]
  },
  {
   "cell_type": "code",
   "execution_count": 13,
   "metadata": {},
   "outputs": [],
   "source": [
    "#also keep coordonates\n",
    "df_Co_ppm['wamex_lon'] = df_Co['wamex_lon']\n",
    "df_Co_ppm['wamex_lat'] = df_Co['wamex_lat']"
   ]
  },
  {
   "cell_type": "code",
   "execution_count": 14,
   "metadata": {},
   "outputs": [
    {
     "data": {
      "text/plain": [
       "(80815, 160)"
      ]
     },
     "execution_count": 14,
     "metadata": {},
     "output_type": "execute_result"
    }
   ],
   "source": [
    "df_minerals = df_Co_ppm.drop(columns=['wamex_lat', 'wamex_lon'])\n",
    "\n",
    "df_Co_ppm.loc[:, df_minerals.columns] = clean_assays(df_Co_ppm.loc[:,df_minerals.columns])\n",
    "df_Co_ppm.shape"
   ]
  },
  {
   "cell_type": "code",
   "execution_count": 15,
   "metadata": {},
   "outputs": [
    {
     "data": {
      "text/plain": [
       "(80587, 160)"
      ]
     },
     "execution_count": 15,
     "metadata": {},
     "output_type": "execute_result"
    }
   ],
   "source": [
    "df_Co_ppm = df_Co_ppm.drop_duplicates()\n",
    "df_Co_ppm.shape"
   ]
  },
  {
   "cell_type": "code",
   "execution_count": 16,
   "metadata": {},
   "outputs": [
    {
     "data": {
      "text/plain": [
       "(420, 160)"
      ]
     },
     "execution_count": 16,
     "metadata": {},
     "output_type": "execute_result"
    }
   ],
   "source": [
    "df_Co_ppm[df_Co_ppm['Ni_PPM'] > 300000].shape"
   ]
  },
  {
   "cell_type": "code",
   "execution_count": 17,
   "metadata": {},
   "outputs": [],
   "source": [
    "df_Co_ppm = df_Co_ppm[df_Co_ppm['Ni_PPM'] < 300000]"
   ]
  },
  {
   "cell_type": "code",
   "execution_count": 18,
   "metadata": {},
   "outputs": [
    {
     "data": {
      "text/plain": [
       "<AxesSubplot:>"
      ]
     },
     "execution_count": 18,
     "metadata": {},
     "output_type": "execute_result"
    },
    {
     "data": {
      "image/png": "[encoded data removed]",
      "text/plain": [
       "<Figure size 432x288 with 1 Axes>"
      ]
     },
     "metadata": {
      "needs_background": "light"
     },
     "output_type": "display_data"
    }
   ],
   "source": [
    "df_Co_ppm['Co_PPM'].plot(kind='box')"
   ]
  },
  {
   "cell_type": "code",
   "execution_count": 27,
   "metadata": {},
   "outputs": [
    {
     "data": {
      "text/plain": [
       "(80166, 160)"
      ]
     },
     "execution_count": 27,
     "metadata": {},
     "output_type": "execute_result"
    }
   ],
   "source": [
    "df_Co_ppm.shape"
   ]
  },
  {
   "cell_type": "code",
   "execution_count": 19,
   "metadata": {},
   "outputs": [],
   "source": [
    "df_Co_corr = df_Co_ppm.corr()"
   ]
  },
  {
   "cell_type": "code",
   "execution_count": 20,
   "metadata": {},
   "outputs": [],
   "source": [
    "only_co = df_Co_corr['Co_PPM'].sort_values()"
   ]
  },
  {
   "cell_type": "code",
   "execution_count": 21,
   "metadata": {},
   "outputs": [
    {
     "data": {
      "text/plain": [
       "wamex_lat   -0.015339\n",
       "V_PPM       -0.011827\n",
       "Sr_PPM      -0.008000\n",
       "Ga_PPM      -0.005938\n",
       "Ba_PPM      -0.004661\n",
       "Name: Co_PPM, dtype: float64"
      ]
     },
     "execution_count": 21,
     "metadata": {},
     "output_type": "execute_result"
    }
   ],
   "source": [
    "only_co[0:5]"
   ]
  },
  {
   "cell_type": "code",
   "execution_count": 22,
   "metadata": {},
   "outputs": [
    {
     "data": {
      "text/plain": [
       "Mg_PPM      0.034541\n",
       "MgO_PPM     0.044813\n",
       "V2O5_PPM    0.072368\n",
       "Pt_PPM      0.094230\n",
       "Au_PPM      0.116734\n",
       "Pd_PPM      0.147997\n",
       "S_PPM       0.148307\n",
       "Cr_PPM      0.251589\n",
       "Cu_PPM      0.464750\n",
       "Co_PPM      1.000000\n",
       "Name: Co_PPM, dtype: float64"
      ]
     },
     "execution_count": 22,
     "metadata": {},
     "output_type": "execute_result"
    }
   ],
   "source": [
    "#the ones before that are NaNs because they are all 0 values in df_Co_ppm\n",
    "only_co[-72:-62:]"
   ]
  },
  {
   "cell_type": "code",
   "execution_count": 23,
   "metadata": {},
   "outputs": [],
   "source": [
    "only_minedex_co = df_Co_ppm[['Ni_PPM','Cu_PPM','Co_PPM', 'Pd_PPM', 'Au_PPM','Pt_PPM', 'Rh_PPM', 'Fe_PPM', 'S_PPM', 'Ag_PPM', 'wamex_lon', 'wamex_lat']].corr()"
   ]
  },
  {
   "cell_type": "code",
   "execution_count": 24,
   "metadata": {},
   "outputs": [],
   "source": [
    "only_minedex_co['dataframe'] = 'WAMEX Drillhole'"
   ]
  },
  {
   "cell_type": "code",
   "execution_count": 25,
   "metadata": {},
   "outputs": [
    {
     "data": {
      "text/html": [
       "<div>\n",
       "<style scoped>\n",
       "    .dataframe tbody tr th:only-of-type {\n",
       "        vertical-align: middle;\n",
       "    }\n",
       "\n",
       "    .dataframe tbody tr th {\n",
       "        vertical-align: top;\n",
       "    }\n",
       "\n",
       "    .dataframe thead th {\n",
       "        text-align: right;\n",
       "    }\n",
       "</style>\n",
       "<table border=\"1\" class=\"dataframe\">\n",
       "  <thead>\n",
       "    <tr style=\"text-align: right;\">\n",
       "      <th></th>\n",
       "      <th>Ni_PPM</th>\n",
       "      <th>Cu_PPM</th>\n",
       "      <th>Co_PPM</th>\n",
       "      <th>Pd_PPM</th>\n",
       "      <th>Au_PPM</th>\n",
       "      <th>Pt_PPM</th>\n",
       "      <th>Rh_PPM</th>\n",
       "      <th>Fe_PPM</th>\n",
       "      <th>S_PPM</th>\n",
       "      <th>Ag_PPM</th>\n",
       "      <th>wamex_lon</th>\n",
       "      <th>wamex_lat</th>\n",
       "      <th>dataframe</th>\n",
       "    </tr>\n",
       "  </thead>\n",
       "  <tbody>\n",
       "    <tr>\n",
       "      <th>Ni_PPM</th>\n",
       "      <td>1.000000</td>\n",
       "      <td>0.006320</td>\n",
       "      <td>0.004832</td>\n",
       "      <td>0.010354</td>\n",
       "      <td>-0.004400</td>\n",
       "      <td>0.081258</td>\n",
       "      <td>0.082897</td>\n",
       "      <td>-0.019564</td>\n",
       "      <td>0.043968</td>\n",
       "      <td>-0.021845</td>\n",
       "      <td>0.019488</td>\n",
       "      <td>-0.063787</td>\n",
       "      <td>WAMEX Drillhole</td>\n",
       "    </tr>\n",
       "    <tr>\n",
       "      <th>Cu_PPM</th>\n",
       "      <td>0.006320</td>\n",
       "      <td>1.000000</td>\n",
       "      <td>0.464750</td>\n",
       "      <td>0.016004</td>\n",
       "      <td>0.012569</td>\n",
       "      <td>0.010054</td>\n",
       "      <td>0.000736</td>\n",
       "      <td>-0.001786</td>\n",
       "      <td>0.261783</td>\n",
       "      <td>-0.001799</td>\n",
       "      <td>0.006592</td>\n",
       "      <td>-0.009947</td>\n",
       "      <td>WAMEX Drillhole</td>\n",
       "    </tr>\n",
       "    <tr>\n",
       "      <th>Co_PPM</th>\n",
       "      <td>0.004832</td>\n",
       "      <td>0.464750</td>\n",
       "      <td>1.000000</td>\n",
       "      <td>0.147997</td>\n",
       "      <td>0.116734</td>\n",
       "      <td>0.094230</td>\n",
       "      <td>0.000589</td>\n",
       "      <td>-0.002482</td>\n",
       "      <td>0.148307</td>\n",
       "      <td>-0.002558</td>\n",
       "      <td>0.004941</td>\n",
       "      <td>-0.015339</td>\n",
       "      <td>WAMEX Drillhole</td>\n",
       "    </tr>\n",
       "    <tr>\n",
       "      <th>Pd_PPM</th>\n",
       "      <td>0.010354</td>\n",
       "      <td>0.016004</td>\n",
       "      <td>0.147997</td>\n",
       "      <td>1.000000</td>\n",
       "      <td>0.753641</td>\n",
       "      <td>0.601264</td>\n",
       "      <td>-0.000071</td>\n",
       "      <td>-0.001076</td>\n",
       "      <td>0.107243</td>\n",
       "      <td>-0.001017</td>\n",
       "      <td>-0.002876</td>\n",
       "      <td>0.004007</td>\n",
       "      <td>WAMEX Drillhole</td>\n",
       "    </tr>\n",
       "    <tr>\n",
       "      <th>Au_PPM</th>\n",
       "      <td>-0.004400</td>\n",
       "      <td>0.012569</td>\n",
       "      <td>0.116734</td>\n",
       "      <td>0.753641</td>\n",
       "      <td>1.000000</td>\n",
       "      <td>0.481572</td>\n",
       "      <td>-0.000135</td>\n",
       "      <td>-0.000723</td>\n",
       "      <td>-0.000302</td>\n",
       "      <td>0.015440</td>\n",
       "      <td>-0.010671</td>\n",
       "      <td>0.009242</td>\n",
       "      <td>WAMEX Drillhole</td>\n",
       "    </tr>\n",
       "    <tr>\n",
       "      <th>Pt_PPM</th>\n",
       "      <td>0.081258</td>\n",
       "      <td>0.010054</td>\n",
       "      <td>0.094230</td>\n",
       "      <td>0.601264</td>\n",
       "      <td>0.481572</td>\n",
       "      <td>1.000000</td>\n",
       "      <td>-0.000292</td>\n",
       "      <td>-0.001303</td>\n",
       "      <td>0.000834</td>\n",
       "      <td>-0.001229</td>\n",
       "      <td>0.026731</td>\n",
       "      <td>0.012835</td>\n",
       "      <td>WAMEX Drillhole</td>\n",
       "    </tr>\n",
       "    <tr>\n",
       "      <th>Rh_PPM</th>\n",
       "      <td>0.082897</td>\n",
       "      <td>0.000736</td>\n",
       "      <td>0.000589</td>\n",
       "      <td>-0.000071</td>\n",
       "      <td>-0.000135</td>\n",
       "      <td>-0.000292</td>\n",
       "      <td>1.000000</td>\n",
       "      <td>-0.001697</td>\n",
       "      <td>-0.000228</td>\n",
       "      <td>-0.001692</td>\n",
       "      <td>0.004234</td>\n",
       "      <td>0.012161</td>\n",
       "      <td>WAMEX Drillhole</td>\n",
       "    </tr>\n",
       "    <tr>\n",
       "      <th>Fe_PPM</th>\n",
       "      <td>-0.019564</td>\n",
       "      <td>-0.001786</td>\n",
       "      <td>-0.002482</td>\n",
       "      <td>-0.001076</td>\n",
       "      <td>-0.000723</td>\n",
       "      <td>-0.001303</td>\n",
       "      <td>-0.001697</td>\n",
       "      <td>1.000000</td>\n",
       "      <td>-0.001392</td>\n",
       "      <td>-0.004942</td>\n",
       "      <td>0.018098</td>\n",
       "      <td>-0.061721</td>\n",
       "      <td>WAMEX Drillhole</td>\n",
       "    </tr>\n",
       "    <tr>\n",
       "      <th>S_PPM</th>\n",
       "      <td>0.043968</td>\n",
       "      <td>0.261783</td>\n",
       "      <td>0.148307</td>\n",
       "      <td>0.107243</td>\n",
       "      <td>-0.000302</td>\n",
       "      <td>0.000834</td>\n",
       "      <td>-0.000228</td>\n",
       "      <td>-0.001392</td>\n",
       "      <td>1.000000</td>\n",
       "      <td>-0.001397</td>\n",
       "      <td>0.011971</td>\n",
       "      <td>0.001717</td>\n",
       "      <td>WAMEX Drillhole</td>\n",
       "    </tr>\n",
       "    <tr>\n",
       "      <th>Ag_PPM</th>\n",
       "      <td>-0.021845</td>\n",
       "      <td>-0.001799</td>\n",
       "      <td>-0.002558</td>\n",
       "      <td>-0.001017</td>\n",
       "      <td>0.015440</td>\n",
       "      <td>-0.001229</td>\n",
       "      <td>-0.001692</td>\n",
       "      <td>-0.004942</td>\n",
       "      <td>-0.001397</td>\n",
       "      <td>1.000000</td>\n",
       "      <td>0.009823</td>\n",
       "      <td>-0.062897</td>\n",
       "      <td>WAMEX Drillhole</td>\n",
       "    </tr>\n",
       "    <tr>\n",
       "      <th>wamex_lon</th>\n",
       "      <td>0.019488</td>\n",
       "      <td>0.006592</td>\n",
       "      <td>0.004941</td>\n",
       "      <td>-0.002876</td>\n",
       "      <td>-0.010671</td>\n",
       "      <td>0.026731</td>\n",
       "      <td>0.004234</td>\n",
       "      <td>0.018098</td>\n",
       "      <td>0.011971</td>\n",
       "      <td>0.009823</td>\n",
       "      <td>1.000000</td>\n",
       "      <td>0.113269</td>\n",
       "      <td>WAMEX Drillhole</td>\n",
       "    </tr>\n",
       "    <tr>\n",
       "      <th>wamex_lat</th>\n",
       "      <td>-0.063787</td>\n",
       "      <td>-0.009947</td>\n",
       "      <td>-0.015339</td>\n",
       "      <td>0.004007</td>\n",
       "      <td>0.009242</td>\n",
       "      <td>0.012835</td>\n",
       "      <td>0.012161</td>\n",
       "      <td>-0.061721</td>\n",
       "      <td>0.001717</td>\n",
       "      <td>-0.062897</td>\n",
       "      <td>0.113269</td>\n",
       "      <td>1.000000</td>\n",
       "      <td>WAMEX Drillhole</td>\n",
       "    </tr>\n",
       "  </tbody>\n",
       "</table>\n",
       "</div>"
      ],
      "text/plain": [
       "             Ni_PPM    Cu_PPM    Co_PPM    Pd_PPM    Au_PPM    Pt_PPM  \\\n",
       "Ni_PPM     1.000000  0.006320  0.004832  0.010354 -0.004400  0.081258   \n",
       "Cu_PPM     0.006320  1.000000  0.464750  0.016004  0.012569  0.010054   \n",
       "Co_PPM     0.004832  0.464750  1.000000  0.147997  0.116734  0.094230   \n",
       "Pd_PPM     0.010354  0.016004  0.147997  1.000000  0.753641  0.601264   \n",
       "Au_PPM    -0.004400  0.012569  0.116734  0.753641  1.000000  0.481572   \n",
       "Pt_PPM     0.081258  0.010054  0.094230  0.601264  0.481572  1.000000   \n",
       "Rh_PPM     0.082897  0.000736  0.000589 -0.000071 -0.000135 -0.000292   \n",
       "Fe_PPM    -0.019564 -0.001786 -0.002482 -0.001076 -0.000723 -0.001303   \n",
       "S_PPM      0.043968  0.261783  0.148307  0.107243 -0.000302  0.000834   \n",
       "Ag_PPM    -0.021845 -0.001799 -0.002558 -0.001017  0.015440 -0.001229   \n",
       "wamex_lon  0.019488  0.006592  0.004941 -0.002876 -0.010671  0.026731   \n",
       "wamex_lat -0.063787 -0.009947 -0.015339  0.004007  0.009242  0.012835   \n",
       "\n",
       "             Rh_PPM    Fe_PPM     S_PPM    Ag_PPM  wamex_lon  wamex_lat  \\\n",
       "Ni_PPM     0.082897 -0.019564  0.043968 -0.021845   0.019488  -0.063787   \n",
       "Cu_PPM     0.000736 -0.001786  0.261783 -0.001799   0.006592  -0.009947   \n",
       "Co_PPM     0.000589 -0.002482  0.148307 -0.002558   0.004941  -0.015339   \n",
       "Pd_PPM    -0.000071 -0.001076  0.107243 -0.001017  -0.002876   0.004007   \n",
       "Au_PPM    -0.000135 -0.000723 -0.000302  0.015440  -0.010671   0.009242   \n",
       "Pt_PPM    -0.000292 -0.001303  0.000834 -0.001229   0.026731   0.012835   \n",
       "Rh_PPM     1.000000 -0.001697 -0.000228 -0.001692   0.004234   0.012161   \n",
       "Fe_PPM    -0.001697  1.000000 -0.001392 -0.004942   0.018098  -0.061721   \n",
       "S_PPM     -0.000228 -0.001392  1.000000 -0.001397   0.011971   0.001717   \n",
       "Ag_PPM    -0.001692 -0.004942 -0.001397  1.000000   0.009823  -0.062897   \n",
       "wamex_lon  0.004234  0.018098  0.011971  0.009823   1.000000   0.113269   \n",
       "wamex_lat  0.012161 -0.061721  0.001717 -0.062897   0.113269   1.000000   \n",
       "\n",
       "                 dataframe  \n",
       "Ni_PPM     WAMEX Drillhole  \n",
       "Cu_PPM     WAMEX Drillhole  \n",
       "Co_PPM     WAMEX Drillhole  \n",
       "Pd_PPM     WAMEX Drillhole  \n",
       "Au_PPM     WAMEX Drillhole  \n",
       "Pt_PPM     WAMEX Drillhole  \n",
       "Rh_PPM     WAMEX Drillhole  \n",
       "Fe_PPM     WAMEX Drillhole  \n",
       "S_PPM      WAMEX Drillhole  \n",
       "Ag_PPM     WAMEX Drillhole  \n",
       "wamex_lon  WAMEX Drillhole  \n",
       "wamex_lat  WAMEX Drillhole  "
      ]
     },
     "execution_count": 25,
     "metadata": {},
     "output_type": "execute_result"
    }
   ],
   "source": [
    "only_minedex_co"
   ]
  },
  {
   "cell_type": "code",
   "execution_count": 26,
   "metadata": {},
   "outputs": [],
   "source": [
    "only_minedex_co.to_csv('Co_correlations_Drillhole_15km.csv')"
   ]
  },
  {
   "cell_type": "markdown",
   "metadata": {},
   "source": [
    "## Indium/germanium"
   ]
  },
  {
   "cell_type": "code",
   "execution_count": 55,
   "metadata": {},
   "outputs": [
    {
     "data": {
      "text/html": [
       "<div>\n",
       "<style scoped>\n",
       "    .dataframe tbody tr th:only-of-type {\n",
       "        vertical-align: middle;\n",
       "    }\n",
       "\n",
       "    .dataframe tbody tr th {\n",
       "        vertical-align: top;\n",
       "    }\n",
       "\n",
       "    .dataframe thead th {\n",
       "        text-align: right;\n",
       "    }\n",
       "</style>\n",
       "<table border=\"1\" class=\"dataframe\">\n",
       "  <thead>\n",
       "    <tr style=\"text-align: right;\">\n",
       "      <th></th>\n",
       "      <th>CollarId</th>\n",
       "      <th>CompanyHoleId</th>\n",
       "      <th>HoleType</th>\n",
       "      <th>Azimuth</th>\n",
       "      <th>Dip</th>\n",
       "      <th>MaxDepth</th>\n",
       "      <th>Anumber</th>\n",
       "      <th>SampleId</th>\n",
       "      <th>CompanySampleId</th>\n",
       "      <th>FromDepth</th>\n",
       "      <th>...</th>\n",
       "      <th>Y_PPM</th>\n",
       "      <th>Y2O3_PPM</th>\n",
       "      <th>Yb_PPM</th>\n",
       "      <th>Yb2O3_PPM</th>\n",
       "      <th>Zn_PPM</th>\n",
       "      <th>ZnO_PPM</th>\n",
       "      <th>Zr_PPM</th>\n",
       "      <th>ZrO2_PPM</th>\n",
       "      <th>wamex_lat</th>\n",
       "      <th>wamex_lon</th>\n",
       "    </tr>\n",
       "  </thead>\n",
       "  <tbody>\n",
       "    <tr>\n",
       "      <th>0</th>\n",
       "      <td>1569256</td>\n",
       "      <td>DED021</td>\n",
       "      <td>DD</td>\n",
       "      <td>360</td>\n",
       "      <td>-90</td>\n",
       "      <td>420.7</td>\n",
       "      <td>86949</td>\n",
       "      <td>36316448</td>\n",
       "      <td>2101007</td>\n",
       "      <td>335.17</td>\n",
       "      <td>...</td>\n",
       "      <td>8.1</td>\n",
       "      <td>-9999.0</td>\n",
       "      <td>-9999.0</td>\n",
       "      <td>-9999.0</td>\n",
       "      <td>782.0</td>\n",
       "      <td>-9999.0</td>\n",
       "      <td>78.1</td>\n",
       "      <td>-9999.0</td>\n",
       "      <td>-28.401474</td>\n",
       "      <td>120.859059</td>\n",
       "    </tr>\n",
       "    <tr>\n",
       "      <th>4</th>\n",
       "      <td>1569256</td>\n",
       "      <td>DED021</td>\n",
       "      <td>DD</td>\n",
       "      <td>360</td>\n",
       "      <td>-90</td>\n",
       "      <td>420.7</td>\n",
       "      <td>86949</td>\n",
       "      <td>36316437</td>\n",
       "      <td>2100995</td>\n",
       "      <td>325.00</td>\n",
       "      <td>...</td>\n",
       "      <td>10.8</td>\n",
       "      <td>-9999.0</td>\n",
       "      <td>-9999.0</td>\n",
       "      <td>-9999.0</td>\n",
       "      <td>114.0</td>\n",
       "      <td>-9999.0</td>\n",
       "      <td>20.2</td>\n",
       "      <td>-9999.0</td>\n",
       "      <td>-28.401474</td>\n",
       "      <td>120.859059</td>\n",
       "    </tr>\n",
       "    <tr>\n",
       "      <th>8</th>\n",
       "      <td>1569256</td>\n",
       "      <td>DED021</td>\n",
       "      <td>DD</td>\n",
       "      <td>360</td>\n",
       "      <td>-90</td>\n",
       "      <td>420.7</td>\n",
       "      <td>86949</td>\n",
       "      <td>36316353</td>\n",
       "      <td>2100905</td>\n",
       "      <td>195.00</td>\n",
       "      <td>...</td>\n",
       "      <td>19.7</td>\n",
       "      <td>-9999.0</td>\n",
       "      <td>-9999.0</td>\n",
       "      <td>-9999.0</td>\n",
       "      <td>81.0</td>\n",
       "      <td>-9999.0</td>\n",
       "      <td>39.1</td>\n",
       "      <td>-9999.0</td>\n",
       "      <td>-28.401474</td>\n",
       "      <td>120.859059</td>\n",
       "    </tr>\n",
       "    <tr>\n",
       "      <th>12</th>\n",
       "      <td>1569256</td>\n",
       "      <td>DED021</td>\n",
       "      <td>DD</td>\n",
       "      <td>360</td>\n",
       "      <td>-90</td>\n",
       "      <td>420.7</td>\n",
       "      <td>86949</td>\n",
       "      <td>36316350</td>\n",
       "      <td>2100902</td>\n",
       "      <td>192.00</td>\n",
       "      <td>...</td>\n",
       "      <td>16.7</td>\n",
       "      <td>-9999.0</td>\n",
       "      <td>-9999.0</td>\n",
       "      <td>-9999.0</td>\n",
       "      <td>81.0</td>\n",
       "      <td>-9999.0</td>\n",
       "      <td>34.0</td>\n",
       "      <td>-9999.0</td>\n",
       "      <td>-28.401474</td>\n",
       "      <td>120.859059</td>\n",
       "    </tr>\n",
       "    <tr>\n",
       "      <th>16</th>\n",
       "      <td>1569256</td>\n",
       "      <td>DED021</td>\n",
       "      <td>DD</td>\n",
       "      <td>360</td>\n",
       "      <td>-90</td>\n",
       "      <td>420.7</td>\n",
       "      <td>86949</td>\n",
       "      <td>36316358</td>\n",
       "      <td>2100911</td>\n",
       "      <td>200.00</td>\n",
       "      <td>...</td>\n",
       "      <td>17.5</td>\n",
       "      <td>-9999.0</td>\n",
       "      <td>-9999.0</td>\n",
       "      <td>-9999.0</td>\n",
       "      <td>76.0</td>\n",
       "      <td>-9999.0</td>\n",
       "      <td>34.4</td>\n",
       "      <td>-9999.0</td>\n",
       "      <td>-28.401474</td>\n",
       "      <td>120.859059</td>\n",
       "    </tr>\n",
       "  </tbody>\n",
       "</table>\n",
       "<p>5 rows × 171 columns</p>\n",
       "</div>"
      ],
      "text/plain": [
       "    CollarId CompanyHoleId HoleType  Azimuth  Dip  MaxDepth  Anumber  \\\n",
       "0    1569256        DED021       DD      360  -90     420.7    86949   \n",
       "4    1569256        DED021       DD      360  -90     420.7    86949   \n",
       "8    1569256        DED021       DD      360  -90     420.7    86949   \n",
       "12   1569256        DED021       DD      360  -90     420.7    86949   \n",
       "16   1569256        DED021       DD      360  -90     420.7    86949   \n",
       "\n",
       "    SampleId CompanySampleId  FromDepth  ...  Y_PPM  Y2O3_PPM  Yb_PPM  \\\n",
       "0   36316448         2101007     335.17  ...    8.1   -9999.0 -9999.0   \n",
       "4   36316437         2100995     325.00  ...   10.8   -9999.0 -9999.0   \n",
       "8   36316353         2100905     195.00  ...   19.7   -9999.0 -9999.0   \n",
       "12  36316350         2100902     192.00  ...   16.7   -9999.0 -9999.0   \n",
       "16  36316358         2100911     200.00  ...   17.5   -9999.0 -9999.0   \n",
       "\n",
       "    Yb2O3_PPM  Zn_PPM  ZnO_PPM  Zr_PPM  ZrO2_PPM  wamex_lat   wamex_lon  \n",
       "0     -9999.0   782.0  -9999.0    78.1   -9999.0 -28.401474  120.859059  \n",
       "4     -9999.0   114.0  -9999.0    20.2   -9999.0 -28.401474  120.859059  \n",
       "8     -9999.0    81.0  -9999.0    39.1   -9999.0 -28.401474  120.859059  \n",
       "12    -9999.0    81.0  -9999.0    34.0   -9999.0 -28.401474  120.859059  \n",
       "16    -9999.0    76.0  -9999.0    34.4   -9999.0 -28.401474  120.859059  \n",
       "\n",
       "[5 rows x 171 columns]"
      ]
     },
     "execution_count": 55,
     "metadata": {},
     "output_type": "execute_result"
    }
   ],
   "source": [
    "Merged_Zn_Drillhole_lessthan15km = pd.read_csv('Merged_Zn_Drillhole_lessthan15km.csv')\n",
    "\n",
    "#remove duplicates\n",
    "df_Ge_In = Merged_Zn_Drillhole_lessthan15km.drop(columns=['Unnamed: 0', 'Unnamed: 0_x', 'Unnamed: 0_y', 'Latitude', 'Longitude', \n",
    "                     'minedex_coords', 'minedex_site',\n",
    "                    'distance'])\n",
    "\n",
    "df_Ge_In = df_Ge_In.drop_duplicates()\n",
    "df_Ge_In.head()"
   ]
  },
  {
   "cell_type": "code",
   "execution_count": 56,
   "metadata": {},
   "outputs": [
    {
     "data": {
      "text/plain": [
       "(3845, 171)"
      ]
     },
     "execution_count": 56,
     "metadata": {},
     "output_type": "execute_result"
    }
   ],
   "source": [
    "df_Ge_In.shape"
   ]
  },
  {
   "cell_type": "code",
   "execution_count": 57,
   "metadata": {},
   "outputs": [
    {
     "data": {
      "text/plain": [
       "33"
      ]
     },
     "execution_count": 57,
     "metadata": {},
     "output_type": "execute_result"
    }
   ],
   "source": [
    "df_Ge_In.isna().sum().sum()"
   ]
  },
  {
   "cell_type": "code",
   "execution_count": 58,
   "metadata": {},
   "outputs": [],
   "source": [
    "#change NAs to 0\n",
    "df_Ge_In = df_Ge_In.fillna(0)"
   ]
  },
  {
   "cell_type": "code",
   "execution_count": 59,
   "metadata": {},
   "outputs": [],
   "source": [
    "#only keep ppm columns\n",
    "df_Ge_In_ppm = df_Ge_In.filter(like='PPM')"
   ]
  },
  {
   "cell_type": "code",
   "execution_count": 60,
   "metadata": {},
   "outputs": [],
   "source": [
    "#also keep coordonates\n",
    "df_Ge_In_ppm['wamex_lon'] = df_Ge_In['wamex_lon']\n",
    "df_Ge_In_ppm['wamex_lat'] = df_Ge_In['wamex_lat']"
   ]
  },
  {
   "cell_type": "code",
   "execution_count": 61,
   "metadata": {},
   "outputs": [
    {
     "data": {
      "text/plain": [
       "(3845, 160)"
      ]
     },
     "execution_count": 61,
     "metadata": {},
     "output_type": "execute_result"
    }
   ],
   "source": [
    "df_minerals = df_Ge_In_ppm.drop(columns=['wamex_lat', 'wamex_lon'])\n",
    "\n",
    "df_Ge_In_ppm.loc[:, df_minerals.columns] = clean_assays(df_Ge_In_ppm.loc[:,df_minerals.columns])\n",
    "df_Ge_In_ppm.shape"
   ]
  },
  {
   "cell_type": "code",
   "execution_count": 62,
   "metadata": {},
   "outputs": [
    {
     "data": {
      "text/plain": [
       "(3830, 160)"
      ]
     },
     "execution_count": 62,
     "metadata": {},
     "output_type": "execute_result"
    }
   ],
   "source": [
    "df_Ge_In_ppm = df_Ge_In_ppm.drop_duplicates()\n",
    "df_Ge_In_ppm.shape"
   ]
  },
  {
   "cell_type": "code",
   "execution_count": 43,
   "metadata": {},
   "outputs": [
    {
     "data": {
      "text/plain": [
       "<AxesSubplot:>"
      ]
     },
     "execution_count": 43,
     "metadata": {},
     "output_type": "execute_result"
    },
    {
     "data": {
      "image/png": "[encoded data removed]",
      "text/plain": [
       "<Figure size 432x288 with 1 Axes>"
      ]
     },
     "metadata": {
      "needs_background": "light"
     },
     "output_type": "display_data"
    }
   ],
   "source": [
    "df_Ge_In_ppm['Ge_PPM'].plot(kind='box')"
   ]
  },
  {
   "cell_type": "code",
   "execution_count": 63,
   "metadata": {},
   "outputs": [],
   "source": [
    "#remove obvious outliers\n",
    "df_Ge_In_ppm = df_Ge_In_ppm[df_Ge_In_ppm['Ge_PPM'] < 40]"
   ]
  },
  {
   "cell_type": "code",
   "execution_count": 45,
   "metadata": {},
   "outputs": [
    {
     "data": {
      "text/plain": [
       "<AxesSubplot:>"
      ]
     },
     "execution_count": 45,
     "metadata": {},
     "output_type": "execute_result"
    },
    {
     "data": {
      "image/png": "[encoded data removed]",
      "text/plain": [
       "<Figure size 432x288 with 1 Axes>"
      ]
     },
     "metadata": {
      "needs_background": "light"
     },
     "output_type": "display_data"
    }
   ],
   "source": [
    "df_Ge_In_ppm['In_PPM'].plot(kind='box')"
   ]
  },
  {
   "cell_type": "code",
   "execution_count": 64,
   "metadata": {},
   "outputs": [
    {
     "data": {
      "text/html": [
       "<div>\n",
       "<style scoped>\n",
       "    .dataframe tbody tr th:only-of-type {\n",
       "        vertical-align: middle;\n",
       "    }\n",
       "\n",
       "    .dataframe tbody tr th {\n",
       "        vertical-align: top;\n",
       "    }\n",
       "\n",
       "    .dataframe thead th {\n",
       "        text-align: right;\n",
       "    }\n",
       "</style>\n",
       "<table border=\"1\" class=\"dataframe\">\n",
       "  <thead>\n",
       "    <tr style=\"text-align: right;\">\n",
       "      <th></th>\n",
       "      <th>Ag_PPM</th>\n",
       "      <th>Al_PPM</th>\n",
       "      <th>Al2O_PPM</th>\n",
       "      <th>Al2O3_PPM</th>\n",
       "      <th>AlO_PPM</th>\n",
       "      <th>As_PPM</th>\n",
       "      <th>As2O3_PPM</th>\n",
       "      <th>AsO_PPM</th>\n",
       "      <th>Au_PPM</th>\n",
       "      <th>B_PPM</th>\n",
       "      <th>...</th>\n",
       "      <th>Y_PPM</th>\n",
       "      <th>Y2O3_PPM</th>\n",
       "      <th>Yb_PPM</th>\n",
       "      <th>Yb2O3_PPM</th>\n",
       "      <th>Zn_PPM</th>\n",
       "      <th>ZnO_PPM</th>\n",
       "      <th>Zr_PPM</th>\n",
       "      <th>ZrO2_PPM</th>\n",
       "      <th>wamex_lon</th>\n",
       "      <th>wamex_lat</th>\n",
       "    </tr>\n",
       "  </thead>\n",
       "  <tbody>\n",
       "    <tr>\n",
       "      <th>20691</th>\n",
       "      <td>0.00</td>\n",
       "      <td>422000000.0</td>\n",
       "      <td>0</td>\n",
       "      <td>0.0</td>\n",
       "      <td>0</td>\n",
       "      <td>0.0</td>\n",
       "      <td>0</td>\n",
       "      <td>0</td>\n",
       "      <td>0.0</td>\n",
       "      <td>0.0</td>\n",
       "      <td>...</td>\n",
       "      <td>0.0</td>\n",
       "      <td>0</td>\n",
       "      <td>0.0</td>\n",
       "      <td>0</td>\n",
       "      <td>0.0</td>\n",
       "      <td>0</td>\n",
       "      <td>0.0</td>\n",
       "      <td>0</td>\n",
       "      <td>121.758701</td>\n",
       "      <td>-31.270813</td>\n",
       "    </tr>\n",
       "    <tr>\n",
       "      <th>20723</th>\n",
       "      <td>0.04</td>\n",
       "      <td>806000100.0</td>\n",
       "      <td>0</td>\n",
       "      <td>0.0</td>\n",
       "      <td>0</td>\n",
       "      <td>0.4</td>\n",
       "      <td>0</td>\n",
       "      <td>0</td>\n",
       "      <td>120.0</td>\n",
       "      <td>0.0</td>\n",
       "      <td>...</td>\n",
       "      <td>0.0</td>\n",
       "      <td>0</td>\n",
       "      <td>0.0</td>\n",
       "      <td>0</td>\n",
       "      <td>0.0</td>\n",
       "      <td>0</td>\n",
       "      <td>0.0</td>\n",
       "      <td>0</td>\n",
       "      <td>121.758701</td>\n",
       "      <td>-31.270813</td>\n",
       "    </tr>\n",
       "    <tr>\n",
       "      <th>20851</th>\n",
       "      <td>0.00</td>\n",
       "      <td>695000000.0</td>\n",
       "      <td>0</td>\n",
       "      <td>0.0</td>\n",
       "      <td>0</td>\n",
       "      <td>0.0</td>\n",
       "      <td>0</td>\n",
       "      <td>0</td>\n",
       "      <td>0.0</td>\n",
       "      <td>0.0</td>\n",
       "      <td>...</td>\n",
       "      <td>0.0</td>\n",
       "      <td>0</td>\n",
       "      <td>0.0</td>\n",
       "      <td>0</td>\n",
       "      <td>0.0</td>\n",
       "      <td>0</td>\n",
       "      <td>0.0</td>\n",
       "      <td>0</td>\n",
       "      <td>121.758701</td>\n",
       "      <td>-31.270813</td>\n",
       "    </tr>\n",
       "    <tr>\n",
       "      <th>20883</th>\n",
       "      <td>0.22</td>\n",
       "      <td>0.0</td>\n",
       "      <td>0</td>\n",
       "      <td>0.0</td>\n",
       "      <td>0</td>\n",
       "      <td>0.0</td>\n",
       "      <td>0</td>\n",
       "      <td>0</td>\n",
       "      <td>0.0</td>\n",
       "      <td>0.0</td>\n",
       "      <td>...</td>\n",
       "      <td>0.0</td>\n",
       "      <td>0</td>\n",
       "      <td>0.0</td>\n",
       "      <td>0</td>\n",
       "      <td>0.0</td>\n",
       "      <td>0</td>\n",
       "      <td>0.0</td>\n",
       "      <td>0</td>\n",
       "      <td>121.758701</td>\n",
       "      <td>-31.270813</td>\n",
       "    </tr>\n",
       "    <tr>\n",
       "      <th>20915</th>\n",
       "      <td>0.00</td>\n",
       "      <td>814000000.0</td>\n",
       "      <td>0</td>\n",
       "      <td>0.0</td>\n",
       "      <td>0</td>\n",
       "      <td>0.0</td>\n",
       "      <td>0</td>\n",
       "      <td>0</td>\n",
       "      <td>380.0</td>\n",
       "      <td>0.0</td>\n",
       "      <td>...</td>\n",
       "      <td>0.0</td>\n",
       "      <td>0</td>\n",
       "      <td>0.0</td>\n",
       "      <td>0</td>\n",
       "      <td>0.0</td>\n",
       "      <td>0</td>\n",
       "      <td>0.0</td>\n",
       "      <td>0</td>\n",
       "      <td>121.758701</td>\n",
       "      <td>-31.270813</td>\n",
       "    </tr>\n",
       "    <tr>\n",
       "      <th>31260</th>\n",
       "      <td>0.00</td>\n",
       "      <td>0.0</td>\n",
       "      <td>0</td>\n",
       "      <td>0.0</td>\n",
       "      <td>0</td>\n",
       "      <td>6.3</td>\n",
       "      <td>0</td>\n",
       "      <td>0</td>\n",
       "      <td>0.0</td>\n",
       "      <td>0.0</td>\n",
       "      <td>...</td>\n",
       "      <td>0.0</td>\n",
       "      <td>0</td>\n",
       "      <td>0.0</td>\n",
       "      <td>0</td>\n",
       "      <td>0.0</td>\n",
       "      <td>0</td>\n",
       "      <td>0.0</td>\n",
       "      <td>0</td>\n",
       "      <td>121.765856</td>\n",
       "      <td>-31.377253</td>\n",
       "    </tr>\n",
       "  </tbody>\n",
       "</table>\n",
       "<p>6 rows × 160 columns</p>\n",
       "</div>"
      ],
      "text/plain": [
       "       Ag_PPM       Al_PPM  Al2O_PPM  Al2O3_PPM  AlO_PPM  As_PPM  As2O3_PPM  \\\n",
       "20691    0.00  422000000.0         0        0.0        0     0.0          0   \n",
       "20723    0.04  806000100.0         0        0.0        0     0.4          0   \n",
       "20851    0.00  695000000.0         0        0.0        0     0.0          0   \n",
       "20883    0.22          0.0         0        0.0        0     0.0          0   \n",
       "20915    0.00  814000000.0         0        0.0        0     0.0          0   \n",
       "31260    0.00          0.0         0        0.0        0     6.3          0   \n",
       "\n",
       "       AsO_PPM  Au_PPM  B_PPM  ...  Y_PPM  Y2O3_PPM  Yb_PPM  Yb2O3_PPM  \\\n",
       "20691        0     0.0    0.0  ...    0.0         0     0.0          0   \n",
       "20723        0   120.0    0.0  ...    0.0         0     0.0          0   \n",
       "20851        0     0.0    0.0  ...    0.0         0     0.0          0   \n",
       "20883        0     0.0    0.0  ...    0.0         0     0.0          0   \n",
       "20915        0   380.0    0.0  ...    0.0         0     0.0          0   \n",
       "31260        0     0.0    0.0  ...    0.0         0     0.0          0   \n",
       "\n",
       "       Zn_PPM  ZnO_PPM  Zr_PPM  ZrO2_PPM   wamex_lon  wamex_lat  \n",
       "20691     0.0        0     0.0         0  121.758701 -31.270813  \n",
       "20723     0.0        0     0.0         0  121.758701 -31.270813  \n",
       "20851     0.0        0     0.0         0  121.758701 -31.270813  \n",
       "20883     0.0        0     0.0         0  121.758701 -31.270813  \n",
       "20915     0.0        0     0.0         0  121.758701 -31.270813  \n",
       "31260     0.0        0     0.0         0  121.765856 -31.377253  \n",
       "\n",
       "[6 rows x 160 columns]"
      ]
     },
     "execution_count": 64,
     "metadata": {},
     "output_type": "execute_result"
    }
   ],
   "source": [
    "df_Ge_In_ppm[df_Ge_In_ppm['In_PPM'] > 200]"
   ]
  },
  {
   "cell_type": "code",
   "execution_count": 65,
   "metadata": {},
   "outputs": [
    {
     "data": {
      "text/plain": [
       "count    3828.000000\n",
       "mean        1.833518\n",
       "std        45.985403\n",
       "min         0.003000\n",
       "25%         0.024000\n",
       "50%         0.046000\n",
       "75%         0.071000\n",
       "max      1370.000000\n",
       "Name: In_PPM, dtype: float64"
      ]
     },
     "execution_count": 65,
     "metadata": {},
     "output_type": "execute_result"
    }
   ],
   "source": [
    "df_Ge_In_ppm['In_PPM'].describe()"
   ]
  },
  {
   "cell_type": "code",
   "execution_count": 66,
   "metadata": {},
   "outputs": [],
   "source": [
    "df_Ge_In_ppm = df_Ge_In_ppm[df_Ge_In_ppm['In_PPM'] < 200]"
   ]
  },
  {
   "cell_type": "code",
   "execution_count": 67,
   "metadata": {},
   "outputs": [
    {
     "data": {
      "text/plain": [
       "(3822, 160)"
      ]
     },
     "execution_count": 67,
     "metadata": {},
     "output_type": "execute_result"
    }
   ],
   "source": [
    "df_Ge_In_ppm.shape"
   ]
  },
  {
   "cell_type": "code",
   "execution_count": 68,
   "metadata": {},
   "outputs": [],
   "source": [
    "df_corr = df_Ge_In_ppm.corr()"
   ]
  },
  {
   "cell_type": "code",
   "execution_count": 69,
   "metadata": {},
   "outputs": [],
   "source": [
    "only_ge = df_corr['Ge_PPM'].sort_values()\n",
    "only_in = df_corr['In_PPM'].sort_values()"
   ]
  },
  {
   "cell_type": "code",
   "execution_count": 70,
   "metadata": {},
   "outputs": [
    {
     "data": {
      "text/plain": [
       "Mn_PPM      -0.143478\n",
       "Cr_PPM      -0.119106\n",
       "Ni_PPM      -0.103505\n",
       "V_PPM       -0.093641\n",
       "wamex_lon   -0.082443\n",
       "Name: Ge_PPM, dtype: float64"
      ]
     },
     "execution_count": 70,
     "metadata": {},
     "output_type": "execute_result"
    }
   ],
   "source": [
    "only_ge[0:5]"
   ]
  },
  {
   "cell_type": "code",
   "execution_count": 81,
   "metadata": {},
   "outputs": [
    {
     "data": {
      "text/plain": [
       "Cd_PPM       0.145788\n",
       "Al2O3_PPM    0.146047\n",
       "K2O_PPM      0.149025\n",
       "SiO2_PPM     0.156376\n",
       "Hf_PPM       0.159505\n",
       "Nb_PPM       0.178030\n",
       "Au_PPM       0.180925\n",
       "Ga_PPM       0.181298\n",
       "Zr_PPM       0.184462\n",
       "Se_PPM       0.214694\n",
       "Sm_PPM       0.217789\n",
       "In_PPM       0.223771\n",
       "Cs_PPM       0.272683\n",
       "Li_PPM       0.279465\n",
       "Rb_PPM       0.285952\n",
       "Sn_PPM       0.322943\n",
       "Tm_PPM       0.351192\n",
       "Er_PPM       0.361449\n",
       "Tb_PPM       0.373245\n",
       "Eu_PPM       0.453271\n",
       "Lu_PPM       0.472754\n",
       "Ta_PPM       0.496700\n",
       "Be_PPM       0.519397\n",
       "Yb_PPM       0.541982\n",
       "Gd_PPM       0.551100\n",
       "Ho_PPM       0.576837\n",
       "W_PPM        0.577693\n",
       "Dy_PPM       0.623870\n",
       "Mo_PPM       0.634252\n",
       "Ge_PPM       1.000000\n",
       "Name: Ge_PPM, dtype: float64"
      ]
     },
     "execution_count": 81,
     "metadata": {},
     "output_type": "execute_result"
    }
   ],
   "source": [
    "only_ge[-100:-70]"
   ]
  },
  {
   "cell_type": "code",
   "execution_count": 79,
   "metadata": {},
   "outputs": [
    {
     "data": {
      "text/plain": [
       "wamex_lon   -0.137561\n",
       "Cr_PPM      -0.087398\n",
       "Sr_PPM      -0.066785\n",
       "Ba_PPM      -0.029499\n",
       "Ni_PPM      -0.029226\n",
       "Name: In_PPM, dtype: float64"
      ]
     },
     "execution_count": 79,
     "metadata": {},
     "output_type": "execute_result"
    }
   ],
   "source": [
    "only_in[0:5]"
   ]
  },
  {
   "cell_type": "code",
   "execution_count": 80,
   "metadata": {},
   "outputs": [
    {
     "data": {
      "text/plain": [
       "S_PPM        0.187247\n",
       "P_PPM        0.206123\n",
       "Se_PPM       0.207401\n",
       "Sn_PPM       0.223261\n",
       "Ge_PPM       0.223771\n",
       "Cd_PPM       0.242290\n",
       "wamex_lat    0.254020\n",
       "Cu_PPM       0.267432\n",
       "U_PPM        0.294526\n",
       "In_PPM       1.000000\n",
       "Name: In_PPM, dtype: float64"
      ]
     },
     "execution_count": 80,
     "metadata": {},
     "output_type": "execute_result"
    }
   ],
   "source": [
    "only_in[-80:-70]"
   ]
  },
  {
   "cell_type": "code",
   "execution_count": 50,
   "metadata": {},
   "outputs": [],
   "source": [
    "Zn_deposits = ['Zn_PPM', 'Ag_PPM', 'Cu_PPM', 'Pb_PPM', 'Au_PPM', 'Co_PPM', 'In_PPM', 'Ge_PPM', 'wamex_lat', 'wamex_lon']\n",
    "only_minedex = df_Ge_In_ppm[Zn_deposits].corr()"
   ]
  },
  {
   "cell_type": "code",
   "execution_count": 51,
   "metadata": {},
   "outputs": [
    {
     "data": {
      "text/html": [
       "<div>\n",
       "<style scoped>\n",
       "    .dataframe tbody tr th:only-of-type {\n",
       "        vertical-align: middle;\n",
       "    }\n",
       "\n",
       "    .dataframe tbody tr th {\n",
       "        vertical-align: top;\n",
       "    }\n",
       "\n",
       "    .dataframe thead th {\n",
       "        text-align: right;\n",
       "    }\n",
       "</style>\n",
       "<table border=\"1\" class=\"dataframe\">\n",
       "  <thead>\n",
       "    <tr style=\"text-align: right;\">\n",
       "      <th></th>\n",
       "      <th>Zn_PPM</th>\n",
       "      <th>Ag_PPM</th>\n",
       "      <th>Cu_PPM</th>\n",
       "      <th>Pb_PPM</th>\n",
       "      <th>Au_PPM</th>\n",
       "      <th>Co_PPM</th>\n",
       "      <th>In_PPM</th>\n",
       "      <th>Ge_PPM</th>\n",
       "      <th>wamex_lat</th>\n",
       "      <th>wamex_lon</th>\n",
       "    </tr>\n",
       "  </thead>\n",
       "  <tbody>\n",
       "    <tr>\n",
       "      <th>Zn_PPM</th>\n",
       "      <td>1.000000</td>\n",
       "      <td>0.010514</td>\n",
       "      <td>0.006787</td>\n",
       "      <td>0.624282</td>\n",
       "      <td>0.003535</td>\n",
       "      <td>0.396269</td>\n",
       "      <td>-0.003438</td>\n",
       "      <td>0.002522</td>\n",
       "      <td>0.137488</td>\n",
       "      <td>-0.152318</td>\n",
       "    </tr>\n",
       "    <tr>\n",
       "      <th>Ag_PPM</th>\n",
       "      <td>0.010514</td>\n",
       "      <td>1.000000</td>\n",
       "      <td>0.159326</td>\n",
       "      <td>0.267053</td>\n",
       "      <td>0.097651</td>\n",
       "      <td>-0.010499</td>\n",
       "      <td>0.050957</td>\n",
       "      <td>0.080407</td>\n",
       "      <td>0.056030</td>\n",
       "      <td>-0.046623</td>\n",
       "    </tr>\n",
       "    <tr>\n",
       "      <th>Cu_PPM</th>\n",
       "      <td>0.006787</td>\n",
       "      <td>0.159326</td>\n",
       "      <td>1.000000</td>\n",
       "      <td>0.026148</td>\n",
       "      <td>0.098670</td>\n",
       "      <td>0.094666</td>\n",
       "      <td>0.267432</td>\n",
       "      <td>0.025979</td>\n",
       "      <td>0.241463</td>\n",
       "      <td>-0.245687</td>\n",
       "    </tr>\n",
       "    <tr>\n",
       "      <th>Pb_PPM</th>\n",
       "      <td>0.624282</td>\n",
       "      <td>0.267053</td>\n",
       "      <td>0.026148</td>\n",
       "      <td>1.000000</td>\n",
       "      <td>0.014487</td>\n",
       "      <td>0.474432</td>\n",
       "      <td>0.002168</td>\n",
       "      <td>0.028501</td>\n",
       "      <td>0.075615</td>\n",
       "      <td>-0.099747</td>\n",
       "    </tr>\n",
       "    <tr>\n",
       "      <th>Au_PPM</th>\n",
       "      <td>0.003535</td>\n",
       "      <td>0.097651</td>\n",
       "      <td>0.098670</td>\n",
       "      <td>0.014487</td>\n",
       "      <td>1.000000</td>\n",
       "      <td>-0.050687</td>\n",
       "      <td>0.026098</td>\n",
       "      <td>0.180925</td>\n",
       "      <td>0.180028</td>\n",
       "      <td>-0.218091</td>\n",
       "    </tr>\n",
       "    <tr>\n",
       "      <th>Co_PPM</th>\n",
       "      <td>0.396269</td>\n",
       "      <td>-0.010499</td>\n",
       "      <td>0.094666</td>\n",
       "      <td>0.474432</td>\n",
       "      <td>-0.050687</td>\n",
       "      <td>1.000000</td>\n",
       "      <td>0.102906</td>\n",
       "      <td>-0.035208</td>\n",
       "      <td>0.216896</td>\n",
       "      <td>-0.168010</td>\n",
       "    </tr>\n",
       "    <tr>\n",
       "      <th>In_PPM</th>\n",
       "      <td>-0.003438</td>\n",
       "      <td>0.050957</td>\n",
       "      <td>0.267432</td>\n",
       "      <td>0.002168</td>\n",
       "      <td>0.026098</td>\n",
       "      <td>0.102906</td>\n",
       "      <td>1.000000</td>\n",
       "      <td>0.223771</td>\n",
       "      <td>0.254020</td>\n",
       "      <td>-0.137561</td>\n",
       "    </tr>\n",
       "    <tr>\n",
       "      <th>Ge_PPM</th>\n",
       "      <td>0.002522</td>\n",
       "      <td>0.080407</td>\n",
       "      <td>0.025979</td>\n",
       "      <td>0.028501</td>\n",
       "      <td>0.180925</td>\n",
       "      <td>-0.035208</td>\n",
       "      <td>0.223771</td>\n",
       "      <td>1.000000</td>\n",
       "      <td>0.040089</td>\n",
       "      <td>-0.082443</td>\n",
       "    </tr>\n",
       "    <tr>\n",
       "      <th>wamex_lat</th>\n",
       "      <td>0.137488</td>\n",
       "      <td>0.056030</td>\n",
       "      <td>0.241463</td>\n",
       "      <td>0.075615</td>\n",
       "      <td>0.180028</td>\n",
       "      <td>0.216896</td>\n",
       "      <td>0.254020</td>\n",
       "      <td>0.040089</td>\n",
       "      <td>1.000000</td>\n",
       "      <td>-0.679005</td>\n",
       "    </tr>\n",
       "    <tr>\n",
       "      <th>wamex_lon</th>\n",
       "      <td>-0.152318</td>\n",
       "      <td>-0.046623</td>\n",
       "      <td>-0.245687</td>\n",
       "      <td>-0.099747</td>\n",
       "      <td>-0.218091</td>\n",
       "      <td>-0.168010</td>\n",
       "      <td>-0.137561</td>\n",
       "      <td>-0.082443</td>\n",
       "      <td>-0.679005</td>\n",
       "      <td>1.000000</td>\n",
       "    </tr>\n",
       "  </tbody>\n",
       "</table>\n",
       "</div>"
      ],
      "text/plain": [
       "             Zn_PPM    Ag_PPM    Cu_PPM    Pb_PPM    Au_PPM    Co_PPM  \\\n",
       "Zn_PPM     1.000000  0.010514  0.006787  0.624282  0.003535  0.396269   \n",
       "Ag_PPM     0.010514  1.000000  0.159326  0.267053  0.097651 -0.010499   \n",
       "Cu_PPM     0.006787  0.159326  1.000000  0.026148  0.098670  0.094666   \n",
       "Pb_PPM     0.624282  0.267053  0.026148  1.000000  0.014487  0.474432   \n",
       "Au_PPM     0.003535  0.097651  0.098670  0.014487  1.000000 -0.050687   \n",
       "Co_PPM     0.396269 -0.010499  0.094666  0.474432 -0.050687  1.000000   \n",
       "In_PPM    -0.003438  0.050957  0.267432  0.002168  0.026098  0.102906   \n",
       "Ge_PPM     0.002522  0.080407  0.025979  0.028501  0.180925 -0.035208   \n",
       "wamex_lat  0.137488  0.056030  0.241463  0.075615  0.180028  0.216896   \n",
       "wamex_lon -0.152318 -0.046623 -0.245687 -0.099747 -0.218091 -0.168010   \n",
       "\n",
       "             In_PPM    Ge_PPM  wamex_lat  wamex_lon  \n",
       "Zn_PPM    -0.003438  0.002522   0.137488  -0.152318  \n",
       "Ag_PPM     0.050957  0.080407   0.056030  -0.046623  \n",
       "Cu_PPM     0.267432  0.025979   0.241463  -0.245687  \n",
       "Pb_PPM     0.002168  0.028501   0.075615  -0.099747  \n",
       "Au_PPM     0.026098  0.180925   0.180028  -0.218091  \n",
       "Co_PPM     0.102906 -0.035208   0.216896  -0.168010  \n",
       "In_PPM     1.000000  0.223771   0.254020  -0.137561  \n",
       "Ge_PPM     0.223771  1.000000   0.040089  -0.082443  \n",
       "wamex_lat  0.254020  0.040089   1.000000  -0.679005  \n",
       "wamex_lon -0.137561 -0.082443  -0.679005   1.000000  "
      ]
     },
     "execution_count": 51,
     "metadata": {},
     "output_type": "execute_result"
    }
   ],
   "source": [
    "only_minedex"
   ]
  },
  {
   "cell_type": "code",
   "execution_count": 52,
   "metadata": {},
   "outputs": [],
   "source": [
    "only_minedex.to_csv('GeIn_correlations_Drillhole_15km.csv')"
   ]
  },
  {
   "cell_type": "code",
   "execution_count": null,
   "metadata": {},
   "outputs": [],
   "source": []
  }
 ],
 "metadata": {
  "kernelspec": {
   "display_name": "Python 3",
   "language": "python",
   "name": "python3"
  },
  "language_info": {
   "codemirror_mode": {
    "name": "ipython",
    "version": 3
   },
   "file_extension": ".py",
   "mimetype": "text/x-python",
   "name": "python",
   "nbconvert_exporter": "python",
   "pygments_lexer": "ipython3",
   "version": "3.8.10"
  }
 },
 "nbformat": 4,
 "nbformat_minor": 4
}
