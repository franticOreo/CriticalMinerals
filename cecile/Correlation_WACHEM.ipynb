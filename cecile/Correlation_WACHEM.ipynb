{
 "cells": [
  {
   "cell_type": "markdown",
   "metadata": {},
   "source": [
    "# Correlation WACHEM Drillhole"
   ]
  },
  {
   "cell_type": "code",
   "execution_count": 11,
   "metadata": {},
   "outputs": [],
   "source": [
    "import pandas as pd\n",
    "import matplotlib.pyplot as plt\n",
    "import numpy as np\n",
    "pd.options.mode.chained_assignment = None\n",
    "import geopy.distance\n",
    "from tqdm import tqdm"
   ]
  },
  {
   "cell_type": "code",
   "execution_count": 3,
   "metadata": {},
   "outputs": [
    {
     "data": {
      "text/html": [
       "<div>\n",
       "<style scoped>\n",
       "    .dataframe tbody tr th:only-of-type {\n",
       "        vertical-align: middle;\n",
       "    }\n",
       "\n",
       "    .dataframe tbody tr th {\n",
       "        vertical-align: top;\n",
       "    }\n",
       "\n",
       "    .dataframe thead th {\n",
       "        text-align: right;\n",
       "    }\n",
       "</style>\n",
       "<table border=\"1\" class=\"dataframe\">\n",
       "  <thead>\n",
       "    <tr style=\"text-align: right;\">\n",
       "      <th></th>\n",
       "      <th>DataSet</th>\n",
       "      <th>SampleID</th>\n",
       "      <th>GSWANO</th>\n",
       "      <th>Extraction_Date</th>\n",
       "      <th>Batch_No</th>\n",
       "      <th>QMAPID</th>\n",
       "      <th>DLat</th>\n",
       "      <th>DLong</th>\n",
       "      <th>EASTING</th>\n",
       "      <th>NORTHING</th>\n",
       "      <th>...</th>\n",
       "      <th>V_ppm</th>\n",
       "      <th>W_ppm</th>\n",
       "      <th>Y_ppm</th>\n",
       "      <th>Yb_ppm</th>\n",
       "      <th>Zn_ppm</th>\n",
       "      <th>Zr_ppm</th>\n",
       "      <th>143_144_Nd</th>\n",
       "      <th>Err_143_Nd</th>\n",
       "      <th>87_86_Sr</th>\n",
       "      <th>Err_87_Sr</th>\n",
       "    </tr>\n",
       "  </thead>\n",
       "  <tbody>\n",
       "    <tr>\n",
       "      <th>0</th>\n",
       "      <td>WACHEM</td>\n",
       "      <td>182477_C1M1S0</td>\n",
       "      <td>182477</td>\n",
       "      <td>10/10/2021 9:17:26 PM</td>\n",
       "      <td>_gsi07062013unk</td>\n",
       "      <td>SH51-12</td>\n",
       "      <td>-30.27426</td>\n",
       "      <td>124.95861</td>\n",
       "      <td>688399</td>\n",
       "      <td>6649197</td>\n",
       "      <td>...</td>\n",
       "      <td>-9999.0</td>\n",
       "      <td>-9999.0</td>\n",
       "      <td>-9999.0</td>\n",
       "      <td>-9999.0</td>\n",
       "      <td>-9999.0</td>\n",
       "      <td>-9999.0</td>\n",
       "      <td>0.512001</td>\n",
       "      <td>0.000015</td>\n",
       "      <td>-9999.0</td>\n",
       "      <td>-9999.0</td>\n",
       "    </tr>\n",
       "    <tr>\n",
       "      <th>1</th>\n",
       "      <td>WACHEM</td>\n",
       "      <td>183626_C1M1S0</td>\n",
       "      <td>183626</td>\n",
       "      <td>10/10/2021 9:17:26 PM</td>\n",
       "      <td>_gsi07062013unk</td>\n",
       "      <td>SI51-02</td>\n",
       "      <td>-32.21711</td>\n",
       "      <td>122.84026</td>\n",
       "      <td>484947</td>\n",
       "      <td>6435485</td>\n",
       "      <td>...</td>\n",
       "      <td>-9999.0</td>\n",
       "      <td>-9999.0</td>\n",
       "      <td>-9999.0</td>\n",
       "      <td>-9999.0</td>\n",
       "      <td>-9999.0</td>\n",
       "      <td>-9999.0</td>\n",
       "      <td>0.512169</td>\n",
       "      <td>0.000006</td>\n",
       "      <td>-9999.0</td>\n",
       "      <td>-9999.0</td>\n",
       "    </tr>\n",
       "    <tr>\n",
       "      <th>2</th>\n",
       "      <td>WACHEM</td>\n",
       "      <td>183628_C1M1S0</td>\n",
       "      <td>183628</td>\n",
       "      <td>10/10/2021 9:17:26 PM</td>\n",
       "      <td>_gsi07062013unk</td>\n",
       "      <td>SI51-02</td>\n",
       "      <td>-32.21711</td>\n",
       "      <td>122.84026</td>\n",
       "      <td>484947</td>\n",
       "      <td>6435485</td>\n",
       "      <td>...</td>\n",
       "      <td>-9999.0</td>\n",
       "      <td>-9999.0</td>\n",
       "      <td>-9999.0</td>\n",
       "      <td>-9999.0</td>\n",
       "      <td>-9999.0</td>\n",
       "      <td>-9999.0</td>\n",
       "      <td>0.511714</td>\n",
       "      <td>0.000008</td>\n",
       "      <td>-9999.0</td>\n",
       "      <td>-9999.0</td>\n",
       "    </tr>\n",
       "    <tr>\n",
       "      <th>3</th>\n",
       "      <td>WACHEM</td>\n",
       "      <td>183642_C1M1S0</td>\n",
       "      <td>183642</td>\n",
       "      <td>10/10/2021 9:17:26 PM</td>\n",
       "      <td>_gsi07062013unk</td>\n",
       "      <td>SI51-02</td>\n",
       "      <td>-32.22581</td>\n",
       "      <td>122.85330</td>\n",
       "      <td>486180</td>\n",
       "      <td>6434528</td>\n",
       "      <td>...</td>\n",
       "      <td>-9999.0</td>\n",
       "      <td>-9999.0</td>\n",
       "      <td>-9999.0</td>\n",
       "      <td>-9999.0</td>\n",
       "      <td>-9999.0</td>\n",
       "      <td>-9999.0</td>\n",
       "      <td>0.511527</td>\n",
       "      <td>0.000005</td>\n",
       "      <td>-9999.0</td>\n",
       "      <td>-9999.0</td>\n",
       "    </tr>\n",
       "    <tr>\n",
       "      <th>4</th>\n",
       "      <td>WACHEM</td>\n",
       "      <td>183658_C1M1S0</td>\n",
       "      <td>183658</td>\n",
       "      <td>10/10/2021 9:17:26 PM</td>\n",
       "      <td>_gsi07062013unk</td>\n",
       "      <td>SI51-02</td>\n",
       "      <td>-32.04013</td>\n",
       "      <td>122.79300</td>\n",
       "      <td>480455</td>\n",
       "      <td>6455096</td>\n",
       "      <td>...</td>\n",
       "      <td>-9999.0</td>\n",
       "      <td>-9999.0</td>\n",
       "      <td>-9999.0</td>\n",
       "      <td>-9999.0</td>\n",
       "      <td>-9999.0</td>\n",
       "      <td>-9999.0</td>\n",
       "      <td>0.511987</td>\n",
       "      <td>0.000008</td>\n",
       "      <td>-9999.0</td>\n",
       "      <td>-9999.0</td>\n",
       "    </tr>\n",
       "  </tbody>\n",
       "</table>\n",
       "<p>5 rows × 105 columns</p>\n",
       "</div>"
      ],
      "text/plain": [
       "  DataSet       SampleID  GSWANO        Extraction_Date         Batch_No  \\\n",
       "0  WACHEM  182477_C1M1S0  182477  10/10/2021 9:17:26 PM  _gsi07062013unk   \n",
       "1  WACHEM  183626_C1M1S0  183626  10/10/2021 9:17:26 PM  _gsi07062013unk   \n",
       "2  WACHEM  183628_C1M1S0  183628  10/10/2021 9:17:26 PM  _gsi07062013unk   \n",
       "3  WACHEM  183642_C1M1S0  183642  10/10/2021 9:17:26 PM  _gsi07062013unk   \n",
       "4  WACHEM  183658_C1M1S0  183658  10/10/2021 9:17:26 PM  _gsi07062013unk   \n",
       "\n",
       "    QMAPID      DLat      DLong  EASTING  NORTHING  ...   V_ppm   W_ppm  \\\n",
       "0  SH51-12 -30.27426  124.95861   688399   6649197  ... -9999.0 -9999.0   \n",
       "1  SI51-02 -32.21711  122.84026   484947   6435485  ... -9999.0 -9999.0   \n",
       "2  SI51-02 -32.21711  122.84026   484947   6435485  ... -9999.0 -9999.0   \n",
       "3  SI51-02 -32.22581  122.85330   486180   6434528  ... -9999.0 -9999.0   \n",
       "4  SI51-02 -32.04013  122.79300   480455   6455096  ... -9999.0 -9999.0   \n",
       "\n",
       "    Y_ppm  Yb_ppm  Zn_ppm  Zr_ppm  143_144_Nd  Err_143_Nd  87_86_Sr  Err_87_Sr  \n",
       "0 -9999.0 -9999.0 -9999.0 -9999.0    0.512001    0.000015   -9999.0    -9999.0  \n",
       "1 -9999.0 -9999.0 -9999.0 -9999.0    0.512169    0.000006   -9999.0    -9999.0  \n",
       "2 -9999.0 -9999.0 -9999.0 -9999.0    0.511714    0.000008   -9999.0    -9999.0  \n",
       "3 -9999.0 -9999.0 -9999.0 -9999.0    0.511527    0.000005   -9999.0    -9999.0  \n",
       "4 -9999.0 -9999.0 -9999.0 -9999.0    0.511987    0.000008   -9999.0    -9999.0  \n",
       "\n",
       "[5 rows x 105 columns]"
      ]
     },
     "execution_count": 3,
     "metadata": {},
     "output_type": "execute_result"
    }
   ],
   "source": [
    "df = pd.read_csv('StateGeoChem.csv', low_memory = False)\n",
    "df.head()"
   ]
  },
  {
   "cell_type": "code",
   "execution_count": 4,
   "metadata": {},
   "outputs": [
    {
     "data": {
      "text/plain": [
       "(49193, 105)"
      ]
     },
     "execution_count": 4,
     "metadata": {},
     "output_type": "execute_result"
    }
   ],
   "source": [
    "df.shape"
   ]
  },
  {
   "cell_type": "code",
   "execution_count": 6,
   "metadata": {},
   "outputs": [
    {
     "data": {
      "text/plain": [
       "(2017580, 105)"
      ]
     },
     "execution_count": 6,
     "metadata": {},
     "output_type": "execute_result"
    }
   ],
   "source": [
    "df[df.values == -9999].shape #many -9999 values"
   ]
  },
  {
   "cell_type": "code",
   "execution_count": 7,
   "metadata": {},
   "outputs": [],
   "source": [
    "def replace_neg9999(val):\n",
    "    if val == -9999: \n",
    "        return 0\n",
    "    else:\n",
    "        return val\n",
    "    \n",
    "def abs_halve_neg_val(val):\n",
    "    if val < 0: \n",
    "        return abs(val) / 2\n",
    "    else: \n",
    "        return val\n",
    "\n",
    "def clean_assays(df):\n",
    "    df = df.applymap(replace_neg9999)\n",
    "    df = df.applymap(abs_halve_neg_val)\n",
    "    \n",
    "    return df"
   ]
  },
  {
   "cell_type": "code",
   "execution_count": 10,
   "metadata": {},
   "outputs": [],
   "source": [
    "def calc_distance(coords_a, coords_b):\n",
    "       dist = geopy.distance.distance(coords_a, coords_b)\n",
    "       return(dist)"
   ]
  },
  {
   "cell_type": "markdown",
   "metadata": {},
   "source": [
    "## Cobalt"
   ]
  },
  {
   "cell_type": "code",
   "execution_count": 9,
   "metadata": {},
   "outputs": [],
   "source": [
    "df_has_co = df[df['Co_ppm'] > 0]\n",
    "Co_deposits = ['komatiite', 'komatiitic basalt', 'igneous rock']\n",
    "df_has_co = df[df['LITHNAME'].isin(Co_deposits)]"
   ]
  },
  {
   "cell_type": "code",
   "execution_count": 66,
   "metadata": {},
   "outputs": [
    {
     "data": {
      "text/plain": [
       "(80815, 171)"
      ]
     },
     "execution_count": 66,
     "metadata": {},
     "output_type": "execute_result"
    }
   ],
   "source": [
    "df_Co.shape"
   ]
  },
  {
   "cell_type": "code",
   "execution_count": 67,
   "metadata": {},
   "outputs": [
    {
     "data": {
      "text/plain": [
       "2775"
      ]
     },
     "execution_count": 67,
     "metadata": {},
     "output_type": "execute_result"
    }
   ],
   "source": [
    "df_Co.isna().sum().sum()"
   ]
  },
  {
   "cell_type": "code",
   "execution_count": 68,
   "metadata": {},
   "outputs": [],
   "source": [
    "#change NAs to 0\n",
    "df_Co = df_Co.fillna(0)"
   ]
  },
  {
   "cell_type": "code",
   "execution_count": 69,
   "metadata": {},
   "outputs": [],
   "source": [
    "#only keep ppm columns\n",
    "df_Co_ppm = df_Co.filter(like='PPM')"
   ]
  },
  {
   "cell_type": "code",
   "execution_count": 70,
   "metadata": {},
   "outputs": [],
   "source": [
    "#also keep coordonates\n",
    "df_Co_ppm['wamex_lon'] = df_Co['wamex_lon']\n",
    "df_Co_ppm['wamex_lat'] = df_Co['wamex_lat']"
   ]
  },
  {
   "cell_type": "code",
   "execution_count": 71,
   "metadata": {},
   "outputs": [
    {
     "data": {
      "text/plain": [
       "(80815, 160)"
      ]
     },
     "execution_count": 71,
     "metadata": {},
     "output_type": "execute_result"
    }
   ],
   "source": [
    "df_minerals = df_Co_ppm.drop(columns=['wamex_lat', 'wamex_lon'])\n",
    "\n",
    "df_Co_ppm.loc[:, df_minerals.columns] = clean_assays(df_Co_ppm.loc[:,df_minerals.columns])\n",
    "df_Co_ppm.shape"
   ]
  },
  {
   "cell_type": "code",
   "execution_count": 72,
   "metadata": {},
   "outputs": [
    {
     "data": {
      "text/plain": [
       "(80587, 160)"
      ]
     },
     "execution_count": 72,
     "metadata": {},
     "output_type": "execute_result"
    }
   ],
   "source": [
    "df_Co_ppm = df_Co_ppm.drop_duplicates()\n",
    "df_Co_ppm.shape"
   ]
  },
  {
   "cell_type": "code",
   "execution_count": 74,
   "metadata": {},
   "outputs": [
    {
     "data": {
      "text/plain": [
       "(420, 160)"
      ]
     },
     "execution_count": 74,
     "metadata": {},
     "output_type": "execute_result"
    }
   ],
   "source": [
    "df_Co_ppm[df_Co_ppm['Ni_PPM'] > 300000].shape"
   ]
  },
  {
   "cell_type": "code",
   "execution_count": 75,
   "metadata": {},
   "outputs": [],
   "source": [
    "df_Co_ppm = df_Co_ppm[df_Co_ppm['Ni_PPM'] < 300000]"
   ]
  },
  {
   "cell_type": "code",
   "execution_count": 76,
   "metadata": {},
   "outputs": [
    {
     "data": {
      "text/plain": [
       "<AxesSubplot:>"
      ]
     },
     "execution_count": 76,
     "metadata": {},
     "output_type": "execute_result"
    },
    {
     "data": {
      "image/png": "[encoded data removed]",
      "text/plain": [
       "<Figure size 432x288 with 1 Axes>"
      ]
     },
     "metadata": {
      "needs_background": "light"
     },
     "output_type": "display_data"
    }
   ],
   "source": [
    "df_Co_ppm['Co_PPM'].plot(kind='box')"
   ]
  },
  {
   "cell_type": "code",
   "execution_count": 77,
   "metadata": {},
   "outputs": [],
   "source": [
    "df_Co_corr = df_Co_ppm.corr()"
   ]
  },
  {
   "cell_type": "code",
   "execution_count": 78,
   "metadata": {},
   "outputs": [],
   "source": [
    "only_co = df_Co_corr['Co_PPM'].sort_values()"
   ]
  },
  {
   "cell_type": "code",
   "execution_count": 79,
   "metadata": {},
   "outputs": [
    {
     "data": {
      "text/plain": [
       "wamex_lat   -0.015339\n",
       "V_PPM       -0.011827\n",
       "Sr_PPM      -0.008000\n",
       "Ga_PPM      -0.005938\n",
       "Ba_PPM      -0.004661\n",
       "Name: Co_PPM, dtype: float64"
      ]
     },
     "execution_count": 79,
     "metadata": {},
     "output_type": "execute_result"
    }
   ],
   "source": [
    "only_co[0:5]"
   ]
  },
  {
   "cell_type": "code",
   "execution_count": 97,
   "metadata": {},
   "outputs": [
    {
     "data": {
      "text/plain": [
       "Mg_PPM      0.034541\n",
       "MgO_PPM     0.044813\n",
       "V2O5_PPM    0.072368\n",
       "Pt_PPM      0.094230\n",
       "Au_PPM      0.116734\n",
       "Pd_PPM      0.147997\n",
       "S_PPM       0.148307\n",
       "Cr_PPM      0.251589\n",
       "Cu_PPM      0.464750\n",
       "Co_PPM      1.000000\n",
       "Name: Co_PPM, dtype: float64"
      ]
     },
     "execution_count": 97,
     "metadata": {},
     "output_type": "execute_result"
    }
   ],
   "source": [
    "#the ones before that are NaNs because they are all 0 values in df_Co_ppm\n",
    "only_co[-72:-62:]"
   ]
  },
  {
   "cell_type": "code",
   "execution_count": 81,
   "metadata": {},
   "outputs": [],
   "source": [
    "only_minedex_co = df_Co_corr['Co_PPM'][['Ni_PPM','Cu_PPM','Co_PPM', 'Pd_PPM', 'Au_PPM','Pt_PPM', 'Rh_PPM', 'Fe_PPM', 'S_PPM', 'Ag_PPM', 'wamex_lon', 'wamex_lat']]"
   ]
  },
  {
   "cell_type": "code",
   "execution_count": 82,
   "metadata": {},
   "outputs": [],
   "source": [
    "only_minedex_co['dataframe'] = 'WAMEX Drillhole'"
   ]
  },
  {
   "cell_type": "code",
   "execution_count": 83,
   "metadata": {},
   "outputs": [
    {
     "data": {
      "text/plain": [
       "Ni_PPM              0.004832\n",
       "Cu_PPM               0.46475\n",
       "Co_PPM                   1.0\n",
       "Pd_PPM              0.147997\n",
       "Au_PPM              0.116734\n",
       "Pt_PPM               0.09423\n",
       "Rh_PPM              0.000589\n",
       "Fe_PPM             -0.002482\n",
       "S_PPM               0.148307\n",
       "Ag_PPM             -0.002558\n",
       "wamex_lon           0.004941\n",
       "wamex_lat          -0.015339\n",
       "dataframe    WAMEX Drillhole\n",
       "Name: Co_PPM, dtype: object"
      ]
     },
     "execution_count": 83,
     "metadata": {},
     "output_type": "execute_result"
    }
   ],
   "source": [
    "only_minedex_co"
   ]
  },
  {
   "cell_type": "code",
   "execution_count": null,
   "metadata": {},
   "outputs": [],
   "source": [
    "df_Co_corr"
   ]
  },
  {
   "cell_type": "code",
   "execution_count": 98,
   "metadata": {},
   "outputs": [],
   "source": [
    "only_minedex_co.to_csv('Co_correlations_WACHEM.csv')"
   ]
  },
  {
   "cell_type": "markdown",
   "metadata": {},
   "source": [
    "## Indium/germanium"
   ]
  },
  {
   "cell_type": "code",
   "execution_count": 99,
   "metadata": {},
   "outputs": [
    {
     "data": {
      "text/html": [
       "<div>\n",
       "<style scoped>\n",
       "    .dataframe tbody tr th:only-of-type {\n",
       "        vertical-align: middle;\n",
       "    }\n",
       "\n",
       "    .dataframe tbody tr th {\n",
       "        vertical-align: top;\n",
       "    }\n",
       "\n",
       "    .dataframe thead th {\n",
       "        text-align: right;\n",
       "    }\n",
       "</style>\n",
       "<table border=\"1\" class=\"dataframe\">\n",
       "  <thead>\n",
       "    <tr style=\"text-align: right;\">\n",
       "      <th></th>\n",
       "      <th>CollarId</th>\n",
       "      <th>CompanyHoleId</th>\n",
       "      <th>HoleType</th>\n",
       "      <th>Azimuth</th>\n",
       "      <th>Dip</th>\n",
       "      <th>MaxDepth</th>\n",
       "      <th>Anumber</th>\n",
       "      <th>SampleId</th>\n",
       "      <th>CompanySampleId</th>\n",
       "      <th>FromDepth</th>\n",
       "      <th>...</th>\n",
       "      <th>Y_PPM</th>\n",
       "      <th>Y2O3_PPM</th>\n",
       "      <th>Yb_PPM</th>\n",
       "      <th>Yb2O3_PPM</th>\n",
       "      <th>Zn_PPM</th>\n",
       "      <th>ZnO_PPM</th>\n",
       "      <th>Zr_PPM</th>\n",
       "      <th>ZrO2_PPM</th>\n",
       "      <th>wamex_lat</th>\n",
       "      <th>wamex_lon</th>\n",
       "    </tr>\n",
       "  </thead>\n",
       "  <tbody>\n",
       "    <tr>\n",
       "      <th>0</th>\n",
       "      <td>1569256</td>\n",
       "      <td>DED021</td>\n",
       "      <td>DD</td>\n",
       "      <td>360</td>\n",
       "      <td>-90</td>\n",
       "      <td>420.7</td>\n",
       "      <td>86949</td>\n",
       "      <td>36316448</td>\n",
       "      <td>2101007</td>\n",
       "      <td>335.17</td>\n",
       "      <td>...</td>\n",
       "      <td>8.1</td>\n",
       "      <td>-9999.0</td>\n",
       "      <td>-9999.0</td>\n",
       "      <td>-9999.0</td>\n",
       "      <td>782.0</td>\n",
       "      <td>-9999.0</td>\n",
       "      <td>78.1</td>\n",
       "      <td>-9999.0</td>\n",
       "      <td>-28.401474</td>\n",
       "      <td>120.859059</td>\n",
       "    </tr>\n",
       "    <tr>\n",
       "      <th>4</th>\n",
       "      <td>1569256</td>\n",
       "      <td>DED021</td>\n",
       "      <td>DD</td>\n",
       "      <td>360</td>\n",
       "      <td>-90</td>\n",
       "      <td>420.7</td>\n",
       "      <td>86949</td>\n",
       "      <td>36316437</td>\n",
       "      <td>2100995</td>\n",
       "      <td>325.00</td>\n",
       "      <td>...</td>\n",
       "      <td>10.8</td>\n",
       "      <td>-9999.0</td>\n",
       "      <td>-9999.0</td>\n",
       "      <td>-9999.0</td>\n",
       "      <td>114.0</td>\n",
       "      <td>-9999.0</td>\n",
       "      <td>20.2</td>\n",
       "      <td>-9999.0</td>\n",
       "      <td>-28.401474</td>\n",
       "      <td>120.859059</td>\n",
       "    </tr>\n",
       "    <tr>\n",
       "      <th>8</th>\n",
       "      <td>1569256</td>\n",
       "      <td>DED021</td>\n",
       "      <td>DD</td>\n",
       "      <td>360</td>\n",
       "      <td>-90</td>\n",
       "      <td>420.7</td>\n",
       "      <td>86949</td>\n",
       "      <td>36316353</td>\n",
       "      <td>2100905</td>\n",
       "      <td>195.00</td>\n",
       "      <td>...</td>\n",
       "      <td>19.7</td>\n",
       "      <td>-9999.0</td>\n",
       "      <td>-9999.0</td>\n",
       "      <td>-9999.0</td>\n",
       "      <td>81.0</td>\n",
       "      <td>-9999.0</td>\n",
       "      <td>39.1</td>\n",
       "      <td>-9999.0</td>\n",
       "      <td>-28.401474</td>\n",
       "      <td>120.859059</td>\n",
       "    </tr>\n",
       "    <tr>\n",
       "      <th>12</th>\n",
       "      <td>1569256</td>\n",
       "      <td>DED021</td>\n",
       "      <td>DD</td>\n",
       "      <td>360</td>\n",
       "      <td>-90</td>\n",
       "      <td>420.7</td>\n",
       "      <td>86949</td>\n",
       "      <td>36316350</td>\n",
       "      <td>2100902</td>\n",
       "      <td>192.00</td>\n",
       "      <td>...</td>\n",
       "      <td>16.7</td>\n",
       "      <td>-9999.0</td>\n",
       "      <td>-9999.0</td>\n",
       "      <td>-9999.0</td>\n",
       "      <td>81.0</td>\n",
       "      <td>-9999.0</td>\n",
       "      <td>34.0</td>\n",
       "      <td>-9999.0</td>\n",
       "      <td>-28.401474</td>\n",
       "      <td>120.859059</td>\n",
       "    </tr>\n",
       "    <tr>\n",
       "      <th>16</th>\n",
       "      <td>1569256</td>\n",
       "      <td>DED021</td>\n",
       "      <td>DD</td>\n",
       "      <td>360</td>\n",
       "      <td>-90</td>\n",
       "      <td>420.7</td>\n",
       "      <td>86949</td>\n",
       "      <td>36316358</td>\n",
       "      <td>2100911</td>\n",
       "      <td>200.00</td>\n",
       "      <td>...</td>\n",
       "      <td>17.5</td>\n",
       "      <td>-9999.0</td>\n",
       "      <td>-9999.0</td>\n",
       "      <td>-9999.0</td>\n",
       "      <td>76.0</td>\n",
       "      <td>-9999.0</td>\n",
       "      <td>34.4</td>\n",
       "      <td>-9999.0</td>\n",
       "      <td>-28.401474</td>\n",
       "      <td>120.859059</td>\n",
       "    </tr>\n",
       "  </tbody>\n",
       "</table>\n",
       "<p>5 rows × 171 columns</p>\n",
       "</div>"
      ],
      "text/plain": [
       "    CollarId CompanyHoleId HoleType  Azimuth  Dip  MaxDepth  Anumber  \\\n",
       "0    1569256        DED021       DD      360  -90     420.7    86949   \n",
       "4    1569256        DED021       DD      360  -90     420.7    86949   \n",
       "8    1569256        DED021       DD      360  -90     420.7    86949   \n",
       "12   1569256        DED021       DD      360  -90     420.7    86949   \n",
       "16   1569256        DED021       DD      360  -90     420.7    86949   \n",
       "\n",
       "    SampleId CompanySampleId  FromDepth  ...  Y_PPM  Y2O3_PPM  Yb_PPM  \\\n",
       "0   36316448         2101007     335.17  ...    8.1   -9999.0 -9999.0   \n",
       "4   36316437         2100995     325.00  ...   10.8   -9999.0 -9999.0   \n",
       "8   36316353         2100905     195.00  ...   19.7   -9999.0 -9999.0   \n",
       "12  36316350         2100902     192.00  ...   16.7   -9999.0 -9999.0   \n",
       "16  36316358         2100911     200.00  ...   17.5   -9999.0 -9999.0   \n",
       "\n",
       "    Yb2O3_PPM  Zn_PPM  ZnO_PPM  Zr_PPM  ZrO2_PPM  wamex_lat   wamex_lon  \n",
       "0     -9999.0   782.0  -9999.0    78.1   -9999.0 -28.401474  120.859059  \n",
       "4     -9999.0   114.0  -9999.0    20.2   -9999.0 -28.401474  120.859059  \n",
       "8     -9999.0    81.0  -9999.0    39.1   -9999.0 -28.401474  120.859059  \n",
       "12    -9999.0    81.0  -9999.0    34.0   -9999.0 -28.401474  120.859059  \n",
       "16    -9999.0    76.0  -9999.0    34.4   -9999.0 -28.401474  120.859059  \n",
       "\n",
       "[5 rows x 171 columns]"
      ]
     },
     "execution_count": 99,
     "metadata": {},
     "output_type": "execute_result"
    }
   ],
   "source": [
    "Merged_Zn_Drillhole_lessthan15km = pd.read_csv('Merged_Zn_Drillhole_lessthan15km.csv')\n",
    "\n",
    "#remove duplicates\n",
    "df_Ge_In = Merged_Zn_Drillhole_lessthan15km.drop(columns=['Unnamed: 0', 'Unnamed: 0_x', 'Unnamed: 0_y', 'Latitude', 'Longitude', \n",
    "                     'minedex_coords', 'minedex_site',\n",
    "                    'distance'])\n",
    "\n",
    "df_Ge_In = df_Ge_In.drop_duplicates()\n",
    "df_Ge_In.head()"
   ]
  },
  {
   "cell_type": "code",
   "execution_count": 98,
   "metadata": {},
   "outputs": [
    {
     "data": {
      "text/plain": [
       "(3845, 171)"
      ]
     },
     "execution_count": 98,
     "metadata": {},
     "output_type": "execute_result"
    }
   ],
   "source": [
    "df_Ge_In.shape"
   ]
  },
  {
   "cell_type": "code",
   "execution_count": 102,
   "metadata": {},
   "outputs": [],
   "source": [
    "#as indicated by the client, Ni > 300,000 is close to impossible, therefore we remove such rows\n",
    "df_Co = df_Co[df_Co['Ni_PPM'] <=300000]"
   ]
  },
  {
   "cell_type": "code",
   "execution_count": 103,
   "metadata": {},
   "outputs": [
    {
     "data": {
      "text/plain": [
       "(70159, 96)"
      ]
     },
     "execution_count": 103,
     "metadata": {},
     "output_type": "execute_result"
    }
   ],
   "source": [
    "#we only keep rows where Ni is positive.\n",
    "df_Co = df_Co[df_Co['Ni_PPM'] >0]\n",
    "df_Co.shape"
   ]
  },
  {
   "cell_type": "code",
   "execution_count": 104,
   "metadata": {},
   "outputs": [
    {
     "data": {
      "text/plain": [
       "count     70159.000000\n",
       "mean        732.682043\n",
       "std       18827.417351\n",
       "min           0.000100\n",
       "25%          50.000000\n",
       "50%          88.000000\n",
       "75%         120.000000\n",
       "max      990000.000000\n",
       "Name: Co_PPM, dtype: float64"
      ]
     },
     "execution_count": 104,
     "metadata": {},
     "output_type": "execute_result"
    }
   ],
   "source": [
    "df_Co['Co_PPM'].describe()"
   ]
  },
  {
   "cell_type": "code",
   "execution_count": 105,
   "metadata": {},
   "outputs": [
    {
     "data": {
      "text/plain": [
       "(63, 96)"
      ]
     },
     "execution_count": 105,
     "metadata": {},
     "output_type": "execute_result"
    }
   ],
   "source": [
    "#there's only a few values => 300k, so we remove these outliers\n",
    "df_Co[df_Co['Co_PPM'] >=300000].shape"
   ]
  },
  {
   "cell_type": "code",
   "execution_count": 106,
   "metadata": {},
   "outputs": [],
   "source": [
    "df_Co = df_Co[df_Co['Co_PPM'] <=300000]"
   ]
  },
  {
   "cell_type": "code",
   "execution_count": 107,
   "metadata": {},
   "outputs": [
    {
     "data": {
      "text/plain": [
       "<AxesSubplot:ylabel='Co_PPM'>"
      ]
     },
     "execution_count": 107,
     "metadata": {},
     "output_type": "execute_result"
    },
    {
     "data": {
      "image/png": "[encoded data removed]",
      "text/plain": [
       "<Figure size 432x288 with 1 Axes>"
      ]
     },
     "metadata": {
      "needs_background": "light"
     },
     "output_type": "display_data"
    }
   ],
   "source": [
    "#most values are close to 0\n",
    "sns.boxplot(y = df_Co['Co_PPM'])"
   ]
  },
  {
   "cell_type": "code",
   "execution_count": 125,
   "metadata": {},
   "outputs": [],
   "source": [
    "#replace all -9999 values to 0\n",
    "def replace_neg9999(val): #eli's function\n",
    "    if val == -9999: \n",
    "        return 0\n",
    "    else:\n",
    "        return val"
   ]
  },
  {
   "cell_type": "code",
   "execution_count": 126,
   "metadata": {},
   "outputs": [],
   "source": [
    "df_Co = df_Co.applymap(replace_neg9999)"
   ]
  },
  {
   "cell_type": "code",
   "execution_count": 127,
   "metadata": {},
   "outputs": [],
   "source": [
    "corr_co = df_Co.corr()"
   ]
  },
  {
   "cell_type": "code",
   "execution_count": 128,
   "metadata": {},
   "outputs": [
    {
     "data": {
      "text/plain": [
       "Sr_PPM   -0.010064\n",
       "Ga_PPM   -0.007801\n",
       "Ba_PPM   -0.007140\n",
       "Ce_PPM   -0.006100\n",
       "Hf_PPM   -0.005855\n",
       "La_PPM   -0.005776\n",
       "Sm_PPM   -0.004784\n",
       "Er_PPM   -0.004631\n",
       "Eu_PPM   -0.004442\n",
       "Name: Co_PPM, dtype: float64"
      ]
     },
     "execution_count": 128,
     "metadata": {},
     "output_type": "execute_result"
    }
   ],
   "source": [
    "corr_co['Co_PPM'].sort_values()[1:10]"
   ]
  },
  {
   "cell_type": "code",
   "execution_count": 131,
   "metadata": {},
   "outputs": [
    {
     "data": {
      "text/plain": [
       "Al_PPM       0.019193\n",
       "CaO_PPM      0.020583\n",
       "TiO2_PPM     0.030183\n",
       "Ni_PPM       0.061569\n",
       "Al2O3_PPM    0.066905\n",
       "S_PPM        0.075329\n",
       "P2O5_PPM     0.076420\n",
       "Y_PPM        0.082347\n",
       "SiO2_PPM     0.095274\n",
       "Pt_PPM       0.304031\n",
       "Cu_PPM       0.322329\n",
       "V2O5_PPM     0.408533\n",
       "Pd_PPM       0.527434\n",
       "Au_PPM       0.531379\n",
       "Co_PPM       1.000000\n",
       "Name: Co_PPM, dtype: float64"
      ]
     },
     "execution_count": 131,
     "metadata": {},
     "output_type": "execute_result"
    }
   ],
   "source": [
    "corr_co['Co_PPM'].sort_values()[-15:]"
   ]
  },
  {
   "cell_type": "code",
   "execution_count": 132,
   "metadata": {},
   "outputs": [],
   "source": [
    "only_minedex_co = df_Co[['Ni_PPM', 'Cu_PPM', 'Pd_PPM', 'Au_PPM', 'Pt_PPM', 'Rh_PPM', 'Fe_PPM', 'S_PPM', 'Ag_PPM', 'Co_PPM']].corr()"
   ]
  },
  {
   "cell_type": "code",
   "execution_count": 156,
   "metadata": {},
   "outputs": [
    {
     "data": {
      "text/plain": [
       "Ag_PPM   -0.003877\n",
       "Fe_PPM   -0.002419\n",
       "Rh_PPM    0.006835\n",
       "Ni_PPM    0.061569\n",
       "S_PPM     0.075329\n",
       "Pt_PPM    0.304031\n",
       "Cu_PPM    0.322329\n",
       "Pd_PPM    0.527434\n",
       "Au_PPM    0.531379\n",
       "Co_PPM    1.000000\n",
       "Name: Co_PPM, dtype: float64"
      ]
     },
     "execution_count": 156,
     "metadata": {},
     "output_type": "execute_result"
    }
   ],
   "source": [
    "only_minedex_co['Co_PPM'].sort_values()"
   ]
  },
  {
   "cell_type": "markdown",
   "metadata": {},
   "source": [
    "#### Germanium & Indium"
   ]
  },
  {
   "cell_type": "code",
   "execution_count": 113,
   "metadata": {},
   "outputs": [
    {
     "data": {
      "text/plain": [
       "<AxesSubplot:ylabel='Zn_PPM'>"
      ]
     },
     "execution_count": 113,
     "metadata": {},
     "output_type": "execute_result"
    },
    {
     "data": {
      "image/png": "[encoded data removed]",
      "text/plain": [
       "<Figure size 432x288 with 1 Axes>"
      ]
     },
     "metadata": {
      "needs_background": "light"
     },
     "output_type": "display_data"
    }
   ],
   "source": [
    "#some large outlier\n",
    "sns.boxplot(y = df_Ge_In[df_Ge_In['Zn_PPM'] >0]['Zn_PPM'])"
   ]
  },
  {
   "cell_type": "code",
   "execution_count": 114,
   "metadata": {},
   "outputs": [
    {
     "data": {
      "text/plain": [
       "count    3.845000e+03\n",
       "mean     5.499181e+02\n",
       "std      4.142836e+04\n",
       "min     -9.999000e+03\n",
       "25%      3.800000e+01\n",
       "50%      7.100000e+01\n",
       "75%      1.050000e+02\n",
       "max      1.270000e+06\n",
       "Name: Zn_PPM, dtype: float64"
      ]
     },
     "execution_count": 114,
     "metadata": {},
     "output_type": "execute_result"
    }
   ],
   "source": [
    "df_Ge_In['Zn_PPM'].describe()"
   ]
  },
  {
   "cell_type": "code",
   "execution_count": 115,
   "metadata": {},
   "outputs": [
    {
     "data": {
      "text/plain": [
       "(6, 88)"
      ]
     },
     "execution_count": 115,
     "metadata": {},
     "output_type": "execute_result"
    }
   ],
   "source": [
    "df_Ge_In[df_Ge_In['Zn_PPM'] >=300000].shape"
   ]
  },
  {
   "cell_type": "code",
   "execution_count": 116,
   "metadata": {},
   "outputs": [],
   "source": [
    "df_Ge_In = df_Ge_In[df_Ge_In['Zn_PPM'] <=300000]"
   ]
  },
  {
   "cell_type": "code",
   "execution_count": 117,
   "metadata": {},
   "outputs": [],
   "source": [
    "#only keep where Zn is positive\n",
    "df_Ge_In = df_Ge_In[df_Ge_In['Zn_PPM'] >0]"
   ]
  },
  {
   "cell_type": "code",
   "execution_count": 134,
   "metadata": {},
   "outputs": [],
   "source": [
    "#replace -9999 with 0\n",
    "df_Ge_In = df_Ge_In.applymap(replace_neg9999)"
   ]
  },
  {
   "cell_type": "code",
   "execution_count": 135,
   "metadata": {},
   "outputs": [],
   "source": [
    "df_Ge = df_Ge_In[df_Ge_In['Ge_PPM'] >0] #only keep where Ge > 0\n",
    "df_In = df_Ge_In[df_Ge_In['In_PPM'] >0] #only keep where In > 0"
   ]
  },
  {
   "cell_type": "code",
   "execution_count": 136,
   "metadata": {},
   "outputs": [
    {
     "data": {
      "text/plain": [
       "(1757, 88)"
      ]
     },
     "execution_count": 136,
     "metadata": {},
     "output_type": "execute_result"
    }
   ],
   "source": [
    "df_Ge.shape"
   ]
  },
  {
   "cell_type": "code",
   "execution_count": 137,
   "metadata": {},
   "outputs": [
    {
     "data": {
      "text/plain": [
       "(3349, 88)"
      ]
     },
     "execution_count": 137,
     "metadata": {},
     "output_type": "execute_result"
    }
   ],
   "source": [
    "df_In.shape"
   ]
  },
  {
   "cell_type": "code",
   "execution_count": 138,
   "metadata": {},
   "outputs": [],
   "source": [
    "corr_ge = df_Ge.corr()"
   ]
  },
  {
   "cell_type": "code",
   "execution_count": 139,
   "metadata": {},
   "outputs": [
    {
     "data": {
      "text/plain": [
       "Sc_PPM   -0.146697\n",
       "V_PPM    -0.133531\n",
       "Sr_PPM   -0.105762\n",
       "Ba_PPM   -0.081389\n",
       "P_PPM    -0.079056\n",
       "Cr_PPM   -0.077398\n",
       "Al_PPM   -0.052401\n",
       "La_PPM   -0.052343\n",
       "Ce_PPM   -0.052238\n",
       "Name: Ge_PPM, dtype: float64"
      ]
     },
     "execution_count": 139,
     "metadata": {},
     "output_type": "execute_result"
    }
   ],
   "source": [
    "corr_ge['Ge_PPM'].sort_values()[1:10]"
   ]
  },
  {
   "cell_type": "code",
   "execution_count": 143,
   "metadata": {},
   "outputs": [
    {
     "data": {
      "text/plain": [
       "Zr_PPM    0.311247\n",
       "Eu_PPM    0.316923\n",
       "Ho_PPM    0.350182\n",
       "Tb_PPM    0.369690\n",
       "Mo_PPM    0.467679\n",
       "W_PPM     0.570580\n",
       "In_PPM    0.631729\n",
       "Dy_PPM    0.786606\n",
       "Sn_PPM    0.793925\n",
       "Ge_PPM    1.000000\n",
       "Ir_PPM         NaN\n",
       "Os_PPM         NaN\n",
       "Rh_PPM         NaN\n",
       "Ru_PPM         NaN\n",
       "Si_PPM         NaN\n",
       "Name: Ge_PPM, dtype: float64"
      ]
     },
     "execution_count": 143,
     "metadata": {},
     "output_type": "execute_result"
    }
   ],
   "source": [
    "corr_ge['Ge_PPM'].sort_values()[-15:]"
   ]
  },
  {
   "cell_type": "markdown",
   "metadata": {},
   "source": [
    "The NAs are due to those columns being only 0s. "
   ]
  },
  {
   "cell_type": "code",
   "execution_count": 144,
   "metadata": {},
   "outputs": [
    {
     "data": {
      "text/html": [
       "<div>\n",
       "<style scoped>\n",
       "    .dataframe tbody tr th:only-of-type {\n",
       "        vertical-align: middle;\n",
       "    }\n",
       "\n",
       "    .dataframe tbody tr th {\n",
       "        vertical-align: top;\n",
       "    }\n",
       "\n",
       "    .dataframe thead th {\n",
       "        text-align: right;\n",
       "    }\n",
       "</style>\n",
       "<table border=\"1\" class=\"dataframe\">\n",
       "  <thead>\n",
       "    <tr style=\"text-align: right;\">\n",
       "      <th></th>\n",
       "      <th>Ir_PPM</th>\n",
       "      <th>Os_PPM</th>\n",
       "      <th>Rh_PPM</th>\n",
       "      <th>Ru_PPM</th>\n",
       "      <th>Si_PPM</th>\n",
       "    </tr>\n",
       "  </thead>\n",
       "  <tbody>\n",
       "    <tr>\n",
       "      <th>count</th>\n",
       "      <td>1757.0</td>\n",
       "      <td>1757.0</td>\n",
       "      <td>1757.0</td>\n",
       "      <td>1757.0</td>\n",
       "      <td>1757.0</td>\n",
       "    </tr>\n",
       "    <tr>\n",
       "      <th>mean</th>\n",
       "      <td>0.0</td>\n",
       "      <td>0.0</td>\n",
       "      <td>0.0</td>\n",
       "      <td>0.0</td>\n",
       "      <td>0.0</td>\n",
       "    </tr>\n",
       "    <tr>\n",
       "      <th>std</th>\n",
       "      <td>0.0</td>\n",
       "      <td>0.0</td>\n",
       "      <td>0.0</td>\n",
       "      <td>0.0</td>\n",
       "      <td>0.0</td>\n",
       "    </tr>\n",
       "    <tr>\n",
       "      <th>min</th>\n",
       "      <td>0.0</td>\n",
       "      <td>0.0</td>\n",
       "      <td>0.0</td>\n",
       "      <td>0.0</td>\n",
       "      <td>0.0</td>\n",
       "    </tr>\n",
       "    <tr>\n",
       "      <th>25%</th>\n",
       "      <td>0.0</td>\n",
       "      <td>0.0</td>\n",
       "      <td>0.0</td>\n",
       "      <td>0.0</td>\n",
       "      <td>0.0</td>\n",
       "    </tr>\n",
       "    <tr>\n",
       "      <th>50%</th>\n",
       "      <td>0.0</td>\n",
       "      <td>0.0</td>\n",
       "      <td>0.0</td>\n",
       "      <td>0.0</td>\n",
       "      <td>0.0</td>\n",
       "    </tr>\n",
       "    <tr>\n",
       "      <th>75%</th>\n",
       "      <td>0.0</td>\n",
       "      <td>0.0</td>\n",
       "      <td>0.0</td>\n",
       "      <td>0.0</td>\n",
       "      <td>0.0</td>\n",
       "    </tr>\n",
       "    <tr>\n",
       "      <th>max</th>\n",
       "      <td>0.0</td>\n",
       "      <td>0.0</td>\n",
       "      <td>0.0</td>\n",
       "      <td>0.0</td>\n",
       "      <td>0.0</td>\n",
       "    </tr>\n",
       "  </tbody>\n",
       "</table>\n",
       "</div>"
      ],
      "text/plain": [
       "       Ir_PPM  Os_PPM  Rh_PPM  Ru_PPM  Si_PPM\n",
       "count  1757.0  1757.0  1757.0  1757.0  1757.0\n",
       "mean      0.0     0.0     0.0     0.0     0.0\n",
       "std       0.0     0.0     0.0     0.0     0.0\n",
       "min       0.0     0.0     0.0     0.0     0.0\n",
       "25%       0.0     0.0     0.0     0.0     0.0\n",
       "50%       0.0     0.0     0.0     0.0     0.0\n",
       "75%       0.0     0.0     0.0     0.0     0.0\n",
       "max       0.0     0.0     0.0     0.0     0.0"
      ]
     },
     "execution_count": 144,
     "metadata": {},
     "output_type": "execute_result"
    }
   ],
   "source": [
    "df_Ge[['Ir_PPM', 'Os_PPM', 'Rh_PPM', 'Ru_PPM', 'Si_PPM']].describe()"
   ]
  },
  {
   "cell_type": "code",
   "execution_count": 78,
   "metadata": {},
   "outputs": [],
   "source": [
    "corr_in = df_In.corr()"
   ]
  },
  {
   "cell_type": "code",
   "execution_count": 79,
   "metadata": {},
   "outputs": [
    {
     "data": {
      "text/plain": [
       "Pb_PPM    -0.041332\n",
       "Hg_PPM    -0.032981\n",
       "MgO_PPM   -0.027845\n",
       "Y_PPM     -0.026111\n",
       "Mg_PPM    -0.021137\n",
       "Ca_PPM    -0.020207\n",
       "Cr_PPM    -0.018690\n",
       "K_PPM     -0.015507\n",
       "Na_PPM    -0.014170\n",
       "Name: In_PPM, dtype: float64"
      ]
     },
     "execution_count": 79,
     "metadata": {},
     "output_type": "execute_result"
    }
   ],
   "source": [
    "corr_in['In_PPM'].sort_values()[1:10]"
   ]
  },
  {
   "cell_type": "code",
   "execution_count": 80,
   "metadata": {},
   "outputs": [
    {
     "data": {
      "text/plain": [
       "Ga_PPM    0.107430\n",
       "Th_PPM    0.110577\n",
       "Sc_PPM    0.111411\n",
       "Rb_PPM    0.118366\n",
       "Co_PPM    0.132870\n",
       "Au_PPM    0.156278\n",
       "S_PPM     0.184135\n",
       "Pd_PPM    0.225004\n",
       "Ge_PPM    0.291826\n",
       "In_PPM    1.000000\n",
       "Name: In_PPM, dtype: float64"
      ]
     },
     "execution_count": 80,
     "metadata": {},
     "output_type": "execute_result"
    }
   ],
   "source": [
    "corr_in['In_PPM'].sort_values()[-10:]"
   ]
  },
  {
   "cell_type": "markdown",
   "metadata": {},
   "source": [
    "Cannot see Zn in there. "
   ]
  },
  {
   "cell_type": "code",
   "execution_count": 148,
   "metadata": {},
   "outputs": [
    {
     "data": {
      "text/plain": [
       "0.0313333443703401"
      ]
     },
     "execution_count": 148,
     "metadata": {},
     "output_type": "execute_result"
    }
   ],
   "source": [
    "corr_in['Ge_PPM']['Zn_PPM']"
   ]
  },
  {
   "cell_type": "code",
   "execution_count": 154,
   "metadata": {},
   "outputs": [
    {
     "data": {
      "text/plain": [
       "0.03517641818029086"
      ]
     },
     "execution_count": 154,
     "metadata": {},
     "output_type": "execute_result"
    }
   ],
   "source": [
    "corr_in['Ge_PPM']['Cu_PPM']"
   ]
  },
  {
   "cell_type": "code",
   "execution_count": 147,
   "metadata": {},
   "outputs": [
    {
     "data": {
      "text/plain": [
       "0.07567834689865416"
      ]
     },
     "execution_count": 147,
     "metadata": {},
     "output_type": "execute_result"
    }
   ],
   "source": [
    "corr_in['In_PPM']['Zn_PPM']"
   ]
  },
  {
   "cell_type": "code",
   "execution_count": 155,
   "metadata": {},
   "outputs": [
    {
     "data": {
      "text/plain": [
       "0.07129328862944276"
      ]
     },
     "execution_count": 155,
     "metadata": {},
     "output_type": "execute_result"
    }
   ],
   "source": [
    "corr_in['In_PPM']['Cu_PPM']"
   ]
  }
 ],
 "metadata": {
  "kernelspec": {
   "display_name": "Python 3",
   "language": "python",
   "name": "python3"
  },
  "language_info": {
   "codemirror_mode": {
    "name": "ipython",
    "version": 3
   },
   "file_extension": ".py",
   "mimetype": "text/x-python",
   "name": "python",
   "nbconvert_exporter": "python",
   "pygments_lexer": "ipython3",
   "version": "3.8.5"
  }
 },
 "nbformat": 4,
 "nbformat_minor": 4
}
