{
 "cells": [
  {
   "cell_type": "markdown",
   "metadata": {},
   "source": [
    "# OSNACA exploratory data analysis"
   ]
  },
  {
   "cell_type": "markdown",
   "metadata": {},
   "source": [
    "- Stands for Ore Samples Normalised to Average Crustal Abundance\n",
    "- Includes 62 ore, pathfinder, major and lithogeochemical elements\n",
    "- No dates for sample collections - says 2011 onwards on https://aus01.safelinks.protection.outlook.com/?url=http%3A%2F%2Fwww.cet.edu.au%2Fresearch-projects%2Fspecial-projects%2Fprojects%2Fosnaca-ore-samples-normalised-to-average-crustal-abundance&data=04%7C01%7C21456546%40student.uwa.edu.au%7C5d0b26557e09433fb7a108d956389098%7C05894af0cb2846d8871674cdb46e2226%7C1%7C0%7C637635623274982812%7CUnknown%7CTWFpbGZsb3d8eyJWIjoiMC4wLjAwMDAiLCJQIjoiV2luMzIiLCJBTiI6Ik1haWwiLCJXVCI6Mn0%3D%7C1000&sdata=jSiZSJixoDiRRuyTUrhYBB4wLKU1RJSNJA3ka0o2vII%3D&reserved=0"
   ]
  },
  {
   "cell_type": "markdown",
   "metadata": {},
   "source": [
    "## Read data and metadata"
   ]
  },
  {
   "cell_type": "code",
   "execution_count": 4,
   "metadata": {},
   "outputs": [],
   "source": [
    "import pandas as pd"
   ]
  },
  {
   "cell_type": "code",
   "execution_count": 5,
   "metadata": {},
   "outputs": [],
   "source": [
    "osnaca = pd.read_excel(\"osnaca-data.xlsx\",sheet_name=\"Data\")\n",
    "osnaca_conclurry = pd.read_excel(\"osnaca-data.xlsx\",sheet_name=\"Cloncurry Supplement\")\n",
    "osnaca_metadata_sheet1 = pd.read_excel(\"osnaca-metadata.xlsx\",sheet_name=\"Ore samples\")"
   ]
  },
  {
   "cell_type": "markdown",
   "metadata": {},
   "source": [
    "## Metadata useful information"
   ]
  },
  {
   "cell_type": "markdown",
   "metadata": {},
   "source": [
    "- Data was collected in 58 countries. \n",
    "- Most samples were collected in Australia, then USA, Canada, China and South Africa. "
   ]
  },
  {
   "cell_type": "code",
   "execution_count": 6,
   "metadata": {},
   "outputs": [
    {
     "data": {
      "text/plain": [
       "58"
      ]
     },
     "execution_count": 6,
     "metadata": {},
     "output_type": "execute_result"
    }
   ],
   "source": [
    "osnaca_metadata_sheet1['Country'].nunique()"
   ]
  },
  {
   "cell_type": "code",
   "execution_count": 20,
   "metadata": {},
   "outputs": [
    {
     "data": {
      "text/plain": [
       "Australia             536\n",
       "USA                    74\n",
       "Canada                 74\n",
       "China                  38\n",
       "South Africa           36\n",
       "Russia                 23\n",
       "Japan                  21\n",
       "Indonesia              17\n",
       "Papua New Guinea       16\n",
       "Brazil                 16\n",
       "Zambia                 15\n",
       "New Zealand            14\n",
       "Austraila              13\n",
       "Philippines            13\n",
       "India                  12\n",
       "Myanmar                12\n",
       "DRC                    11\n",
       "Laos                   10\n",
       "Chile                   9\n",
       "Guinea                  9\n",
       "Ireland                 9\n",
       "Mali                    8\n",
       "Thailand                8\n",
       "Namibia                 8\n",
       "Germany                 7\n",
       "Austria                 7\n",
       "Vietnam                 7\n",
       "Zimbabwe                6\n",
       "Portugal                6\n",
       "Tunisia                 5\n",
       "Turkey                  5\n",
       "Poland                  4\n",
       "Ghana                   4\n",
       "Finland                 4\n",
       "Spain                   4\n",
       "Pakistan                3\n",
       "Egypt                   3\n",
       "Peru                    3\n",
       "Bulgaria                3\n",
       "Romania                 2\n",
       "Wales                   2\n",
       "Mauritania              2\n",
       "Italy                   2\n",
       "Gabon                   2\n",
       "Switzerland             2\n",
       "Mongolia                1\n",
       "Greece                  1\n",
       "Bolivia                 1\n",
       "Fiji                    1\n",
       "Canada                  1\n",
       "-                       1\n",
       "Uganda                  1\n",
       "Dominican Republic      1\n",
       "Senegal                 1\n",
       "Malaysia                1\n",
       "Venezuela               1\n",
       "Saudi Arabia            1\n",
       "Kosovo                  1\n",
       "Name: Country, dtype: int64"
      ]
     },
     "execution_count": 20,
     "metadata": {},
     "output_type": "execute_result"
    }
   ],
   "source": [
    "osnaca_metadata_sheet1['Country'].value_counts()"
   ]
  },
  {
   "cell_type": "markdown",
   "metadata": {},
   "source": [
    "- 16 classes of deposits\n",
    "- More of orogenic, VHMS, sediment hosted Pd-Zn types, Epithermal. "
   ]
  },
  {
   "cell_type": "code",
   "execution_count": 24,
   "metadata": {},
   "outputs": [
    {
     "data": {
      "text/plain": [
       "16"
      ]
     },
     "execution_count": 24,
     "metadata": {},
     "output_type": "execute_result"
    }
   ],
   "source": [
    "osnaca_metadata_sheet1['Class'].nunique()"
   ]
  },
  {
   "cell_type": "code",
   "execution_count": 25,
   "metadata": {},
   "outputs": [
    {
     "data": {
      "text/plain": [
       "Orogenic - Intrusion Related Au    332\n",
       "VHMS                               134\n",
       "Sediment Hosted Pb-Zn              115\n",
       "Epithermal                         109\n",
       "IOCG                                61\n",
       "Porphyry                            58\n",
       "Magmatic Ni-Cu-PGE                  53\n",
       "Skarn                               51\n",
       "Other                               50\n",
       "Sediment Hosted Cu                  40\n",
       "Granite Related                     35\n",
       "Fe                                  21\n",
       "Carlin Au                           20\n",
       "Layered Intrusion Cr-PGE-V          12\n",
       "Uranium                              8\n",
       "Podiform Cr                          1\n",
       "Name: Class, dtype: int64"
      ]
     },
     "execution_count": 25,
     "metadata": {},
     "output_type": "execute_result"
    }
   ],
   "source": [
    "osnaca_metadata_sheet1['Class'].value_counts()"
   ]
  },
  {
   "cell_type": "markdown",
   "metadata": {},
   "source": [
    "## Prepare dataset"
   ]
  },
  {
   "cell_type": "code",
   "execution_count": 8,
   "metadata": {},
   "outputs": [
    {
     "data": {
      "text/html": [
       "<div>\n",
       "<style scoped>\n",
       "    .dataframe tbody tr th:only-of-type {\n",
       "        vertical-align: middle;\n",
       "    }\n",
       "\n",
       "    .dataframe tbody tr th {\n",
       "        vertical-align: top;\n",
       "    }\n",
       "\n",
       "    .dataframe thead th {\n",
       "        text-align: right;\n",
       "    }\n",
       "</style>\n",
       "<table border=\"1\" class=\"dataframe\">\n",
       "  <thead>\n",
       "    <tr style=\"text-align: right;\">\n",
       "      <th></th>\n",
       "      <th>Sample</th>\n",
       "      <th>Code</th>\n",
       "      <th>Au (FA)</th>\n",
       "      <th>Pt</th>\n",
       "      <th>Pd</th>\n",
       "      <th>Au (AR)</th>\n",
       "      <th>Bi</th>\n",
       "      <th>Te</th>\n",
       "      <th>Hg</th>\n",
       "      <th>Ag</th>\n",
       "      <th>...</th>\n",
       "      <th>Y</th>\n",
       "      <th>Zn</th>\n",
       "      <th>B</th>\n",
       "      <th>Hf</th>\n",
       "      <th>Si</th>\n",
       "      <th>Zr</th>\n",
       "      <th>Be</th>\n",
       "      <th>Ga</th>\n",
       "      <th>Ge</th>\n",
       "      <th>Wt Tot</th>\n",
       "    </tr>\n",
       "  </thead>\n",
       "  <tbody>\n",
       "    <tr>\n",
       "      <th>0</th>\n",
       "      <td>700001</td>\n",
       "      <td>NaN</td>\n",
       "      <td>0.438</td>\n",
       "      <td>0.002</td>\n",
       "      <td>0.002</td>\n",
       "      <td>0.362</td>\n",
       "      <td>10.60</td>\n",
       "      <td>0.02</td>\n",
       "      <td>0.39</td>\n",
       "      <td>91.5</td>\n",
       "      <td>...</td>\n",
       "      <td>1.2</td>\n",
       "      <td>153000</td>\n",
       "      <td>-20</td>\n",
       "      <td>0.4</td>\n",
       "      <td>34200</td>\n",
       "      <td>60</td>\n",
       "      <td>-1.0</td>\n",
       "      <td>11.0</td>\n",
       "      <td>1</td>\n",
       "      <td>159</td>\n",
       "    </tr>\n",
       "    <tr>\n",
       "      <th>1</th>\n",
       "      <td>700002</td>\n",
       "      <td>NaN</td>\n",
       "      <td>0.093</td>\n",
       "      <td>0.001</td>\n",
       "      <td>0.002</td>\n",
       "      <td>0.095</td>\n",
       "      <td>125.00</td>\n",
       "      <td>0.22</td>\n",
       "      <td>0.12</td>\n",
       "      <td>44.0</td>\n",
       "      <td>...</td>\n",
       "      <td>18.5</td>\n",
       "      <td>3780</td>\n",
       "      <td>-20</td>\n",
       "      <td>0.2</td>\n",
       "      <td>114000</td>\n",
       "      <td>20</td>\n",
       "      <td>-1.0</td>\n",
       "      <td>2.0</td>\n",
       "      <td>-1</td>\n",
       "      <td>143</td>\n",
       "    </tr>\n",
       "    <tr>\n",
       "      <th>2</th>\n",
       "      <td>700003</td>\n",
       "      <td>NaN</td>\n",
       "      <td>1.41</td>\n",
       "      <td>0.002</td>\n",
       "      <td>0.002</td>\n",
       "      <td>1.39</td>\n",
       "      <td>120.00</td>\n",
       "      <td>0.02</td>\n",
       "      <td>62.9</td>\n",
       "      <td>215.0</td>\n",
       "      <td>...</td>\n",
       "      <td>0.3</td>\n",
       "      <td>219000</td>\n",
       "      <td>-20</td>\n",
       "      <td>-0.2</td>\n",
       "      <td>71500</td>\n",
       "      <td>-10</td>\n",
       "      <td>-1.0</td>\n",
       "      <td>-1.0</td>\n",
       "      <td>2</td>\n",
       "      <td>204</td>\n",
       "    </tr>\n",
       "    <tr>\n",
       "      <th>3</th>\n",
       "      <td>700004</td>\n",
       "      <td>1</td>\n",
       "      <td>0.096</td>\n",
       "      <td>0.003</td>\n",
       "      <td>0.005</td>\n",
       "      <td>0.086</td>\n",
       "      <td>0.72</td>\n",
       "      <td>0.80</td>\n",
       "      <td>0.03</td>\n",
       "      <td>2.5</td>\n",
       "      <td>...</td>\n",
       "      <td>6.3</td>\n",
       "      <td>755</td>\n",
       "      <td>-20</td>\n",
       "      <td>2.0</td>\n",
       "      <td>244000</td>\n",
       "      <td>70</td>\n",
       "      <td>-1.0</td>\n",
       "      <td>-1.0</td>\n",
       "      <td>-1</td>\n",
       "      <td>185</td>\n",
       "    </tr>\n",
       "    <tr>\n",
       "      <th>4</th>\n",
       "      <td>700005</td>\n",
       "      <td>NaN</td>\n",
       "      <td>2.9</td>\n",
       "      <td>0.003</td>\n",
       "      <td>0.005</td>\n",
       "      <td>3.94</td>\n",
       "      <td>0.34</td>\n",
       "      <td>0.06</td>\n",
       "      <td>4.01</td>\n",
       "      <td>162.0</td>\n",
       "      <td>...</td>\n",
       "      <td>4.5</td>\n",
       "      <td>173000</td>\n",
       "      <td>-20</td>\n",
       "      <td>-0.2</td>\n",
       "      <td>142000</td>\n",
       "      <td>-10</td>\n",
       "      <td>-1.0</td>\n",
       "      <td>-1.0</td>\n",
       "      <td>2</td>\n",
       "      <td>280</td>\n",
       "    </tr>\n",
       "  </tbody>\n",
       "</table>\n",
       "<p>5 rows × 69 columns</p>\n",
       "</div>"
      ],
      "text/plain": [
       "   Sample Code Au (FA)     Pt     Pd Au (AR)      Bi    Te    Hg     Ag  ...  \\\n",
       "0  700001  NaN   0.438  0.002  0.002   0.362   10.60  0.02  0.39   91.5  ...   \n",
       "1  700002  NaN   0.093  0.001  0.002   0.095  125.00  0.22  0.12   44.0  ...   \n",
       "2  700003  NaN    1.41  0.002  0.002    1.39  120.00  0.02  62.9  215.0  ...   \n",
       "3  700004    1   0.096  0.003  0.005   0.086    0.72  0.80  0.03    2.5  ...   \n",
       "4  700005  NaN     2.9  0.003  0.005    3.94    0.34  0.06  4.01  162.0  ...   \n",
       "\n",
       "      Y      Zn   B   Hf      Si  Zr   Be    Ga  Ge  Wt Tot  \n",
       "0   1.2  153000 -20  0.4   34200  60 -1.0  11.0   1     159  \n",
       "1  18.5    3780 -20  0.2  114000  20 -1.0   2.0  -1     143  \n",
       "2   0.3  219000 -20 -0.2   71500 -10 -1.0  -1.0   2     204  \n",
       "3   6.3     755 -20  2.0  244000  70 -1.0  -1.0  -1     185  \n",
       "4   4.5  173000 -20 -0.2  142000 -10 -1.0  -1.0   2     280  \n",
       "\n",
       "[5 rows x 69 columns]"
      ]
     },
     "execution_count": 8,
     "metadata": {},
     "output_type": "execute_result"
    }
   ],
   "source": [
    "osnaca.head() #first lines"
   ]
  },
  {
   "cell_type": "code",
   "execution_count": 26,
   "metadata": {},
   "outputs": [
    {
     "data": {
      "text/html": [
       "<div>\n",
       "<style scoped>\n",
       "    .dataframe tbody tr th:only-of-type {\n",
       "        vertical-align: middle;\n",
       "    }\n",
       "\n",
       "    .dataframe tbody tr th {\n",
       "        vertical-align: top;\n",
       "    }\n",
       "\n",
       "    .dataframe thead th {\n",
       "        text-align: right;\n",
       "    }\n",
       "</style>\n",
       "<table border=\"1\" class=\"dataframe\">\n",
       "  <thead>\n",
       "    <tr style=\"text-align: right;\">\n",
       "      <th></th>\n",
       "      <th>Sample</th>\n",
       "      <th>Code</th>\n",
       "      <th>Code Tester</th>\n",
       "      <th>Au1</th>\n",
       "      <th>Pt</th>\n",
       "      <th>Pd</th>\n",
       "      <th>Au(AR)</th>\n",
       "      <th>Bi</th>\n",
       "      <th>Te</th>\n",
       "      <th>Hg</th>\n",
       "      <th>...</th>\n",
       "      <th>Y</th>\n",
       "      <th>Zn</th>\n",
       "      <th>B</th>\n",
       "      <th>Hf</th>\n",
       "      <th>Si</th>\n",
       "      <th>Zr</th>\n",
       "      <th>Be</th>\n",
       "      <th>Ga</th>\n",
       "      <th>Ge</th>\n",
       "      <th>Wt Total</th>\n",
       "    </tr>\n",
       "  </thead>\n",
       "  <tbody>\n",
       "    <tr>\n",
       "      <th>0</th>\n",
       "      <td>ALT010</td>\n",
       "      <td>NaN</td>\n",
       "      <td>NaN</td>\n",
       "      <td>0.039</td>\n",
       "      <td>0.002</td>\n",
       "      <td>-0.001</td>\n",
       "      <td>NaN</td>\n",
       "      <td>1.20</td>\n",
       "      <td>0.44</td>\n",
       "      <td>12.80</td>\n",
       "      <td>...</td>\n",
       "      <td>7.1</td>\n",
       "      <td>6760</td>\n",
       "      <td>-20</td>\n",
       "      <td>1.2</td>\n",
       "      <td>91800</td>\n",
       "      <td>40</td>\n",
       "      <td>4.2</td>\n",
       "      <td>16.6</td>\n",
       "      <td>4</td>\n",
       "      <td>164.0</td>\n",
       "    </tr>\n",
       "    <tr>\n",
       "      <th>1</th>\n",
       "      <td>ALT024</td>\n",
       "      <td>NaN</td>\n",
       "      <td>NaN</td>\n",
       "      <td>0.011</td>\n",
       "      <td>-0.001</td>\n",
       "      <td>0.002</td>\n",
       "      <td>NaN</td>\n",
       "      <td>0.20</td>\n",
       "      <td>0.10</td>\n",
       "      <td>0.02</td>\n",
       "      <td>...</td>\n",
       "      <td>14.6</td>\n",
       "      <td>1390</td>\n",
       "      <td>-20</td>\n",
       "      <td>22.0</td>\n",
       "      <td>64300</td>\n",
       "      <td>900</td>\n",
       "      <td>12.2</td>\n",
       "      <td>25.8</td>\n",
       "      <td>3</td>\n",
       "      <td>140.0</td>\n",
       "    </tr>\n",
       "    <tr>\n",
       "      <th>2</th>\n",
       "      <td>ALT073</td>\n",
       "      <td>NaN</td>\n",
       "      <td>NaN</td>\n",
       "      <td>0.436</td>\n",
       "      <td>0.004</td>\n",
       "      <td>0.007</td>\n",
       "      <td>NaN</td>\n",
       "      <td>0.30</td>\n",
       "      <td>0.22</td>\n",
       "      <td>1.30</td>\n",
       "      <td>...</td>\n",
       "      <td>15.1</td>\n",
       "      <td>1510</td>\n",
       "      <td>-20</td>\n",
       "      <td>2.0</td>\n",
       "      <td>127000</td>\n",
       "      <td>70</td>\n",
       "      <td>17.0</td>\n",
       "      <td>32.4</td>\n",
       "      <td>12</td>\n",
       "      <td>109.0</td>\n",
       "    </tr>\n",
       "    <tr>\n",
       "      <th>3</th>\n",
       "      <td>ALT074</td>\n",
       "      <td>NaN</td>\n",
       "      <td>NaN</td>\n",
       "      <td>0.508</td>\n",
       "      <td>0.002</td>\n",
       "      <td>0.002</td>\n",
       "      <td>NaN</td>\n",
       "      <td>24.70</td>\n",
       "      <td>1.80</td>\n",
       "      <td>3.91</td>\n",
       "      <td>...</td>\n",
       "      <td>3.6</td>\n",
       "      <td>14500</td>\n",
       "      <td>20</td>\n",
       "      <td>0.4</td>\n",
       "      <td>40300</td>\n",
       "      <td>4</td>\n",
       "      <td>0.9</td>\n",
       "      <td>5.6</td>\n",
       "      <td>1</td>\n",
       "      <td>NaN</td>\n",
       "    </tr>\n",
       "    <tr>\n",
       "      <th>4</th>\n",
       "      <td>ART013</td>\n",
       "      <td>1.0</td>\n",
       "      <td>1.0</td>\n",
       "      <td>-0.001</td>\n",
       "      <td>0.001</td>\n",
       "      <td>-0.001</td>\n",
       "      <td>NaN</td>\n",
       "      <td>0.08</td>\n",
       "      <td>-0.02</td>\n",
       "      <td>-0.01</td>\n",
       "      <td>...</td>\n",
       "      <td>41.0</td>\n",
       "      <td>225</td>\n",
       "      <td>80</td>\n",
       "      <td>5.6</td>\n",
       "      <td>248000</td>\n",
       "      <td>156</td>\n",
       "      <td>6.0</td>\n",
       "      <td>33.4</td>\n",
       "      <td>1</td>\n",
       "      <td>NaN</td>\n",
       "    </tr>\n",
       "  </tbody>\n",
       "</table>\n",
       "<p>5 rows × 70 columns</p>\n",
       "</div>"
      ],
      "text/plain": [
       "   Sample  Code  Code Tester    Au1     Pt     Pd  Au(AR)     Bi    Te     Hg  \\\n",
       "0  ALT010   NaN          NaN  0.039  0.002 -0.001     NaN   1.20  0.44  12.80   \n",
       "1  ALT024   NaN          NaN  0.011 -0.001  0.002     NaN   0.20  0.10   0.02   \n",
       "2  ALT073   NaN          NaN  0.436  0.004  0.007     NaN   0.30  0.22   1.30   \n",
       "3  ALT074   NaN          NaN  0.508  0.002  0.002     NaN  24.70  1.80   3.91   \n",
       "4  ART013   1.0          1.0 -0.001  0.001 -0.001     NaN   0.08 -0.02  -0.01   \n",
       "\n",
       "   ...     Y     Zn   B    Hf      Si   Zr    Be    Ga  Ge  Wt Total  \n",
       "0  ...   7.1   6760 -20   1.2   91800   40   4.2  16.6   4     164.0  \n",
       "1  ...  14.6   1390 -20  22.0   64300  900  12.2  25.8   3     140.0  \n",
       "2  ...  15.1   1510 -20   2.0  127000   70  17.0  32.4  12     109.0  \n",
       "3  ...   3.6  14500  20   0.4   40300    4   0.9   5.6   1       NaN  \n",
       "4  ...  41.0    225  80   5.6  248000  156   6.0  33.4   1       NaN  \n",
       "\n",
       "[5 rows x 70 columns]"
      ]
     },
     "execution_count": 26,
     "metadata": {},
     "output_type": "execute_result"
    }
   ],
   "source": [
    "osnaca_conclurry.head()"
   ]
  },
  {
   "cell_type": "code",
   "execution_count": 9,
   "metadata": {},
   "outputs": [
    {
     "name": "stdout",
     "output_type": "stream",
     "text": [
      "<class 'pandas.core.frame.DataFrame'>\n",
      "RangeIndex: 1139 entries, 0 to 1138\n",
      "Data columns (total 69 columns):\n",
      " #   Column   Non-Null Count  Dtype  \n",
      "---  ------   --------------  -----  \n",
      " 0   Sample   1139 non-null   int64  \n",
      " 1   Code     202 non-null    object \n",
      " 2   Au (FA)  1139 non-null   object \n",
      " 3   Pt       1139 non-null   object \n",
      " 4   Pd       1139 non-null   object \n",
      " 5   Au (AR)  1139 non-null   object \n",
      " 6   Bi       1139 non-null   float64\n",
      " 7   Te       1139 non-null   float64\n",
      " 8   Hg       1139 non-null   object \n",
      " 9   Ag       1139 non-null   float64\n",
      " 10  Al       1139 non-null   int64  \n",
      " 11  As       1139 non-null   int64  \n",
      " 12  Ca       1139 non-null   int64  \n",
      " 13  Cd       1139 non-null   float64\n",
      " 14  Co       1139 non-null   int64  \n",
      " 15  Cr       1139 non-null   int64  \n",
      " 16  Cs       1139 non-null   float64\n",
      " 17  Cu       1139 non-null   int64  \n",
      " 18  Fe       1139 non-null   int64  \n",
      " 19  In       1139 non-null   float64\n",
      " 20  K        1139 non-null   int64  \n",
      " 21  La       1139 non-null   float64\n",
      " 22  Ce       1139 non-null   float64\n",
      " 23  Pr       1139 non-null   float64\n",
      " 24  Nd       1139 non-null   float64\n",
      " 25  Sm       1139 non-null   float64\n",
      " 26  Eu       1139 non-null   float64\n",
      " 27  Gd       1139 non-null   float64\n",
      " 28  Tb       1139 non-null   float64\n",
      " 29  Dy       1139 non-null   float64\n",
      " 30  Ho       1139 non-null   float64\n",
      " 31  Er       1139 non-null   float64\n",
      " 32  Tm       1139 non-null   float64\n",
      " 33  Yb       1139 non-null   float64\n",
      " 34  Lu       1139 non-null   float64\n",
      " 35  Li       1139 non-null   float64\n",
      " 36  Mg       1139 non-null   int64  \n",
      " 37  Mn       1139 non-null   int64  \n",
      " 38  Mo       1139 non-null   float64\n",
      " 39  Na       1139 non-null   int64  \n",
      " 40  Nb       1139 non-null   float64\n",
      " 41  Ni       1139 non-null   int64  \n",
      " 42  P        1139 non-null   int64  \n",
      " 43  Pb       1139 non-null   int64  \n",
      " 44  Rb       1139 non-null   float64\n",
      " 45  Re       1139 non-null   float64\n",
      " 46  S        1139 non-null   int64  \n",
      " 47  Sb       1139 non-null   float64\n",
      " 48  Sc       1139 non-null   int64  \n",
      " 49  Se       1139 non-null   int64  \n",
      " 50  Sn       1139 non-null   int64  \n",
      " 51  Sr       1139 non-null   int64  \n",
      " 52  Ta       1139 non-null   float64\n",
      " 53  Th       1139 non-null   float64\n",
      " 54  Ti       1139 non-null   int64  \n",
      " 55  Tl       1139 non-null   float64\n",
      " 56  U        1139 non-null   float64\n",
      " 57  V        1139 non-null   int64  \n",
      " 58  W        1139 non-null   float64\n",
      " 59  Y        1139 non-null   float64\n",
      " 60  Zn       1139 non-null   int64  \n",
      " 61  B        1139 non-null   int64  \n",
      " 62  Hf       1139 non-null   float64\n",
      " 63  Si       1139 non-null   int64  \n",
      " 64  Zr       1139 non-null   int64  \n",
      " 65  Be       1139 non-null   float64\n",
      " 66  Ga       1139 non-null   float64\n",
      " 67  Ge       1139 non-null   int64  \n",
      " 68  Wt Tot   564 non-null    object \n",
      "dtypes: float64(35), int64(27), object(7)\n",
      "memory usage: 614.1+ KB\n"
     ]
    }
   ],
   "source": [
    "osnaca.info() #1139 rows, 69 columns"
   ]
  },
  {
   "cell_type": "code",
   "execution_count": 28,
   "metadata": {},
   "outputs": [
    {
     "name": "stdout",
     "output_type": "stream",
     "text": [
      "<class 'pandas.core.frame.DataFrame'>\n",
      "RangeIndex: 72 entries, 0 to 71\n",
      "Data columns (total 70 columns):\n",
      " #   Column       Non-Null Count  Dtype  \n",
      "---  ------       --------------  -----  \n",
      " 0   Sample       72 non-null     object \n",
      " 1   Code         15 non-null     float64\n",
      " 2   Code Tester  15 non-null     float64\n",
      " 3   Au1          72 non-null     float64\n",
      " 4   Pt           72 non-null     float64\n",
      " 5   Pd           72 non-null     float64\n",
      " 6   Au(AR)       0 non-null      float64\n",
      " 7   Bi           72 non-null     float64\n",
      " 8   Te           72 non-null     float64\n",
      " 9   Hg           72 non-null     float64\n",
      " 10  Ag           72 non-null     float64\n",
      " 11  Al           72 non-null     int64  \n",
      " 12  As           72 non-null     int64  \n",
      " 13  Ca           72 non-null     int64  \n",
      " 14  Cd           72 non-null     float64\n",
      " 15  Co           72 non-null     int64  \n",
      " 16  Cr           72 non-null     int64  \n",
      " 17  Cs           72 non-null     float64\n",
      " 18  Cu           72 non-null     int64  \n",
      " 19  Fe           72 non-null     int64  \n",
      " 20  In           72 non-null     float64\n",
      " 21  K            72 non-null     int64  \n",
      " 22  La           72 non-null     float64\n",
      " 23  Ce           72 non-null     float64\n",
      " 24  Pr           72 non-null     float64\n",
      " 25  Nd           72 non-null     float64\n",
      " 26  Sm           72 non-null     float64\n",
      " 27  Eu           72 non-null     float64\n",
      " 28  Gd           72 non-null     float64\n",
      " 29  Tb           72 non-null     float64\n",
      " 30  Dy           72 non-null     float64\n",
      " 31  Ho           72 non-null     float64\n",
      " 32  Er           72 non-null     float64\n",
      " 33  Tm           72 non-null     float64\n",
      " 34  Yb           72 non-null     float64\n",
      " 35  Lu           72 non-null     float64\n",
      " 36  Li           72 non-null     float64\n",
      " 37  Mg           72 non-null     int64  \n",
      " 38  Mn           72 non-null     int64  \n",
      " 39  Mo           72 non-null     float64\n",
      " 40  Na           72 non-null     int64  \n",
      " 41  Nb           72 non-null     float64\n",
      " 42  Ni           72 non-null     int64  \n",
      " 43  P            72 non-null     int64  \n",
      " 44  Pb           72 non-null     int64  \n",
      " 45  Rb           72 non-null     float64\n",
      " 46  Re           72 non-null     float64\n",
      " 47  S            72 non-null     int64  \n",
      " 48  Sb           72 non-null     float64\n",
      " 49  Sc           72 non-null     int64  \n",
      " 50  Se           72 non-null     int64  \n",
      " 51  Sn           72 non-null     int64  \n",
      " 52  Sr           72 non-null     int64  \n",
      " 53  Ta           72 non-null     float64\n",
      " 54  Th           72 non-null     float64\n",
      " 55  Ti           72 non-null     int64  \n",
      " 56  Tl           72 non-null     float64\n",
      " 57  U            72 non-null     float64\n",
      " 58  V            72 non-null     int64  \n",
      " 59  W            72 non-null     float64\n",
      " 60  Y            72 non-null     float64\n",
      " 61  Zn           72 non-null     int64  \n",
      " 62  B            72 non-null     int64  \n",
      " 63  Hf           72 non-null     float64\n",
      " 64  Si           72 non-null     int64  \n",
      " 65  Zr           72 non-null     int64  \n",
      " 66  Be           72 non-null     float64\n",
      " 67  Ga           72 non-null     float64\n",
      " 68  Ge           72 non-null     int64  \n",
      " 69  Wt Total     30 non-null     float64\n",
      "dtypes: float64(43), int64(26), object(1)\n",
      "memory usage: 39.5+ KB\n"
     ]
    }
   ],
   "source": [
    "osnaca_conclurry.info() #72 rows, 70 columns"
   ]
  },
  {
   "cell_type": "markdown",
   "metadata": {},
   "source": [
    "### Merge two first sheets"
   ]
  },
  {
   "cell_type": "code",
   "execution_count": 7,
   "metadata": {},
   "outputs": [
    {
     "data": {
      "text/plain": [
       "{'Au (AR)', 'Au (FA)', 'Wt Tot'}"
      ]
     },
     "execution_count": 7,
     "metadata": {},
     "output_type": "execute_result"
    }
   ],
   "source": [
    "set(osnaca.columns).difference(set(osnaca_conclurry.columns))"
   ]
  },
  {
   "cell_type": "code",
   "execution_count": 8,
   "metadata": {},
   "outputs": [
    {
     "data": {
      "text/plain": [
       "{'Au(AR)', 'Au1', 'Code Tester', 'Wt Total'}"
      ]
     },
     "execution_count": 8,
     "metadata": {},
     "output_type": "execute_result"
    }
   ],
   "source": [
    "set(osnaca_conclurry.columns).difference(set(osnaca.columns))"
   ]
  },
  {
   "cell_type": "code",
   "execution_count": 9,
   "metadata": {},
   "outputs": [],
   "source": [
    "#assumed Au1 = Au (FA)\n",
    "osnaca_cloncurry = osnaca_conclurry.rename(columns={\"Wt Total\": \"Wt Tot\", \"Au(AR)\": \"Au (AR)\", \"Au1\": \"Au (FA)\"})\n",
    "osnaca_cloncurry = osnaca_cloncurry.drop(['Code Tester'], axis = 1)"
   ]
  },
  {
   "cell_type": "code",
   "execution_count": 10,
   "metadata": {},
   "outputs": [],
   "source": [
    "#merge the Cloncurry data with the other samples\n",
    "osnaca_all = pd.concat([osnaca, osnaca_cloncurry])"
   ]
  },
  {
   "cell_type": "markdown",
   "metadata": {},
   "source": [
    "### Nulls"
   ]
  },
  {
   "cell_type": "code",
   "execution_count": 50,
   "metadata": {},
   "outputs": [
    {
     "data": {
      "text/plain": [
       "Code       994\n",
       "Au (AR)     72\n",
       "Wt Tot     617\n",
       "dtype: int64"
      ]
     },
     "execution_count": 50,
     "metadata": {},
     "output_type": "execute_result"
    }
   ],
   "source": [
    "#we're not worried about these columns so should be okay for now\n",
    "osnaca_all.isna().sum()[osnaca_all.isna().sum() > 0]"
   ]
  },
  {
   "cell_type": "code",
   "execution_count": 51,
   "metadata": {},
   "outputs": [
    {
     "data": {
      "text/plain": [
       "1683"
      ]
     },
     "execution_count": 51,
     "metadata": {},
     "output_type": "execute_result"
    }
   ],
   "source": [
    "osnaca_all.isna().sum().sum()"
   ]
  },
  {
   "cell_type": "markdown",
   "metadata": {},
   "source": [
    "### Minerals of interest: "
   ]
  },
  {
   "cell_type": "code",
   "execution_count": 11,
   "metadata": {},
   "outputs": [],
   "source": [
    "import seaborn as sns\n",
    "import matplotlib.pyplot as plt"
   ]
  },
  {
   "cell_type": "markdown",
   "metadata": {},
   "source": [
    "- Germanium (Ge) and indium (In) associated with zinc (Zn) (or copper) in so-called volcanogenic massive sulphide (VMS) deposits\n",
    "- Cobalt (Co) associated with nickel (Ni) (and copper) (Cu) in so-called orthomagmatic (igneous) mafic to ultramafic volcanic (komatiite)-hosted and intrusion-hosted deposits"
   ]
  },
  {
   "cell_type": "code",
   "execution_count": 84,
   "metadata": {},
   "outputs": [
    {
     "data": {
      "text/html": [
       "<div>\n",
       "<style scoped>\n",
       "    .dataframe tbody tr th:only-of-type {\n",
       "        vertical-align: middle;\n",
       "    }\n",
       "\n",
       "    .dataframe tbody tr th {\n",
       "        vertical-align: top;\n",
       "    }\n",
       "\n",
       "    .dataframe thead th {\n",
       "        text-align: right;\n",
       "    }\n",
       "</style>\n",
       "<table border=\"1\" class=\"dataframe\">\n",
       "  <thead>\n",
       "    <tr style=\"text-align: right;\">\n",
       "      <th></th>\n",
       "      <th>Ge</th>\n",
       "      <th>In</th>\n",
       "      <th>Co</th>\n",
       "      <th>Zn</th>\n",
       "      <th>Cu</th>\n",
       "      <th>Ni</th>\n",
       "    </tr>\n",
       "  </thead>\n",
       "  <tbody>\n",
       "    <tr>\n",
       "      <th>Ge</th>\n",
       "      <td>1.000000</td>\n",
       "      <td>-0.003387</td>\n",
       "      <td>-0.040505</td>\n",
       "      <td>0.496282</td>\n",
       "      <td>-0.048298</td>\n",
       "      <td>-0.027769</td>\n",
       "    </tr>\n",
       "    <tr>\n",
       "      <th>In</th>\n",
       "      <td>-0.003387</td>\n",
       "      <td>1.000000</td>\n",
       "      <td>0.009897</td>\n",
       "      <td>0.084367</td>\n",
       "      <td>0.157200</td>\n",
       "      <td>-0.028306</td>\n",
       "    </tr>\n",
       "    <tr>\n",
       "      <th>Co</th>\n",
       "      <td>-0.040505</td>\n",
       "      <td>0.009897</td>\n",
       "      <td>1.000000</td>\n",
       "      <td>-0.064001</td>\n",
       "      <td>0.065329</td>\n",
       "      <td>0.259981</td>\n",
       "    </tr>\n",
       "    <tr>\n",
       "      <th>Zn</th>\n",
       "      <td>0.496282</td>\n",
       "      <td>0.084367</td>\n",
       "      <td>-0.064001</td>\n",
       "      <td>1.000000</td>\n",
       "      <td>-0.081291</td>\n",
       "      <td>-0.067325</td>\n",
       "    </tr>\n",
       "    <tr>\n",
       "      <th>Cu</th>\n",
       "      <td>-0.048298</td>\n",
       "      <td>0.157200</td>\n",
       "      <td>0.065329</td>\n",
       "      <td>-0.081291</td>\n",
       "      <td>1.000000</td>\n",
       "      <td>-0.032779</td>\n",
       "    </tr>\n",
       "    <tr>\n",
       "      <th>Ni</th>\n",
       "      <td>-0.027769</td>\n",
       "      <td>-0.028306</td>\n",
       "      <td>0.259981</td>\n",
       "      <td>-0.067325</td>\n",
       "      <td>-0.032779</td>\n",
       "      <td>1.000000</td>\n",
       "    </tr>\n",
       "  </tbody>\n",
       "</table>\n",
       "</div>"
      ],
      "text/plain": [
       "          Ge        In        Co        Zn        Cu        Ni\n",
       "Ge  1.000000 -0.003387 -0.040505  0.496282 -0.048298 -0.027769\n",
       "In -0.003387  1.000000  0.009897  0.084367  0.157200 -0.028306\n",
       "Co -0.040505  0.009897  1.000000 -0.064001  0.065329  0.259981\n",
       "Zn  0.496282  0.084367 -0.064001  1.000000 -0.081291 -0.067325\n",
       "Cu -0.048298  0.157200  0.065329 -0.081291  1.000000 -0.032779\n",
       "Ni -0.027769 -0.028306  0.259981 -0.067325 -0.032779  1.000000"
      ]
     },
     "execution_count": 84,
     "metadata": {},
     "output_type": "execute_result"
    }
   ],
   "source": [
    "osnaca_all[['Ge', 'In', 'Co','Zn', 'Cu', 'Ni']].corr()"
   ]
  },
  {
   "cell_type": "markdown",
   "metadata": {},
   "source": [
    "- Seems like Ge and Zn almost 50% correlated, but negatively correlated 4% with Cu\n",
    "- In more correlated to Cu than Zn (15% as opposed to 8%)\n",
    "- Co 6% with Cu and 25% with Ni. "
   ]
  },
  {
   "cell_type": "code",
   "execution_count": 65,
   "metadata": {},
   "outputs": [
    {
     "data": {
      "image/png": "[encoded data removed]",
      "text/plain": [
       "<Figure size 432x288 with 2 Axes>"
      ]
     },
     "metadata": {
      "needs_background": "light"
     },
     "output_type": "display_data"
    }
   ],
   "source": [
    "sns.heatmap(osnaca_all[['Ge', 'In', 'Co', 'Zn', 'Cu']].corr(), cmap='crest');"
   ]
  },
  {
   "cell_type": "code",
   "execution_count": 86,
   "metadata": {},
   "outputs": [
    {
     "data": {
      "text/plain": [
       "In    1.000000\n",
       "S     0.223320\n",
       "Cu    0.157200\n",
       "Se    0.135589\n",
       "Fe    0.123512\n",
       "        ...   \n",
       "Sc   -0.083229\n",
       "K    -0.085101\n",
       "Ti   -0.087413\n",
       "Al   -0.103199\n",
       "Si   -0.141547\n",
       "Name: In, Length: 61, dtype: float64"
      ]
     },
     "execution_count": 86,
     "metadata": {},
     "output_type": "execute_result"
    }
   ],
   "source": [
    "osnaca_all.corr()['In'].sort_values(ascending=False)"
   ]
  },
  {
   "cell_type": "code",
   "execution_count": 87,
   "metadata": {},
   "outputs": [
    {
     "data": {
      "text/plain": [
       "Ge    1.000000\n",
       "Zn    0.496282\n",
       "Cd    0.226739\n",
       "S     0.198342\n",
       "Tl    0.179400\n",
       "        ...   \n",
       "K    -0.095798\n",
       "Na   -0.102637\n",
       "Ti   -0.116100\n",
       "Al   -0.139017\n",
       "Si   -0.185344\n",
       "Name: Ge, Length: 61, dtype: float64"
      ]
     },
     "execution_count": 87,
     "metadata": {},
     "output_type": "execute_result"
    }
   ],
   "source": [
    "osnaca_all.corr()['Ge'].sort_values(ascending=False)"
   ]
  },
  {
   "cell_type": "code",
   "execution_count": 88,
   "metadata": {},
   "outputs": [
    {
     "data": {
      "text/plain": [
       "Co    1.000000\n",
       "Ni    0.259981\n",
       "Fe    0.170675\n",
       "S     0.165500\n",
       "Cu    0.065329\n",
       "        ...   \n",
       "Ti   -0.062055\n",
       "Zn   -0.064001\n",
       "Na   -0.074630\n",
       "Al   -0.097120\n",
       "Si   -0.110992\n",
       "Name: Co, Length: 61, dtype: float64"
      ]
     },
     "execution_count": 88,
     "metadata": {},
     "output_type": "execute_result"
    }
   ],
   "source": [
    "osnaca_all.corr()['Co'].sort_values(ascending=False)"
   ]
  },
  {
   "cell_type": "markdown",
   "metadata": {},
   "source": [
    "- Indium: sulfur is more corr\n",
    "- Ge: Zn is more corr\n",
    "- Co: Ni is more corr\n",
    "- Negative correlations are never very high"
   ]
  },
  {
   "cell_type": "code",
   "execution_count": 13,
   "metadata": {},
   "outputs": [
    {
     "data": {
      "image/png": "[encoded data removed]",
      "text/plain": [
       "<Figure size 900x900 with 30 Axes>"
      ]
     },
     "metadata": {
      "needs_background": "light"
     },
     "output_type": "display_data"
    }
   ],
   "source": [
    "sns.pairplot(osnaca_all[['Ge', 'In', 'Co', 'Zn', 'Cu']]);"
   ]
  }
 ],
 "metadata": {
  "kernelspec": {
   "display_name": "Python 3",
   "language": "python",
   "name": "python3"
  },
  "language_info": {
   "codemirror_mode": {
    "name": "ipython",
    "version": 3
   },
   "file_extension": ".py",
   "mimetype": "text/x-python",
   "name": "python",
   "nbconvert_exporter": "python",
   "pygments_lexer": "ipython3",
   "version": "3.8.5"
  }
 },
 "nbformat": 4,
 "nbformat_minor": 4
}
