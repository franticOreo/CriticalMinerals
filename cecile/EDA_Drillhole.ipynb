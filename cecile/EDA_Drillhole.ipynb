{
 "cells": [
  {
   "cell_type": "markdown",
   "metadata": {},
   "source": [
    "# Drillhole EDA"
   ]
  },
  {
   "cell_type": "markdown",
   "metadata": {},
   "source": [
    "10% of the entire data"
   ]
  },
  {
   "cell_type": "markdown",
   "metadata": {},
   "source": [
    "From Trevor: Sample data points for any particular drill hole will be co-located on a map. An assumption of sample co-location for each drill hole is adequate for our purpose although in reality some will have been drilled inclined rather than straight vertically. "
   ]
  },
  {
   "cell_type": "code",
   "execution_count": 250,
   "metadata": {},
   "outputs": [],
   "source": [
    "import pandas as pd\n",
    "import matplotlib.pyplot as plt"
   ]
  },
  {
   "cell_type": "markdown",
   "metadata": {},
   "source": [
    "## Dataframe info"
   ]
  },
  {
   "cell_type": "code",
   "execution_count": 252,
   "metadata": {},
   "outputs": [
    {
     "data": {
      "text/html": [
       "<div>\n",
       "<style scoped>\n",
       "    .dataframe tbody tr th:only-of-type {\n",
       "        vertical-align: middle;\n",
       "    }\n",
       "\n",
       "    .dataframe tbody tr th {\n",
       "        vertical-align: top;\n",
       "    }\n",
       "\n",
       "    .dataframe thead th {\n",
       "        text-align: right;\n",
       "    }\n",
       "</style>\n",
       "<table border=\"1\" class=\"dataframe\">\n",
       "  <thead>\n",
       "    <tr style=\"text-align: right;\">\n",
       "      <th></th>\n",
       "      <th>Unnamed: 0</th>\n",
       "      <th>CollarId</th>\n",
       "      <th>CompanyHoleId</th>\n",
       "      <th>Longitude</th>\n",
       "      <th>Latitude</th>\n",
       "      <th>HoleType</th>\n",
       "      <th>Azimuth</th>\n",
       "      <th>Dip</th>\n",
       "      <th>MaxDepth</th>\n",
       "      <th>Anumber</th>\n",
       "      <th>...</th>\n",
       "      <th>WO_PPM</th>\n",
       "      <th>WO3_PPM</th>\n",
       "      <th>Y_PPM</th>\n",
       "      <th>Y2O3_PPM</th>\n",
       "      <th>Yb_PPM</th>\n",
       "      <th>Yb2O3_PPM</th>\n",
       "      <th>Zn_PPM</th>\n",
       "      <th>ZnO_PPM</th>\n",
       "      <th>Zr_PPM</th>\n",
       "      <th>ZrO2_PPM</th>\n",
       "    </tr>\n",
       "  </thead>\n",
       "  <tbody>\n",
       "    <tr>\n",
       "      <th>0</th>\n",
       "      <td>1421455</td>\n",
       "      <td>868290</td>\n",
       "      <td>AMD352</td>\n",
       "      <td>120.573672</td>\n",
       "      <td>-27.606633</td>\n",
       "      <td>DD</td>\n",
       "      <td>360</td>\n",
       "      <td>-90</td>\n",
       "      <td>338.60</td>\n",
       "      <td>79089</td>\n",
       "      <td>...</td>\n",
       "      <td>-9999</td>\n",
       "      <td>-9999.0</td>\n",
       "      <td>-9999.0</td>\n",
       "      <td>-9999.0</td>\n",
       "      <td>-9999.0</td>\n",
       "      <td>-9999.0</td>\n",
       "      <td>82.0</td>\n",
       "      <td>-9999.0</td>\n",
       "      <td>8.0</td>\n",
       "      <td>-9999.0</td>\n",
       "    </tr>\n",
       "    <tr>\n",
       "      <th>1</th>\n",
       "      <td>2127794</td>\n",
       "      <td>1113830</td>\n",
       "      <td>NEMJRD9583</td>\n",
       "      <td>120.598003</td>\n",
       "      <td>-26.383791</td>\n",
       "      <td>DD</td>\n",
       "      <td>360</td>\n",
       "      <td>-90</td>\n",
       "      <td>1099.05</td>\n",
       "      <td>81539</td>\n",
       "      <td>...</td>\n",
       "      <td>-9999</td>\n",
       "      <td>-9999.0</td>\n",
       "      <td>-9999.0</td>\n",
       "      <td>-9999.0</td>\n",
       "      <td>-9999.0</td>\n",
       "      <td>-9999.0</td>\n",
       "      <td>-9999.0</td>\n",
       "      <td>-9999.0</td>\n",
       "      <td>-9999.0</td>\n",
       "      <td>-9999.0</td>\n",
       "    </tr>\n",
       "    <tr>\n",
       "      <th>2</th>\n",
       "      <td>2628642</td>\n",
       "      <td>1277942</td>\n",
       "      <td>GCMCOBCD50</td>\n",
       "      <td>120.940469</td>\n",
       "      <td>-27.426364</td>\n",
       "      <td>DD</td>\n",
       "      <td>360</td>\n",
       "      <td>-90</td>\n",
       "      <td>399.00</td>\n",
       "      <td>62231</td>\n",
       "      <td>...</td>\n",
       "      <td>-9999</td>\n",
       "      <td>-9999.0</td>\n",
       "      <td>-9999.0</td>\n",
       "      <td>-9999.0</td>\n",
       "      <td>-9999.0</td>\n",
       "      <td>-9999.0</td>\n",
       "      <td>-9999.0</td>\n",
       "      <td>-9999.0</td>\n",
       "      <td>-9999.0</td>\n",
       "      <td>-9999.0</td>\n",
       "    </tr>\n",
       "    <tr>\n",
       "      <th>3</th>\n",
       "      <td>7269457</td>\n",
       "      <td>3418074</td>\n",
       "      <td>CRD113</td>\n",
       "      <td>121.229805</td>\n",
       "      <td>-30.708203</td>\n",
       "      <td>DD</td>\n",
       "      <td>360</td>\n",
       "      <td>-90</td>\n",
       "      <td>848.00</td>\n",
       "      <td>61246</td>\n",
       "      <td>...</td>\n",
       "      <td>-9999</td>\n",
       "      <td>-9999.0</td>\n",
       "      <td>-9999.0</td>\n",
       "      <td>-9999.0</td>\n",
       "      <td>-9999.0</td>\n",
       "      <td>-9999.0</td>\n",
       "      <td>-9999.0</td>\n",
       "      <td>-9999.0</td>\n",
       "      <td>-9999.0</td>\n",
       "      <td>-9999.0</td>\n",
       "    </tr>\n",
       "    <tr>\n",
       "      <th>4</th>\n",
       "      <td>237760</td>\n",
       "      <td>233053</td>\n",
       "      <td>GSD359</td>\n",
       "      <td>122.414937</td>\n",
       "      <td>-28.805433</td>\n",
       "      <td>DD</td>\n",
       "      <td>360</td>\n",
       "      <td>-90</td>\n",
       "      <td>543.50</td>\n",
       "      <td>66814</td>\n",
       "      <td>...</td>\n",
       "      <td>-9999</td>\n",
       "      <td>-9999.0</td>\n",
       "      <td>-9999.0</td>\n",
       "      <td>-9999.0</td>\n",
       "      <td>-9999.0</td>\n",
       "      <td>-9999.0</td>\n",
       "      <td>-9999.0</td>\n",
       "      <td>-9999.0</td>\n",
       "      <td>-9999.0</td>\n",
       "      <td>-9999.0</td>\n",
       "    </tr>\n",
       "  </tbody>\n",
       "</table>\n",
       "<p>5 rows × 172 columns</p>\n",
       "</div>"
      ],
      "text/plain": [
       "   Unnamed: 0  CollarId CompanyHoleId   Longitude   Latitude HoleType  \\\n",
       "0     1421455    868290        AMD352  120.573672 -27.606633       DD   \n",
       "1     2127794   1113830    NEMJRD9583  120.598003 -26.383791       DD   \n",
       "2     2628642   1277942    GCMCOBCD50  120.940469 -27.426364       DD   \n",
       "3     7269457   3418074        CRD113  121.229805 -30.708203       DD   \n",
       "4      237760    233053        GSD359  122.414937 -28.805433       DD   \n",
       "\n",
       "   Azimuth  Dip  MaxDepth  Anumber  ...  WO_PPM WO3_PPM   Y_PPM  Y2O3_PPM  \\\n",
       "0      360  -90    338.60    79089  ...   -9999 -9999.0 -9999.0   -9999.0   \n",
       "1      360  -90   1099.05    81539  ...   -9999 -9999.0 -9999.0   -9999.0   \n",
       "2      360  -90    399.00    62231  ...   -9999 -9999.0 -9999.0   -9999.0   \n",
       "3      360  -90    848.00    61246  ...   -9999 -9999.0 -9999.0   -9999.0   \n",
       "4      360  -90    543.50    66814  ...   -9999 -9999.0 -9999.0   -9999.0   \n",
       "\n",
       "   Yb_PPM  Yb2O3_PPM  Zn_PPM  ZnO_PPM  Zr_PPM  ZrO2_PPM  \n",
       "0 -9999.0    -9999.0    82.0  -9999.0     8.0   -9999.0  \n",
       "1 -9999.0    -9999.0 -9999.0  -9999.0 -9999.0   -9999.0  \n",
       "2 -9999.0    -9999.0 -9999.0  -9999.0 -9999.0   -9999.0  \n",
       "3 -9999.0    -9999.0 -9999.0  -9999.0 -9999.0   -9999.0  \n",
       "4 -9999.0    -9999.0 -9999.0  -9999.0 -9999.0   -9999.0  \n",
       "\n",
       "[5 rows x 172 columns]"
      ]
     },
     "execution_count": 252,
     "metadata": {},
     "output_type": "execute_result"
    }
   ],
   "source": [
    "df = pd.read_csv('dd_20210723_sample_10pct.csv')\n",
    "df.head()"
   ]
  },
  {
   "cell_type": "code",
   "execution_count": 253,
   "metadata": {},
   "outputs": [
    {
     "data": {
      "text/plain": [
       "(856405, 172)"
      ]
     },
     "execution_count": 253,
     "metadata": {},
     "output_type": "execute_result"
    }
   ],
   "source": [
    "df.shape"
   ]
  },
  {
   "cell_type": "markdown",
   "metadata": {},
   "source": [
    "There are 856,405 rows and 172 columns. "
   ]
  },
  {
   "cell_type": "code",
   "execution_count": 5,
   "metadata": {},
   "outputs": [
    {
     "name": "stdout",
     "output_type": "stream",
     "text": [
      "<class 'pandas.core.frame.DataFrame'>\n",
      "RangeIndex: 856405 entries, 0 to 856404\n",
      "Columns: 172 entries, Unnamed: 0 to ZrO2_PPM\n",
      "dtypes: float64(140), int64(29), object(3)\n",
      "memory usage: 1.1+ GB\n"
     ]
    }
   ],
   "source": [
    "df.info()"
   ]
  },
  {
   "cell_type": "markdown",
   "metadata": {},
   "source": [
    "140 columns are floats, 29 are ints and only 3 are objects (CompanyHoleId, Hole Type and 1 more). "
   ]
  },
  {
   "cell_type": "markdown",
   "metadata": {},
   "source": [
    "### NAs"
   ]
  },
  {
   "cell_type": "code",
   "execution_count": 8,
   "metadata": {},
   "outputs": [],
   "source": [
    "col_nas = df.isna().sum() "
   ]
  },
  {
   "cell_type": "code",
   "execution_count": 9,
   "metadata": {},
   "outputs": [
    {
     "data": {
      "text/plain": [
       "MaxDepth           50481\n",
       "CompanySampleId    30232\n",
       "dtype: int64"
      ]
     },
     "execution_count": 9,
     "metadata": {},
     "output_type": "execute_result"
    }
   ],
   "source": [
    "col_nas[col_nas > 0] "
   ]
  },
  {
   "cell_type": "markdown",
   "metadata": {},
   "source": [
    "Only two columns have NAs, and they're not of interest to us for now. "
   ]
  },
  {
   "cell_type": "code",
   "execution_count": 11,
   "metadata": {},
   "outputs": [],
   "source": [
    "row_nas = df.isna().sum(axis=1)"
   ]
  },
  {
   "cell_type": "code",
   "execution_count": 18,
   "metadata": {},
   "outputs": [
    {
     "data": {
      "text/plain": [
       "67843"
      ]
     },
     "execution_count": 18,
     "metadata": {},
     "output_type": "execute_result"
    }
   ],
   "source": [
    "row_nas[row_nas == 1].count()"
   ]
  },
  {
   "cell_type": "code",
   "execution_count": 19,
   "metadata": {},
   "outputs": [
    {
     "data": {
      "text/plain": [
       "6435"
      ]
     },
     "execution_count": 19,
     "metadata": {},
     "output_type": "execute_result"
    }
   ],
   "source": [
    "row_nas[row_nas == 2].count()"
   ]
  },
  {
   "cell_type": "code",
   "execution_count": 20,
   "metadata": {},
   "outputs": [
    {
     "data": {
      "text/plain": [
       "0"
      ]
     },
     "execution_count": 20,
     "metadata": {},
     "output_type": "execute_result"
    }
   ],
   "source": [
    "row_nas[row_nas > 2].count()"
   ]
  },
  {
   "cell_type": "markdown",
   "metadata": {},
   "source": [
    "No rows have more than 2 NAs"
   ]
  },
  {
   "cell_type": "markdown",
   "metadata": {},
   "source": [
    "### Negative values"
   ]
  },
  {
   "cell_type": "markdown",
   "metadata": {},
   "source": [
    "From Trevor: \"You will find that the geochemical data set contains a large proportion of “null” values and assorted negative numbers. I suggest that for the purpose of this study, only consider using data where there are positive (i.e. > 0) values for the  elements of interest. Ignore values indicating “below detection” – we can’t be sure that replacing these with the half of the absolute value” will not unduly bias the “association” analyses. Hopefully you will still be left with enough data to work with.\""
   ]
  },
  {
   "cell_type": "code",
   "execution_count": 64,
   "metadata": {},
   "outputs": [
    {
     "data": {
      "text/html": [
       "<div>\n",
       "<style scoped>\n",
       "    .dataframe tbody tr th:only-of-type {\n",
       "        vertical-align: middle;\n",
       "    }\n",
       "\n",
       "    .dataframe tbody tr th {\n",
       "        vertical-align: top;\n",
       "    }\n",
       "\n",
       "    .dataframe thead th {\n",
       "        text-align: right;\n",
       "    }\n",
       "</style>\n",
       "<table border=\"1\" class=\"dataframe\">\n",
       "  <thead>\n",
       "    <tr style=\"text-align: right;\">\n",
       "      <th></th>\n",
       "      <th>Unnamed: 0</th>\n",
       "      <th>CollarId</th>\n",
       "      <th>CompanyHoleId</th>\n",
       "      <th>Longitude</th>\n",
       "      <th>Latitude</th>\n",
       "      <th>HoleType</th>\n",
       "      <th>Azimuth</th>\n",
       "      <th>Dip</th>\n",
       "      <th>MaxDepth</th>\n",
       "      <th>Anumber</th>\n",
       "      <th>...</th>\n",
       "      <th>WO_PPM</th>\n",
       "      <th>WO3_PPM</th>\n",
       "      <th>Y_PPM</th>\n",
       "      <th>Y2O3_PPM</th>\n",
       "      <th>Yb_PPM</th>\n",
       "      <th>Yb2O3_PPM</th>\n",
       "      <th>Zn_PPM</th>\n",
       "      <th>ZnO_PPM</th>\n",
       "      <th>Zr_PPM</th>\n",
       "      <th>ZrO2_PPM</th>\n",
       "    </tr>\n",
       "  </thead>\n",
       "  <tbody>\n",
       "    <tr>\n",
       "      <th>1</th>\n",
       "      <td>2127794</td>\n",
       "      <td>1113830</td>\n",
       "      <td>NEMJRD9583</td>\n",
       "      <td>120.598003</td>\n",
       "      <td>-26.383791</td>\n",
       "      <td>DD</td>\n",
       "      <td>360</td>\n",
       "      <td>-90</td>\n",
       "      <td>1099.05</td>\n",
       "      <td>81539</td>\n",
       "      <td>...</td>\n",
       "      <td>-9999</td>\n",
       "      <td>-9999.0</td>\n",
       "      <td>-9999.0</td>\n",
       "      <td>-9999.0</td>\n",
       "      <td>-9999.0</td>\n",
       "      <td>-9999.0</td>\n",
       "      <td>-9999.0</td>\n",
       "      <td>-9999.0</td>\n",
       "      <td>-9999.0</td>\n",
       "      <td>-9999.0</td>\n",
       "    </tr>\n",
       "    <tr>\n",
       "      <th>2</th>\n",
       "      <td>2628642</td>\n",
       "      <td>1277942</td>\n",
       "      <td>GCMCOBCD50</td>\n",
       "      <td>120.940469</td>\n",
       "      <td>-27.426364</td>\n",
       "      <td>DD</td>\n",
       "      <td>360</td>\n",
       "      <td>-90</td>\n",
       "      <td>399.00</td>\n",
       "      <td>62231</td>\n",
       "      <td>...</td>\n",
       "      <td>-9999</td>\n",
       "      <td>-9999.0</td>\n",
       "      <td>-9999.0</td>\n",
       "      <td>-9999.0</td>\n",
       "      <td>-9999.0</td>\n",
       "      <td>-9999.0</td>\n",
       "      <td>-9999.0</td>\n",
       "      <td>-9999.0</td>\n",
       "      <td>-9999.0</td>\n",
       "      <td>-9999.0</td>\n",
       "    </tr>\n",
       "    <tr>\n",
       "      <th>3</th>\n",
       "      <td>7269457</td>\n",
       "      <td>3418074</td>\n",
       "      <td>CRD113</td>\n",
       "      <td>121.229805</td>\n",
       "      <td>-30.708203</td>\n",
       "      <td>DD</td>\n",
       "      <td>360</td>\n",
       "      <td>-90</td>\n",
       "      <td>848.00</td>\n",
       "      <td>61246</td>\n",
       "      <td>...</td>\n",
       "      <td>-9999</td>\n",
       "      <td>-9999.0</td>\n",
       "      <td>-9999.0</td>\n",
       "      <td>-9999.0</td>\n",
       "      <td>-9999.0</td>\n",
       "      <td>-9999.0</td>\n",
       "      <td>-9999.0</td>\n",
       "      <td>-9999.0</td>\n",
       "      <td>-9999.0</td>\n",
       "      <td>-9999.0</td>\n",
       "    </tr>\n",
       "    <tr>\n",
       "      <th>4</th>\n",
       "      <td>237760</td>\n",
       "      <td>233053</td>\n",
       "      <td>GSD359</td>\n",
       "      <td>122.414937</td>\n",
       "      <td>-28.805433</td>\n",
       "      <td>DD</td>\n",
       "      <td>360</td>\n",
       "      <td>-90</td>\n",
       "      <td>543.50</td>\n",
       "      <td>66814</td>\n",
       "      <td>...</td>\n",
       "      <td>-9999</td>\n",
       "      <td>-9999.0</td>\n",
       "      <td>-9999.0</td>\n",
       "      <td>-9999.0</td>\n",
       "      <td>-9999.0</td>\n",
       "      <td>-9999.0</td>\n",
       "      <td>-9999.0</td>\n",
       "      <td>-9999.0</td>\n",
       "      <td>-9999.0</td>\n",
       "      <td>-9999.0</td>\n",
       "    </tr>\n",
       "    <tr>\n",
       "      <th>5</th>\n",
       "      <td>7611405</td>\n",
       "      <td>3524508</td>\n",
       "      <td>NEMJRD9957W1</td>\n",
       "      <td>120.597732</td>\n",
       "      <td>-26.391069</td>\n",
       "      <td>DD</td>\n",
       "      <td>360</td>\n",
       "      <td>-90</td>\n",
       "      <td>262.13</td>\n",
       "      <td>101572</td>\n",
       "      <td>...</td>\n",
       "      <td>-9999</td>\n",
       "      <td>-9999.0</td>\n",
       "      <td>-9999.0</td>\n",
       "      <td>-9999.0</td>\n",
       "      <td>-9999.0</td>\n",
       "      <td>-9999.0</td>\n",
       "      <td>-9999.0</td>\n",
       "      <td>-9999.0</td>\n",
       "      <td>-9999.0</td>\n",
       "      <td>-9999.0</td>\n",
       "    </tr>\n",
       "    <tr>\n",
       "      <th>...</th>\n",
       "      <td>...</td>\n",
       "      <td>...</td>\n",
       "      <td>...</td>\n",
       "      <td>...</td>\n",
       "      <td>...</td>\n",
       "      <td>...</td>\n",
       "      <td>...</td>\n",
       "      <td>...</td>\n",
       "      <td>...</td>\n",
       "      <td>...</td>\n",
       "      <td>...</td>\n",
       "      <td>...</td>\n",
       "      <td>...</td>\n",
       "      <td>...</td>\n",
       "      <td>...</td>\n",
       "      <td>...</td>\n",
       "      <td>...</td>\n",
       "      <td>...</td>\n",
       "      <td>...</td>\n",
       "      <td>...</td>\n",
       "      <td>...</td>\n",
       "    </tr>\n",
       "    <tr>\n",
       "      <th>856399</th>\n",
       "      <td>438141</td>\n",
       "      <td>358919</td>\n",
       "      <td>YUG064</td>\n",
       "      <td>118.838935</td>\n",
       "      <td>-28.610698</td>\n",
       "      <td>DD</td>\n",
       "      <td>360</td>\n",
       "      <td>-90</td>\n",
       "      <td>128.60</td>\n",
       "      <td>74594</td>\n",
       "      <td>...</td>\n",
       "      <td>-9999</td>\n",
       "      <td>-9999.0</td>\n",
       "      <td>-9999.0</td>\n",
       "      <td>-9999.0</td>\n",
       "      <td>-9999.0</td>\n",
       "      <td>-9999.0</td>\n",
       "      <td>-9999.0</td>\n",
       "      <td>-9999.0</td>\n",
       "      <td>-9999.0</td>\n",
       "      <td>-9999.0</td>\n",
       "    </tr>\n",
       "    <tr>\n",
       "      <th>856400</th>\n",
       "      <td>5572638</td>\n",
       "      <td>2659184</td>\n",
       "      <td>NHUG0033</td>\n",
       "      <td>120.497193</td>\n",
       "      <td>-27.985881</td>\n",
       "      <td>DD</td>\n",
       "      <td>360</td>\n",
       "      <td>-90</td>\n",
       "      <td>186.93</td>\n",
       "      <td>61309</td>\n",
       "      <td>...</td>\n",
       "      <td>-9999</td>\n",
       "      <td>-9999.0</td>\n",
       "      <td>-9999.0</td>\n",
       "      <td>-9999.0</td>\n",
       "      <td>-9999.0</td>\n",
       "      <td>-9999.0</td>\n",
       "      <td>-9999.0</td>\n",
       "      <td>-9999.0</td>\n",
       "      <td>-9999.0</td>\n",
       "      <td>-9999.0</td>\n",
       "    </tr>\n",
       "    <tr>\n",
       "      <th>856401</th>\n",
       "      <td>4094110</td>\n",
       "      <td>1989988</td>\n",
       "      <td>VD11_31</td>\n",
       "      <td>121.565023</td>\n",
       "      <td>-30.615752</td>\n",
       "      <td>DD</td>\n",
       "      <td>360</td>\n",
       "      <td>-90</td>\n",
       "      <td>930.20</td>\n",
       "      <td>94524</td>\n",
       "      <td>...</td>\n",
       "      <td>-9999</td>\n",
       "      <td>-9999.0</td>\n",
       "      <td>-9999.0</td>\n",
       "      <td>-9999.0</td>\n",
       "      <td>-9999.0</td>\n",
       "      <td>-9999.0</td>\n",
       "      <td>-9999.0</td>\n",
       "      <td>-9999.0</td>\n",
       "      <td>-9999.0</td>\n",
       "      <td>-9999.0</td>\n",
       "    </tr>\n",
       "    <tr>\n",
       "      <th>856403</th>\n",
       "      <td>2103898</td>\n",
       "      <td>1093873</td>\n",
       "      <td>TWDD0286</td>\n",
       "      <td>121.330154</td>\n",
       "      <td>-28.895726</td>\n",
       "      <td>DD</td>\n",
       "      <td>360</td>\n",
       "      <td>-90</td>\n",
       "      <td>588.10</td>\n",
       "      <td>81260</td>\n",
       "      <td>...</td>\n",
       "      <td>-9999</td>\n",
       "      <td>-9999.0</td>\n",
       "      <td>-9999.0</td>\n",
       "      <td>-9999.0</td>\n",
       "      <td>-9999.0</td>\n",
       "      <td>-9999.0</td>\n",
       "      <td>-9999.0</td>\n",
       "      <td>-9999.0</td>\n",
       "      <td>-9999.0</td>\n",
       "      <td>-9999.0</td>\n",
       "    </tr>\n",
       "    <tr>\n",
       "      <th>856404</th>\n",
       "      <td>1349520</td>\n",
       "      <td>835336</td>\n",
       "      <td>HED051</td>\n",
       "      <td>121.227018</td>\n",
       "      <td>-30.539921</td>\n",
       "      <td>DD</td>\n",
       "      <td>360</td>\n",
       "      <td>-90</td>\n",
       "      <td>540.00</td>\n",
       "      <td>78766</td>\n",
       "      <td>...</td>\n",
       "      <td>-9999</td>\n",
       "      <td>-9999.0</td>\n",
       "      <td>-9999.0</td>\n",
       "      <td>-9999.0</td>\n",
       "      <td>-9999.0</td>\n",
       "      <td>-9999.0</td>\n",
       "      <td>-9999.0</td>\n",
       "      <td>-9999.0</td>\n",
       "      <td>-9999.0</td>\n",
       "      <td>-9999.0</td>\n",
       "    </tr>\n",
       "  </tbody>\n",
       "</table>\n",
       "<p>652160 rows × 172 columns</p>\n",
       "</div>"
      ],
      "text/plain": [
       "        Unnamed: 0  CollarId CompanyHoleId   Longitude   Latitude HoleType  \\\n",
       "1          2127794   1113830    NEMJRD9583  120.598003 -26.383791       DD   \n",
       "2          2628642   1277942    GCMCOBCD50  120.940469 -27.426364       DD   \n",
       "3          7269457   3418074        CRD113  121.229805 -30.708203       DD   \n",
       "4           237760    233053        GSD359  122.414937 -28.805433       DD   \n",
       "5          7611405   3524508  NEMJRD9957W1  120.597732 -26.391069       DD   \n",
       "...            ...       ...           ...         ...        ...      ...   \n",
       "856399      438141    358919        YUG064  118.838935 -28.610698       DD   \n",
       "856400     5572638   2659184      NHUG0033  120.497193 -27.985881       DD   \n",
       "856401     4094110   1989988       VD11_31  121.565023 -30.615752       DD   \n",
       "856403     2103898   1093873      TWDD0286  121.330154 -28.895726       DD   \n",
       "856404     1349520    835336        HED051  121.227018 -30.539921       DD   \n",
       "\n",
       "        Azimuth  Dip  MaxDepth  Anumber  ...  WO_PPM WO3_PPM   Y_PPM  \\\n",
       "1           360  -90   1099.05    81539  ...   -9999 -9999.0 -9999.0   \n",
       "2           360  -90    399.00    62231  ...   -9999 -9999.0 -9999.0   \n",
       "3           360  -90    848.00    61246  ...   -9999 -9999.0 -9999.0   \n",
       "4           360  -90    543.50    66814  ...   -9999 -9999.0 -9999.0   \n",
       "5           360  -90    262.13   101572  ...   -9999 -9999.0 -9999.0   \n",
       "...         ...  ...       ...      ...  ...     ...     ...     ...   \n",
       "856399      360  -90    128.60    74594  ...   -9999 -9999.0 -9999.0   \n",
       "856400      360  -90    186.93    61309  ...   -9999 -9999.0 -9999.0   \n",
       "856401      360  -90    930.20    94524  ...   -9999 -9999.0 -9999.0   \n",
       "856403      360  -90    588.10    81260  ...   -9999 -9999.0 -9999.0   \n",
       "856404      360  -90    540.00    78766  ...   -9999 -9999.0 -9999.0   \n",
       "\n",
       "        Y2O3_PPM  Yb_PPM  Yb2O3_PPM  Zn_PPM  ZnO_PPM  Zr_PPM  ZrO2_PPM  \n",
       "1        -9999.0 -9999.0    -9999.0 -9999.0  -9999.0 -9999.0   -9999.0  \n",
       "2        -9999.0 -9999.0    -9999.0 -9999.0  -9999.0 -9999.0   -9999.0  \n",
       "3        -9999.0 -9999.0    -9999.0 -9999.0  -9999.0 -9999.0   -9999.0  \n",
       "4        -9999.0 -9999.0    -9999.0 -9999.0  -9999.0 -9999.0   -9999.0  \n",
       "5        -9999.0 -9999.0    -9999.0 -9999.0  -9999.0 -9999.0   -9999.0  \n",
       "...          ...     ...        ...     ...      ...     ...       ...  \n",
       "856399   -9999.0 -9999.0    -9999.0 -9999.0  -9999.0 -9999.0   -9999.0  \n",
       "856400   -9999.0 -9999.0    -9999.0 -9999.0  -9999.0 -9999.0   -9999.0  \n",
       "856401   -9999.0 -9999.0    -9999.0 -9999.0  -9999.0 -9999.0   -9999.0  \n",
       "856403   -9999.0 -9999.0    -9999.0 -9999.0  -9999.0 -9999.0   -9999.0  \n",
       "856404   -9999.0 -9999.0    -9999.0 -9999.0  -9999.0 -9999.0   -9999.0  \n",
       "\n",
       "[652160 rows x 172 columns]"
      ]
     },
     "execution_count": 64,
     "metadata": {},
     "output_type": "execute_result"
    }
   ],
   "source": [
    "#number of rows where Zn is negative\n",
    "df[df['Zn_PPM'] < 0]"
   ]
  },
  {
   "cell_type": "code",
   "execution_count": 23,
   "metadata": {},
   "outputs": [
    {
     "data": {
      "text/html": [
       "<div>\n",
       "<style scoped>\n",
       "    .dataframe tbody tr th:only-of-type {\n",
       "        vertical-align: middle;\n",
       "    }\n",
       "\n",
       "    .dataframe tbody tr th {\n",
       "        vertical-align: top;\n",
       "    }\n",
       "\n",
       "    .dataframe thead th {\n",
       "        text-align: right;\n",
       "    }\n",
       "</style>\n",
       "<table border=\"1\" class=\"dataframe\">\n",
       "  <thead>\n",
       "    <tr style=\"text-align: right;\">\n",
       "      <th></th>\n",
       "      <th>Unnamed: 0</th>\n",
       "      <th>CollarId</th>\n",
       "      <th>CompanyHoleId</th>\n",
       "      <th>Longitude</th>\n",
       "      <th>Latitude</th>\n",
       "      <th>HoleType</th>\n",
       "      <th>Azimuth</th>\n",
       "      <th>Dip</th>\n",
       "      <th>MaxDepth</th>\n",
       "      <th>Anumber</th>\n",
       "      <th>...</th>\n",
       "      <th>WO_PPM</th>\n",
       "      <th>WO3_PPM</th>\n",
       "      <th>Y_PPM</th>\n",
       "      <th>Y2O3_PPM</th>\n",
       "      <th>Yb_PPM</th>\n",
       "      <th>Yb2O3_PPM</th>\n",
       "      <th>Zn_PPM</th>\n",
       "      <th>ZnO_PPM</th>\n",
       "      <th>Zr_PPM</th>\n",
       "      <th>ZrO2_PPM</th>\n",
       "    </tr>\n",
       "  </thead>\n",
       "  <tbody>\n",
       "    <tr>\n",
       "      <th>1</th>\n",
       "      <td>2127794</td>\n",
       "      <td>1113830</td>\n",
       "      <td>NEMJRD9583</td>\n",
       "      <td>120.598003</td>\n",
       "      <td>-26.383791</td>\n",
       "      <td>DD</td>\n",
       "      <td>360</td>\n",
       "      <td>-90</td>\n",
       "      <td>1099.05</td>\n",
       "      <td>81539</td>\n",
       "      <td>...</td>\n",
       "      <td>-9999</td>\n",
       "      <td>-9999.0</td>\n",
       "      <td>-9999.0</td>\n",
       "      <td>-9999.0</td>\n",
       "      <td>-9999.0</td>\n",
       "      <td>-9999.0</td>\n",
       "      <td>-9999.0</td>\n",
       "      <td>-9999.0</td>\n",
       "      <td>-9999.0</td>\n",
       "      <td>-9999.0</td>\n",
       "    </tr>\n",
       "    <tr>\n",
       "      <th>2</th>\n",
       "      <td>2628642</td>\n",
       "      <td>1277942</td>\n",
       "      <td>GCMCOBCD50</td>\n",
       "      <td>120.940469</td>\n",
       "      <td>-27.426364</td>\n",
       "      <td>DD</td>\n",
       "      <td>360</td>\n",
       "      <td>-90</td>\n",
       "      <td>399.00</td>\n",
       "      <td>62231</td>\n",
       "      <td>...</td>\n",
       "      <td>-9999</td>\n",
       "      <td>-9999.0</td>\n",
       "      <td>-9999.0</td>\n",
       "      <td>-9999.0</td>\n",
       "      <td>-9999.0</td>\n",
       "      <td>-9999.0</td>\n",
       "      <td>-9999.0</td>\n",
       "      <td>-9999.0</td>\n",
       "      <td>-9999.0</td>\n",
       "      <td>-9999.0</td>\n",
       "    </tr>\n",
       "    <tr>\n",
       "      <th>3</th>\n",
       "      <td>7269457</td>\n",
       "      <td>3418074</td>\n",
       "      <td>CRD113</td>\n",
       "      <td>121.229805</td>\n",
       "      <td>-30.708203</td>\n",
       "      <td>DD</td>\n",
       "      <td>360</td>\n",
       "      <td>-90</td>\n",
       "      <td>848.00</td>\n",
       "      <td>61246</td>\n",
       "      <td>...</td>\n",
       "      <td>-9999</td>\n",
       "      <td>-9999.0</td>\n",
       "      <td>-9999.0</td>\n",
       "      <td>-9999.0</td>\n",
       "      <td>-9999.0</td>\n",
       "      <td>-9999.0</td>\n",
       "      <td>-9999.0</td>\n",
       "      <td>-9999.0</td>\n",
       "      <td>-9999.0</td>\n",
       "      <td>-9999.0</td>\n",
       "    </tr>\n",
       "    <tr>\n",
       "      <th>4</th>\n",
       "      <td>237760</td>\n",
       "      <td>233053</td>\n",
       "      <td>GSD359</td>\n",
       "      <td>122.414937</td>\n",
       "      <td>-28.805433</td>\n",
       "      <td>DD</td>\n",
       "      <td>360</td>\n",
       "      <td>-90</td>\n",
       "      <td>543.50</td>\n",
       "      <td>66814</td>\n",
       "      <td>...</td>\n",
       "      <td>-9999</td>\n",
       "      <td>-9999.0</td>\n",
       "      <td>-9999.0</td>\n",
       "      <td>-9999.0</td>\n",
       "      <td>-9999.0</td>\n",
       "      <td>-9999.0</td>\n",
       "      <td>-9999.0</td>\n",
       "      <td>-9999.0</td>\n",
       "      <td>-9999.0</td>\n",
       "      <td>-9999.0</td>\n",
       "    </tr>\n",
       "    <tr>\n",
       "      <th>5</th>\n",
       "      <td>7611405</td>\n",
       "      <td>3524508</td>\n",
       "      <td>NEMJRD9957W1</td>\n",
       "      <td>120.597732</td>\n",
       "      <td>-26.391069</td>\n",
       "      <td>DD</td>\n",
       "      <td>360</td>\n",
       "      <td>-90</td>\n",
       "      <td>262.13</td>\n",
       "      <td>101572</td>\n",
       "      <td>...</td>\n",
       "      <td>-9999</td>\n",
       "      <td>-9999.0</td>\n",
       "      <td>-9999.0</td>\n",
       "      <td>-9999.0</td>\n",
       "      <td>-9999.0</td>\n",
       "      <td>-9999.0</td>\n",
       "      <td>-9999.0</td>\n",
       "      <td>-9999.0</td>\n",
       "      <td>-9999.0</td>\n",
       "      <td>-9999.0</td>\n",
       "    </tr>\n",
       "    <tr>\n",
       "      <th>...</th>\n",
       "      <td>...</td>\n",
       "      <td>...</td>\n",
       "      <td>...</td>\n",
       "      <td>...</td>\n",
       "      <td>...</td>\n",
       "      <td>...</td>\n",
       "      <td>...</td>\n",
       "      <td>...</td>\n",
       "      <td>...</td>\n",
       "      <td>...</td>\n",
       "      <td>...</td>\n",
       "      <td>...</td>\n",
       "      <td>...</td>\n",
       "      <td>...</td>\n",
       "      <td>...</td>\n",
       "      <td>...</td>\n",
       "      <td>...</td>\n",
       "      <td>...</td>\n",
       "      <td>...</td>\n",
       "      <td>...</td>\n",
       "      <td>...</td>\n",
       "    </tr>\n",
       "    <tr>\n",
       "      <th>856399</th>\n",
       "      <td>438141</td>\n",
       "      <td>358919</td>\n",
       "      <td>YUG064</td>\n",
       "      <td>118.838935</td>\n",
       "      <td>-28.610698</td>\n",
       "      <td>DD</td>\n",
       "      <td>360</td>\n",
       "      <td>-90</td>\n",
       "      <td>128.60</td>\n",
       "      <td>74594</td>\n",
       "      <td>...</td>\n",
       "      <td>-9999</td>\n",
       "      <td>-9999.0</td>\n",
       "      <td>-9999.0</td>\n",
       "      <td>-9999.0</td>\n",
       "      <td>-9999.0</td>\n",
       "      <td>-9999.0</td>\n",
       "      <td>-9999.0</td>\n",
       "      <td>-9999.0</td>\n",
       "      <td>-9999.0</td>\n",
       "      <td>-9999.0</td>\n",
       "    </tr>\n",
       "    <tr>\n",
       "      <th>856400</th>\n",
       "      <td>5572638</td>\n",
       "      <td>2659184</td>\n",
       "      <td>NHUG0033</td>\n",
       "      <td>120.497193</td>\n",
       "      <td>-27.985881</td>\n",
       "      <td>DD</td>\n",
       "      <td>360</td>\n",
       "      <td>-90</td>\n",
       "      <td>186.93</td>\n",
       "      <td>61309</td>\n",
       "      <td>...</td>\n",
       "      <td>-9999</td>\n",
       "      <td>-9999.0</td>\n",
       "      <td>-9999.0</td>\n",
       "      <td>-9999.0</td>\n",
       "      <td>-9999.0</td>\n",
       "      <td>-9999.0</td>\n",
       "      <td>-9999.0</td>\n",
       "      <td>-9999.0</td>\n",
       "      <td>-9999.0</td>\n",
       "      <td>-9999.0</td>\n",
       "    </tr>\n",
       "    <tr>\n",
       "      <th>856401</th>\n",
       "      <td>4094110</td>\n",
       "      <td>1989988</td>\n",
       "      <td>VD11_31</td>\n",
       "      <td>121.565023</td>\n",
       "      <td>-30.615752</td>\n",
       "      <td>DD</td>\n",
       "      <td>360</td>\n",
       "      <td>-90</td>\n",
       "      <td>930.20</td>\n",
       "      <td>94524</td>\n",
       "      <td>...</td>\n",
       "      <td>-9999</td>\n",
       "      <td>-9999.0</td>\n",
       "      <td>-9999.0</td>\n",
       "      <td>-9999.0</td>\n",
       "      <td>-9999.0</td>\n",
       "      <td>-9999.0</td>\n",
       "      <td>-9999.0</td>\n",
       "      <td>-9999.0</td>\n",
       "      <td>-9999.0</td>\n",
       "      <td>-9999.0</td>\n",
       "    </tr>\n",
       "    <tr>\n",
       "      <th>856403</th>\n",
       "      <td>2103898</td>\n",
       "      <td>1093873</td>\n",
       "      <td>TWDD0286</td>\n",
       "      <td>121.330154</td>\n",
       "      <td>-28.895726</td>\n",
       "      <td>DD</td>\n",
       "      <td>360</td>\n",
       "      <td>-90</td>\n",
       "      <td>588.10</td>\n",
       "      <td>81260</td>\n",
       "      <td>...</td>\n",
       "      <td>-9999</td>\n",
       "      <td>-9999.0</td>\n",
       "      <td>-9999.0</td>\n",
       "      <td>-9999.0</td>\n",
       "      <td>-9999.0</td>\n",
       "      <td>-9999.0</td>\n",
       "      <td>-9999.0</td>\n",
       "      <td>-9999.0</td>\n",
       "      <td>-9999.0</td>\n",
       "      <td>-9999.0</td>\n",
       "    </tr>\n",
       "    <tr>\n",
       "      <th>856404</th>\n",
       "      <td>1349520</td>\n",
       "      <td>835336</td>\n",
       "      <td>HED051</td>\n",
       "      <td>121.227018</td>\n",
       "      <td>-30.539921</td>\n",
       "      <td>DD</td>\n",
       "      <td>360</td>\n",
       "      <td>-90</td>\n",
       "      <td>540.00</td>\n",
       "      <td>78766</td>\n",
       "      <td>...</td>\n",
       "      <td>-9999</td>\n",
       "      <td>-9999.0</td>\n",
       "      <td>-9999.0</td>\n",
       "      <td>-9999.0</td>\n",
       "      <td>-9999.0</td>\n",
       "      <td>-9999.0</td>\n",
       "      <td>-9999.0</td>\n",
       "      <td>-9999.0</td>\n",
       "      <td>-9999.0</td>\n",
       "      <td>-9999.0</td>\n",
       "    </tr>\n",
       "  </tbody>\n",
       "</table>\n",
       "<p>616755 rows × 172 columns</p>\n",
       "</div>"
      ],
      "text/plain": [
       "        Unnamed: 0  CollarId CompanyHoleId   Longitude   Latitude HoleType  \\\n",
       "1          2127794   1113830    NEMJRD9583  120.598003 -26.383791       DD   \n",
       "2          2628642   1277942    GCMCOBCD50  120.940469 -27.426364       DD   \n",
       "3          7269457   3418074        CRD113  121.229805 -30.708203       DD   \n",
       "4           237760    233053        GSD359  122.414937 -28.805433       DD   \n",
       "5          7611405   3524508  NEMJRD9957W1  120.597732 -26.391069       DD   \n",
       "...            ...       ...           ...         ...        ...      ...   \n",
       "856399      438141    358919        YUG064  118.838935 -28.610698       DD   \n",
       "856400     5572638   2659184      NHUG0033  120.497193 -27.985881       DD   \n",
       "856401     4094110   1989988       VD11_31  121.565023 -30.615752       DD   \n",
       "856403     2103898   1093873      TWDD0286  121.330154 -28.895726       DD   \n",
       "856404     1349520    835336        HED051  121.227018 -30.539921       DD   \n",
       "\n",
       "        Azimuth  Dip  MaxDepth  Anumber  ...  WO_PPM WO3_PPM   Y_PPM  \\\n",
       "1           360  -90   1099.05    81539  ...   -9999 -9999.0 -9999.0   \n",
       "2           360  -90    399.00    62231  ...   -9999 -9999.0 -9999.0   \n",
       "3           360  -90    848.00    61246  ...   -9999 -9999.0 -9999.0   \n",
       "4           360  -90    543.50    66814  ...   -9999 -9999.0 -9999.0   \n",
       "5           360  -90    262.13   101572  ...   -9999 -9999.0 -9999.0   \n",
       "...         ...  ...       ...      ...  ...     ...     ...     ...   \n",
       "856399      360  -90    128.60    74594  ...   -9999 -9999.0 -9999.0   \n",
       "856400      360  -90    186.93    61309  ...   -9999 -9999.0 -9999.0   \n",
       "856401      360  -90    930.20    94524  ...   -9999 -9999.0 -9999.0   \n",
       "856403      360  -90    588.10    81260  ...   -9999 -9999.0 -9999.0   \n",
       "856404      360  -90    540.00    78766  ...   -9999 -9999.0 -9999.0   \n",
       "\n",
       "        Y2O3_PPM  Yb_PPM  Yb2O3_PPM  Zn_PPM  ZnO_PPM  Zr_PPM  ZrO2_PPM  \n",
       "1        -9999.0 -9999.0    -9999.0 -9999.0  -9999.0 -9999.0   -9999.0  \n",
       "2        -9999.0 -9999.0    -9999.0 -9999.0  -9999.0 -9999.0   -9999.0  \n",
       "3        -9999.0 -9999.0    -9999.0 -9999.0  -9999.0 -9999.0   -9999.0  \n",
       "4        -9999.0 -9999.0    -9999.0 -9999.0  -9999.0 -9999.0   -9999.0  \n",
       "5        -9999.0 -9999.0    -9999.0 -9999.0  -9999.0 -9999.0   -9999.0  \n",
       "...          ...     ...        ...     ...      ...     ...       ...  \n",
       "856399   -9999.0 -9999.0    -9999.0 -9999.0  -9999.0 -9999.0   -9999.0  \n",
       "856400   -9999.0 -9999.0    -9999.0 -9999.0  -9999.0 -9999.0   -9999.0  \n",
       "856401   -9999.0 -9999.0    -9999.0 -9999.0  -9999.0 -9999.0   -9999.0  \n",
       "856403   -9999.0 -9999.0    -9999.0 -9999.0  -9999.0 -9999.0   -9999.0  \n",
       "856404   -9999.0 -9999.0    -9999.0 -9999.0  -9999.0 -9999.0   -9999.0  \n",
       "\n",
       "[616755 rows x 172 columns]"
      ]
     },
     "execution_count": 23,
     "metadata": {},
     "output_type": "execute_result"
    }
   ],
   "source": [
    "#number of rows where Cu is negative\n",
    "df[df['Cu_PPM'] < 0]"
   ]
  },
  {
   "cell_type": "code",
   "execution_count": 24,
   "metadata": {},
   "outputs": [
    {
     "data": {
      "text/html": [
       "<div>\n",
       "<style scoped>\n",
       "    .dataframe tbody tr th:only-of-type {\n",
       "        vertical-align: middle;\n",
       "    }\n",
       "\n",
       "    .dataframe tbody tr th {\n",
       "        vertical-align: top;\n",
       "    }\n",
       "\n",
       "    .dataframe thead th {\n",
       "        text-align: right;\n",
       "    }\n",
       "</style>\n",
       "<table border=\"1\" class=\"dataframe\">\n",
       "  <thead>\n",
       "    <tr style=\"text-align: right;\">\n",
       "      <th></th>\n",
       "      <th>Unnamed: 0</th>\n",
       "      <th>CollarId</th>\n",
       "      <th>CompanyHoleId</th>\n",
       "      <th>Longitude</th>\n",
       "      <th>Latitude</th>\n",
       "      <th>HoleType</th>\n",
       "      <th>Azimuth</th>\n",
       "      <th>Dip</th>\n",
       "      <th>MaxDepth</th>\n",
       "      <th>Anumber</th>\n",
       "      <th>...</th>\n",
       "      <th>WO_PPM</th>\n",
       "      <th>WO3_PPM</th>\n",
       "      <th>Y_PPM</th>\n",
       "      <th>Y2O3_PPM</th>\n",
       "      <th>Yb_PPM</th>\n",
       "      <th>Yb2O3_PPM</th>\n",
       "      <th>Zn_PPM</th>\n",
       "      <th>ZnO_PPM</th>\n",
       "      <th>Zr_PPM</th>\n",
       "      <th>ZrO2_PPM</th>\n",
       "    </tr>\n",
       "  </thead>\n",
       "  <tbody>\n",
       "    <tr>\n",
       "      <th>1</th>\n",
       "      <td>2127794</td>\n",
       "      <td>1113830</td>\n",
       "      <td>NEMJRD9583</td>\n",
       "      <td>120.598003</td>\n",
       "      <td>-26.383791</td>\n",
       "      <td>DD</td>\n",
       "      <td>360</td>\n",
       "      <td>-90</td>\n",
       "      <td>1099.05</td>\n",
       "      <td>81539</td>\n",
       "      <td>...</td>\n",
       "      <td>-9999</td>\n",
       "      <td>-9999.0</td>\n",
       "      <td>-9999.0</td>\n",
       "      <td>-9999.0</td>\n",
       "      <td>-9999.0</td>\n",
       "      <td>-9999.0</td>\n",
       "      <td>-9999.0</td>\n",
       "      <td>-9999.0</td>\n",
       "      <td>-9999.0</td>\n",
       "      <td>-9999.0</td>\n",
       "    </tr>\n",
       "    <tr>\n",
       "      <th>2</th>\n",
       "      <td>2628642</td>\n",
       "      <td>1277942</td>\n",
       "      <td>GCMCOBCD50</td>\n",
       "      <td>120.940469</td>\n",
       "      <td>-27.426364</td>\n",
       "      <td>DD</td>\n",
       "      <td>360</td>\n",
       "      <td>-90</td>\n",
       "      <td>399.00</td>\n",
       "      <td>62231</td>\n",
       "      <td>...</td>\n",
       "      <td>-9999</td>\n",
       "      <td>-9999.0</td>\n",
       "      <td>-9999.0</td>\n",
       "      <td>-9999.0</td>\n",
       "      <td>-9999.0</td>\n",
       "      <td>-9999.0</td>\n",
       "      <td>-9999.0</td>\n",
       "      <td>-9999.0</td>\n",
       "      <td>-9999.0</td>\n",
       "      <td>-9999.0</td>\n",
       "    </tr>\n",
       "    <tr>\n",
       "      <th>3</th>\n",
       "      <td>7269457</td>\n",
       "      <td>3418074</td>\n",
       "      <td>CRD113</td>\n",
       "      <td>121.229805</td>\n",
       "      <td>-30.708203</td>\n",
       "      <td>DD</td>\n",
       "      <td>360</td>\n",
       "      <td>-90</td>\n",
       "      <td>848.00</td>\n",
       "      <td>61246</td>\n",
       "      <td>...</td>\n",
       "      <td>-9999</td>\n",
       "      <td>-9999.0</td>\n",
       "      <td>-9999.0</td>\n",
       "      <td>-9999.0</td>\n",
       "      <td>-9999.0</td>\n",
       "      <td>-9999.0</td>\n",
       "      <td>-9999.0</td>\n",
       "      <td>-9999.0</td>\n",
       "      <td>-9999.0</td>\n",
       "      <td>-9999.0</td>\n",
       "    </tr>\n",
       "    <tr>\n",
       "      <th>4</th>\n",
       "      <td>237760</td>\n",
       "      <td>233053</td>\n",
       "      <td>GSD359</td>\n",
       "      <td>122.414937</td>\n",
       "      <td>-28.805433</td>\n",
       "      <td>DD</td>\n",
       "      <td>360</td>\n",
       "      <td>-90</td>\n",
       "      <td>543.50</td>\n",
       "      <td>66814</td>\n",
       "      <td>...</td>\n",
       "      <td>-9999</td>\n",
       "      <td>-9999.0</td>\n",
       "      <td>-9999.0</td>\n",
       "      <td>-9999.0</td>\n",
       "      <td>-9999.0</td>\n",
       "      <td>-9999.0</td>\n",
       "      <td>-9999.0</td>\n",
       "      <td>-9999.0</td>\n",
       "      <td>-9999.0</td>\n",
       "      <td>-9999.0</td>\n",
       "    </tr>\n",
       "    <tr>\n",
       "      <th>5</th>\n",
       "      <td>7611405</td>\n",
       "      <td>3524508</td>\n",
       "      <td>NEMJRD9957W1</td>\n",
       "      <td>120.597732</td>\n",
       "      <td>-26.391069</td>\n",
       "      <td>DD</td>\n",
       "      <td>360</td>\n",
       "      <td>-90</td>\n",
       "      <td>262.13</td>\n",
       "      <td>101572</td>\n",
       "      <td>...</td>\n",
       "      <td>-9999</td>\n",
       "      <td>-9999.0</td>\n",
       "      <td>-9999.0</td>\n",
       "      <td>-9999.0</td>\n",
       "      <td>-9999.0</td>\n",
       "      <td>-9999.0</td>\n",
       "      <td>-9999.0</td>\n",
       "      <td>-9999.0</td>\n",
       "      <td>-9999.0</td>\n",
       "      <td>-9999.0</td>\n",
       "    </tr>\n",
       "    <tr>\n",
       "      <th>...</th>\n",
       "      <td>...</td>\n",
       "      <td>...</td>\n",
       "      <td>...</td>\n",
       "      <td>...</td>\n",
       "      <td>...</td>\n",
       "      <td>...</td>\n",
       "      <td>...</td>\n",
       "      <td>...</td>\n",
       "      <td>...</td>\n",
       "      <td>...</td>\n",
       "      <td>...</td>\n",
       "      <td>...</td>\n",
       "      <td>...</td>\n",
       "      <td>...</td>\n",
       "      <td>...</td>\n",
       "      <td>...</td>\n",
       "      <td>...</td>\n",
       "      <td>...</td>\n",
       "      <td>...</td>\n",
       "      <td>...</td>\n",
       "      <td>...</td>\n",
       "    </tr>\n",
       "    <tr>\n",
       "      <th>856400</th>\n",
       "      <td>5572638</td>\n",
       "      <td>2659184</td>\n",
       "      <td>NHUG0033</td>\n",
       "      <td>120.497193</td>\n",
       "      <td>-27.985881</td>\n",
       "      <td>DD</td>\n",
       "      <td>360</td>\n",
       "      <td>-90</td>\n",
       "      <td>186.93</td>\n",
       "      <td>61309</td>\n",
       "      <td>...</td>\n",
       "      <td>-9999</td>\n",
       "      <td>-9999.0</td>\n",
       "      <td>-9999.0</td>\n",
       "      <td>-9999.0</td>\n",
       "      <td>-9999.0</td>\n",
       "      <td>-9999.0</td>\n",
       "      <td>-9999.0</td>\n",
       "      <td>-9999.0</td>\n",
       "      <td>-9999.0</td>\n",
       "      <td>-9999.0</td>\n",
       "    </tr>\n",
       "    <tr>\n",
       "      <th>856401</th>\n",
       "      <td>4094110</td>\n",
       "      <td>1989988</td>\n",
       "      <td>VD11_31</td>\n",
       "      <td>121.565023</td>\n",
       "      <td>-30.615752</td>\n",
       "      <td>DD</td>\n",
       "      <td>360</td>\n",
       "      <td>-90</td>\n",
       "      <td>930.20</td>\n",
       "      <td>94524</td>\n",
       "      <td>...</td>\n",
       "      <td>-9999</td>\n",
       "      <td>-9999.0</td>\n",
       "      <td>-9999.0</td>\n",
       "      <td>-9999.0</td>\n",
       "      <td>-9999.0</td>\n",
       "      <td>-9999.0</td>\n",
       "      <td>-9999.0</td>\n",
       "      <td>-9999.0</td>\n",
       "      <td>-9999.0</td>\n",
       "      <td>-9999.0</td>\n",
       "    </tr>\n",
       "    <tr>\n",
       "      <th>856402</th>\n",
       "      <td>791301</td>\n",
       "      <td>562730</td>\n",
       "      <td>CLD183</td>\n",
       "      <td>122.216975</td>\n",
       "      <td>-26.911738</td>\n",
       "      <td>DD</td>\n",
       "      <td>360</td>\n",
       "      <td>-90</td>\n",
       "      <td>407.90</td>\n",
       "      <td>74928</td>\n",
       "      <td>...</td>\n",
       "      <td>-9999</td>\n",
       "      <td>-9999.0</td>\n",
       "      <td>1.9</td>\n",
       "      <td>-9999.0</td>\n",
       "      <td>-9999.0</td>\n",
       "      <td>-9999.0</td>\n",
       "      <td>54.0</td>\n",
       "      <td>-9999.0</td>\n",
       "      <td>-9999.0</td>\n",
       "      <td>-9999.0</td>\n",
       "    </tr>\n",
       "    <tr>\n",
       "      <th>856403</th>\n",
       "      <td>2103898</td>\n",
       "      <td>1093873</td>\n",
       "      <td>TWDD0286</td>\n",
       "      <td>121.330154</td>\n",
       "      <td>-28.895726</td>\n",
       "      <td>DD</td>\n",
       "      <td>360</td>\n",
       "      <td>-90</td>\n",
       "      <td>588.10</td>\n",
       "      <td>81260</td>\n",
       "      <td>...</td>\n",
       "      <td>-9999</td>\n",
       "      <td>-9999.0</td>\n",
       "      <td>-9999.0</td>\n",
       "      <td>-9999.0</td>\n",
       "      <td>-9999.0</td>\n",
       "      <td>-9999.0</td>\n",
       "      <td>-9999.0</td>\n",
       "      <td>-9999.0</td>\n",
       "      <td>-9999.0</td>\n",
       "      <td>-9999.0</td>\n",
       "    </tr>\n",
       "    <tr>\n",
       "      <th>856404</th>\n",
       "      <td>1349520</td>\n",
       "      <td>835336</td>\n",
       "      <td>HED051</td>\n",
       "      <td>121.227018</td>\n",
       "      <td>-30.539921</td>\n",
       "      <td>DD</td>\n",
       "      <td>360</td>\n",
       "      <td>-90</td>\n",
       "      <td>540.00</td>\n",
       "      <td>78766</td>\n",
       "      <td>...</td>\n",
       "      <td>-9999</td>\n",
       "      <td>-9999.0</td>\n",
       "      <td>-9999.0</td>\n",
       "      <td>-9999.0</td>\n",
       "      <td>-9999.0</td>\n",
       "      <td>-9999.0</td>\n",
       "      <td>-9999.0</td>\n",
       "      <td>-9999.0</td>\n",
       "      <td>-9999.0</td>\n",
       "      <td>-9999.0</td>\n",
       "    </tr>\n",
       "  </tbody>\n",
       "</table>\n",
       "<p>681840 rows × 172 columns</p>\n",
       "</div>"
      ],
      "text/plain": [
       "        Unnamed: 0  CollarId CompanyHoleId   Longitude   Latitude HoleType  \\\n",
       "1          2127794   1113830    NEMJRD9583  120.598003 -26.383791       DD   \n",
       "2          2628642   1277942    GCMCOBCD50  120.940469 -27.426364       DD   \n",
       "3          7269457   3418074        CRD113  121.229805 -30.708203       DD   \n",
       "4           237760    233053        GSD359  122.414937 -28.805433       DD   \n",
       "5          7611405   3524508  NEMJRD9957W1  120.597732 -26.391069       DD   \n",
       "...            ...       ...           ...         ...        ...      ...   \n",
       "856400     5572638   2659184      NHUG0033  120.497193 -27.985881       DD   \n",
       "856401     4094110   1989988       VD11_31  121.565023 -30.615752       DD   \n",
       "856402      791301    562730        CLD183  122.216975 -26.911738       DD   \n",
       "856403     2103898   1093873      TWDD0286  121.330154 -28.895726       DD   \n",
       "856404     1349520    835336        HED051  121.227018 -30.539921       DD   \n",
       "\n",
       "        Azimuth  Dip  MaxDepth  Anumber  ...  WO_PPM WO3_PPM   Y_PPM  \\\n",
       "1           360  -90   1099.05    81539  ...   -9999 -9999.0 -9999.0   \n",
       "2           360  -90    399.00    62231  ...   -9999 -9999.0 -9999.0   \n",
       "3           360  -90    848.00    61246  ...   -9999 -9999.0 -9999.0   \n",
       "4           360  -90    543.50    66814  ...   -9999 -9999.0 -9999.0   \n",
       "5           360  -90    262.13   101572  ...   -9999 -9999.0 -9999.0   \n",
       "...         ...  ...       ...      ...  ...     ...     ...     ...   \n",
       "856400      360  -90    186.93    61309  ...   -9999 -9999.0 -9999.0   \n",
       "856401      360  -90    930.20    94524  ...   -9999 -9999.0 -9999.0   \n",
       "856402      360  -90    407.90    74928  ...   -9999 -9999.0     1.9   \n",
       "856403      360  -90    588.10    81260  ...   -9999 -9999.0 -9999.0   \n",
       "856404      360  -90    540.00    78766  ...   -9999 -9999.0 -9999.0   \n",
       "\n",
       "        Y2O3_PPM  Yb_PPM  Yb2O3_PPM  Zn_PPM  ZnO_PPM  Zr_PPM  ZrO2_PPM  \n",
       "1        -9999.0 -9999.0    -9999.0 -9999.0  -9999.0 -9999.0   -9999.0  \n",
       "2        -9999.0 -9999.0    -9999.0 -9999.0  -9999.0 -9999.0   -9999.0  \n",
       "3        -9999.0 -9999.0    -9999.0 -9999.0  -9999.0 -9999.0   -9999.0  \n",
       "4        -9999.0 -9999.0    -9999.0 -9999.0  -9999.0 -9999.0   -9999.0  \n",
       "5        -9999.0 -9999.0    -9999.0 -9999.0  -9999.0 -9999.0   -9999.0  \n",
       "...          ...     ...        ...     ...      ...     ...       ...  \n",
       "856400   -9999.0 -9999.0    -9999.0 -9999.0  -9999.0 -9999.0   -9999.0  \n",
       "856401   -9999.0 -9999.0    -9999.0 -9999.0  -9999.0 -9999.0   -9999.0  \n",
       "856402   -9999.0 -9999.0    -9999.0    54.0  -9999.0 -9999.0   -9999.0  \n",
       "856403   -9999.0 -9999.0    -9999.0 -9999.0  -9999.0 -9999.0   -9999.0  \n",
       "856404   -9999.0 -9999.0    -9999.0 -9999.0  -9999.0 -9999.0   -9999.0  \n",
       "\n",
       "[681840 rows x 172 columns]"
      ]
     },
     "execution_count": 24,
     "metadata": {},
     "output_type": "execute_result"
    }
   ],
   "source": [
    "#number of rows where Ni is negative\n",
    "df[df['Ni_PPM'] < 0]"
   ]
  },
  {
   "cell_type": "code",
   "execution_count": 25,
   "metadata": {},
   "outputs": [
    {
     "data": {
      "text/html": [
       "<div>\n",
       "<style scoped>\n",
       "    .dataframe tbody tr th:only-of-type {\n",
       "        vertical-align: middle;\n",
       "    }\n",
       "\n",
       "    .dataframe tbody tr th {\n",
       "        vertical-align: top;\n",
       "    }\n",
       "\n",
       "    .dataframe thead th {\n",
       "        text-align: right;\n",
       "    }\n",
       "</style>\n",
       "<table border=\"1\" class=\"dataframe\">\n",
       "  <thead>\n",
       "    <tr style=\"text-align: right;\">\n",
       "      <th></th>\n",
       "      <th>Unnamed: 0</th>\n",
       "      <th>CollarId</th>\n",
       "      <th>CompanyHoleId</th>\n",
       "      <th>Longitude</th>\n",
       "      <th>Latitude</th>\n",
       "      <th>HoleType</th>\n",
       "      <th>Azimuth</th>\n",
       "      <th>Dip</th>\n",
       "      <th>MaxDepth</th>\n",
       "      <th>Anumber</th>\n",
       "      <th>...</th>\n",
       "      <th>WO_PPM</th>\n",
       "      <th>WO3_PPM</th>\n",
       "      <th>Y_PPM</th>\n",
       "      <th>Y2O3_PPM</th>\n",
       "      <th>Yb_PPM</th>\n",
       "      <th>Yb2O3_PPM</th>\n",
       "      <th>Zn_PPM</th>\n",
       "      <th>ZnO_PPM</th>\n",
       "      <th>Zr_PPM</th>\n",
       "      <th>ZrO2_PPM</th>\n",
       "    </tr>\n",
       "  </thead>\n",
       "  <tbody>\n",
       "    <tr>\n",
       "      <th>1</th>\n",
       "      <td>2127794</td>\n",
       "      <td>1113830</td>\n",
       "      <td>NEMJRD9583</td>\n",
       "      <td>120.598003</td>\n",
       "      <td>-26.383791</td>\n",
       "      <td>DD</td>\n",
       "      <td>360</td>\n",
       "      <td>-90</td>\n",
       "      <td>1099.05</td>\n",
       "      <td>81539</td>\n",
       "      <td>...</td>\n",
       "      <td>-9999</td>\n",
       "      <td>-9999.0</td>\n",
       "      <td>-9999.0</td>\n",
       "      <td>-9999.0</td>\n",
       "      <td>-9999.0</td>\n",
       "      <td>-9999.0</td>\n",
       "      <td>-9999.0</td>\n",
       "      <td>-9999.0</td>\n",
       "      <td>-9999.0</td>\n",
       "      <td>-9999.0</td>\n",
       "    </tr>\n",
       "    <tr>\n",
       "      <th>2</th>\n",
       "      <td>2628642</td>\n",
       "      <td>1277942</td>\n",
       "      <td>GCMCOBCD50</td>\n",
       "      <td>120.940469</td>\n",
       "      <td>-27.426364</td>\n",
       "      <td>DD</td>\n",
       "      <td>360</td>\n",
       "      <td>-90</td>\n",
       "      <td>399.00</td>\n",
       "      <td>62231</td>\n",
       "      <td>...</td>\n",
       "      <td>-9999</td>\n",
       "      <td>-9999.0</td>\n",
       "      <td>-9999.0</td>\n",
       "      <td>-9999.0</td>\n",
       "      <td>-9999.0</td>\n",
       "      <td>-9999.0</td>\n",
       "      <td>-9999.0</td>\n",
       "      <td>-9999.0</td>\n",
       "      <td>-9999.0</td>\n",
       "      <td>-9999.0</td>\n",
       "    </tr>\n",
       "    <tr>\n",
       "      <th>3</th>\n",
       "      <td>7269457</td>\n",
       "      <td>3418074</td>\n",
       "      <td>CRD113</td>\n",
       "      <td>121.229805</td>\n",
       "      <td>-30.708203</td>\n",
       "      <td>DD</td>\n",
       "      <td>360</td>\n",
       "      <td>-90</td>\n",
       "      <td>848.00</td>\n",
       "      <td>61246</td>\n",
       "      <td>...</td>\n",
       "      <td>-9999</td>\n",
       "      <td>-9999.0</td>\n",
       "      <td>-9999.0</td>\n",
       "      <td>-9999.0</td>\n",
       "      <td>-9999.0</td>\n",
       "      <td>-9999.0</td>\n",
       "      <td>-9999.0</td>\n",
       "      <td>-9999.0</td>\n",
       "      <td>-9999.0</td>\n",
       "      <td>-9999.0</td>\n",
       "    </tr>\n",
       "    <tr>\n",
       "      <th>4</th>\n",
       "      <td>237760</td>\n",
       "      <td>233053</td>\n",
       "      <td>GSD359</td>\n",
       "      <td>122.414937</td>\n",
       "      <td>-28.805433</td>\n",
       "      <td>DD</td>\n",
       "      <td>360</td>\n",
       "      <td>-90</td>\n",
       "      <td>543.50</td>\n",
       "      <td>66814</td>\n",
       "      <td>...</td>\n",
       "      <td>-9999</td>\n",
       "      <td>-9999.0</td>\n",
       "      <td>-9999.0</td>\n",
       "      <td>-9999.0</td>\n",
       "      <td>-9999.0</td>\n",
       "      <td>-9999.0</td>\n",
       "      <td>-9999.0</td>\n",
       "      <td>-9999.0</td>\n",
       "      <td>-9999.0</td>\n",
       "      <td>-9999.0</td>\n",
       "    </tr>\n",
       "    <tr>\n",
       "      <th>5</th>\n",
       "      <td>7611405</td>\n",
       "      <td>3524508</td>\n",
       "      <td>NEMJRD9957W1</td>\n",
       "      <td>120.597732</td>\n",
       "      <td>-26.391069</td>\n",
       "      <td>DD</td>\n",
       "      <td>360</td>\n",
       "      <td>-90</td>\n",
       "      <td>262.13</td>\n",
       "      <td>101572</td>\n",
       "      <td>...</td>\n",
       "      <td>-9999</td>\n",
       "      <td>-9999.0</td>\n",
       "      <td>-9999.0</td>\n",
       "      <td>-9999.0</td>\n",
       "      <td>-9999.0</td>\n",
       "      <td>-9999.0</td>\n",
       "      <td>-9999.0</td>\n",
       "      <td>-9999.0</td>\n",
       "      <td>-9999.0</td>\n",
       "      <td>-9999.0</td>\n",
       "    </tr>\n",
       "    <tr>\n",
       "      <th>...</th>\n",
       "      <td>...</td>\n",
       "      <td>...</td>\n",
       "      <td>...</td>\n",
       "      <td>...</td>\n",
       "      <td>...</td>\n",
       "      <td>...</td>\n",
       "      <td>...</td>\n",
       "      <td>...</td>\n",
       "      <td>...</td>\n",
       "      <td>...</td>\n",
       "      <td>...</td>\n",
       "      <td>...</td>\n",
       "      <td>...</td>\n",
       "      <td>...</td>\n",
       "      <td>...</td>\n",
       "      <td>...</td>\n",
       "      <td>...</td>\n",
       "      <td>...</td>\n",
       "      <td>...</td>\n",
       "      <td>...</td>\n",
       "      <td>...</td>\n",
       "    </tr>\n",
       "    <tr>\n",
       "      <th>856399</th>\n",
       "      <td>438141</td>\n",
       "      <td>358919</td>\n",
       "      <td>YUG064</td>\n",
       "      <td>118.838935</td>\n",
       "      <td>-28.610698</td>\n",
       "      <td>DD</td>\n",
       "      <td>360</td>\n",
       "      <td>-90</td>\n",
       "      <td>128.60</td>\n",
       "      <td>74594</td>\n",
       "      <td>...</td>\n",
       "      <td>-9999</td>\n",
       "      <td>-9999.0</td>\n",
       "      <td>-9999.0</td>\n",
       "      <td>-9999.0</td>\n",
       "      <td>-9999.0</td>\n",
       "      <td>-9999.0</td>\n",
       "      <td>-9999.0</td>\n",
       "      <td>-9999.0</td>\n",
       "      <td>-9999.0</td>\n",
       "      <td>-9999.0</td>\n",
       "    </tr>\n",
       "    <tr>\n",
       "      <th>856400</th>\n",
       "      <td>5572638</td>\n",
       "      <td>2659184</td>\n",
       "      <td>NHUG0033</td>\n",
       "      <td>120.497193</td>\n",
       "      <td>-27.985881</td>\n",
       "      <td>DD</td>\n",
       "      <td>360</td>\n",
       "      <td>-90</td>\n",
       "      <td>186.93</td>\n",
       "      <td>61309</td>\n",
       "      <td>...</td>\n",
       "      <td>-9999</td>\n",
       "      <td>-9999.0</td>\n",
       "      <td>-9999.0</td>\n",
       "      <td>-9999.0</td>\n",
       "      <td>-9999.0</td>\n",
       "      <td>-9999.0</td>\n",
       "      <td>-9999.0</td>\n",
       "      <td>-9999.0</td>\n",
       "      <td>-9999.0</td>\n",
       "      <td>-9999.0</td>\n",
       "    </tr>\n",
       "    <tr>\n",
       "      <th>856401</th>\n",
       "      <td>4094110</td>\n",
       "      <td>1989988</td>\n",
       "      <td>VD11_31</td>\n",
       "      <td>121.565023</td>\n",
       "      <td>-30.615752</td>\n",
       "      <td>DD</td>\n",
       "      <td>360</td>\n",
       "      <td>-90</td>\n",
       "      <td>930.20</td>\n",
       "      <td>94524</td>\n",
       "      <td>...</td>\n",
       "      <td>-9999</td>\n",
       "      <td>-9999.0</td>\n",
       "      <td>-9999.0</td>\n",
       "      <td>-9999.0</td>\n",
       "      <td>-9999.0</td>\n",
       "      <td>-9999.0</td>\n",
       "      <td>-9999.0</td>\n",
       "      <td>-9999.0</td>\n",
       "      <td>-9999.0</td>\n",
       "      <td>-9999.0</td>\n",
       "    </tr>\n",
       "    <tr>\n",
       "      <th>856403</th>\n",
       "      <td>2103898</td>\n",
       "      <td>1093873</td>\n",
       "      <td>TWDD0286</td>\n",
       "      <td>121.330154</td>\n",
       "      <td>-28.895726</td>\n",
       "      <td>DD</td>\n",
       "      <td>360</td>\n",
       "      <td>-90</td>\n",
       "      <td>588.10</td>\n",
       "      <td>81260</td>\n",
       "      <td>...</td>\n",
       "      <td>-9999</td>\n",
       "      <td>-9999.0</td>\n",
       "      <td>-9999.0</td>\n",
       "      <td>-9999.0</td>\n",
       "      <td>-9999.0</td>\n",
       "      <td>-9999.0</td>\n",
       "      <td>-9999.0</td>\n",
       "      <td>-9999.0</td>\n",
       "      <td>-9999.0</td>\n",
       "      <td>-9999.0</td>\n",
       "    </tr>\n",
       "    <tr>\n",
       "      <th>856404</th>\n",
       "      <td>1349520</td>\n",
       "      <td>835336</td>\n",
       "      <td>HED051</td>\n",
       "      <td>121.227018</td>\n",
       "      <td>-30.539921</td>\n",
       "      <td>DD</td>\n",
       "      <td>360</td>\n",
       "      <td>-90</td>\n",
       "      <td>540.00</td>\n",
       "      <td>78766</td>\n",
       "      <td>...</td>\n",
       "      <td>-9999</td>\n",
       "      <td>-9999.0</td>\n",
       "      <td>-9999.0</td>\n",
       "      <td>-9999.0</td>\n",
       "      <td>-9999.0</td>\n",
       "      <td>-9999.0</td>\n",
       "      <td>-9999.0</td>\n",
       "      <td>-9999.0</td>\n",
       "      <td>-9999.0</td>\n",
       "      <td>-9999.0</td>\n",
       "    </tr>\n",
       "  </tbody>\n",
       "</table>\n",
       "<p>675481 rows × 172 columns</p>\n",
       "</div>"
      ],
      "text/plain": [
       "        Unnamed: 0  CollarId CompanyHoleId   Longitude   Latitude HoleType  \\\n",
       "1          2127794   1113830    NEMJRD9583  120.598003 -26.383791       DD   \n",
       "2          2628642   1277942    GCMCOBCD50  120.940469 -27.426364       DD   \n",
       "3          7269457   3418074        CRD113  121.229805 -30.708203       DD   \n",
       "4           237760    233053        GSD359  122.414937 -28.805433       DD   \n",
       "5          7611405   3524508  NEMJRD9957W1  120.597732 -26.391069       DD   \n",
       "...            ...       ...           ...         ...        ...      ...   \n",
       "856399      438141    358919        YUG064  118.838935 -28.610698       DD   \n",
       "856400     5572638   2659184      NHUG0033  120.497193 -27.985881       DD   \n",
       "856401     4094110   1989988       VD11_31  121.565023 -30.615752       DD   \n",
       "856403     2103898   1093873      TWDD0286  121.330154 -28.895726       DD   \n",
       "856404     1349520    835336        HED051  121.227018 -30.539921       DD   \n",
       "\n",
       "        Azimuth  Dip  MaxDepth  Anumber  ...  WO_PPM WO3_PPM   Y_PPM  \\\n",
       "1           360  -90   1099.05    81539  ...   -9999 -9999.0 -9999.0   \n",
       "2           360  -90    399.00    62231  ...   -9999 -9999.0 -9999.0   \n",
       "3           360  -90    848.00    61246  ...   -9999 -9999.0 -9999.0   \n",
       "4           360  -90    543.50    66814  ...   -9999 -9999.0 -9999.0   \n",
       "5           360  -90    262.13   101572  ...   -9999 -9999.0 -9999.0   \n",
       "...         ...  ...       ...      ...  ...     ...     ...     ...   \n",
       "856399      360  -90    128.60    74594  ...   -9999 -9999.0 -9999.0   \n",
       "856400      360  -90    186.93    61309  ...   -9999 -9999.0 -9999.0   \n",
       "856401      360  -90    930.20    94524  ...   -9999 -9999.0 -9999.0   \n",
       "856403      360  -90    588.10    81260  ...   -9999 -9999.0 -9999.0   \n",
       "856404      360  -90    540.00    78766  ...   -9999 -9999.0 -9999.0   \n",
       "\n",
       "        Y2O3_PPM  Yb_PPM  Yb2O3_PPM  Zn_PPM  ZnO_PPM  Zr_PPM  ZrO2_PPM  \n",
       "1        -9999.0 -9999.0    -9999.0 -9999.0  -9999.0 -9999.0   -9999.0  \n",
       "2        -9999.0 -9999.0    -9999.0 -9999.0  -9999.0 -9999.0   -9999.0  \n",
       "3        -9999.0 -9999.0    -9999.0 -9999.0  -9999.0 -9999.0   -9999.0  \n",
       "4        -9999.0 -9999.0    -9999.0 -9999.0  -9999.0 -9999.0   -9999.0  \n",
       "5        -9999.0 -9999.0    -9999.0 -9999.0  -9999.0 -9999.0   -9999.0  \n",
       "...          ...     ...        ...     ...      ...     ...       ...  \n",
       "856399   -9999.0 -9999.0    -9999.0 -9999.0  -9999.0 -9999.0   -9999.0  \n",
       "856400   -9999.0 -9999.0    -9999.0 -9999.0  -9999.0 -9999.0   -9999.0  \n",
       "856401   -9999.0 -9999.0    -9999.0 -9999.0  -9999.0 -9999.0   -9999.0  \n",
       "856403   -9999.0 -9999.0    -9999.0 -9999.0  -9999.0 -9999.0   -9999.0  \n",
       "856404   -9999.0 -9999.0    -9999.0 -9999.0  -9999.0 -9999.0   -9999.0  \n",
       "\n",
       "[675481 rows x 172 columns]"
      ]
     },
     "execution_count": 25,
     "metadata": {},
     "output_type": "execute_result"
    }
   ],
   "source": [
    "#number of rows where Co is negative\n",
    "df[df['Co_PPM'] < 0]"
   ]
  },
  {
   "cell_type": "code",
   "execution_count": 26,
   "metadata": {},
   "outputs": [
    {
     "data": {
      "text/html": [
       "<div>\n",
       "<style scoped>\n",
       "    .dataframe tbody tr th:only-of-type {\n",
       "        vertical-align: middle;\n",
       "    }\n",
       "\n",
       "    .dataframe tbody tr th {\n",
       "        vertical-align: top;\n",
       "    }\n",
       "\n",
       "    .dataframe thead th {\n",
       "        text-align: right;\n",
       "    }\n",
       "</style>\n",
       "<table border=\"1\" class=\"dataframe\">\n",
       "  <thead>\n",
       "    <tr style=\"text-align: right;\">\n",
       "      <th></th>\n",
       "      <th>Unnamed: 0</th>\n",
       "      <th>CollarId</th>\n",
       "      <th>CompanyHoleId</th>\n",
       "      <th>Longitude</th>\n",
       "      <th>Latitude</th>\n",
       "      <th>HoleType</th>\n",
       "      <th>Azimuth</th>\n",
       "      <th>Dip</th>\n",
       "      <th>MaxDepth</th>\n",
       "      <th>Anumber</th>\n",
       "      <th>...</th>\n",
       "      <th>WO_PPM</th>\n",
       "      <th>WO3_PPM</th>\n",
       "      <th>Y_PPM</th>\n",
       "      <th>Y2O3_PPM</th>\n",
       "      <th>Yb_PPM</th>\n",
       "      <th>Yb2O3_PPM</th>\n",
       "      <th>Zn_PPM</th>\n",
       "      <th>ZnO_PPM</th>\n",
       "      <th>Zr_PPM</th>\n",
       "      <th>ZrO2_PPM</th>\n",
       "    </tr>\n",
       "  </thead>\n",
       "  <tbody>\n",
       "    <tr>\n",
       "      <th>0</th>\n",
       "      <td>1421455</td>\n",
       "      <td>868290</td>\n",
       "      <td>AMD352</td>\n",
       "      <td>120.573672</td>\n",
       "      <td>-27.606633</td>\n",
       "      <td>DD</td>\n",
       "      <td>360</td>\n",
       "      <td>-90</td>\n",
       "      <td>338.60</td>\n",
       "      <td>79089</td>\n",
       "      <td>...</td>\n",
       "      <td>-9999</td>\n",
       "      <td>-9999.0</td>\n",
       "      <td>-9999.0</td>\n",
       "      <td>-9999.0</td>\n",
       "      <td>-9999.0</td>\n",
       "      <td>-9999.0</td>\n",
       "      <td>82.0</td>\n",
       "      <td>-9999.0</td>\n",
       "      <td>8.0</td>\n",
       "      <td>-9999.0</td>\n",
       "    </tr>\n",
       "    <tr>\n",
       "      <th>1</th>\n",
       "      <td>2127794</td>\n",
       "      <td>1113830</td>\n",
       "      <td>NEMJRD9583</td>\n",
       "      <td>120.598003</td>\n",
       "      <td>-26.383791</td>\n",
       "      <td>DD</td>\n",
       "      <td>360</td>\n",
       "      <td>-90</td>\n",
       "      <td>1099.05</td>\n",
       "      <td>81539</td>\n",
       "      <td>...</td>\n",
       "      <td>-9999</td>\n",
       "      <td>-9999.0</td>\n",
       "      <td>-9999.0</td>\n",
       "      <td>-9999.0</td>\n",
       "      <td>-9999.0</td>\n",
       "      <td>-9999.0</td>\n",
       "      <td>-9999.0</td>\n",
       "      <td>-9999.0</td>\n",
       "      <td>-9999.0</td>\n",
       "      <td>-9999.0</td>\n",
       "    </tr>\n",
       "    <tr>\n",
       "      <th>2</th>\n",
       "      <td>2628642</td>\n",
       "      <td>1277942</td>\n",
       "      <td>GCMCOBCD50</td>\n",
       "      <td>120.940469</td>\n",
       "      <td>-27.426364</td>\n",
       "      <td>DD</td>\n",
       "      <td>360</td>\n",
       "      <td>-90</td>\n",
       "      <td>399.00</td>\n",
       "      <td>62231</td>\n",
       "      <td>...</td>\n",
       "      <td>-9999</td>\n",
       "      <td>-9999.0</td>\n",
       "      <td>-9999.0</td>\n",
       "      <td>-9999.0</td>\n",
       "      <td>-9999.0</td>\n",
       "      <td>-9999.0</td>\n",
       "      <td>-9999.0</td>\n",
       "      <td>-9999.0</td>\n",
       "      <td>-9999.0</td>\n",
       "      <td>-9999.0</td>\n",
       "    </tr>\n",
       "    <tr>\n",
       "      <th>3</th>\n",
       "      <td>7269457</td>\n",
       "      <td>3418074</td>\n",
       "      <td>CRD113</td>\n",
       "      <td>121.229805</td>\n",
       "      <td>-30.708203</td>\n",
       "      <td>DD</td>\n",
       "      <td>360</td>\n",
       "      <td>-90</td>\n",
       "      <td>848.00</td>\n",
       "      <td>61246</td>\n",
       "      <td>...</td>\n",
       "      <td>-9999</td>\n",
       "      <td>-9999.0</td>\n",
       "      <td>-9999.0</td>\n",
       "      <td>-9999.0</td>\n",
       "      <td>-9999.0</td>\n",
       "      <td>-9999.0</td>\n",
       "      <td>-9999.0</td>\n",
       "      <td>-9999.0</td>\n",
       "      <td>-9999.0</td>\n",
       "      <td>-9999.0</td>\n",
       "    </tr>\n",
       "    <tr>\n",
       "      <th>4</th>\n",
       "      <td>237760</td>\n",
       "      <td>233053</td>\n",
       "      <td>GSD359</td>\n",
       "      <td>122.414937</td>\n",
       "      <td>-28.805433</td>\n",
       "      <td>DD</td>\n",
       "      <td>360</td>\n",
       "      <td>-90</td>\n",
       "      <td>543.50</td>\n",
       "      <td>66814</td>\n",
       "      <td>...</td>\n",
       "      <td>-9999</td>\n",
       "      <td>-9999.0</td>\n",
       "      <td>-9999.0</td>\n",
       "      <td>-9999.0</td>\n",
       "      <td>-9999.0</td>\n",
       "      <td>-9999.0</td>\n",
       "      <td>-9999.0</td>\n",
       "      <td>-9999.0</td>\n",
       "      <td>-9999.0</td>\n",
       "      <td>-9999.0</td>\n",
       "    </tr>\n",
       "    <tr>\n",
       "      <th>...</th>\n",
       "      <td>...</td>\n",
       "      <td>...</td>\n",
       "      <td>...</td>\n",
       "      <td>...</td>\n",
       "      <td>...</td>\n",
       "      <td>...</td>\n",
       "      <td>...</td>\n",
       "      <td>...</td>\n",
       "      <td>...</td>\n",
       "      <td>...</td>\n",
       "      <td>...</td>\n",
       "      <td>...</td>\n",
       "      <td>...</td>\n",
       "      <td>...</td>\n",
       "      <td>...</td>\n",
       "      <td>...</td>\n",
       "      <td>...</td>\n",
       "      <td>...</td>\n",
       "      <td>...</td>\n",
       "      <td>...</td>\n",
       "      <td>...</td>\n",
       "    </tr>\n",
       "    <tr>\n",
       "      <th>856400</th>\n",
       "      <td>5572638</td>\n",
       "      <td>2659184</td>\n",
       "      <td>NHUG0033</td>\n",
       "      <td>120.497193</td>\n",
       "      <td>-27.985881</td>\n",
       "      <td>DD</td>\n",
       "      <td>360</td>\n",
       "      <td>-90</td>\n",
       "      <td>186.93</td>\n",
       "      <td>61309</td>\n",
       "      <td>...</td>\n",
       "      <td>-9999</td>\n",
       "      <td>-9999.0</td>\n",
       "      <td>-9999.0</td>\n",
       "      <td>-9999.0</td>\n",
       "      <td>-9999.0</td>\n",
       "      <td>-9999.0</td>\n",
       "      <td>-9999.0</td>\n",
       "      <td>-9999.0</td>\n",
       "      <td>-9999.0</td>\n",
       "      <td>-9999.0</td>\n",
       "    </tr>\n",
       "    <tr>\n",
       "      <th>856401</th>\n",
       "      <td>4094110</td>\n",
       "      <td>1989988</td>\n",
       "      <td>VD11_31</td>\n",
       "      <td>121.565023</td>\n",
       "      <td>-30.615752</td>\n",
       "      <td>DD</td>\n",
       "      <td>360</td>\n",
       "      <td>-90</td>\n",
       "      <td>930.20</td>\n",
       "      <td>94524</td>\n",
       "      <td>...</td>\n",
       "      <td>-9999</td>\n",
       "      <td>-9999.0</td>\n",
       "      <td>-9999.0</td>\n",
       "      <td>-9999.0</td>\n",
       "      <td>-9999.0</td>\n",
       "      <td>-9999.0</td>\n",
       "      <td>-9999.0</td>\n",
       "      <td>-9999.0</td>\n",
       "      <td>-9999.0</td>\n",
       "      <td>-9999.0</td>\n",
       "    </tr>\n",
       "    <tr>\n",
       "      <th>856402</th>\n",
       "      <td>791301</td>\n",
       "      <td>562730</td>\n",
       "      <td>CLD183</td>\n",
       "      <td>122.216975</td>\n",
       "      <td>-26.911738</td>\n",
       "      <td>DD</td>\n",
       "      <td>360</td>\n",
       "      <td>-90</td>\n",
       "      <td>407.90</td>\n",
       "      <td>74928</td>\n",
       "      <td>...</td>\n",
       "      <td>-9999</td>\n",
       "      <td>-9999.0</td>\n",
       "      <td>1.9</td>\n",
       "      <td>-9999.0</td>\n",
       "      <td>-9999.0</td>\n",
       "      <td>-9999.0</td>\n",
       "      <td>54.0</td>\n",
       "      <td>-9999.0</td>\n",
       "      <td>-9999.0</td>\n",
       "      <td>-9999.0</td>\n",
       "    </tr>\n",
       "    <tr>\n",
       "      <th>856403</th>\n",
       "      <td>2103898</td>\n",
       "      <td>1093873</td>\n",
       "      <td>TWDD0286</td>\n",
       "      <td>121.330154</td>\n",
       "      <td>-28.895726</td>\n",
       "      <td>DD</td>\n",
       "      <td>360</td>\n",
       "      <td>-90</td>\n",
       "      <td>588.10</td>\n",
       "      <td>81260</td>\n",
       "      <td>...</td>\n",
       "      <td>-9999</td>\n",
       "      <td>-9999.0</td>\n",
       "      <td>-9999.0</td>\n",
       "      <td>-9999.0</td>\n",
       "      <td>-9999.0</td>\n",
       "      <td>-9999.0</td>\n",
       "      <td>-9999.0</td>\n",
       "      <td>-9999.0</td>\n",
       "      <td>-9999.0</td>\n",
       "      <td>-9999.0</td>\n",
       "    </tr>\n",
       "    <tr>\n",
       "      <th>856404</th>\n",
       "      <td>1349520</td>\n",
       "      <td>835336</td>\n",
       "      <td>HED051</td>\n",
       "      <td>121.227018</td>\n",
       "      <td>-30.539921</td>\n",
       "      <td>DD</td>\n",
       "      <td>360</td>\n",
       "      <td>-90</td>\n",
       "      <td>540.00</td>\n",
       "      <td>78766</td>\n",
       "      <td>...</td>\n",
       "      <td>-9999</td>\n",
       "      <td>-9999.0</td>\n",
       "      <td>-9999.0</td>\n",
       "      <td>-9999.0</td>\n",
       "      <td>-9999.0</td>\n",
       "      <td>-9999.0</td>\n",
       "      <td>-9999.0</td>\n",
       "      <td>-9999.0</td>\n",
       "      <td>-9999.0</td>\n",
       "      <td>-9999.0</td>\n",
       "    </tr>\n",
       "  </tbody>\n",
       "</table>\n",
       "<p>843247 rows × 172 columns</p>\n",
       "</div>"
      ],
      "text/plain": [
       "        Unnamed: 0  CollarId CompanyHoleId   Longitude   Latitude HoleType  \\\n",
       "0          1421455    868290        AMD352  120.573672 -27.606633       DD   \n",
       "1          2127794   1113830    NEMJRD9583  120.598003 -26.383791       DD   \n",
       "2          2628642   1277942    GCMCOBCD50  120.940469 -27.426364       DD   \n",
       "3          7269457   3418074        CRD113  121.229805 -30.708203       DD   \n",
       "4           237760    233053        GSD359  122.414937 -28.805433       DD   \n",
       "...            ...       ...           ...         ...        ...      ...   \n",
       "856400     5572638   2659184      NHUG0033  120.497193 -27.985881       DD   \n",
       "856401     4094110   1989988       VD11_31  121.565023 -30.615752       DD   \n",
       "856402      791301    562730        CLD183  122.216975 -26.911738       DD   \n",
       "856403     2103898   1093873      TWDD0286  121.330154 -28.895726       DD   \n",
       "856404     1349520    835336        HED051  121.227018 -30.539921       DD   \n",
       "\n",
       "        Azimuth  Dip  MaxDepth  Anumber  ...  WO_PPM WO3_PPM   Y_PPM  \\\n",
       "0           360  -90    338.60    79089  ...   -9999 -9999.0 -9999.0   \n",
       "1           360  -90   1099.05    81539  ...   -9999 -9999.0 -9999.0   \n",
       "2           360  -90    399.00    62231  ...   -9999 -9999.0 -9999.0   \n",
       "3           360  -90    848.00    61246  ...   -9999 -9999.0 -9999.0   \n",
       "4           360  -90    543.50    66814  ...   -9999 -9999.0 -9999.0   \n",
       "...         ...  ...       ...      ...  ...     ...     ...     ...   \n",
       "856400      360  -90    186.93    61309  ...   -9999 -9999.0 -9999.0   \n",
       "856401      360  -90    930.20    94524  ...   -9999 -9999.0 -9999.0   \n",
       "856402      360  -90    407.90    74928  ...   -9999 -9999.0     1.9   \n",
       "856403      360  -90    588.10    81260  ...   -9999 -9999.0 -9999.0   \n",
       "856404      360  -90    540.00    78766  ...   -9999 -9999.0 -9999.0   \n",
       "\n",
       "        Y2O3_PPM  Yb_PPM  Yb2O3_PPM  Zn_PPM  ZnO_PPM  Zr_PPM  ZrO2_PPM  \n",
       "0        -9999.0 -9999.0    -9999.0    82.0  -9999.0     8.0   -9999.0  \n",
       "1        -9999.0 -9999.0    -9999.0 -9999.0  -9999.0 -9999.0   -9999.0  \n",
       "2        -9999.0 -9999.0    -9999.0 -9999.0  -9999.0 -9999.0   -9999.0  \n",
       "3        -9999.0 -9999.0    -9999.0 -9999.0  -9999.0 -9999.0   -9999.0  \n",
       "4        -9999.0 -9999.0    -9999.0 -9999.0  -9999.0 -9999.0   -9999.0  \n",
       "...          ...     ...        ...     ...      ...     ...       ...  \n",
       "856400   -9999.0 -9999.0    -9999.0 -9999.0  -9999.0 -9999.0   -9999.0  \n",
       "856401   -9999.0 -9999.0    -9999.0 -9999.0  -9999.0 -9999.0   -9999.0  \n",
       "856402   -9999.0 -9999.0    -9999.0    54.0  -9999.0 -9999.0   -9999.0  \n",
       "856403   -9999.0 -9999.0    -9999.0 -9999.0  -9999.0 -9999.0   -9999.0  \n",
       "856404   -9999.0 -9999.0    -9999.0 -9999.0  -9999.0 -9999.0   -9999.0  \n",
       "\n",
       "[843247 rows x 172 columns]"
      ]
     },
     "execution_count": 26,
     "metadata": {},
     "output_type": "execute_result"
    }
   ],
   "source": [
    "#number of rows where In is negative\n",
    "df[df['In_PPM'] < 0]"
   ]
  },
  {
   "cell_type": "code",
   "execution_count": 27,
   "metadata": {},
   "outputs": [
    {
     "data": {
      "text/html": [
       "<div>\n",
       "<style scoped>\n",
       "    .dataframe tbody tr th:only-of-type {\n",
       "        vertical-align: middle;\n",
       "    }\n",
       "\n",
       "    .dataframe tbody tr th {\n",
       "        vertical-align: top;\n",
       "    }\n",
       "\n",
       "    .dataframe thead th {\n",
       "        text-align: right;\n",
       "    }\n",
       "</style>\n",
       "<table border=\"1\" class=\"dataframe\">\n",
       "  <thead>\n",
       "    <tr style=\"text-align: right;\">\n",
       "      <th></th>\n",
       "      <th>Unnamed: 0</th>\n",
       "      <th>CollarId</th>\n",
       "      <th>CompanyHoleId</th>\n",
       "      <th>Longitude</th>\n",
       "      <th>Latitude</th>\n",
       "      <th>HoleType</th>\n",
       "      <th>Azimuth</th>\n",
       "      <th>Dip</th>\n",
       "      <th>MaxDepth</th>\n",
       "      <th>Anumber</th>\n",
       "      <th>...</th>\n",
       "      <th>WO_PPM</th>\n",
       "      <th>WO3_PPM</th>\n",
       "      <th>Y_PPM</th>\n",
       "      <th>Y2O3_PPM</th>\n",
       "      <th>Yb_PPM</th>\n",
       "      <th>Yb2O3_PPM</th>\n",
       "      <th>Zn_PPM</th>\n",
       "      <th>ZnO_PPM</th>\n",
       "      <th>Zr_PPM</th>\n",
       "      <th>ZrO2_PPM</th>\n",
       "    </tr>\n",
       "  </thead>\n",
       "  <tbody>\n",
       "    <tr>\n",
       "      <th>0</th>\n",
       "      <td>1421455</td>\n",
       "      <td>868290</td>\n",
       "      <td>AMD352</td>\n",
       "      <td>120.573672</td>\n",
       "      <td>-27.606633</td>\n",
       "      <td>DD</td>\n",
       "      <td>360</td>\n",
       "      <td>-90</td>\n",
       "      <td>338.60</td>\n",
       "      <td>79089</td>\n",
       "      <td>...</td>\n",
       "      <td>-9999</td>\n",
       "      <td>-9999.0</td>\n",
       "      <td>-9999.0</td>\n",
       "      <td>-9999.0</td>\n",
       "      <td>-9999.0</td>\n",
       "      <td>-9999.0</td>\n",
       "      <td>82.0</td>\n",
       "      <td>-9999.0</td>\n",
       "      <td>8.0</td>\n",
       "      <td>-9999.0</td>\n",
       "    </tr>\n",
       "    <tr>\n",
       "      <th>1</th>\n",
       "      <td>2127794</td>\n",
       "      <td>1113830</td>\n",
       "      <td>NEMJRD9583</td>\n",
       "      <td>120.598003</td>\n",
       "      <td>-26.383791</td>\n",
       "      <td>DD</td>\n",
       "      <td>360</td>\n",
       "      <td>-90</td>\n",
       "      <td>1099.05</td>\n",
       "      <td>81539</td>\n",
       "      <td>...</td>\n",
       "      <td>-9999</td>\n",
       "      <td>-9999.0</td>\n",
       "      <td>-9999.0</td>\n",
       "      <td>-9999.0</td>\n",
       "      <td>-9999.0</td>\n",
       "      <td>-9999.0</td>\n",
       "      <td>-9999.0</td>\n",
       "      <td>-9999.0</td>\n",
       "      <td>-9999.0</td>\n",
       "      <td>-9999.0</td>\n",
       "    </tr>\n",
       "    <tr>\n",
       "      <th>2</th>\n",
       "      <td>2628642</td>\n",
       "      <td>1277942</td>\n",
       "      <td>GCMCOBCD50</td>\n",
       "      <td>120.940469</td>\n",
       "      <td>-27.426364</td>\n",
       "      <td>DD</td>\n",
       "      <td>360</td>\n",
       "      <td>-90</td>\n",
       "      <td>399.00</td>\n",
       "      <td>62231</td>\n",
       "      <td>...</td>\n",
       "      <td>-9999</td>\n",
       "      <td>-9999.0</td>\n",
       "      <td>-9999.0</td>\n",
       "      <td>-9999.0</td>\n",
       "      <td>-9999.0</td>\n",
       "      <td>-9999.0</td>\n",
       "      <td>-9999.0</td>\n",
       "      <td>-9999.0</td>\n",
       "      <td>-9999.0</td>\n",
       "      <td>-9999.0</td>\n",
       "    </tr>\n",
       "    <tr>\n",
       "      <th>3</th>\n",
       "      <td>7269457</td>\n",
       "      <td>3418074</td>\n",
       "      <td>CRD113</td>\n",
       "      <td>121.229805</td>\n",
       "      <td>-30.708203</td>\n",
       "      <td>DD</td>\n",
       "      <td>360</td>\n",
       "      <td>-90</td>\n",
       "      <td>848.00</td>\n",
       "      <td>61246</td>\n",
       "      <td>...</td>\n",
       "      <td>-9999</td>\n",
       "      <td>-9999.0</td>\n",
       "      <td>-9999.0</td>\n",
       "      <td>-9999.0</td>\n",
       "      <td>-9999.0</td>\n",
       "      <td>-9999.0</td>\n",
       "      <td>-9999.0</td>\n",
       "      <td>-9999.0</td>\n",
       "      <td>-9999.0</td>\n",
       "      <td>-9999.0</td>\n",
       "    </tr>\n",
       "    <tr>\n",
       "      <th>4</th>\n",
       "      <td>237760</td>\n",
       "      <td>233053</td>\n",
       "      <td>GSD359</td>\n",
       "      <td>122.414937</td>\n",
       "      <td>-28.805433</td>\n",
       "      <td>DD</td>\n",
       "      <td>360</td>\n",
       "      <td>-90</td>\n",
       "      <td>543.50</td>\n",
       "      <td>66814</td>\n",
       "      <td>...</td>\n",
       "      <td>-9999</td>\n",
       "      <td>-9999.0</td>\n",
       "      <td>-9999.0</td>\n",
       "      <td>-9999.0</td>\n",
       "      <td>-9999.0</td>\n",
       "      <td>-9999.0</td>\n",
       "      <td>-9999.0</td>\n",
       "      <td>-9999.0</td>\n",
       "      <td>-9999.0</td>\n",
       "      <td>-9999.0</td>\n",
       "    </tr>\n",
       "    <tr>\n",
       "      <th>...</th>\n",
       "      <td>...</td>\n",
       "      <td>...</td>\n",
       "      <td>...</td>\n",
       "      <td>...</td>\n",
       "      <td>...</td>\n",
       "      <td>...</td>\n",
       "      <td>...</td>\n",
       "      <td>...</td>\n",
       "      <td>...</td>\n",
       "      <td>...</td>\n",
       "      <td>...</td>\n",
       "      <td>...</td>\n",
       "      <td>...</td>\n",
       "      <td>...</td>\n",
       "      <td>...</td>\n",
       "      <td>...</td>\n",
       "      <td>...</td>\n",
       "      <td>...</td>\n",
       "      <td>...</td>\n",
       "      <td>...</td>\n",
       "      <td>...</td>\n",
       "    </tr>\n",
       "    <tr>\n",
       "      <th>856400</th>\n",
       "      <td>5572638</td>\n",
       "      <td>2659184</td>\n",
       "      <td>NHUG0033</td>\n",
       "      <td>120.497193</td>\n",
       "      <td>-27.985881</td>\n",
       "      <td>DD</td>\n",
       "      <td>360</td>\n",
       "      <td>-90</td>\n",
       "      <td>186.93</td>\n",
       "      <td>61309</td>\n",
       "      <td>...</td>\n",
       "      <td>-9999</td>\n",
       "      <td>-9999.0</td>\n",
       "      <td>-9999.0</td>\n",
       "      <td>-9999.0</td>\n",
       "      <td>-9999.0</td>\n",
       "      <td>-9999.0</td>\n",
       "      <td>-9999.0</td>\n",
       "      <td>-9999.0</td>\n",
       "      <td>-9999.0</td>\n",
       "      <td>-9999.0</td>\n",
       "    </tr>\n",
       "    <tr>\n",
       "      <th>856401</th>\n",
       "      <td>4094110</td>\n",
       "      <td>1989988</td>\n",
       "      <td>VD11_31</td>\n",
       "      <td>121.565023</td>\n",
       "      <td>-30.615752</td>\n",
       "      <td>DD</td>\n",
       "      <td>360</td>\n",
       "      <td>-90</td>\n",
       "      <td>930.20</td>\n",
       "      <td>94524</td>\n",
       "      <td>...</td>\n",
       "      <td>-9999</td>\n",
       "      <td>-9999.0</td>\n",
       "      <td>-9999.0</td>\n",
       "      <td>-9999.0</td>\n",
       "      <td>-9999.0</td>\n",
       "      <td>-9999.0</td>\n",
       "      <td>-9999.0</td>\n",
       "      <td>-9999.0</td>\n",
       "      <td>-9999.0</td>\n",
       "      <td>-9999.0</td>\n",
       "    </tr>\n",
       "    <tr>\n",
       "      <th>856402</th>\n",
       "      <td>791301</td>\n",
       "      <td>562730</td>\n",
       "      <td>CLD183</td>\n",
       "      <td>122.216975</td>\n",
       "      <td>-26.911738</td>\n",
       "      <td>DD</td>\n",
       "      <td>360</td>\n",
       "      <td>-90</td>\n",
       "      <td>407.90</td>\n",
       "      <td>74928</td>\n",
       "      <td>...</td>\n",
       "      <td>-9999</td>\n",
       "      <td>-9999.0</td>\n",
       "      <td>1.9</td>\n",
       "      <td>-9999.0</td>\n",
       "      <td>-9999.0</td>\n",
       "      <td>-9999.0</td>\n",
       "      <td>54.0</td>\n",
       "      <td>-9999.0</td>\n",
       "      <td>-9999.0</td>\n",
       "      <td>-9999.0</td>\n",
       "    </tr>\n",
       "    <tr>\n",
       "      <th>856403</th>\n",
       "      <td>2103898</td>\n",
       "      <td>1093873</td>\n",
       "      <td>TWDD0286</td>\n",
       "      <td>121.330154</td>\n",
       "      <td>-28.895726</td>\n",
       "      <td>DD</td>\n",
       "      <td>360</td>\n",
       "      <td>-90</td>\n",
       "      <td>588.10</td>\n",
       "      <td>81260</td>\n",
       "      <td>...</td>\n",
       "      <td>-9999</td>\n",
       "      <td>-9999.0</td>\n",
       "      <td>-9999.0</td>\n",
       "      <td>-9999.0</td>\n",
       "      <td>-9999.0</td>\n",
       "      <td>-9999.0</td>\n",
       "      <td>-9999.0</td>\n",
       "      <td>-9999.0</td>\n",
       "      <td>-9999.0</td>\n",
       "      <td>-9999.0</td>\n",
       "    </tr>\n",
       "    <tr>\n",
       "      <th>856404</th>\n",
       "      <td>1349520</td>\n",
       "      <td>835336</td>\n",
       "      <td>HED051</td>\n",
       "      <td>121.227018</td>\n",
       "      <td>-30.539921</td>\n",
       "      <td>DD</td>\n",
       "      <td>360</td>\n",
       "      <td>-90</td>\n",
       "      <td>540.00</td>\n",
       "      <td>78766</td>\n",
       "      <td>...</td>\n",
       "      <td>-9999</td>\n",
       "      <td>-9999.0</td>\n",
       "      <td>-9999.0</td>\n",
       "      <td>-9999.0</td>\n",
       "      <td>-9999.0</td>\n",
       "      <td>-9999.0</td>\n",
       "      <td>-9999.0</td>\n",
       "      <td>-9999.0</td>\n",
       "      <td>-9999.0</td>\n",
       "      <td>-9999.0</td>\n",
       "    </tr>\n",
       "  </tbody>\n",
       "</table>\n",
       "<p>846852 rows × 172 columns</p>\n",
       "</div>"
      ],
      "text/plain": [
       "        Unnamed: 0  CollarId CompanyHoleId   Longitude   Latitude HoleType  \\\n",
       "0          1421455    868290        AMD352  120.573672 -27.606633       DD   \n",
       "1          2127794   1113830    NEMJRD9583  120.598003 -26.383791       DD   \n",
       "2          2628642   1277942    GCMCOBCD50  120.940469 -27.426364       DD   \n",
       "3          7269457   3418074        CRD113  121.229805 -30.708203       DD   \n",
       "4           237760    233053        GSD359  122.414937 -28.805433       DD   \n",
       "...            ...       ...           ...         ...        ...      ...   \n",
       "856400     5572638   2659184      NHUG0033  120.497193 -27.985881       DD   \n",
       "856401     4094110   1989988       VD11_31  121.565023 -30.615752       DD   \n",
       "856402      791301    562730        CLD183  122.216975 -26.911738       DD   \n",
       "856403     2103898   1093873      TWDD0286  121.330154 -28.895726       DD   \n",
       "856404     1349520    835336        HED051  121.227018 -30.539921       DD   \n",
       "\n",
       "        Azimuth  Dip  MaxDepth  Anumber  ...  WO_PPM WO3_PPM   Y_PPM  \\\n",
       "0           360  -90    338.60    79089  ...   -9999 -9999.0 -9999.0   \n",
       "1           360  -90   1099.05    81539  ...   -9999 -9999.0 -9999.0   \n",
       "2           360  -90    399.00    62231  ...   -9999 -9999.0 -9999.0   \n",
       "3           360  -90    848.00    61246  ...   -9999 -9999.0 -9999.0   \n",
       "4           360  -90    543.50    66814  ...   -9999 -9999.0 -9999.0   \n",
       "...         ...  ...       ...      ...  ...     ...     ...     ...   \n",
       "856400      360  -90    186.93    61309  ...   -9999 -9999.0 -9999.0   \n",
       "856401      360  -90    930.20    94524  ...   -9999 -9999.0 -9999.0   \n",
       "856402      360  -90    407.90    74928  ...   -9999 -9999.0     1.9   \n",
       "856403      360  -90    588.10    81260  ...   -9999 -9999.0 -9999.0   \n",
       "856404      360  -90    540.00    78766  ...   -9999 -9999.0 -9999.0   \n",
       "\n",
       "        Y2O3_PPM  Yb_PPM  Yb2O3_PPM  Zn_PPM  ZnO_PPM  Zr_PPM  ZrO2_PPM  \n",
       "0        -9999.0 -9999.0    -9999.0    82.0  -9999.0     8.0   -9999.0  \n",
       "1        -9999.0 -9999.0    -9999.0 -9999.0  -9999.0 -9999.0   -9999.0  \n",
       "2        -9999.0 -9999.0    -9999.0 -9999.0  -9999.0 -9999.0   -9999.0  \n",
       "3        -9999.0 -9999.0    -9999.0 -9999.0  -9999.0 -9999.0   -9999.0  \n",
       "4        -9999.0 -9999.0    -9999.0 -9999.0  -9999.0 -9999.0   -9999.0  \n",
       "...          ...     ...        ...     ...      ...     ...       ...  \n",
       "856400   -9999.0 -9999.0    -9999.0 -9999.0  -9999.0 -9999.0   -9999.0  \n",
       "856401   -9999.0 -9999.0    -9999.0 -9999.0  -9999.0 -9999.0   -9999.0  \n",
       "856402   -9999.0 -9999.0    -9999.0    54.0  -9999.0 -9999.0   -9999.0  \n",
       "856403   -9999.0 -9999.0    -9999.0 -9999.0  -9999.0 -9999.0   -9999.0  \n",
       "856404   -9999.0 -9999.0    -9999.0 -9999.0  -9999.0 -9999.0   -9999.0  \n",
       "\n",
       "[846852 rows x 172 columns]"
      ]
     },
     "execution_count": 27,
     "metadata": {},
     "output_type": "execute_result"
    }
   ],
   "source": [
    "#number of rows where In is negative\n",
    "df[df['Ge_PPM'] < 0]"
   ]
  },
  {
   "cell_type": "markdown",
   "metadata": {},
   "source": [
    "There are 674451 rows that have negative values for all the CMs of interest. We only keep positive values. "
   ]
  },
  {
   "cell_type": "code",
   "execution_count": 31,
   "metadata": {},
   "outputs": [
    {
     "data": {
      "text/html": [
       "<div>\n",
       "<style scoped>\n",
       "    .dataframe tbody tr th:only-of-type {\n",
       "        vertical-align: middle;\n",
       "    }\n",
       "\n",
       "    .dataframe tbody tr th {\n",
       "        vertical-align: top;\n",
       "    }\n",
       "\n",
       "    .dataframe thead th {\n",
       "        text-align: right;\n",
       "    }\n",
       "</style>\n",
       "<table border=\"1\" class=\"dataframe\">\n",
       "  <thead>\n",
       "    <tr style=\"text-align: right;\">\n",
       "      <th></th>\n",
       "      <th>Unnamed: 0</th>\n",
       "      <th>CollarId</th>\n",
       "      <th>CompanyHoleId</th>\n",
       "      <th>Longitude</th>\n",
       "      <th>Latitude</th>\n",
       "      <th>HoleType</th>\n",
       "      <th>Azimuth</th>\n",
       "      <th>Dip</th>\n",
       "      <th>MaxDepth</th>\n",
       "      <th>Anumber</th>\n",
       "      <th>...</th>\n",
       "      <th>WO_PPM</th>\n",
       "      <th>WO3_PPM</th>\n",
       "      <th>Y_PPM</th>\n",
       "      <th>Y2O3_PPM</th>\n",
       "      <th>Yb_PPM</th>\n",
       "      <th>Yb2O3_PPM</th>\n",
       "      <th>Zn_PPM</th>\n",
       "      <th>ZnO_PPM</th>\n",
       "      <th>Zr_PPM</th>\n",
       "      <th>ZrO2_PPM</th>\n",
       "    </tr>\n",
       "  </thead>\n",
       "  <tbody>\n",
       "    <tr>\n",
       "      <th>1</th>\n",
       "      <td>2127794</td>\n",
       "      <td>1113830</td>\n",
       "      <td>NEMJRD9583</td>\n",
       "      <td>120.598003</td>\n",
       "      <td>-26.383791</td>\n",
       "      <td>DD</td>\n",
       "      <td>360</td>\n",
       "      <td>-90</td>\n",
       "      <td>1099.05</td>\n",
       "      <td>81539</td>\n",
       "      <td>...</td>\n",
       "      <td>-9999</td>\n",
       "      <td>-9999.0</td>\n",
       "      <td>-9999.0</td>\n",
       "      <td>-9999.0</td>\n",
       "      <td>-9999.0</td>\n",
       "      <td>-9999.0</td>\n",
       "      <td>-9999.0</td>\n",
       "      <td>-9999.0</td>\n",
       "      <td>-9999.0</td>\n",
       "      <td>-9999.0</td>\n",
       "    </tr>\n",
       "    <tr>\n",
       "      <th>2</th>\n",
       "      <td>2628642</td>\n",
       "      <td>1277942</td>\n",
       "      <td>GCMCOBCD50</td>\n",
       "      <td>120.940469</td>\n",
       "      <td>-27.426364</td>\n",
       "      <td>DD</td>\n",
       "      <td>360</td>\n",
       "      <td>-90</td>\n",
       "      <td>399.00</td>\n",
       "      <td>62231</td>\n",
       "      <td>...</td>\n",
       "      <td>-9999</td>\n",
       "      <td>-9999.0</td>\n",
       "      <td>-9999.0</td>\n",
       "      <td>-9999.0</td>\n",
       "      <td>-9999.0</td>\n",
       "      <td>-9999.0</td>\n",
       "      <td>-9999.0</td>\n",
       "      <td>-9999.0</td>\n",
       "      <td>-9999.0</td>\n",
       "      <td>-9999.0</td>\n",
       "    </tr>\n",
       "    <tr>\n",
       "      <th>3</th>\n",
       "      <td>7269457</td>\n",
       "      <td>3418074</td>\n",
       "      <td>CRD113</td>\n",
       "      <td>121.229805</td>\n",
       "      <td>-30.708203</td>\n",
       "      <td>DD</td>\n",
       "      <td>360</td>\n",
       "      <td>-90</td>\n",
       "      <td>848.00</td>\n",
       "      <td>61246</td>\n",
       "      <td>...</td>\n",
       "      <td>-9999</td>\n",
       "      <td>-9999.0</td>\n",
       "      <td>-9999.0</td>\n",
       "      <td>-9999.0</td>\n",
       "      <td>-9999.0</td>\n",
       "      <td>-9999.0</td>\n",
       "      <td>-9999.0</td>\n",
       "      <td>-9999.0</td>\n",
       "      <td>-9999.0</td>\n",
       "      <td>-9999.0</td>\n",
       "    </tr>\n",
       "    <tr>\n",
       "      <th>4</th>\n",
       "      <td>237760</td>\n",
       "      <td>233053</td>\n",
       "      <td>GSD359</td>\n",
       "      <td>122.414937</td>\n",
       "      <td>-28.805433</td>\n",
       "      <td>DD</td>\n",
       "      <td>360</td>\n",
       "      <td>-90</td>\n",
       "      <td>543.50</td>\n",
       "      <td>66814</td>\n",
       "      <td>...</td>\n",
       "      <td>-9999</td>\n",
       "      <td>-9999.0</td>\n",
       "      <td>-9999.0</td>\n",
       "      <td>-9999.0</td>\n",
       "      <td>-9999.0</td>\n",
       "      <td>-9999.0</td>\n",
       "      <td>-9999.0</td>\n",
       "      <td>-9999.0</td>\n",
       "      <td>-9999.0</td>\n",
       "      <td>-9999.0</td>\n",
       "    </tr>\n",
       "    <tr>\n",
       "      <th>5</th>\n",
       "      <td>7611405</td>\n",
       "      <td>3524508</td>\n",
       "      <td>NEMJRD9957W1</td>\n",
       "      <td>120.597732</td>\n",
       "      <td>-26.391069</td>\n",
       "      <td>DD</td>\n",
       "      <td>360</td>\n",
       "      <td>-90</td>\n",
       "      <td>262.13</td>\n",
       "      <td>101572</td>\n",
       "      <td>...</td>\n",
       "      <td>-9999</td>\n",
       "      <td>-9999.0</td>\n",
       "      <td>-9999.0</td>\n",
       "      <td>-9999.0</td>\n",
       "      <td>-9999.0</td>\n",
       "      <td>-9999.0</td>\n",
       "      <td>-9999.0</td>\n",
       "      <td>-9999.0</td>\n",
       "      <td>-9999.0</td>\n",
       "      <td>-9999.0</td>\n",
       "    </tr>\n",
       "    <tr>\n",
       "      <th>...</th>\n",
       "      <td>...</td>\n",
       "      <td>...</td>\n",
       "      <td>...</td>\n",
       "      <td>...</td>\n",
       "      <td>...</td>\n",
       "      <td>...</td>\n",
       "      <td>...</td>\n",
       "      <td>...</td>\n",
       "      <td>...</td>\n",
       "      <td>...</td>\n",
       "      <td>...</td>\n",
       "      <td>...</td>\n",
       "      <td>...</td>\n",
       "      <td>...</td>\n",
       "      <td>...</td>\n",
       "      <td>...</td>\n",
       "      <td>...</td>\n",
       "      <td>...</td>\n",
       "      <td>...</td>\n",
       "      <td>...</td>\n",
       "      <td>...</td>\n",
       "    </tr>\n",
       "    <tr>\n",
       "      <th>856399</th>\n",
       "      <td>438141</td>\n",
       "      <td>358919</td>\n",
       "      <td>YUG064</td>\n",
       "      <td>118.838935</td>\n",
       "      <td>-28.610698</td>\n",
       "      <td>DD</td>\n",
       "      <td>360</td>\n",
       "      <td>-90</td>\n",
       "      <td>128.60</td>\n",
       "      <td>74594</td>\n",
       "      <td>...</td>\n",
       "      <td>-9999</td>\n",
       "      <td>-9999.0</td>\n",
       "      <td>-9999.0</td>\n",
       "      <td>-9999.0</td>\n",
       "      <td>-9999.0</td>\n",
       "      <td>-9999.0</td>\n",
       "      <td>-9999.0</td>\n",
       "      <td>-9999.0</td>\n",
       "      <td>-9999.0</td>\n",
       "      <td>-9999.0</td>\n",
       "    </tr>\n",
       "    <tr>\n",
       "      <th>856400</th>\n",
       "      <td>5572638</td>\n",
       "      <td>2659184</td>\n",
       "      <td>NHUG0033</td>\n",
       "      <td>120.497193</td>\n",
       "      <td>-27.985881</td>\n",
       "      <td>DD</td>\n",
       "      <td>360</td>\n",
       "      <td>-90</td>\n",
       "      <td>186.93</td>\n",
       "      <td>61309</td>\n",
       "      <td>...</td>\n",
       "      <td>-9999</td>\n",
       "      <td>-9999.0</td>\n",
       "      <td>-9999.0</td>\n",
       "      <td>-9999.0</td>\n",
       "      <td>-9999.0</td>\n",
       "      <td>-9999.0</td>\n",
       "      <td>-9999.0</td>\n",
       "      <td>-9999.0</td>\n",
       "      <td>-9999.0</td>\n",
       "      <td>-9999.0</td>\n",
       "    </tr>\n",
       "    <tr>\n",
       "      <th>856401</th>\n",
       "      <td>4094110</td>\n",
       "      <td>1989988</td>\n",
       "      <td>VD11_31</td>\n",
       "      <td>121.565023</td>\n",
       "      <td>-30.615752</td>\n",
       "      <td>DD</td>\n",
       "      <td>360</td>\n",
       "      <td>-90</td>\n",
       "      <td>930.20</td>\n",
       "      <td>94524</td>\n",
       "      <td>...</td>\n",
       "      <td>-9999</td>\n",
       "      <td>-9999.0</td>\n",
       "      <td>-9999.0</td>\n",
       "      <td>-9999.0</td>\n",
       "      <td>-9999.0</td>\n",
       "      <td>-9999.0</td>\n",
       "      <td>-9999.0</td>\n",
       "      <td>-9999.0</td>\n",
       "      <td>-9999.0</td>\n",
       "      <td>-9999.0</td>\n",
       "    </tr>\n",
       "    <tr>\n",
       "      <th>856403</th>\n",
       "      <td>2103898</td>\n",
       "      <td>1093873</td>\n",
       "      <td>TWDD0286</td>\n",
       "      <td>121.330154</td>\n",
       "      <td>-28.895726</td>\n",
       "      <td>DD</td>\n",
       "      <td>360</td>\n",
       "      <td>-90</td>\n",
       "      <td>588.10</td>\n",
       "      <td>81260</td>\n",
       "      <td>...</td>\n",
       "      <td>-9999</td>\n",
       "      <td>-9999.0</td>\n",
       "      <td>-9999.0</td>\n",
       "      <td>-9999.0</td>\n",
       "      <td>-9999.0</td>\n",
       "      <td>-9999.0</td>\n",
       "      <td>-9999.0</td>\n",
       "      <td>-9999.0</td>\n",
       "      <td>-9999.0</td>\n",
       "      <td>-9999.0</td>\n",
       "    </tr>\n",
       "    <tr>\n",
       "      <th>856404</th>\n",
       "      <td>1349520</td>\n",
       "      <td>835336</td>\n",
       "      <td>HED051</td>\n",
       "      <td>121.227018</td>\n",
       "      <td>-30.539921</td>\n",
       "      <td>DD</td>\n",
       "      <td>360</td>\n",
       "      <td>-90</td>\n",
       "      <td>540.00</td>\n",
       "      <td>78766</td>\n",
       "      <td>...</td>\n",
       "      <td>-9999</td>\n",
       "      <td>-9999.0</td>\n",
       "      <td>-9999.0</td>\n",
       "      <td>-9999.0</td>\n",
       "      <td>-9999.0</td>\n",
       "      <td>-9999.0</td>\n",
       "      <td>-9999.0</td>\n",
       "      <td>-9999.0</td>\n",
       "      <td>-9999.0</td>\n",
       "      <td>-9999.0</td>\n",
       "    </tr>\n",
       "  </tbody>\n",
       "</table>\n",
       "<p>674451 rows × 172 columns</p>\n",
       "</div>"
      ],
      "text/plain": [
       "        Unnamed: 0  CollarId CompanyHoleId   Longitude   Latitude HoleType  \\\n",
       "1          2127794   1113830    NEMJRD9583  120.598003 -26.383791       DD   \n",
       "2          2628642   1277942    GCMCOBCD50  120.940469 -27.426364       DD   \n",
       "3          7269457   3418074        CRD113  121.229805 -30.708203       DD   \n",
       "4           237760    233053        GSD359  122.414937 -28.805433       DD   \n",
       "5          7611405   3524508  NEMJRD9957W1  120.597732 -26.391069       DD   \n",
       "...            ...       ...           ...         ...        ...      ...   \n",
       "856399      438141    358919        YUG064  118.838935 -28.610698       DD   \n",
       "856400     5572638   2659184      NHUG0033  120.497193 -27.985881       DD   \n",
       "856401     4094110   1989988       VD11_31  121.565023 -30.615752       DD   \n",
       "856403     2103898   1093873      TWDD0286  121.330154 -28.895726       DD   \n",
       "856404     1349520    835336        HED051  121.227018 -30.539921       DD   \n",
       "\n",
       "        Azimuth  Dip  MaxDepth  Anumber  ...  WO_PPM WO3_PPM   Y_PPM  \\\n",
       "1           360  -90   1099.05    81539  ...   -9999 -9999.0 -9999.0   \n",
       "2           360  -90    399.00    62231  ...   -9999 -9999.0 -9999.0   \n",
       "3           360  -90    848.00    61246  ...   -9999 -9999.0 -9999.0   \n",
       "4           360  -90    543.50    66814  ...   -9999 -9999.0 -9999.0   \n",
       "5           360  -90    262.13   101572  ...   -9999 -9999.0 -9999.0   \n",
       "...         ...  ...       ...      ...  ...     ...     ...     ...   \n",
       "856399      360  -90    128.60    74594  ...   -9999 -9999.0 -9999.0   \n",
       "856400      360  -90    186.93    61309  ...   -9999 -9999.0 -9999.0   \n",
       "856401      360  -90    930.20    94524  ...   -9999 -9999.0 -9999.0   \n",
       "856403      360  -90    588.10    81260  ...   -9999 -9999.0 -9999.0   \n",
       "856404      360  -90    540.00    78766  ...   -9999 -9999.0 -9999.0   \n",
       "\n",
       "        Y2O3_PPM  Yb_PPM  Yb2O3_PPM  Zn_PPM  ZnO_PPM  Zr_PPM  ZrO2_PPM  \n",
       "1        -9999.0 -9999.0    -9999.0 -9999.0  -9999.0 -9999.0   -9999.0  \n",
       "2        -9999.0 -9999.0    -9999.0 -9999.0  -9999.0 -9999.0   -9999.0  \n",
       "3        -9999.0 -9999.0    -9999.0 -9999.0  -9999.0 -9999.0   -9999.0  \n",
       "4        -9999.0 -9999.0    -9999.0 -9999.0  -9999.0 -9999.0   -9999.0  \n",
       "5        -9999.0 -9999.0    -9999.0 -9999.0  -9999.0 -9999.0   -9999.0  \n",
       "...          ...     ...        ...     ...      ...     ...       ...  \n",
       "856399   -9999.0 -9999.0    -9999.0 -9999.0  -9999.0 -9999.0   -9999.0  \n",
       "856400   -9999.0 -9999.0    -9999.0 -9999.0  -9999.0 -9999.0   -9999.0  \n",
       "856401   -9999.0 -9999.0    -9999.0 -9999.0  -9999.0 -9999.0   -9999.0  \n",
       "856403   -9999.0 -9999.0    -9999.0 -9999.0  -9999.0 -9999.0   -9999.0  \n",
       "856404   -9999.0 -9999.0    -9999.0 -9999.0  -9999.0 -9999.0   -9999.0  \n",
       "\n",
       "[674451 rows x 172 columns]"
      ]
     },
     "execution_count": 31,
     "metadata": {},
     "output_type": "execute_result"
    }
   ],
   "source": [
    "df.loc[(df['Ge_PPM'] < 0) & (df['In_PPM'] < 0) & (df['Co_PPM'] < 0)]"
   ]
  },
  {
   "cell_type": "code",
   "execution_count": 259,
   "metadata": {},
   "outputs": [
    {
     "data": {
      "text/plain": [
       "(181863, 172)"
      ]
     },
     "execution_count": 259,
     "metadata": {},
     "output_type": "execute_result"
    }
   ],
   "source": [
    "df = df.loc[(df['Ge_PPM'] >= 0) | (df['In_PPM'] >= 0) | (df['Co_PPM'] >= 0)]\n",
    "df.shape"
   ]
  },
  {
   "cell_type": "markdown",
   "metadata": {},
   "source": [
    "Only 181954 have at least one of the minerals we want. "
   ]
  },
  {
   "cell_type": "markdown",
   "metadata": {},
   "source": [
    "### Number ranges"
   ]
  },
  {
   "cell_type": "markdown",
   "metadata": {},
   "source": [
    "Some really high maximums there. But also most values are around 0. "
   ]
  },
  {
   "cell_type": "code",
   "execution_count": 45,
   "metadata": {},
   "outputs": [],
   "source": [
    "import seaborn as sns"
   ]
  },
  {
   "cell_type": "code",
   "execution_count": 37,
   "metadata": {},
   "outputs": [
    {
     "data": {
      "text/plain": [
       "count    9553.000000\n",
       "mean        0.759828\n",
       "std         1.613325\n",
       "min         0.000000\n",
       "25%         0.160000\n",
       "50%         0.300000\n",
       "75%         1.000000\n",
       "max        57.100000\n",
       "Name: Ge_PPM, dtype: float64"
      ]
     },
     "execution_count": 37,
     "metadata": {},
     "output_type": "execute_result"
    }
   ],
   "source": [
    "df[df['Ge_PPM'] >=0]['Ge_PPM'].describe()"
   ]
  },
  {
   "cell_type": "code",
   "execution_count": 40,
   "metadata": {},
   "outputs": [
    {
     "data": {
      "text/plain": [
       "<AxesSubplot:>"
      ]
     },
     "execution_count": 40,
     "metadata": {},
     "output_type": "execute_result"
    },
    {
     "data": {
      "image/png": "[encoded data removed]",
      "text/plain": [
       "<Figure size 432x288 with 1 Axes>"
      ]
     },
     "metadata": {
      "needs_background": "light"
     },
     "output_type": "display_data"
    }
   ],
   "source": [
    "df[df['Ge_PPM'] >=0]['Ge_PPM'].hist()"
   ]
  },
  {
   "cell_type": "code",
   "execution_count": 50,
   "metadata": {},
   "outputs": [
    {
     "data": {
      "text/plain": [
       "<AxesSubplot:ylabel='Ge_PPM'>"
      ]
     },
     "execution_count": 50,
     "metadata": {},
     "output_type": "execute_result"
    },
    {
     "data": {
      "image/png": "[encoded data removed]",
      "text/plain": [
       "<Figure size 432x288 with 1 Axes>"
      ]
     },
     "metadata": {
      "needs_background": "light"
     },
     "output_type": "display_data"
    }
   ],
   "source": [
    "sns.boxplot(y = df[df['Ge_PPM'] >=0]['Ge_PPM'])"
   ]
  },
  {
   "cell_type": "code",
   "execution_count": 38,
   "metadata": {},
   "outputs": [
    {
     "data": {
      "text/plain": [
       "count     13158.000000\n",
       "mean         25.273872\n",
       "std        1593.114359\n",
       "min           0.000000\n",
       "25%           0.029000\n",
       "50%           0.050000\n",
       "75%           0.080000\n",
       "max      113000.000000\n",
       "Name: In_PPM, dtype: float64"
      ]
     },
     "execution_count": 38,
     "metadata": {},
     "output_type": "execute_result"
    }
   ],
   "source": [
    "df[df['In_PPM'] >=0]['In_PPM'].describe()"
   ]
  },
  {
   "cell_type": "markdown",
   "metadata": {},
   "source": [
    "Range seems reasonable"
   ]
  },
  {
   "cell_type": "code",
   "execution_count": 41,
   "metadata": {},
   "outputs": [
    {
     "data": {
      "text/plain": [
       "<AxesSubplot:>"
      ]
     },
     "execution_count": 41,
     "metadata": {},
     "output_type": "execute_result"
    },
    {
     "data": {
      "image/png": "[encoded data removed]",
      "text/plain": [
       "<Figure size 432x288 with 1 Axes>"
      ]
     },
     "metadata": {
      "needs_background": "light"
     },
     "output_type": "display_data"
    }
   ],
   "source": [
    "df[df['In_PPM'] >=0]['In_PPM'].hist()"
   ]
  },
  {
   "cell_type": "code",
   "execution_count": 51,
   "metadata": {},
   "outputs": [
    {
     "data": {
      "text/plain": [
       "<AxesSubplot:ylabel='In_PPM'>"
      ]
     },
     "execution_count": 51,
     "metadata": {},
     "output_type": "execute_result"
    },
    {
     "data": {
      "image/png": "[encoded data removed]",
      "text/plain": [
       "<Figure size 432x288 with 1 Axes>"
      ]
     },
     "metadata": {
      "needs_background": "light"
     },
     "output_type": "display_data"
    }
   ],
   "source": [
    "sns.boxplot(y = df[df['In_PPM'] >=0]['In_PPM'])"
   ]
  },
  {
   "cell_type": "code",
   "execution_count": 39,
   "metadata": {},
   "outputs": [
    {
     "data": {
      "text/plain": [
       "count    1.809240e+05\n",
       "mean     3.036314e+03\n",
       "std      1.831804e+05\n",
       "min      0.000000e+00\n",
       "25%      1.300000e+01\n",
       "50%      4.610000e+01\n",
       "75%      1.000000e+02\n",
       "max      3.340000e+07\n",
       "Name: Co_PPM, dtype: float64"
      ]
     },
     "execution_count": 39,
     "metadata": {},
     "output_type": "execute_result"
    }
   ],
   "source": [
    "df[df['Co_PPM'] >=0]['Co_PPM'].describe()"
   ]
  },
  {
   "cell_type": "code",
   "execution_count": 42,
   "metadata": {},
   "outputs": [
    {
     "data": {
      "text/plain": [
       "<AxesSubplot:>"
      ]
     },
     "execution_count": 42,
     "metadata": {},
     "output_type": "execute_result"
    },
    {
     "data": {
      "image/png": "[encoded data removed]",
      "text/plain": [
       "<Figure size 432x288 with 1 Axes>"
      ]
     },
     "metadata": {
      "needs_background": "light"
     },
     "output_type": "display_data"
    }
   ],
   "source": [
    "df[df['Co_PPM'] >=0]['Co_PPM'].hist()"
   ]
  },
  {
   "cell_type": "code",
   "execution_count": 52,
   "metadata": {},
   "outputs": [
    {
     "data": {
      "text/plain": [
       "<AxesSubplot:ylabel='Co_PPM'>"
      ]
     },
     "execution_count": 52,
     "metadata": {},
     "output_type": "execute_result"
    },
    {
     "data": {
      "image/png": "[encoded data removed]",
      "text/plain": [
       "<Figure size 432x288 with 1 Axes>"
      ]
     },
     "metadata": {
      "needs_background": "light"
     },
     "output_type": "display_data"
    }
   ],
   "source": [
    "sns.boxplot(y = df[df['Co_PPM'] >=0]['Co_PPM'])"
   ]
  },
  {
   "cell_type": "code",
   "execution_count": 260,
   "metadata": {},
   "outputs": [],
   "source": [
    "#only keep values of Co lower than 1million\n",
    "df = df[df['Co_PPM'] < 1000000]"
   ]
  },
  {
   "cell_type": "code",
   "execution_count": 261,
   "metadata": {},
   "outputs": [
    {
     "data": {
      "text/plain": [
       "<AxesSubplot:>"
      ]
     },
     "execution_count": 261,
     "metadata": {},
     "output_type": "execute_result"
    },
    {
     "data": {
      "image/png": "[encoded data removed]",
      "text/plain": [
       "<Figure size 432x288 with 1 Axes>"
      ]
     },
     "metadata": {
      "needs_background": "light"
     },
     "output_type": "display_data"
    }
   ],
   "source": [
    "df[df['Co_PPM'] >=0]['Co_PPM'].hist()"
   ]
  },
  {
   "cell_type": "code",
   "execution_count": 263,
   "metadata": {},
   "outputs": [
    {
     "data": {
      "text/plain": [
       "count    180833.000000\n",
       "mean        608.019784\n",
       "std       17602.877511\n",
       "min           0.000000\n",
       "25%          13.000000\n",
       "50%          46.000000\n",
       "75%         100.000000\n",
       "max      990000.000000\n",
       "Name: Co_PPM, dtype: float64"
      ]
     },
     "execution_count": 263,
     "metadata": {},
     "output_type": "execute_result"
    }
   ],
   "source": [
    "df[df['Co_PPM'] >=0]['Co_PPM'].describe()"
   ]
  },
  {
   "cell_type": "markdown",
   "metadata": {},
   "source": [
    "Still does not seem reasonable. "
   ]
  },
  {
   "cell_type": "markdown",
   "metadata": {},
   "source": [
    "We change negative numbers to 0 for the CMs of interest. "
   ]
  },
  {
   "cell_type": "code",
   "execution_count": 268,
   "metadata": {},
   "outputs": [],
   "source": [
    "df.loc[df['Ge_PPM'] < 0, ['Ge_PPM']] = 0\n",
    "df.loc[df['In_PPM'] < 0, ['In_PPM']] = 0\n",
    "df.loc[df['Co_PPM'] < 0, ['Co_PPM']] = 0"
   ]
  },
  {
   "cell_type": "markdown",
   "metadata": {},
   "source": [
    "### Correlations"
   ]
  },
  {
   "cell_type": "code",
   "execution_count": 269,
   "metadata": {},
   "outputs": [],
   "source": [
    "#only ppm columns\n",
    "df_ppm = df.filter(like='PPM')"
   ]
  },
  {
   "cell_type": "code",
   "execution_count": 270,
   "metadata": {},
   "outputs": [],
   "source": [
    "#only keep relevant rows where CM quantity > 0\n",
    "df_has_ge = df_ppm[df_ppm['Ge_PPM'] > 0]\n",
    "df_has_in = df_ppm[df_ppm['In_PPM'] > 0]\n",
    "df_has_co = df_ppm[df_ppm['Co_PPM'] > 0]"
   ]
  },
  {
   "cell_type": "code",
   "execution_count": 271,
   "metadata": {},
   "outputs": [],
   "source": [
    "#remove columns where there is only one unique value all throughout (-9999)\n",
    "df_has_ge = df_has_ge.loc[:,df_has_ge.nunique()!=1]\n",
    "df_has_in = df_has_in.loc[:,df_has_in.nunique()!=1]\n",
    "df_has_co = df_has_co.loc[:,df_has_co.nunique()!=1]"
   ]
  },
  {
   "cell_type": "code",
   "execution_count": 162,
   "metadata": {},
   "outputs": [
    {
     "data": {
      "text/plain": [
       "count    9.503000e+03\n",
       "mean     9.310640e+01\n",
       "std      2.643218e+04\n",
       "min     -9.999000e+03\n",
       "25%      1.300000e+01\n",
       "50%      5.200000e+01\n",
       "75%      9.000000e+01\n",
       "max      1.270000e+06\n",
       "Name: Zn_PPM, dtype: float64"
      ]
     },
     "execution_count": 162,
     "metadata": {},
     "output_type": "execute_result"
    }
   ],
   "source": [
    "df_has_ge['Zn_PPM'].describe()"
   ]
  },
  {
   "cell_type": "code",
   "execution_count": 163,
   "metadata": {},
   "outputs": [
    {
     "data": {
      "text/plain": [
       "count    1.308900e+04\n",
       "mean     1.086640e+02\n",
       "std      2.289835e+04\n",
       "min     -9.999000e+03\n",
       "25%      1.700000e+01\n",
       "50%      5.800000e+01\n",
       "75%      9.800000e+01\n",
       "max      1.270000e+06\n",
       "Name: Zn_PPM, dtype: float64"
      ]
     },
     "execution_count": 163,
     "metadata": {},
     "output_type": "execute_result"
    }
   ],
   "source": [
    "df_has_in['Zn_PPM'].describe()"
   ]
  },
  {
   "cell_type": "code",
   "execution_count": 164,
   "metadata": {},
   "outputs": [
    {
     "data": {
      "text/plain": [
       "count    1.708990e+05\n",
       "mean     3.214425e+03\n",
       "std      1.884751e+05\n",
       "min      1.000000e-04\n",
       "25%      1.600000e+01\n",
       "50%      5.000000e+01\n",
       "75%      1.030000e+02\n",
       "max      3.340000e+07\n",
       "Name: Co_PPM, dtype: float64"
      ]
     },
     "execution_count": 164,
     "metadata": {},
     "output_type": "execute_result"
    }
   ],
   "source": [
    "df_has_co['Co_PPM'].describe()"
   ]
  },
  {
   "cell_type": "code",
   "execution_count": 97,
   "metadata": {},
   "outputs": [
    {
     "data": {
      "text/plain": [
       "(9503, 107)"
      ]
     },
     "execution_count": 97,
     "metadata": {},
     "output_type": "execute_result"
    }
   ],
   "source": [
    "df_has_ge.shape"
   ]
  },
  {
   "cell_type": "code",
   "execution_count": 98,
   "metadata": {},
   "outputs": [
    {
     "data": {
      "text/plain": [
       "(13089, 108)"
      ]
     },
     "execution_count": 98,
     "metadata": {},
     "output_type": "execute_result"
    }
   ],
   "source": [
    "df_has_in.shape"
   ]
  },
  {
   "cell_type": "code",
   "execution_count": 99,
   "metadata": {},
   "outputs": [
    {
     "data": {
      "text/plain": [
       "(170899, 130)"
      ]
     },
     "execution_count": 99,
     "metadata": {},
     "output_type": "execute_result"
    }
   ],
   "source": [
    "df_has_co.shape"
   ]
  },
  {
   "cell_type": "code",
   "execution_count": 272,
   "metadata": {},
   "outputs": [],
   "source": [
    "corr_ge = df_has_ge.corr()\n",
    "corr_in = df_has_in.corr()\n",
    "corr_co = df_has_co.corr()"
   ]
  },
  {
   "cell_type": "markdown",
   "metadata": {},
   "source": [
    "#### Germanium"
   ]
  },
  {
   "cell_type": "markdown",
   "metadata": {},
   "source": [
    "##### Keep all values even negative"
   ]
  },
  {
   "cell_type": "code",
   "execution_count": 138,
   "metadata": {},
   "outputs": [
    {
     "data": {
      "text/plain": [
       "Ag_PPM      -0.070026\n",
       "Mn_PPM      -0.066850\n",
       "Fe_PPM      -0.064667\n",
       "B_PPM       -0.059223\n",
       "Au_PPM      -0.059197\n",
       "Ni_PPM      -0.057905\n",
       "Na_PPM      -0.056810\n",
       "Ti_PPM      -0.056581\n",
       "Zr_PPM      -0.051846\n",
       "Ca_PPM      -0.047968\n",
       "Mg_PPM      -0.043618\n",
       "Y_PPM       -0.041072\n",
       "La_PPM      -0.028666\n",
       "Al_PPM      -0.027490\n",
       "Pb208_PPM   -0.019357\n",
       "Te_PPM      -0.019210\n",
       "Pb206_PPM   -0.018743\n",
       "Pb207_PPM   -0.018743\n",
       "Pb204_PPM   -0.018743\n",
       "Name: Ge_PPM, dtype: float64"
      ]
     },
     "execution_count": 138,
     "metadata": {},
     "output_type": "execute_result"
    }
   ],
   "source": [
    "corr_ge['Ge_PPM'].sort_values()[1:20]"
   ]
  },
  {
   "cell_type": "code",
   "execution_count": 139,
   "metadata": {},
   "outputs": [
    {
     "data": {
      "text/plain": [
       "Er_PPM       0.133056\n",
       "BaO_PPM      0.135147\n",
       "Eu_PPM       0.135973\n",
       "V2O5_PPM     0.138611\n",
       "Cd_PPM       0.142750\n",
       "LOI_PPM      0.150649\n",
       "U3O8_PPM     0.161581\n",
       "Sb2O3_PPM    0.172649\n",
       "Ta2O5_PPM    0.172649\n",
       "Nb2O5_PPM    0.172649\n",
       "ZrO2_PPM     0.178065\n",
       "PbO_PPM      0.183525\n",
       "CuO_PPM      0.183725\n",
       "C_PPM        0.191026\n",
       "NiO_PPM      0.216557\n",
       "As2O3_PPM    0.216733\n",
       "ZnO_PPM      0.217116\n",
       "In_PPM       0.219875\n",
       "CO2_PPM      0.288816\n",
       "Ge_PPM       1.000000\n",
       "Name: Ge_PPM, dtype: float64"
      ]
     },
     "execution_count": 139,
     "metadata": {},
     "output_type": "execute_result"
    }
   ],
   "source": [
    "corr_ge['Ge_PPM'].sort_values()[-20:]"
   ]
  },
  {
   "cell_type": "code",
   "execution_count": 165,
   "metadata": {},
   "outputs": [],
   "source": [
    "only_minedex_ge = df_has_ge[['Ge_PPM','Ni_PPM', 'Cu_PPM', 'Pd_PPM', 'Au_PPM', 'Pt_PPM', 'Rh_PPM', 'Fe_PPM', 'S_PPM', 'Ag_PPM', 'Zn_PPM']].corr()"
   ]
  },
  {
   "cell_type": "code",
   "execution_count": 166,
   "metadata": {},
   "outputs": [
    {
     "data": {
      "text/plain": [
       "Ag_PPM   -0.070026\n",
       "Fe_PPM   -0.064667\n",
       "Au_PPM   -0.059197\n",
       "Ni_PPM   -0.057905\n",
       "Zn_PPM   -0.008620\n",
       "Cu_PPM   -0.008352\n",
       "S_PPM    -0.004557\n",
       "Pt_PPM   -0.002987\n",
       "Pd_PPM   -0.000460\n",
       "Rh_PPM   -0.000405\n",
       "Ge_PPM    1.000000\n",
       "Name: Ge_PPM, dtype: float64"
      ]
     },
     "execution_count": 166,
     "metadata": {},
     "output_type": "execute_result"
    }
   ],
   "source": [
    "only_minedex_ge['Ge_PPM'].sort_values()"
   ]
  },
  {
   "cell_type": "markdown",
   "metadata": {},
   "source": [
    "Very low correlations with the Minedex elements. "
   ]
  },
  {
   "cell_type": "code",
   "execution_count": 167,
   "metadata": {},
   "outputs": [
    {
     "data": {
      "text/plain": [
       "<AxesSubplot:>"
      ]
     },
     "execution_count": 167,
     "metadata": {},
     "output_type": "execute_result"
    },
    {
     "data": {
      "image/png": "[encoded data removed]",
      "text/plain": [
       "<Figure size 1080x720 with 2 Axes>"
      ]
     },
     "metadata": {
      "needs_background": "light"
     },
     "output_type": "display_data"
    }
   ],
   "source": [
    "plt.figure(figsize=(15,10))\n",
    "\n",
    "# plot the heatmap\n",
    "sns.heatmap(only_minedex_ge,\n",
    "        cmap='summer')"
   ]
  },
  {
   "cell_type": "markdown",
   "metadata": {},
   "source": [
    "##### Change all negative values to 0"
   ]
  },
  {
   "cell_type": "code",
   "execution_count": 180,
   "metadata": {},
   "outputs": [
    {
     "data": {
      "text/plain": [
       "0"
      ]
     },
     "execution_count": 180,
     "metadata": {},
     "output_type": "execute_result"
    }
   ],
   "source": [
    "df_has_ge.isna().sum().sum()"
   ]
  },
  {
   "cell_type": "code",
   "execution_count": 178,
   "metadata": {},
   "outputs": [
    {
     "data": {
      "text/plain": [
       "In_PPM          0\n",
       "Ge_PPM          0\n",
       "Co_PPM          0\n",
       "Ga_PPM        529\n",
       "Cu_PPM        551\n",
       "             ... \n",
       "Ta2O5_PPM    9501\n",
       "Rh_PPM       9502\n",
       "Os_PPM       9502\n",
       "FeO_PPM      9502\n",
       "Nb2O5_PPM    9503\n",
       "Length: 107, dtype: int64"
      ]
     },
     "execution_count": 178,
     "metadata": {},
     "output_type": "execute_result"
    }
   ],
   "source": [
    "#check number of values that were negative\n",
    "df_has_ge.mask(df_has_ge<0).isna().sum().sort_values()"
   ]
  },
  {
   "cell_type": "markdown",
   "metadata": {},
   "source": [
    "There's only 9504 rows and some columns mostly have negative values all throughout."
   ]
  },
  {
   "cell_type": "code",
   "execution_count": 182,
   "metadata": {},
   "outputs": [],
   "source": [
    "#make negative values 0s to check if corr change much\n",
    "new_df_has_ge = df_has_ge.mask(df_has_ge<0).fillna(0)"
   ]
  },
  {
   "cell_type": "code",
   "execution_count": 183,
   "metadata": {},
   "outputs": [],
   "source": [
    "new_corr_ge = new_df_has_ge.corr()"
   ]
  },
  {
   "cell_type": "code",
   "execution_count": 184,
   "metadata": {},
   "outputs": [
    {
     "data": {
      "text/plain": [
       "Na_PPM      -0.056811\n",
       "Ti_PPM      -0.056607\n",
       "Ca_PPM      -0.047969\n",
       "Mg_PPM      -0.043620\n",
       "Mn_PPM      -0.038237\n",
       "Ni_PPM      -0.037206\n",
       "Sr_PPM      -0.037122\n",
       "Cr_PPM      -0.034862\n",
       "La_PPM      -0.032361\n",
       "Sc_PPM      -0.032109\n",
       "Hg_PPM      -0.028547\n",
       "B_PPM       -0.027676\n",
       "Al_PPM      -0.027491\n",
       "Ce_PPM      -0.016646\n",
       "Pb208_PPM   -0.015061\n",
       "Pb206_PPM   -0.014883\n",
       "Pb204_PPM   -0.014474\n",
       "Pb207_PPM   -0.014461\n",
       "Li_PPM      -0.013028\n",
       "Name: Ge_PPM, dtype: float64"
      ]
     },
     "execution_count": 184,
     "metadata": {},
     "output_type": "execute_result"
    }
   ],
   "source": [
    "new_corr_ge['Ge_PPM'].sort_values()[1:20]"
   ]
  },
  {
   "cell_type": "code",
   "execution_count": 185,
   "metadata": {},
   "outputs": [
    {
     "data": {
      "text/plain": [
       "Sb2O3_PPM    0.169296\n",
       "Th_PPM       0.181894\n",
       "NiO_PPM      0.188182\n",
       "Se_PPM       0.190532\n",
       "Ba_PPM       0.192911\n",
       "Ho_PPM       0.195373\n",
       "Tb_PPM       0.198335\n",
       "C_PPM        0.218765\n",
       "In_PPM       0.219875\n",
       "Mo_PPM       0.226454\n",
       "ZnO_PPM      0.252037\n",
       "Sn_PPM       0.253025\n",
       "Hf_PPM       0.263280\n",
       "U_PPM        0.299020\n",
       "As2O3_PPM    0.310935\n",
       "U3O8_PPM     0.385815\n",
       "CO2_PPM      0.397459\n",
       "Dy_PPM       0.421230\n",
       "Ge_PPM       1.000000\n",
       "Nb2O5_PPM         NaN\n",
       "Name: Ge_PPM, dtype: float64"
      ]
     },
     "execution_count": 185,
     "metadata": {},
     "output_type": "execute_result"
    }
   ],
   "source": [
    "new_corr_ge['Ge_PPM'].sort_values()[-20:]"
   ]
  },
  {
   "cell_type": "markdown",
   "metadata": {},
   "source": [
    "#### Only keep rows where Zn is > 0 & make other negative values 0"
   ]
  },
  {
   "cell_type": "code",
   "execution_count": 232,
   "metadata": {},
   "outputs": [],
   "source": [
    "new_df_has_ge = df_has_ge[df_has_ge['Zn_PPM']>0]"
   ]
  },
  {
   "cell_type": "code",
   "execution_count": 233,
   "metadata": {},
   "outputs": [
    {
     "data": {
      "text/plain": [
       "<AxesSubplot:>"
      ]
     },
     "execution_count": 233,
     "metadata": {},
     "output_type": "execute_result"
    },
    {
     "data": {
      "image/png": "[encoded data removed]",
      "text/plain": [
       "<Figure size 432x288 with 1 Axes>"
      ]
     },
     "metadata": {
      "needs_background": "light"
     },
     "output_type": "display_data"
    }
   ],
   "source": [
    "new_df_has_ge['Ge_PPM'].hist()"
   ]
  },
  {
   "cell_type": "code",
   "execution_count": 238,
   "metadata": {},
   "outputs": [
    {
     "data": {
      "text/plain": [
       "count    8608.000000\n",
       "mean        0.767324\n",
       "std         1.558500\n",
       "min         0.000250\n",
       "25%         0.160000\n",
       "50%         0.300000\n",
       "75%         1.020000\n",
       "max        57.100000\n",
       "Name: Ge_PPM, dtype: float64"
      ]
     },
     "execution_count": 238,
     "metadata": {},
     "output_type": "execute_result"
    }
   ],
   "source": [
    "new_df_has_ge['Ge_PPM'].describe()"
   ]
  },
  {
   "cell_type": "code",
   "execution_count": 212,
   "metadata": {},
   "outputs": [
    {
     "data": {
      "text/plain": [
       "0"
      ]
     },
     "execution_count": 212,
     "metadata": {},
     "output_type": "execute_result"
    }
   ],
   "source": [
    "new_df_has_ge.isna().sum().sum()"
   ]
  },
  {
   "cell_type": "code",
   "execution_count": 213,
   "metadata": {},
   "outputs": [],
   "source": [
    "new_df_has_ge = new_df_has_ge.mask(new_df_has_ge<0).fillna(0)"
   ]
  },
  {
   "cell_type": "code",
   "execution_count": 215,
   "metadata": {},
   "outputs": [],
   "source": [
    "new_corr_ge = new_df_has_ge.corr()"
   ]
  },
  {
   "cell_type": "code",
   "execution_count": 217,
   "metadata": {},
   "outputs": [
    {
     "data": {
      "text/plain": [
       "Fe_PPM      -0.055308\n",
       "Ti_PPM      -0.050861\n",
       "Al_PPM      -0.049965\n",
       "Na_PPM      -0.046179\n",
       "B_PPM       -0.042246\n",
       "Ni_PPM      -0.040127\n",
       "La_PPM      -0.039345\n",
       "Cr_PPM      -0.039175\n",
       "Mn_PPM      -0.037189\n",
       "Sr_PPM      -0.035817\n",
       "Mg_PPM      -0.035032\n",
       "Hg_PPM      -0.034647\n",
       "Ca_PPM      -0.034198\n",
       "WO3_PPM     -0.026694\n",
       "Sc_PPM      -0.025835\n",
       "Pb206_PPM   -0.016296\n",
       "Pb208_PPM   -0.015866\n",
       "Pb204_PPM   -0.015848\n",
       "Pb207_PPM   -0.015834\n",
       "Name: Ge_PPM, dtype: float64"
      ]
     },
     "execution_count": 217,
     "metadata": {},
     "output_type": "execute_result"
    }
   ],
   "source": [
    "new_corr_ge['Ge_PPM'].sort_values()[1:20]"
   ]
  },
  {
   "cell_type": "code",
   "execution_count": 218,
   "metadata": {},
   "outputs": [
    {
     "data": {
      "text/plain": [
       "Gd_PPM       0.168648\n",
       "Cd_PPM       0.171263\n",
       "Eu_PPM       0.187429\n",
       "In_PPM       0.191454\n",
       "ZnO_PPM      0.204938\n",
       "Ho_PPM       0.224076\n",
       "Tb_PPM       0.224223\n",
       "Sn_PPM       0.233442\n",
       "C_PPM        0.243359\n",
       "Mo_PPM       0.246472\n",
       "As2O3_PPM    0.307676\n",
       "U_PPM        0.314638\n",
       "U3O8_PPM     0.420458\n",
       "CO2_PPM      0.433152\n",
       "Dy_PPM       0.469536\n",
       "Ge_PPM       1.000000\n",
       "F_PPM             NaN\n",
       "Nb2O5_PPM         NaN\n",
       "Sb2O3_PPM         NaN\n",
       "Ta2O5_PPM         NaN\n",
       "Name: Ge_PPM, dtype: float64"
      ]
     },
     "execution_count": 218,
     "metadata": {},
     "output_type": "execute_result"
    }
   ],
   "source": [
    "new_corr_ge['Ge_PPM'].sort_values()[-20:]"
   ]
  },
  {
   "cell_type": "markdown",
   "metadata": {},
   "source": [
    "#### Indium"
   ]
  },
  {
   "cell_type": "markdown",
   "metadata": {},
   "source": [
    "##### Keep all values even negative"
   ]
  },
  {
   "cell_type": "code",
   "execution_count": 149,
   "metadata": {},
   "outputs": [
    {
     "data": {
      "text/plain": [
       "Ni_PPM   -0.056578\n",
       "Bi_PPM   -0.051763\n",
       "Sn_PPM   -0.045450\n",
       "Sr_PPM   -0.044837\n",
       "Y_PPM    -0.042394\n",
       "V_PPM    -0.042381\n",
       "Zr_PPM   -0.041743\n",
       "W_PPM    -0.041447\n",
       "Tl_PPM   -0.039681\n",
       "Ag_PPM   -0.037944\n",
       "Nb_PPM   -0.036144\n",
       "Be_PPM   -0.033985\n",
       "Pb_PPM   -0.029148\n",
       "Se_PPM   -0.028662\n",
       "Ga_PPM   -0.027231\n",
       "U_PPM    -0.026795\n",
       "Th_PPM   -0.025877\n",
       "Cs_PPM   -0.025805\n",
       "Sc_PPM   -0.025690\n",
       "Name: In_PPM, dtype: float64"
      ]
     },
     "execution_count": 149,
     "metadata": {},
     "output_type": "execute_result"
    }
   ],
   "source": [
    "corr_in['In_PPM'].sort_values()[1:20]"
   ]
  },
  {
   "cell_type": "code",
   "execution_count": 150,
   "metadata": {},
   "outputs": [
    {
     "data": {
      "text/plain": [
       "SrO_PPM     -0.000311\n",
       "Cu_PPM      -0.000245\n",
       "Lu2O3_PPM   -0.000196\n",
       "ThO2_PPM    -0.000196\n",
       "F_PPM       -0.000190\n",
       "P_PPM        0.000042\n",
       "Mn_PPM       0.000484\n",
       "Cr_PPM       0.002274\n",
       "La_PPM       0.003848\n",
       "Cd_PPM       0.003985\n",
       "Sb_PPM       0.004687\n",
       "As_PPM       0.005047\n",
       "Ta_PPM       0.007156\n",
       "Rb_PPM       0.009183\n",
       "Au_PPM       0.012308\n",
       "Si_PPM       0.012603\n",
       "Lu_PPM       0.029615\n",
       "Hg_PPM       0.056544\n",
       "B_PPM        0.890991\n",
       "In_PPM       1.000000\n",
       "Name: In_PPM, dtype: float64"
      ]
     },
     "execution_count": 150,
     "metadata": {},
     "output_type": "execute_result"
    }
   ],
   "source": [
    "corr_in['In_PPM'].sort_values()[-20:]"
   ]
  },
  {
   "cell_type": "code",
   "execution_count": 168,
   "metadata": {},
   "outputs": [],
   "source": [
    "only_minedex_in = df_has_in[['In_PPM','Ni_PPM', 'Cu_PPM', 'Pd_PPM', 'Au_PPM', 'Pt_PPM', 'Rh_PPM', 'Fe_PPM', 'S_PPM', 'Ag_PPM', 'Zn_PPM']].corr()"
   ]
  },
  {
   "cell_type": "code",
   "execution_count": 169,
   "metadata": {},
   "outputs": [
    {
     "data": {
      "text/plain": [
       "Ni_PPM   -0.056578\n",
       "Ag_PPM   -0.037944\n",
       "Zn_PPM   -0.006824\n",
       "Pd_PPM   -0.003921\n",
       "Pt_PPM   -0.003912\n",
       "Fe_PPM   -0.002740\n",
       "S_PPM    -0.000523\n",
       "Rh_PPM   -0.000392\n",
       "Cu_PPM   -0.000245\n",
       "Au_PPM    0.012308\n",
       "In_PPM    1.000000\n",
       "Name: In_PPM, dtype: float64"
      ]
     },
     "execution_count": 169,
     "metadata": {},
     "output_type": "execute_result"
    }
   ],
   "source": [
    "only_minedex_in['In_PPM'].sort_values()"
   ]
  },
  {
   "cell_type": "code",
   "execution_count": 170,
   "metadata": {},
   "outputs": [
    {
     "data": {
      "text/plain": [
       "<AxesSubplot:>"
      ]
     },
     "execution_count": 170,
     "metadata": {},
     "output_type": "execute_result"
    },
    {
     "data": {
      "image/png": "[encoded data removed]",
      "text/plain": [
       "<Figure size 1080x720 with 2 Axes>"
      ]
     },
     "metadata": {
      "needs_background": "light"
     },
     "output_type": "display_data"
    }
   ],
   "source": [
    "plt.figure(figsize=(15,10))\n",
    "\n",
    "# plot the heatmap\n",
    "sns.heatmap(only_minedex_in,\n",
    "        cmap='summer')"
   ]
  },
  {
   "cell_type": "markdown",
   "metadata": {},
   "source": [
    "##### Change all negative values to 0"
   ]
  },
  {
   "cell_type": "code",
   "execution_count": 186,
   "metadata": {},
   "outputs": [
    {
     "data": {
      "text/plain": [
       "0"
      ]
     },
     "execution_count": 186,
     "metadata": {},
     "output_type": "execute_result"
    }
   ],
   "source": [
    "df_has_in.isna().sum().sum()"
   ]
  },
  {
   "cell_type": "code",
   "execution_count": 187,
   "metadata": {},
   "outputs": [
    {
     "data": {
      "text/plain": [
       "Ge_PPM           0\n",
       "Co_PPM           0\n",
       "In_PPM           0\n",
       "Cu_PPM         786\n",
       "Mo_PPM         955\n",
       "             ...  \n",
       "Ir_PPM       13086\n",
       "CuO_PPM      13086\n",
       "Nb2O5_PPM    13087\n",
       "Lu2O3_PPM    13087\n",
       "ThO2_PPM     13087\n",
       "Length: 108, dtype: int64"
      ]
     },
     "execution_count": 187,
     "metadata": {},
     "output_type": "execute_result"
    }
   ],
   "source": [
    "#check number of values that were negative\n",
    "df_has_in.mask(df_has_in<0).isna().sum().sort_values()"
   ]
  },
  {
   "cell_type": "code",
   "execution_count": 200,
   "metadata": {},
   "outputs": [],
   "source": [
    "#make negative values 0s to check if corr change much\n",
    "new_df_has_in = df_has_in.mask(df_has_in<0).fillna(0)"
   ]
  },
  {
   "cell_type": "code",
   "execution_count": 201,
   "metadata": {},
   "outputs": [],
   "source": [
    "new_corr_in = new_df_has_in.corr()"
   ]
  },
  {
   "cell_type": "code",
   "execution_count": 202,
   "metadata": {},
   "outputs": [
    {
     "data": {
      "text/plain": [
       "Sc_PPM      -0.013556\n",
       "Zr_PPM      -0.013180\n",
       "Y_PPM       -0.011185\n",
       "Sr_PPM      -0.010938\n",
       "Rb_PPM      -0.009443\n",
       "Co_PPM      -0.006744\n",
       "Ni_PPM      -0.005842\n",
       "Gd_PPM      -0.005813\n",
       "Nd_PPM      -0.004906\n",
       "Yb_PPM      -0.004739\n",
       "V_PPM       -0.004506\n",
       "SiO2_PPM    -0.004505\n",
       "Al2O3_PPM   -0.004478\n",
       "Eu_PPM      -0.004172\n",
       "LOI_PPM     -0.003818\n",
       "CaO_PPM     -0.003812\n",
       "Na2O_PPM    -0.003661\n",
       "Mn_PPM      -0.003636\n",
       "Ho_PPM      -0.003619\n",
       "Name: In_PPM, dtype: float64"
      ]
     },
     "execution_count": 202,
     "metadata": {},
     "output_type": "execute_result"
    }
   ],
   "source": [
    "new_corr_in['In_PPM'].sort_values()[1:20]"
   ]
  },
  {
   "cell_type": "code",
   "execution_count": 203,
   "metadata": {},
   "outputs": [
    {
     "data": {
      "text/plain": [
       "Ru_PPM      -0.000213\n",
       "U3O8_PPM    -0.000213\n",
       "Lu2O3_PPM   -0.000196\n",
       "Ir_PPM      -0.000194\n",
       "F_PPM       -0.000188\n",
       "CuO_PPM     -0.000183\n",
       "CO2_PPM     -0.000182\n",
       "ThO2_PPM    -0.000158\n",
       "Os_PPM      -0.000156\n",
       "Nb2O5_PPM   -0.000156\n",
       "Ba_PPM       0.000578\n",
       "Au_PPM       0.005124\n",
       "Se_PPM       0.006116\n",
       "Hf_PPM       0.006454\n",
       "Ta_PPM       0.007084\n",
       "Th_PPM       0.009373\n",
       "Hg_PPM       0.019729\n",
       "Lu_PPM       0.312714\n",
       "B_PPM        0.999825\n",
       "In_PPM       1.000000\n",
       "Name: In_PPM, dtype: float64"
      ]
     },
     "execution_count": 203,
     "metadata": {},
     "output_type": "execute_result"
    }
   ],
   "source": [
    "new_corr_in['In_PPM'].sort_values()[-20:]"
   ]
  },
  {
   "cell_type": "markdown",
   "metadata": {},
   "source": [
    "#### Only keep rows where Zn is > 0 & make other negative values 0"
   ]
  },
  {
   "cell_type": "code",
   "execution_count": 219,
   "metadata": {},
   "outputs": [],
   "source": [
    "new_df_has_in = df_has_in[df_has_in['Zn_PPM']>0]"
   ]
  },
  {
   "cell_type": "code",
   "execution_count": 234,
   "metadata": {},
   "outputs": [
    {
     "data": {
      "text/plain": [
       "<AxesSubplot:>"
      ]
     },
     "execution_count": 234,
     "metadata": {},
     "output_type": "execute_result"
    },
    {
     "data": {
      "image/png": "[encoded data removed]",
      "text/plain": [
       "<Figure size 432x288 with 1 Axes>"
      ]
     },
     "metadata": {
      "needs_background": "light"
     },
     "output_type": "display_data"
    }
   ],
   "source": [
    "new_df_has_in['In_PPM'].hist()"
   ]
  },
  {
   "cell_type": "code",
   "execution_count": 237,
   "metadata": {},
   "outputs": [
    {
     "data": {
      "text/plain": [
       "count    12019.000000\n",
       "mean         0.398788\n",
       "std          6.007683\n",
       "min          0.000050\n",
       "25%          0.029000\n",
       "50%          0.050000\n",
       "75%          0.079000\n",
       "max        258.000000\n",
       "Name: In_PPM, dtype: float64"
      ]
     },
     "execution_count": 237,
     "metadata": {},
     "output_type": "execute_result"
    }
   ],
   "source": [
    "new_df_has_in['In_PPM'].describe()"
   ]
  },
  {
   "cell_type": "code",
   "execution_count": 220,
   "metadata": {},
   "outputs": [
    {
     "data": {
      "text/plain": [
       "0"
      ]
     },
     "execution_count": 220,
     "metadata": {},
     "output_type": "execute_result"
    }
   ],
   "source": [
    "new_df_has_in.isna().sum().sum()"
   ]
  },
  {
   "cell_type": "code",
   "execution_count": 221,
   "metadata": {},
   "outputs": [],
   "source": [
    "new_df_has_in = new_df_has_in.mask(new_df_has_in<0).fillna(0)\n",
    "new_corr_in = new_df_has_in.corr()"
   ]
  },
  {
   "cell_type": "code",
   "execution_count": 222,
   "metadata": {},
   "outputs": [
    {
     "data": {
      "text/plain": [
       "Sc_PPM      -0.042151\n",
       "Zr_PPM      -0.038611\n",
       "Sr_PPM      -0.036480\n",
       "Rb_PPM      -0.031116\n",
       "Y_PPM       -0.028326\n",
       "Th_PPM      -0.024954\n",
       "Ni_PPM      -0.018690\n",
       "SiO2_PPM    -0.016420\n",
       "Al2O3_PPM   -0.016391\n",
       "CaO_PPM     -0.014805\n",
       "LOI_PPM     -0.014102\n",
       "Na2O_PPM    -0.014014\n",
       "P2O5_PPM    -0.013610\n",
       "MgO_PPM     -0.013557\n",
       "K2O_PPM     -0.012416\n",
       "Fe2O3_PPM   -0.012083\n",
       "MnO_PPM     -0.011590\n",
       "C_PPM       -0.010738\n",
       "BaO_PPM     -0.009145\n",
       "Name: In_PPM, dtype: float64"
      ]
     },
     "execution_count": 222,
     "metadata": {},
     "output_type": "execute_result"
    }
   ],
   "source": [
    "new_corr_in['In_PPM'].sort_values()[1:20]"
   ]
  },
  {
   "cell_type": "code",
   "execution_count": 223,
   "metadata": {},
   "outputs": [
    {
     "data": {
      "text/plain": [
       "Se_PPM       0.049168\n",
       "Ba_PPM       0.071432\n",
       "Sb_PPM       0.099074\n",
       "Ag_PPM       0.110511\n",
       "Cr_PPM       0.196093\n",
       "Be_PPM       0.263999\n",
       "Pr_PPM       0.273170\n",
       "Hf_PPM       0.286975\n",
       "Nb_PPM       0.305197\n",
       "Mo_PPM       0.319941\n",
       "Ho_PPM       0.423011\n",
       "Eu_PPM       0.439411\n",
       "Sm_PPM       0.481210\n",
       "Tb_PPM       0.558200\n",
       "Tm_PPM       0.569317\n",
       "In_PPM       1.000000\n",
       "F_PPM             NaN\n",
       "Nb2O5_PPM         NaN\n",
       "Sb2O3_PPM         NaN\n",
       "Ta2O5_PPM         NaN\n",
       "Name: In_PPM, dtype: float64"
      ]
     },
     "execution_count": 223,
     "metadata": {},
     "output_type": "execute_result"
    }
   ],
   "source": [
    "new_corr_in['In_PPM'].sort_values()[-20:]"
   ]
  },
  {
   "cell_type": "markdown",
   "metadata": {},
   "source": [
    "#### Cobalt"
   ]
  },
  {
   "cell_type": "markdown",
   "metadata": {},
   "source": [
    "##### Keep all values even negative"
   ]
  },
  {
   "cell_type": "code",
   "execution_count": 277,
   "metadata": {},
   "outputs": [
    {
     "data": {
      "text/plain": [
       "Ba_PPM   -0.015684\n",
       "Sc_PPM   -0.014122\n",
       "Be_PPM   -0.012700\n",
       "Th_PPM   -0.012571\n",
       "U_PPM    -0.012284\n",
       "Tl_PPM   -0.012103\n",
       "Ga_PPM   -0.011767\n",
       "Ta_PPM   -0.010624\n",
       "Hf_PPM   -0.010354\n",
       "Rb_PPM   -0.010273\n",
       "Ce_PPM   -0.008330\n",
       "Cs_PPM   -0.007501\n",
       "Te_PPM   -0.007265\n",
       "Gd_PPM   -0.006667\n",
       "Eu_PPM   -0.006663\n",
       "Tb_PPM   -0.006607\n",
       "Nd_PPM   -0.006583\n",
       "Pr_PPM   -0.006563\n",
       "Yb_PPM   -0.006554\n",
       "Name: Co_PPM, dtype: float64"
      ]
     },
     "execution_count": 277,
     "metadata": {},
     "output_type": "execute_result"
    }
   ],
   "source": [
    "corr_co['Co_PPM'].sort_values()[1:20]"
   ]
  },
  {
   "cell_type": "code",
   "execution_count": 278,
   "metadata": {},
   "outputs": [
    {
     "data": {
      "text/plain": [
       "Au_PPM      0.007650\n",
       "CaO_PPM     0.008681\n",
       "Sr_PPM      0.008840\n",
       "Rh_PPM      0.012341\n",
       "Ru_PPM      0.012449\n",
       "Os_PPM      0.012456\n",
       "Ir_PPM      0.012745\n",
       "K2O_PPM     0.023952\n",
       "MgO_PPM     0.030755\n",
       "Cu_PPM      0.033266\n",
       "S_PPM       0.038060\n",
       "Na2O_PPM    0.040096\n",
       "Mg_PPM      0.041649\n",
       "Ni_PPM      0.042263\n",
       "Cl_PPM      0.047805\n",
       "BaO_PPM     0.067966\n",
       "Al_PPM      0.071385\n",
       "V2O5_PPM    0.085280\n",
       "Cr_PPM      0.134303\n",
       "Co_PPM      1.000000\n",
       "Name: Co_PPM, dtype: float64"
      ]
     },
     "execution_count": 278,
     "metadata": {},
     "output_type": "execute_result"
    }
   ],
   "source": [
    "corr_co['Co_PPM'].sort_values()[-20:]"
   ]
  },
  {
   "cell_type": "code",
   "execution_count": 279,
   "metadata": {},
   "outputs": [],
   "source": [
    "only_minedex_co = df_has_co[['Co_PPM','Ni_PPM', 'Cu_PPM', 'Pd_PPM', 'Au_PPM', 'Pt_PPM', 'Rh_PPM', 'Fe_PPM', 'S_PPM', 'Ag_PPM', 'Zn_PPM']].corr()"
   ]
  },
  {
   "cell_type": "code",
   "execution_count": 280,
   "metadata": {},
   "outputs": [
    {
     "data": {
      "text/plain": [
       "Fe_PPM   -0.002149\n",
       "Ag_PPM   -0.000577\n",
       "Pd_PPM    0.000706\n",
       "Zn_PPM    0.002320\n",
       "Pt_PPM    0.004095\n",
       "Au_PPM    0.007650\n",
       "Rh_PPM    0.012341\n",
       "Cu_PPM    0.033266\n",
       "S_PPM     0.038060\n",
       "Ni_PPM    0.042263\n",
       "Co_PPM    1.000000\n",
       "Name: Co_PPM, dtype: float64"
      ]
     },
     "execution_count": 280,
     "metadata": {},
     "output_type": "execute_result"
    }
   ],
   "source": [
    "only_minedex_co['Co_PPM'].sort_values()"
   ]
  },
  {
   "cell_type": "code",
   "execution_count": 281,
   "metadata": {},
   "outputs": [
    {
     "data": {
      "text/plain": [
       "<AxesSubplot:>"
      ]
     },
     "execution_count": 281,
     "metadata": {},
     "output_type": "execute_result"
    },
    {
     "data": {
      "image/png": "[encoded data removed]",
      "text/plain": [
       "<Figure size 1080x720 with 2 Axes>"
      ]
     },
     "metadata": {
      "needs_background": "light"
     },
     "output_type": "display_data"
    }
   ],
   "source": [
    "plt.figure(figsize=(15,10))\n",
    "\n",
    "# plot the heatmap\n",
    "sns.heatmap(only_minedex_co,\n",
    "        cmap='summer')"
   ]
  },
  {
   "cell_type": "markdown",
   "metadata": {},
   "source": [
    "##### Change all negative values to 0"
   ]
  },
  {
   "cell_type": "code",
   "execution_count": 282,
   "metadata": {},
   "outputs": [
    {
     "data": {
      "text/plain": [
       "0"
      ]
     },
     "execution_count": 282,
     "metadata": {},
     "output_type": "execute_result"
    }
   ],
   "source": [
    "df_has_co.isna().sum().sum()"
   ]
  },
  {
   "cell_type": "code",
   "execution_count": 283,
   "metadata": {},
   "outputs": [
    {
     "data": {
      "text/plain": [
       "In_PPM            0\n",
       "Co_PPM            0\n",
       "Ge_PPM            0\n",
       "Cu_PPM        12847\n",
       "Ni_PPM        38593\n",
       "              ...  \n",
       "Nb2O5_PPM    170788\n",
       "H2O_PPM      170794\n",
       "Br_PPM       170804\n",
       "CuO_PPM      170805\n",
       "I_PPM        170807\n",
       "Length: 130, dtype: int64"
      ]
     },
     "execution_count": 283,
     "metadata": {},
     "output_type": "execute_result"
    }
   ],
   "source": [
    "#check number of values that were negative\n",
    "df_has_co.mask(df_has_co<0).isna().sum().sort_values()"
   ]
  },
  {
   "cell_type": "code",
   "execution_count": 286,
   "metadata": {},
   "outputs": [],
   "source": [
    "#make negative values 0s to check if corr change much\n",
    "new_df_has_co = df_has_co.mask(df_has_co<0).fillna(0)"
   ]
  },
  {
   "cell_type": "code",
   "execution_count": 287,
   "metadata": {},
   "outputs": [
    {
     "data": {
      "text/plain": [
       "V_PPM      -0.008490\n",
       "Sc_PPM     -0.006269\n",
       "Rb_PPM     -0.004739\n",
       "LOI_PPM    -0.004490\n",
       "Si_PPM     -0.003541\n",
       "Ge_PPM     -0.003362\n",
       "LE_PPM     -0.002963\n",
       "K_PPM      -0.002636\n",
       "Nb_PPM     -0.002552\n",
       "Ca_PPM     -0.002321\n",
       "MgO2_PPM   -0.002288\n",
       "Fe_PPM     -0.002150\n",
       "Mo_PPM     -0.002040\n",
       "ThO2_PPM   -0.002038\n",
       "Ba_PPM     -0.001970\n",
       "Nd_PPM     -0.001883\n",
       "C_PPM      -0.001816\n",
       "Ag_PPM     -0.001647\n",
       "TiO2_PPM   -0.001563\n",
       "Name: Co_PPM, dtype: float64"
      ]
     },
     "execution_count": 287,
     "metadata": {},
     "output_type": "execute_result"
    }
   ],
   "source": [
    "new_corr_co = new_df_has_co.corr()\n",
    "new_corr_co['Co_PPM'].sort_values()[1:20]"
   ]
  },
  {
   "cell_type": "code",
   "execution_count": 288,
   "metadata": {},
   "outputs": [
    {
     "data": {
      "text/plain": [
       "CaO_PPM     0.009761\n",
       "Au_PPM      0.015837\n",
       "MgO_PPM     0.030073\n",
       "K2O_PPM     0.033893\n",
       "Pd_PPM      0.034754\n",
       "Cu_PPM      0.035461\n",
       "S_PPM       0.038358\n",
       "Zr_PPM      0.039727\n",
       "Mg_PPM      0.041648\n",
       "Ni_PPM      0.042357\n",
       "Na2O_PPM    0.054327\n",
       "Cl_PPM      0.056918\n",
       "BaO_PPM     0.069997\n",
       "Al_PPM      0.071385\n",
       "Pb_PPM      0.073346\n",
       "Sr_PPM      0.078506\n",
       "V2O5_PPM    0.088033\n",
       "Cr_PPM      0.142108\n",
       "Co_PPM      1.000000\n",
       "I_PPM            NaN\n",
       "Name: Co_PPM, dtype: float64"
      ]
     },
     "execution_count": 288,
     "metadata": {},
     "output_type": "execute_result"
    }
   ],
   "source": [
    "new_corr_co['Co_PPM'].sort_values()[-20:]"
   ]
  },
  {
   "cell_type": "markdown",
   "metadata": {},
   "source": [
    "#### Only keep rows where Cu and Ni is > 0 & make other negative values 0"
   ]
  },
  {
   "cell_type": "code",
   "execution_count": 289,
   "metadata": {},
   "outputs": [],
   "source": [
    "new_df_has_co = df_has_co[df_has_co['Cu_PPM']>0]\n",
    "new_df_has_co = new_df_has_co[new_df_has_co['Ni_PPM']>0]"
   ]
  },
  {
   "cell_type": "code",
   "execution_count": 290,
   "metadata": {},
   "outputs": [
    {
     "data": {
      "text/plain": [
       "<AxesSubplot:>"
      ]
     },
     "execution_count": 290,
     "metadata": {},
     "output_type": "execute_result"
    },
    {
     "data": {
      "image/png": "[encoded data removed]",
      "text/plain": [
       "<Figure size 432x288 with 1 Axes>"
      ]
     },
     "metadata": {
      "needs_background": "light"
     },
     "output_type": "display_data"
    }
   ],
   "source": [
    "new_df_has_co['Co_PPM'].hist()"
   ]
  },
  {
   "cell_type": "code",
   "execution_count": 291,
   "metadata": {},
   "outputs": [
    {
     "data": {
      "text/plain": [
       "count    124407.000000\n",
       "mean        794.756295\n",
       "std       20295.537551\n",
       "min           0.000300\n",
       "25%          20.000000\n",
       "50%          60.000000\n",
       "75%         109.000000\n",
       "max      990000.000000\n",
       "Name: Co_PPM, dtype: float64"
      ]
     },
     "execution_count": 291,
     "metadata": {},
     "output_type": "execute_result"
    }
   ],
   "source": [
    "new_df_has_co['Co_PPM'].describe()"
   ]
  },
  {
   "cell_type": "code",
   "execution_count": 292,
   "metadata": {},
   "outputs": [
    {
     "data": {
      "text/plain": [
       "0"
      ]
     },
     "execution_count": 292,
     "metadata": {},
     "output_type": "execute_result"
    }
   ],
   "source": [
    "new_df_has_co.isna().sum().sum()"
   ]
  },
  {
   "cell_type": "code",
   "execution_count": 293,
   "metadata": {},
   "outputs": [],
   "source": [
    "new_df_has_co = new_df_has_co.mask(new_df_has_co<0).fillna(0)\n",
    "new_corr_co = new_df_has_co.corr()"
   ]
  },
  {
   "cell_type": "code",
   "execution_count": 294,
   "metadata": {},
   "outputs": [
    {
     "data": {
      "text/plain": [
       "V_PPM      -0.012144\n",
       "Hf_PPM     -0.008888\n",
       "Sc_PPM     -0.008163\n",
       "Th_PPM     -0.007057\n",
       "Rb_PPM     -0.006133\n",
       "LOI_PPM    -0.005443\n",
       "Si_PPM     -0.004533\n",
       "Nb_PPM     -0.004160\n",
       "Ge_PPM     -0.004155\n",
       "LE_PPM     -0.003879\n",
       "Ba_PPM     -0.003218\n",
       "K_PPM      -0.003156\n",
       "MgO2_PPM   -0.003112\n",
       "Ca_PPM     -0.002666\n",
       "ThO2_PPM   -0.002625\n",
       "Fe_PPM     -0.002489\n",
       "Nd_PPM     -0.002301\n",
       "C_PPM      -0.002217\n",
       "TiO2_PPM   -0.002085\n",
       "Name: Co_PPM, dtype: float64"
      ]
     },
     "execution_count": 294,
     "metadata": {},
     "output_type": "execute_result"
    }
   ],
   "source": [
    "new_corr_co['Co_PPM'].sort_values()[1:20]"
   ]
  },
  {
   "cell_type": "code",
   "execution_count": 295,
   "metadata": {},
   "outputs": [
    {
     "data": {
      "text/plain": [
       "CaO_PPM     0.011082\n",
       "Au_PPM      0.017116\n",
       "MgO_PPM     0.030591\n",
       "Cu_PPM      0.036686\n",
       "Pd_PPM      0.037661\n",
       "K2O_PPM     0.038577\n",
       "Zr_PPM      0.041446\n",
       "S_PPM       0.042065\n",
       "Ni_PPM      0.043217\n",
       "Mg_PPM      0.047366\n",
       "Na2O_PPM    0.059810\n",
       "BaO_PPM     0.073157\n",
       "Sr_PPM      0.081863\n",
       "Cl_PPM      0.083603\n",
       "Al_PPM      0.089059\n",
       "V2O5_PPM    0.091988\n",
       "Pb_PPM      0.095246\n",
       "Cr_PPM      0.148427\n",
       "Co_PPM      1.000000\n",
       "I_PPM            NaN\n",
       "Name: Co_PPM, dtype: float64"
      ]
     },
     "execution_count": 295,
     "metadata": {},
     "output_type": "execute_result"
    }
   ],
   "source": [
    "new_corr_co['Co_PPM'].sort_values()[-20:]"
   ]
  },
  {
   "cell_type": "code",
   "execution_count": null,
   "metadata": {},
   "outputs": [],
   "source": []
  }
 ],
 "metadata": {
  "kernelspec": {
   "display_name": "Python 3",
   "language": "python",
   "name": "python3"
  },
  "language_info": {
   "codemirror_mode": {
    "name": "ipython",
    "version": 3
   },
   "file_extension": ".py",
   "mimetype": "text/x-python",
   "name": "python",
   "nbconvert_exporter": "python",
   "pygments_lexer": "ipython3",
   "version": "3.8.5"
  }
 },
 "nbformat": 4,
 "nbformat_minor": 4
}
