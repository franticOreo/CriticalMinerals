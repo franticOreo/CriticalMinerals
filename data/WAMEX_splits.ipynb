{
 "cells": [
  {
   "cell_type": "code",
   "execution_count": 1,
   "source": [
    "import pandas as pd\n",
    "import numpy as np\n",
    "import math"
   ],
   "outputs": [],
   "metadata": {}
  },
  {
   "cell_type": "code",
   "execution_count": 2,
   "source": [
    "df = pd.read_csv('WAMEX_with_Co_Ni_MINDEX_available_minerals.csv')\n",
    "row,col = df.shape\n",
    "df[\"Index\"]=range(len(df))"
   ],
   "outputs": [],
   "metadata": {}
  },
  {
   "cell_type": "code",
   "execution_count": 3,
   "source": [
    "split_num = 30000\n",
    "value = math.floor(row / split_num)\n",
    "print(value)\n",
    "\n",
    "rows_format = value * split_num\n",
    "print(rows_format)\n",
    "new_list = [[i, i+split_num] for i in range(0, rows_format, split_num)]\n",
    "\n",
    "for i_j in new_list:\n",
    "    i, j = i_j\n",
    "    excel_small = df[i:j]\n",
    "    excel_small.to_excel('WAMEX_with_Co_Ni_MINDEX_available_minerals_{0}_{1}.xlsx'.format(i, j), index=False)\n",
    "\n",
    "df[rows_format:].to_excel('WAMEX_with_Co_Ni_MINDEX_available_minerals_last.xlsx')"
   ],
   "outputs": [
    {
     "output_type": "stream",
     "name": "stdout",
     "text": [
      "5\n",
      "150000\n"
     ]
    }
   ],
   "metadata": {}
  },
  {
   "cell_type": "code",
   "execution_count": 8,
   "source": [
    "len(df)"
   ],
   "outputs": [
    {
     "output_type": "execute_result",
     "data": {
      "text/plain": [
       "179193"
      ]
     },
     "metadata": {},
     "execution_count": 8
    }
   ],
   "metadata": {}
  },
  {
   "cell_type": "code",
   "execution_count": 7,
   "source": [
    "len(df1)+len(df2)+len(df3)+len(df4)+len(df5)+len(df6)"
   ],
   "outputs": [
    {
     "output_type": "execute_result",
     "data": {
      "text/plain": [
       "179193"
      ]
     },
     "metadata": {},
     "execution_count": 7
    }
   ],
   "metadata": {}
  }
 ],
 "metadata": {
  "orig_nbformat": 4,
  "language_info": {
   "name": "python",
   "version": "3.7.10",
   "mimetype": "text/x-python",
   "codemirror_mode": {
    "name": "ipython",
    "version": 3
   },
   "pygments_lexer": "ipython3",
   "nbconvert_exporter": "python",
   "file_extension": ".py"
  },
  "kernelspec": {
   "name": "python3",
   "display_name": "Python 3.7.10 64-bit ('cits5508-fix': conda)"
  },
  "interpreter": {
   "hash": "83def2c927d79f74eac1e8a9334dfc8423fb47183e1de0990794ab6c42fdc83a"
  }
 },
 "nbformat": 4,
 "nbformat_minor": 2
}