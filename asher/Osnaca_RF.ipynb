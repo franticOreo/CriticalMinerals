{
 "cells": [
  {
   "cell_type": "markdown",
   "metadata": {},
   "source": [
    "# Random Forest regression analysis of Ge in combined OSNACA data"
   ]
  },
  {
   "cell_type": "code",
   "execution_count": 94,
   "metadata": {},
   "outputs": [],
   "source": [
    "import pandas as pd\r\n",
    "import sklearn\r\n",
    "import numpy as np\r\n",
    "import matplotlib.pyplot as plt"
   ]
  },
  {
   "cell_type": "code",
   "execution_count": 95,
   "metadata": {},
   "outputs": [],
   "source": [
    "#read in the data\r\n",
    "\r\n",
    "osnaca = pd.read_excel(\"../data/osnaca-data.xlsx\",sheet_name=\"Data\")\r\n",
    "osnaca_conclurry = pd.read_excel(\"../data/osnaca-data.xlsx\",sheet_name=\"Cloncurry Supplement\")\r\n",
    "osnaca_metadata_sheet1 = pd.read_excel(\"../data/osnaca-metadata.xlsx\",sheet_name=\"Ore samples\")"
   ]
  },
  {
   "cell_type": "code",
   "execution_count": 96,
   "metadata": {},
   "outputs": [
    {
     "data": {
      "text/html": "<div>\n<style scoped>\n    .dataframe tbody tr th:only-of-type {\n        vertical-align: middle;\n    }\n\n    .dataframe tbody tr th {\n        vertical-align: top;\n    }\n\n    .dataframe thead th {\n        text-align: right;\n    }\n</style>\n<table border=\"1\" class=\"dataframe\">\n  <thead>\n    <tr style=\"text-align: right;\">\n      <th></th>\n      <th>Sample</th>\n      <th>Code</th>\n      <th>Au (FA)</th>\n      <th>Pt</th>\n      <th>Pd</th>\n      <th>Au (AR)</th>\n      <th>Bi</th>\n      <th>Te</th>\n      <th>Hg</th>\n      <th>Ag</th>\n      <th>...</th>\n      <th>Y</th>\n      <th>Zn</th>\n      <th>B</th>\n      <th>Hf</th>\n      <th>Si</th>\n      <th>Zr</th>\n      <th>Be</th>\n      <th>Ga</th>\n      <th>Ge</th>\n      <th>Wt Tot</th>\n    </tr>\n  </thead>\n  <tbody>\n    <tr>\n      <th>0</th>\n      <td>700001</td>\n      <td>NaN</td>\n      <td>0.438</td>\n      <td>0.002</td>\n      <td>0.002</td>\n      <td>0.362</td>\n      <td>10.60</td>\n      <td>0.02</td>\n      <td>0.39</td>\n      <td>91.5</td>\n      <td>...</td>\n      <td>1.2</td>\n      <td>153000</td>\n      <td>-20</td>\n      <td>0.4</td>\n      <td>34200</td>\n      <td>60</td>\n      <td>-1.0</td>\n      <td>11.0</td>\n      <td>1</td>\n      <td>159</td>\n    </tr>\n    <tr>\n      <th>1</th>\n      <td>700002</td>\n      <td>NaN</td>\n      <td>0.093</td>\n      <td>0.001</td>\n      <td>0.002</td>\n      <td>0.095</td>\n      <td>125.00</td>\n      <td>0.22</td>\n      <td>0.12</td>\n      <td>44.0</td>\n      <td>...</td>\n      <td>18.5</td>\n      <td>3780</td>\n      <td>-20</td>\n      <td>0.2</td>\n      <td>114000</td>\n      <td>20</td>\n      <td>-1.0</td>\n      <td>2.0</td>\n      <td>-1</td>\n      <td>143</td>\n    </tr>\n    <tr>\n      <th>2</th>\n      <td>700003</td>\n      <td>NaN</td>\n      <td>1.41</td>\n      <td>0.002</td>\n      <td>0.002</td>\n      <td>1.39</td>\n      <td>120.00</td>\n      <td>0.02</td>\n      <td>62.9</td>\n      <td>215.0</td>\n      <td>...</td>\n      <td>0.3</td>\n      <td>219000</td>\n      <td>-20</td>\n      <td>-0.2</td>\n      <td>71500</td>\n      <td>-10</td>\n      <td>-1.0</td>\n      <td>-1.0</td>\n      <td>2</td>\n      <td>204</td>\n    </tr>\n    <tr>\n      <th>3</th>\n      <td>700004</td>\n      <td>1</td>\n      <td>0.096</td>\n      <td>0.003</td>\n      <td>0.005</td>\n      <td>0.086</td>\n      <td>0.72</td>\n      <td>0.80</td>\n      <td>0.03</td>\n      <td>2.5</td>\n      <td>...</td>\n      <td>6.3</td>\n      <td>755</td>\n      <td>-20</td>\n      <td>2.0</td>\n      <td>244000</td>\n      <td>70</td>\n      <td>-1.0</td>\n      <td>-1.0</td>\n      <td>-1</td>\n      <td>185</td>\n    </tr>\n    <tr>\n      <th>4</th>\n      <td>700005</td>\n      <td>NaN</td>\n      <td>2.9</td>\n      <td>0.003</td>\n      <td>0.005</td>\n      <td>3.94</td>\n      <td>0.34</td>\n      <td>0.06</td>\n      <td>4.01</td>\n      <td>162.0</td>\n      <td>...</td>\n      <td>4.5</td>\n      <td>173000</td>\n      <td>-20</td>\n      <td>-0.2</td>\n      <td>142000</td>\n      <td>-10</td>\n      <td>-1.0</td>\n      <td>-1.0</td>\n      <td>2</td>\n      <td>280</td>\n    </tr>\n  </tbody>\n</table>\n<p>5 rows × 69 columns</p>\n</div>",
      "text/plain": "   Sample Code Au (FA)     Pt     Pd Au (AR)      Bi    Te    Hg     Ag  ...  \\\n0  700001  NaN   0.438  0.002  0.002   0.362   10.60  0.02  0.39   91.5  ...   \n1  700002  NaN   0.093  0.001  0.002   0.095  125.00  0.22  0.12   44.0  ...   \n2  700003  NaN    1.41  0.002  0.002    1.39  120.00  0.02  62.9  215.0  ...   \n3  700004    1   0.096  0.003  0.005   0.086    0.72  0.80  0.03    2.5  ...   \n4  700005  NaN     2.9  0.003  0.005    3.94    0.34  0.06  4.01  162.0  ...   \n\n      Y      Zn   B   Hf      Si  Zr   Be    Ga  Ge  Wt Tot  \n0   1.2  153000 -20  0.4   34200  60 -1.0  11.0   1     159  \n1  18.5    3780 -20  0.2  114000  20 -1.0   2.0  -1     143  \n2   0.3  219000 -20 -0.2   71500 -10 -1.0  -1.0   2     204  \n3   6.3     755 -20  2.0  244000  70 -1.0  -1.0  -1     185  \n4   4.5  173000 -20 -0.2  142000 -10 -1.0  -1.0   2     280  \n\n[5 rows x 69 columns]"
     },
     "execution_count": 96,
     "metadata": {},
     "output_type": "execute_result"
    }
   ],
   "source": [
    "osnaca.head()"
   ]
  },
  {
   "cell_type": "code",
   "execution_count": 97,
   "metadata": {},
   "outputs": [
    {
     "data": {
      "text/html": "<div>\n<style scoped>\n    .dataframe tbody tr th:only-of-type {\n        vertical-align: middle;\n    }\n\n    .dataframe tbody tr th {\n        vertical-align: top;\n    }\n\n    .dataframe thead th {\n        text-align: right;\n    }\n</style>\n<table border=\"1\" class=\"dataframe\">\n  <thead>\n    <tr style=\"text-align: right;\">\n      <th></th>\n      <th>Sample</th>\n      <th>Code</th>\n      <th>Code Tester</th>\n      <th>Au1</th>\n      <th>Pt</th>\n      <th>Pd</th>\n      <th>Au(AR)</th>\n      <th>Bi</th>\n      <th>Te</th>\n      <th>Hg</th>\n      <th>...</th>\n      <th>Y</th>\n      <th>Zn</th>\n      <th>B</th>\n      <th>Hf</th>\n      <th>Si</th>\n      <th>Zr</th>\n      <th>Be</th>\n      <th>Ga</th>\n      <th>Ge</th>\n      <th>Wt Total</th>\n    </tr>\n  </thead>\n  <tbody>\n    <tr>\n      <th>0</th>\n      <td>ALT010</td>\n      <td>NaN</td>\n      <td>NaN</td>\n      <td>0.039</td>\n      <td>0.002</td>\n      <td>-0.001</td>\n      <td>NaN</td>\n      <td>1.20</td>\n      <td>0.44</td>\n      <td>12.80</td>\n      <td>...</td>\n      <td>7.1</td>\n      <td>6760</td>\n      <td>-20</td>\n      <td>1.2</td>\n      <td>91800</td>\n      <td>40</td>\n      <td>4.2</td>\n      <td>16.6</td>\n      <td>4</td>\n      <td>164.0</td>\n    </tr>\n    <tr>\n      <th>1</th>\n      <td>ALT024</td>\n      <td>NaN</td>\n      <td>NaN</td>\n      <td>0.011</td>\n      <td>-0.001</td>\n      <td>0.002</td>\n      <td>NaN</td>\n      <td>0.20</td>\n      <td>0.10</td>\n      <td>0.02</td>\n      <td>...</td>\n      <td>14.6</td>\n      <td>1390</td>\n      <td>-20</td>\n      <td>22.0</td>\n      <td>64300</td>\n      <td>900</td>\n      <td>12.2</td>\n      <td>25.8</td>\n      <td>3</td>\n      <td>140.0</td>\n    </tr>\n    <tr>\n      <th>2</th>\n      <td>ALT073</td>\n      <td>NaN</td>\n      <td>NaN</td>\n      <td>0.436</td>\n      <td>0.004</td>\n      <td>0.007</td>\n      <td>NaN</td>\n      <td>0.30</td>\n      <td>0.22</td>\n      <td>1.30</td>\n      <td>...</td>\n      <td>15.1</td>\n      <td>1510</td>\n      <td>-20</td>\n      <td>2.0</td>\n      <td>127000</td>\n      <td>70</td>\n      <td>17.0</td>\n      <td>32.4</td>\n      <td>12</td>\n      <td>109.0</td>\n    </tr>\n    <tr>\n      <th>3</th>\n      <td>ALT074</td>\n      <td>NaN</td>\n      <td>NaN</td>\n      <td>0.508</td>\n      <td>0.002</td>\n      <td>0.002</td>\n      <td>NaN</td>\n      <td>24.70</td>\n      <td>1.80</td>\n      <td>3.91</td>\n      <td>...</td>\n      <td>3.6</td>\n      <td>14500</td>\n      <td>20</td>\n      <td>0.4</td>\n      <td>40300</td>\n      <td>4</td>\n      <td>0.9</td>\n      <td>5.6</td>\n      <td>1</td>\n      <td>NaN</td>\n    </tr>\n    <tr>\n      <th>4</th>\n      <td>ART013</td>\n      <td>1.0</td>\n      <td>1.0</td>\n      <td>-0.001</td>\n      <td>0.001</td>\n      <td>-0.001</td>\n      <td>NaN</td>\n      <td>0.08</td>\n      <td>-0.02</td>\n      <td>-0.01</td>\n      <td>...</td>\n      <td>41.0</td>\n      <td>225</td>\n      <td>80</td>\n      <td>5.6</td>\n      <td>248000</td>\n      <td>156</td>\n      <td>6.0</td>\n      <td>33.4</td>\n      <td>1</td>\n      <td>NaN</td>\n    </tr>\n  </tbody>\n</table>\n<p>5 rows × 70 columns</p>\n</div>",
      "text/plain": "   Sample  Code  Code Tester    Au1     Pt     Pd  Au(AR)     Bi    Te     Hg  \\\n0  ALT010   NaN          NaN  0.039  0.002 -0.001     NaN   1.20  0.44  12.80   \n1  ALT024   NaN          NaN  0.011 -0.001  0.002     NaN   0.20  0.10   0.02   \n2  ALT073   NaN          NaN  0.436  0.004  0.007     NaN   0.30  0.22   1.30   \n3  ALT074   NaN          NaN  0.508  0.002  0.002     NaN  24.70  1.80   3.91   \n4  ART013   1.0          1.0 -0.001  0.001 -0.001     NaN   0.08 -0.02  -0.01   \n\n   ...     Y     Zn   B    Hf      Si   Zr    Be    Ga  Ge  Wt Total  \n0  ...   7.1   6760 -20   1.2   91800   40   4.2  16.6   4     164.0  \n1  ...  14.6   1390 -20  22.0   64300  900  12.2  25.8   3     140.0  \n2  ...  15.1   1510 -20   2.0  127000   70  17.0  32.4  12     109.0  \n3  ...   3.6  14500  20   0.4   40300    4   0.9   5.6   1       NaN  \n4  ...  41.0    225  80   5.6  248000  156   6.0  33.4   1       NaN  \n\n[5 rows x 70 columns]"
     },
     "execution_count": 97,
     "metadata": {},
     "output_type": "execute_result"
    }
   ],
   "source": [
    "osnaca_conclurry.head()"
   ]
  },
  {
   "cell_type": "markdown",
   "metadata": {},
   "source": [
    "### Merge two first sheets"
   ]
  },
  {
   "cell_type": "code",
   "execution_count": 98,
   "metadata": {},
   "outputs": [
    {
     "data": {
      "text/plain": "{'Au (AR)', 'Au (FA)', 'Wt Tot'}"
     },
     "execution_count": 98,
     "metadata": {},
     "output_type": "execute_result"
    }
   ],
   "source": [
    "set(osnaca.columns).difference(set(osnaca_conclurry.columns))"
   ]
  },
  {
   "cell_type": "code",
   "execution_count": 99,
   "metadata": {},
   "outputs": [
    {
     "data": {
      "text/plain": "{'Au(AR)', 'Au1', 'Code Tester', 'Wt Total'}"
     },
     "execution_count": 99,
     "metadata": {},
     "output_type": "execute_result"
    }
   ],
   "source": [
    "set(osnaca_conclurry.columns).difference(set(osnaca.columns))"
   ]
  },
  {
   "cell_type": "code",
   "execution_count": 100,
   "metadata": {},
   "outputs": [],
   "source": [
    "#assumed Au1 = Au (FA)\r\n",
    "osnaca_cloncurry = osnaca_conclurry.rename(columns={\"Wt Total\": \"Wt Tot\", \"Au(AR)\": \"Au (AR)\", \"Au1\": \"Au (FA)\"})\r\n",
    "osnaca_cloncurry = osnaca_cloncurry.drop(['Code Tester'], axis = 1)"
   ]
  },
  {
   "cell_type": "code",
   "execution_count": 101,
   "metadata": {},
   "outputs": [],
   "source": [
    "#merge the Cloncurry data with the other samples\r\n",
    "osnaca_all = pd.concat([osnaca, osnaca_cloncurry]) "
   ]
  },
  {
   "cell_type": "code",
   "execution_count": 102,
   "metadata": {},
   "outputs": [
    {
     "name": "stdout",
     "output_type": "stream",
     "text": [
      "(1139, 69) (72, 69) (1211, 69)\n"
     ]
    }
   ],
   "source": [
    "#conclurry rows successfully contatenated\r\n",
    "print(osnaca.shape, osnaca_cloncurry.shape, osnaca_all.shape)"
   ]
  },
  {
   "cell_type": "markdown",
   "metadata": {},
   "source": [
    "Highest Associates of Ge appear to be Zn, Cd, S and Tl as seen below in both combined and single dataset"
   ]
  },
  {
   "cell_type": "code",
   "execution_count": 103,
   "metadata": {},
   "outputs": [
    {
     "data": {
      "text/plain": "Ge    1.000000\nZn    0.496282\nCd    0.226739\nS     0.198342\nTl    0.179400\n        ...   \nK    -0.095798\nNa   -0.102637\nTi   -0.116100\nAl   -0.139017\nSi   -0.185344\nName: Ge, Length: 61, dtype: float64"
     },
     "execution_count": 103,
     "metadata": {},
     "output_type": "execute_result"
    }
   ],
   "source": [
    "#using combined dataset doesn't notably change correlations with Ge at first glance\r\n",
    "osnaca_all.corr()['Ge'].sort_values(ascending=False)"
   ]
  },
  {
   "cell_type": "code",
   "execution_count": 104,
   "metadata": {},
   "outputs": [
    {
     "data": {
      "text/plain": "Ge    1.000000\nZn    0.494664\nCd    0.224266\nS     0.202368\nTl    0.177224\n        ...   \nK    -0.098204\nNa   -0.103530\nTi   -0.119651\nAl   -0.143311\nSi   -0.195223\nName: Ge, Length: 62, dtype: float64"
     },
     "execution_count": 104,
     "metadata": {},
     "output_type": "execute_result"
    }
   ],
   "source": [
    "osnaca.corr()['Ge'].sort_values(ascending=False)"
   ]
  },
  {
   "cell_type": "code",
   "execution_count": null,
   "metadata": {},
   "outputs": [],
   "source": []
  },
  {
   "cell_type": "markdown",
   "metadata": {},
   "source": [
    "## Data Cleaning\r\n",
    "\r\n",
    "Remove Na values for RF regressor\r\n",
    "\r\n",
    "Deal with negative values, by converting it to half the absolute value"
   ]
  },
  {
   "cell_type": "code",
   "execution_count": 105,
   "metadata": {},
   "outputs": [
    {
     "data": {
      "text/plain": "Code       994\nAu (AR)     72\nWt Tot     617\ndtype: int64"
     },
     "execution_count": 105,
     "metadata": {},
     "output_type": "execute_result"
    }
   ],
   "source": [
    "#missing values need to be removed, Code and Wt Tot columnns can be removed as they aren't useful features, meaning 72 rows will be removed\r\n",
    "osnaca_all.isna().sum()[osnaca_all.isna().sum() > 0]"
   ]
  },
  {
   "cell_type": "code",
   "execution_count": 106,
   "metadata": {},
   "outputs": [
    {
     "data": {
      "text/plain": "Au (AR)    72\ndtype: int64"
     },
     "execution_count": 106,
     "metadata": {},
     "output_type": "execute_result"
    }
   ],
   "source": [
    "#drop code and wt tot columns\r\n",
    "#drop sample column as it is not a useful feature\r\n",
    "osnaca_all2 = osnaca_all.drop(['Code', 'Wt Tot', 'Sample'], axis=1)\r\n",
    "osnaca_all2.isna().sum()[osnaca_all2.isna().sum() > 0]"
   ]
  },
  {
   "cell_type": "code",
   "execution_count": 107,
   "metadata": {},
   "outputs": [
    {
     "name": "stderr",
     "output_type": "stream",
     "text": [
      "C:\\Users\\caley\\anaconda3\\lib\\site-packages\\pandas\\core\\ops\\array_ops.py:253: FutureWarning: elementwise comparison failed; returning scalar instead, but in the future will perform elementwise comparison\n",
      "  res_values = method(rvalues)\n"
     ]
    }
   ],
   "source": [
    "#remove values that are 'IS'\r\n",
    "osnaca_all2=osnaca_all2[osnaca_all2 != 'IS']"
   ]
  },
  {
   "cell_type": "code",
   "execution_count": 108,
   "metadata": {},
   "outputs": [
    {
     "data": {
      "text/plain": "Series([], dtype: int64)"
     },
     "execution_count": 108,
     "metadata": {},
     "output_type": "execute_result"
    }
   ],
   "source": [
    "#drop 72 rows\r\n",
    "osnaca_all2 = osnaca_all2.dropna()\r\n",
    "osnaca_all2.isna().sum()[osnaca_all2.isna().sum() > 0]"
   ]
  },
  {
   "cell_type": "code",
   "execution_count": 109,
   "metadata": {},
   "outputs": [],
   "source": [
    "\r\n",
    "#osnaca_all2[osnaca_all2 < 0] = 0\r\n",
    "\r\n",
    "#convert object type columns to numeric\r\n",
    "osnaca_all2=osnaca_all2.apply(pd.to_numeric, errors = 'coerce')\r\n",
    "\r\n",
    "#convert negative values to half their absolute value\r\n",
    "osnaca_all2[osnaca_all2 <0] = abs(osnaca_all2[osnaca_all2 < 0])/2"
   ]
  },
  {
   "cell_type": "code",
   "execution_count": 110,
   "metadata": {},
   "outputs": [
    {
     "data": {
      "text/plain": "(1135, 66)"
     },
     "execution_count": 110,
     "metadata": {},
     "output_type": "execute_result"
    }
   ],
   "source": [
    "#1135 rows remain\r\n",
    "osnaca_all2.shape"
   ]
  },
  {
   "cell_type": "markdown",
   "metadata": {},
   "source": [
    "## Random Forest"
   ]
  },
  {
   "cell_type": "code",
   "execution_count": 111,
   "metadata": {},
   "outputs": [],
   "source": [
    "from sklearn.ensemble import RandomForestRegressor\r\n",
    "\r\n",
    "\r\n",
    "#split dataset into features and output variable\r\n",
    "X = osnaca_all2.drop(['Ge'], axis=1)\r\n",
    "y = osnaca_all2['Ge']"
   ]
  },
  {
   "cell_type": "code",
   "execution_count": 112,
   "metadata": {},
   "outputs": [],
   "source": [
    "#split data into train and test set\r\n",
    "import sklearn.model_selection as selection\r\n",
    "\r\n",
    "X_train, X_test, y_train, y_test = selection.train_test_split(X, y, test_size = 0.25, random_state = 0)"
   ]
  },
  {
   "cell_type": "code",
   "execution_count": 113,
   "metadata": {},
   "outputs": [],
   "source": [
    "#specify regression model\r\n",
    "regressor = RandomForestRegressor(n_estimators=500, max_depth=10, max_features=15, min_samples_leaf=2, random_state=0, bootstrap=True, oob_score=True)\r\n"
   ]
  },
  {
   "cell_type": "code",
   "execution_count": 114,
   "metadata": {},
   "outputs": [
    {
     "data": {
      "text/plain": "RandomForestRegressor(max_depth=10, max_features=15, min_samples_leaf=2,\n                      n_estimators=500, oob_score=True, random_state=0)"
     },
     "execution_count": 114,
     "metadata": {},
     "output_type": "execute_result"
    }
   ],
   "source": [
    "#fit to training data \r\n",
    "regressor.fit(X_train, y_train)"
   ]
  },
  {
   "cell_type": "code",
   "execution_count": 115,
   "metadata": {},
   "outputs": [],
   "source": [
    "#predictions for training and test data set\r\n",
    "y_pred_train = regressor.predict(X_train)\r\n",
    "y_pred_test = regressor.predict(X_test)\r\n"
   ]
  },
  {
   "cell_type": "markdown",
   "metadata": {},
   "source": [
    "### Random Forest Error"
   ]
  },
  {
   "cell_type": "code",
   "execution_count": 116,
   "metadata": {},
   "outputs": [
    {
     "name": "stdout",
     "output_type": "stream",
     "text": [
      "Training Error\n",
      "Mean Absolute Error: 2.8390897376373077\n",
      "Mean Squared Error: 85.28726292277237\n",
      "Root Mean Squared Error: 9.23511033625329\n",
      "\n",
      "Testing Error\n",
      "Mean Absolute Error: 4.8647282234551135\n",
      "Mean Squared Error: 113.96636157328967\n",
      "Root Mean Squared Error: 10.675502872150318\n"
     ]
    }
   ],
   "source": [
    "#evaluating random forest\r\n",
    "from sklearn import metrics\r\n",
    "print('Training Error')\r\n",
    "print('Mean Absolute Error:', metrics.mean_absolute_error(y_train,y_pred_train))\r\n",
    "print('Mean Squared Error:', metrics.mean_squared_error(y_train,y_pred_train))\r\n",
    "print('Root Mean Squared Error:', np.sqrt(metrics.mean_squared_error(y_train,y_pred_train)))\r\n",
    "print(\"\")\r\n",
    "\r\n",
    "print('Testing Error')\r\n",
    "print('Mean Absolute Error:', metrics.mean_absolute_error(y_test,y_pred_test))\r\n",
    "print('Mean Squared Error:', metrics.mean_squared_error(y_test,y_pred_test))\r\n",
    "print('Root Mean Squared Error:', np.sqrt(metrics.mean_squared_error(y_test,y_pred_test)))"
   ]
  },
  {
   "cell_type": "markdown",
   "metadata": {},
   "source": [
    "## Multiple linear regression"
   ]
  },
  {
   "cell_type": "code",
   "execution_count": 117,
   "metadata": {},
   "outputs": [],
   "source": [
    "from sklearn.linear_model import LinearRegression\r\n",
    "\r\n",
    "LR = LinearRegression().fit(X_train,y_train)\r\n",
    "\r\n",
    "#predictions for training and test data set\r\n",
    "y_pred_trainlr = LR.predict(X_train)\r\n",
    "y_pred_testlr = LR.predict(X_test)"
   ]
  },
  {
   "cell_type": "markdown",
   "metadata": {},
   "source": [
    "### Linear Regression Error"
   ]
  },
  {
   "cell_type": "code",
   "execution_count": 118,
   "metadata": {},
   "outputs": [
    {
     "name": "stdout",
     "output_type": "stream",
     "text": [
      "Training Error\n",
      "Mean Absolute Error: 6.043157126477861\n",
      "Mean Squared Error: 287.43539524102766\n",
      "Root Mean Squared Error: 16.95391976036892\n",
      "\n",
      "Testing Error\n",
      "Mean Absolute Error: 6.622167626282977\n",
      "Mean Squared Error: 184.74743865980713\n",
      "Root Mean Squared Error: 13.592182998319554\n"
     ]
    }
   ],
   "source": [
    "\r\n",
    "\r\n",
    "print('Training Error')\r\n",
    "print('Mean Absolute Error:', metrics.mean_absolute_error(y_train,y_pred_trainlr))\r\n",
    "print('Mean Squared Error:', metrics.mean_squared_error(y_train,y_pred_trainlr))\r\n",
    "print('Root Mean Squared Error:', np.sqrt(metrics.mean_squared_error(y_train,y_pred_trainlr)))\r\n",
    "print(\"\")\r\n",
    "\r\n",
    "print('Testing Error')\r\n",
    "print('Mean Absolute Error:', metrics.mean_absolute_error(y_test,y_pred_testlr))\r\n",
    "print('Mean Squared Error:', metrics.mean_squared_error(y_test,y_pred_testlr))\r\n",
    "print('Root Mean Squared Error:', np.sqrt(metrics.mean_squared_error(y_test,y_pred_testlr)))"
   ]
  },
  {
   "cell_type": "markdown",
   "metadata": {},
   "source": [
    "## Feature Importances"
   ]
  },
  {
   "cell_type": "code",
   "execution_count": 119,
   "metadata": {},
   "outputs": [
    {
     "name": "stdout",
     "output_type": "stream",
     "text": [
      "Au (FA) 0.02518811482992209\n",
      "Pt 0.0003561313109000629\n",
      "Pd 0.0022656890831041594\n",
      "Au (AR) 0.02068373721226077\n",
      "Bi 0.028539120333063862\n",
      "Te 0.004900785411430316\n",
      "Hg 0.02857287291127515\n",
      "Ag 0.013877078180563343\n",
      "Al 0.013601258116498531\n",
      "As 0.009859702175563603\n",
      "Ca 0.014492771524392368\n",
      "Cd 0.08076996184248096\n",
      "Co 0.016594456573041053\n",
      "Cr 5.758211992697197e-05\n",
      "Cs 0.017226317346687413\n",
      "Cu 0.02524966568379581\n",
      "Fe 0.011168986103866407\n",
      "In 0.0066993095747642445\n",
      "K 0.009329423607910212\n",
      "La 0.014044253267727314\n",
      "Ce 0.018729019147203443\n",
      "Pr 0.00480097733644558\n",
      "Nd 0.023034994316658224\n",
      "Sm 0.012921339260530256\n",
      "Eu 0.005369518386867835\n",
      "Gd 0.004643478696960591\n",
      "Tb 0.0010796160465298724\n",
      "Dy 0.00881056419259515\n",
      "Ho 0.0031834647149076166\n",
      "Er 0.0027062874982744438\n",
      "Tm 0.003731102065686296\n",
      "Yb 0.004194241928695061\n",
      "Lu 0.002667114964328535\n",
      "Li 0.005891738063527575\n",
      "Mg 0.00797805052534712\n",
      "Mn 0.014575226144573282\n",
      "Mo 0.008876626175536697\n",
      "Na 0.0055276164489826115\n",
      "Nb 0.001738010362236178\n",
      "Ni 0.005424750955274533\n",
      "P 0.0048355297762402594\n",
      "Pb 0.027738020552859982\n",
      "Rb 0.005799984932556493\n",
      "Re 0.003494296886368098\n",
      "S 0.01746174450634406\n",
      "Sb 0.015895293457128038\n",
      "Sc 0.0022679847339260478\n",
      "Se 0.012856241194049578\n",
      "Sn 0.01128560141210469\n",
      "Sr 0.009974401715921137\n",
      "Ta 0.0006673846222143226\n",
      "Th 0.003989196202572021\n",
      "Ti 0.004183681827520948\n",
      "Tl 0.038448814558938366\n",
      "U 0.007778816778884631\n",
      "V 0.009267379801432175\n",
      "W 0.01447696380036927\n",
      "Y 0.008597640972666168\n",
      "Zn 0.20054493257876146\n",
      "B 0.0018499061196769154\n",
      "Hf 0.00514510997765307\n",
      "Si 0.07192773721716725\n",
      "Zr 0.004556886730246404\n",
      "Be 0.009191898793060196\n",
      "Ga 0.01840359641100289\n"
     ]
    }
   ],
   "source": [
    "#Feature importances\r\n",
    "for name, score in zip(X_train.columns, regressor.feature_importances_):\r\n",
    "    print(name, score)"
   ]
  },
  {
   "cell_type": "code",
   "execution_count": 120,
   "metadata": {},
   "outputs": [
    {
     "name": "stdout",
     "output_type": "stream",
     "text": [
      "    Feature  Importance\n",
      "58       Zn    0.200545\n",
      "11       Cd    0.080770\n",
      "61       Si    0.071928\n",
      "53       Tl    0.038449\n",
      "6        Hg    0.028573\n",
      "4        Bi    0.028539\n",
      "41       Pb    0.027738\n",
      "15       Cu    0.025250\n",
      "0   Au (FA)    0.025188\n",
      "22       Nd    0.023035\n",
      "3   Au (AR)    0.020684\n",
      "20       Ce    0.018729\n",
      "64       Ga    0.018404\n",
      "44        S    0.017462\n",
      "14       Cs    0.017226\n",
      "12       Co    0.016594\n",
      "45       Sb    0.015895\n",
      "35       Mn    0.014575\n",
      "10       Ca    0.014493\n",
      "56        W    0.014477\n"
     ]
    }
   ],
   "source": [
    "#create sorted dataframe of feature importances\r\n",
    "data = {'Feature':X_train.columns,'Importance':regressor.feature_importances_}\r\n",
    "\r\n",
    "featimp = pd.DataFrame(data)\r\n",
    "featsorted = featimp.sort_values(by='Importance', ascending=False)\r\n",
    "print(featsorted[:20])"
   ]
  },
  {
   "cell_type": "markdown",
   "metadata": {},
   "source": [
    "## Visualising Predictions"
   ]
  },
  {
   "cell_type": "code",
   "execution_count": 121,
   "metadata": {},
   "outputs": [],
   "source": [
    "# Visualising some predictions for train set\r\n",
    "\r\n",
    "# model predictions\r\n",
    "xt = X_train[:50]\r\n",
    "pred1 = regressor.predict(xt)"
   ]
  },
  {
   "cell_type": "code",
   "execution_count": 122,
   "metadata": {},
   "outputs": [
    {
     "data": {
      "text/plain": "array([ 2. ,  1. ,  4. ,  0.5,  2. , 14. , 20. , 46. ,  0.5,  3. ,  0.5,\n        2. ,  2. ,  3. ,  2. ,  3. ,  3. ,  4. ,  0.5,  3. ,  4. ,  2. ,\n       43. ,  1. ,  2. ,  1. ,  1. ,  3. ,  2. , 67. ,  2. ,  6. ,  3. ,\n        1. ,  1. ,  0.5,  2. ,  3. , 83. ,  1. ,  6. ,  5. ,  1. ,  0.5,\n        2. , 30. ,  1. , 55. ,  0.5,  3. ])"
     },
     "execution_count": 122,
     "metadata": {},
     "output_type": "execute_result"
    }
   ],
   "source": [
    "#true values\r\n",
    "xt_test = np.array(y_train[:50])\r\n",
    "xt_test"
   ]
  },
  {
   "cell_type": "code",
   "execution_count": 123,
   "metadata": {},
   "outputs": [
    {
     "data": {
      "image/png": "[encoded data removed]",
      "text/plain": "<Figure size 432x288 with 1 Axes>"
     },
     "metadata": {
      "needs_background": "light"
     },
     "output_type": "display_data"
    }
   ],
   "source": [
    "plt.figure()\r\n",
    "plt.plot(pred1, 'b^', label = 'RandomForestRegressor')\r\n",
    "plt.plot(xt_test, 'r*', label = 'Ground Truth')\r\n",
    "\r\n",
    "plt.tick_params(axis='x', which = 'both', bottom = False, top=False, labelbottom=False)\r\n",
    "\r\n",
    "plt.ylabel('predicted')\r\n",
    "plt.xlabel('training samples')\r\n",
    "plt.legend(loc='best')\r\n",
    "plt.title('Ge Predictions vs True Score Training Data')\r\n",
    "plt.show()"
   ]
  },
  {
   "cell_type": "code",
   "execution_count": 124,
   "metadata": {},
   "outputs": [],
   "source": [
    "#visualisation for test predictions\r\n",
    "\r\n",
    "#test predictions\r\n",
    "xt = X_test[:50]\r\n",
    "pred1 = regressor.predict(xt)\r\n",
    "\r\n",
    "xt_test = np.array(y_test[:50])"
   ]
  },
  {
   "cell_type": "code",
   "execution_count": 125,
   "metadata": {},
   "outputs": [
    {
     "data": {
      "image/png": "[encoded data removed]",
      "text/plain": "<Figure size 432x288 with 1 Axes>"
     },
     "metadata": {
      "needs_background": "light"
     },
     "output_type": "display_data"
    }
   ],
   "source": [
    "plt.figure()\r\n",
    "plt.plot(pred1, 'b^', label = 'RandomForestRegressor')\r\n",
    "plt.plot(xt_test, 'r*', label = 'Ground Truth')\r\n",
    "\r\n",
    "plt.tick_params(axis='x', which = 'both', bottom = False, top=False, labelbottom=False)\r\n",
    "\r\n",
    "plt.ylabel('predicted')\r\n",
    "plt.xlabel('training samples')\r\n",
    "plt.legend(loc='best')\r\n",
    "plt.yscale('log')\r\n",
    "plt.title('Ge Predictions vs True Score Test Data')\r\n",
    "plt.show()"
   ]
  }
 ],
 "metadata": {
  "kernelspec": {
   "display_name": "Python 3.8.3 64-bit ('base': conda)",
   "name": "python383jvsc74a57bd055762f557aeffd28f7ca3b748ec3c0fe57aab1c2c735d26da4795079ed922e1c"
  },
  "language_info": {
   "codemirror_mode": {
    "name": "ipython",
    "version": 3
   },
   "file_extension": ".py",
   "mimetype": "text/x-python",
   "name": "python",
   "nbconvert_exporter": "python",
   "pygments_lexer": "ipython3",
   "version": "3.8.3"
  },
  "orig_nbformat": 2
 },
 "nbformat": 4,
 "nbformat_minor": 2
}