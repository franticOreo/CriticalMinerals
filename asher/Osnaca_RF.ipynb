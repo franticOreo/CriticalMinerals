{
 "cells": [
  {
   "cell_type": "markdown",
   "metadata": {},
   "source": [
    "# Random Forest regression analysis of Ge in combined OSNACA data"
   ]
  },
  {
   "cell_type": "code",
   "execution_count": 1,
   "metadata": {},
   "outputs": [],
   "source": [
    "import pandas as pd\n",
    "import sklearn\n",
    "import numpy as np\n",
    "import matplotlib.pyplot as plt"
   ]
  },
  {
   "cell_type": "code",
   "execution_count": 2,
   "metadata": {},
   "outputs": [],
   "source": [
    "#read in the data\n",
    "\n",
    "osnaca = pd.read_excel(\"../data/osnaca-data.xlsx\",sheet_name=\"Data\")\n",
    "osnaca_conclurry = pd.read_excel(\"../data/osnaca-data.xlsx\",sheet_name=\"Cloncurry Supplement\")\n",
    "osnaca_metadata_sheet1 = pd.read_excel(\"../data/osnaca-metadata.xlsx\",sheet_name=\"Ore samples\")"
   ]
  },
  {
   "cell_type": "code",
   "execution_count": 3,
   "metadata": {},
   "outputs": [
    {
     "data": {
      "text/html": [
       "<div>\n",
       "<style scoped>\n",
       "    .dataframe tbody tr th:only-of-type {\n",
       "        vertical-align: middle;\n",
       "    }\n",
       "\n",
       "    .dataframe tbody tr th {\n",
       "        vertical-align: top;\n",
       "    }\n",
       "\n",
       "    .dataframe thead th {\n",
       "        text-align: right;\n",
       "    }\n",
       "</style>\n",
       "<table border=\"1\" class=\"dataframe\">\n",
       "  <thead>\n",
       "    <tr style=\"text-align: right;\">\n",
       "      <th></th>\n",
       "      <th>Sample</th>\n",
       "      <th>Code</th>\n",
       "      <th>Au (FA)</th>\n",
       "      <th>Pt</th>\n",
       "      <th>Pd</th>\n",
       "      <th>Au (AR)</th>\n",
       "      <th>Bi</th>\n",
       "      <th>Te</th>\n",
       "      <th>Hg</th>\n",
       "      <th>Ag</th>\n",
       "      <th>...</th>\n",
       "      <th>Y</th>\n",
       "      <th>Zn</th>\n",
       "      <th>B</th>\n",
       "      <th>Hf</th>\n",
       "      <th>Si</th>\n",
       "      <th>Zr</th>\n",
       "      <th>Be</th>\n",
       "      <th>Ga</th>\n",
       "      <th>Ge</th>\n",
       "      <th>Wt Tot</th>\n",
       "    </tr>\n",
       "  </thead>\n",
       "  <tbody>\n",
       "    <tr>\n",
       "      <th>0</th>\n",
       "      <td>700001</td>\n",
       "      <td>NaN</td>\n",
       "      <td>0.438</td>\n",
       "      <td>0.002</td>\n",
       "      <td>0.002</td>\n",
       "      <td>0.362</td>\n",
       "      <td>10.60</td>\n",
       "      <td>0.02</td>\n",
       "      <td>0.39</td>\n",
       "      <td>91.5</td>\n",
       "      <td>...</td>\n",
       "      <td>1.2</td>\n",
       "      <td>153000</td>\n",
       "      <td>-20</td>\n",
       "      <td>0.4</td>\n",
       "      <td>34200</td>\n",
       "      <td>60</td>\n",
       "      <td>-1.0</td>\n",
       "      <td>11.0</td>\n",
       "      <td>1</td>\n",
       "      <td>159</td>\n",
       "    </tr>\n",
       "    <tr>\n",
       "      <th>1</th>\n",
       "      <td>700002</td>\n",
       "      <td>NaN</td>\n",
       "      <td>0.093</td>\n",
       "      <td>0.001</td>\n",
       "      <td>0.002</td>\n",
       "      <td>0.095</td>\n",
       "      <td>125.00</td>\n",
       "      <td>0.22</td>\n",
       "      <td>0.12</td>\n",
       "      <td>44.0</td>\n",
       "      <td>...</td>\n",
       "      <td>18.5</td>\n",
       "      <td>3780</td>\n",
       "      <td>-20</td>\n",
       "      <td>0.2</td>\n",
       "      <td>114000</td>\n",
       "      <td>20</td>\n",
       "      <td>-1.0</td>\n",
       "      <td>2.0</td>\n",
       "      <td>-1</td>\n",
       "      <td>143</td>\n",
       "    </tr>\n",
       "    <tr>\n",
       "      <th>2</th>\n",
       "      <td>700003</td>\n",
       "      <td>NaN</td>\n",
       "      <td>1.41</td>\n",
       "      <td>0.002</td>\n",
       "      <td>0.002</td>\n",
       "      <td>1.39</td>\n",
       "      <td>120.00</td>\n",
       "      <td>0.02</td>\n",
       "      <td>62.9</td>\n",
       "      <td>215.0</td>\n",
       "      <td>...</td>\n",
       "      <td>0.3</td>\n",
       "      <td>219000</td>\n",
       "      <td>-20</td>\n",
       "      <td>-0.2</td>\n",
       "      <td>71500</td>\n",
       "      <td>-10</td>\n",
       "      <td>-1.0</td>\n",
       "      <td>-1.0</td>\n",
       "      <td>2</td>\n",
       "      <td>204</td>\n",
       "    </tr>\n",
       "    <tr>\n",
       "      <th>3</th>\n",
       "      <td>700004</td>\n",
       "      <td>1</td>\n",
       "      <td>0.096</td>\n",
       "      <td>0.003</td>\n",
       "      <td>0.005</td>\n",
       "      <td>0.086</td>\n",
       "      <td>0.72</td>\n",
       "      <td>0.80</td>\n",
       "      <td>0.03</td>\n",
       "      <td>2.5</td>\n",
       "      <td>...</td>\n",
       "      <td>6.3</td>\n",
       "      <td>755</td>\n",
       "      <td>-20</td>\n",
       "      <td>2.0</td>\n",
       "      <td>244000</td>\n",
       "      <td>70</td>\n",
       "      <td>-1.0</td>\n",
       "      <td>-1.0</td>\n",
       "      <td>-1</td>\n",
       "      <td>185</td>\n",
       "    </tr>\n",
       "    <tr>\n",
       "      <th>4</th>\n",
       "      <td>700005</td>\n",
       "      <td>NaN</td>\n",
       "      <td>2.9</td>\n",
       "      <td>0.003</td>\n",
       "      <td>0.005</td>\n",
       "      <td>3.94</td>\n",
       "      <td>0.34</td>\n",
       "      <td>0.06</td>\n",
       "      <td>4.01</td>\n",
       "      <td>162.0</td>\n",
       "      <td>...</td>\n",
       "      <td>4.5</td>\n",
       "      <td>173000</td>\n",
       "      <td>-20</td>\n",
       "      <td>-0.2</td>\n",
       "      <td>142000</td>\n",
       "      <td>-10</td>\n",
       "      <td>-1.0</td>\n",
       "      <td>-1.0</td>\n",
       "      <td>2</td>\n",
       "      <td>280</td>\n",
       "    </tr>\n",
       "  </tbody>\n",
       "</table>\n",
       "<p>5 rows × 69 columns</p>\n",
       "</div>"
      ],
      "text/plain": [
       "   Sample Code Au (FA)     Pt     Pd Au (AR)      Bi    Te    Hg     Ag  ...  \\\n",
       "0  700001  NaN   0.438  0.002  0.002   0.362   10.60  0.02  0.39   91.5  ...   \n",
       "1  700002  NaN   0.093  0.001  0.002   0.095  125.00  0.22  0.12   44.0  ...   \n",
       "2  700003  NaN    1.41  0.002  0.002    1.39  120.00  0.02  62.9  215.0  ...   \n",
       "3  700004    1   0.096  0.003  0.005   0.086    0.72  0.80  0.03    2.5  ...   \n",
       "4  700005  NaN     2.9  0.003  0.005    3.94    0.34  0.06  4.01  162.0  ...   \n",
       "\n",
       "      Y      Zn   B   Hf      Si  Zr   Be    Ga  Ge  Wt Tot  \n",
       "0   1.2  153000 -20  0.4   34200  60 -1.0  11.0   1     159  \n",
       "1  18.5    3780 -20  0.2  114000  20 -1.0   2.0  -1     143  \n",
       "2   0.3  219000 -20 -0.2   71500 -10 -1.0  -1.0   2     204  \n",
       "3   6.3     755 -20  2.0  244000  70 -1.0  -1.0  -1     185  \n",
       "4   4.5  173000 -20 -0.2  142000 -10 -1.0  -1.0   2     280  \n",
       "\n",
       "[5 rows x 69 columns]"
      ]
     },
     "execution_count": 3,
     "metadata": {},
     "output_type": "execute_result"
    }
   ],
   "source": [
    "osnaca.head()"
   ]
  },
  {
   "cell_type": "code",
   "execution_count": 4,
   "metadata": {},
   "outputs": [
    {
     "data": {
      "text/html": [
       "<div>\n",
       "<style scoped>\n",
       "    .dataframe tbody tr th:only-of-type {\n",
       "        vertical-align: middle;\n",
       "    }\n",
       "\n",
       "    .dataframe tbody tr th {\n",
       "        vertical-align: top;\n",
       "    }\n",
       "\n",
       "    .dataframe thead th {\n",
       "        text-align: right;\n",
       "    }\n",
       "</style>\n",
       "<table border=\"1\" class=\"dataframe\">\n",
       "  <thead>\n",
       "    <tr style=\"text-align: right;\">\n",
       "      <th></th>\n",
       "      <th>Sample</th>\n",
       "      <th>Code</th>\n",
       "      <th>Code Tester</th>\n",
       "      <th>Au1</th>\n",
       "      <th>Pt</th>\n",
       "      <th>Pd</th>\n",
       "      <th>Au(AR)</th>\n",
       "      <th>Bi</th>\n",
       "      <th>Te</th>\n",
       "      <th>Hg</th>\n",
       "      <th>...</th>\n",
       "      <th>Y</th>\n",
       "      <th>Zn</th>\n",
       "      <th>B</th>\n",
       "      <th>Hf</th>\n",
       "      <th>Si</th>\n",
       "      <th>Zr</th>\n",
       "      <th>Be</th>\n",
       "      <th>Ga</th>\n",
       "      <th>Ge</th>\n",
       "      <th>Wt Total</th>\n",
       "    </tr>\n",
       "  </thead>\n",
       "  <tbody>\n",
       "    <tr>\n",
       "      <th>0</th>\n",
       "      <td>ALT010</td>\n",
       "      <td>NaN</td>\n",
       "      <td>NaN</td>\n",
       "      <td>0.039</td>\n",
       "      <td>0.002</td>\n",
       "      <td>-0.001</td>\n",
       "      <td>NaN</td>\n",
       "      <td>1.20</td>\n",
       "      <td>0.44</td>\n",
       "      <td>12.80</td>\n",
       "      <td>...</td>\n",
       "      <td>7.1</td>\n",
       "      <td>6760</td>\n",
       "      <td>-20</td>\n",
       "      <td>1.2</td>\n",
       "      <td>91800</td>\n",
       "      <td>40</td>\n",
       "      <td>4.2</td>\n",
       "      <td>16.6</td>\n",
       "      <td>4</td>\n",
       "      <td>164.0</td>\n",
       "    </tr>\n",
       "    <tr>\n",
       "      <th>1</th>\n",
       "      <td>ALT024</td>\n",
       "      <td>NaN</td>\n",
       "      <td>NaN</td>\n",
       "      <td>0.011</td>\n",
       "      <td>-0.001</td>\n",
       "      <td>0.002</td>\n",
       "      <td>NaN</td>\n",
       "      <td>0.20</td>\n",
       "      <td>0.10</td>\n",
       "      <td>0.02</td>\n",
       "      <td>...</td>\n",
       "      <td>14.6</td>\n",
       "      <td>1390</td>\n",
       "      <td>-20</td>\n",
       "      <td>22.0</td>\n",
       "      <td>64300</td>\n",
       "      <td>900</td>\n",
       "      <td>12.2</td>\n",
       "      <td>25.8</td>\n",
       "      <td>3</td>\n",
       "      <td>140.0</td>\n",
       "    </tr>\n",
       "    <tr>\n",
       "      <th>2</th>\n",
       "      <td>ALT073</td>\n",
       "      <td>NaN</td>\n",
       "      <td>NaN</td>\n",
       "      <td>0.436</td>\n",
       "      <td>0.004</td>\n",
       "      <td>0.007</td>\n",
       "      <td>NaN</td>\n",
       "      <td>0.30</td>\n",
       "      <td>0.22</td>\n",
       "      <td>1.30</td>\n",
       "      <td>...</td>\n",
       "      <td>15.1</td>\n",
       "      <td>1510</td>\n",
       "      <td>-20</td>\n",
       "      <td>2.0</td>\n",
       "      <td>127000</td>\n",
       "      <td>70</td>\n",
       "      <td>17.0</td>\n",
       "      <td>32.4</td>\n",
       "      <td>12</td>\n",
       "      <td>109.0</td>\n",
       "    </tr>\n",
       "    <tr>\n",
       "      <th>3</th>\n",
       "      <td>ALT074</td>\n",
       "      <td>NaN</td>\n",
       "      <td>NaN</td>\n",
       "      <td>0.508</td>\n",
       "      <td>0.002</td>\n",
       "      <td>0.002</td>\n",
       "      <td>NaN</td>\n",
       "      <td>24.70</td>\n",
       "      <td>1.80</td>\n",
       "      <td>3.91</td>\n",
       "      <td>...</td>\n",
       "      <td>3.6</td>\n",
       "      <td>14500</td>\n",
       "      <td>20</td>\n",
       "      <td>0.4</td>\n",
       "      <td>40300</td>\n",
       "      <td>4</td>\n",
       "      <td>0.9</td>\n",
       "      <td>5.6</td>\n",
       "      <td>1</td>\n",
       "      <td>NaN</td>\n",
       "    </tr>\n",
       "    <tr>\n",
       "      <th>4</th>\n",
       "      <td>ART013</td>\n",
       "      <td>1.0</td>\n",
       "      <td>1.0</td>\n",
       "      <td>-0.001</td>\n",
       "      <td>0.001</td>\n",
       "      <td>-0.001</td>\n",
       "      <td>NaN</td>\n",
       "      <td>0.08</td>\n",
       "      <td>-0.02</td>\n",
       "      <td>-0.01</td>\n",
       "      <td>...</td>\n",
       "      <td>41.0</td>\n",
       "      <td>225</td>\n",
       "      <td>80</td>\n",
       "      <td>5.6</td>\n",
       "      <td>248000</td>\n",
       "      <td>156</td>\n",
       "      <td>6.0</td>\n",
       "      <td>33.4</td>\n",
       "      <td>1</td>\n",
       "      <td>NaN</td>\n",
       "    </tr>\n",
       "  </tbody>\n",
       "</table>\n",
       "<p>5 rows × 70 columns</p>\n",
       "</div>"
      ],
      "text/plain": [
       "   Sample  Code  Code Tester    Au1     Pt     Pd  Au(AR)     Bi    Te     Hg  \\\n",
       "0  ALT010   NaN          NaN  0.039  0.002 -0.001     NaN   1.20  0.44  12.80   \n",
       "1  ALT024   NaN          NaN  0.011 -0.001  0.002     NaN   0.20  0.10   0.02   \n",
       "2  ALT073   NaN          NaN  0.436  0.004  0.007     NaN   0.30  0.22   1.30   \n",
       "3  ALT074   NaN          NaN  0.508  0.002  0.002     NaN  24.70  1.80   3.91   \n",
       "4  ART013   1.0          1.0 -0.001  0.001 -0.001     NaN   0.08 -0.02  -0.01   \n",
       "\n",
       "   ...     Y     Zn   B    Hf      Si   Zr    Be    Ga  Ge  Wt Total  \n",
       "0  ...   7.1   6760 -20   1.2   91800   40   4.2  16.6   4     164.0  \n",
       "1  ...  14.6   1390 -20  22.0   64300  900  12.2  25.8   3     140.0  \n",
       "2  ...  15.1   1510 -20   2.0  127000   70  17.0  32.4  12     109.0  \n",
       "3  ...   3.6  14500  20   0.4   40300    4   0.9   5.6   1       NaN  \n",
       "4  ...  41.0    225  80   5.6  248000  156   6.0  33.4   1       NaN  \n",
       "\n",
       "[5 rows x 70 columns]"
      ]
     },
     "execution_count": 4,
     "metadata": {},
     "output_type": "execute_result"
    }
   ],
   "source": [
    "osnaca_conclurry.head()"
   ]
  },
  {
   "cell_type": "markdown",
   "metadata": {},
   "source": [
    "### Merge two first sheets"
   ]
  },
  {
   "cell_type": "code",
   "execution_count": 5,
   "metadata": {},
   "outputs": [
    {
     "data": {
      "text/plain": [
       "{'Au (AR)', 'Au (FA)', 'Wt Tot'}"
      ]
     },
     "execution_count": 5,
     "metadata": {},
     "output_type": "execute_result"
    }
   ],
   "source": [
    "set(osnaca.columns).difference(set(osnaca_conclurry.columns))"
   ]
  },
  {
   "cell_type": "code",
   "execution_count": 6,
   "metadata": {},
   "outputs": [
    {
     "data": {
      "text/plain": [
       "{'Au(AR)', 'Au1', 'Code Tester', 'Wt Total'}"
      ]
     },
     "execution_count": 6,
     "metadata": {},
     "output_type": "execute_result"
    }
   ],
   "source": [
    "set(osnaca_conclurry.columns).difference(set(osnaca.columns))"
   ]
  },
  {
   "cell_type": "code",
   "execution_count": 7,
   "metadata": {},
   "outputs": [],
   "source": [
    "#assumed Au1 = Au (FA)\n",
    "osnaca_cloncurry = osnaca_conclurry.rename(columns={\"Wt Total\": \"Wt Tot\", \"Au(AR)\": \"Au (AR)\", \"Au1\": \"Au (FA)\"})\n",
    "osnaca_cloncurry = osnaca_cloncurry.drop(['Code Tester'], axis = 1)"
   ]
  },
  {
   "cell_type": "code",
   "execution_count": 8,
   "metadata": {},
   "outputs": [],
   "source": [
    "#merge the Cloncurry data with the other samples\n",
    "osnaca_all = pd.concat([osnaca, osnaca_cloncurry]) "
   ]
  },
  {
   "cell_type": "code",
   "execution_count": 9,
   "metadata": {},
   "outputs": [
    {
     "name": "stdout",
     "output_type": "stream",
     "text": [
      "(1139, 69) (72, 69) (1211, 69)\n"
     ]
    }
   ],
   "source": [
    "#conclurry rows successfully contatenated\n",
    "print(osnaca.shape, osnaca_cloncurry.shape, osnaca_all.shape)"
   ]
  },
  {
   "cell_type": "markdown",
   "metadata": {},
   "source": [
    "Highest Associates of Ge appear to be Zn, Cd, S and Tl as seen below in both combined and single dataset"
   ]
  },
  {
   "cell_type": "code",
   "execution_count": 10,
   "metadata": {},
   "outputs": [
    {
     "data": {
      "text/plain": [
       "Ge    1.000000\n",
       "Zn    0.496282\n",
       "Cd    0.226739\n",
       "S     0.198342\n",
       "Tl    0.179400\n",
       "        ...   \n",
       "K    -0.095798\n",
       "Na   -0.102637\n",
       "Ti   -0.116100\n",
       "Al   -0.139017\n",
       "Si   -0.185344\n",
       "Name: Ge, Length: 61, dtype: float64"
      ]
     },
     "execution_count": 10,
     "metadata": {},
     "output_type": "execute_result"
    }
   ],
   "source": [
    "#using combined dataset doesn't notably change correlations with Ge at first glance\n",
    "osnaca_all.corr()['Ge'].sort_values(ascending=False)"
   ]
  },
  {
   "cell_type": "code",
   "execution_count": 11,
   "metadata": {},
   "outputs": [
    {
     "data": {
      "text/plain": [
       "Ge    1.000000\n",
       "Zn    0.494664\n",
       "Cd    0.224266\n",
       "S     0.202368\n",
       "Tl    0.177224\n",
       "        ...   \n",
       "K    -0.098204\n",
       "Na   -0.103530\n",
       "Ti   -0.119651\n",
       "Al   -0.143311\n",
       "Si   -0.195223\n",
       "Name: Ge, Length: 62, dtype: float64"
      ]
     },
     "execution_count": 11,
     "metadata": {},
     "output_type": "execute_result"
    }
   ],
   "source": [
    "osnaca.corr()['Ge'].sort_values(ascending=False)"
   ]
  },
  {
   "cell_type": "code",
   "execution_count": null,
   "metadata": {},
   "outputs": [],
   "source": []
  },
  {
   "cell_type": "markdown",
   "metadata": {},
   "source": [
    "## Data Cleaning\n",
    "\n",
    "Remove Na values for RF regressor\n",
    "\n",
    "Deal with negative values, by converting it to half the absolute value"
   ]
  },
  {
   "cell_type": "code",
   "execution_count": 12,
   "metadata": {},
   "outputs": [
    {
     "data": {
      "text/plain": [
       "Code       994\n",
       "Au (AR)     72\n",
       "Wt Tot     617\n",
       "dtype: int64"
      ]
     },
     "execution_count": 12,
     "metadata": {},
     "output_type": "execute_result"
    }
   ],
   "source": [
    "#missing values need to be removed, Code and Wt Tot columnns can be removed as they aren't useful features, meaning 72 rows will be removed\n",
    "osnaca_all.isna().sum()[osnaca_all.isna().sum() > 0]"
   ]
  },
  {
   "cell_type": "code",
   "execution_count": 13,
   "metadata": {},
   "outputs": [
    {
     "data": {
      "text/plain": [
       "Au (AR)    72\n",
       "dtype: int64"
      ]
     },
     "execution_count": 13,
     "metadata": {},
     "output_type": "execute_result"
    }
   ],
   "source": [
    "#drop code and wt tot columns\n",
    "#drop sample column as it is not a useful feature\n",
    "osnaca_all2 = osnaca_all.drop(['Code', 'Wt Tot', 'Sample'], axis=1)\n",
    "osnaca_all2.isna().sum()[osnaca_all2.isna().sum() > 0]"
   ]
  },
  {
   "cell_type": "code",
   "execution_count": 14,
   "metadata": {},
   "outputs": [],
   "source": [
    "#remove values that are 'IS'\n",
    "osnaca_all2=osnaca_all2[osnaca_all2 != 'IS']"
   ]
  },
  {
   "cell_type": "code",
   "execution_count": 15,
   "metadata": {},
   "outputs": [
    {
     "data": {
      "text/plain": [
       "Series([], dtype: int64)"
      ]
     },
     "execution_count": 15,
     "metadata": {},
     "output_type": "execute_result"
    }
   ],
   "source": [
    "#drop 72 rows\n",
    "osnaca_all2 = osnaca_all2.dropna()\n",
    "osnaca_all2.isna().sum()[osnaca_all2.isna().sum() > 0]"
   ]
  },
  {
   "cell_type": "code",
   "execution_count": 16,
   "metadata": {},
   "outputs": [],
   "source": [
    "\n",
    "#osnaca_all2[osnaca_all2 < 0] = 0\n",
    "\n",
    "#convert object type columns to numeric\n",
    "osnaca_all2=osnaca_all2.apply(pd.to_numeric, errors = 'coerce')\n",
    "\n",
    "#convert negative values to half their absolute value\n",
    "osnaca_all2[osnaca_all2 <0] = abs(osnaca_all2[osnaca_all2 < 0])/2"
   ]
  },
  {
   "cell_type": "code",
   "execution_count": 17,
   "metadata": {},
   "outputs": [
    {
     "data": {
      "text/plain": [
       "(1135, 66)"
      ]
     },
     "execution_count": 17,
     "metadata": {},
     "output_type": "execute_result"
    }
   ],
   "source": [
    "#1135 rows remain\n",
    "osnaca_all2.shape"
   ]
  },
  {
   "cell_type": "markdown",
   "metadata": {},
   "source": [
    "## Random Forest"
   ]
  },
  {
   "cell_type": "code",
   "execution_count": 18,
   "metadata": {},
   "outputs": [],
   "source": [
    "from sklearn.ensemble import RandomForestRegressor\n",
    "\n",
    "\n",
    "#split dataset into features and output variable\n",
    "X = osnaca_all2.drop(['Ge'], axis=1)\n",
    "y = osnaca_all2['Ge']"
   ]
  },
  {
   "cell_type": "code",
   "execution_count": 19,
   "metadata": {},
   "outputs": [],
   "source": [
    "#split data into train and test set\n",
    "import sklearn.model_selection as selection\n",
    "\n",
    "X_train, X_test, y_train, y_test = selection.train_test_split(X, y, test_size = 0.25, random_state = 0)"
   ]
  },
  {
   "cell_type": "code",
   "execution_count": 20,
   "metadata": {},
   "outputs": [],
   "source": [
    "#specify regression model\n",
    "regressor = RandomForestRegressor(n_estimators=500, max_depth=10, max_features=15, min_samples_leaf=2, random_state=0, bootstrap=True, oob_score=True)\n"
   ]
  },
  {
   "cell_type": "code",
   "execution_count": 21,
   "metadata": {},
   "outputs": [
    {
     "data": {
      "text/plain": [
       "RandomForestRegressor(max_depth=10, max_features=15, min_samples_leaf=2,\n",
       "                      n_estimators=500, oob_score=True, random_state=0)"
      ]
     },
     "execution_count": 21,
     "metadata": {},
     "output_type": "execute_result"
    }
   ],
   "source": [
    "#fit to training data \n",
    "regressor.fit(X_train, y_train)"
   ]
  },
  {
   "cell_type": "code",
   "execution_count": 22,
   "metadata": {},
   "outputs": [],
   "source": [
    "#predictions for training and test data set\n",
    "y_pred_train = regressor.predict(X_train)\n",
    "y_pred_test = regressor.predict(X_test)\n"
   ]
  },
  {
   "cell_type": "markdown",
   "metadata": {},
   "source": [
    "### Random Forest Error"
   ]
  },
  {
   "cell_type": "code",
   "execution_count": 23,
   "metadata": {},
   "outputs": [
    {
     "name": "stdout",
     "output_type": "stream",
     "text": [
      "Training Error\n",
      "Mean Absolute Error: 2.8390897376373077\n",
      "Mean Squared Error: 85.28726292277237\n",
      "Root Mean Squared Error: 9.23511033625329\n",
      "\n",
      "Testing Error\n",
      "Mean Absolute Error: 4.8647282234551135\n",
      "Mean Squared Error: 113.96636157328967\n",
      "Root Mean Squared Error: 10.675502872150318\n"
     ]
    }
   ],
   "source": [
    "#evaluating random forest\n",
    "from sklearn import metrics\n",
    "print('Training Error')\n",
    "print('Mean Absolute Error:', metrics.mean_absolute_error(y_train,y_pred_train))\n",
    "print('Mean Squared Error:', metrics.mean_squared_error(y_train,y_pred_train))\n",
    "print('Root Mean Squared Error:', np.sqrt(metrics.mean_squared_error(y_train,y_pred_train)))\n",
    "print(\"\")\n",
    "\n",
    "print('Testing Error')\n",
    "print('Mean Absolute Error:', metrics.mean_absolute_error(y_test,y_pred_test))\n",
    "print('Mean Squared Error:', metrics.mean_squared_error(y_test,y_pred_test))\n",
    "print('Root Mean Squared Error:', np.sqrt(metrics.mean_squared_error(y_test,y_pred_test)))"
   ]
  },
  {
   "cell_type": "markdown",
   "metadata": {},
   "source": [
    "## Multiple linear regression"
   ]
  },
  {
   "cell_type": "code",
   "execution_count": 24,
   "metadata": {},
   "outputs": [],
   "source": [
    "from sklearn.linear_model import LinearRegression\n",
    "\n",
    "LR = LinearRegression().fit(X_train,y_train)\n",
    "\n",
    "#predictions for training and test data set\n",
    "y_pred_trainlr = LR.predict(X_train)\n",
    "y_pred_testlr = LR.predict(X_test)"
   ]
  },
  {
   "cell_type": "markdown",
   "metadata": {},
   "source": [
    "### Linear Regression Error"
   ]
  },
  {
   "cell_type": "code",
   "execution_count": 25,
   "metadata": {},
   "outputs": [
    {
     "name": "stdout",
     "output_type": "stream",
     "text": [
      "Training Error\n",
      "Mean Absolute Error: 6.0431571264791835\n",
      "Mean Squared Error: 287.4353952410277\n",
      "Root Mean Squared Error: 16.95391976036892\n",
      "\n",
      "Testing Error\n",
      "Mean Absolute Error: 6.622167626254786\n",
      "Mean Squared Error: 184.74743865814804\n",
      "Root Mean Squared Error: 13.592182998258522\n"
     ]
    }
   ],
   "source": [
    "\n",
    "\n",
    "print('Training Error')\n",
    "print('Mean Absolute Error:', metrics.mean_absolute_error(y_train,y_pred_trainlr))\n",
    "print('Mean Squared Error:', metrics.mean_squared_error(y_train,y_pred_trainlr))\n",
    "print('Root Mean Squared Error:', np.sqrt(metrics.mean_squared_error(y_train,y_pred_trainlr)))\n",
    "print(\"\")\n",
    "\n",
    "print('Testing Error')\n",
    "print('Mean Absolute Error:', metrics.mean_absolute_error(y_test,y_pred_testlr))\n",
    "print('Mean Squared Error:', metrics.mean_squared_error(y_test,y_pred_testlr))\n",
    "print('Root Mean Squared Error:', np.sqrt(metrics.mean_squared_error(y_test,y_pred_testlr)))"
   ]
  },
  {
   "cell_type": "markdown",
   "metadata": {},
   "source": [
    "## Feature Importances"
   ]
  },
  {
   "cell_type": "code",
   "execution_count": 26,
   "metadata": {},
   "outputs": [
    {
     "name": "stdout",
     "output_type": "stream",
     "text": [
      "Au (FA) 0.02518811482992209\n",
      "Pt 0.0003561313109000629\n",
      "Pd 0.0022656890831041594\n",
      "Au (AR) 0.02068373721226077\n",
      "Bi 0.028539120333063862\n",
      "Te 0.004900785411430316\n",
      "Hg 0.02857287291127515\n",
      "Ag 0.013877078180563343\n",
      "Al 0.013601258116498531\n",
      "As 0.009859702175563603\n",
      "Ca 0.014492771524392368\n",
      "Cd 0.08076996184248096\n",
      "Co 0.016594456573041053\n",
      "Cr 5.758211992697197e-05\n",
      "Cs 0.017226317346687413\n",
      "Cu 0.02524966568379581\n",
      "Fe 0.011168986103866407\n",
      "In 0.0066993095747642445\n",
      "K 0.009329423607910212\n",
      "La 0.014044253267727314\n",
      "Ce 0.018729019147203443\n",
      "Pr 0.00480097733644558\n",
      "Nd 0.023034994316658224\n",
      "Sm 0.012921339260530256\n",
      "Eu 0.005369518386867835\n",
      "Gd 0.004643478696960591\n",
      "Tb 0.0010796160465298724\n",
      "Dy 0.00881056419259515\n",
      "Ho 0.0031834647149076166\n",
      "Er 0.0027062874982744438\n",
      "Tm 0.003731102065686296\n",
      "Yb 0.004194241928695061\n",
      "Lu 0.002667114964328535\n",
      "Li 0.005891738063527575\n",
      "Mg 0.00797805052534712\n",
      "Mn 0.014575226144573282\n",
      "Mo 0.008876626175536697\n",
      "Na 0.0055276164489826115\n",
      "Nb 0.001738010362236178\n",
      "Ni 0.005424750955274533\n",
      "P 0.0048355297762402594\n",
      "Pb 0.027738020552859982\n",
      "Rb 0.005799984932556493\n",
      "Re 0.003494296886368098\n",
      "S 0.01746174450634406\n",
      "Sb 0.015895293457128038\n",
      "Sc 0.0022679847339260478\n",
      "Se 0.012856241194049578\n",
      "Sn 0.01128560141210469\n",
      "Sr 0.009974401715921137\n",
      "Ta 0.0006673846222143226\n",
      "Th 0.003989196202572021\n",
      "Ti 0.004183681827520948\n",
      "Tl 0.038448814558938366\n",
      "U 0.007778816778884631\n",
      "V 0.009267379801432175\n",
      "W 0.01447696380036927\n",
      "Y 0.008597640972666168\n",
      "Zn 0.20054493257876146\n",
      "B 0.0018499061196769154\n",
      "Hf 0.00514510997765307\n",
      "Si 0.07192773721716725\n",
      "Zr 0.004556886730246404\n",
      "Be 0.009191898793060196\n",
      "Ga 0.01840359641100289\n"
     ]
    }
   ],
   "source": [
    "#Feature importances\n",
    "for name, score in zip(X_train.columns, regressor.feature_importances_):\n",
    "    print(name, score)"
   ]
  },
  {
   "cell_type": "code",
   "execution_count": 27,
   "metadata": {},
   "outputs": [
    {
     "name": "stdout",
     "output_type": "stream",
     "text": [
      "    Feature  Importance\n",
      "58       Zn    0.200545\n",
      "11       Cd    0.080770\n",
      "61       Si    0.071928\n",
      "53       Tl    0.038449\n",
      "6        Hg    0.028573\n",
      "4        Bi    0.028539\n",
      "41       Pb    0.027738\n",
      "15       Cu    0.025250\n",
      "0   Au (FA)    0.025188\n",
      "22       Nd    0.023035\n",
      "3   Au (AR)    0.020684\n",
      "20       Ce    0.018729\n",
      "64       Ga    0.018404\n",
      "44        S    0.017462\n",
      "14       Cs    0.017226\n",
      "12       Co    0.016594\n",
      "45       Sb    0.015895\n",
      "35       Mn    0.014575\n",
      "10       Ca    0.014493\n",
      "56        W    0.014477\n"
     ]
    }
   ],
   "source": [
    "#create sorted dataframe of feature importances\n",
    "data = {'Feature':X_train.columns,'Importance':regressor.feature_importances_}\n",
    "\n",
    "featimp = pd.DataFrame(data)\n",
    "featsorted = featimp.sort_values(by='Importance', ascending=False)\n",
    "print(featsorted[:20])"
   ]
  },
  {
   "cell_type": "markdown",
   "metadata": {},
   "source": [
    "## Visualising Predictions"
   ]
  },
  {
   "cell_type": "code",
   "execution_count": 28,
   "metadata": {},
   "outputs": [],
   "source": [
    "# Visualising some predictions for train set\n",
    "\n",
    "# model predictions\n",
    "xt = X_train[:50]\n",
    "pred1 = regressor.predict(xt)"
   ]
  },
  {
   "cell_type": "code",
   "execution_count": 29,
   "metadata": {},
   "outputs": [
    {
     "data": {
      "text/plain": [
       "array([ 2. ,  1. ,  4. ,  0.5,  2. , 14. , 20. , 46. ,  0.5,  3. ,  0.5,\n",
       "        2. ,  2. ,  3. ,  2. ,  3. ,  3. ,  4. ,  0.5,  3. ,  4. ,  2. ,\n",
       "       43. ,  1. ,  2. ,  1. ,  1. ,  3. ,  2. , 67. ,  2. ,  6. ,  3. ,\n",
       "        1. ,  1. ,  0.5,  2. ,  3. , 83. ,  1. ,  6. ,  5. ,  1. ,  0.5,\n",
       "        2. , 30. ,  1. , 55. ,  0.5,  3. ])"
      ]
     },
     "execution_count": 29,
     "metadata": {},
     "output_type": "execute_result"
    }
   ],
   "source": [
    "#true values\n",
    "xt_test = np.array(y_train[:50])\n",
    "xt_test"
   ]
  },
  {
   "cell_type": "code",
   "execution_count": 30,
   "metadata": {},
   "outputs": [
    {
     "data": {
      "image/png": "[encoded data removed]",
      "text/plain": [
       "<Figure size 432x288 with 1 Axes>"
      ]
     },
     "metadata": {
      "needs_background": "light"
     },
     "output_type": "display_data"
    }
   ],
   "source": [
    "plt.figure()\n",
    "plt.plot(pred1, 'b^', label = 'RandomForestRegressor')\n",
    "plt.plot(xt_test, 'r*', label = 'Ground Truth')\n",
    "\n",
    "plt.tick_params(axis='x', which = 'both', bottom = False, top=False, labelbottom=False)\n",
    "\n",
    "plt.ylabel('predicted')\n",
    "plt.xlabel('training samples')\n",
    "plt.legend(loc='best')\n",
    "plt.title('Ge Predictions vs True Score Training Data')\n",
    "plt.show()"
   ]
  },
  {
   "cell_type": "code",
   "execution_count": 31,
   "metadata": {},
   "outputs": [],
   "source": [
    "#visualisation for test predictions\n",
    "\n",
    "#test predictions\n",
    "xt = X_test[:50]\n",
    "pred1 = regressor.predict(xt)\n",
    "\n",
    "xt_test = np.array(y_test[:50])"
   ]
  },
  {
   "cell_type": "code",
   "execution_count": 32,
   "metadata": {},
   "outputs": [
    {
     "data": {
      "image/png": "[encoded data removed]",
      "text/plain": [
       "<Figure size 432x288 with 1 Axes>"
      ]
     },
     "metadata": {
      "needs_background": "light"
     },
     "output_type": "display_data"
    }
   ],
   "source": [
    "plt.figure()\n",
    "plt.plot(pred1, 'b^', label = 'RandomForestRegressor')\n",
    "plt.plot(xt_test, 'r*', label = 'Ground Truth')\n",
    "\n",
    "plt.tick_params(axis='x', which = 'both', bottom = False, top=False, labelbottom=False)\n",
    "\n",
    "plt.ylabel('predicted')\n",
    "plt.xlabel('training samples')\n",
    "plt.legend(loc='best')\n",
    "plt.yscale('log')\n",
    "plt.title('Ge Predictions vs True Score Test Data')\n",
    "plt.show()"
   ]
  },
  {
   "cell_type": "markdown",
   "metadata": {},
   "source": [
    "## Prediction intervals using MAPIE"
   ]
  },
  {
   "cell_type": "markdown",
   "metadata": {},
   "source": [
    "### Linear Regression"
   ]
  },
  {
   "cell_type": "code",
   "execution_count": 37,
   "metadata": {},
   "outputs": [],
   "source": [
    "import mapie"
   ]
  },
  {
   "cell_type": "code",
   "execution_count": 63,
   "metadata": {},
   "outputs": [],
   "source": [
    "from mapie.regression import MapieRegressor\n",
    "from mapie.metrics import regression_coverage_score\n",
    "\n",
    "regressor = LinearRegression()\n",
    "\n",
    "mapie = MapieRegressor(regressor, method=\"plus\")\n",
    "mapie.fit(X_train, y_train)\n",
    "\n",
    "y_pred, y_pis = mapie.predict(X_test, alpha=0.05)"
   ]
  },
  {
   "cell_type": "code",
   "execution_count": 97,
   "metadata": {},
   "outputs": [
    {
     "data": {
      "text/html": [
       "<div>\n",
       "<style scoped>\n",
       "    .dataframe tbody tr th:only-of-type {\n",
       "        vertical-align: middle;\n",
       "    }\n",
       "\n",
       "    .dataframe tbody tr th {\n",
       "        vertical-align: top;\n",
       "    }\n",
       "\n",
       "    .dataframe thead th {\n",
       "        text-align: right;\n",
       "    }\n",
       "</style>\n",
       "<table border=\"1\" class=\"dataframe\">\n",
       "  <thead>\n",
       "    <tr style=\"text-align: right;\">\n",
       "      <th></th>\n",
       "      <th>lower</th>\n",
       "      <th>upper</th>\n",
       "    </tr>\n",
       "  </thead>\n",
       "  <tbody>\n",
       "    <tr>\n",
       "      <th>0</th>\n",
       "      <td>-29.802090</td>\n",
       "      <td>30.828370</td>\n",
       "    </tr>\n",
       "    <tr>\n",
       "      <th>1</th>\n",
       "      <td>-28.957487</td>\n",
       "      <td>30.905138</td>\n",
       "    </tr>\n",
       "    <tr>\n",
       "      <th>2</th>\n",
       "      <td>-31.084168</td>\n",
       "      <td>29.459154</td>\n",
       "    </tr>\n",
       "    <tr>\n",
       "      <th>3</th>\n",
       "      <td>-19.935739</td>\n",
       "      <td>41.632049</td>\n",
       "    </tr>\n",
       "    <tr>\n",
       "      <th>4</th>\n",
       "      <td>-29.508571</td>\n",
       "      <td>30.933700</td>\n",
       "    </tr>\n",
       "    <tr>\n",
       "      <th>...</th>\n",
       "      <td>...</td>\n",
       "      <td>...</td>\n",
       "    </tr>\n",
       "    <tr>\n",
       "      <th>279</th>\n",
       "      <td>-28.955267</td>\n",
       "      <td>31.675193</td>\n",
       "    </tr>\n",
       "    <tr>\n",
       "      <th>280</th>\n",
       "      <td>-29.388868</td>\n",
       "      <td>30.793606</td>\n",
       "    </tr>\n",
       "    <tr>\n",
       "      <th>281</th>\n",
       "      <td>-27.587233</td>\n",
       "      <td>33.043227</td>\n",
       "    </tr>\n",
       "    <tr>\n",
       "      <th>282</th>\n",
       "      <td>-26.206618</td>\n",
       "      <td>34.423842</td>\n",
       "    </tr>\n",
       "    <tr>\n",
       "      <th>283</th>\n",
       "      <td>-33.387394</td>\n",
       "      <td>26.879356</td>\n",
       "    </tr>\n",
       "  </tbody>\n",
       "</table>\n",
       "<p>284 rows × 2 columns</p>\n",
       "</div>"
      ],
      "text/plain": [
       "         lower      upper\n",
       "0   -29.802090  30.828370\n",
       "1   -28.957487  30.905138\n",
       "2   -31.084168  29.459154\n",
       "3   -19.935739  41.632049\n",
       "4   -29.508571  30.933700\n",
       "..         ...        ...\n",
       "279 -28.955267  31.675193\n",
       "280 -29.388868  30.793606\n",
       "281 -27.587233  33.043227\n",
       "282 -26.206618  34.423842\n",
       "283 -33.387394  26.879356\n",
       "\n",
       "[284 rows x 2 columns]"
      ]
     },
     "execution_count": 97,
     "metadata": {},
     "output_type": "execute_result"
    }
   ],
   "source": [
    "intervals = pd.DataFrame(y_pis.reshape(284,2), columns= ['lower', 'upper'])\n",
    "intervals"
   ]
  },
  {
   "cell_type": "code",
   "execution_count": 110,
   "metadata": {},
   "outputs": [],
   "source": [
    "d = {'prediction': y_pred, 'true': np.array(y_test)}\n",
    "results = pd.DataFrame(d)\n",
    "results = results.join(intervals)"
   ]
  },
  {
   "cell_type": "code",
   "execution_count": 111,
   "metadata": {},
   "outputs": [
    {
     "data": {
      "text/html": [
       "<div>\n",
       "<style scoped>\n",
       "    .dataframe tbody tr th:only-of-type {\n",
       "        vertical-align: middle;\n",
       "    }\n",
       "\n",
       "    .dataframe tbody tr th {\n",
       "        vertical-align: top;\n",
       "    }\n",
       "\n",
       "    .dataframe thead th {\n",
       "        text-align: right;\n",
       "    }\n",
       "</style>\n",
       "<table border=\"1\" class=\"dataframe\">\n",
       "  <thead>\n",
       "    <tr style=\"text-align: right;\">\n",
       "      <th></th>\n",
       "      <th>prediction</th>\n",
       "      <th>true</th>\n",
       "      <th>lower</th>\n",
       "      <th>upper</th>\n",
       "    </tr>\n",
       "  </thead>\n",
       "  <tbody>\n",
       "    <tr>\n",
       "      <th>0</th>\n",
       "      <td>1.039465</td>\n",
       "      <td>2.0</td>\n",
       "      <td>-29.802090</td>\n",
       "      <td>30.828370</td>\n",
       "    </tr>\n",
       "    <tr>\n",
       "      <th>1</th>\n",
       "      <td>1.651712</td>\n",
       "      <td>2.0</td>\n",
       "      <td>-28.957487</td>\n",
       "      <td>30.905138</td>\n",
       "    </tr>\n",
       "    <tr>\n",
       "      <th>2</th>\n",
       "      <td>-0.313502</td>\n",
       "      <td>5.0</td>\n",
       "      <td>-31.084168</td>\n",
       "      <td>29.459154</td>\n",
       "    </tr>\n",
       "    <tr>\n",
       "      <th>3</th>\n",
       "      <td>10.735711</td>\n",
       "      <td>10.0</td>\n",
       "      <td>-19.935739</td>\n",
       "      <td>41.632049</td>\n",
       "    </tr>\n",
       "    <tr>\n",
       "      <th>4</th>\n",
       "      <td>1.106375</td>\n",
       "      <td>1.0</td>\n",
       "      <td>-29.508571</td>\n",
       "      <td>30.933700</td>\n",
       "    </tr>\n",
       "    <tr>\n",
       "      <th>...</th>\n",
       "      <td>...</td>\n",
       "      <td>...</td>\n",
       "      <td>...</td>\n",
       "      <td>...</td>\n",
       "    </tr>\n",
       "    <tr>\n",
       "      <th>279</th>\n",
       "      <td>1.583368</td>\n",
       "      <td>2.0</td>\n",
       "      <td>-28.955267</td>\n",
       "      <td>31.675193</td>\n",
       "    </tr>\n",
       "    <tr>\n",
       "      <th>280</th>\n",
       "      <td>1.283484</td>\n",
       "      <td>3.0</td>\n",
       "      <td>-29.388868</td>\n",
       "      <td>30.793606</td>\n",
       "    </tr>\n",
       "    <tr>\n",
       "      <th>281</th>\n",
       "      <td>1.473422</td>\n",
       "      <td>31.0</td>\n",
       "      <td>-27.587233</td>\n",
       "      <td>33.043227</td>\n",
       "    </tr>\n",
       "    <tr>\n",
       "      <th>282</th>\n",
       "      <td>4.789627</td>\n",
       "      <td>1.0</td>\n",
       "      <td>-26.206618</td>\n",
       "      <td>34.423842</td>\n",
       "    </tr>\n",
       "    <tr>\n",
       "      <th>283</th>\n",
       "      <td>-3.499505</td>\n",
       "      <td>4.0</td>\n",
       "      <td>-33.387394</td>\n",
       "      <td>26.879356</td>\n",
       "    </tr>\n",
       "  </tbody>\n",
       "</table>\n",
       "<p>284 rows × 4 columns</p>\n",
       "</div>"
      ],
      "text/plain": [
       "     prediction  true      lower      upper\n",
       "0      1.039465   2.0 -29.802090  30.828370\n",
       "1      1.651712   2.0 -28.957487  30.905138\n",
       "2     -0.313502   5.0 -31.084168  29.459154\n",
       "3     10.735711  10.0 -19.935739  41.632049\n",
       "4      1.106375   1.0 -29.508571  30.933700\n",
       "..          ...   ...        ...        ...\n",
       "279    1.583368   2.0 -28.955267  31.675193\n",
       "280    1.283484   3.0 -29.388868  30.793606\n",
       "281    1.473422  31.0 -27.587233  33.043227\n",
       "282    4.789627   1.0 -26.206618  34.423842\n",
       "283   -3.499505   4.0 -33.387394  26.879356\n",
       "\n",
       "[284 rows x 4 columns]"
      ]
     },
     "execution_count": 111,
     "metadata": {},
     "output_type": "execute_result"
    }
   ],
   "source": [
    "results"
   ]
  },
  {
   "cell_type": "markdown",
   "metadata": {},
   "source": [
    "### Random Forest"
   ]
  }
 ],
 "metadata": {
  "interpreter": {
   "hash": "36b30a92037109ed11e060b4d71c035778d39fdbadacc1dbdafbb20554d4a43d"
  },
  "kernelspec": {
   "display_name": "Python 3.8.11 64-bit ('critical minerals': conda)",
   "name": "python3"
  },
  "language_info": {
   "codemirror_mode": {
    "name": "ipython",
    "version": 3
   },
   "file_extension": ".py",
   "mimetype": "text/x-python",
   "name": "python",
   "nbconvert_exporter": "python",
   "pygments_lexer": "ipython3",
   "version": "3.8.11"
  },
  "orig_nbformat": 2
 },
 "nbformat": 4,
 "nbformat_minor": 2
}
