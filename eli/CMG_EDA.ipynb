{
 "cells": [
  {
   "cell_type": "code",
   "execution_count": 1,
   "metadata": {},
   "outputs": [],
   "source": [
    "import pandas as pd"
   ]
  },
  {
   "cell_type": "code",
   "execution_count": 2,
   "metadata": {},
   "outputs": [
    {
     "name": "stderr",
     "output_type": "stream",
     "text": [
      "/home/franticoreo/.local/lib/python3.7/site-packages/IPython/core/interactiveshell.py:3063: DtypeWarning: Columns (13,23,25,26,30,31,38,41,44,47,50,53,56,59,62,65,68,71,74,77,83,86,89,96,102,123,126,129,138,165,186,189,192,198,204,213,225,228,246,249,252,267) have mixed types.Specify dtype option on import or set low_memory=False.\n",
      "  interactivity=interactivity, compiler=compiler, result=result)\n"
     ]
    },
    {
     "data": {
      "text/html": [
       "<div>\n",
       "<style scoped>\n",
       "    .dataframe tbody tr th:only-of-type {\n",
       "        vertical-align: middle;\n",
       "    }\n",
       "\n",
       "    .dataframe tbody tr th {\n",
       "        vertical-align: top;\n",
       "    }\n",
       "\n",
       "    .dataframe thead th {\n",
       "        text-align: right;\n",
       "    }\n",
       "</style>\n",
       "<table border=\"1\" class=\"dataframe\">\n",
       "  <thead>\n",
       "    <tr style=\"text-align: right;\">\n",
       "      <th></th>\n",
       "      <th>FID</th>\n",
       "      <th>deposit_uid</th>\n",
       "      <th>deposit_name</th>\n",
       "      <th>deposit_local_id</th>\n",
       "      <th>deposit_environment</th>\n",
       "      <th>deposit_group</th>\n",
       "      <th>deposit_type</th>\n",
       "      <th>primary_commodities</th>\n",
       "      <th>secondary_commodities</th>\n",
       "      <th>all_commodities</th>\n",
       "      <th>...</th>\n",
       "      <th>sample_longitude_wgs84</th>\n",
       "      <th>sample_latitude_wgs84</th>\n",
       "      <th>sample_easting</th>\n",
       "      <th>sample_northing</th>\n",
       "      <th>sample_utm_zone</th>\n",
       "      <th>sample_location_description</th>\n",
       "      <th>location_accuracy</th>\n",
       "      <th>comments</th>\n",
       "      <th>last_update</th>\n",
       "      <th>geometry</th>\n",
       "    </tr>\n",
       "  </thead>\n",
       "  <tbody>\n",
       "    <tr>\n",
       "      <th>0</th>\n",
       "      <td>CriticalMineralDepositsGeochemistry.672862-74156</td>\n",
       "      <td>CAN.ON.06000135</td>\n",
       "      <td>Worthington</td>\n",
       "      <td>469</td>\n",
       "      <td>Magmatic</td>\n",
       "      <td>Ultramafic and (or) mafic intrusion</td>\n",
       "      <td>Impact U-M intrusion Ni-Cu-PGE</td>\n",
       "      <td>NaN</td>\n",
       "      <td>NaN</td>\n",
       "      <td>Ni, Cu, PGE</td>\n",
       "      <td>...</td>\n",
       "      <td>-81.4409</td>\n",
       "      <td>46.3906</td>\n",
       "      <td>466101</td>\n",
       "      <td>5137545</td>\n",
       "      <td>17N</td>\n",
       "      <td>NaN</td>\n",
       "      <td>NaN</td>\n",
       "      <td>NaN</td>\n",
       "      <td>2021-06-04</td>\n",
       "      <td>POINT (46.390633 -81.440903)</td>\n",
       "    </tr>\n",
       "    <tr>\n",
       "      <th>1</th>\n",
       "      <td>CriticalMineralDepositsGeochemistry.672862-74157</td>\n",
       "      <td>CAN.ON.06000135</td>\n",
       "      <td>Worthington</td>\n",
       "      <td>469</td>\n",
       "      <td>Magmatic</td>\n",
       "      <td>Ultramafic and (or) mafic intrusion</td>\n",
       "      <td>Impact U-M intrusion Ni-Cu-PGE</td>\n",
       "      <td>NaN</td>\n",
       "      <td>NaN</td>\n",
       "      <td>Ni, Cu, PGE</td>\n",
       "      <td>...</td>\n",
       "      <td>-81.4409</td>\n",
       "      <td>46.3906</td>\n",
       "      <td>466101</td>\n",
       "      <td>5137545</td>\n",
       "      <td>17N</td>\n",
       "      <td>NaN</td>\n",
       "      <td>NaN</td>\n",
       "      <td>NaN</td>\n",
       "      <td>2021-06-04</td>\n",
       "      <td>POINT (46.390633 -81.440903)</td>\n",
       "    </tr>\n",
       "    <tr>\n",
       "      <th>2</th>\n",
       "      <td>CriticalMineralDepositsGeochemistry.672871-74135</td>\n",
       "      <td>CAN.ON.06000062</td>\n",
       "      <td>Whistle</td>\n",
       "      <td>500</td>\n",
       "      <td>Magmatic</td>\n",
       "      <td>Ultramafic and (or) mafic intrusion</td>\n",
       "      <td>Impact U-M intrusion Ni-Cu-PGE</td>\n",
       "      <td>NaN</td>\n",
       "      <td>NaN</td>\n",
       "      <td>Ni, Cu, PGE</td>\n",
       "      <td>...</td>\n",
       "      <td>-80.8788</td>\n",
       "      <td>46.7723</td>\n",
       "      <td>509250</td>\n",
       "      <td>5179869</td>\n",
       "      <td>17N</td>\n",
       "      <td>NaN</td>\n",
       "      <td>NaN</td>\n",
       "      <td>NaN</td>\n",
       "      <td>2021-06-04</td>\n",
       "      <td>POINT (46.772306 -80.878847)</td>\n",
       "    </tr>\n",
       "    <tr>\n",
       "      <th>3</th>\n",
       "      <td>CriticalMineralDepositsGeochemistry.672872-74136</td>\n",
       "      <td>CAN.ON.06000062</td>\n",
       "      <td>Whistle</td>\n",
       "      <td>500</td>\n",
       "      <td>Magmatic</td>\n",
       "      <td>Ultramafic and (or) mafic intrusion</td>\n",
       "      <td>Impact U-M intrusion Ni-Cu-PGE</td>\n",
       "      <td>NaN</td>\n",
       "      <td>NaN</td>\n",
       "      <td>Ni, Cu, PGE</td>\n",
       "      <td>...</td>\n",
       "      <td>-80.8788</td>\n",
       "      <td>46.7723</td>\n",
       "      <td>509250</td>\n",
       "      <td>5179869</td>\n",
       "      <td>17N</td>\n",
       "      <td>NaN</td>\n",
       "      <td>NaN</td>\n",
       "      <td>NaN</td>\n",
       "      <td>2021-06-04</td>\n",
       "      <td>POINT (46.772306 -80.878847)</td>\n",
       "    </tr>\n",
       "    <tr>\n",
       "      <th>4</th>\n",
       "      <td>CriticalMineralDepositsGeochemistry.672873-74137</td>\n",
       "      <td>CAN.ON.06000062</td>\n",
       "      <td>Whistle</td>\n",
       "      <td>500</td>\n",
       "      <td>Magmatic</td>\n",
       "      <td>Ultramafic and (or) mafic intrusion</td>\n",
       "      <td>Impact U-M intrusion Ni-Cu-PGE</td>\n",
       "      <td>NaN</td>\n",
       "      <td>NaN</td>\n",
       "      <td>Ni, Cu, PGE</td>\n",
       "      <td>...</td>\n",
       "      <td>-80.8788</td>\n",
       "      <td>46.7723</td>\n",
       "      <td>509250</td>\n",
       "      <td>5179869</td>\n",
       "      <td>17N</td>\n",
       "      <td>NaN</td>\n",
       "      <td>NaN</td>\n",
       "      <td>NaN</td>\n",
       "      <td>2021-06-04</td>\n",
       "      <td>POINT (46.772306 -80.878847)</td>\n",
       "    </tr>\n",
       "  </tbody>\n",
       "</table>\n",
       "<p>5 rows × 340 columns</p>\n",
       "</div>"
      ],
      "text/plain": [
       "                                                FID      deposit_uid  \\\n",
       "0  CriticalMineralDepositsGeochemistry.672862-74156  CAN.ON.06000135   \n",
       "1  CriticalMineralDepositsGeochemistry.672862-74157  CAN.ON.06000135   \n",
       "2  CriticalMineralDepositsGeochemistry.672871-74135  CAN.ON.06000062   \n",
       "3  CriticalMineralDepositsGeochemistry.672872-74136  CAN.ON.06000062   \n",
       "4  CriticalMineralDepositsGeochemistry.672873-74137  CAN.ON.06000062   \n",
       "\n",
       "  deposit_name deposit_local_id deposit_environment  \\\n",
       "0  Worthington              469            Magmatic   \n",
       "1  Worthington              469            Magmatic   \n",
       "2      Whistle              500            Magmatic   \n",
       "3      Whistle              500            Magmatic   \n",
       "4      Whistle              500            Magmatic   \n",
       "\n",
       "                         deposit_group                    deposit_type  \\\n",
       "0  Ultramafic and (or) mafic intrusion  Impact U-M intrusion Ni-Cu-PGE   \n",
       "1  Ultramafic and (or) mafic intrusion  Impact U-M intrusion Ni-Cu-PGE   \n",
       "2  Ultramafic and (or) mafic intrusion  Impact U-M intrusion Ni-Cu-PGE   \n",
       "3  Ultramafic and (or) mafic intrusion  Impact U-M intrusion Ni-Cu-PGE   \n",
       "4  Ultramafic and (or) mafic intrusion  Impact U-M intrusion Ni-Cu-PGE   \n",
       "\n",
       "  primary_commodities secondary_commodities all_commodities  ...  \\\n",
       "0                 NaN                   NaN     Ni, Cu, PGE  ...   \n",
       "1                 NaN                   NaN     Ni, Cu, PGE  ...   \n",
       "2                 NaN                   NaN     Ni, Cu, PGE  ...   \n",
       "3                 NaN                   NaN     Ni, Cu, PGE  ...   \n",
       "4                 NaN                   NaN     Ni, Cu, PGE  ...   \n",
       "\n",
       "  sample_longitude_wgs84 sample_latitude_wgs84 sample_easting sample_northing  \\\n",
       "0               -81.4409               46.3906         466101         5137545   \n",
       "1               -81.4409               46.3906         466101         5137545   \n",
       "2               -80.8788               46.7723         509250         5179869   \n",
       "3               -80.8788               46.7723         509250         5179869   \n",
       "4               -80.8788               46.7723         509250         5179869   \n",
       "\n",
       "  sample_utm_zone sample_location_description location_accuracy  comments  \\\n",
       "0             17N                         NaN               NaN       NaN   \n",
       "1             17N                         NaN               NaN       NaN   \n",
       "2             17N                         NaN               NaN       NaN   \n",
       "3             17N                         NaN               NaN       NaN   \n",
       "4             17N                         NaN               NaN       NaN   \n",
       "\n",
       "   last_update                      geometry  \n",
       "0   2021-06-04  POINT (46.390633 -81.440903)  \n",
       "1   2021-06-04  POINT (46.390633 -81.440903)  \n",
       "2   2021-06-04  POINT (46.772306 -80.878847)  \n",
       "3   2021-06-04  POINT (46.772306 -80.878847)  \n",
       "4   2021-06-04  POINT (46.772306 -80.878847)  \n",
       "\n",
       "[5 rows x 340 columns]"
      ]
     },
     "execution_count": 2,
     "metadata": {},
     "output_type": "execute_result"
    }
   ],
   "source": [
    "df = pd.read_csv('../data/cmog/CriticalMineralDepositsGeochemistry.csv')\n",
    "df.head()"
   ]
  },
  {
   "cell_type": "code",
   "execution_count": 3,
   "metadata": {},
   "outputs": [
    {
     "data": {
      "text/plain": [
       "0.7463623992463101"
      ]
     },
     "execution_count": 3,
     "metadata": {},
     "output_type": "execute_result"
    }
   ],
   "source": [
    "df['in_ppm'].isna().sum() / df.shape[0]"
   ]
  },
  {
   "cell_type": "code",
   "execution_count": 4,
   "metadata": {},
   "outputs": [
    {
     "data": {
      "text/plain": [
       "0.6569663979901602"
      ]
     },
     "execution_count": 4,
     "metadata": {},
     "output_type": "execute_result"
    }
   ],
   "source": [
    "df['ge_ppm'].isna().sum() / df.shape[0]"
   ]
  },
  {
   "cell_type": "code",
   "execution_count": 5,
   "metadata": {},
   "outputs": [
    {
     "data": {
      "text/plain": [
       "array(['Impact U-M intrusion Ni-Cu-PGE', 'LS epithermal Au-Ag',\n",
       "       'Heavy mineral sands', 'Reduced intrusion-related Au',\n",
       "       'Bimodal-mafic VMS', 'Skarn Sn ± Cu ± Mo',\n",
       "       'Irish-type sediment-hosted Zn-Pb', 'MVT Zn-Pb',\n",
       "       'Mafic-ultramafic VMS', 'Orogenic Cu ± Au',\n",
       "       'Mafic-siliciclastic VMS', 'Skarn Zn-Pb-Ag', 'Bimodal-felsic VMS',\n",
       "       'Mesozonal orogenic Au', 'Unconformity-related U',\n",
       "       'Replacement Cu', 'Vein Sn', 'Epizonal orogenic Sb ± Au',\n",
       "       'Porphyry Cu-Mo', 'Porphyry Cu ± Au', 'Felsic-siliciclastic VMS',\n",
       "       'Hematite-dominant IOCG', 'Sediment-hosted Cu ± Co',\n",
       "       'Algoma-type banded iron formation', 'NYF pegmatite',\n",
       "       'Volcanogenic massive sulfide (VMS)', 'Iron oxide Au',\n",
       "       'Orogenic Ag-Pb-Zn-Cu-Sb', 'unknown', 'Vein five-element',\n",
       "       'Siliciclastic-mafic Zn-Pb', 'Siliciclastic-carbonate Zn-Pb',\n",
       "       'Vein polymetallic', 'Hypozonal orogenic Au', 'Breccia pipe Au',\n",
       "       'Skarn Cu', 'Vein Cu', 'Siliciclastic-mafic barite',\n",
       "       'Komatiite Ni-Cu-PGE', 'MVT barite', 'Ophiolite Ni-Cu-PGE',\n",
       "       'U-M layered intrusion Ni-Cu-PGE', 'Pegmatite',\n",
       "       'Arc U-M intrusion Ni-Cu-PGE', 'Replacement polymetallic',\n",
       "       'U-M intrusion Ni-Cu-PGE', 'LCT pegmatite',\n",
       "       'Oxidized intrusion-related Au', 'Breccia pipe Cu',\n",
       "       'Sandstone-hosted Zn-Pb', 'Magnetite-dominant IOCG',\n",
       "       'Paleoplacer Au ± U', 'Iron silicate polymetallic',\n",
       "       'U-M layered intrusion Cr', 'HS epithermal Ag-Au ± Cu',\n",
       "       'Superior-type banded iron formation', 'Magnetite-dominant IOA',\n",
       "       'Vein ± replacement Ni', 'Epizonal orogenic Au',\n",
       "       'Climax-type porphyry Mo', 'U-M conduit Ni-Cu-PGE',\n",
       "       'Greisen Sn ± W, Mo', 'Albitite-hosted U', 'Kimberlite diamond',\n",
       "       'Iron sulfide polymetallic', 'Skarn Au ± Cu ± W',\n",
       "       'U-M layered intrusion Fe-Ti-V', 'Peralkaline igneous HFSE-REE',\n",
       "       'Porphyry Sn', 'Oolitic iron formation', 'Skarn U-REE', 'Vein W',\n",
       "       'Sedimentary Mn', 'Carbonatite laterite REE',\n",
       "       'U-M layered intrusion PGE', 'Apatite intrusion REE',\n",
       "       'Laterite Ni', 'Phosphorite', 'Paleoplacer heavy mineral sands',\n",
       "       'Iron oxide U', 'Carlin-type Au',\n",
       "       'IS epithermal Ag-Au ± Zn, Pb, Cu, Sn, Mn', 'Skarn W ± Mo',\n",
       "       'Non-sulfide Zn-Pb ± Mn', 'Greisen W-Mo ± Bi',\n",
       "       'Alkalic epithermal Au ± Ag', 'Anorthosite conduit Ni-Cu-PGE',\n",
       "       'Replacement Sn', 'Skarn Fe', 'Ophiolite Cr',\n",
       "       'Hematite-dominant IOA', 'Porphyry Au ± Cu',\n",
       "       'Kipushi-type sediment-hosted Cu-Zn-Pb',\n",
       "       'Distal-disseminated Ag-Au', 'Replacement Zn-Pb',\n",
       "       'Low-F porphyry Mo', 'Iron oxide polymetallic', 'Supergene Cu',\n",
       "       'Black shale V ± Mo ± Ni', 'Carbonatite REE'], dtype=object)"
      ]
     },
     "execution_count": 5,
     "metadata": {},
     "output_type": "execute_result"
    }
   ],
   "source": [
    "df.deposit_type.unique()\n"
   ]
  },
  {
   "cell_type": "code",
   "execution_count": 6,
   "metadata": {},
   "outputs": [],
   "source": [
    "VHMS = 'Volcanogenic massive sulfide (VMS)'"
   ]
  },
  {
   "cell_type": "code",
   "execution_count": null,
   "metadata": {},
   "outputs": [],
   "source": []
  },
  {
   "cell_type": "code",
   "execution_count": 7,
   "metadata": {},
   "outputs": [],
   "source": [
    "df_vhms = df[df['deposit_group'] == VHMS]"
   ]
  },
  {
   "cell_type": "code",
   "execution_count": 8,
   "metadata": {},
   "outputs": [
    {
     "data": {
      "text/plain": [
       "(2886, 340)"
      ]
     },
     "execution_count": 8,
     "metadata": {},
     "output_type": "execute_result"
    }
   ],
   "source": [
    "df_vhms.shape"
   ]
  },
  {
   "cell_type": "code",
   "execution_count": 9,
   "metadata": {},
   "outputs": [
    {
     "data": {
      "text/plain": [
       "f_ppm        2876\n",
       "fe_ppm       2648\n",
       "ga_ppm        680\n",
       "gd_ppm        818\n",
       "ge_ppm       2635\n",
       "hf_ppm       1176\n",
       "ho_ppm       1157\n",
       "in_ppm       2648\n",
       "ir_ppm       2884\n",
       "k_ppm        2648\n",
       "la_ppm        820\n",
       "li_ppm       2585\n",
       "lu_ppm       1319\n",
       "mg_ppm       2648\n",
       "mn_ppm       2644\n",
       "mo_ppm        805\n",
       "na_ppm       2754\n",
       "nb_ppm        722\n",
       "nd_ppm        711\n",
       "ni_ppm       1594\n",
       "p_ppm        2648\n",
       "pb_ppm        658\n",
       "pr_ppm        832\n",
       "rb_ppm        737\n",
       "s_ppm        2639\n",
       "sb_ppm       1268\n",
       "sc_ppm       1301\n",
       "se_ppm       1555\n",
       "si_ppm       2840\n",
       "sm_ppm        537\n",
       "sn_ppm        654\n",
       "sr_ppm       2090\n",
       "ta_ppm       1922\n",
       "tb_ppm       1174\n",
       "te_ppm       1516\n",
       "th_ppm        979\n",
       "ti_ppm       2648\n",
       "tl_ppm        877\n",
       "tm_ppm       1434\n",
       "u_ppm         905\n",
       "v_ppm        1892\n",
       "w_ppm        2588\n",
       "y_ppm         662\n",
       "yb_ppm       1018\n",
       "zn_ppm        282\n",
       "zr_ppm        893\n",
       "lree_ppm     2691\n",
       "hree_ppm     2750\n",
       "ree_ppm      2691\n",
       "ree_y_ppm    2685\n",
       "dtype: int64"
      ]
     },
     "execution_count": 9,
     "metadata": {},
     "output_type": "execute_result"
    }
   ],
   "source": [
    "df_vhms.filter(like='ppm').isna().sum()[-50:]"
   ]
  },
  {
   "cell_type": "code",
   "execution_count": 11,
   "metadata": {},
   "outputs": [
    {
     "data": {
      "text/plain": [
       "zn_ppm     282\n",
       "cu_ppm     634\n",
       "pb_ppm     658\n",
       "ge_ppm    2635\n",
       "dtype: int64"
      ]
     },
     "execution_count": 11,
     "metadata": {},
     "output_type": "execute_result"
    }
   ],
   "source": [
    "common_minerals = ['zn_ppm', 'cu_ppm', 'pb_ppm', 'ge_ppm']\n",
    "\n",
    "df_vhms[common_minerals].isna().sum()"
   ]
  },
  {
   "cell_type": "code",
   "execution_count": null,
   "metadata": {},
   "outputs": [],
   "source": [
    "2636 / df_vhms.shape[0]"
   ]
  },
  {
   "cell_type": "code",
   "execution_count": null,
   "metadata": {},
   "outputs": [],
   "source": [
    "df_vhms[~df_vhms['ge_ppm'].isna()].to_csv('../data/cmog_has_germanium.csv')"
   ]
  },
  {
   "cell_type": "code",
   "execution_count": null,
   "metadata": {},
   "outputs": [],
   "source": [
    "df_vhms.columns.str.contains('wt_percent')"
   ]
  },
  {
   "cell_type": "code",
   "execution_count": null,
   "metadata": {},
   "outputs": [],
   "source": []
  }
 ],
 "metadata": {
  "kernelspec": {
   "display_name": "Python 3 (ipykernel)",
   "language": "python",
   "name": "python3"
  },
  "language_info": {
   "codemirror_mode": {
    "name": "ipython",
    "version": 3
   },
   "file_extension": ".py",
   "mimetype": "text/x-python",
   "name": "python",
   "nbconvert_exporter": "python",
   "pygments_lexer": "ipython3",
   "version": "3.9.6"
  }
 },
 "nbformat": 4,
 "nbformat_minor": 4
}
