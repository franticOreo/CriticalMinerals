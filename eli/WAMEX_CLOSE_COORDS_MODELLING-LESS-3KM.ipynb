{
 "cells": [
  {
   "cell_type": "code",
   "execution_count": 114,
   "id": "c0341b24",
   "metadata": {},
   "outputs": [],
   "source": [
    "import pandas as pd\n",
    "import pickle\n",
    "from sklearn.metrics import mean_squared_error\n",
    "from sklearn.model_selection import train_test_split\n",
    "from sklearn.linear_model import LinearRegression\n",
    "from sklearn.ensemble import RandomForestRegressor"
   ]
  },
  {
   "cell_type": "code",
   "execution_count": 115,
   "id": "4ad0aabb",
   "metadata": {},
   "outputs": [],
   "source": [
    "# file containing indexs of close (< 100km) row indexes from WAMEX from .SHP file containing Nickel Drillhold deposits\n",
    "# NOTE: rows are repeated!\n",
    "with open('../eli/wamex_close_coords_to_shp_minedex_terminatedafter12hrs.pickle', 'rb') as file:\n",
    "    close_coords_indicies = pickle.load(file)"
   ]
  },
  {
   "cell_type": "markdown",
   "id": "de2070b5",
   "metadata": {},
   "source": [
    "### Subset of Close Coords"
   ]
  },
  {
   "cell_type": "code",
   "execution_count": 116,
   "id": "bc030c77",
   "metadata": {},
   "outputs": [
    {
     "name": "stdout",
     "output_type": "stream",
     "text": [
      "\n",
      " Sample: [131072, 131073, 131084, 131085, 131086, 131087, 131088, 131089, 131090, 131091] \n",
      "\n",
      " Length: 75628\n"
     ]
    }
   ],
   "source": [
    "# repeats indexes so set to find unique row indexs\n",
    "close_coords_indicies = list(set(close_coords_indicies))\n",
    "print(f\"\\n Sample: {close_coords_indicies[:10]} \\n\\n Length: {len(close_coords_indicies)}\")"
   ]
  },
  {
   "cell_type": "markdown",
   "id": "e085bec2",
   "metadata": {},
   "source": [
    "### WAMEX data\n",
    "\n",
    " ·      Cobalt associated with nickel (and copper) in so-called orthomagmatic (igneous) mafic to ultramafic volcanic (komatiite)-hosted and intrusion-hosted deposits\n",
    " \n",
    " \n",
    " Cobalt is a chemical element with the symbol Co and atomic number 27. Like nickel, cobalt is found in the Earth's crust only in a chemically combined form, save for small deposits found in alloys of natural meteoric iron. The free element, produced by reductive smelting, is a hard, lustrous, silver-gray metal. Wikipedia\n",
    "Symbol: Co <br>\n",
    "Electron configuration: [Ar] 3d74s2 <br>\n",
    "Atomic number: 27 <br>\n",
    "Atomic mass: 58.933195 u <br>\n",
    "Melting point: 1,495 °C <br>\n",
    "Discovered: 1735 <br>\n",
    "Discoverer: Georg Brandt <br>"
   ]
  },
  {
   "cell_type": "code",
   "execution_count": 117,
   "id": "f9faf868",
   "metadata": {},
   "outputs": [
    {
     "name": "stderr",
     "output_type": "stream",
     "text": [
      "C:\\Users\\elisi\\Miniconda3\\envs\\minerals\\lib\\site-packages\\IPython\\core\\interactiveshell.py:3441: DtypeWarning: Columns (18) have mixed types.Specify dtype option on import or set low_memory=False.\n",
      "  exec(code_obj, self.user_global_ns, self.user_ns)\n"
     ]
    },
    {
     "data": {
      "text/html": [
       "<div>\n",
       "<style scoped>\n",
       "    .dataframe tbody tr th:only-of-type {\n",
       "        vertical-align: middle;\n",
       "    }\n",
       "\n",
       "    .dataframe tbody tr th {\n",
       "        vertical-align: top;\n",
       "    }\n",
       "\n",
       "    .dataframe thead th {\n",
       "        text-align: right;\n",
       "    }\n",
       "</style>\n",
       "<table border=\"1\" class=\"dataframe\">\n",
       "  <thead>\n",
       "    <tr style=\"text-align: right;\">\n",
       "      <th></th>\n",
       "      <th>OBJECTID</th>\n",
       "      <th>DATASET</th>\n",
       "      <th>SAMPLEID</th>\n",
       "      <th>GSWANO</th>\n",
       "      <th>EXTRACT_DA</th>\n",
       "      <th>BATCH_NO</th>\n",
       "      <th>QMAPID</th>\n",
       "      <th>DLAT</th>\n",
       "      <th>DLONG</th>\n",
       "      <th>EASTING</th>\n",
       "      <th>...</th>\n",
       "      <th>W_ppm</th>\n",
       "      <th>WO3_ppm</th>\n",
       "      <th>Y_ppm</th>\n",
       "      <th>Y2O3_ppm</th>\n",
       "      <th>Yb_ppm</th>\n",
       "      <th>Yb2O3_ppm</th>\n",
       "      <th>Zn_ppm</th>\n",
       "      <th>ZnO_ppm</th>\n",
       "      <th>Zr_ppm</th>\n",
       "      <th>ZrO2_ppm</th>\n",
       "    </tr>\n",
       "  </thead>\n",
       "  <tbody>\n",
       "    <tr>\n",
       "      <th>0</th>\n",
       "      <td>1</td>\n",
       "      <td>NaN</td>\n",
       "      <td>229866</td>\n",
       "      <td>NaN</td>\n",
       "      <td>NaN</td>\n",
       "      <td>NaN</td>\n",
       "      <td>NaN</td>\n",
       "      <td>-34.048839</td>\n",
       "      <td>118.176663</td>\n",
       "      <td>NaN</td>\n",
       "      <td>...</td>\n",
       "      <td>-9999.0</td>\n",
       "      <td>-9999.0</td>\n",
       "      <td>-9999.0</td>\n",
       "      <td>-9999.0</td>\n",
       "      <td>-9999.0</td>\n",
       "      <td>-9999.0</td>\n",
       "      <td>-9999.0</td>\n",
       "      <td>-9999.0</td>\n",
       "      <td>-9999.0</td>\n",
       "      <td>-9999.0</td>\n",
       "    </tr>\n",
       "    <tr>\n",
       "      <th>1</th>\n",
       "      <td>2</td>\n",
       "      <td>NaN</td>\n",
       "      <td>229867</td>\n",
       "      <td>NaN</td>\n",
       "      <td>NaN</td>\n",
       "      <td>NaN</td>\n",
       "      <td>NaN</td>\n",
       "      <td>-34.048839</td>\n",
       "      <td>118.176663</td>\n",
       "      <td>NaN</td>\n",
       "      <td>...</td>\n",
       "      <td>-9999.0</td>\n",
       "      <td>-9999.0</td>\n",
       "      <td>-9999.0</td>\n",
       "      <td>-9999.0</td>\n",
       "      <td>-9999.0</td>\n",
       "      <td>-9999.0</td>\n",
       "      <td>-9999.0</td>\n",
       "      <td>-9999.0</td>\n",
       "      <td>-9999.0</td>\n",
       "      <td>-9999.0</td>\n",
       "    </tr>\n",
       "  </tbody>\n",
       "</table>\n",
       "<p>2 rows × 143 columns</p>\n",
       "</div>"
      ],
      "text/plain": [
       "   OBJECTID  DATASET  SAMPLEID  GSWANO  EXTRACT_DA  BATCH_NO  QMAPID  \\\n",
       "0         1      NaN    229866     NaN         NaN       NaN     NaN   \n",
       "1         2      NaN    229867     NaN         NaN       NaN     NaN   \n",
       "\n",
       "        DLAT       DLONG  EASTING  ...   W_ppm  WO3_ppm   Y_ppm  Y2O3_ppm  \\\n",
       "0 -34.048839  118.176663      NaN  ... -9999.0  -9999.0 -9999.0   -9999.0   \n",
       "1 -34.048839  118.176663      NaN  ... -9999.0  -9999.0 -9999.0   -9999.0   \n",
       "\n",
       "   Yb_ppm  Yb2O3_ppm  Zn_ppm  ZnO_ppm  Zr_ppm  ZrO2_ppm  \n",
       "0 -9999.0    -9999.0 -9999.0  -9999.0 -9999.0   -9999.0  \n",
       "1 -9999.0    -9999.0 -9999.0  -9999.0 -9999.0   -9999.0  \n",
       "\n",
       "[2 rows x 143 columns]"
      ]
     },
     "execution_count": 117,
     "metadata": {},
     "output_type": "execute_result"
    }
   ],
   "source": [
    "df_wamex_rc = pd.read_csv('../data/wamex/WAMEX_1_Rockchip_Original.csv')\n",
    "df_wamex_rc.head(2)"
   ]
  },
  {
   "cell_type": "code",
   "execution_count": 118,
   "id": "aa447712",
   "metadata": {},
   "outputs": [
    {
     "data": {
      "text/plain": [
       "(75628, 143)"
      ]
     },
     "execution_count": 118,
     "metadata": {},
     "output_type": "execute_result"
    }
   ],
   "source": [
    "df_wamex_rc = df_wamex_rc.iloc[close_coords_indicies,:]\n",
    "df_wamex_rc.shape"
   ]
  },
  {
   "cell_type": "markdown",
   "id": "9ce772ba",
   "metadata": {},
   "source": [
    "### Nickel, Copper and Cobalt Interactions"
   ]
  },
  {
   "cell_type": "markdown",
   "id": "73d66425",
   "metadata": {},
   "source": [
    "['Cobalt', 'Magnesium oxide', 'Iron', 'Sulfur', 'Copper', 'Nickel',\n",
    "        'Iron - ferric oxide', 'Palladium', 'Platinum', 'Gold', 'Silver']"
   ]
  },
  {
   "cell_type": "code",
   "execution_count": 119,
   "id": "14611f05",
   "metadata": {},
   "outputs": [],
   "source": [
    "# most common pair in MINEDEX data.\n",
    "abdundant_minerals = ['Copper', 'Nickel', 'Iron', 'Sulfur', 'Palladium',\n",
    "                      'Platinum', 'Gold', 'Silver']\n",
    "critical_mineral = ['Cobalt']\n",
    "\n",
    "full_to_atomic = {\n",
    "    \"Copper\": \"Cu\",\n",
    "    \"Cobalt\": \"Co\",\n",
    "    \"Nickel\": \"Ni\",\n",
    "    \"Iron\": \"Fe\",\n",
    "    \"Sulfur\": \"S_pct\", # added on\n",
    "    \"Palladium\": \"Pd_ppb\", # added on\n",
    "    \"Platinum\": \"Pt_ppb\", # added on\n",
    "    \"Gold\": \"Au\",\n",
    "    \"Silver\": \"Ag\"\n",
    "}\n"
   ]
  },
  {
   "cell_type": "code",
   "execution_count": 120,
   "id": "52a4c5ca",
   "metadata": {},
   "outputs": [],
   "source": [
    "new_cols = []\n",
    "for col in df_wamex_rc.columns: \n",
    "    if \"ppm\" in col:\n",
    "        new_cols.append(col.split('_')[0])\n",
    "    else:\n",
    "        new_cols.append(col)\n",
    "\n",
    "df_wamex_rc.columns = new_cols"
   ]
  },
  {
   "cell_type": "code",
   "execution_count": 121,
   "id": "2d7f2b67",
   "metadata": {},
   "outputs": [
    {
     "data": {
      "text/plain": [
       "['Cu', 'Ni', 'Fe', 'S_pct', 'Pd_ppb', 'Pt_ppb', 'Au', 'Ag', 'Co']"
      ]
     },
     "execution_count": 121,
     "metadata": {},
     "output_type": "execute_result"
    }
   ],
   "source": [
    "minerals = abdundant_minerals + critical_mineral\n",
    "\n",
    "minerals_atomic = [full_to_atomic[mineral] for mineral in minerals]\n",
    "minerals_atomic"
   ]
  },
  {
   "cell_type": "code",
   "execution_count": 122,
   "id": "b51ce4e9",
   "metadata": {},
   "outputs": [],
   "source": [
    "input_cols = ['DLAT', 'DLONG'] + minerals_atomic"
   ]
  },
  {
   "cell_type": "code",
   "execution_count": 123,
   "id": "56177114",
   "metadata": {},
   "outputs": [
    {
     "data": {
      "text/html": [
       "<div>\n",
       "<style scoped>\n",
       "    .dataframe tbody tr th:only-of-type {\n",
       "        vertical-align: middle;\n",
       "    }\n",
       "\n",
       "    .dataframe tbody tr th {\n",
       "        vertical-align: top;\n",
       "    }\n",
       "\n",
       "    .dataframe thead th {\n",
       "        text-align: right;\n",
       "    }\n",
       "</style>\n",
       "<table border=\"1\" class=\"dataframe\">\n",
       "  <thead>\n",
       "    <tr style=\"text-align: right;\">\n",
       "      <th></th>\n",
       "      <th>DLAT</th>\n",
       "      <th>DLONG</th>\n",
       "      <th>Cu</th>\n",
       "      <th>Ni</th>\n",
       "      <th>Fe</th>\n",
       "      <th>S_pct</th>\n",
       "      <th>Pd_ppb</th>\n",
       "      <th>Pt_ppb</th>\n",
       "      <th>Au</th>\n",
       "      <th>Ag</th>\n",
       "      <th>Co</th>\n",
       "    </tr>\n",
       "  </thead>\n",
       "  <tbody>\n",
       "    <tr>\n",
       "      <th>131072</th>\n",
       "      <td>-30.704511</td>\n",
       "      <td>121.551388</td>\n",
       "      <td>200.0</td>\n",
       "      <td>1347.0</td>\n",
       "      <td>-9999.0</td>\n",
       "      <td>-9999.0</td>\n",
       "      <td>-9999.0</td>\n",
       "      <td>8.0</td>\n",
       "      <td>0.003</td>\n",
       "      <td>-9999.0</td>\n",
       "      <td>65.0</td>\n",
       "    </tr>\n",
       "    <tr>\n",
       "      <th>131073</th>\n",
       "      <td>-30.707096</td>\n",
       "      <td>121.546128</td>\n",
       "      <td>160.0</td>\n",
       "      <td>642.0</td>\n",
       "      <td>-9999.0</td>\n",
       "      <td>-9999.0</td>\n",
       "      <td>-9999.0</td>\n",
       "      <td>-9999.0</td>\n",
       "      <td>0.104</td>\n",
       "      <td>0.2</td>\n",
       "      <td>47.0</td>\n",
       "    </tr>\n",
       "    <tr>\n",
       "      <th>131084</th>\n",
       "      <td>-31.768529</td>\n",
       "      <td>119.601723</td>\n",
       "      <td>172.0</td>\n",
       "      <td>19.0</td>\n",
       "      <td>-9999.0</td>\n",
       "      <td>-9999.0</td>\n",
       "      <td>-9999.0</td>\n",
       "      <td>-9999.0</td>\n",
       "      <td>0.460</td>\n",
       "      <td>-9999.0</td>\n",
       "      <td>-9999.0</td>\n",
       "    </tr>\n",
       "    <tr>\n",
       "      <th>131085</th>\n",
       "      <td>-31.768086</td>\n",
       "      <td>119.601774</td>\n",
       "      <td>117.0</td>\n",
       "      <td>26.0</td>\n",
       "      <td>-9999.0</td>\n",
       "      <td>-9999.0</td>\n",
       "      <td>-9999.0</td>\n",
       "      <td>-9999.0</td>\n",
       "      <td>0.070</td>\n",
       "      <td>-9999.0</td>\n",
       "      <td>-9999.0</td>\n",
       "    </tr>\n",
       "    <tr>\n",
       "      <th>131086</th>\n",
       "      <td>-31.764900</td>\n",
       "      <td>119.600154</td>\n",
       "      <td>52.0</td>\n",
       "      <td>10.0</td>\n",
       "      <td>-9999.0</td>\n",
       "      <td>-9999.0</td>\n",
       "      <td>-9999.0</td>\n",
       "      <td>-9999.0</td>\n",
       "      <td>0.460</td>\n",
       "      <td>-9999.0</td>\n",
       "      <td>-9999.0</td>\n",
       "    </tr>\n",
       "  </tbody>\n",
       "</table>\n",
       "</div>"
      ],
      "text/plain": [
       "             DLAT       DLONG     Cu      Ni      Fe   S_pct  Pd_ppb  Pt_ppb  \\\n",
       "131072 -30.704511  121.551388  200.0  1347.0 -9999.0 -9999.0 -9999.0     8.0   \n",
       "131073 -30.707096  121.546128  160.0   642.0 -9999.0 -9999.0 -9999.0 -9999.0   \n",
       "131084 -31.768529  119.601723  172.0    19.0 -9999.0 -9999.0 -9999.0 -9999.0   \n",
       "131085 -31.768086  119.601774  117.0    26.0 -9999.0 -9999.0 -9999.0 -9999.0   \n",
       "131086 -31.764900  119.600154   52.0    10.0 -9999.0 -9999.0 -9999.0 -9999.0   \n",
       "\n",
       "           Au      Ag      Co  \n",
       "131072  0.003 -9999.0    65.0  \n",
       "131073  0.104     0.2    47.0  \n",
       "131084  0.460 -9999.0 -9999.0  \n",
       "131085  0.070 -9999.0 -9999.0  \n",
       "131086  0.460 -9999.0 -9999.0  "
      ]
     },
     "execution_count": 123,
     "metadata": {},
     "output_type": "execute_result"
    }
   ],
   "source": [
    "df = df_wamex_rc[input_cols]\n",
    "df.head(5)"
   ]
  },
  {
   "cell_type": "code",
   "execution_count": 124,
   "id": "c1948347",
   "metadata": {},
   "outputs": [],
   "source": [
    "def replace_neg9999(val):\n",
    "    if val == -9999: \n",
    "        return 0\n",
    "    else:\n",
    "        return val\n",
    "    \n",
    "    \n",
    "def abs_halve_neg_val(val):\n",
    "#     print(val)\n",
    "    if val < 0: \n",
    "        return abs(val) / 2\n",
    "    else: \n",
    "        return val\n",
    "\n",
    "df = df.applymap(replace_neg9999)\n",
    "df = df.applymap(abs_halve_neg_val)\n",
    "\n",
    "indexs_6666 = df[df.values == -6666].index\n",
    "df = df.drop(index=indexs_6666)\n",
    "\n",
    "indexs_0 = df[df.values == 0].index\n",
    "df = df.drop(index=indexs_0)"
   ]
  },
  {
   "cell_type": "code",
   "execution_count": 125,
   "id": "e58f635b",
   "metadata": {},
   "outputs": [
    {
     "data": {
      "text/html": [
       "<div>\n",
       "<style scoped>\n",
       "    .dataframe tbody tr th:only-of-type {\n",
       "        vertical-align: middle;\n",
       "    }\n",
       "\n",
       "    .dataframe tbody tr th {\n",
       "        vertical-align: top;\n",
       "    }\n",
       "\n",
       "    .dataframe thead th {\n",
       "        text-align: right;\n",
       "    }\n",
       "</style>\n",
       "<table border=\"1\" class=\"dataframe\">\n",
       "  <thead>\n",
       "    <tr style=\"text-align: right;\">\n",
       "      <th></th>\n",
       "      <th>DLAT</th>\n",
       "      <th>DLONG</th>\n",
       "      <th>Cu</th>\n",
       "      <th>Ni</th>\n",
       "      <th>Fe</th>\n",
       "      <th>S_pct</th>\n",
       "      <th>Pd_ppb</th>\n",
       "      <th>Pt_ppb</th>\n",
       "      <th>Au</th>\n",
       "      <th>Ag</th>\n",
       "      <th>Co</th>\n",
       "    </tr>\n",
       "  </thead>\n",
       "  <tbody>\n",
       "    <tr>\n",
       "      <th>872</th>\n",
       "      <td>15.133076</td>\n",
       "      <td>121.233643</td>\n",
       "      <td>17.0</td>\n",
       "      <td>74.0</td>\n",
       "      <td>2659.9998</td>\n",
       "      <td>0.005</td>\n",
       "      <td>0.5</td>\n",
       "      <td>2.5</td>\n",
       "      <td>0.0005</td>\n",
       "      <td>0.5</td>\n",
       "      <td>12.0</td>\n",
       "    </tr>\n",
       "    <tr>\n",
       "      <th>873</th>\n",
       "      <td>15.126450</td>\n",
       "      <td>121.225794</td>\n",
       "      <td>25.0</td>\n",
       "      <td>82.0</td>\n",
       "      <td>3010.0000</td>\n",
       "      <td>0.005</td>\n",
       "      <td>0.5</td>\n",
       "      <td>2.5</td>\n",
       "      <td>0.0005</td>\n",
       "      <td>0.5</td>\n",
       "      <td>12.0</td>\n",
       "    </tr>\n",
       "  </tbody>\n",
       "</table>\n",
       "</div>"
      ],
      "text/plain": [
       "          DLAT       DLONG    Cu    Ni         Fe  S_pct  Pd_ppb  Pt_ppb  \\\n",
       "872  15.133076  121.233643  17.0  74.0  2659.9998  0.005     0.5     2.5   \n",
       "873  15.126450  121.225794  25.0  82.0  3010.0000  0.005     0.5     2.5   \n",
       "\n",
       "         Au   Ag    Co  \n",
       "872  0.0005  0.5  12.0  \n",
       "873  0.0005  0.5  12.0  "
      ]
     },
     "execution_count": 125,
     "metadata": {},
     "output_type": "execute_result"
    }
   ],
   "source": [
    "df.head(2)"
   ]
  },
  {
   "cell_type": "code",
   "execution_count": 135,
   "id": "0c16294c",
   "metadata": {},
   "outputs": [
    {
     "data": {
      "text/plain": [
       "count    1.478000e+03\n",
       "mean     1.871634e+04\n",
       "std      5.494106e+04\n",
       "min      1.585250e+01\n",
       "25%      1.550031e+03\n",
       "50%      8.032188e+03\n",
       "75%      2.881795e+04\n",
       "max      1.018122e+06\n",
       "dtype: float64"
      ]
     },
     "execution_count": 135,
     "metadata": {},
     "output_type": "execute_result"
    }
   ],
   "source": [
    "df[minerals_atomic].sum(axis=1).plot"
   ]
  },
  {
   "cell_type": "code",
   "execution_count": 145,
   "id": "b55fac4e",
   "metadata": {},
   "outputs": [
    {
     "data": {
      "text/plain": [
       "872        2766.5053\n",
       "873        3132.5055\n",
       "874        3021.5060\n",
       "875       12671.1210\n",
       "263388    67624.7800\n",
       "             ...    \n",
       "261235     5953.0110\n",
       "261236     7449.8105\n",
       "25943      7928.0630\n",
       "25944      6542.0326\n",
       "25945      6435.0360\n",
       "Length: 1478, dtype: float64"
      ]
     },
     "execution_count": 145,
     "metadata": {},
     "output_type": "execute_result"
    }
   ],
   "source": [
    "df[minerals_atomic].sum(axis=1)"
   ]
  },
  {
   "cell_type": "code",
   "execution_count": 154,
   "id": "f4dd44df",
   "metadata": {},
   "outputs": [],
   "source": [
    "# remove really large assay sums, e.g over 10,000 in total\n",
    "df = df[df[minerals_atomic].sum(axis=1) < 1e4]"
   ]
  },
  {
   "cell_type": "code",
   "execution_count": 156,
   "id": "587d8985",
   "metadata": {},
   "outputs": [
    {
     "data": {
      "text/plain": [
       "<AxesSubplot:ylabel='Frequency'>"
      ]
     },
     "execution_count": 156,
     "metadata": {},
     "output_type": "execute_result"
    },
    {
     "data": {
      "image/png": "[encoded data removed]",
      "text/plain": [
       "<Figure size 432x288 with 1 Axes>"
      ]
     },
     "metadata": {
      "needs_background": "light"
     },
     "output_type": "display_data"
    }
   ],
   "source": [
    "np.log(df['Co']).plot(kind='hist')"
   ]
  },
  {
   "cell_type": "code",
   "execution_count": 157,
   "id": "0bca4275",
   "metadata": {},
   "outputs": [
    {
     "data": {
      "text/plain": [
       "<AxesSubplot:ylabel='Frequency'>"
      ]
     },
     "execution_count": 157,
     "metadata": {},
     "output_type": "execute_result"
    },
    {
     "data": {
      "image/png": "[encoded data removed]",
      "text/plain": [
       "<Figure size 432x288 with 1 Axes>"
      ]
     },
     "metadata": {
      "needs_background": "light"
     },
     "output_type": "display_data"
    }
   ],
   "source": [
    "np.log(df['Ni']).plot(kind='hist')"
   ]
  },
  {
   "cell_type": "code",
   "execution_count": 160,
   "id": "49255751",
   "metadata": {},
   "outputs": [
    {
     "data": {
      "text/plain": [
       "<AxesSubplot:ylabel='Frequency'>"
      ]
     },
     "execution_count": 160,
     "metadata": {},
     "output_type": "execute_result"
    },
    {
     "data": {
      "image/png": "[encoded data removed]",
      "text/plain": [
       "<Figure size 432x288 with 1 Axes>"
      ]
     },
     "metadata": {
      "needs_background": "light"
     },
     "output_type": "display_data"
    }
   ],
   "source": [
    "df['Fe'].plot(kind='hist')"
   ]
  },
  {
   "cell_type": "code",
   "execution_count": 161,
   "id": "7dbf5263",
   "metadata": {},
   "outputs": [
    {
     "data": {
      "text/plain": [
       "<AxesSubplot:ylabel='Frequency'>"
      ]
     },
     "execution_count": 161,
     "metadata": {},
     "output_type": "execute_result"
    },
    {
     "data": {
      "image/png": "[encoded data removed]",
      "text/plain": [
       "<Figure size 432x288 with 1 Axes>"
      ]
     },
     "metadata": {
      "needs_background": "light"
     },
     "output_type": "display_data"
    }
   ],
   "source": [
    "np.log(df['Au']).plot(kind='hist')"
   ]
  },
  {
   "cell_type": "markdown",
   "id": "d845acce",
   "metadata": {},
   "source": [
    "### Independent Variables"
   ]
  },
  {
   "cell_type": "markdown",
   "id": "46f7ec59",
   "metadata": {},
   "source": [
    "#### Log transform of Minerals"
   ]
  },
  {
   "cell_type": "code",
   "execution_count": 163,
   "id": "4a6fbc17",
   "metadata": {},
   "outputs": [
    {
     "name": "stderr",
     "output_type": "stream",
     "text": [
      "C:\\Users\\elisi\\Miniconda3\\envs\\minerals\\lib\\site-packages\\pandas\\core\\frame.py:3636: SettingWithCopyWarning: \n",
      "A value is trying to be set on a copy of a slice from a DataFrame.\n",
      "Try using .loc[row_indexer,col_indexer] = value instead\n",
      "\n",
      "See the caveats in the documentation: https://pandas.pydata.org/pandas-docs/stable/user_guide/indexing.html#returning-a-view-versus-a-copy\n",
      "  self[k1] = value[k2]\n"
     ]
    }
   ],
   "source": [
    "\n",
    "df[minerals_atomic] = df[minerals_atomic].apply(np.log, axis=1)"
   ]
  },
  {
   "cell_type": "code",
   "execution_count": 178,
   "id": "5e8c3fea",
   "metadata": {},
   "outputs": [],
   "source": [
    "# from sklearn.preprocessing import StandardScaler"
   ]
  },
  {
   "cell_type": "code",
   "execution_count": 177,
   "id": "bd36ed2c",
   "metadata": {},
   "outputs": [],
   "source": [
    "# df[minerals_atomic][:100].plot()"
   ]
  },
  {
   "cell_type": "code",
   "execution_count": 165,
   "id": "19982b89",
   "metadata": {},
   "outputs": [
    {
     "data": {
      "text/html": [
       "<div>\n",
       "<style scoped>\n",
       "    .dataframe tbody tr th:only-of-type {\n",
       "        vertical-align: middle;\n",
       "    }\n",
       "\n",
       "    .dataframe tbody tr th {\n",
       "        vertical-align: top;\n",
       "    }\n",
       "\n",
       "    .dataframe thead th {\n",
       "        text-align: right;\n",
       "    }\n",
       "</style>\n",
       "<table border=\"1\" class=\"dataframe\">\n",
       "  <thead>\n",
       "    <tr style=\"text-align: right;\">\n",
       "      <th></th>\n",
       "      <th>DLAT</th>\n",
       "      <th>DLONG</th>\n",
       "      <th>Cu</th>\n",
       "      <th>Ni</th>\n",
       "      <th>Fe</th>\n",
       "      <th>S_pct</th>\n",
       "      <th>Pd_ppb</th>\n",
       "      <th>Pt_ppb</th>\n",
       "      <th>Au</th>\n",
       "      <th>Ag</th>\n",
       "      <th>Co</th>\n",
       "    </tr>\n",
       "  </thead>\n",
       "  <tbody>\n",
       "    <tr>\n",
       "      <th>0</th>\n",
       "      <td>15.133076</td>\n",
       "      <td>121.233643</td>\n",
       "      <td>2.833213</td>\n",
       "      <td>4.304065</td>\n",
       "      <td>7.886081</td>\n",
       "      <td>-5.298317</td>\n",
       "      <td>-0.693147</td>\n",
       "      <td>0.916291</td>\n",
       "      <td>-7.600902</td>\n",
       "      <td>-0.693147</td>\n",
       "      <td>2.484907</td>\n",
       "    </tr>\n",
       "    <tr>\n",
       "      <th>1</th>\n",
       "      <td>15.126450</td>\n",
       "      <td>121.225794</td>\n",
       "      <td>3.218876</td>\n",
       "      <td>4.406719</td>\n",
       "      <td>8.009695</td>\n",
       "      <td>-5.298317</td>\n",
       "      <td>-0.693147</td>\n",
       "      <td>0.916291</td>\n",
       "      <td>-7.600902</td>\n",
       "      <td>-0.693147</td>\n",
       "      <td>2.484907</td>\n",
       "    </tr>\n",
       "    <tr>\n",
       "      <th>2</th>\n",
       "      <td>15.126005</td>\n",
       "      <td>121.226694</td>\n",
       "      <td>2.890372</td>\n",
       "      <td>4.700480</td>\n",
       "      <td>7.962067</td>\n",
       "      <td>-5.298317</td>\n",
       "      <td>-0.693147</td>\n",
       "      <td>0.916291</td>\n",
       "      <td>-6.907755</td>\n",
       "      <td>-0.693147</td>\n",
       "      <td>2.995732</td>\n",
       "    </tr>\n",
       "    <tr>\n",
       "      <th>3</th>\n",
       "      <td>14.224861</td>\n",
       "      <td>120.952254</td>\n",
       "      <td>4.276666</td>\n",
       "      <td>3.091042</td>\n",
       "      <td>7.982758</td>\n",
       "      <td>-3.575551</td>\n",
       "      <td>2.708050</td>\n",
       "      <td>2.995732</td>\n",
       "      <td>-2.263364</td>\n",
       "      <td>-0.693147</td>\n",
       "      <td>1.791759</td>\n",
       "    </tr>\n",
       "    <tr>\n",
       "      <th>4</th>\n",
       "      <td>13.805802</td>\n",
       "      <td>120.623672</td>\n",
       "      <td>3.526361</td>\n",
       "      <td>5.036953</td>\n",
       "      <td>8.905173</td>\n",
       "      <td>-3.218876</td>\n",
       "      <td>0.916291</td>\n",
       "      <td>1.609438</td>\n",
       "      <td>-4.828314</td>\n",
       "      <td>-1.386294</td>\n",
       "      <td>2.079442</td>\n",
       "    </tr>\n",
       "  </tbody>\n",
       "</table>\n",
       "</div>"
      ],
      "text/plain": [
       "        DLAT       DLONG        Cu        Ni        Fe     S_pct    Pd_ppb  \\\n",
       "0  15.133076  121.233643  2.833213  4.304065  7.886081 -5.298317 -0.693147   \n",
       "1  15.126450  121.225794  3.218876  4.406719  8.009695 -5.298317 -0.693147   \n",
       "2  15.126005  121.226694  2.890372  4.700480  7.962067 -5.298317 -0.693147   \n",
       "3  14.224861  120.952254  4.276666  3.091042  7.982758 -3.575551  2.708050   \n",
       "4  13.805802  120.623672  3.526361  5.036953  8.905173 -3.218876  0.916291   \n",
       "\n",
       "     Pt_ppb        Au        Ag        Co  \n",
       "0  0.916291 -7.600902 -0.693147  2.484907  \n",
       "1  0.916291 -7.600902 -0.693147  2.484907  \n",
       "2  0.916291 -6.907755 -0.693147  2.995732  \n",
       "3  2.995732 -2.263364 -0.693147  1.791759  \n",
       "4  1.609438 -4.828314 -1.386294  2.079442  "
      ]
     },
     "execution_count": 165,
     "metadata": {},
     "output_type": "execute_result"
    }
   ],
   "source": [
    "df = df.reset_index(drop=True)\n",
    "# df = df.drop(columns=['index'])\n",
    "df.head()"
   ]
  },
  {
   "cell_type": "code",
   "execution_count": 166,
   "id": "131d49f1",
   "metadata": {},
   "outputs": [],
   "source": [
    "import pandas as pd\n",
    "import numpy as np\n",
    "import matplotlib.pyplot as plt\n",
    "from pyrolite.plot import pyroplot\n",
    "from pyrolite.plot.density import density\n",
    "from pyrolite.comp.codata import close"
   ]
  },
  {
   "cell_type": "code",
   "execution_count": 167,
   "id": "2061d00f",
   "metadata": {},
   "outputs": [],
   "source": [
    "# df_minerals_log = df[minerals_atomic].apply(lambda x: np.log(x), axis=1)"
   ]
  },
  {
   "cell_type": "code",
   "execution_count": 77,
   "id": "573479df",
   "metadata": {},
   "outputs": [],
   "source": [
    "# fig, ax = plt.subplots(\n",
    "#     1,\n",
    "#     3,\n",
    "#     sharex=True,\n",
    "#     sharey=True,\n",
    "#     figsize=(15, 5),\n",
    "#     subplot_kw=dict(projection=\"ternary\"),\n",
    "# )\n",
    "# df_minerals_log.pyroplot.scatter(ax=ax[0], alpha=0.05, c=\"k\")\n",
    "# for a, mode in zip(ax[1:], [\"hist\", \"density\"]):\n",
    "#     df_minerals_log.pyroplot.density(ax=a, mode=mode)\n",
    "#     a.set_title(\"Mode: {}\".format(mode), y=1.2)\n",
    "\n",
    "# plt.tight_layout()\n",
    "# plt.show()"
   ]
  },
  {
   "cell_type": "code",
   "execution_count": 168,
   "id": "ef237702",
   "metadata": {},
   "outputs": [],
   "source": [
    "y = df['Co']\n",
    "X = df.drop(columns=['Co'])"
   ]
  },
  {
   "cell_type": "code",
   "execution_count": 171,
   "id": "94bd371a",
   "metadata": {},
   "outputs": [
    {
     "name": "stdout",
     "output_type": "stream",
     "text": [
      "Train MSE: 0.4833450031802475\n",
      "Test MSE: 0.4267607784886913\n"
     ]
    }
   ],
   "source": [
    "X_train, X_test, y_train, y_test = train_test_split(\n",
    "    X, y, test_size=0.2, random_state=42, shuffle=True)\n",
    "\n",
    "lr = LinearRegression()\n",
    "\n",
    "lr.fit(X_train, y_train)\n",
    "train_preds = lr.predict(X_train)\n",
    "test_preds = lr.predict(X_test)\n",
    "\n",
    "from sklearn.metrics import mean_squared_error\n",
    "\n",
    "print(f\"Train MSE: {mean_squared_error(train_preds, y_train)}\")\n",
    "print(f\"Test MSE: {mean_squared_error(test_preds, y_test)}\")"
   ]
  },
  {
   "cell_type": "code",
   "execution_count": 172,
   "id": "c15057e1",
   "metadata": {},
   "outputs": [
    {
     "data": {
      "text/plain": [
       "[<matplotlib.lines.Line2D at 0x2501ed9a4f0>,\n",
       " <matplotlib.lines.Line2D at 0x2501ed9a400>]"
      ]
     },
     "execution_count": 172,
     "metadata": {},
     "output_type": "execute_result"
    },
    {
     "data": {
      "image/png": "[encoded data removed]",
      "text/plain": [
       "<Figure size 432x288 with 1 Axes>"
      ]
     },
     "metadata": {
      "needs_background": "light"
     },
     "output_type": "display_data"
    }
   ],
   "source": [
    "plt.plot(range(0, len(test_preds)), y_test, test_preds)"
   ]
  },
  {
   "cell_type": "code",
   "execution_count": 175,
   "id": "14a1c9f0",
   "metadata": {},
   "outputs": [
    {
     "data": {
      "text/plain": [
       "[(1.4709862973341172, 0.7419373447293773),\n",
       " (3.0290903826329085, 3.6428355156125294),\n",
       " (3.0389597567062667, 2.5649493574615367),\n",
       " (3.532678299465183, 3.9396381724611196),\n",
       " (3.5959224079547507, 4.109233174715851),\n",
       " (2.7478229971424155, 3.3214324131932926),\n",
       " (0.9895444260422428, 0.47000362924573563),\n",
       " (3.1159199417972645, 4.041295341132285),\n",
       " (4.113575740227546, 4.02535169073515),\n",
       " (2.859619013427338, 3.258096538021482),\n",
       " (2.5617580751430284, 2.302585092994046),\n",
       " (5.2632719538506105, 4.31748811353631),\n",
       " (2.6981461964095343, 3.4011973816621555),\n",
       " (1.9298931986629966, 2.302585092994046),\n",
       " (3.1921517367498593, 3.258096538021482),\n",
       " (3.140790835022603, 3.4011973816621555),\n",
       " (4.308179651087574, 4.204692619390966),\n",
       " (1.4308948363921261, 2.975529566236472),\n",
       " (3.1162543651316774, 3.2188758248682006),\n",
       " (1.7389111410748894, 2.302585092994046),\n",
       " (3.6652304299849883, 3.912023005428146),\n",
       " (2.9002636283398537, 3.6888794541139363),\n",
       " (3.367764350697288, 3.2188758248682006),\n",
       " (4.083616540052393, 3.1780538303479458),\n",
       " (2.206716481140908, 2.772588722239781),\n",
       " (1.6180949772624142, 2.302585092994046),\n",
       " (1.4709862973341172, 0.7419373447293773),\n",
       " (4.119135142724737, 3.4995332823830174),\n",
       " (2.2402390412885036, 2.884800712846709),\n",
       " (4.4837919765634595, 4.395682961121367),\n",
       " (2.237404501671647, 2.066862759472976),\n",
       " (2.956614167760581, 3.912023005428146),\n",
       " (1.5100918327514563, 0.0),\n",
       " (4.106385836558099, 3.9512437185814275),\n",
       " (3.1179621218243616, 3.139832617527748),\n",
       " (2.112108239884839, 1.3862943611198906),\n",
       " (3.436302657616779, 3.914021008090819),\n",
       " (1.8540485087290464, 1.252762968495368),\n",
       " (1.9241658053292108, 2.302585092994046),\n",
       " (2.0631350616505824, 2.302585092994046),\n",
       " (3.0511512569467114, 2.341805806147327),\n",
       " (3.2349900898605295, 4.5736795188967205),\n",
       " (1.9748594726886863, 1.791759469228055),\n",
       " (3.420649712683315, 4.33204826486764),\n",
       " (3.672168717531706, 4.007333185232471),\n",
       " (2.5023894601975107, 2.302585092994046),\n",
       " (2.7885887600217227, 2.995732273553991),\n",
       " (2.2367993834330666, 2.302585092994046),\n",
       " (2.6655447225742295, 1.410986973710262),\n",
       " (0.9484723619944311, 0.7419373447293773),\n",
       " (1.8856741253762268, 1.6094379124341003),\n",
       " (4.066651177035563, 3.9646154555473165),\n",
       " (3.1394438048166915, 3.1135153092103742),\n",
       " (3.7879875505998264, 3.40452517175483),\n",
       " (3.015528846081949, 2.995732273553991),\n",
       " (1.1893504729830444, 1.3609765531356006),\n",
       " (1.099522507757752, 0.0),\n",
       " (2.5023894601975107, 2.302585092994046),\n",
       " (1.9322513053557993, 2.70805020110221),\n",
       " (1.9984656272604746, 1.6094379124341003),\n",
       " (3.103758036880259, 3.6888794541139363),\n",
       " (3.737730121045474, 3.295836866004329),\n",
       " (2.7041256797553177, 3.044522437723423),\n",
       " (2.570600051568298, 2.8903717578961645),\n",
       " (3.2336875725725145, 4.0943445622221),\n",
       " (3.064445689078184, 3.720862499966987),\n",
       " (2.183296091357498, 2.302585092994046),\n",
       " (2.7944747030177397, 2.995732273553991),\n",
       " (3.5534486336938613, 4.007333185232471),\n",
       " (3.3208400878133615, 3.6888794541139363),\n",
       " (1.8856741253762268, 1.6094379124341003),\n",
       " (2.058608145285798, 1.5260563034950492),\n",
       " (0.7978589800160885, 2.302585092994046),\n",
       " (2.3870880590376107, 2.7343675094195836),\n",
       " (2.7041256797553177, 3.044522437723423),\n",
       " (3.247202163956513, 3.2188758248682006),\n",
       " (3.1901045317860657, 3.2188758248682006),\n",
       " (0.12700613500400104, 1.6094379124341003),\n",
       " (0.6629336303292088, 1.6094379124341003),\n",
       " (3.8298115138472855, 4.151039905898646),\n",
       " (2.611015236794708, 3.2188758248682006),\n",
       " (2.691024090996137, 3.912023005428146),\n",
       " (1.0306181339714344, 0.09531017980432493),\n",
       " (2.2481205534198687, 2.302585092994046),\n",
       " (1.4771479370244776, 2.302585092994046),\n",
       " (1.571373187012961, 1.9878743481543455),\n",
       " (3.48110599408617, 4.007333185232471),\n",
       " (3.4823313797389543, 3.7376696182833684),\n",
       " (3.7445905593679942, 3.912023005428146),\n",
       " (1.8286406809912723, 2.302585092994046),\n",
       " (2.710314979773358, 2.302585092994046),\n",
       " (1.966125281244545, 0.9162907318741551),\n",
       " (2.684192274639485, 2.995732273553991),\n",
       " (3.298088846520563, 2.5649493574615367),\n",
       " (3.3253129476706857, 4.007333185232471),\n",
       " (3.2629366673413482, 3.8066624897703196),\n",
       " (3.510570799039782, 3.586292865338835),\n",
       " (3.264676756879875, 4.2612704335380815),\n",
       " (3.6082572662826595, 2.833213344056216),\n",
       " (1.8604685818410087, 2.302585092994046),\n",
       " (1.4308948363921261, 2.975529566236472),\n",
       " (2.226942620657529, 0.9162907318741551),\n",
       " (1.7725092398969564, 1.6094379124341003),\n",
       " (4.595990526076325, 4.37449836825309),\n",
       " (1.03893578461842, 1.252762968495368),\n",
       " (3.5715277246908355, 3.288401887516811),\n",
       " (2.237404501671647, 2.066862759472976),\n",
       " (1.9805409912484573, 2.302585092994046),\n",
       " (3.0597178341692297, 4.238444906195857),\n",
       " (5.0210038928887535, 4.749270529961848),\n",
       " (1.2587952306564394, 1.410986973710262),\n",
       " (3.06243579959824, 3.6454498961866),\n",
       " (1.6268759335932814, 0.9162907318741551),\n",
       " (2.1782905284629646, 0.6931471805599453),\n",
       " (3.173371412427191, 2.302585092994046),\n",
       " (1.7604459186668344, 2.70805020110221),\n",
       " (4.229363571548349, 4.912654885736052),\n",
       " (2.657604067261684, 2.70805020110221),\n",
       " (4.237197380083084, 4.335982696172475),\n",
       " (2.5322574894543326, 2.0794415416798357),\n",
       " (1.7543127082900603, 2.302585092994046),\n",
       " (2.679849559507591, 1.840549633397487),\n",
       " (3.869966681202116, 4.007333185232471),\n",
       " (3.1127839609269587, 2.5649493574615367),\n",
       " (1.7879073011360185, 3.288401887516811),\n",
       " (3.6070924381621436, 3.912023005428146),\n",
       " (3.6935249977558504, 3.4011973816621555),\n",
       " (1.2587952306564394, 1.410986973710262),\n",
       " (2.3656659074843356, 1.9021075263969205),\n",
       " (1.8766654122301079, 0.9162907318741551),\n",
       " (2.7301009492510113, 1.5040773967762742),\n",
       " (3.442616164276552, 2.995732273553991),\n",
       " (2.2448858801776805, 2.302585092994046),\n",
       " (4.097282765863504, 2.9652730660692823),\n",
       " (2.950748111735348, 2.667228206581955),\n",
       " (1.7486730309623397, 1.6094379124341003),\n",
       " (1.255786191636124, 0.7419373447293773),\n",
       " (2.337878836825807, 2.70805020110221),\n",
       " (4.640513329435333, 4.394449154672439),\n",
       " (2.7337285824668394, 3.4011973816621555),\n",
       " (1.6180949772624142, 2.302585092994046),\n",
       " (2.271637723892091, 1.9459101490553132),\n",
       " (3.1055572900719968, 3.6888794541139363),\n",
       " (3.3521085551846665, 1.791759469228055),\n",
       " (3.3614420379028482, 3.484312288372662),\n",
       " (4.67513201105115, 4.30406509320417),\n",
       " (2.0975949488605896, 2.302585092994046),\n",
       " (2.1556485055272274, 2.302585092994046),\n",
       " (3.190570014790403, 2.917770732084279),\n",
       " (1.5968553195160653, 2.302585092994046),\n",
       " (3.752664711635787, 4.553876891600541),\n",
       " (1.5799746064898792, 0.9932517730102834),\n",
       " (1.4559242368980914, 1.0986122886681098),\n",
       " (1.3200758282428797, 0.6418538861723947),\n",
       " (0.6975877842909495, 0.09531017980432493),\n",
       " (0.828894812811952, -0.6931471805599453),\n",
       " (3.4165796575274268, 3.2188758248682006),\n",
       " (3.687385244786968, 4.007333185232471),\n",
       " (4.355528795822954, 3.9569963710708773),\n",
       " (3.5049796838794856, 3.4965075614664802),\n",
       " (5.212582956796334, 4.430816798843313),\n",
       " (1.9303094138792725, 1.6486586255873816),\n",
       " (2.81780313091838, 2.995732273553991),\n",
       " (3.6313945939731154, 3.104586678466073),\n",
       " (2.4799442684660575, 2.70805020110221),\n",
       " (1.9792957843236618, 2.302585092994046),\n",
       " (3.2061764700019615, 3.824284091120139),\n",
       " (1.9379803636571633, 1.33500106673234),\n",
       " (0.6629336303292088, 1.6094379124341003),\n",
       " (2.6681669296837773, 2.0014800002101243),\n",
       " (1.7251198492750695, 2.302585092994046),\n",
       " (1.8785965159165046, 2.302585092994046),\n",
       " (1.9255986781454215, 0.9162907318741551),\n",
       " (3.0511512569467114, 2.341805806147327)]"
      ]
     },
     "execution_count": 175,
     "metadata": {},
     "output_type": "execute_result"
    }
   ],
   "source": [
    "list(zip(test_preds, y_test))"
   ]
  },
  {
   "cell_type": "markdown",
   "id": "1d671e02",
   "metadata": {},
   "source": [
    "#### Random Forrest"
   ]
  },
  {
   "cell_type": "code",
   "execution_count": 179,
   "id": "3ccde10e",
   "metadata": {},
   "outputs": [
    {
     "name": "stdout",
     "output_type": "stream",
     "text": [
      "Train MSE: 0.12858268653267507\n",
      "Test MSE: 0.24000220529250363\n"
     ]
    }
   ],
   "source": [
    "rf = RandomForestRegressor(n_estimators=50, min_samples_leaf=5)\n",
    "\n",
    "rf.fit(X_train, y_train)\n",
    "train_preds = rf.predict(X_train)\n",
    "test_preds = rf.predict(X_test)\n",
    "\n",
    "print(f\"Train MSE: {mean_squared_error(train_preds, y_train)}\")\n",
    "print(f\"Test MSE: {mean_squared_error(test_preds, y_test)}\")"
   ]
  },
  {
   "cell_type": "code",
   "execution_count": 181,
   "id": "dc7d127f",
   "metadata": {},
   "outputs": [
    {
     "data": {
      "text/html": [
       "<div>\n",
       "<style scoped>\n",
       "    .dataframe tbody tr th:only-of-type {\n",
       "        vertical-align: middle;\n",
       "    }\n",
       "\n",
       "    .dataframe tbody tr th {\n",
       "        vertical-align: top;\n",
       "    }\n",
       "\n",
       "    .dataframe thead th {\n",
       "        text-align: right;\n",
       "    }\n",
       "</style>\n",
       "<table border=\"1\" class=\"dataframe\">\n",
       "  <thead>\n",
       "    <tr style=\"text-align: right;\">\n",
       "      <th></th>\n",
       "      <th>Features</th>\n",
       "      <th>Importances</th>\n",
       "    </tr>\n",
       "  </thead>\n",
       "  <tbody>\n",
       "    <tr>\n",
       "      <th>0</th>\n",
       "      <td>DLAT</td>\n",
       "      <td>0.032895</td>\n",
       "    </tr>\n",
       "    <tr>\n",
       "      <th>1</th>\n",
       "      <td>DLONG</td>\n",
       "      <td>0.034942</td>\n",
       "    </tr>\n",
       "    <tr>\n",
       "      <th>2</th>\n",
       "      <td>Cu</td>\n",
       "      <td>0.026774</td>\n",
       "    </tr>\n",
       "    <tr>\n",
       "      <th>3</th>\n",
       "      <td>Ni</td>\n",
       "      <td>0.764679</td>\n",
       "    </tr>\n",
       "    <tr>\n",
       "      <th>4</th>\n",
       "      <td>Fe</td>\n",
       "      <td>0.064277</td>\n",
       "    </tr>\n",
       "    <tr>\n",
       "      <th>5</th>\n",
       "      <td>S_pct</td>\n",
       "      <td>0.030982</td>\n",
       "    </tr>\n",
       "    <tr>\n",
       "      <th>6</th>\n",
       "      <td>Pd_ppb</td>\n",
       "      <td>0.008595</td>\n",
       "    </tr>\n",
       "    <tr>\n",
       "      <th>7</th>\n",
       "      <td>Pt_ppb</td>\n",
       "      <td>0.008110</td>\n",
       "    </tr>\n",
       "    <tr>\n",
       "      <th>8</th>\n",
       "      <td>Au</td>\n",
       "      <td>0.017701</td>\n",
       "    </tr>\n",
       "    <tr>\n",
       "      <th>9</th>\n",
       "      <td>Ag</td>\n",
       "      <td>0.011045</td>\n",
       "    </tr>\n",
       "  </tbody>\n",
       "</table>\n",
       "</div>"
      ],
      "text/plain": [
       "  Features  Importances\n",
       "0     DLAT     0.032895\n",
       "1    DLONG     0.034942\n",
       "2       Cu     0.026774\n",
       "3       Ni     0.764679\n",
       "4       Fe     0.064277\n",
       "5    S_pct     0.030982\n",
       "6   Pd_ppb     0.008595\n",
       "7   Pt_ppb     0.008110\n",
       "8       Au     0.017701\n",
       "9       Ag     0.011045"
      ]
     },
     "execution_count": 181,
     "metadata": {},
     "output_type": "execute_result"
    }
   ],
   "source": [
    "pd.DataFrame({\"Features\": X_train.columns,\n",
    "              \"Importances\":rf.feature_importances_}).sort_values(by='Importances', asc)"
   ]
  },
  {
   "cell_type": "code",
   "execution_count": null,
   "id": "7df64abf",
   "metadata": {},
   "outputs": [],
   "source": []
  },
  {
   "cell_type": "code",
   "execution_count": null,
   "id": "f1a2d83c",
   "metadata": {},
   "outputs": [],
   "source": []
  }
 ],
 "metadata": {
  "kernelspec": {
   "display_name": "Python 3 (ipykernel)",
   "language": "python",
   "name": "python3"
  },
  "language_info": {
   "codemirror_mode": {
    "name": "ipython",
    "version": 3
   },
   "file_extension": ".py",
   "mimetype": "text/x-python",
   "name": "python",
   "nbconvert_exporter": "python",
   "pygments_lexer": "ipython3",
   "version": "3.9.7"
  }
 },
 "nbformat": 4,
 "nbformat_minor": 5
}
