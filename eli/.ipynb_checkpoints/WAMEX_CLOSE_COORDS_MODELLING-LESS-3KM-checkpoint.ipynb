{
 "cells": [
  {
   "cell_type": "code",
   "execution_count": 104,
   "id": "c0341b24",
   "metadata": {},
   "outputs": [],
   "source": [
    "import pandas as pd\n",
    "import pickle\n",
    "from sklearn.metrics import mean_squared_error\n",
    "from sklearn.model_selection import train_test_split\n",
    "from sklearn.linear_model import LinearRegression\n",
    "from sklearn.ensemble import RandomForestRegressor"
   ]
  },
  {
   "cell_type": "code",
   "execution_count": 147,
   "id": "4ad0aabb",
   "metadata": {},
   "outputs": [],
   "source": [
    "# file containing indexs of close (< 10km) row indexes from WAMEX from .SHP file containing Nickel Drillhold deposits\n",
    "# NOTE: rows are repeated!\n",
    "with open('../eli/wamex_close_coords_to_shp_minedex_terminatedafter12hrs.pickle', 'rb') as file:\n",
    "    close_coords_indicies = pickle.load(file)"
   ]
  },
  {
   "cell_type": "markdown",
   "id": "de2070b5",
   "metadata": {},
   "source": [
    "### Subset of Close Coords"
   ]
  },
  {
   "cell_type": "code",
   "execution_count": 148,
   "id": "bc030c77",
   "metadata": {},
   "outputs": [
    {
     "name": "stdout",
     "output_type": "stream",
     "text": [
      "\n",
      " Sample: [131072, 131073, 131084, 131085, 131086, 131087, 131088, 131089, 131090, 131091] \n",
      "\n",
      " Length: 75628\n"
     ]
    }
   ],
   "source": [
    "# repeats indexes so set to find unique row indexs\n",
    "close_coords_indicies = list(set(close_coords_indicies))\n",
    "print(f\"\\n Sample: {close_coords_indicies[:10]} \\n\\n Length: {len(close_coords_indicies)}\")"
   ]
  },
  {
   "cell_type": "markdown",
   "id": "e085bec2",
   "metadata": {},
   "source": [
    "### WAMEX data\n",
    "\n",
    " ·      Cobalt associated with nickel (and copper) in so-called orthomagmatic (igneous) mafic to ultramafic volcanic (komatiite)-hosted and intrusion-hosted deposits\n",
    " \n",
    " \n",
    " Cobalt is a chemical element with the symbol Co and atomic number 27. Like nickel, cobalt is found in the Earth's crust only in a chemically combined form, save for small deposits found in alloys of natural meteoric iron. The free element, produced by reductive smelting, is a hard, lustrous, silver-gray metal. Wikipedia\n",
    "Symbol: Co <br>\n",
    "Electron configuration: [Ar] 3d74s2 <br>\n",
    "Atomic number: 27 <br>\n",
    "Atomic mass: 58.933195 u <br>\n",
    "Melting point: 1,495 °C <br>\n",
    "Discovered: 1735 <br>\n",
    "Discoverer: Georg Brandt <br>"
   ]
  },
  {
   "cell_type": "code",
   "execution_count": 157,
   "id": "f9faf868",
   "metadata": {},
   "outputs": [
    {
     "name": "stderr",
     "output_type": "stream",
     "text": [
      "C:\\Users\\elisi\\Miniconda3\\envs\\minerals\\lib\\site-packages\\IPython\\core\\interactiveshell.py:3441: DtypeWarning: Columns (18) have mixed types.Specify dtype option on import or set low_memory=False.\n",
      "  exec(code_obj, self.user_global_ns, self.user_ns)\n"
     ]
    },
    {
     "data": {
      "text/html": [
       "<div>\n",
       "<style scoped>\n",
       "    .dataframe tbody tr th:only-of-type {\n",
       "        vertical-align: middle;\n",
       "    }\n",
       "\n",
       "    .dataframe tbody tr th {\n",
       "        vertical-align: top;\n",
       "    }\n",
       "\n",
       "    .dataframe thead th {\n",
       "        text-align: right;\n",
       "    }\n",
       "</style>\n",
       "<table border=\"1\" class=\"dataframe\">\n",
       "  <thead>\n",
       "    <tr style=\"text-align: right;\">\n",
       "      <th></th>\n",
       "      <th>OBJECTID</th>\n",
       "      <th>DATASET</th>\n",
       "      <th>SAMPLEID</th>\n",
       "      <th>GSWANO</th>\n",
       "      <th>EXTRACT_DA</th>\n",
       "      <th>BATCH_NO</th>\n",
       "      <th>QMAPID</th>\n",
       "      <th>DLAT</th>\n",
       "      <th>DLONG</th>\n",
       "      <th>EASTING</th>\n",
       "      <th>...</th>\n",
       "      <th>W_ppm</th>\n",
       "      <th>WO3_ppm</th>\n",
       "      <th>Y_ppm</th>\n",
       "      <th>Y2O3_ppm</th>\n",
       "      <th>Yb_ppm</th>\n",
       "      <th>Yb2O3_ppm</th>\n",
       "      <th>Zn_ppm</th>\n",
       "      <th>ZnO_ppm</th>\n",
       "      <th>Zr_ppm</th>\n",
       "      <th>ZrO2_ppm</th>\n",
       "    </tr>\n",
       "  </thead>\n",
       "  <tbody>\n",
       "    <tr>\n",
       "      <th>0</th>\n",
       "      <td>1</td>\n",
       "      <td>NaN</td>\n",
       "      <td>229866</td>\n",
       "      <td>NaN</td>\n",
       "      <td>NaN</td>\n",
       "      <td>NaN</td>\n",
       "      <td>NaN</td>\n",
       "      <td>-34.048839</td>\n",
       "      <td>118.176663</td>\n",
       "      <td>NaN</td>\n",
       "      <td>...</td>\n",
       "      <td>-9999.0</td>\n",
       "      <td>-9999.0</td>\n",
       "      <td>-9999.0</td>\n",
       "      <td>-9999.0</td>\n",
       "      <td>-9999.0</td>\n",
       "      <td>-9999.0</td>\n",
       "      <td>-9999.0</td>\n",
       "      <td>-9999.0</td>\n",
       "      <td>-9999.0</td>\n",
       "      <td>-9999.0</td>\n",
       "    </tr>\n",
       "    <tr>\n",
       "      <th>1</th>\n",
       "      <td>2</td>\n",
       "      <td>NaN</td>\n",
       "      <td>229867</td>\n",
       "      <td>NaN</td>\n",
       "      <td>NaN</td>\n",
       "      <td>NaN</td>\n",
       "      <td>NaN</td>\n",
       "      <td>-34.048839</td>\n",
       "      <td>118.176663</td>\n",
       "      <td>NaN</td>\n",
       "      <td>...</td>\n",
       "      <td>-9999.0</td>\n",
       "      <td>-9999.0</td>\n",
       "      <td>-9999.0</td>\n",
       "      <td>-9999.0</td>\n",
       "      <td>-9999.0</td>\n",
       "      <td>-9999.0</td>\n",
       "      <td>-9999.0</td>\n",
       "      <td>-9999.0</td>\n",
       "      <td>-9999.0</td>\n",
       "      <td>-9999.0</td>\n",
       "    </tr>\n",
       "  </tbody>\n",
       "</table>\n",
       "<p>2 rows × 143 columns</p>\n",
       "</div>"
      ],
      "text/plain": [
       "   OBJECTID  DATASET  SAMPLEID  GSWANO  EXTRACT_DA  BATCH_NO  QMAPID  \\\n",
       "0         1      NaN    229866     NaN         NaN       NaN     NaN   \n",
       "1         2      NaN    229867     NaN         NaN       NaN     NaN   \n",
       "\n",
       "        DLAT       DLONG  EASTING  ...   W_ppm  WO3_ppm   Y_ppm  Y2O3_ppm  \\\n",
       "0 -34.048839  118.176663      NaN  ... -9999.0  -9999.0 -9999.0   -9999.0   \n",
       "1 -34.048839  118.176663      NaN  ... -9999.0  -9999.0 -9999.0   -9999.0   \n",
       "\n",
       "   Yb_ppm  Yb2O3_ppm  Zn_ppm  ZnO_ppm  Zr_ppm  ZrO2_ppm  \n",
       "0 -9999.0    -9999.0 -9999.0  -9999.0 -9999.0   -9999.0  \n",
       "1 -9999.0    -9999.0 -9999.0  -9999.0 -9999.0   -9999.0  \n",
       "\n",
       "[2 rows x 143 columns]"
      ]
     },
     "execution_count": 157,
     "metadata": {},
     "output_type": "execute_result"
    }
   ],
   "source": [
    "df_wamex_rc = pd.read_csv('../data/wamex/WAMEX_1_Rockchip_Original.csv')\n",
    "df_wamex_rc.head(2)"
   ]
  },
  {
   "cell_type": "code",
   "execution_count": 158,
   "id": "c769a4a7",
   "metadata": {},
   "outputs": [
    {
     "data": {
      "text/plain": [
       "(402770, 143)"
      ]
     },
     "execution_count": 158,
     "metadata": {},
     "output_type": "execute_result"
    }
   ],
   "source": [
    "df_wamex_rc.shape"
   ]
  },
  {
   "cell_type": "code",
   "execution_count": 156,
   "id": "2b5259f3",
   "metadata": {},
   "outputs": [
    {
     "data": {
      "text/plain": [
       "(98655, 143)"
      ]
     },
     "execution_count": 156,
     "metadata": {},
     "output_type": "execute_result"
    }
   ],
   "source": [
    "x.shape"
   ]
  },
  {
   "cell_type": "code",
   "execution_count": 150,
   "id": "aa447712",
   "metadata": {},
   "outputs": [
    {
     "data": {
      "text/plain": [
       "(75628, 143)"
      ]
     },
     "execution_count": 150,
     "metadata": {},
     "output_type": "execute_result"
    }
   ],
   "source": [
    "df_wamex_rc = df_wamex_rc.iloc[close_coords_indicies,:]\n",
    "df_wamex_rc.shape"
   ]
  },
  {
   "cell_type": "code",
   "execution_count": null,
   "id": "759688f9",
   "metadata": {},
   "outputs": [],
   "source": [
    "df_wamex_less_than_10km_subset"
   ]
  },
  {
   "cell_type": "code",
   "execution_count": 11,
   "id": "81e6ea3c",
   "metadata": {},
   "outputs": [
    {
     "data": {
      "text/plain": [
       "Index(['OBJECTID', 'DATASET', 'SAMPLEID', 'GSWANO', 'EXTRACT_DA', 'BATCH_NO',\n",
       "       'QMAPID', 'DLAT', 'DLONG', 'EASTING',\n",
       "       ...\n",
       "       'W_ppm', 'WO3_ppm', 'Y_ppm', 'Y2O3_ppm', 'Yb_ppm', 'Yb2O3_ppm',\n",
       "       'Zn_ppm', 'ZnO_ppm', 'Zr_ppm', 'ZrO2_ppm'],\n",
       "      dtype='object', length=143)"
      ]
     },
     "execution_count": 11,
     "metadata": {},
     "output_type": "execute_result"
    }
   ],
   "source": [
    "df_wamex_rc.columnsumns"
   ]
  },
  {
   "cell_type": "markdown",
   "id": "9ce772ba",
   "metadata": {},
   "source": [
    "### Nickel, Copper and Cobalt Interactions"
   ]
  },
  {
   "cell_type": "code",
   "execution_count": 75,
   "id": "14611f05",
   "metadata": {},
   "outputs": [],
   "source": [
    "# most common pair in MINEDEX data.\n",
    "abdundant_minerals = ['Copper', 'Nickel']\n",
    "critical_mineral = ['Cobalt']\n",
    "\n",
    "full_to_atomic = {\n",
    "    \"Copper\": \"Cu\",\n",
    "    \"Cobalt\": \"Co\",\n",
    "    \"Nickel\": \"Ni\"\n",
    "}\n"
   ]
  },
  {
   "cell_type": "code",
   "execution_count": 76,
   "id": "52a4c5ca",
   "metadata": {},
   "outputs": [],
   "source": [
    "new_cols = []\n",
    "for col in df_wamex_rc.columns: \n",
    "    if \"ppm\" in col:\n",
    "        new_cols.append(col.split('_')[0])\n",
    "    else:\n",
    "        new_cols.append(col)\n",
    "\n",
    "df_wamex_rc.columns = new_cols"
   ]
  },
  {
   "cell_type": "code",
   "execution_count": 77,
   "id": "2d7f2b67",
   "metadata": {},
   "outputs": [
    {
     "data": {
      "text/plain": [
       "['Cu', 'Ni', 'Co']"
      ]
     },
     "execution_count": 77,
     "metadata": {},
     "output_type": "execute_result"
    }
   ],
   "source": [
    "minerals = abdundant_minerals + critical_mineral\n",
    "\n",
    "minerals_atomic = [full_to_atomic[mineral] for mineral in minerals]\n",
    "minerals_atomic"
   ]
  },
  {
   "cell_type": "code",
   "execution_count": 78,
   "id": "b51ce4e9",
   "metadata": {},
   "outputs": [],
   "source": [
    "input_cols = ['DLAT', 'DLONG'] + minerals_atomic"
   ]
  },
  {
   "cell_type": "code",
   "execution_count": 79,
   "id": "56177114",
   "metadata": {},
   "outputs": [
    {
     "data": {
      "text/html": [
       "<div>\n",
       "<style scoped>\n",
       "    .dataframe tbody tr th:only-of-type {\n",
       "        vertical-align: middle;\n",
       "    }\n",
       "\n",
       "    .dataframe tbody tr th {\n",
       "        vertical-align: top;\n",
       "    }\n",
       "\n",
       "    .dataframe thead th {\n",
       "        text-align: right;\n",
       "    }\n",
       "</style>\n",
       "<table border=\"1\" class=\"dataframe\">\n",
       "  <thead>\n",
       "    <tr style=\"text-align: right;\">\n",
       "      <th></th>\n",
       "      <th>DLAT</th>\n",
       "      <th>DLONG</th>\n",
       "      <th>Cu</th>\n",
       "      <th>Ni</th>\n",
       "      <th>Co</th>\n",
       "    </tr>\n",
       "  </thead>\n",
       "  <tbody>\n",
       "    <tr>\n",
       "      <th>131072</th>\n",
       "      <td>-30.704511</td>\n",
       "      <td>121.551388</td>\n",
       "      <td>200.0</td>\n",
       "      <td>1347.0</td>\n",
       "      <td>65.0</td>\n",
       "    </tr>\n",
       "    <tr>\n",
       "      <th>131073</th>\n",
       "      <td>-30.707096</td>\n",
       "      <td>121.546128</td>\n",
       "      <td>160.0</td>\n",
       "      <td>642.0</td>\n",
       "      <td>47.0</td>\n",
       "    </tr>\n",
       "    <tr>\n",
       "      <th>131084</th>\n",
       "      <td>-31.768529</td>\n",
       "      <td>119.601723</td>\n",
       "      <td>172.0</td>\n",
       "      <td>19.0</td>\n",
       "      <td>-9999.0</td>\n",
       "    </tr>\n",
       "    <tr>\n",
       "      <th>131085</th>\n",
       "      <td>-31.768086</td>\n",
       "      <td>119.601774</td>\n",
       "      <td>117.0</td>\n",
       "      <td>26.0</td>\n",
       "      <td>-9999.0</td>\n",
       "    </tr>\n",
       "    <tr>\n",
       "      <th>131086</th>\n",
       "      <td>-31.764900</td>\n",
       "      <td>119.600154</td>\n",
       "      <td>52.0</td>\n",
       "      <td>10.0</td>\n",
       "      <td>-9999.0</td>\n",
       "    </tr>\n",
       "  </tbody>\n",
       "</table>\n",
       "</div>"
      ],
      "text/plain": [
       "             DLAT       DLONG     Cu      Ni      Co\n",
       "131072 -30.704511  121.551388  200.0  1347.0    65.0\n",
       "131073 -30.707096  121.546128  160.0   642.0    47.0\n",
       "131084 -31.768529  119.601723  172.0    19.0 -9999.0\n",
       "131085 -31.768086  119.601774  117.0    26.0 -9999.0\n",
       "131086 -31.764900  119.600154   52.0    10.0 -9999.0"
      ]
     },
     "execution_count": 79,
     "metadata": {},
     "output_type": "execute_result"
    }
   ],
   "source": [
    "df = df_wamex_rc[input_cols]\n",
    "df.head(5)"
   ]
  },
  {
   "cell_type": "code",
   "execution_count": 80,
   "id": "c1948347",
   "metadata": {},
   "outputs": [],
   "source": [
    "def replace_neg9999(val):\n",
    "    if val == -9999: \n",
    "        return 0\n",
    "    else:\n",
    "        return val\n",
    "    \n",
    "    \n",
    "def abs_halve_neg_val(val):\n",
    "#     print(val)\n",
    "    if val < 0: \n",
    "        return abs(val) / 2\n",
    "    else: \n",
    "        return val\n",
    "\n",
    "df = df.applymap(replace_neg9999)\n",
    "df = df.applymap(abs_halve_neg_val)\n",
    "\n",
    "indexs_6666 = df[df.values == -6666].index\n",
    "df = df.drop(index=indexs_6666)\n",
    "\n",
    "indexs_0 = df[df.values == 0].index\n",
    "df = df.drop(index=indexs_0)"
   ]
  },
  {
   "cell_type": "code",
   "execution_count": 81,
   "id": "e58f635b",
   "metadata": {},
   "outputs": [
    {
     "data": {
      "text/html": [
       "<div>\n",
       "<style scoped>\n",
       "    .dataframe tbody tr th:only-of-type {\n",
       "        vertical-align: middle;\n",
       "    }\n",
       "\n",
       "    .dataframe tbody tr th {\n",
       "        vertical-align: top;\n",
       "    }\n",
       "\n",
       "    .dataframe thead th {\n",
       "        text-align: right;\n",
       "    }\n",
       "</style>\n",
       "<table border=\"1\" class=\"dataframe\">\n",
       "  <thead>\n",
       "    <tr style=\"text-align: right;\">\n",
       "      <th></th>\n",
       "      <th>DLAT</th>\n",
       "      <th>DLONG</th>\n",
       "      <th>Cu</th>\n",
       "      <th>Ni</th>\n",
       "      <th>Co</th>\n",
       "    </tr>\n",
       "  </thead>\n",
       "  <tbody>\n",
       "    <tr>\n",
       "      <th>131072</th>\n",
       "      <td>15.352256</td>\n",
       "      <td>121.551388</td>\n",
       "      <td>200.0</td>\n",
       "      <td>1347.0</td>\n",
       "      <td>65.0</td>\n",
       "    </tr>\n",
       "    <tr>\n",
       "      <th>131073</th>\n",
       "      <td>15.353548</td>\n",
       "      <td>121.546128</td>\n",
       "      <td>160.0</td>\n",
       "      <td>642.0</td>\n",
       "      <td>47.0</td>\n",
       "    </tr>\n",
       "  </tbody>\n",
       "</table>\n",
       "</div>"
      ],
      "text/plain": [
       "             DLAT       DLONG     Cu      Ni    Co\n",
       "131072  15.352256  121.551388  200.0  1347.0  65.0\n",
       "131073  15.353548  121.546128  160.0   642.0  47.0"
      ]
     },
     "execution_count": 81,
     "metadata": {},
     "output_type": "execute_result"
    }
   ],
   "source": [
    "df.head(2)"
   ]
  },
  {
   "cell_type": "code",
   "execution_count": 84,
   "id": "587d8985",
   "metadata": {},
   "outputs": [
    {
     "data": {
      "text/plain": [
       "<AxesSubplot:ylabel='Frequency'>"
      ]
     },
     "execution_count": 84,
     "metadata": {},
     "output_type": "execute_result"
    },
    {
     "data": {
      "image/png": "[encoded data removed]",
      "text/plain": [
       "<Figure size 432x288 with 1 Axes>"
      ]
     },
     "metadata": {
      "needs_background": "light"
     },
     "output_type": "display_data"
    }
   ],
   "source": [
    "df['Co'].plot(kind='hist')"
   ]
  },
  {
   "cell_type": "markdown",
   "id": "22558d62",
   "metadata": {},
   "source": [
    "#### Cobalt ppm < 100"
   ]
  },
  {
   "cell_type": "code",
   "execution_count": 138,
   "id": "f3e21d82",
   "metadata": {},
   "outputs": [
    {
     "data": {
      "text/plain": [
       "<AxesSubplot:ylabel='Frequency'>"
      ]
     },
     "execution_count": 138,
     "metadata": {},
     "output_type": "execute_result"
    },
    {
     "data": {
      "image/png": "[encoded data removed]",
      "text/plain": [
       "<Figure size 432x288 with 1 Axes>"
      ]
     },
     "metadata": {
      "needs_background": "light"
     },
     "output_type": "display_data"
    }
   ],
   "source": [
    "df = df[df['Co'] < 100]\n",
    "\n",
    "df['Co'].plot(kind='hist')"
   ]
  },
  {
   "cell_type": "markdown",
   "id": "d845acce",
   "metadata": {},
   "source": [
    "### Independent Variables"
   ]
  },
  {
   "cell_type": "code",
   "execution_count": 159,
   "id": "5e8c3fea",
   "metadata": {},
   "outputs": [],
   "source": [
    "from sklearn.preprocessing import StandardScaler"
   ]
  },
  {
   "cell_type": "code",
   "execution_count": 174,
   "id": "bd36ed2c",
   "metadata": {},
   "outputs": [
    {
     "data": {
      "text/plain": [
       "<AxesSubplot:>"
      ]
     },
     "execution_count": 174,
     "metadata": {},
     "output_type": "execute_result"
    },
    {
     "data": {
      "image/png": "[encoded data removed]",
      "text/plain": [
       "<Figure size 432x288 with 1 Axes>"
      ]
     },
     "metadata": {
      "needs_background": "light"
     },
     "output_type": "display_data"
    }
   ],
   "source": [
    "df[minerals_atomic][:100].plot()"
   ]
  },
  {
   "cell_type": "code",
   "execution_count": 139,
   "id": "19982b89",
   "metadata": {},
   "outputs": [
    {
     "data": {
      "text/html": [
       "<div>\n",
       "<style scoped>\n",
       "    .dataframe tbody tr th:only-of-type {\n",
       "        vertical-align: middle;\n",
       "    }\n",
       "\n",
       "    .dataframe tbody tr th {\n",
       "        vertical-align: top;\n",
       "    }\n",
       "\n",
       "    .dataframe thead th {\n",
       "        text-align: right;\n",
       "    }\n",
       "</style>\n",
       "<table border=\"1\" class=\"dataframe\">\n",
       "  <thead>\n",
       "    <tr style=\"text-align: right;\">\n",
       "      <th></th>\n",
       "      <th>DLAT</th>\n",
       "      <th>DLONG</th>\n",
       "      <th>Cu</th>\n",
       "      <th>Ni</th>\n",
       "      <th>Co</th>\n",
       "    </tr>\n",
       "  </thead>\n",
       "  <tbody>\n",
       "    <tr>\n",
       "      <th>0</th>\n",
       "      <td>15.352256</td>\n",
       "      <td>121.551388</td>\n",
       "      <td>200.0</td>\n",
       "      <td>1347.0000</td>\n",
       "      <td>65.0</td>\n",
       "    </tr>\n",
       "    <tr>\n",
       "      <th>1</th>\n",
       "      <td>15.353548</td>\n",
       "      <td>121.546128</td>\n",
       "      <td>160.0</td>\n",
       "      <td>642.0000</td>\n",
       "      <td>47.0</td>\n",
       "    </tr>\n",
       "    <tr>\n",
       "      <th>2</th>\n",
       "      <td>14.521251</td>\n",
       "      <td>119.909593</td>\n",
       "      <td>112.0</td>\n",
       "      <td>141.0000</td>\n",
       "      <td>63.0</td>\n",
       "    </tr>\n",
       "    <tr>\n",
       "      <th>3</th>\n",
       "      <td>13.832268</td>\n",
       "      <td>120.645988</td>\n",
       "      <td>65.0</td>\n",
       "      <td>1800.0001</td>\n",
       "      <td>75.0</td>\n",
       "    </tr>\n",
       "    <tr>\n",
       "      <th>4</th>\n",
       "      <td>15.470598</td>\n",
       "      <td>119.068667</td>\n",
       "      <td>47.0</td>\n",
       "      <td>25.0000</td>\n",
       "      <td>50.0</td>\n",
       "    </tr>\n",
       "  </tbody>\n",
       "</table>\n",
       "</div>"
      ],
      "text/plain": [
       "        DLAT       DLONG     Cu         Ni    Co\n",
       "0  15.352256  121.551388  200.0  1347.0000  65.0\n",
       "1  15.353548  121.546128  160.0   642.0000  47.0\n",
       "2  14.521251  119.909593  112.0   141.0000  63.0\n",
       "3  13.832268  120.645988   65.0  1800.0001  75.0\n",
       "4  15.470598  119.068667   47.0    25.0000  50.0"
      ]
     },
     "execution_count": 139,
     "metadata": {},
     "output_type": "execute_result"
    }
   ],
   "source": [
    "df = df.reset_index(drop=True)\n",
    "# df = df.drop(columns=['index'])\n",
    "df.head()"
   ]
  },
  {
   "cell_type": "code",
   "execution_count": 93,
   "id": "c4d4eb60",
   "metadata": {},
   "outputs": [
    {
     "data": {
      "text/plain": [
       "(18115, 5)"
      ]
     },
     "execution_count": 93,
     "metadata": {},
     "output_type": "execute_result"
    }
   ],
   "source": [
    "df.shape"
   ]
  },
  {
   "cell_type": "code",
   "execution_count": 95,
   "id": "131d49f1",
   "metadata": {},
   "outputs": [],
   "source": [
    "import pandas as pd\n",
    "import numpy as np\n",
    "import matplotlib.pyplot as plt\n",
    "from pyrolite.plot import pyroplot\n",
    "from pyrolite.plot.density import density\n",
    "from pyrolite.comp.codata import close"
   ]
  },
  {
   "cell_type": "code",
   "execution_count": 96,
   "id": "2061d00f",
   "metadata": {},
   "outputs": [],
   "source": [
    "df_minerals_log = df[minerals_atomic].apply(lambda x: np.log(x), axis=1)"
   ]
  },
  {
   "cell_type": "code",
   "execution_count": 97,
   "id": "573479df",
   "metadata": {},
   "outputs": [
    {
     "name": "stderr",
     "output_type": "stream",
     "text": [
      "C:\\Users\\elisi\\Miniconda3\\envs\\minerals\\lib\\site-packages\\mpltern\\ternary\\transforms.py:207: RuntimeWarning: divide by zero encountered in true_divide\n",
      "  points /= np.sum(points, axis=1)[:, np.newaxis]\n",
      "C:\\Users\\elisi\\Miniconda3\\envs\\minerals\\lib\\site-packages\\mpltern\\ternary\\transforms.py:207: RuntimeWarning: invalid value encountered in true_divide\n",
      "  points /= np.sum(points, axis=1)[:, np.newaxis]\n"
     ]
    },
    {
     "data": {
      "image/png": "[encoded data removed]",
      "text/plain": [
       "<Figure size 1080x360 with 3 Axes>"
      ]
     },
     "metadata": {
      "needs_background": "light"
     },
     "output_type": "display_data"
    }
   ],
   "source": [
    "fig, ax = plt.subplots(\n",
    "    1,\n",
    "    3,\n",
    "    sharex=True,\n",
    "    sharey=True,\n",
    "    figsize=(15, 5),\n",
    "    subplot_kw=dict(projection=\"ternary\"),\n",
    ")\n",
    "df_minerals_log.pyroplot.scatter(ax=ax[0], alpha=0.05, c=\"k\")\n",
    "for a, mode in zip(ax[1:], [\"hist\", \"density\"]):\n",
    "    df_minerals_log.pyroplot.density(ax=a, mode=mode)\n",
    "    a.set_title(\"Mode: {}\".format(mode), y=1.2)\n",
    "\n",
    "plt.tight_layout()\n",
    "plt.show()"
   ]
  },
  {
   "cell_type": "code",
   "execution_count": 98,
   "id": "ef237702",
   "metadata": {},
   "outputs": [],
   "source": [
    "y = df['Co']\n",
    "X = df.drop(columns=['Co'])"
   ]
  },
  {
   "cell_type": "code",
   "execution_count": 189,
   "id": "94bd371a",
   "metadata": {},
   "outputs": [
    {
     "name": "stdout",
     "output_type": "stream",
     "text": [
      "Train MSE: 392.7033420085637\n",
      "Test MSE: 408.14381003360165\n"
     ]
    }
   ],
   "source": [
    "X_train, X_test, y_train, y_test = train_test_split(\n",
    "    X, y, test_size=0.2, random_state=42, shuffle=True)\n",
    "\n",
    "lr = LinearRegression()\n",
    "\n",
    "lr.fit(X_train, y_train)\n",
    "train_preds = lr.predict(X_train)\n",
    "test_preds = lr.predict(X_test)\n",
    "\n",
    "from sklearn.metrics import mean_squared_error\n",
    "\n",
    "print(f\"Train MSE: {mean_squared_error(train_preds, y_train)}\")\n",
    "print(f\"Test MSE: {mean_squared_error(test_preds, y_test)}\")"
   ]
  },
  {
   "cell_type": "code",
   "execution_count": 190,
   "id": "c15057e1",
   "metadata": {},
   "outputs": [
    {
     "data": {
      "text/plain": [
       "[<matplotlib.lines.Line2D at 0x1b71d97cc70>,\n",
       " <matplotlib.lines.Line2D at 0x1b71d97cca0>]"
      ]
     },
     "execution_count": 190,
     "metadata": {},
     "output_type": "execute_result"
    },
    {
     "data": {
      "image/png": "[encoded data removed]",
      "text/plain": [
       "<Figure size 432x288 with 1 Axes>"
      ]
     },
     "metadata": {
      "needs_background": "light"
     },
     "output_type": "display_data"
    }
   ],
   "source": [
    "plt.plot(range(0, len(test_preds)), y_test, test_preds)"
   ]
  },
  {
   "cell_type": "markdown",
   "id": "1d671e02",
   "metadata": {},
   "source": [
    "#### Random Forrest"
   ]
  },
  {
   "cell_type": "code",
   "execution_count": 197,
   "id": "3ccde10e",
   "metadata": {},
   "outputs": [
    {
     "name": "stdout",
     "output_type": "stream",
     "text": [
      "Train MSE: 84.4294159955939\n",
      "Test MSE: 170.48598330216754\n"
     ]
    }
   ],
   "source": [
    "rf = RandomForestRegressor(n_estimators=50, min_samples_leaf=5)\n",
    "\n",
    "rf.fit(X_train, y_train)\n",
    "train_preds = rf.predict(X_train)\n",
    "test_preds = rf.predict(X_test)\n",
    "\n",
    "print(f\"Train MSE: {mean_squared_error(train_preds, y_train)}\")\n",
    "print(f\"Test MSE: {mean_squared_error(test_preds, y_test)}\")"
   ]
  },
  {
   "cell_type": "code",
   "execution_count": 201,
   "id": "dc7d127f",
   "metadata": {},
   "outputs": [
    {
     "data": {
      "text/plain": [
       "0.111144     DLAT\n",
       "0.096267    DLONG\n",
       "0.094395       Cu\n",
       "0.698194       Ni\n",
       "dtype: object"
      ]
     },
     "execution_count": 201,
     "metadata": {},
     "output_type": "execute_result"
    }
   ],
   "source": [
    "pd.Series(X_train.columns,rf.feature_importances_)"
   ]
  },
  {
   "cell_type": "code",
   "execution_count": null,
   "id": "7df64abf",
   "metadata": {},
   "outputs": [],
   "source": []
  },
  {
   "cell_type": "code",
   "execution_count": null,
   "id": "f1a2d83c",
   "metadata": {},
   "outputs": [],
   "source": []
  }
 ],
 "metadata": {
  "kernelspec": {
   "display_name": "Python 3 (ipykernel)",
   "language": "python",
   "name": "python3"
  },
  "language_info": {
   "codemirror_mode": {
    "name": "ipython",
    "version": 3
   },
   "file_extension": ".py",
   "mimetype": "text/x-python",
   "name": "python",
   "nbconvert_exporter": "python",
   "pygments_lexer": "ipython3",
   "version": "3.9.7"
  }
 },
 "nbformat": 4,
 "nbformat_minor": 5
}
