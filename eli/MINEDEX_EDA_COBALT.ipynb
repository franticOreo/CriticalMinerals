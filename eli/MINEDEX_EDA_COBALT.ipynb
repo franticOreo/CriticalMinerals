{
 "cells": [
  {
   "cell_type": "code",
   "execution_count": 1,
   "id": "c47fc37a",
   "metadata": {},
   "outputs": [],
   "source": [
    "import pandas as pd"
   ]
  },
  {
   "cell_type": "code",
   "execution_count": 2,
   "id": "7fd2dda0",
   "metadata": {},
   "outputs": [
    {
     "data": {
      "text/html": [
       "<div>\n",
       "<style scoped>\n",
       "    .dataframe tbody tr th:only-of-type {\n",
       "        vertical-align: middle;\n",
       "    }\n",
       "\n",
       "    .dataframe tbody tr th {\n",
       "        vertical-align: top;\n",
       "    }\n",
       "\n",
       "    .dataframe thead th {\n",
       "        text-align: right;\n",
       "    }\n",
       "</style>\n",
       "<table border=\"1\" class=\"dataframe\">\n",
       "  <thead>\n",
       "    <tr style=\"text-align: right;\">\n",
       "      <th></th>\n",
       "      <th>SiteCode</th>\n",
       "      <th>ShortTitle</th>\n",
       "      <th>ResourceCode</th>\n",
       "      <th>StartDate</th>\n",
       "      <th>EndDate</th>\n",
       "      <th>ReportingStandard</th>\n",
       "      <th>JORCCategory</th>\n",
       "      <th>JORCStatus</th>\n",
       "      <th>IN_TOTAL_FLAG</th>\n",
       "      <th>In Total Type</th>\n",
       "      <th>...</th>\n",
       "      <th>ContainedMetal</th>\n",
       "      <th>ContainedMetalUnit</th>\n",
       "      <th>CutOffGrade</th>\n",
       "      <th>CutOffGradeUnit</th>\n",
       "      <th>HeavyMineralPct</th>\n",
       "      <th>TargetCommodityGroup</th>\n",
       "      <th>Site_MineralizationStyle</th>\n",
       "      <th>Site_SecondaryMineralizationStyle</th>\n",
       "      <th>Resource_MineralizationStyle</th>\n",
       "      <th>Resource_SecondaryMineralizationStyle</th>\n",
       "    </tr>\n",
       "  </thead>\n",
       "  <tbody>\n",
       "    <tr>\n",
       "      <th>0</th>\n",
       "      <td>S0000001</td>\n",
       "      <td>Pieces of Eight</td>\n",
       "      <td>1</td>\n",
       "      <td>13/07/2005</td>\n",
       "      <td>14/09/2006</td>\n",
       "      <td>Unknown</td>\n",
       "      <td>Resource</td>\n",
       "      <td>Inferred</td>\n",
       "      <td>No</td>\n",
       "      <td>Not in Total</td>\n",
       "      <td>...</td>\n",
       "      <td>903.50</td>\n",
       "      <td>kilogram</td>\n",
       "      <td>NaN</td>\n",
       "      <td>gram/tonne</td>\n",
       "      <td>NaN</td>\n",
       "      <td>GOLD</td>\n",
       "      <td>Vein and hydrothermal - undivided</td>\n",
       "      <td>Unknown/Unassigned</td>\n",
       "      <td>Unknown/Unassigned</td>\n",
       "      <td>Unknown/Unassigned</td>\n",
       "    </tr>\n",
       "    <tr>\n",
       "      <th>1</th>\n",
       "      <td>S0000002</td>\n",
       "      <td>Albury Heath</td>\n",
       "      <td>2</td>\n",
       "      <td>30/06/1999</td>\n",
       "      <td>01/10/2003</td>\n",
       "      <td>Unknown</td>\n",
       "      <td>Resource</td>\n",
       "      <td>Indicated</td>\n",
       "      <td>No</td>\n",
       "      <td>Not in Total</td>\n",
       "      <td>...</td>\n",
       "      <td>379.48</td>\n",
       "      <td>kilogram</td>\n",
       "      <td>NaN</td>\n",
       "      <td>gram/tonne</td>\n",
       "      <td>NaN</td>\n",
       "      <td>GOLD</td>\n",
       "      <td>Vein and hydrothermal - undivided</td>\n",
       "      <td>Au in shears or faults</td>\n",
       "      <td>Unknown/Unassigned</td>\n",
       "      <td>Au in shears or faults</td>\n",
       "    </tr>\n",
       "    <tr>\n",
       "      <th>2</th>\n",
       "      <td>S0000002</td>\n",
       "      <td>Albury Heath</td>\n",
       "      <td>3</td>\n",
       "      <td>04/06/2003</td>\n",
       "      <td>06/02/2017</td>\n",
       "      <td>Unknown</td>\n",
       "      <td>Resource</td>\n",
       "      <td>Measured</td>\n",
       "      <td>Yes</td>\n",
       "      <td>Resources</td>\n",
       "      <td>...</td>\n",
       "      <td>108.16</td>\n",
       "      <td>kilogram</td>\n",
       "      <td>NaN</td>\n",
       "      <td>gram/tonne</td>\n",
       "      <td>NaN</td>\n",
       "      <td>GOLD</td>\n",
       "      <td>Vein and hydrothermal - undivided</td>\n",
       "      <td>Au in shears or faults</td>\n",
       "      <td>Unknown/Unassigned</td>\n",
       "      <td>Unknown/Unassigned</td>\n",
       "    </tr>\n",
       "    <tr>\n",
       "      <th>3</th>\n",
       "      <td>S0000002</td>\n",
       "      <td>Albury Heath</td>\n",
       "      <td>4</td>\n",
       "      <td>04/06/2003</td>\n",
       "      <td>06/02/2017</td>\n",
       "      <td>Unknown</td>\n",
       "      <td>Resource</td>\n",
       "      <td>Indicated</td>\n",
       "      <td>Yes</td>\n",
       "      <td>Resources</td>\n",
       "      <td>...</td>\n",
       "      <td>361.68</td>\n",
       "      <td>kilogram</td>\n",
       "      <td>NaN</td>\n",
       "      <td>gram/tonne</td>\n",
       "      <td>NaN</td>\n",
       "      <td>GOLD</td>\n",
       "      <td>Vein and hydrothermal - undivided</td>\n",
       "      <td>Au in shears or faults</td>\n",
       "      <td>Unknown/Unassigned</td>\n",
       "      <td>Unknown/Unassigned</td>\n",
       "    </tr>\n",
       "    <tr>\n",
       "      <th>4</th>\n",
       "      <td>S0000002</td>\n",
       "      <td>Albury Heath</td>\n",
       "      <td>28452</td>\n",
       "      <td>07/02/2017</td>\n",
       "      <td>11/03/2019</td>\n",
       "      <td>JORC (Australia, version unknown)</td>\n",
       "      <td>Resource</td>\n",
       "      <td>Indicated</td>\n",
       "      <td>Yes</td>\n",
       "      <td>Resources</td>\n",
       "      <td>...</td>\n",
       "      <td>675.00</td>\n",
       "      <td>kilogram</td>\n",
       "      <td>0.5</td>\n",
       "      <td>gram/tonne</td>\n",
       "      <td>NaN</td>\n",
       "      <td>GOLD</td>\n",
       "      <td>Vein and hydrothermal - undivided</td>\n",
       "      <td>Au in shears or faults</td>\n",
       "      <td>Unknown/Unassigned</td>\n",
       "      <td>Unknown/Unassigned</td>\n",
       "    </tr>\n",
       "  </tbody>\n",
       "</table>\n",
       "<p>5 rows × 24 columns</p>\n",
       "</div>"
      ],
      "text/plain": [
       "   SiteCode       ShortTitle  ResourceCode   StartDate     EndDate  \\\n",
       "0  S0000001  Pieces of Eight             1  13/07/2005  14/09/2006   \n",
       "1  S0000002     Albury Heath             2  30/06/1999  01/10/2003   \n",
       "2  S0000002     Albury Heath             3  04/06/2003  06/02/2017   \n",
       "3  S0000002     Albury Heath             4  04/06/2003  06/02/2017   \n",
       "4  S0000002     Albury Heath         28452  07/02/2017  11/03/2019   \n",
       "\n",
       "                   ReportingStandard JORCCategory JORCStatus IN_TOTAL_FLAG  \\\n",
       "0                            Unknown     Resource   Inferred            No   \n",
       "1                            Unknown     Resource  Indicated            No   \n",
       "2                            Unknown     Resource   Measured           Yes   \n",
       "3                            Unknown     Resource  Indicated           Yes   \n",
       "4  JORC (Australia, version unknown)     Resource  Indicated           Yes   \n",
       "\n",
       "  In Total Type  ...  ContainedMetal  ContainedMetalUnit CutOffGrade  \\\n",
       "0  Not in Total  ...          903.50            kilogram         NaN   \n",
       "1  Not in Total  ...          379.48            kilogram         NaN   \n",
       "2     Resources  ...          108.16            kilogram         NaN   \n",
       "3     Resources  ...          361.68            kilogram         NaN   \n",
       "4     Resources  ...          675.00            kilogram         0.5   \n",
       "\n",
       "  CutOffGradeUnit  HeavyMineralPct TargetCommodityGroup  \\\n",
       "0      gram/tonne              NaN                 GOLD   \n",
       "1      gram/tonne              NaN                 GOLD   \n",
       "2      gram/tonne              NaN                 GOLD   \n",
       "3      gram/tonne              NaN                 GOLD   \n",
       "4      gram/tonne              NaN                 GOLD   \n",
       "\n",
       "            Site_MineralizationStyle Site_SecondaryMineralizationStyle  \\\n",
       "0  Vein and hydrothermal - undivided                Unknown/Unassigned   \n",
       "1  Vein and hydrothermal - undivided            Au in shears or faults   \n",
       "2  Vein and hydrothermal - undivided            Au in shears or faults   \n",
       "3  Vein and hydrothermal - undivided            Au in shears or faults   \n",
       "4  Vein and hydrothermal - undivided            Au in shears or faults   \n",
       "\n",
       "   Resource_MineralizationStyle Resource_SecondaryMineralizationStyle  \n",
       "0            Unknown/Unassigned                    Unknown/Unassigned  \n",
       "1            Unknown/Unassigned                Au in shears or faults  \n",
       "2            Unknown/Unassigned                    Unknown/Unassigned  \n",
       "3            Unknown/Unassigned                    Unknown/Unassigned  \n",
       "4            Unknown/Unassigned                    Unknown/Unassigned  \n",
       "\n",
       "[5 rows x 24 columns]"
      ]
     },
     "execution_count": 2,
     "metadata": {},
     "output_type": "execute_result"
    }
   ],
   "source": [
    "df_re = pd.read_csv('../data/minedex/ResourceEstimates.csv')\n",
    "df_re.head()"
   ]
  },
  {
   "cell_type": "markdown",
   "id": "d5debf42",
   "metadata": {},
   "source": [
    "### SiteMineralization"
   ]
  },
  {
   "cell_type": "code",
   "execution_count": 3,
   "id": "5cd7475a",
   "metadata": {},
   "outputs": [],
   "source": [
    "df_mi = pd.read_csv('../data/minedex/SiteMineralization.csv')\n",
    "# df_mi['MineralizationStyle'].unique()"
   ]
  },
  {
   "cell_type": "markdown",
   "id": "4091983a",
   "metadata": {},
   "source": [
    "\n",
    " ·      Cobalt associated with nickel (and copper) in so-called orthomagmatic (igneous) mafic to ultramafic volcanic (komatiite)-hosted and intrusion-hosted deposits"
   ]
  },
  {
   "cell_type": "code",
   "execution_count": 9,
   "id": "926944c9",
   "metadata": {},
   "outputs": [
    {
     "data": {
      "text/plain": [
       "array(['Vein and hydrothermal - undivided',\n",
       "       'Regolith - residual and supergene', 'Unknown/Unassigned',\n",
       "       'Regolith - residual to eluvial placers',\n",
       "       'Stratabound sedimentary - clastic-hosted',\n",
       "       'Regolith - alluvial to beach placers',\n",
       "       'Stratabound volcanic and sedimentary - volcanic-hosted sulfide',\n",
       "       'Regolith - calcrete', 'Pegmatitic',\n",
       "       'Sedimentary - banded iron-formation (taconite)',\n",
       "       'Stratabound volcanic and sedimentary - volcanic oxide',\n",
       "       'Orthomagmatic mafic and ultramafic - layered mafic intrusions',\n",
       "       'Sedimentary - banded iron-formation (supergene enriched)',\n",
       "       'Orthomagmatic mafic and ultramafic - komatiitic or dunitic',\n",
       "       'Sedimentary - undivided',\n",
       "       'Stratabound sedimentary - carbonate-hosted',\n",
       "       'Stratabound volcanic and sedimentary - sedimentary-hosted sulfide',\n",
       "       'Kimberlite and lamproite intrusions',\n",
       "       'Carbonatite and alkaline igneous intrusions',\n",
       "       'Orthomagmatic mafic and ultramafic - undivided',\n",
       "       'Regolith - lacustrine', 'Skarn', 'Regolith - eolianite',\n",
       "       'Stratabound sedimentary - undivided',\n",
       "       'Stratabound volcanic and sedimentary - undivided',\n",
       "       'Vein and hydrothermal - unconformity', 'Sedimentary - basin',\n",
       "       'Greisen', 'Disseminated and stockwork in plutonic intrusions',\n",
       "       nan, 'Sedimentary - granular iron formation'], dtype=object)"
      ]
     },
     "execution_count": 9,
     "metadata": {},
     "output_type": "execute_result"
    }
   ],
   "source": [
    "df_mi['MineralizationStyle'].unique()"
   ]
  },
  {
   "cell_type": "markdown",
   "id": "1fe01002",
   "metadata": {},
   "source": [
    "### Filter by Orthomagmatic"
   ]
  },
  {
   "cell_type": "code",
   "execution_count": 13,
   "id": "8876cfde",
   "metadata": {},
   "outputs": [],
   "source": [
    "orth_deposits = ['Orthomagmatic mafic and ultramafic - layered mafic intrusions', \\\n",
    "        'Orthomagmatic mafic and ultramafic - komatiitic or dunitic']\n",
    "\n",
    "df_mi = df_mi[df_mi['MineralizationStyle'].isin(orth_deposits)]"
   ]
  },
  {
   "cell_type": "code",
   "execution_count": 14,
   "id": "f1bdb0d3",
   "metadata": {},
   "outputs": [],
   "source": [
    "df_re = df_re.merge(df_mi[['SiteCode', 'MineralizationStyle']])\n",
    "# df_re.head()"
   ]
  },
  {
   "cell_type": "code",
   "execution_count": 16,
   "id": "d1af3cf9",
   "metadata": {},
   "outputs": [
    {
     "data": {
      "text/html": [
       "<div>\n",
       "<style scoped>\n",
       "    .dataframe tbody tr th:only-of-type {\n",
       "        vertical-align: middle;\n",
       "    }\n",
       "\n",
       "    .dataframe tbody tr th {\n",
       "        vertical-align: top;\n",
       "    }\n",
       "\n",
       "    .dataframe thead th {\n",
       "        text-align: right;\n",
       "    }\n",
       "</style>\n",
       "<table border=\"1\" class=\"dataframe\">\n",
       "  <thead>\n",
       "    <tr style=\"text-align: right;\">\n",
       "      <th></th>\n",
       "      <th>SiteCode</th>\n",
       "      <th>StartDate</th>\n",
       "      <th>EndDate</th>\n",
       "      <th>ResourceCode</th>\n",
       "      <th>ShortTitle</th>\n",
       "      <th>JORCCategory</th>\n",
       "      <th>Tonnage (Mt)</th>\n",
       "      <th>CommodityName</th>\n",
       "      <th>ContainedMetal</th>\n",
       "      <th>TargetCommodityGroup</th>\n",
       "      <th>MineralizationStyle</th>\n",
       "    </tr>\n",
       "  </thead>\n",
       "  <tbody>\n",
       "    <tr>\n",
       "      <th>0</th>\n",
       "      <td>S0001197</td>\n",
       "      <td>31/12/1973</td>\n",
       "      <td>31/12/2017</td>\n",
       "      <td>1810</td>\n",
       "      <td>Byro East</td>\n",
       "      <td>Resource</td>\n",
       "      <td>0.100</td>\n",
       "      <td>Nickel</td>\n",
       "      <td>1.400</td>\n",
       "      <td>NICKEL</td>\n",
       "      <td>Orthomagmatic mafic and ultramafic - layered m...</td>\n",
       "    </tr>\n",
       "    <tr>\n",
       "      <th>1</th>\n",
       "      <td>S0001204</td>\n",
       "      <td>30/06/1997</td>\n",
       "      <td>01/06/2001</td>\n",
       "      <td>1816</td>\n",
       "      <td>Carr Boyd Rocks</td>\n",
       "      <td>Resource</td>\n",
       "      <td>0.313</td>\n",
       "      <td>Copper</td>\n",
       "      <td>1.565</td>\n",
       "      <td>NICKEL</td>\n",
       "      <td>Orthomagmatic mafic and ultramafic - layered m...</td>\n",
       "    </tr>\n",
       "  </tbody>\n",
       "</table>\n",
       "</div>"
      ],
      "text/plain": [
       "   SiteCode   StartDate     EndDate  ResourceCode       ShortTitle  \\\n",
       "0  S0001197  31/12/1973  31/12/2017          1810        Byro East   \n",
       "1  S0001204  30/06/1997  01/06/2001          1816  Carr Boyd Rocks   \n",
       "\n",
       "  JORCCategory  Tonnage (Mt) CommodityName  ContainedMetal  \\\n",
       "0     Resource         0.100        Nickel           1.400   \n",
       "1     Resource         0.313        Copper           1.565   \n",
       "\n",
       "  TargetCommodityGroup                                MineralizationStyle  \n",
       "0               NICKEL  Orthomagmatic mafic and ultramafic - layered m...  \n",
       "1               NICKEL  Orthomagmatic mafic and ultramafic - layered m...  "
      ]
     },
     "execution_count": 16,
     "metadata": {},
     "output_type": "execute_result"
    }
   ],
   "source": [
    "df_re = df_re[['SiteCode', 'StartDate', 'EndDate', 'ResourceCode', 'ShortTitle',\n",
    "               'JORCCategory', 'Tonnage (Mt)', 'CommodityName', 'ContainedMetal',\n",
    "               'TargetCommodityGroup', 'MineralizationStyle']]\n",
    "\n",
    "df_re.head(2)"
   ]
  },
  {
   "cell_type": "code",
   "execution_count": 18,
   "id": "ac8243d7",
   "metadata": {},
   "outputs": [
    {
     "data": {
      "text/plain": [
       "Panton      225\n",
       "Leinster    151\n",
       "Mt Keith    130\n",
       "Name: ShortTitle, dtype: int64"
      ]
     },
     "execution_count": 18,
     "metadata": {},
     "output_type": "execute_result"
    }
   ],
   "source": [
    "df_re.ShortTitle.value_counts()[:3]"
   ]
  },
  {
   "cell_type": "code",
   "execution_count": 23,
   "id": "4b9d1772",
   "metadata": {},
   "outputs": [
    {
     "data": {
      "text/plain": [
       "Nickel                681\n",
       "Copper                188\n",
       "Vanadium pentoxide    157\n",
       "Name: CommodityName, dtype: int64"
      ]
     },
     "execution_count": 23,
     "metadata": {},
     "output_type": "execute_result"
    }
   ],
   "source": [
    "df_re['CommodityName'].value_counts()[:3]"
   ]
  },
  {
   "cell_type": "code",
   "execution_count": 24,
   "id": "18a49acd",
   "metadata": {},
   "outputs": [
    {
     "name": "stdout",
     "output_type": "stream",
     "text": [
      "(681, 11)\n"
     ]
    }
   ],
   "source": [
    "df_re_just_nickel = df_re[df_re['CommodityName'] == 'Nickel']\n",
    "df_re_just_nickel.head(2)\n",
    "print(df_re_just_nickel.shape)"
   ]
  },
  {
   "cell_type": "code",
   "execution_count": 28,
   "id": "bd299d38",
   "metadata": {},
   "outputs": [],
   "source": [
    "sites_with_nickel = df_re_just_nickel.SiteCode.unique()"
   ]
  },
  {
   "cell_type": "code",
   "execution_count": 29,
   "id": "c8bc037b",
   "metadata": {},
   "outputs": [],
   "source": [
    "df_re_with_nickel = df_re[df_re['SiteCode'].isin(sites_with_nickel)]"
   ]
  },
  {
   "cell_type": "code",
   "execution_count": 31,
   "id": "5a764095",
   "metadata": {},
   "outputs": [
    {
     "data": {
      "text/html": [
       "<div>\n",
       "<style scoped>\n",
       "    .dataframe tbody tr th:only-of-type {\n",
       "        vertical-align: middle;\n",
       "    }\n",
       "\n",
       "    .dataframe tbody tr th {\n",
       "        vertical-align: top;\n",
       "    }\n",
       "\n",
       "    .dataframe thead th {\n",
       "        text-align: right;\n",
       "    }\n",
       "</style>\n",
       "<table border=\"1\" class=\"dataframe\">\n",
       "  <thead>\n",
       "    <tr style=\"text-align: right;\">\n",
       "      <th></th>\n",
       "      <th>SiteCode</th>\n",
       "      <th>StartDate</th>\n",
       "      <th>EndDate</th>\n",
       "      <th>ResourceCode</th>\n",
       "      <th>ShortTitle</th>\n",
       "      <th>JORCCategory</th>\n",
       "      <th>Tonnage (Mt)</th>\n",
       "      <th>CommodityName</th>\n",
       "      <th>ContainedMetal</th>\n",
       "      <th>TargetCommodityGroup</th>\n",
       "      <th>MineralizationStyle</th>\n",
       "    </tr>\n",
       "  </thead>\n",
       "  <tbody>\n",
       "    <tr>\n",
       "      <th>0</th>\n",
       "      <td>S0001197</td>\n",
       "      <td>31/12/1973</td>\n",
       "      <td>31/12/2017</td>\n",
       "      <td>1810</td>\n",
       "      <td>Byro East</td>\n",
       "      <td>Resource</td>\n",
       "      <td>0.100</td>\n",
       "      <td>Nickel</td>\n",
       "      <td>1.400</td>\n",
       "      <td>NICKEL</td>\n",
       "      <td>Orthomagmatic mafic and ultramafic - layered m...</td>\n",
       "    </tr>\n",
       "    <tr>\n",
       "      <th>1</th>\n",
       "      <td>S0001204</td>\n",
       "      <td>30/06/1997</td>\n",
       "      <td>01/06/2001</td>\n",
       "      <td>1816</td>\n",
       "      <td>Carr Boyd Rocks</td>\n",
       "      <td>Resource</td>\n",
       "      <td>0.313</td>\n",
       "      <td>Copper</td>\n",
       "      <td>1.565</td>\n",
       "      <td>NICKEL</td>\n",
       "      <td>Orthomagmatic mafic and ultramafic - layered m...</td>\n",
       "    </tr>\n",
       "  </tbody>\n",
       "</table>\n",
       "</div>"
      ],
      "text/plain": [
       "   SiteCode   StartDate     EndDate  ResourceCode       ShortTitle  \\\n",
       "0  S0001197  31/12/1973  31/12/2017          1810        Byro East   \n",
       "1  S0001204  30/06/1997  01/06/2001          1816  Carr Boyd Rocks   \n",
       "\n",
       "  JORCCategory  Tonnage (Mt) CommodityName  ContainedMetal  \\\n",
       "0     Resource         0.100        Nickel           1.400   \n",
       "1     Resource         0.313        Copper           1.565   \n",
       "\n",
       "  TargetCommodityGroup                                MineralizationStyle  \n",
       "0               NICKEL  Orthomagmatic mafic and ultramafic - layered m...  \n",
       "1               NICKEL  Orthomagmatic mafic and ultramafic - layered m...  "
      ]
     },
     "execution_count": 31,
     "metadata": {},
     "output_type": "execute_result"
    }
   ],
   "source": [
    "df_re_with_nickel.head(2)"
   ]
  },
  {
   "cell_type": "code",
   "execution_count": 37,
   "id": "6daab846",
   "metadata": {},
   "outputs": [
    {
     "data": {
      "text/plain": [
       "array(['Nickel', 'Copper', 'Cobalt', 'Palladium', 'Gold',\n",
       "       'Platinum group elements + gold', 'Platinum', 'Rhodium',\n",
       "       'Nickel + copper', 'Magnesium oxide', 'Iron', 'Sulfur',\n",
       "       'Iron - ferric oxide', 'Silver', 'Platinum group elements'],\n",
       "      dtype=object)"
      ]
     },
     "execution_count": 37,
     "metadata": {},
     "output_type": "execute_result"
    }
   ],
   "source": [
    "df_re_with_nickel['CommodityName'].unique()"
   ]
  },
  {
   "cell_type": "code",
   "execution_count": 44,
   "id": "1d0ec8cc",
   "metadata": {},
   "outputs": [
    {
     "data": {
      "text/plain": [
       "0.14243759177679882"
      ]
     },
     "execution_count": 44,
     "metadata": {},
     "output_type": "execute_result"
    }
   ],
   "source": [
    "df_with_colbalt = df_re_with_nickel[df_re_with_nickel['CommodityName'] == 'Cobalt']\n",
    "\n",
    "df_with_colbalt.shape[0] / df_re_just_nickel.shape[0]"
   ]
  },
  {
   "cell_type": "markdown",
   "id": "9285ee55",
   "metadata": {},
   "source": [
    "14% of the dataframe has Cobalt measured."
   ]
  },
  {
   "cell_type": "code",
   "execution_count": 45,
   "id": "126458b8",
   "metadata": {},
   "outputs": [
    {
     "data": {
      "text/plain": [
       "(681, 11)"
      ]
     },
     "execution_count": 45,
     "metadata": {},
     "output_type": "execute_result"
    }
   ],
   "source": [
    "df_re_just_nickel.shape"
   ]
  },
  {
   "cell_type": "code",
   "execution_count": 49,
   "id": "73c5d6e1",
   "metadata": {},
   "outputs": [
    {
     "data": {
      "text/plain": [
       "[array(['Nickel'], dtype=object),\n",
       " array(['Copper', 'Nickel'], dtype=object),\n",
       " array(['Nickel'], dtype=object),\n",
       " array(['Nickel', 'Cobalt'], dtype=object),\n",
       " array(['Copper', 'Nickel', 'Palladium', 'Cobalt'], dtype=object),\n",
       " array(['Copper', 'Cobalt', 'Nickel'], dtype=object),\n",
       " array(['Copper', 'Nickel', 'Cobalt'], dtype=object),\n",
       " array(['Nickel'], dtype=object),\n",
       " array(['Nickel'], dtype=object),\n",
       " array(['Nickel'], dtype=object),\n",
       " array(['Copper', 'Cobalt', 'Nickel', 'Palladium'], dtype=object),\n",
       " array(['Gold', 'Platinum group elements + gold', 'Platinum', 'Palladium',\n",
       "        'Rhodium', 'Nickel', 'Copper'], dtype=object),\n",
       " array(['Platinum group elements + gold', 'Copper', 'Palladium', 'Rhodium',\n",
       "        'Platinum', 'Gold', 'Nickel'], dtype=object),\n",
       " array(['Nickel'], dtype=object),\n",
       " array(['Nickel'], dtype=object),\n",
       " array(['Nickel', 'Copper', 'Nickel + copper', 'Cobalt'], dtype=object),\n",
       " array(['Copper', 'Nickel', 'Cobalt'], dtype=object),\n",
       " array(['Nickel'], dtype=object),\n",
       " array(['Nickel'], dtype=object),\n",
       " array(['Nickel'], dtype=object),\n",
       " array(['Nickel'], dtype=object),\n",
       " array(['Nickel'], dtype=object),\n",
       " array(['Palladium', 'Cobalt', 'Nickel', 'Copper'], dtype=object),\n",
       " array(['Nickel'], dtype=object),\n",
       " array(['Cobalt', 'Magnesium oxide', 'Iron', 'Sulfur', 'Copper', 'Nickel',\n",
       "        'Iron - ferric oxide', 'Palladium', 'Platinum', 'Gold', 'Silver'],\n",
       "       dtype=object),\n",
       " array(['Magnesium oxide', 'Copper', 'Nickel', 'Cobalt', 'Iron', 'Sulfur',\n",
       "        'Iron - ferric oxide', 'Gold', 'Palladium', 'Platinum', 'Silver'],\n",
       "       dtype=object),\n",
       " array(['Palladium', 'Platinum', 'Copper', 'Cobalt', 'Nickel'],\n",
       "       dtype=object),\n",
       " array(['Nickel', 'Copper', 'Cobalt'], dtype=object),\n",
       " array(['Palladium', 'Platinum', 'Gold', 'Copper', 'Nickel'], dtype=object),\n",
       " array(['Copper', 'Nickel', 'Platinum group elements', 'Cobalt',\n",
       "        'Magnesium oxide', 'Iron', 'Sulfur'], dtype=object),\n",
       " array(['Nickel'], dtype=object),\n",
       " array(['Nickel'], dtype=object),\n",
       " array(['Palladium', 'Rhodium', 'Copper', 'Nickel', 'Gold', 'Platinum'],\n",
       "       dtype=object),\n",
       " array(['Nickel'], dtype=object),\n",
       " array(['Nickel'], dtype=object)]"
      ]
     },
     "execution_count": 49,
     "metadata": {},
     "output_type": "execute_result"
    }
   ],
   "source": [
    "site_and_commodities = df_re_with_nickel.groupby('SiteCode')['CommodityName'].unique()\n",
    "site_and_commodities.to_list()"
   ]
  },
  {
   "cell_type": "code",
   "execution_count": 32,
   "id": "09a63290",
   "metadata": {},
   "outputs": [
    {
     "data": {
      "text/plain": [
       "(Index(['S0001179', 'S0001250', 'S0001257'], dtype='object', name='SiteCode'),\n",
       " array([array(['Silver', 'Zinc', 'Lead'], dtype=object),\n",
       "        array(['Zinc', 'Copper', 'Silver'], dtype=object),\n",
       "        array(['Gold', 'Zinc', 'Copper', 'Lead', 'Silver'], dtype=object)],\n",
       "       dtype=object))"
      ]
     },
     "execution_count": 32,
     "metadata": {},
     "output_type": "execute_result"
    }
   ],
   "source": [
    "# convert series to tuple for easy indexing\n",
    "sites, commodities = tuple([site_and_commodities.index, site_and_commodities.values])\n",
    "\n",
    "sites[:3], commodities[:3]"
   ]
  },
  {
   "cell_type": "markdown",
   "id": "a8164161",
   "metadata": {},
   "source": [
    "### Site 0"
   ]
  },
  {
   "cell_type": "code",
   "execution_count": 34,
   "id": "c4c43b66",
   "metadata": {},
   "outputs": [],
   "source": [
    "site_code = sites[0]\n",
    "site_commodities = commodities[0]\n",
    "\n",
    "### # GROUPBY ResourceCode\n",
    "df_site = df_re_with_nickel[df_re_with_nickel['SiteCode'] == site_code]"
   ]
  },
  {
   "cell_type": "code",
   "execution_count": 35,
   "id": "19d7ecf4",
   "metadata": {},
   "outputs": [],
   "source": [
    "df_site_inputs = dict(zip(df_site['CommodityName'].values, df_site['ContainedMetal'].values))"
   ]
  },
  {
   "cell_type": "code",
   "execution_count": 36,
   "id": "bf60adfc",
   "metadata": {},
   "outputs": [
    {
     "data": {
      "text/plain": [
       "{'Silver': 45000.0, 'Zinc': 5.625, 'Lead': 6.75}"
      ]
     },
     "execution_count": 36,
     "metadata": {},
     "output_type": "execute_result"
    }
   ],
   "source": [
    "df_site_inputs"
   ]
  },
  {
   "cell_type": "markdown",
   "id": "97fa5381",
   "metadata": {},
   "source": [
    "# Modelling"
   ]
  },
  {
   "cell_type": "code",
   "execution_count": 39,
   "id": "4030bfd7",
   "metadata": {},
   "outputs": [],
   "source": [
    "from sklearn.model_selection import train_test_split\n",
    "from sklearn.linear_model import LinearRegression"
   ]
  },
  {
   "cell_type": "code",
   "execution_count": 40,
   "id": "7656ad35",
   "metadata": {},
   "outputs": [
    {
     "data": {
      "text/html": [
       "<div>\n",
       "<style scoped>\n",
       "    .dataframe tbody tr th:only-of-type {\n",
       "        vertical-align: middle;\n",
       "    }\n",
       "\n",
       "    .dataframe tbody tr th {\n",
       "        vertical-align: top;\n",
       "    }\n",
       "\n",
       "    .dataframe thead th {\n",
       "        text-align: right;\n",
       "    }\n",
       "</style>\n",
       "<table border=\"1\" class=\"dataframe\">\n",
       "  <thead>\n",
       "    <tr style=\"text-align: right;\">\n",
       "      <th></th>\n",
       "      <th>Unnamed: 0</th>\n",
       "      <th>Sample</th>\n",
       "      <th>Code</th>\n",
       "      <th>Au (FA)</th>\n",
       "      <th>Pt</th>\n",
       "      <th>Pd</th>\n",
       "      <th>Au (AR)</th>\n",
       "      <th>Bi</th>\n",
       "      <th>Te</th>\n",
       "      <th>Hg</th>\n",
       "      <th>...</th>\n",
       "      <th>Si</th>\n",
       "      <th>Zr</th>\n",
       "      <th>Be</th>\n",
       "      <th>Ga</th>\n",
       "      <th>Ge</th>\n",
       "      <th>Wt Tot</th>\n",
       "      <th>Class</th>\n",
       "      <th>LAT</th>\n",
       "      <th>LONG</th>\n",
       "      <th>State</th>\n",
       "    </tr>\n",
       "  </thead>\n",
       "  <tbody>\n",
       "    <tr>\n",
       "      <th>0</th>\n",
       "      <td>0</td>\n",
       "      <td>700001</td>\n",
       "      <td>NaN</td>\n",
       "      <td>0.438</td>\n",
       "      <td>0.002</td>\n",
       "      <td>0.002</td>\n",
       "      <td>0.362</td>\n",
       "      <td>10.6</td>\n",
       "      <td>0.02</td>\n",
       "      <td>0.39</td>\n",
       "      <td>...</td>\n",
       "      <td>34200</td>\n",
       "      <td>60</td>\n",
       "      <td>-1.0</td>\n",
       "      <td>11.0</td>\n",
       "      <td>1</td>\n",
       "      <td>159.0</td>\n",
       "      <td>VHMS</td>\n",
       "      <td>-35.062625</td>\n",
       "      <td>149.569996</td>\n",
       "      <td>New South Wales</td>\n",
       "    </tr>\n",
       "    <tr>\n",
       "      <th>1</th>\n",
       "      <td>1</td>\n",
       "      <td>700002</td>\n",
       "      <td>NaN</td>\n",
       "      <td>0.093</td>\n",
       "      <td>0.001</td>\n",
       "      <td>0.002</td>\n",
       "      <td>0.095</td>\n",
       "      <td>125.0</td>\n",
       "      <td>0.22</td>\n",
       "      <td>0.12</td>\n",
       "      <td>...</td>\n",
       "      <td>114000</td>\n",
       "      <td>20</td>\n",
       "      <td>-1.0</td>\n",
       "      <td>2.0</td>\n",
       "      <td>-1</td>\n",
       "      <td>143.0</td>\n",
       "      <td>VHMS</td>\n",
       "      <td>-35.062625</td>\n",
       "      <td>149.569996</td>\n",
       "      <td>New South Wales</td>\n",
       "    </tr>\n",
       "  </tbody>\n",
       "</table>\n",
       "<p>2 rows × 74 columns</p>\n",
       "</div>"
      ],
      "text/plain": [
       "   Unnamed: 0  Sample Code  Au (FA)     Pt     Pd  Au (AR)     Bi    Te    Hg  \\\n",
       "0           0  700001  NaN    0.438  0.002  0.002    0.362   10.6  0.02  0.39   \n",
       "1           1  700002  NaN    0.093  0.001  0.002    0.095  125.0  0.22  0.12   \n",
       "\n",
       "   ...      Si  Zr   Be    Ga  Ge  Wt Tot  Class        LAT        LONG  \\\n",
       "0  ...   34200  60 -1.0  11.0   1   159.0   VHMS -35.062625  149.569996   \n",
       "1  ...  114000  20 -1.0   2.0  -1   143.0   VHMS -35.062625  149.569996   \n",
       "\n",
       "             State  \n",
       "0  New South Wales  \n",
       "1  New South Wales  \n",
       "\n",
       "[2 rows x 74 columns]"
      ]
     },
     "execution_count": 40,
     "metadata": {},
     "output_type": "execute_result"
    }
   ],
   "source": [
    "df_osnaca_vhms = pd.read_csv('../data/osnaca/osnaca_vhms.csv')\n",
    "df_osnaca_vhms.head(2)"
   ]
  },
  {
   "cell_type": "code",
   "execution_count": 41,
   "id": "10ea8dac",
   "metadata": {},
   "outputs": [],
   "source": [
    "df_osnaca_vhms = df_osnaca_vhms.drop(columns=['Class', 'State', 'Unnamed: 0'])"
   ]
  },
  {
   "cell_type": "code",
   "execution_count": 45,
   "id": "10ec0d82",
   "metadata": {},
   "outputs": [
    {
     "data": {
      "text/html": [
       "<div>\n",
       "<style scoped>\n",
       "    .dataframe tbody tr th:only-of-type {\n",
       "        vertical-align: middle;\n",
       "    }\n",
       "\n",
       "    .dataframe tbody tr th {\n",
       "        vertical-align: top;\n",
       "    }\n",
       "\n",
       "    .dataframe thead th {\n",
       "        text-align: right;\n",
       "    }\n",
       "</style>\n",
       "<table border=\"1\" class=\"dataframe\">\n",
       "  <thead>\n",
       "    <tr style=\"text-align: right;\">\n",
       "      <th></th>\n",
       "      <th>Ag</th>\n",
       "      <th>Zn</th>\n",
       "      <th>Pb</th>\n",
       "    </tr>\n",
       "  </thead>\n",
       "  <tbody>\n",
       "    <tr>\n",
       "      <th>0</th>\n",
       "      <td>91.5</td>\n",
       "      <td>153000</td>\n",
       "      <td>54700</td>\n",
       "    </tr>\n",
       "    <tr>\n",
       "      <th>1</th>\n",
       "      <td>44.0</td>\n",
       "      <td>3780</td>\n",
       "      <td>3700</td>\n",
       "    </tr>\n",
       "    <tr>\n",
       "      <th>2</th>\n",
       "      <td>215.0</td>\n",
       "      <td>219000</td>\n",
       "      <td>68500</td>\n",
       "    </tr>\n",
       "    <tr>\n",
       "      <th>3</th>\n",
       "      <td>2.5</td>\n",
       "      <td>755</td>\n",
       "      <td>323</td>\n",
       "    </tr>\n",
       "    <tr>\n",
       "      <th>4</th>\n",
       "      <td>162.0</td>\n",
       "      <td>173000</td>\n",
       "      <td>733</td>\n",
       "    </tr>\n",
       "    <tr>\n",
       "      <th>...</th>\n",
       "      <td>...</td>\n",
       "      <td>...</td>\n",
       "      <td>...</td>\n",
       "    </tr>\n",
       "    <tr>\n",
       "      <th>129</th>\n",
       "      <td>36.5</td>\n",
       "      <td>340000</td>\n",
       "      <td>65</td>\n",
       "    </tr>\n",
       "    <tr>\n",
       "      <th>130</th>\n",
       "      <td>113.0</td>\n",
       "      <td>795</td>\n",
       "      <td>69</td>\n",
       "    </tr>\n",
       "    <tr>\n",
       "      <th>131</th>\n",
       "      <td>70.5</td>\n",
       "      <td>6160</td>\n",
       "      <td>455</td>\n",
       "    </tr>\n",
       "    <tr>\n",
       "      <th>132</th>\n",
       "      <td>89.0</td>\n",
       "      <td>315000</td>\n",
       "      <td>20000</td>\n",
       "    </tr>\n",
       "    <tr>\n",
       "      <th>133</th>\n",
       "      <td>29.0</td>\n",
       "      <td>7530</td>\n",
       "      <td>5300</td>\n",
       "    </tr>\n",
       "  </tbody>\n",
       "</table>\n",
       "<p>134 rows × 3 columns</p>\n",
       "</div>"
      ],
      "text/plain": [
       "        Ag      Zn     Pb\n",
       "0     91.5  153000  54700\n",
       "1     44.0    3780   3700\n",
       "2    215.0  219000  68500\n",
       "3      2.5     755    323\n",
       "4    162.0  173000    733\n",
       "..     ...     ...    ...\n",
       "129   36.5  340000     65\n",
       "130  113.0     795     69\n",
       "131   70.5    6160    455\n",
       "132   89.0  315000  20000\n",
       "133   29.0    7530   5300\n",
       "\n",
       "[134 rows x 3 columns]"
      ]
     },
     "execution_count": 45,
     "metadata": {},
     "output_type": "execute_result"
    }
   ],
   "source": [
    "RESPONSE_VAR = 'Ge'\n",
    "\n",
    "full_name_to_atomic = {\n",
    "    \"Copper\": 'Cu',\n",
    "    \"Zinc\": 'Zn',\n",
    "    \"Germanium\": 'Ge',\n",
    "    \"Silver\": 'Ag',\n",
    "    \"Lead\": 'Pb'\n",
    "}\n",
    "\n",
    "\n",
    "def filter_assay_df(df, list_of_inputs, critical_mineral):\n",
    "    # convert full commodity name to atomic format\n",
    "    list_of_inputs_atomic = [full_name_to_atomic[name] for name in list_of_inputs]\n",
    "    # index df with inputs in atomic format\n",
    "    X = df[list_of_inputs_atomic]\n",
    "    y = df[critical_mineral]\n",
    "\n",
    "    return X, y  \n",
    "\n",
    "list_of_elements = list(df_site_inputs.keys())\n",
    "\n",
    "X, y  = filter_assay_df(df_osnaca_vhms, list_of_elements, critical_mineral=RESPONSE_VAR)\n",
    "X"
   ]
  },
  {
   "cell_type": "code",
   "execution_count": 46,
   "id": "9f64ed2e",
   "metadata": {},
   "outputs": [],
   "source": [
    "X_train, X_test, y_train, y_test = train_test_split(\n",
    "    X, y, test_size=0.2, random_state=42)"
   ]
  },
  {
   "cell_type": "markdown",
   "id": "5a73a8ff",
   "metadata": {},
   "source": [
    "## Training on VHMS Assays"
   ]
  },
  {
   "cell_type": "markdown",
   "id": "bc15645b",
   "metadata": {},
   "source": [
    "### Linear Regression"
   ]
  },
  {
   "cell_type": "code",
   "execution_count": 47,
   "id": "1c492e5f",
   "metadata": {},
   "outputs": [],
   "source": [
    "lr = LinearRegression()\n",
    "\n",
    "lr.fit(X_train, y_train)\n",
    "train_preds = lr.predict(X_train)\n",
    "test_preds = lr.predict(X_test)"
   ]
  },
  {
   "cell_type": "code",
   "execution_count": 48,
   "id": "748b02ac",
   "metadata": {},
   "outputs": [
    {
     "name": "stdout",
     "output_type": "stream",
     "text": [
      "Train MSE: 79.62952283041305\n",
      "Test MSE: 1881.6293529052564\n"
     ]
    }
   ],
   "source": [
    "from sklearn.metrics import mean_squared_error\n",
    "\n",
    "print(f\"Train MSE: {mean_squared_error(train_preds, y_train)}\")\n",
    "print(f\"Test MSE: {mean_squared_error(test_preds, y_test)}\")"
   ]
  },
  {
   "cell_type": "markdown",
   "id": "2f3b66fe",
   "metadata": {},
   "source": [
    "### Random Forrest"
   ]
  },
  {
   "cell_type": "code",
   "execution_count": 49,
   "id": "e1fbe9d5",
   "metadata": {},
   "outputs": [],
   "source": [
    "from sklearn.ensemble import RandomForestRegressor"
   ]
  },
  {
   "cell_type": "code",
   "execution_count": 50,
   "id": "caf35965",
   "metadata": {},
   "outputs": [],
   "source": [
    "rf = RandomForestRegressor()\n",
    "\n",
    "rf.fit(X_train, y_train)\n",
    "train_preds = rf.predict(X_train)\n",
    "test_preds = rf.predict(X_test)"
   ]
  },
  {
   "cell_type": "code",
   "execution_count": 51,
   "id": "79914dda",
   "metadata": {},
   "outputs": [
    {
     "name": "stdout",
     "output_type": "stream",
     "text": [
      "Train MSE: 9.756285046728975\n",
      "Test MSE: 1951.0601740740738\n"
     ]
    }
   ],
   "source": [
    "from sklearn.metrics import mean_squared_error\n",
    "\n",
    "print(f\"Train MSE: {mean_squared_error(train_preds, y_train)}\")\n",
    "print(f\"Test MSE: {mean_squared_error(test_preds, y_test)}\")"
   ]
  },
  {
   "cell_type": "markdown",
   "id": "c17c7490",
   "metadata": {},
   "source": [
    "### Using Germanium Assays from CMOG"
   ]
  },
  {
   "cell_type": "code",
   "execution_count": 52,
   "id": "9cc903e2",
   "metadata": {},
   "outputs": [],
   "source": [
    "df_cmog = pd.read_csv('../data/cmog_has_germanium.csv')"
   ]
  },
  {
   "cell_type": "code",
   "execution_count": 53,
   "id": "26ba7066",
   "metadata": {},
   "outputs": [
    {
     "data": {
      "text/plain": [
       "['Silver', 'Zinc', 'Lead']"
      ]
     },
     "execution_count": 53,
     "metadata": {},
     "output_type": "execute_result"
    }
   ],
   "source": [
    "list_of_elements"
   ]
  },
  {
   "cell_type": "code",
   "execution_count": 60,
   "id": "21f8fc8a",
   "metadata": {},
   "outputs": [
    {
     "data": {
      "text/html": [
       "<div>\n",
       "<style scoped>\n",
       "    .dataframe tbody tr th:only-of-type {\n",
       "        vertical-align: middle;\n",
       "    }\n",
       "\n",
       "    .dataframe tbody tr th {\n",
       "        vertical-align: top;\n",
       "    }\n",
       "\n",
       "    .dataframe thead th {\n",
       "        text-align: right;\n",
       "    }\n",
       "</style>\n",
       "<table border=\"1\" class=\"dataframe\">\n",
       "  <thead>\n",
       "    <tr style=\"text-align: right;\">\n",
       "      <th></th>\n",
       "      <th>ag_ppm</th>\n",
       "      <th>al_ppm</th>\n",
       "      <th>as_ppm</th>\n",
       "      <th>b_ppm</th>\n",
       "      <th>ba_ppm</th>\n",
       "      <th>be_ppm</th>\n",
       "      <th>bi_ppm</th>\n",
       "      <th>br_ppm</th>\n",
       "      <th>ca_ppm</th>\n",
       "      <th>cd_ppm</th>\n",
       "      <th>...</th>\n",
       "      <th>v_ppm</th>\n",
       "      <th>w_ppm</th>\n",
       "      <th>y_ppm</th>\n",
       "      <th>yb_ppm</th>\n",
       "      <th>zn_ppm</th>\n",
       "      <th>zr_ppm</th>\n",
       "      <th>lree_ppm</th>\n",
       "      <th>hree_ppm</th>\n",
       "      <th>ree_ppm</th>\n",
       "      <th>ree_y_ppm</th>\n",
       "    </tr>\n",
       "  </thead>\n",
       "  <tbody>\n",
       "    <tr>\n",
       "      <th>0</th>\n",
       "      <td>NaN</td>\n",
       "      <td>NaN</td>\n",
       "      <td>NaN</td>\n",
       "      <td>-20.0</td>\n",
       "      <td>NaN</td>\n",
       "      <td>NaN</td>\n",
       "      <td>NaN</td>\n",
       "      <td>NaN</td>\n",
       "      <td>NaN</td>\n",
       "      <td>NaN</td>\n",
       "      <td>...</td>\n",
       "      <td>NaN</td>\n",
       "      <td>NaN</td>\n",
       "      <td>NaN</td>\n",
       "      <td>NaN</td>\n",
       "      <td>NaN</td>\n",
       "      <td>-10.0</td>\n",
       "      <td>NaN</td>\n",
       "      <td>NaN</td>\n",
       "      <td>NaN</td>\n",
       "      <td>NaN</td>\n",
       "    </tr>\n",
       "    <tr>\n",
       "      <th>1</th>\n",
       "      <td>NaN</td>\n",
       "      <td>NaN</td>\n",
       "      <td>NaN</td>\n",
       "      <td>-20.0</td>\n",
       "      <td>NaN</td>\n",
       "      <td>NaN</td>\n",
       "      <td>NaN</td>\n",
       "      <td>NaN</td>\n",
       "      <td>NaN</td>\n",
       "      <td>NaN</td>\n",
       "      <td>...</td>\n",
       "      <td>NaN</td>\n",
       "      <td>NaN</td>\n",
       "      <td>NaN</td>\n",
       "      <td>NaN</td>\n",
       "      <td>NaN</td>\n",
       "      <td>-10.0</td>\n",
       "      <td>NaN</td>\n",
       "      <td>NaN</td>\n",
       "      <td>NaN</td>\n",
       "      <td>NaN</td>\n",
       "    </tr>\n",
       "  </tbody>\n",
       "</table>\n",
       "<p>2 rows × 69 columns</p>\n",
       "</div>"
      ],
      "text/plain": [
       "   ag_ppm  al_ppm  as_ppm  b_ppm  ba_ppm  be_ppm  bi_ppm  br_ppm  ca_ppm  \\\n",
       "0     NaN     NaN     NaN  -20.0     NaN     NaN     NaN     NaN     NaN   \n",
       "1     NaN     NaN     NaN  -20.0     NaN     NaN     NaN     NaN     NaN   \n",
       "\n",
       "   cd_ppm  ...  v_ppm  w_ppm  y_ppm  yb_ppm  zn_ppm  zr_ppm  lree_ppm  \\\n",
       "0     NaN  ...    NaN    NaN    NaN     NaN     NaN   -10.0       NaN   \n",
       "1     NaN  ...    NaN    NaN    NaN     NaN     NaN   -10.0       NaN   \n",
       "\n",
       "   hree_ppm  ree_ppm  ree_y_ppm  \n",
       "0       NaN      NaN        NaN  \n",
       "1       NaN      NaN        NaN  \n",
       "\n",
       "[2 rows x 69 columns]"
      ]
     },
     "execution_count": 60,
     "metadata": {},
     "output_type": "execute_result"
    }
   ],
   "source": [
    "df_cmog_ppm = df_cmog.iloc[:,df_cmog.columns.str.contains('ppm')]\n",
    "df_cmog_ppm.head(2)"
   ]
  },
  {
   "cell_type": "code",
   "execution_count": 64,
   "id": "5e77767b",
   "metadata": {},
   "outputs": [
    {
     "data": {
      "text/html": [
       "<div>\n",
       "<style scoped>\n",
       "    .dataframe tbody tr th:only-of-type {\n",
       "        vertical-align: middle;\n",
       "    }\n",
       "\n",
       "    .dataframe tbody tr th {\n",
       "        vertical-align: top;\n",
       "    }\n",
       "\n",
       "    .dataframe thead th {\n",
       "        text-align: right;\n",
       "    }\n",
       "</style>\n",
       "<table border=\"1\" class=\"dataframe\">\n",
       "  <thead>\n",
       "    <tr style=\"text-align: right;\">\n",
       "      <th></th>\n",
       "      <th>ag_ppm</th>\n",
       "      <th>zn_ppm</th>\n",
       "      <th>pb_ppm</th>\n",
       "      <th>ge_ppm</th>\n",
       "    </tr>\n",
       "  </thead>\n",
       "  <tbody>\n",
       "    <tr>\n",
       "      <th>0</th>\n",
       "      <td>NaN</td>\n",
       "      <td>NaN</td>\n",
       "      <td>1800.0</td>\n",
       "      <td>-1.0</td>\n",
       "    </tr>\n",
       "    <tr>\n",
       "      <th>1</th>\n",
       "      <td>NaN</td>\n",
       "      <td>NaN</td>\n",
       "      <td>112000.0</td>\n",
       "      <td>7.0</td>\n",
       "    </tr>\n",
       "  </tbody>\n",
       "</table>\n",
       "</div>"
      ],
      "text/plain": [
       "   ag_ppm  zn_ppm    pb_ppm  ge_ppm\n",
       "0     NaN     NaN    1800.0    -1.0\n",
       "1     NaN     NaN  112000.0     7.0"
      ]
     },
     "execution_count": 64,
     "metadata": {},
     "output_type": "execute_result"
    }
   ],
   "source": [
    "df_cmog_ppm_1 = df_cmog_ppm[['ag_ppm', 'zn_ppm', 'pb_ppm', 'ge_ppm']]\n",
    "df_cmog_ppm_1.head(2)"
   ]
  },
  {
   "cell_type": "code",
   "execution_count": 73,
   "id": "1222f35f",
   "metadata": {},
   "outputs": [
    {
     "data": {
      "text/html": [
       "<div>\n",
       "<style scoped>\n",
       "    .dataframe tbody tr th:only-of-type {\n",
       "        vertical-align: middle;\n",
       "    }\n",
       "\n",
       "    .dataframe tbody tr th {\n",
       "        vertical-align: top;\n",
       "    }\n",
       "\n",
       "    .dataframe thead th {\n",
       "        text-align: right;\n",
       "    }\n",
       "</style>\n",
       "<table border=\"1\" class=\"dataframe\">\n",
       "  <thead>\n",
       "    <tr style=\"text-align: right;\">\n",
       "      <th></th>\n",
       "      <th>ag_ppm</th>\n",
       "      <th>zn_ppm</th>\n",
       "      <th>pb_ppm</th>\n",
       "      <th>ge_ppm</th>\n",
       "    </tr>\n",
       "  </thead>\n",
       "  <tbody>\n",
       "    <tr>\n",
       "      <th>0</th>\n",
       "      <td>NaN</td>\n",
       "      <td>NaN</td>\n",
       "      <td>1800.0</td>\n",
       "      <td>0.25</td>\n",
       "    </tr>\n",
       "    <tr>\n",
       "      <th>1</th>\n",
       "      <td>NaN</td>\n",
       "      <td>NaN</td>\n",
       "      <td>112000.0</td>\n",
       "      <td>7.00</td>\n",
       "    </tr>\n",
       "  </tbody>\n",
       "</table>\n",
       "</div>"
      ],
      "text/plain": [
       "   ag_ppm  zn_ppm    pb_ppm  ge_ppm\n",
       "0     NaN     NaN    1800.0    0.25\n",
       "1     NaN     NaN  112000.0    7.00"
      ]
     },
     "execution_count": 73,
     "metadata": {},
     "output_type": "execute_result"
    }
   ],
   "source": [
    "def abs_halve_neg_val(val):\n",
    "    if val < 1: \n",
    "        return abs(val) / 2\n",
    "    else: \n",
    "        return val\n",
    "    \n",
    "df_cmog_ppm_1 = df_cmog_ppm_1.applymap(abs_halve_neg_val)\n",
    "df_cmog_ppm_1.head(2)"
   ]
  },
  {
   "cell_type": "code",
   "execution_count": 75,
   "id": "f4ff6ad1",
   "metadata": {},
   "outputs": [
    {
     "data": {
      "text/plain": [
       "<matplotlib.axes._subplots.AxesSubplot at 0x7f789b4668d0>"
      ]
     },
     "execution_count": 75,
     "metadata": {},
     "output_type": "execute_result"
    },
    {
     "data": {
      "image/png": "[encoded data removed]",
      "text/plain": [
       "<Figure size 432x288 with 1 Axes>"
      ]
     },
     "metadata": {
      "needs_background": "light"
     },
     "output_type": "display_data"
    }
   ],
   "source": [
    "df_cmog_ppm_1.plot()"
   ]
  },
  {
   "cell_type": "code",
   "execution_count": 77,
   "id": "82319447",
   "metadata": {},
   "outputs": [
    {
     "data": {
      "text/plain": [
       "ag_ppm    132\n",
       "zn_ppm    132\n",
       "pb_ppm     57\n",
       "ge_ppm      0\n",
       "dtype: int64"
      ]
     },
     "execution_count": 77,
     "metadata": {},
     "output_type": "execute_result"
    }
   ],
   "source": [
    "df_cmog_ppm_1.isna().sum()"
   ]
  },
  {
   "cell_type": "code",
   "execution_count": 79,
   "id": "ef5f4b3a",
   "metadata": {},
   "outputs": [
    {
     "data": {
      "text/plain": [
       "(119, 4)"
      ]
     },
     "execution_count": 79,
     "metadata": {},
     "output_type": "execute_result"
    }
   ],
   "source": [
    "df_cmog_ppm_1 = df_cmog_ppm_1.dropna()\n",
    "df_cmog_ppm_1.shape"
   ]
  },
  {
   "cell_type": "markdown",
   "id": "c81af09a",
   "metadata": {},
   "source": [
    "### TOO SMALL"
   ]
  },
  {
   "cell_type": "code",
   "execution_count": null,
   "id": "c48c8f09",
   "metadata": {},
   "outputs": [],
   "source": []
  }
 ],
 "metadata": {
  "kernelspec": {
   "display_name": "Python 3 (ipykernel)",
   "language": "python",
   "name": "python3"
  },
  "language_info": {
   "codemirror_mode": {
    "name": "ipython",
    "version": 3
   },
   "file_extension": ".py",
   "mimetype": "text/x-python",
   "name": "python",
   "nbconvert_exporter": "python",
   "pygments_lexer": "ipython3",
   "version": "3.9.6"
  }
 },
 "nbformat": 4,
 "nbformat_minor": 5
}
