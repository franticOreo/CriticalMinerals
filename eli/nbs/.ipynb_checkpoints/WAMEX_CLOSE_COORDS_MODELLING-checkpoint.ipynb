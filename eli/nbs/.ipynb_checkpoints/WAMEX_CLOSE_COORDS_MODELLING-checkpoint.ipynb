{
 "cells": [
  {
   "cell_type": "code",
   "execution_count": 104,
   "id": "c0341b24",
   "metadata": {},
   "outputs": [],
   "source": [
    "import pandas as pd\n",
    "import pickle\n",
    "from sklearn.metrics import mean_squared_error\n",
    "from sklearn.model_selection import train_test_split\n",
    "from sklearn.linear_model import LinearRegression\n",
    "from sklearn.ensemble import RandomForestRegressor"
   ]
  },
  {
   "cell_type": "code",
   "execution_count": 147,
   "id": "4ad0aabb",
   "metadata": {},
   "outputs": [],
   "source": [
    "# file containing indexs of close (< 10km) row indexes from WAMEX from .SHP file containing Nickel Drillhold deposits\n",
    "# NOTE: rows are repeated!\n",
    "with open('../eli/wamex_close_coords_to_shp_minedex_terminatedafter12hrs.pickle', 'rb') as file:\n",
    "    close_coords_indicies = pickle.load(file)"
   ]
  },
  {
   "cell_type": "markdown",
   "id": "de2070b5",
   "metadata": {},
   "source": [
    "### Subset of Close Coords"
   ]
  },
  {
   "cell_type": "code",
   "execution_count": 148,
   "id": "bc030c77",
   "metadata": {},
   "outputs": [
    {
     "name": "stdout",
     "output_type": "stream",
     "text": [
      "\n",
      " Sample: [131072, 131073, 131084, 131085, 131086, 131087, 131088, 131089, 131090, 131091] \n",
      "\n",
      " Length: 75628\n"
     ]
    }
   ],
   "source": [
    "# repeats indexes so set to find unique row indexs\n",
    "close_coords_indicies = list(set(close_coords_indicies))\n",
    "print(f\"\\n Sample: {close_coords_indicies[:10]} \\n\\n Length: {len(close_coords_indicies)}\")"
   ]
  },
  {
   "cell_type": "markdown",
   "id": "e085bec2",
   "metadata": {},
   "source": [
    "### WAMEX data\n",
    "\n",
    " ·      Cobalt associated with nickel (and copper) in so-called orthomagmatic (igneous) mafic to ultramafic volcanic (komatiite)-hosted and intrusion-hosted deposits\n",
    " \n",
    " \n",
    " Cobalt is a chemical element with the symbol Co and atomic number 27. Like nickel, cobalt is found in the Earth's crust only in a chemically combined form, save for small deposits found in alloys of natural meteoric iron. The free element, produced by reductive smelting, is a hard, lustrous, silver-gray metal. Wikipedia\n",
    "Symbol: Co <br>\n",
    "Electron configuration: [Ar] 3d74s2 <br>\n",
    "Atomic number: 27 <br>\n",
    "Atomic mass: 58.933195 u <br>\n",
    "Melting point: 1,495 °C <br>\n",
    "Discovered: 1735 <br>\n",
    "Discoverer: Georg Brandt <br>"
   ]
  },
  {
   "cell_type": "code",
   "execution_count": 157,
   "id": "f9faf868",
   "metadata": {},
   "outputs": [
    {
     "name": "stderr",
     "output_type": "stream",
     "text": [
      "C:\\Users\\elisi\\Miniconda3\\envs\\minerals\\lib\\site-packages\\IPython\\core\\interactiveshell.py:3441: DtypeWarning: Columns (18) have mixed types.Specify dtype option on import or set low_memory=False.\n",
      "  exec(code_obj, self.user_global_ns, self.user_ns)\n"
     ]
    },
    {
     "data": {
      "text/html": [
       "<div>\n",
       "<style scoped>\n",
       "    .dataframe tbody tr th:only-of-type {\n",
       "        vertical-align: middle;\n",
       "    }\n",
       "\n",
       "    .dataframe tbody tr th {\n",
       "        vertical-align: top;\n",
       "    }\n",
       "\n",
       "    .dataframe thead th {\n",
       "        text-align: right;\n",
       "    }\n",
       "</style>\n",
       "<table border=\"1\" class=\"dataframe\">\n",
       "  <thead>\n",
       "    <tr style=\"text-align: right;\">\n",
       "      <th></th>\n",
       "      <th>OBJECTID</th>\n",
       "      <th>DATASET</th>\n",
       "      <th>SAMPLEID</th>\n",
       "      <th>GSWANO</th>\n",
       "      <th>EXTRACT_DA</th>\n",
       "      <th>BATCH_NO</th>\n",
       "      <th>QMAPID</th>\n",
       "      <th>DLAT</th>\n",
       "      <th>DLONG</th>\n",
       "      <th>EASTING</th>\n",
       "      <th>...</th>\n",
       "      <th>W_ppm</th>\n",
       "      <th>WO3_ppm</th>\n",
       "      <th>Y_ppm</th>\n",
       "      <th>Y2O3_ppm</th>\n",
       "      <th>Yb_ppm</th>\n",
       "      <th>Yb2O3_ppm</th>\n",
       "      <th>Zn_ppm</th>\n",
       "      <th>ZnO_ppm</th>\n",
       "      <th>Zr_ppm</th>\n",
       "      <th>ZrO2_ppm</th>\n",
       "    </tr>\n",
       "  </thead>\n",
       "  <tbody>\n",
       "    <tr>\n",
       "      <th>0</th>\n",
       "      <td>1</td>\n",
       "      <td>NaN</td>\n",
       "      <td>229866</td>\n",
       "      <td>NaN</td>\n",
       "      <td>NaN</td>\n",
       "      <td>NaN</td>\n",
       "      <td>NaN</td>\n",
       "      <td>-34.048839</td>\n",
       "      <td>118.176663</td>\n",
       "      <td>NaN</td>\n",
       "      <td>...</td>\n",
       "      <td>-9999.0</td>\n",
       "      <td>-9999.0</td>\n",
       "      <td>-9999.0</td>\n",
       "      <td>-9999.0</td>\n",
       "      <td>-9999.0</td>\n",
       "      <td>-9999.0</td>\n",
       "      <td>-9999.0</td>\n",
       "      <td>-9999.0</td>\n",
       "      <td>-9999.0</td>\n",
       "      <td>-9999.0</td>\n",
       "    </tr>\n",
       "    <tr>\n",
       "      <th>1</th>\n",
       "      <td>2</td>\n",
       "      <td>NaN</td>\n",
       "      <td>229867</td>\n",
       "      <td>NaN</td>\n",
       "      <td>NaN</td>\n",
       "      <td>NaN</td>\n",
       "      <td>NaN</td>\n",
       "      <td>-34.048839</td>\n",
       "      <td>118.176663</td>\n",
       "      <td>NaN</td>\n",
       "      <td>...</td>\n",
       "      <td>-9999.0</td>\n",
       "      <td>-9999.0</td>\n",
       "      <td>-9999.0</td>\n",
       "      <td>-9999.0</td>\n",
       "      <td>-9999.0</td>\n",
       "      <td>-9999.0</td>\n",
       "      <td>-9999.0</td>\n",
       "      <td>-9999.0</td>\n",
       "      <td>-9999.0</td>\n",
       "      <td>-9999.0</td>\n",
       "    </tr>\n",
       "  </tbody>\n",
       "</table>\n",
       "<p>2 rows × 143 columns</p>\n",
       "</div>"
      ],
      "text/plain": [
       "   OBJECTID  DATASET  SAMPLEID  GSWANO  EXTRACT_DA  BATCH_NO  QMAPID  \\\n",
       "0         1      NaN    229866     NaN         NaN       NaN     NaN   \n",
       "1         2      NaN    229867     NaN         NaN       NaN     NaN   \n",
       "\n",
       "        DLAT       DLONG  EASTING  ...   W_ppm  WO3_ppm   Y_ppm  Y2O3_ppm  \\\n",
       "0 -34.048839  118.176663      NaN  ... -9999.0  -9999.0 -9999.0   -9999.0   \n",
       "1 -34.048839  118.176663      NaN  ... -9999.0  -9999.0 -9999.0   -9999.0   \n",
       "\n",
       "   Yb_ppm  Yb2O3_ppm  Zn_ppm  ZnO_ppm  Zr_ppm  ZrO2_ppm  \n",
       "0 -9999.0    -9999.0 -9999.0  -9999.0 -9999.0   -9999.0  \n",
       "1 -9999.0    -9999.0 -9999.0  -9999.0 -9999.0   -9999.0  \n",
       "\n",
       "[2 rows x 143 columns]"
      ]
     },
     "execution_count": 157,
     "metadata": {},
     "output_type": "execute_result"
    }
   ],
   "source": [
    "df_wamex_rc = pd.read_csv('../data/wamex/WAMEX_1_Rockchip_Original.csv')\n",
    "df_wamex_rc.head(2)"
   ]
  },
  {
   "cell_type": "code",
   "execution_count": 158,
   "id": "6f92cc2f",
   "metadata": {},
   "outputs": [
    {
     "data": {
      "text/plain": [
       "(402770, 143)"
      ]
     },
     "execution_count": 158,
     "metadata": {},
     "output_type": "execute_result"
    }
   ],
   "source": [
    "df_wamex_rc.shape"
   ]
  },
  {
   "cell_type": "code",
   "execution_count": 156,
   "id": "825a82af",
   "metadata": {},
   "outputs": [
    {
     "data": {
      "text/plain": [
       "(98655, 143)"
      ]
     },
     "execution_count": 156,
     "metadata": {},
     "output_type": "execute_result"
    }
   ],
   "source": [
    "x.shape"
   ]
  },
  {
   "cell_type": "code",
   "execution_count": 150,
   "id": "aa447712",
   "metadata": {},
   "outputs": [
    {
     "data": {
      "text/plain": [
       "(75628, 143)"
      ]
     },
     "execution_count": 150,
     "metadata": {},
     "output_type": "execute_result"
    }
   ],
   "source": [
    "df_wamex_rc = df_wamex_rc.iloc[close_coords_indicies,:]\n",
    "df_wamex_rc.shape"
   ]
  },
  {
   "cell_type": "code",
   "execution_count": null,
   "id": "ef43f461",
   "metadata": {},
   "outputs": [],
   "source": [
    "df_wamex_less_than_10km_subset"
   ]
  },
  {
   "cell_type": "code",
   "execution_count": 11,
   "id": "be20ec4b",
   "metadata": {},
   "outputs": [
    {
     "data": {
      "text/plain": [
       "Index(['OBJECTID', 'DATASET', 'SAMPLEID', 'GSWANO', 'EXTRACT_DA', 'BATCH_NO',\n",
       "       'QMAPID', 'DLAT', 'DLONG', 'EASTING',\n",
       "       ...\n",
       "       'W_ppm', 'WO3_ppm', 'Y_ppm', 'Y2O3_ppm', 'Yb_ppm', 'Yb2O3_ppm',\n",
       "       'Zn_ppm', 'ZnO_ppm', 'Zr_ppm', 'ZrO2_ppm'],\n",
       "      dtype='object', length=143)"
      ]
     },
     "execution_count": 11,
     "metadata": {},
     "output_type": "execute_result"
    }
   ],
   "source": [
    "df_wamex_rc.columnsumns"
   ]
  },
  {
   "cell_type": "markdown",
   "id": "9ce772ba",
   "metadata": {},
   "source": [
    "### Nickel, Copper and Cobalt Interactions"
   ]
  },
  {
   "cell_type": "code",
   "execution_count": 211,
   "id": "14611f05",
   "metadata": {},
   "outputs": [],
   "source": [
    "# most common pair in MINEDEX data.\n",
    "abdundant_minerals = ['Copper', 'Nickel', 'Iron', 'Gold', 'Silver'] #'Sulfur', 'Palladium','Platinum',\n",
    "critical_mineral = ['Cobalt']\n",
    "\n",
    "full_to_atomic = {\n",
    "    \"Copper\": \"Cu\",\n",
    "    \"Cobalt\": \"Co\",\n",
    "    \"Nickel\": \"Ni\",\n",
    "    \"Iron\": \"Fe\",\n",
    "    \"Sulfur\": \"S\",\n",
    "    \"Palladium\": \"Pd\",\n",
    "    \"Platinum\": \"Pt\",\n",
    "    \"Gold\": \"Au\",\n",
    "    \"Silver\": \"Ag\"\n",
    "}\n"
   ]
  },
  {
   "cell_type": "code",
   "execution_count": 212,
   "id": "52a4c5ca",
   "metadata": {},
   "outputs": [],
   "source": [
    "new_cols = []\n",
    "for col in df_wamex_rc.columns: \n",
    "    if \"ppm\" in col:\n",
    "        new_cols.append(col.split('_')[0])\n",
    "    else:\n",
    "        new_cols.append(col)\n",
    "\n",
    "df_wamex_rc.columns = new_cols"
   ]
  },
  {
   "cell_type": "code",
   "execution_count": 213,
   "id": "2d7f2b67",
   "metadata": {},
   "outputs": [
    {
     "data": {
      "text/plain": [
       "['Cu', 'Ni', 'Fe', 'Au', 'Ag', 'Co']"
      ]
     },
     "execution_count": 213,
     "metadata": {},
     "output_type": "execute_result"
    }
   ],
   "source": [
    "minerals = abdundant_minerals + critical_mineral\n",
    "\n",
    "minerals_atomic = [full_to_atomic[mineral] for mineral in minerals]\n",
    "minerals_atomic"
   ]
  },
  {
   "cell_type": "code",
   "execution_count": 214,
   "id": "b51ce4e9",
   "metadata": {},
   "outputs": [],
   "source": [
    "input_cols = ['DLAT', 'DLONG'] + minerals_atomic"
   ]
  },
  {
   "cell_type": "code",
   "execution_count": 215,
   "id": "56177114",
   "metadata": {},
   "outputs": [
    {
     "data": {
      "text/html": [
       "<div>\n",
       "<style scoped>\n",
       "    .dataframe tbody tr th:only-of-type {\n",
       "        vertical-align: middle;\n",
       "    }\n",
       "\n",
       "    .dataframe tbody tr th {\n",
       "        vertical-align: top;\n",
       "    }\n",
       "\n",
       "    .dataframe thead th {\n",
       "        text-align: right;\n",
       "    }\n",
       "</style>\n",
       "<table border=\"1\" class=\"dataframe\">\n",
       "  <thead>\n",
       "    <tr style=\"text-align: right;\">\n",
       "      <th></th>\n",
       "      <th>DLAT</th>\n",
       "      <th>DLONG</th>\n",
       "      <th>Cu</th>\n",
       "      <th>Ni</th>\n",
       "      <th>Fe</th>\n",
       "      <th>Au</th>\n",
       "      <th>Ag</th>\n",
       "      <th>Co</th>\n",
       "    </tr>\n",
       "  </thead>\n",
       "  <tbody>\n",
       "    <tr>\n",
       "      <th>0</th>\n",
       "      <td>-34.048839</td>\n",
       "      <td>118.176663</td>\n",
       "      <td>252.0</td>\n",
       "      <td>-9999.0</td>\n",
       "      <td>-9999.0</td>\n",
       "      <td>0.008</td>\n",
       "      <td>-9999.0</td>\n",
       "      <td>-9999.0</td>\n",
       "    </tr>\n",
       "    <tr>\n",
       "      <th>1</th>\n",
       "      <td>-34.048839</td>\n",
       "      <td>118.176663</td>\n",
       "      <td>447.0</td>\n",
       "      <td>-9999.0</td>\n",
       "      <td>-9999.0</td>\n",
       "      <td>0.012</td>\n",
       "      <td>-9999.0</td>\n",
       "      <td>-9999.0</td>\n",
       "    </tr>\n",
       "    <tr>\n",
       "      <th>2</th>\n",
       "      <td>-34.048839</td>\n",
       "      <td>118.176663</td>\n",
       "      <td>314.0</td>\n",
       "      <td>-9999.0</td>\n",
       "      <td>-9999.0</td>\n",
       "      <td>0.005</td>\n",
       "      <td>-9999.0</td>\n",
       "      <td>-9999.0</td>\n",
       "    </tr>\n",
       "    <tr>\n",
       "      <th>3</th>\n",
       "      <td>-34.048839</td>\n",
       "      <td>118.176663</td>\n",
       "      <td>115.0</td>\n",
       "      <td>-9999.0</td>\n",
       "      <td>-9999.0</td>\n",
       "      <td>0.005</td>\n",
       "      <td>-9999.0</td>\n",
       "      <td>-9999.0</td>\n",
       "    </tr>\n",
       "    <tr>\n",
       "      <th>4</th>\n",
       "      <td>-34.048839</td>\n",
       "      <td>118.176663</td>\n",
       "      <td>11.0</td>\n",
       "      <td>-9999.0</td>\n",
       "      <td>-9999.0</td>\n",
       "      <td>0.009</td>\n",
       "      <td>-9999.0</td>\n",
       "      <td>-9999.0</td>\n",
       "    </tr>\n",
       "  </tbody>\n",
       "</table>\n",
       "</div>"
      ],
      "text/plain": [
       "        DLAT       DLONG     Cu      Ni      Fe     Au      Ag      Co\n",
       "0 -34.048839  118.176663  252.0 -9999.0 -9999.0  0.008 -9999.0 -9999.0\n",
       "1 -34.048839  118.176663  447.0 -9999.0 -9999.0  0.012 -9999.0 -9999.0\n",
       "2 -34.048839  118.176663  314.0 -9999.0 -9999.0  0.005 -9999.0 -9999.0\n",
       "3 -34.048839  118.176663  115.0 -9999.0 -9999.0  0.005 -9999.0 -9999.0\n",
       "4 -34.048839  118.176663   11.0 -9999.0 -9999.0  0.009 -9999.0 -9999.0"
      ]
     },
     "execution_count": 215,
     "metadata": {},
     "output_type": "execute_result"
    }
   ],
   "source": [
    "df = df_wamex_rc[input_cols]\n",
    "df.head(5)"
   ]
  },
  {
   "cell_type": "code",
   "execution_count": 216,
   "id": "c1948347",
   "metadata": {},
   "outputs": [],
   "source": [
    "def replace_neg9999(val):\n",
    "    if val == -9999: \n",
    "        return 0\n",
    "    else:\n",
    "        return val\n",
    "    \n",
    "    \n",
    "def abs_halve_neg_val(val):\n",
    "#     print(val)\n",
    "    if val < 0: \n",
    "        return abs(val) / 2\n",
    "    else: \n",
    "        return val\n",
    "\n",
    "df = df.applymap(replace_neg9999)\n",
    "df = df.applymap(abs_halve_neg_val)\n",
    "\n",
    "indexs_6666 = df[df.values == -6666].index\n",
    "df = df.drop(index=indexs_6666)\n",
    "\n",
    "indexs_0 = df[df.values == 0].index\n",
    "df = df.drop(index=indexs_0)"
   ]
  },
  {
   "cell_type": "code",
   "execution_count": 217,
   "id": "f675d5ec",
   "metadata": {},
   "outputs": [
    {
     "data": {
      "text/html": [
       "<div>\n",
       "<style scoped>\n",
       "    .dataframe tbody tr th:only-of-type {\n",
       "        vertical-align: middle;\n",
       "    }\n",
       "\n",
       "    .dataframe tbody tr th {\n",
       "        vertical-align: top;\n",
       "    }\n",
       "\n",
       "    .dataframe thead th {\n",
       "        text-align: right;\n",
       "    }\n",
       "</style>\n",
       "<table border=\"1\" class=\"dataframe\">\n",
       "  <thead>\n",
       "    <tr style=\"text-align: right;\">\n",
       "      <th></th>\n",
       "      <th>DLAT</th>\n",
       "      <th>DLONG</th>\n",
       "      <th>Cu</th>\n",
       "      <th>Ni</th>\n",
       "      <th>Fe</th>\n",
       "      <th>Au</th>\n",
       "      <th>Ag</th>\n",
       "      <th>Co</th>\n",
       "    </tr>\n",
       "  </thead>\n",
       "  <tbody>\n",
       "    <tr>\n",
       "      <th>136</th>\n",
       "      <td>8.871268</td>\n",
       "      <td>127.903385</td>\n",
       "      <td>65.0</td>\n",
       "      <td>182.2</td>\n",
       "      <td>4930.0</td>\n",
       "      <td>0.001</td>\n",
       "      <td>0.05</td>\n",
       "      <td>64.0</td>\n",
       "    </tr>\n",
       "    <tr>\n",
       "      <th>137</th>\n",
       "      <td>8.868529</td>\n",
       "      <td>127.903390</td>\n",
       "      <td>77.3</td>\n",
       "      <td>247.2</td>\n",
       "      <td>5600.0</td>\n",
       "      <td>0.001</td>\n",
       "      <td>0.05</td>\n",
       "      <td>62.0</td>\n",
       "    </tr>\n",
       "  </tbody>\n",
       "</table>\n",
       "</div>"
      ],
      "text/plain": [
       "         DLAT       DLONG    Cu     Ni      Fe     Au    Ag    Co\n",
       "136  8.871268  127.903385  65.0  182.2  4930.0  0.001  0.05  64.0\n",
       "137  8.868529  127.903390  77.3  247.2  5600.0  0.001  0.05  62.0"
      ]
     },
     "execution_count": 217,
     "metadata": {},
     "output_type": "execute_result"
    }
   ],
   "source": [
    "df.head(2)"
   ]
  },
  {
   "cell_type": "code",
   "execution_count": 218,
   "id": "b23b8d92",
   "metadata": {},
   "outputs": [
    {
     "data": {
      "text/plain": [
       "<AxesSubplot:ylabel='Frequency'>"
      ]
     },
     "execution_count": 218,
     "metadata": {},
     "output_type": "execute_result"
    },
    {
     "data": {
      "image/png": "[encoded data removed]",
      "text/plain": [
       "<Figure size 432x288 with 1 Axes>"
      ]
     },
     "metadata": {
      "needs_background": "light"
     },
     "output_type": "display_data"
    }
   ],
   "source": [
    "df['Co'].plot(kind='hist')"
   ]
  },
  {
   "cell_type": "markdown",
   "id": "03b35883",
   "metadata": {},
   "source": [
    "#### Cobalt ppm < 100"
   ]
  },
  {
   "cell_type": "code",
   "execution_count": 219,
   "id": "538cf359",
   "metadata": {},
   "outputs": [
    {
     "data": {
      "text/plain": [
       "<AxesSubplot:ylabel='Frequency'>"
      ]
     },
     "execution_count": 219,
     "metadata": {},
     "output_type": "execute_result"
    },
    {
     "data": {
      "image/png": "[encoded data removed]",
      "text/plain": [
       "<Figure size 432x288 with 1 Axes>"
      ]
     },
     "metadata": {
      "needs_background": "light"
     },
     "output_type": "display_data"
    }
   ],
   "source": [
    "df = df[df['Co'] < 100]\n",
    "\n",
    "df['Co'].plot(kind='hist')"
   ]
  },
  {
   "cell_type": "markdown",
   "id": "72572513",
   "metadata": {},
   "source": [
    "### Independent Variables"
   ]
  },
  {
   "cell_type": "code",
   "execution_count": 220,
   "id": "92b235fd",
   "metadata": {},
   "outputs": [],
   "source": [
    "from sklearn.preprocessing import StandardScaler"
   ]
  },
  {
   "cell_type": "code",
   "execution_count": 221,
   "id": "38f16d14",
   "metadata": {},
   "outputs": [
    {
     "data": {
      "text/plain": [
       "<AxesSubplot:>"
      ]
     },
     "execution_count": 221,
     "metadata": {},
     "output_type": "execute_result"
    },
    {
     "data": {
      "image/png": "[encoded data removed]",
      "text/plain": [
       "<Figure size 432x288 with 1 Axes>"
      ]
     },
     "metadata": {
      "needs_background": "light"
     },
     "output_type": "display_data"
    }
   ],
   "source": [
    "df[minerals_atomic][:100].plot()"
   ]
  },
  {
   "cell_type": "code",
   "execution_count": 222,
   "id": "19982b89",
   "metadata": {},
   "outputs": [
    {
     "data": {
      "text/html": [
       "<div>\n",
       "<style scoped>\n",
       "    .dataframe tbody tr th:only-of-type {\n",
       "        vertical-align: middle;\n",
       "    }\n",
       "\n",
       "    .dataframe tbody tr th {\n",
       "        vertical-align: top;\n",
       "    }\n",
       "\n",
       "    .dataframe thead th {\n",
       "        text-align: right;\n",
       "    }\n",
       "</style>\n",
       "<table border=\"1\" class=\"dataframe\">\n",
       "  <thead>\n",
       "    <tr style=\"text-align: right;\">\n",
       "      <th></th>\n",
       "      <th>DLAT</th>\n",
       "      <th>DLONG</th>\n",
       "      <th>Cu</th>\n",
       "      <th>Ni</th>\n",
       "      <th>Fe</th>\n",
       "      <th>Au</th>\n",
       "      <th>Ag</th>\n",
       "      <th>Co</th>\n",
       "    </tr>\n",
       "  </thead>\n",
       "  <tbody>\n",
       "    <tr>\n",
       "      <th>0</th>\n",
       "      <td>8.871268</td>\n",
       "      <td>127.903385</td>\n",
       "      <td>65.0</td>\n",
       "      <td>182.2</td>\n",
       "      <td>4930.0</td>\n",
       "      <td>0.0010</td>\n",
       "      <td>0.05</td>\n",
       "      <td>64.0</td>\n",
       "    </tr>\n",
       "    <tr>\n",
       "      <th>1</th>\n",
       "      <td>8.868529</td>\n",
       "      <td>127.903390</td>\n",
       "      <td>77.3</td>\n",
       "      <td>247.2</td>\n",
       "      <td>5600.0</td>\n",
       "      <td>0.0010</td>\n",
       "      <td>0.05</td>\n",
       "      <td>62.0</td>\n",
       "    </tr>\n",
       "    <tr>\n",
       "      <th>2</th>\n",
       "      <td>8.868982</td>\n",
       "      <td>127.903422</td>\n",
       "      <td>60.9</td>\n",
       "      <td>179.6</td>\n",
       "      <td>4810.0</td>\n",
       "      <td>0.0010</td>\n",
       "      <td>0.05</td>\n",
       "      <td>40.0</td>\n",
       "    </tr>\n",
       "    <tr>\n",
       "      <th>3</th>\n",
       "      <td>8.867164</td>\n",
       "      <td>127.903425</td>\n",
       "      <td>21.7</td>\n",
       "      <td>97.6</td>\n",
       "      <td>4420.0</td>\n",
       "      <td>0.0010</td>\n",
       "      <td>0.05</td>\n",
       "      <td>45.0</td>\n",
       "    </tr>\n",
       "    <tr>\n",
       "      <th>4</th>\n",
       "      <td>11.260281</td>\n",
       "      <td>117.686979</td>\n",
       "      <td>56.0</td>\n",
       "      <td>23.0</td>\n",
       "      <td>850.0</td>\n",
       "      <td>0.1828</td>\n",
       "      <td>0.10</td>\n",
       "      <td>4.0</td>\n",
       "    </tr>\n",
       "  </tbody>\n",
       "</table>\n",
       "</div>"
      ],
      "text/plain": [
       "        DLAT       DLONG    Cu     Ni      Fe      Au    Ag    Co\n",
       "0   8.871268  127.903385  65.0  182.2  4930.0  0.0010  0.05  64.0\n",
       "1   8.868529  127.903390  77.3  247.2  5600.0  0.0010  0.05  62.0\n",
       "2   8.868982  127.903422  60.9  179.6  4810.0  0.0010  0.05  40.0\n",
       "3   8.867164  127.903425  21.7   97.6  4420.0  0.0010  0.05  45.0\n",
       "4  11.260281  117.686979  56.0   23.0   850.0  0.1828  0.10   4.0"
      ]
     },
     "execution_count": 222,
     "metadata": {},
     "output_type": "execute_result"
    }
   ],
   "source": [
    "df = df.reset_index(drop=True)\n",
    "# df = df.drop(columns=['index'])\n",
    "df.head()"
   ]
  },
  {
   "cell_type": "code",
   "execution_count": 223,
   "id": "aded91d5",
   "metadata": {},
   "outputs": [
    {
     "data": {
      "text/plain": [
       "(63452, 8)"
      ]
     },
     "execution_count": 223,
     "metadata": {},
     "output_type": "execute_result"
    }
   ],
   "source": [
    "df.shape"
   ]
  },
  {
   "cell_type": "code",
   "execution_count": 224,
   "id": "131d49f1",
   "metadata": {},
   "outputs": [],
   "source": [
    "import pandas as pd\n",
    "import numpy as np\n",
    "import matplotlib.pyplot as plt\n",
    "from pyrolite.plot import pyroplot\n",
    "from pyrolite.plot.density import density\n",
    "from pyrolite.comp.codata import close"
   ]
  },
  {
   "cell_type": "code",
   "execution_count": 225,
   "id": "2061d00f",
   "metadata": {},
   "outputs": [],
   "source": [
    "df_minerals_log = df[minerals_atomic].apply(lambda x: np.log(x), axis=1)"
   ]
  },
  {
   "cell_type": "code",
   "execution_count": 97,
   "id": "573479df",
   "metadata": {},
   "outputs": [
    {
     "name": "stderr",
     "output_type": "stream",
     "text": [
      "C:\\Users\\elisi\\Miniconda3\\envs\\minerals\\lib\\site-packages\\mpltern\\ternary\\transforms.py:207: RuntimeWarning: divide by zero encountered in true_divide\n",
      "  points /= np.sum(points, axis=1)[:, np.newaxis]\n",
      "C:\\Users\\elisi\\Miniconda3\\envs\\minerals\\lib\\site-packages\\mpltern\\ternary\\transforms.py:207: RuntimeWarning: invalid value encountered in true_divide\n",
      "  points /= np.sum(points, axis=1)[:, np.newaxis]\n"
     ]
    },
    {
     "data": {
      "image/png": "[encoded data removed]",
      "text/plain": [
       "<Figure size 1080x360 with 3 Axes>"
      ]
     },
     "metadata": {
      "needs_background": "light"
     },
     "output_type": "display_data"
    }
   ],
   "source": [
    "fig, ax = plt.subplots(\n",
    "    1,\n",
    "    3,\n",
    "    sharex=True,\n",
    "    sharey=True,\n",
    "    figsize=(15, 5),\n",
    "    subplot_kw=dict(projection=\"ternary\"),\n",
    ")\n",
    "df_minerals_log.pyroplot.scatter(ax=ax[0], alpha=0.05, c=\"k\")\n",
    "for a, mode in zip(ax[1:], [\"hist\", \"density\"]):\n",
    "    df_minerals_log.pyroplot.density(ax=a, mode=mode)\n",
    "    a.set_title(\"Mode: {}\".format(mode), y=1.2)\n",
    "\n",
    "plt.tight_layout()\n",
    "plt.show()"
   ]
  },
  {
   "cell_type": "code",
   "execution_count": 226,
   "id": "ef237702",
   "metadata": {},
   "outputs": [],
   "source": [
    "y = df['Co']\n",
    "X = df.drop(columns=['Co'])"
   ]
  },
  {
   "cell_type": "code",
   "execution_count": 227,
   "id": "94bd371a",
   "metadata": {},
   "outputs": [
    {
     "name": "stdout",
     "output_type": "stream",
     "text": [
      "Train MSE: 443.77654255156796\n",
      "Test MSE: 440.1694454861714\n"
     ]
    }
   ],
   "source": [
    "X_train, X_test, y_train, y_test = train_test_split(\n",
    "    X, y, test_size=0.2, random_state=42, shuffle=True)\n",
    "\n",
    "lr = LinearRegression()\n",
    "\n",
    "lr.fit(X_train, y_train)\n",
    "train_preds = lr.predict(X_train)\n",
    "test_preds = lr.predict(X_test)\n",
    "\n",
    "from sklearn.metrics import mean_squared_error\n",
    "\n",
    "print(f\"Train MSE: {mean_squared_error(train_preds, y_train)}\")\n",
    "print(f\"Test MSE: {mean_squared_error(test_preds, y_test)}\")"
   ]
  },
  {
   "cell_type": "code",
   "execution_count": 228,
   "id": "c15057e1",
   "metadata": {},
   "outputs": [
    {
     "data": {
      "text/plain": [
       "[<matplotlib.lines.Line2D at 0x1b719b1e3d0>,\n",
       " <matplotlib.lines.Line2D at 0x1b6df3d5610>]"
      ]
     },
     "execution_count": 228,
     "metadata": {},
     "output_type": "execute_result"
    },
    {
     "data": {
      "image/png": "[encoded data removed]",
      "text/plain": [
       "<Figure size 432x288 with 1 Axes>"
      ]
     },
     "metadata": {
      "needs_background": "light"
     },
     "output_type": "display_data"
    }
   ],
   "source": [
    "plt.plot(range(0, len(test_preds)), y_test, test_preds)"
   ]
  },
  {
   "cell_type": "markdown",
   "id": "b476139b",
   "metadata": {},
   "source": [
    "#### Random Forrest"
   ]
  },
  {
   "cell_type": "code",
   "execution_count": 229,
   "id": "3ccde10e",
   "metadata": {},
   "outputs": [
    {
     "name": "stdout",
     "output_type": "stream",
     "text": [
      "Train MSE: 54.22884606319288\n",
      "Test MSE: 113.68339990649483\n"
     ]
    }
   ],
   "source": [
    "rf = RandomForestRegressor(n_estimators=50, min_samples_leaf=5)\n",
    "\n",
    "rf.fit(X_train, y_train)\n",
    "train_preds = rf.predict(X_train)\n",
    "test_preds = rf.predict(X_test)\n",
    "\n",
    "print(f\"Train MSE: {mean_squared_error(train_preds, y_train)}\")\n",
    "print(f\"Test MSE: {mean_squared_error(test_preds, y_test)}\")"
   ]
  },
  {
   "cell_type": "code",
   "execution_count": 201,
   "id": "e073deee",
   "metadata": {},
   "outputs": [
    {
     "data": {
      "text/plain": [
       "0.111144     DLAT\n",
       "0.096267    DLONG\n",
       "0.094395       Cu\n",
       "0.698194       Ni\n",
       "dtype: object"
      ]
     },
     "execution_count": 201,
     "metadata": {},
     "output_type": "execute_result"
    }
   ],
   "source": [
    "pd.Series(X_train.columns,rf.feature_importances_)"
   ]
  },
  {
   "cell_type": "code",
   "execution_count": null,
   "id": "768a7d88",
   "metadata": {},
   "outputs": [],
   "source": []
  },
  {
   "cell_type": "code",
   "execution_count": null,
   "id": "6c947a86",
   "metadata": {},
   "outputs": [],
   "source": []
  }
 ],
 "metadata": {
  "kernelspec": {
   "display_name": "Python 3 (ipykernel)",
   "language": "python",
   "name": "python3"
  },
  "language_info": {
   "codemirror_mode": {
    "name": "ipython",
    "version": 3
   },
   "file_extension": ".py",
   "mimetype": "text/x-python",
   "name": "python",
   "nbconvert_exporter": "python",
   "pygments_lexer": "ipython3",
   "version": "3.9.7"
  }
 },
 "nbformat": 4,
 "nbformat_minor": 5
}
