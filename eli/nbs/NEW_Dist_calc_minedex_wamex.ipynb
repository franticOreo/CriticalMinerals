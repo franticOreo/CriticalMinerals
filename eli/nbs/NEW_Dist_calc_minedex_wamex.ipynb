{
 "cells": [
  {
   "cell_type": "markdown",
   "metadata": {},
   "source": [
    "# Distance calculation between WAMEX coordonates and Minedex nickle deposits"
   ]
  },
  {
   "cell_type": "code",
   "execution_count": 6,
   "metadata": {},
   "outputs": [],
   "source": [
    "import pandas as pd\n",
    "import numpy as np\n",
    "import geopy.distance\n",
    "import fiona\n",
    "from tqdm import tqdm"
   ]
  },
  {
   "cell_type": "markdown",
   "metadata": {},
   "source": [
    "### WA nickle deposits locations (from Minedex)"
   ]
  },
  {
   "cell_type": "markdown",
   "metadata": {},
   "source": [
    "####  Shape file gets converted to CSV"
   ]
  },
  {
   "cell_type": "code",
   "execution_count": 15,
   "metadata": {},
   "outputs": [
    {
     "name": "stdout",
     "output_type": "stream",
     "text": [
      "MINEDEX - Ni-Cu-Co deposits.cpg\n",
      "MINEDEX - Ni-Cu-Co deposits.dbf\n",
      "MINEDEX - Ni-Cu-Co deposits.prj\n",
      "MINEDEX - Ni-Cu-Co deposits.shp\n",
      "MINEDEX - Ni-Cu-Co deposits.shx\n"
     ]
    }
   ],
   "source": [
    "!ls ../../data/SHP/"
   ]
  },
  {
   "cell_type": "code",
   "execution_count": 16,
   "metadata": {},
   "outputs": [],
   "source": [
    "SHAPE_PATH = '../../data/SHP/MINEDEX - Ni-Cu-Co deposits.shp'"
   ]
  },
  {
   "cell_type": "code",
   "execution_count": 18,
   "metadata": {},
   "outputs": [],
   "source": [
    "shape = fiona.open(SHAPE_PATH)\n",
    "# shape.next()['properties']"
   ]
  },
  {
   "cell_type": "code",
   "execution_count": 19,
   "metadata": {},
   "outputs": [],
   "source": [
    "ordered_dicts = []\n",
    "\n",
    "for item in shape.items():\n",
    "    ordered_dicts.append(item[1])"
   ]
  },
  {
   "cell_type": "code",
   "execution_count": 20,
   "metadata": {},
   "outputs": [
    {
     "data": {
      "text/html": [
       "<div>\n",
       "<style scoped>\n",
       "    .dataframe tbody tr th:only-of-type {\n",
       "        vertical-align: middle;\n",
       "    }\n",
       "\n",
       "    .dataframe tbody tr th {\n",
       "        vertical-align: top;\n",
       "    }\n",
       "\n",
       "    .dataframe thead th {\n",
       "        text-align: right;\n",
       "    }\n",
       "</style>\n",
       "<table border=\"1\" class=\"dataframe\">\n",
       "  <thead>\n",
       "    <tr style=\"text-align: right;\">\n",
       "      <th></th>\n",
       "      <th>SITE_CODE</th>\n",
       "      <th>SITE_TITLE</th>\n",
       "      <th>SHORT_NAME</th>\n",
       "      <th>SITE_COMMO</th>\n",
       "      <th>SITE_TYPE_</th>\n",
       "      <th>SITE_SUB_T</th>\n",
       "      <th>SITE_STAGE</th>\n",
       "      <th>TARGET_COM</th>\n",
       "      <th>COMMODITY</th>\n",
       "      <th>PROJ_CODE</th>\n",
       "      <th>PROJ_TITLE</th>\n",
       "      <th>CONFIDENTI</th>\n",
       "      <th>POINT_CONF</th>\n",
       "      <th>LATITUDE</th>\n",
       "      <th>LONGITUDE</th>\n",
       "      <th>WEB_LINK</th>\n",
       "      <th>EXTRACT_DA</th>\n",
       "      <th>MIN_TYPE</th>\n",
       "    </tr>\n",
       "  </thead>\n",
       "  <tbody>\n",
       "    <tr>\n",
       "      <th>0</th>\n",
       "      <td>None</td>\n",
       "      <td>Andover VC-07</td>\n",
       "      <td>Andover VC-07</td>\n",
       "      <td>Ni, Cu, Co</td>\n",
       "      <td>Occurrence</td>\n",
       "      <td>Drillhole</td>\n",
       "      <td>Exploration</td>\n",
       "      <td>NICKEL</td>\n",
       "      <td>STEEL ALLOY METAL</td>\n",
       "      <td>None</td>\n",
       "      <td>None</td>\n",
       "      <td>Public</td>\n",
       "      <td>Public</td>\n",
       "      <td>NaN</td>\n",
       "      <td>NaN</td>\n",
       "      <td>None</td>\n",
       "      <td>None</td>\n",
       "      <td>Orthomagmatic - mafic intrusion</td>\n",
       "    </tr>\n",
       "    <tr>\n",
       "      <th>1</th>\n",
       "      <td>None</td>\n",
       "      <td>Andover VC-23</td>\n",
       "      <td>Andover VC-23</td>\n",
       "      <td>Ni, Cu, Co</td>\n",
       "      <td>Occurrence</td>\n",
       "      <td>Drillhole</td>\n",
       "      <td>Exploration</td>\n",
       "      <td>NICKEL</td>\n",
       "      <td>STEEL ALLOY METAL</td>\n",
       "      <td>None</td>\n",
       "      <td>None</td>\n",
       "      <td>None</td>\n",
       "      <td>None</td>\n",
       "      <td>NaN</td>\n",
       "      <td>NaN</td>\n",
       "      <td>None</td>\n",
       "      <td>None</td>\n",
       "      <td>Orthomagmatic - mafic intrusion</td>\n",
       "    </tr>\n",
       "    <tr>\n",
       "      <th>2</th>\n",
       "      <td>S0000192</td>\n",
       "      <td>Flying Fox Old - OTZ / Outokumpu</td>\n",
       "      <td>Flying Fox Old</td>\n",
       "      <td>Ni, Cu</td>\n",
       "      <td>Mine</td>\n",
       "      <td>Decline</td>\n",
       "      <td>Shut</td>\n",
       "      <td>NICKEL</td>\n",
       "      <td>STEEL ALLOY METAL</td>\n",
       "      <td>J00757</td>\n",
       "      <td>Forrestania Nickel / Western Areas</td>\n",
       "      <td>Public</td>\n",
       "      <td>Public</td>\n",
       "      <td>-32.416982</td>\n",
       "      <td>119.689058</td>\n",
       "      <td>https://minedex.dmirs.wa.gov.au/Web/common/jum...</td>\n",
       "      <td>2021-07-28</td>\n",
       "      <td>None</td>\n",
       "    </tr>\n",
       "    <tr>\n",
       "      <th>3</th>\n",
       "      <td>S0000193</td>\n",
       "      <td>West Quest Nickel</td>\n",
       "      <td>West Quest Ni</td>\n",
       "      <td>Ni, Cu</td>\n",
       "      <td>Prospect</td>\n",
       "      <td>Drillhole</td>\n",
       "      <td>Undeveloped</td>\n",
       "      <td>NICKEL</td>\n",
       "      <td>STEEL ALLOY METAL</td>\n",
       "      <td>J00757</td>\n",
       "      <td>Forrestania Nickel / Western Areas</td>\n",
       "      <td>Public</td>\n",
       "      <td>Public</td>\n",
       "      <td>-32.263890</td>\n",
       "      <td>119.770800</td>\n",
       "      <td>https://minedex.dmirs.wa.gov.au/Web/common/jum...</td>\n",
       "      <td>2021-07-28</td>\n",
       "      <td>None</td>\n",
       "    </tr>\n",
       "    <tr>\n",
       "      <th>4</th>\n",
       "      <td>S0001174</td>\n",
       "      <td>Halleys</td>\n",
       "      <td>Halleys</td>\n",
       "      <td>Ni, Co, Mg</td>\n",
       "      <td>Mine</td>\n",
       "      <td>Openpit</td>\n",
       "      <td>Operating</td>\n",
       "      <td>NICKEL</td>\n",
       "      <td>STEEL ALLOY METAL</td>\n",
       "      <td>J02145</td>\n",
       "      <td>Ravensthorpe - First Quantum</td>\n",
       "      <td>Public</td>\n",
       "      <td>Public</td>\n",
       "      <td>-33.633382</td>\n",
       "      <td>120.374303</td>\n",
       "      <td>https://minedex.dmirs.wa.gov.au/Web/common/jum...</td>\n",
       "      <td>2021-07-28</td>\n",
       "      <td>None</td>\n",
       "    </tr>\n",
       "  </tbody>\n",
       "</table>\n",
       "</div>"
      ],
      "text/plain": [
       "  SITE_CODE                        SITE_TITLE      SHORT_NAME  SITE_COMMO  \\\n",
       "0      None                     Andover VC-07   Andover VC-07  Ni, Cu, Co   \n",
       "1      None                     Andover VC-23   Andover VC-23  Ni, Cu, Co   \n",
       "2  S0000192  Flying Fox Old - OTZ / Outokumpu  Flying Fox Old      Ni, Cu   \n",
       "3  S0000193                 West Quest Nickel   West Quest Ni      Ni, Cu   \n",
       "4  S0001174                           Halleys         Halleys  Ni, Co, Mg   \n",
       "\n",
       "   SITE_TYPE_ SITE_SUB_T   SITE_STAGE TARGET_COM          COMMODITY PROJ_CODE  \\\n",
       "0  Occurrence  Drillhole  Exploration     NICKEL  STEEL ALLOY METAL      None   \n",
       "1  Occurrence  Drillhole  Exploration     NICKEL  STEEL ALLOY METAL      None   \n",
       "2        Mine    Decline         Shut     NICKEL  STEEL ALLOY METAL    J00757   \n",
       "3    Prospect  Drillhole  Undeveloped     NICKEL  STEEL ALLOY METAL    J00757   \n",
       "4        Mine    Openpit    Operating     NICKEL  STEEL ALLOY METAL    J02145   \n",
       "\n",
       "                           PROJ_TITLE CONFIDENTI POINT_CONF   LATITUDE  \\\n",
       "0                                None     Public     Public        NaN   \n",
       "1                                None       None       None        NaN   \n",
       "2  Forrestania Nickel / Western Areas     Public     Public -32.416982   \n",
       "3  Forrestania Nickel / Western Areas     Public     Public -32.263890   \n",
       "4        Ravensthorpe - First Quantum     Public     Public -33.633382   \n",
       "\n",
       "    LONGITUDE                                           WEB_LINK  EXTRACT_DA  \\\n",
       "0         NaN                                               None        None   \n",
       "1         NaN                                               None        None   \n",
       "2  119.689058  https://minedex.dmirs.wa.gov.au/Web/common/jum...  2021-07-28   \n",
       "3  119.770800  https://minedex.dmirs.wa.gov.au/Web/common/jum...  2021-07-28   \n",
       "4  120.374303  https://minedex.dmirs.wa.gov.au/Web/common/jum...  2021-07-28   \n",
       "\n",
       "                          MIN_TYPE  \n",
       "0  Orthomagmatic - mafic intrusion  \n",
       "1  Orthomagmatic - mafic intrusion  \n",
       "2                             None  \n",
       "3                             None  \n",
       "4                             None  "
      ]
     },
     "execution_count": 20,
     "metadata": {},
     "output_type": "execute_result"
    }
   ],
   "source": [
    "df = pd.DataFrame([ordered_dicts[i]['properties'] for i, _ in enumerate(ordered_dicts)])\n",
    "df.head()"
   ]
  },
  {
   "cell_type": "code",
   "execution_count": 21,
   "metadata": {},
   "outputs": [
    {
     "data": {
      "text/plain": [
       "Mine          403\n",
       "Prospect      349\n",
       "Deposit       221\n",
       "Occurrence    124\n",
       "Name: SITE_TYPE_, dtype: int64"
      ]
     },
     "execution_count": 21,
     "metadata": {},
     "output_type": "execute_result"
    }
   ],
   "source": [
    "df['SITE_TYPE_'].value_counts()"
   ]
  },
  {
   "cell_type": "code",
   "execution_count": 23,
   "metadata": {},
   "outputs": [],
   "source": [
    "\n",
    "\n",
    "#save df\n",
    "df.to_csv('../../data/minedex/Mindex_Ni_Cu_Co_deposits.csv')"
   ]
  },
  {
   "cell_type": "code",
   "execution_count": 24,
   "metadata": {},
   "outputs": [],
   "source": [
    "#re-open\n",
    "df_minedex = pd.read_csv('../../data/minedex/Mindex_Ni_Cu_Co_deposits.csv')"
   ]
  },
  {
   "cell_type": "markdown",
   "metadata": {},
   "source": [
    "#### Filter the csv"
   ]
  },
  {
   "cell_type": "markdown",
   "metadata": {},
   "source": [
    "We will further filter prospects and occurences out as suggested by Trevor. "
   ]
  },
  {
   "cell_type": "code",
   "execution_count": 25,
   "metadata": {},
   "outputs": [],
   "source": [
    "df_minedex = df_minedex.loc[(df_minedex['SITE_TYPE_'] == 'Mine') | (df_minedex['SITE_TYPE_'] == 'Deposit')]"
   ]
  },
  {
   "cell_type": "code",
   "execution_count": 26,
   "metadata": {},
   "outputs": [
    {
     "data": {
      "text/plain": [
       "(624, 19)"
      ]
     },
     "execution_count": 26,
     "metadata": {},
     "output_type": "execute_result"
    }
   ],
   "source": [
    "df_minedex.shape"
   ]
  },
  {
   "cell_type": "code",
   "execution_count": 27,
   "metadata": {},
   "outputs": [
    {
     "data": {
      "text/html": [
       "<div>\n",
       "<style scoped>\n",
       "    .dataframe tbody tr th:only-of-type {\n",
       "        vertical-align: middle;\n",
       "    }\n",
       "\n",
       "    .dataframe tbody tr th {\n",
       "        vertical-align: top;\n",
       "    }\n",
       "\n",
       "    .dataframe thead th {\n",
       "        text-align: right;\n",
       "    }\n",
       "</style>\n",
       "<table border=\"1\" class=\"dataframe\">\n",
       "  <thead>\n",
       "    <tr style=\"text-align: right;\">\n",
       "      <th></th>\n",
       "      <th>Unnamed: 0</th>\n",
       "      <th>SITE_CODE</th>\n",
       "      <th>SITE_TITLE</th>\n",
       "      <th>SHORT_NAME</th>\n",
       "      <th>SITE_COMMO</th>\n",
       "      <th>SITE_TYPE_</th>\n",
       "      <th>SITE_SUB_T</th>\n",
       "      <th>SITE_STAGE</th>\n",
       "      <th>TARGET_COM</th>\n",
       "      <th>COMMODITY</th>\n",
       "      <th>PROJ_CODE</th>\n",
       "      <th>PROJ_TITLE</th>\n",
       "      <th>CONFIDENTI</th>\n",
       "      <th>POINT_CONF</th>\n",
       "      <th>LATITUDE</th>\n",
       "      <th>LONGITUDE</th>\n",
       "      <th>WEB_LINK</th>\n",
       "      <th>EXTRACT_DA</th>\n",
       "      <th>MIN_TYPE</th>\n",
       "    </tr>\n",
       "  </thead>\n",
       "  <tbody>\n",
       "    <tr>\n",
       "      <th>2</th>\n",
       "      <td>2</td>\n",
       "      <td>S0000192</td>\n",
       "      <td>Flying Fox Old - OTZ / Outokumpu</td>\n",
       "      <td>Flying Fox Old</td>\n",
       "      <td>Ni, Cu</td>\n",
       "      <td>Mine</td>\n",
       "      <td>Decline</td>\n",
       "      <td>Shut</td>\n",
       "      <td>NICKEL</td>\n",
       "      <td>STEEL ALLOY METAL</td>\n",
       "      <td>J00757</td>\n",
       "      <td>Forrestania Nickel / Western Areas</td>\n",
       "      <td>Public</td>\n",
       "      <td>Public</td>\n",
       "      <td>-32.416982</td>\n",
       "      <td>119.689058</td>\n",
       "      <td>https://minedex.dmirs.wa.gov.au/Web/common/jum...</td>\n",
       "      <td>2021-07-28</td>\n",
       "      <td>NaN</td>\n",
       "    </tr>\n",
       "    <tr>\n",
       "      <th>4</th>\n",
       "      <td>4</td>\n",
       "      <td>S0001174</td>\n",
       "      <td>Halleys</td>\n",
       "      <td>Halleys</td>\n",
       "      <td>Ni, Co, Mg</td>\n",
       "      <td>Mine</td>\n",
       "      <td>Openpit</td>\n",
       "      <td>Operating</td>\n",
       "      <td>NICKEL</td>\n",
       "      <td>STEEL ALLOY METAL</td>\n",
       "      <td>J02145</td>\n",
       "      <td>Ravensthorpe - First Quantum</td>\n",
       "      <td>Public</td>\n",
       "      <td>Public</td>\n",
       "      <td>-33.633382</td>\n",
       "      <td>120.374303</td>\n",
       "      <td>https://minedex.dmirs.wa.gov.au/Web/common/jum...</td>\n",
       "      <td>2021-07-28</td>\n",
       "      <td>NaN</td>\n",
       "    </tr>\n",
       "    <tr>\n",
       "      <th>5</th>\n",
       "      <td>5</td>\n",
       "      <td>S0001178</td>\n",
       "      <td>Black Swan - Gosling</td>\n",
       "      <td>Black Swan</td>\n",
       "      <td>Ni</td>\n",
       "      <td>Mine</td>\n",
       "      <td>Openpit</td>\n",
       "      <td>Care and Maintenance</td>\n",
       "      <td>NICKEL</td>\n",
       "      <td>STEEL ALLOY METAL</td>\n",
       "      <td>J00452</td>\n",
       "      <td>Silver Swan - Black Swan</td>\n",
       "      <td>Public</td>\n",
       "      <td>Public</td>\n",
       "      <td>-30.393502</td>\n",
       "      <td>121.648875</td>\n",
       "      <td>https://minedex.dmirs.wa.gov.au/Web/common/jum...</td>\n",
       "      <td>2021-07-28</td>\n",
       "      <td>NaN</td>\n",
       "    </tr>\n",
       "    <tr>\n",
       "      <th>6</th>\n",
       "      <td>6</td>\n",
       "      <td>S0001188</td>\n",
       "      <td>Avalon Group</td>\n",
       "      <td>Bulong</td>\n",
       "      <td>Ni, Co</td>\n",
       "      <td>Mine</td>\n",
       "      <td>Openpit</td>\n",
       "      <td>Care and Maintenance</td>\n",
       "      <td>NICKEL</td>\n",
       "      <td>STEEL ALLOY METAL</td>\n",
       "      <td>J00461</td>\n",
       "      <td>Avalon</td>\n",
       "      <td>Public</td>\n",
       "      <td>Public</td>\n",
       "      <td>-30.736222</td>\n",
       "      <td>121.802770</td>\n",
       "      <td>https://minedex.dmirs.wa.gov.au/Web/common/jum...</td>\n",
       "      <td>2021-07-28</td>\n",
       "      <td>NaN</td>\n",
       "    </tr>\n",
       "    <tr>\n",
       "      <th>7</th>\n",
       "      <td>7</td>\n",
       "      <td>S0001197</td>\n",
       "      <td>Byro East</td>\n",
       "      <td>Byro East</td>\n",
       "      <td>Ni, Cu, Au, Pt, Pd, Cr</td>\n",
       "      <td>Deposit</td>\n",
       "      <td>Unspecified</td>\n",
       "      <td>Undeveloped</td>\n",
       "      <td>NICKEL</td>\n",
       "      <td>STEEL ALLOY METAL</td>\n",
       "      <td>J00470</td>\n",
       "      <td>Byro Nickel</td>\n",
       "      <td>Public</td>\n",
       "      <td>Public</td>\n",
       "      <td>-26.037849</td>\n",
       "      <td>116.387001</td>\n",
       "      <td>https://minedex.dmirs.wa.gov.au/Web/common/jum...</td>\n",
       "      <td>2021-07-28</td>\n",
       "      <td>NaN</td>\n",
       "    </tr>\n",
       "  </tbody>\n",
       "</table>\n",
       "</div>"
      ],
      "text/plain": [
       "   Unnamed: 0 SITE_CODE                        SITE_TITLE      SHORT_NAME  \\\n",
       "2           2  S0000192  Flying Fox Old - OTZ / Outokumpu  Flying Fox Old   \n",
       "4           4  S0001174                           Halleys         Halleys   \n",
       "5           5  S0001178              Black Swan - Gosling      Black Swan   \n",
       "6           6  S0001188                      Avalon Group          Bulong   \n",
       "7           7  S0001197                         Byro East       Byro East   \n",
       "\n",
       "               SITE_COMMO SITE_TYPE_   SITE_SUB_T            SITE_STAGE  \\\n",
       "2                  Ni, Cu       Mine      Decline                  Shut   \n",
       "4              Ni, Co, Mg       Mine      Openpit             Operating   \n",
       "5                      Ni       Mine      Openpit  Care and Maintenance   \n",
       "6                  Ni, Co       Mine      Openpit  Care and Maintenance   \n",
       "7  Ni, Cu, Au, Pt, Pd, Cr    Deposit  Unspecified           Undeveloped   \n",
       "\n",
       "  TARGET_COM          COMMODITY PROJ_CODE                          PROJ_TITLE  \\\n",
       "2     NICKEL  STEEL ALLOY METAL    J00757  Forrestania Nickel / Western Areas   \n",
       "4     NICKEL  STEEL ALLOY METAL    J02145        Ravensthorpe - First Quantum   \n",
       "5     NICKEL  STEEL ALLOY METAL    J00452            Silver Swan - Black Swan   \n",
       "6     NICKEL  STEEL ALLOY METAL    J00461                              Avalon   \n",
       "7     NICKEL  STEEL ALLOY METAL    J00470                         Byro Nickel   \n",
       "\n",
       "  CONFIDENTI POINT_CONF   LATITUDE   LONGITUDE  \\\n",
       "2     Public     Public -32.416982  119.689058   \n",
       "4     Public     Public -33.633382  120.374303   \n",
       "5     Public     Public -30.393502  121.648875   \n",
       "6     Public     Public -30.736222  121.802770   \n",
       "7     Public     Public -26.037849  116.387001   \n",
       "\n",
       "                                            WEB_LINK  EXTRACT_DA MIN_TYPE  \n",
       "2  https://minedex.dmirs.wa.gov.au/Web/common/jum...  2021-07-28      NaN  \n",
       "4  https://minedex.dmirs.wa.gov.au/Web/common/jum...  2021-07-28      NaN  \n",
       "5  https://minedex.dmirs.wa.gov.au/Web/common/jum...  2021-07-28      NaN  \n",
       "6  https://minedex.dmirs.wa.gov.au/Web/common/jum...  2021-07-28      NaN  \n",
       "7  https://minedex.dmirs.wa.gov.au/Web/common/jum...  2021-07-28      NaN  "
      ]
     },
     "execution_count": 27,
     "metadata": {},
     "output_type": "execute_result"
    }
   ],
   "source": [
    "df_minedex.head()"
   ]
  },
  {
   "cell_type": "code",
   "execution_count": 28,
   "metadata": {},
   "outputs": [
    {
     "data": {
      "text/plain": [
       "Mine       403\n",
       "Deposit    221\n",
       "Name: SITE_TYPE_, dtype: int64"
      ]
     },
     "execution_count": 28,
     "metadata": {},
     "output_type": "execute_result"
    }
   ],
   "source": [
    "#Count by site type\n",
    "df_minedex['SITE_TYPE_'].value_counts()"
   ]
  },
  {
   "cell_type": "code",
   "execution_count": 30,
   "metadata": {},
   "outputs": [],
   "source": [
    "# df_minedex['SITE_COMMO'].value_counts()"
   ]
  },
  {
   "cell_type": "markdown",
   "metadata": {},
   "source": [
    "#### Get coodonates"
   ]
  },
  {
   "cell_type": "code",
   "execution_count": 41,
   "metadata": {},
   "outputs": [],
   "source": [
    "data = {'minedex_lat': df_minedex['LATITUDE'], 'minedex_lon': df_minedex['LONGITUDE'], 'minedex_site': df_minedex['SITE_CODE']}"
   ]
  },
  {
   "cell_type": "code",
   "execution_count": 42,
   "metadata": {},
   "outputs": [],
   "source": [
    "mindex_coords_df = pd.DataFrame(data)"
   ]
  },
  {
   "cell_type": "code",
   "execution_count": 43,
   "metadata": {},
   "outputs": [
    {
     "data": {
      "text/html": [
       "<div>\n",
       "<style scoped>\n",
       "    .dataframe tbody tr th:only-of-type {\n",
       "        vertical-align: middle;\n",
       "    }\n",
       "\n",
       "    .dataframe tbody tr th {\n",
       "        vertical-align: top;\n",
       "    }\n",
       "\n",
       "    .dataframe thead th {\n",
       "        text-align: right;\n",
       "    }\n",
       "</style>\n",
       "<table border=\"1\" class=\"dataframe\">\n",
       "  <thead>\n",
       "    <tr style=\"text-align: right;\">\n",
       "      <th></th>\n",
       "      <th>minedex_lat</th>\n",
       "      <th>minedex_lon</th>\n",
       "      <th>minedex_site</th>\n",
       "    </tr>\n",
       "  </thead>\n",
       "  <tbody>\n",
       "    <tr>\n",
       "      <th>2</th>\n",
       "      <td>-32.416982</td>\n",
       "      <td>119.689058</td>\n",
       "      <td>S0000192</td>\n",
       "    </tr>\n",
       "    <tr>\n",
       "      <th>4</th>\n",
       "      <td>-33.633382</td>\n",
       "      <td>120.374303</td>\n",
       "      <td>S0001174</td>\n",
       "    </tr>\n",
       "    <tr>\n",
       "      <th>5</th>\n",
       "      <td>-30.393502</td>\n",
       "      <td>121.648875</td>\n",
       "      <td>S0001178</td>\n",
       "    </tr>\n",
       "    <tr>\n",
       "      <th>6</th>\n",
       "      <td>-30.736222</td>\n",
       "      <td>121.802770</td>\n",
       "      <td>S0001188</td>\n",
       "    </tr>\n",
       "    <tr>\n",
       "      <th>7</th>\n",
       "      <td>-26.037849</td>\n",
       "      <td>116.387001</td>\n",
       "      <td>S0001197</td>\n",
       "    </tr>\n",
       "  </tbody>\n",
       "</table>\n",
       "</div>"
      ],
      "text/plain": [
       "   minedex_lat  minedex_lon minedex_site\n",
       "2   -32.416982   119.689058     S0000192\n",
       "4   -33.633382   120.374303     S0001174\n",
       "5   -30.393502   121.648875     S0001178\n",
       "6   -30.736222   121.802770     S0001188\n",
       "7   -26.037849   116.387001     S0001197"
      ]
     },
     "execution_count": 43,
     "metadata": {},
     "output_type": "execute_result"
    }
   ],
   "source": [
    "mindex_coords_df.head()"
   ]
  },
  {
   "cell_type": "code",
   "execution_count": 45,
   "metadata": {},
   "outputs": [
    {
     "data": {
      "text/plain": [
       "(624, 3)"
      ]
     },
     "execution_count": 45,
     "metadata": {},
     "output_type": "execute_result"
    }
   ],
   "source": [
    "mindex_coords_df.shape"
   ]
  },
  {
   "cell_type": "code",
   "execution_count": 46,
   "metadata": {},
   "outputs": [
    {
     "data": {
      "text/plain": [
       "624"
      ]
     },
     "execution_count": 46,
     "metadata": {},
     "output_type": "execute_result"
    }
   ],
   "source": [
    "#there are as many different mine sites locations as rows\n",
    "mindex_coords_df['minedex_site'].nunique()"
   ]
  },
  {
   "cell_type": "code",
   "execution_count": 47,
   "metadata": {},
   "outputs": [
    {
     "data": {
      "text/plain": [
       "[(-33.633382, 120.374303),\n",
       " (-30.393502, 121.648875),\n",
       " (-30.736222, 121.80277),\n",
       " (-26.037849, 116.387001)]"
      ]
     },
     "execution_count": 47,
     "metadata": {},
     "output_type": "execute_result"
    }
   ],
   "source": [
    "mindex_coords = list(zip(mindex_coords_df['minedex_lat'], mindex_coords_df['minedex_lon']))\n",
    "mindex_coords[1:5]"
   ]
  },
  {
   "cell_type": "code",
   "execution_count": 48,
   "metadata": {},
   "outputs": [],
   "source": [
    "mindex_coords_df['coords'] = mindex_coords"
   ]
  },
  {
   "cell_type": "code",
   "execution_count": 49,
   "metadata": {},
   "outputs": [
    {
     "data": {
      "text/html": [
       "<div>\n",
       "<style scoped>\n",
       "    .dataframe tbody tr th:only-of-type {\n",
       "        vertical-align: middle;\n",
       "    }\n",
       "\n",
       "    .dataframe tbody tr th {\n",
       "        vertical-align: top;\n",
       "    }\n",
       "\n",
       "    .dataframe thead th {\n",
       "        text-align: right;\n",
       "    }\n",
       "</style>\n",
       "<table border=\"1\" class=\"dataframe\">\n",
       "  <thead>\n",
       "    <tr style=\"text-align: right;\">\n",
       "      <th></th>\n",
       "      <th>minedex_lat</th>\n",
       "      <th>minedex_lon</th>\n",
       "      <th>minedex_site</th>\n",
       "      <th>coords</th>\n",
       "    </tr>\n",
       "  </thead>\n",
       "  <tbody>\n",
       "    <tr>\n",
       "      <th>2</th>\n",
       "      <td>-32.416982</td>\n",
       "      <td>119.689058</td>\n",
       "      <td>S0000192</td>\n",
       "      <td>(-32.416982, 119.689058)</td>\n",
       "    </tr>\n",
       "    <tr>\n",
       "      <th>4</th>\n",
       "      <td>-33.633382</td>\n",
       "      <td>120.374303</td>\n",
       "      <td>S0001174</td>\n",
       "      <td>(-33.633382, 120.374303)</td>\n",
       "    </tr>\n",
       "    <tr>\n",
       "      <th>5</th>\n",
       "      <td>-30.393502</td>\n",
       "      <td>121.648875</td>\n",
       "      <td>S0001178</td>\n",
       "      <td>(-30.393502, 121.648875)</td>\n",
       "    </tr>\n",
       "    <tr>\n",
       "      <th>6</th>\n",
       "      <td>-30.736222</td>\n",
       "      <td>121.802770</td>\n",
       "      <td>S0001188</td>\n",
       "      <td>(-30.736222, 121.80277)</td>\n",
       "    </tr>\n",
       "    <tr>\n",
       "      <th>7</th>\n",
       "      <td>-26.037849</td>\n",
       "      <td>116.387001</td>\n",
       "      <td>S0001197</td>\n",
       "      <td>(-26.037849, 116.387001)</td>\n",
       "    </tr>\n",
       "  </tbody>\n",
       "</table>\n",
       "</div>"
      ],
      "text/plain": [
       "   minedex_lat  minedex_lon minedex_site                    coords\n",
       "2   -32.416982   119.689058     S0000192  (-32.416982, 119.689058)\n",
       "4   -33.633382   120.374303     S0001174  (-33.633382, 120.374303)\n",
       "5   -30.393502   121.648875     S0001178  (-30.393502, 121.648875)\n",
       "6   -30.736222   121.802770     S0001188   (-30.736222, 121.80277)\n",
       "7   -26.037849   116.387001     S0001197  (-26.037849, 116.387001)"
      ]
     },
     "execution_count": 49,
     "metadata": {},
     "output_type": "execute_result"
    }
   ],
   "source": [
    "mindex_coords_df.head()"
   ]
  },
  {
   "cell_type": "markdown",
   "metadata": {},
   "source": [
    "## WAMEX assays"
   ]
  },
  {
   "cell_type": "code",
   "execution_count": 2,
   "metadata": {},
   "outputs": [
    {
     "data": {
      "text/plain": [
       "(179193, 13)"
      ]
     },
     "execution_count": 2,
     "metadata": {},
     "output_type": "execute_result"
    }
   ],
   "source": [
    "df_wamex = pd.read_csv('WAMEX_with_Co_Ni_MINDEX_available_minerals.csv')\n",
    "df_wamex.shape"
   ]
  },
  {
   "cell_type": "code",
   "execution_count": 3,
   "metadata": {},
   "outputs": [
    {
     "data": {
      "text/html": [
       "<div>\n",
       "<style scoped>\n",
       "    .dataframe tbody tr th:only-of-type {\n",
       "        vertical-align: middle;\n",
       "    }\n",
       "\n",
       "    .dataframe tbody tr th {\n",
       "        vertical-align: top;\n",
       "    }\n",
       "\n",
       "    .dataframe thead th {\n",
       "        text-align: right;\n",
       "    }\n",
       "</style>\n",
       "<table border=\"1\" class=\"dataframe\">\n",
       "  <thead>\n",
       "    <tr style=\"text-align: right;\">\n",
       "      <th></th>\n",
       "      <th>Unnamed: 0</th>\n",
       "      <th>Ni</th>\n",
       "      <th>Cu</th>\n",
       "      <th>Co</th>\n",
       "      <th>Pd</th>\n",
       "      <th>Au</th>\n",
       "      <th>Pt</th>\n",
       "      <th>Rh</th>\n",
       "      <th>Fe</th>\n",
       "      <th>S</th>\n",
       "      <th>Ag</th>\n",
       "      <th>lat</th>\n",
       "      <th>long</th>\n",
       "    </tr>\n",
       "  </thead>\n",
       "  <tbody>\n",
       "    <tr>\n",
       "      <th>0</th>\n",
       "      <td>33</td>\n",
       "      <td>56.0</td>\n",
       "      <td>420.0</td>\n",
       "      <td>9.0</td>\n",
       "      <td>14.0</td>\n",
       "      <td>0.010</td>\n",
       "      <td>1.0</td>\n",
       "      <td>NaN</td>\n",
       "      <td>NaN</td>\n",
       "      <td>NaN</td>\n",
       "      <td>NaN</td>\n",
       "      <td>-17.234642</td>\n",
       "      <td>128.032146</td>\n",
       "    </tr>\n",
       "    <tr>\n",
       "      <th>1</th>\n",
       "      <td>34</td>\n",
       "      <td>31.0</td>\n",
       "      <td>195.0</td>\n",
       "      <td>6.0</td>\n",
       "      <td>10.0</td>\n",
       "      <td>0.007</td>\n",
       "      <td>1.0</td>\n",
       "      <td>NaN</td>\n",
       "      <td>NaN</td>\n",
       "      <td>NaN</td>\n",
       "      <td>NaN</td>\n",
       "      <td>-17.234642</td>\n",
       "      <td>128.032146</td>\n",
       "    </tr>\n",
       "    <tr>\n",
       "      <th>2</th>\n",
       "      <td>35</td>\n",
       "      <td>90.0</td>\n",
       "      <td>150.0</td>\n",
       "      <td>15.0</td>\n",
       "      <td>2.0</td>\n",
       "      <td>0.004</td>\n",
       "      <td>0.5</td>\n",
       "      <td>NaN</td>\n",
       "      <td>NaN</td>\n",
       "      <td>NaN</td>\n",
       "      <td>NaN</td>\n",
       "      <td>-17.234642</td>\n",
       "      <td>128.032146</td>\n",
       "    </tr>\n",
       "    <tr>\n",
       "      <th>3</th>\n",
       "      <td>36</td>\n",
       "      <td>37.0</td>\n",
       "      <td>135.0</td>\n",
       "      <td>11.0</td>\n",
       "      <td>4.0</td>\n",
       "      <td>0.005</td>\n",
       "      <td>1.0</td>\n",
       "      <td>NaN</td>\n",
       "      <td>NaN</td>\n",
       "      <td>NaN</td>\n",
       "      <td>NaN</td>\n",
       "      <td>-17.216592</td>\n",
       "      <td>128.047184</td>\n",
       "    </tr>\n",
       "    <tr>\n",
       "      <th>4</th>\n",
       "      <td>37</td>\n",
       "      <td>58.0</td>\n",
       "      <td>120.0</td>\n",
       "      <td>14.0</td>\n",
       "      <td>5.0</td>\n",
       "      <td>0.004</td>\n",
       "      <td>0.5</td>\n",
       "      <td>NaN</td>\n",
       "      <td>NaN</td>\n",
       "      <td>NaN</td>\n",
       "      <td>NaN</td>\n",
       "      <td>-17.216028</td>\n",
       "      <td>128.048165</td>\n",
       "    </tr>\n",
       "  </tbody>\n",
       "</table>\n",
       "</div>"
      ],
      "text/plain": [
       "   Unnamed: 0    Ni     Cu    Co    Pd     Au   Pt  Rh  Fe   S  Ag        lat  \\\n",
       "0          33  56.0  420.0   9.0  14.0  0.010  1.0 NaN NaN NaN NaN -17.234642   \n",
       "1          34  31.0  195.0   6.0  10.0  0.007  1.0 NaN NaN NaN NaN -17.234642   \n",
       "2          35  90.0  150.0  15.0   2.0  0.004  0.5 NaN NaN NaN NaN -17.234642   \n",
       "3          36  37.0  135.0  11.0   4.0  0.005  1.0 NaN NaN NaN NaN -17.216592   \n",
       "4          37  58.0  120.0  14.0   5.0  0.004  0.5 NaN NaN NaN NaN -17.216028   \n",
       "\n",
       "         long  \n",
       "0  128.032146  \n",
       "1  128.032146  \n",
       "2  128.032146  \n",
       "3  128.047184  \n",
       "4  128.048165  "
      ]
     },
     "execution_count": 3,
     "metadata": {},
     "output_type": "execute_result"
    }
   ],
   "source": [
    "df_wamex.head()"
   ]
  },
  {
   "cell_type": "code",
   "execution_count": 56,
   "metadata": {},
   "outputs": [
    {
     "data": {
      "text/plain": [
       "[(-17.234642, 128.032146),\n",
       " (-17.234642, 128.032146),\n",
       " (-17.216592, 128.047184),\n",
       " (-17.216028, 128.048165)]"
      ]
     },
     "execution_count": 56,
     "metadata": {},
     "output_type": "execute_result"
    }
   ],
   "source": [
    "wamex_coords = list(zip(df_wamex['lat'], df_wamex['long']))\n",
    "wamex_coords[1:5]"
   ]
  },
  {
   "cell_type": "code",
   "execution_count": 57,
   "metadata": {},
   "outputs": [
    {
     "data": {
      "text/plain": [
       "179193"
      ]
     },
     "execution_count": 57,
     "metadata": {},
     "output_type": "execute_result"
    }
   ],
   "source": [
    "len(wamex_coords)"
   ]
  },
  {
   "cell_type": "code",
   "execution_count": 58,
   "metadata": {},
   "outputs": [
    {
     "data": {
      "text/plain": [
       "133965"
      ]
     },
     "execution_count": 58,
     "metadata": {},
     "output_type": "execute_result"
    }
   ],
   "source": [
    "wamex_coords_nodupl = tuple(set(wamex_coords))\n",
    "len(wamex_coords_nodupl)"
   ]
  },
  {
   "cell_type": "markdown",
   "metadata": {},
   "source": [
    "## Calculate Distance"
   ]
  },
  {
   "cell_type": "code",
   "execution_count": 59,
   "metadata": {},
   "outputs": [],
   "source": [
    "new = pd.DataFrame(columns=['minedex_coords', 'minedex_site', 'wamex_lat', 'wamex_lon', 'distance',])"
   ]
  },
  {
   "cell_type": "code",
   "execution_count": 60,
   "metadata": {},
   "outputs": [],
   "source": [
    "#simple distance function try\n",
    "def calc_distance(coords_a, coords_b):\n",
    "       dist = geopy.distance.distance(coords_a, coords_b)\n",
    "       return(dist)"
   ]
  },
  {
   "cell_type": "code",
   "execution_count": 61,
   "metadata": {},
   "outputs": [
    {
     "data": {
      "text/plain": [
       "Distance(1438.3974155883463)"
      ]
     },
     "execution_count": 61,
     "metadata": {},
     "output_type": "execute_result"
    }
   ],
   "source": [
    "calc_distance((-17.234642, 128.032146), (-26.78737, 118.574407))"
   ]
  },
  {
   "cell_type": "code",
   "execution_count": 62,
   "metadata": {},
   "outputs": [
    {
     "data": {
      "text/plain": [
       "(-25.585249, 116.825226)"
      ]
     },
     "execution_count": 62,
     "metadata": {},
     "output_type": "execute_result"
    }
   ],
   "source": [
    "wamex_coords_nodupl[1]"
   ]
  },
  {
   "cell_type": "code",
   "execution_count": 63,
   "metadata": {},
   "outputs": [
    {
     "name": "stderr",
     "output_type": "stream",
     "text": [
      "100%|████████████████████████████████████████████████████████████████████████| 133965/133965 [8:55:05<00:00,  4.17it/s]\n"
     ]
    }
   ],
   "source": [
    "for i in tqdm(range(0, len(wamex_coords_nodupl))):\n",
    "    for j in range(0, len(mindex_coords_df)):\n",
    "            comp = mindex_coords_df.iloc[j]['coords']\n",
    "            dist = calc_distance(wamex_coords_nodupl[i], comp)\n",
    "            if dist < 15:\n",
    "                new_row = {'minedex_coords': comp, 'minedex_site': mindex_coords_df.iloc[j]['minedex_site'],'wamex_lat':wamex_coords_nodupl[i][0],'wamex_lon': wamex_coords_nodupl[i][1], 'distance':dist}\n",
    "                new = new.append(new_row, ignore_index=True)"
   ]
  },
  {
   "cell_type": "code",
   "execution_count": 64,
   "metadata": {},
   "outputs": [
    {
     "data": {
      "text/plain": [
       "111302"
      ]
     },
     "execution_count": 64,
     "metadata": {},
     "output_type": "execute_result"
    }
   ],
   "source": [
    "len(new)"
   ]
  },
  {
   "cell_type": "code",
   "execution_count": 65,
   "metadata": {},
   "outputs": [],
   "source": [
    "new.to_csv('Distance_MinedexNi_WAMEX.csv')"
   ]
  },
  {
   "cell_type": "code",
   "execution_count": 67,
   "metadata": {},
   "outputs": [
    {
     "data": {
      "text/html": [
       "<div>\n",
       "<style scoped>\n",
       "    .dataframe tbody tr th:only-of-type {\n",
       "        vertical-align: middle;\n",
       "    }\n",
       "\n",
       "    .dataframe tbody tr th {\n",
       "        vertical-align: top;\n",
       "    }\n",
       "\n",
       "    .dataframe thead th {\n",
       "        text-align: right;\n",
       "    }\n",
       "</style>\n",
       "<table border=\"1\" class=\"dataframe\">\n",
       "  <thead>\n",
       "    <tr style=\"text-align: right;\">\n",
       "      <th></th>\n",
       "      <th>minedex_coords</th>\n",
       "      <th>minedex_site</th>\n",
       "      <th>wamex_lat</th>\n",
       "      <th>wamex_lon</th>\n",
       "      <th>distance</th>\n",
       "    </tr>\n",
       "  </thead>\n",
       "  <tbody>\n",
       "    <tr>\n",
       "      <th>0</th>\n",
       "      <td>(-31.591497, 123.441046)</td>\n",
       "      <td>S0236838</td>\n",
       "      <td>-31.500331</td>\n",
       "      <td>123.406984</td>\n",
       "      <td>10.613232589537946 km</td>\n",
       "    </tr>\n",
       "    <tr>\n",
       "      <th>1</th>\n",
       "      <td>(-21.656719, 120.386398)</td>\n",
       "      <td>S0016658</td>\n",
       "      <td>-21.672418</td>\n",
       "      <td>120.369385</td>\n",
       "      <td>2.474348626310701 km</td>\n",
       "    </tr>\n",
       "    <tr>\n",
       "      <th>2</th>\n",
       "      <td>(-29.74929, 120.559601)</td>\n",
       "      <td>S0021377</td>\n",
       "      <td>-29.835919</td>\n",
       "      <td>120.619067</td>\n",
       "      <td>11.19239782986901 km</td>\n",
       "    </tr>\n",
       "    <tr>\n",
       "      <th>3</th>\n",
       "      <td>(-20.92964, 120.207901)</td>\n",
       "      <td>S0023507</td>\n",
       "      <td>-20.891481</td>\n",
       "      <td>120.130476</td>\n",
       "      <td>9.095442991298277 km</td>\n",
       "    </tr>\n",
       "    <tr>\n",
       "      <th>4</th>\n",
       "      <td>(-26.885526, 122.214074)</td>\n",
       "      <td>S0020422</td>\n",
       "      <td>-26.824898</td>\n",
       "      <td>122.186901</td>\n",
       "      <td>7.240139569880715 km</td>\n",
       "    </tr>\n",
       "  </tbody>\n",
       "</table>\n",
       "</div>"
      ],
      "text/plain": [
       "             minedex_coords minedex_site  wamex_lat   wamex_lon  \\\n",
       "0  (-31.591497, 123.441046)     S0236838 -31.500331  123.406984   \n",
       "1  (-21.656719, 120.386398)     S0016658 -21.672418  120.369385   \n",
       "2   (-29.74929, 120.559601)     S0021377 -29.835919  120.619067   \n",
       "3   (-20.92964, 120.207901)     S0023507 -20.891481  120.130476   \n",
       "4  (-26.885526, 122.214074)     S0020422 -26.824898  122.186901   \n",
       "\n",
       "                distance  \n",
       "0  10.613232589537946 km  \n",
       "1   2.474348626310701 km  \n",
       "2   11.19239782986901 km  \n",
       "3   9.095442991298277 km  \n",
       "4   7.240139569880715 km  "
      ]
     },
     "execution_count": 67,
     "metadata": {},
     "output_type": "execute_result"
    }
   ],
   "source": [
    "new.head()"
   ]
  },
  {
   "cell_type": "markdown",
   "metadata": {},
   "source": [
    "The result includes duplicates of WAMEX assays because some assays are close to several MINEDEX mine sites. "
   ]
  },
  {
   "cell_type": "markdown",
   "metadata": {},
   "source": [
    "### Merge with actual assays"
   ]
  },
  {
   "cell_type": "code",
   "execution_count": 4,
   "metadata": {},
   "outputs": [],
   "source": [
    "distances = pd.read_csv('Distance_MinedexNi_WAMEX.csv')"
   ]
  },
  {
   "cell_type": "code",
   "execution_count": 5,
   "metadata": {},
   "outputs": [
    {
     "data": {
      "text/plain": [
       "111302"
      ]
     },
     "execution_count": 5,
     "metadata": {},
     "output_type": "execute_result"
    }
   ],
   "source": [
    "len(distances)"
   ]
  },
  {
   "cell_type": "code",
   "execution_count": 9,
   "metadata": {},
   "outputs": [
    {
     "data": {
      "text/html": [
       "<div>\n",
       "<style scoped>\n",
       "    .dataframe tbody tr th:only-of-type {\n",
       "        vertical-align: middle;\n",
       "    }\n",
       "\n",
       "    .dataframe tbody tr th {\n",
       "        vertical-align: top;\n",
       "    }\n",
       "\n",
       "    .dataframe thead th {\n",
       "        text-align: right;\n",
       "    }\n",
       "</style>\n",
       "<table border=\"1\" class=\"dataframe\">\n",
       "  <thead>\n",
       "    <tr style=\"text-align: right;\">\n",
       "      <th></th>\n",
       "      <th>Unnamed: 0</th>\n",
       "      <th>minedex_coords</th>\n",
       "      <th>minedex_site</th>\n",
       "      <th>wamex_lat</th>\n",
       "      <th>wamex_lon</th>\n",
       "      <th>distance</th>\n",
       "    </tr>\n",
       "  </thead>\n",
       "  <tbody>\n",
       "    <tr>\n",
       "      <th>0</th>\n",
       "      <td>0</td>\n",
       "      <td>(-31.591497, 123.441046)</td>\n",
       "      <td>S0236838</td>\n",
       "      <td>-31.500331</td>\n",
       "      <td>123.406984</td>\n",
       "      <td>10.613232589537946 km</td>\n",
       "    </tr>\n",
       "    <tr>\n",
       "      <th>1</th>\n",
       "      <td>1</td>\n",
       "      <td>(-21.656719, 120.386398)</td>\n",
       "      <td>S0016658</td>\n",
       "      <td>-21.672418</td>\n",
       "      <td>120.369385</td>\n",
       "      <td>2.474348626310701 km</td>\n",
       "    </tr>\n",
       "    <tr>\n",
       "      <th>2</th>\n",
       "      <td>2</td>\n",
       "      <td>(-29.74929, 120.559601)</td>\n",
       "      <td>S0021377</td>\n",
       "      <td>-29.835919</td>\n",
       "      <td>120.619067</td>\n",
       "      <td>11.19239782986901 km</td>\n",
       "    </tr>\n",
       "    <tr>\n",
       "      <th>3</th>\n",
       "      <td>3</td>\n",
       "      <td>(-20.92964, 120.207901)</td>\n",
       "      <td>S0023507</td>\n",
       "      <td>-20.891481</td>\n",
       "      <td>120.130476</td>\n",
       "      <td>9.095442991298277 km</td>\n",
       "    </tr>\n",
       "    <tr>\n",
       "      <th>4</th>\n",
       "      <td>4</td>\n",
       "      <td>(-26.885526, 122.214074)</td>\n",
       "      <td>S0020422</td>\n",
       "      <td>-26.824898</td>\n",
       "      <td>122.186901</td>\n",
       "      <td>7.240139569880715 km</td>\n",
       "    </tr>\n",
       "  </tbody>\n",
       "</table>\n",
       "</div>"
      ],
      "text/plain": [
       "   Unnamed: 0            minedex_coords minedex_site  wamex_lat   wamex_lon  \\\n",
       "0           0  (-31.591497, 123.441046)     S0236838 -31.500331  123.406984   \n",
       "1           1  (-21.656719, 120.386398)     S0016658 -21.672418  120.369385   \n",
       "2           2   (-29.74929, 120.559601)     S0021377 -29.835919  120.619067   \n",
       "3           3   (-20.92964, 120.207901)     S0023507 -20.891481  120.130476   \n",
       "4           4  (-26.885526, 122.214074)     S0020422 -26.824898  122.186901   \n",
       "\n",
       "                distance  \n",
       "0  10.613232589537946 km  \n",
       "1   2.474348626310701 km  \n",
       "2   11.19239782986901 km  \n",
       "3   9.095442991298277 km  \n",
       "4   7.240139569880715 km  "
      ]
     },
     "execution_count": 9,
     "metadata": {},
     "output_type": "execute_result"
    }
   ],
   "source": [
    "distances.head()"
   ]
  },
  {
   "cell_type": "code",
   "execution_count": 10,
   "metadata": {},
   "outputs": [
    {
     "data": {
      "text/html": [
       "<div>\n",
       "<style scoped>\n",
       "    .dataframe tbody tr th:only-of-type {\n",
       "        vertical-align: middle;\n",
       "    }\n",
       "\n",
       "    .dataframe tbody tr th {\n",
       "        vertical-align: top;\n",
       "    }\n",
       "\n",
       "    .dataframe thead th {\n",
       "        text-align: right;\n",
       "    }\n",
       "</style>\n",
       "<table border=\"1\" class=\"dataframe\">\n",
       "  <thead>\n",
       "    <tr style=\"text-align: right;\">\n",
       "      <th></th>\n",
       "      <th>Unnamed: 0</th>\n",
       "      <th>Ni</th>\n",
       "      <th>Cu</th>\n",
       "      <th>Co</th>\n",
       "      <th>Pd</th>\n",
       "      <th>Au</th>\n",
       "      <th>Pt</th>\n",
       "      <th>Rh</th>\n",
       "      <th>Fe</th>\n",
       "      <th>S</th>\n",
       "      <th>Ag</th>\n",
       "      <th>lat</th>\n",
       "      <th>long</th>\n",
       "    </tr>\n",
       "  </thead>\n",
       "  <tbody>\n",
       "    <tr>\n",
       "      <th>0</th>\n",
       "      <td>33</td>\n",
       "      <td>56.0</td>\n",
       "      <td>420.0</td>\n",
       "      <td>9.0</td>\n",
       "      <td>14.0</td>\n",
       "      <td>0.010</td>\n",
       "      <td>1.0</td>\n",
       "      <td>NaN</td>\n",
       "      <td>NaN</td>\n",
       "      <td>NaN</td>\n",
       "      <td>NaN</td>\n",
       "      <td>-17.234642</td>\n",
       "      <td>128.032146</td>\n",
       "    </tr>\n",
       "    <tr>\n",
       "      <th>1</th>\n",
       "      <td>34</td>\n",
       "      <td>31.0</td>\n",
       "      <td>195.0</td>\n",
       "      <td>6.0</td>\n",
       "      <td>10.0</td>\n",
       "      <td>0.007</td>\n",
       "      <td>1.0</td>\n",
       "      <td>NaN</td>\n",
       "      <td>NaN</td>\n",
       "      <td>NaN</td>\n",
       "      <td>NaN</td>\n",
       "      <td>-17.234642</td>\n",
       "      <td>128.032146</td>\n",
       "    </tr>\n",
       "    <tr>\n",
       "      <th>2</th>\n",
       "      <td>35</td>\n",
       "      <td>90.0</td>\n",
       "      <td>150.0</td>\n",
       "      <td>15.0</td>\n",
       "      <td>2.0</td>\n",
       "      <td>0.004</td>\n",
       "      <td>0.5</td>\n",
       "      <td>NaN</td>\n",
       "      <td>NaN</td>\n",
       "      <td>NaN</td>\n",
       "      <td>NaN</td>\n",
       "      <td>-17.234642</td>\n",
       "      <td>128.032146</td>\n",
       "    </tr>\n",
       "    <tr>\n",
       "      <th>3</th>\n",
       "      <td>36</td>\n",
       "      <td>37.0</td>\n",
       "      <td>135.0</td>\n",
       "      <td>11.0</td>\n",
       "      <td>4.0</td>\n",
       "      <td>0.005</td>\n",
       "      <td>1.0</td>\n",
       "      <td>NaN</td>\n",
       "      <td>NaN</td>\n",
       "      <td>NaN</td>\n",
       "      <td>NaN</td>\n",
       "      <td>-17.216592</td>\n",
       "      <td>128.047184</td>\n",
       "    </tr>\n",
       "    <tr>\n",
       "      <th>4</th>\n",
       "      <td>37</td>\n",
       "      <td>58.0</td>\n",
       "      <td>120.0</td>\n",
       "      <td>14.0</td>\n",
       "      <td>5.0</td>\n",
       "      <td>0.004</td>\n",
       "      <td>0.5</td>\n",
       "      <td>NaN</td>\n",
       "      <td>NaN</td>\n",
       "      <td>NaN</td>\n",
       "      <td>NaN</td>\n",
       "      <td>-17.216028</td>\n",
       "      <td>128.048165</td>\n",
       "    </tr>\n",
       "  </tbody>\n",
       "</table>\n",
       "</div>"
      ],
      "text/plain": [
       "   Unnamed: 0    Ni     Cu    Co    Pd     Au   Pt  Rh  Fe   S  Ag        lat  \\\n",
       "0          33  56.0  420.0   9.0  14.0  0.010  1.0 NaN NaN NaN NaN -17.234642   \n",
       "1          34  31.0  195.0   6.0  10.0  0.007  1.0 NaN NaN NaN NaN -17.234642   \n",
       "2          35  90.0  150.0  15.0   2.0  0.004  0.5 NaN NaN NaN NaN -17.234642   \n",
       "3          36  37.0  135.0  11.0   4.0  0.005  1.0 NaN NaN NaN NaN -17.216592   \n",
       "4          37  58.0  120.0  14.0   5.0  0.004  0.5 NaN NaN NaN NaN -17.216028   \n",
       "\n",
       "         long  \n",
       "0  128.032146  \n",
       "1  128.032146  \n",
       "2  128.032146  \n",
       "3  128.047184  \n",
       "4  128.048165  "
      ]
     },
     "execution_count": 10,
     "metadata": {},
     "output_type": "execute_result"
    }
   ],
   "source": [
    "df_wamex.head()"
   ]
  },
  {
   "cell_type": "code",
   "execution_count": 12,
   "metadata": {},
   "outputs": [],
   "source": [
    "Merged_Ni_lessthan15km = pd.merge(df_wamex, distances, how='inner', left_on=['lat', 'long'], right_on=['wamex_lat', 'wamex_lon'])"
   ]
  },
  {
   "cell_type": "code",
   "execution_count": 13,
   "metadata": {},
   "outputs": [
    {
     "data": {
      "text/html": [
       "<div>\n",
       "<style scoped>\n",
       "    .dataframe tbody tr th:only-of-type {\n",
       "        vertical-align: middle;\n",
       "    }\n",
       "\n",
       "    .dataframe tbody tr th {\n",
       "        vertical-align: top;\n",
       "    }\n",
       "\n",
       "    .dataframe thead th {\n",
       "        text-align: right;\n",
       "    }\n",
       "</style>\n",
       "<table border=\"1\" class=\"dataframe\">\n",
       "  <thead>\n",
       "    <tr style=\"text-align: right;\">\n",
       "      <th></th>\n",
       "      <th>Unnamed: 0_x</th>\n",
       "      <th>Ni</th>\n",
       "      <th>Cu</th>\n",
       "      <th>Co</th>\n",
       "      <th>Pd</th>\n",
       "      <th>Au</th>\n",
       "      <th>Pt</th>\n",
       "      <th>Rh</th>\n",
       "      <th>Fe</th>\n",
       "      <th>S</th>\n",
       "      <th>Ag</th>\n",
       "      <th>lat</th>\n",
       "      <th>long</th>\n",
       "      <th>Unnamed: 0_y</th>\n",
       "      <th>minedex_coords</th>\n",
       "      <th>minedex_site</th>\n",
       "      <th>wamex_lat</th>\n",
       "      <th>wamex_lon</th>\n",
       "      <th>distance</th>\n",
       "    </tr>\n",
       "  </thead>\n",
       "  <tbody>\n",
       "    <tr>\n",
       "      <th>0</th>\n",
       "      <td>33</td>\n",
       "      <td>56.0</td>\n",
       "      <td>420.0</td>\n",
       "      <td>9.0</td>\n",
       "      <td>14.0</td>\n",
       "      <td>0.01</td>\n",
       "      <td>1.0</td>\n",
       "      <td>NaN</td>\n",
       "      <td>NaN</td>\n",
       "      <td>NaN</td>\n",
       "      <td>NaN</td>\n",
       "      <td>-17.234642</td>\n",
       "      <td>128.032146</td>\n",
       "      <td>46661</td>\n",
       "      <td>(-17.34893, 128.022095)</td>\n",
       "      <td>S0001442</td>\n",
       "      <td>-17.234642</td>\n",
       "      <td>128.032146</td>\n",
       "      <td>12.693593881734987 km</td>\n",
       "    </tr>\n",
       "    <tr>\n",
       "      <th>1</th>\n",
       "      <td>33</td>\n",
       "      <td>56.0</td>\n",
       "      <td>420.0</td>\n",
       "      <td>9.0</td>\n",
       "      <td>14.0</td>\n",
       "      <td>0.01</td>\n",
       "      <td>1.0</td>\n",
       "      <td>NaN</td>\n",
       "      <td>NaN</td>\n",
       "      <td>NaN</td>\n",
       "      <td>NaN</td>\n",
       "      <td>-17.234642</td>\n",
       "      <td>128.032146</td>\n",
       "      <td>46662</td>\n",
       "      <td>(-17.31078, 128.023499)</td>\n",
       "      <td>S0002890</td>\n",
       "      <td>-17.234642</td>\n",
       "      <td>128.032146</td>\n",
       "      <td>8.476376684524638 km</td>\n",
       "    </tr>\n",
       "    <tr>\n",
       "      <th>2</th>\n",
       "      <td>33</td>\n",
       "      <td>56.0</td>\n",
       "      <td>420.0</td>\n",
       "      <td>9.0</td>\n",
       "      <td>14.0</td>\n",
       "      <td>0.01</td>\n",
       "      <td>1.0</td>\n",
       "      <td>NaN</td>\n",
       "      <td>NaN</td>\n",
       "      <td>NaN</td>\n",
       "      <td>NaN</td>\n",
       "      <td>-17.234642</td>\n",
       "      <td>128.032146</td>\n",
       "      <td>46663</td>\n",
       "      <td>(-17.3526, 128.027695)</td>\n",
       "      <td>S0019720</td>\n",
       "      <td>-17.234642</td>\n",
       "      <td>128.032146</td>\n",
       "      <td>13.063277176872425 km</td>\n",
       "    </tr>\n",
       "    <tr>\n",
       "      <th>3</th>\n",
       "      <td>33</td>\n",
       "      <td>56.0</td>\n",
       "      <td>420.0</td>\n",
       "      <td>9.0</td>\n",
       "      <td>14.0</td>\n",
       "      <td>0.01</td>\n",
       "      <td>1.0</td>\n",
       "      <td>NaN</td>\n",
       "      <td>NaN</td>\n",
       "      <td>NaN</td>\n",
       "      <td>NaN</td>\n",
       "      <td>-17.234642</td>\n",
       "      <td>128.032146</td>\n",
       "      <td>46664</td>\n",
       "      <td>(-17.3526, 128.027695)</td>\n",
       "      <td>S0019821</td>\n",
       "      <td>-17.234642</td>\n",
       "      <td>128.032146</td>\n",
       "      <td>13.063277176872425 km</td>\n",
       "    </tr>\n",
       "    <tr>\n",
       "      <th>4</th>\n",
       "      <td>33</td>\n",
       "      <td>56.0</td>\n",
       "      <td>420.0</td>\n",
       "      <td>9.0</td>\n",
       "      <td>14.0</td>\n",
       "      <td>0.01</td>\n",
       "      <td>1.0</td>\n",
       "      <td>NaN</td>\n",
       "      <td>NaN</td>\n",
       "      <td>NaN</td>\n",
       "      <td>NaN</td>\n",
       "      <td>-17.234642</td>\n",
       "      <td>128.032146</td>\n",
       "      <td>46665</td>\n",
       "      <td>(-17.338411, 128.017007)</td>\n",
       "      <td>S0231765</td>\n",
       "      <td>-17.234642</td>\n",
       "      <td>128.032146</td>\n",
       "      <td>11.59661465949521 km</td>\n",
       "    </tr>\n",
       "  </tbody>\n",
       "</table>\n",
       "</div>"
      ],
      "text/plain": [
       "   Unnamed: 0_x    Ni     Cu   Co    Pd    Au   Pt  Rh  Fe   S  Ag        lat  \\\n",
       "0            33  56.0  420.0  9.0  14.0  0.01  1.0 NaN NaN NaN NaN -17.234642   \n",
       "1            33  56.0  420.0  9.0  14.0  0.01  1.0 NaN NaN NaN NaN -17.234642   \n",
       "2            33  56.0  420.0  9.0  14.0  0.01  1.0 NaN NaN NaN NaN -17.234642   \n",
       "3            33  56.0  420.0  9.0  14.0  0.01  1.0 NaN NaN NaN NaN -17.234642   \n",
       "4            33  56.0  420.0  9.0  14.0  0.01  1.0 NaN NaN NaN NaN -17.234642   \n",
       "\n",
       "         long  Unnamed: 0_y            minedex_coords minedex_site  wamex_lat  \\\n",
       "0  128.032146         46661   (-17.34893, 128.022095)     S0001442 -17.234642   \n",
       "1  128.032146         46662   (-17.31078, 128.023499)     S0002890 -17.234642   \n",
       "2  128.032146         46663    (-17.3526, 128.027695)     S0019720 -17.234642   \n",
       "3  128.032146         46664    (-17.3526, 128.027695)     S0019821 -17.234642   \n",
       "4  128.032146         46665  (-17.338411, 128.017007)     S0231765 -17.234642   \n",
       "\n",
       "    wamex_lon               distance  \n",
       "0  128.032146  12.693593881734987 km  \n",
       "1  128.032146   8.476376684524638 km  \n",
       "2  128.032146  13.063277176872425 km  \n",
       "3  128.032146  13.063277176872425 km  \n",
       "4  128.032146   11.59661465949521 km  "
      ]
     },
     "execution_count": 13,
     "metadata": {},
     "output_type": "execute_result"
    }
   ],
   "source": [
    "Merged_Ni_lessthan15km.head()"
   ]
  },
  {
   "cell_type": "code",
   "execution_count": 16,
   "metadata": {},
   "outputs": [],
   "source": [
    "Merged_Ni_lessthan15km.to_csv('Merged_Ni_lessthan15km.csv')"
   ]
  },
  {
   "cell_type": "code",
   "execution_count": null,
   "metadata": {},
   "outputs": [],
   "source": []
  }
 ],
 "metadata": {
  "kernelspec": {
   "display_name": "Python 3 (ipykernel)",
   "language": "python",
   "name": "python3"
  },
  "language_info": {
   "codemirror_mode": {
    "name": "ipython",
    "version": 3
   },
   "file_extension": ".py",
   "mimetype": "text/x-python",
   "name": "python",
   "nbconvert_exporter": "python",
   "pygments_lexer": "ipython3",
   "version": "3.9.7"
  }
 },
 "nbformat": 4,
 "nbformat_minor": 4
}
