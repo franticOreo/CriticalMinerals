{
 "cells": [
  {
   "cell_type": "code",
   "execution_count": 2,
   "id": "c240b818",
   "metadata": {},
   "outputs": [],
   "source": [
    "import pandas as pd"
   ]
  },
  {
   "cell_type": "code",
   "execution_count": 3,
   "id": "0db99758",
   "metadata": {},
   "outputs": [
    {
     "name": "stderr",
     "output_type": "stream",
     "text": [
      "C:\\Users\\elisi\\Miniconda3\\envs\\minerals\\lib\\site-packages\\IPython\\core\\interactiveshell.py:3441: DtypeWarning: Columns (10) have mixed types.Specify dtype option on import or set low_memory=False.\n",
      "  exec(code_obj, self.user_global_ns, self.user_ns)\n"
     ]
    }
   ],
   "source": [
    "df = pd.read_csv('../../data/wamex/dd_20210723.csv')"
   ]
  },
  {
   "cell_type": "code",
   "execution_count": 4,
   "id": "98bf4611",
   "metadata": {},
   "outputs": [
    {
     "data": {
      "text/plain": [
       "(8564058, 171)"
      ]
     },
     "execution_count": 4,
     "metadata": {},
     "output_type": "execute_result"
    }
   ],
   "source": [
    "df.shape"
   ]
  },
  {
   "cell_type": "code",
   "execution_count": 5,
   "id": "6a4cb580",
   "metadata": {},
   "outputs": [
    {
     "data": {
      "text/html": [
       "<div>\n",
       "<style scoped>\n",
       "    .dataframe tbody tr th:only-of-type {\n",
       "        vertical-align: middle;\n",
       "    }\n",
       "\n",
       "    .dataframe tbody tr th {\n",
       "        vertical-align: top;\n",
       "    }\n",
       "\n",
       "    .dataframe thead th {\n",
       "        text-align: right;\n",
       "    }\n",
       "</style>\n",
       "<table border=\"1\" class=\"dataframe\">\n",
       "  <thead>\n",
       "    <tr style=\"text-align: right;\">\n",
       "      <th></th>\n",
       "      <th>CollarId</th>\n",
       "      <th>Longitude</th>\n",
       "      <th>Latitude</th>\n",
       "      <th>Azimuth</th>\n",
       "      <th>Dip</th>\n",
       "      <th>MaxDepth</th>\n",
       "      <th>Anumber</th>\n",
       "      <th>SampleId</th>\n",
       "      <th>FromDepth</th>\n",
       "      <th>ToDepth</th>\n",
       "      <th>...</th>\n",
       "      <th>WO_PPM</th>\n",
       "      <th>WO3_PPM</th>\n",
       "      <th>Y_PPM</th>\n",
       "      <th>Y2O3_PPM</th>\n",
       "      <th>Yb_PPM</th>\n",
       "      <th>Yb2O3_PPM</th>\n",
       "      <th>Zn_PPM</th>\n",
       "      <th>ZnO_PPM</th>\n",
       "      <th>Zr_PPM</th>\n",
       "      <th>ZrO2_PPM</th>\n",
       "    </tr>\n",
       "  </thead>\n",
       "  <tbody>\n",
       "    <tr>\n",
       "      <th>count</th>\n",
       "      <td>8.564058e+06</td>\n",
       "      <td>8.564058e+06</td>\n",
       "      <td>8.564058e+06</td>\n",
       "      <td>8564058.0</td>\n",
       "      <td>8564058.0</td>\n",
       "      <td>8.059622e+06</td>\n",
       "      <td>8.564058e+06</td>\n",
       "      <td>8.564058e+06</td>\n",
       "      <td>8.564058e+06</td>\n",
       "      <td>8.564058e+06</td>\n",
       "      <td>...</td>\n",
       "      <td>8564058.0</td>\n",
       "      <td>8.564058e+06</td>\n",
       "      <td>8.564058e+06</td>\n",
       "      <td>8.564058e+06</td>\n",
       "      <td>8.564058e+06</td>\n",
       "      <td>8.564058e+06</td>\n",
       "      <td>8.564058e+06</td>\n",
       "      <td>8.564058e+06</td>\n",
       "      <td>8.564058e+06</td>\n",
       "      <td>8.564058e+06</td>\n",
       "    </tr>\n",
       "    <tr>\n",
       "      <th>mean</th>\n",
       "      <td>2.115888e+06</td>\n",
       "      <td>1.209274e+02</td>\n",
       "      <td>-2.829402e+01</td>\n",
       "      <td>360.0</td>\n",
       "      <td>-90.0</td>\n",
       "      <td>3.950838e+02</td>\n",
       "      <td>8.223143e+04</td>\n",
       "      <td>4.812325e+07</td>\n",
       "      <td>2.260477e+02</td>\n",
       "      <td>2.369981e+02</td>\n",
       "      <td>...</td>\n",
       "      <td>-9999.0</td>\n",
       "      <td>-9.989323e+03</td>\n",
       "      <td>-9.537654e+03</td>\n",
       "      <td>-9.985560e+03</td>\n",
       "      <td>-9.907377e+03</td>\n",
       "      <td>-9.989493e+03</td>\n",
       "      <td>-5.395081e+03</td>\n",
       "      <td>-9.991772e+03</td>\n",
       "      <td>-9.418210e+03</td>\n",
       "      <td>-9.366376e+03</td>\n",
       "    </tr>\n",
       "    <tr>\n",
       "      <th>std</th>\n",
       "      <td>1.185986e+06</td>\n",
       "      <td>2.082829e+00</td>\n",
       "      <td>3.265928e+00</td>\n",
       "      <td>0.0</td>\n",
       "      <td>0.0</td>\n",
       "      <td>3.247940e+02</td>\n",
       "      <td>1.481752e+04</td>\n",
       "      <td>2.800467e+07</td>\n",
       "      <td>2.473109e+02</td>\n",
       "      <td>1.532910e+03</td>\n",
       "      <td>...</td>\n",
       "      <td>0.0</td>\n",
       "      <td>3.317048e+02</td>\n",
       "      <td>5.928051e+03</td>\n",
       "      <td>4.784555e+02</td>\n",
       "      <td>9.537886e+02</td>\n",
       "      <td>3.115243e+02</td>\n",
       "      <td>4.786078e+05</td>\n",
       "      <td>6.429548e+02</td>\n",
       "      <td>1.333960e+05</td>\n",
       "      <td>5.279158e+04</td>\n",
       "    </tr>\n",
       "    <tr>\n",
       "      <th>min</th>\n",
       "      <td>1.201070e+05</td>\n",
       "      <td>1.140640e+02</td>\n",
       "      <td>-3.480668e+01</td>\n",
       "      <td>360.0</td>\n",
       "      <td>-90.0</td>\n",
       "      <td>-9.990000e+02</td>\n",
       "      <td>1.300000e+01</td>\n",
       "      <td>3.341240e+06</td>\n",
       "      <td>-9.999900e+04</td>\n",
       "      <td>-9.990000e+02</td>\n",
       "      <td>...</td>\n",
       "      <td>-9999.0</td>\n",
       "      <td>-9.999000e+03</td>\n",
       "      <td>-9.999000e+03</td>\n",
       "      <td>-9.999000e+03</td>\n",
       "      <td>-9.999000e+03</td>\n",
       "      <td>-9.999000e+03</td>\n",
       "      <td>-9.999000e+07</td>\n",
       "      <td>-9.900000e+05</td>\n",
       "      <td>-5.556000e+07</td>\n",
       "      <td>-9.999000e+03</td>\n",
       "    </tr>\n",
       "    <tr>\n",
       "      <th>25%</th>\n",
       "      <td>1.113870e+06</td>\n",
       "      <td>1.204968e+02</td>\n",
       "      <td>-3.078926e+01</td>\n",
       "      <td>360.0</td>\n",
       "      <td>-90.0</td>\n",
       "      <td>1.842000e+02</td>\n",
       "      <td>7.018500e+04</td>\n",
       "      <td>2.522184e+07</td>\n",
       "      <td>6.920000e+01</td>\n",
       "      <td>7.060000e+01</td>\n",
       "      <td>...</td>\n",
       "      <td>-9999.0</td>\n",
       "      <td>-9.999000e+03</td>\n",
       "      <td>-9.999000e+03</td>\n",
       "      <td>-9.999000e+03</td>\n",
       "      <td>-9.999000e+03</td>\n",
       "      <td>-9.999000e+03</td>\n",
       "      <td>-9.999000e+03</td>\n",
       "      <td>-9.999000e+03</td>\n",
       "      <td>-9.999000e+03</td>\n",
       "      <td>-9.999000e+03</td>\n",
       "    </tr>\n",
       "    <tr>\n",
       "      <th>50%</th>\n",
       "      <td>2.148136e+06</td>\n",
       "      <td>1.211738e+02</td>\n",
       "      <td>-2.884724e+01</td>\n",
       "      <td>360.0</td>\n",
       "      <td>-90.0</td>\n",
       "      <td>3.030000e+02</td>\n",
       "      <td>8.294300e+04</td>\n",
       "      <td>4.754421e+07</td>\n",
       "      <td>1.520000e+02</td>\n",
       "      <td>1.532400e+02</td>\n",
       "      <td>...</td>\n",
       "      <td>-9999.0</td>\n",
       "      <td>-9.999000e+03</td>\n",
       "      <td>-9.999000e+03</td>\n",
       "      <td>-9.999000e+03</td>\n",
       "      <td>-9.999000e+03</td>\n",
       "      <td>-9.999000e+03</td>\n",
       "      <td>-9.999000e+03</td>\n",
       "      <td>-9.999000e+03</td>\n",
       "      <td>-9.999000e+03</td>\n",
       "      <td>-9.999000e+03</td>\n",
       "    </tr>\n",
       "    <tr>\n",
       "      <th>75%</th>\n",
       "      <td>3.054047e+06</td>\n",
       "      <td>1.217748e+02</td>\n",
       "      <td>-2.638621e+01</td>\n",
       "      <td>360.0</td>\n",
       "      <td>-90.0</td>\n",
       "      <td>4.890000e+02</td>\n",
       "      <td>9.409700e+04</td>\n",
       "      <td>7.040640e+07</td>\n",
       "      <td>2.910000e+02</td>\n",
       "      <td>2.920000e+02</td>\n",
       "      <td>...</td>\n",
       "      <td>-9999.0</td>\n",
       "      <td>-9.999000e+03</td>\n",
       "      <td>-9.999000e+03</td>\n",
       "      <td>-9.999000e+03</td>\n",
       "      <td>-9.999000e+03</td>\n",
       "      <td>-9.999000e+03</td>\n",
       "      <td>-9.999000e+03</td>\n",
       "      <td>-9.999000e+03</td>\n",
       "      <td>-9.999000e+03</td>\n",
       "      <td>-9.999000e+03</td>\n",
       "    </tr>\n",
       "    <tr>\n",
       "      <th>max</th>\n",
       "      <td>4.859975e+06</td>\n",
       "      <td>1.289862e+02</td>\n",
       "      <td>-1.421988e+01</td>\n",
       "      <td>360.0</td>\n",
       "      <td>-90.0</td>\n",
       "      <td>3.011500e+03</td>\n",
       "      <td>1.249470e+05</td>\n",
       "      <td>1.214480e+08</td>\n",
       "      <td>3.011000e+03</td>\n",
       "      <td>9.999990e+05</td>\n",
       "      <td>...</td>\n",
       "      <td>-9999.0</td>\n",
       "      <td>5.118000e+04</td>\n",
       "      <td>1.650000e+06</td>\n",
       "      <td>2.152020e+05</td>\n",
       "      <td>2.488300e+04</td>\n",
       "      <td>2.833400e+04</td>\n",
       "      <td>2.130800e+08</td>\n",
       "      <td>2.002000e+04</td>\n",
       "      <td>2.460890e+07</td>\n",
       "      <td>2.010000e+07</td>\n",
       "    </tr>\n",
       "  </tbody>\n",
       "</table>\n",
       "<p>8 rows × 168 columns</p>\n",
       "</div>"
      ],
      "text/plain": [
       "           CollarId     Longitude      Latitude    Azimuth        Dip  \\\n",
       "count  8.564058e+06  8.564058e+06  8.564058e+06  8564058.0  8564058.0   \n",
       "mean   2.115888e+06  1.209274e+02 -2.829402e+01      360.0      -90.0   \n",
       "std    1.185986e+06  2.082829e+00  3.265928e+00        0.0        0.0   \n",
       "min    1.201070e+05  1.140640e+02 -3.480668e+01      360.0      -90.0   \n",
       "25%    1.113870e+06  1.204968e+02 -3.078926e+01      360.0      -90.0   \n",
       "50%    2.148136e+06  1.211738e+02 -2.884724e+01      360.0      -90.0   \n",
       "75%    3.054047e+06  1.217748e+02 -2.638621e+01      360.0      -90.0   \n",
       "max    4.859975e+06  1.289862e+02 -1.421988e+01      360.0      -90.0   \n",
       "\n",
       "           MaxDepth       Anumber      SampleId     FromDepth       ToDepth  \\\n",
       "count  8.059622e+06  8.564058e+06  8.564058e+06  8.564058e+06  8.564058e+06   \n",
       "mean   3.950838e+02  8.223143e+04  4.812325e+07  2.260477e+02  2.369981e+02   \n",
       "std    3.247940e+02  1.481752e+04  2.800467e+07  2.473109e+02  1.532910e+03   \n",
       "min   -9.990000e+02  1.300000e+01  3.341240e+06 -9.999900e+04 -9.990000e+02   \n",
       "25%    1.842000e+02  7.018500e+04  2.522184e+07  6.920000e+01  7.060000e+01   \n",
       "50%    3.030000e+02  8.294300e+04  4.754421e+07  1.520000e+02  1.532400e+02   \n",
       "75%    4.890000e+02  9.409700e+04  7.040640e+07  2.910000e+02  2.920000e+02   \n",
       "max    3.011500e+03  1.249470e+05  1.214480e+08  3.011000e+03  9.999990e+05   \n",
       "\n",
       "       ...     WO_PPM       WO3_PPM         Y_PPM      Y2O3_PPM        Yb_PPM  \\\n",
       "count  ...  8564058.0  8.564058e+06  8.564058e+06  8.564058e+06  8.564058e+06   \n",
       "mean   ...    -9999.0 -9.989323e+03 -9.537654e+03 -9.985560e+03 -9.907377e+03   \n",
       "std    ...        0.0  3.317048e+02  5.928051e+03  4.784555e+02  9.537886e+02   \n",
       "min    ...    -9999.0 -9.999000e+03 -9.999000e+03 -9.999000e+03 -9.999000e+03   \n",
       "25%    ...    -9999.0 -9.999000e+03 -9.999000e+03 -9.999000e+03 -9.999000e+03   \n",
       "50%    ...    -9999.0 -9.999000e+03 -9.999000e+03 -9.999000e+03 -9.999000e+03   \n",
       "75%    ...    -9999.0 -9.999000e+03 -9.999000e+03 -9.999000e+03 -9.999000e+03   \n",
       "max    ...    -9999.0  5.118000e+04  1.650000e+06  2.152020e+05  2.488300e+04   \n",
       "\n",
       "          Yb2O3_PPM        Zn_PPM       ZnO_PPM        Zr_PPM      ZrO2_PPM  \n",
       "count  8.564058e+06  8.564058e+06  8.564058e+06  8.564058e+06  8.564058e+06  \n",
       "mean  -9.989493e+03 -5.395081e+03 -9.991772e+03 -9.418210e+03 -9.366376e+03  \n",
       "std    3.115243e+02  4.786078e+05  6.429548e+02  1.333960e+05  5.279158e+04  \n",
       "min   -9.999000e+03 -9.999000e+07 -9.900000e+05 -5.556000e+07 -9.999000e+03  \n",
       "25%   -9.999000e+03 -9.999000e+03 -9.999000e+03 -9.999000e+03 -9.999000e+03  \n",
       "50%   -9.999000e+03 -9.999000e+03 -9.999000e+03 -9.999000e+03 -9.999000e+03  \n",
       "75%   -9.999000e+03 -9.999000e+03 -9.999000e+03 -9.999000e+03 -9.999000e+03  \n",
       "max    2.833400e+04  2.130800e+08  2.002000e+04  2.460890e+07  2.010000e+07  \n",
       "\n",
       "[8 rows x 168 columns]"
      ]
     },
     "execution_count": 5,
     "metadata": {},
     "output_type": "execute_result"
    }
   ],
   "source": [
    "df.describe()"
   ]
  },
  {
   "cell_type": "code",
   "execution_count": 9,
   "id": "6b150da9",
   "metadata": {},
   "outputs": [],
   "source": [
    "df_sample = df.sample(n=int(0.1 * df.shape[0]))"
   ]
  },
  {
   "cell_type": "markdown",
   "id": "1169e4da",
   "metadata": {},
   "source": [
    "#### Sample Co dist"
   ]
  },
  {
   "cell_type": "code",
   "execution_count": 11,
   "id": "b60f0304",
   "metadata": {},
   "outputs": [
    {
     "data": {
      "text/plain": [
       "<AxesSubplot:ylabel='Frequency'>"
      ]
     },
     "execution_count": 11,
     "metadata": {},
     "output_type": "execute_result"
    },
    {
     "data": {
      "image/png": "[encoded data removed]",
      "text/plain": [
       "<Figure size 432x288 with 1 Axes>"
      ]
     },
     "metadata": {
      "needs_background": "light"
     },
     "output_type": "display_data"
    }
   ],
   "source": [
    "df_sample['Co_PPM'].plot(kind='hist')"
   ]
  },
  {
   "cell_type": "code",
   "execution_count": 13,
   "id": "a05ce5d6",
   "metadata": {},
   "outputs": [
    {
     "data": {
      "text/plain": [
       "count    8.564050e+05\n",
       "mean    -1.111494e+04\n",
       "std      3.841881e+05\n",
       "min     -5.556000e+07\n",
       "25%     -9.999000e+03\n",
       "50%     -9.999000e+03\n",
       "75%     -9.999000e+03\n",
       "max      3.340000e+07\n",
       "Name: Co_PPM, dtype: float64"
      ]
     },
     "execution_count": 13,
     "metadata": {},
     "output_type": "execute_result"
    }
   ],
   "source": [
    "df_sample['Co_PPM'].describe()"
   ]
  },
  {
   "cell_type": "markdown",
   "id": "1dab4386",
   "metadata": {},
   "source": [
    "#### Full Co dist"
   ]
  },
  {
   "cell_type": "code",
   "execution_count": 12,
   "id": "d5489e39",
   "metadata": {},
   "outputs": [
    {
     "data": {
      "text/plain": [
       "<AxesSubplot:ylabel='Frequency'>"
      ]
     },
     "execution_count": 12,
     "metadata": {},
     "output_type": "execute_result"
    },
    {
     "data": {
      "image/png": "[encoded data removed]",
      "text/plain": [
       "<Figure size 432x288 with 1 Axes>"
      ]
     },
     "metadata": {
      "needs_background": "light"
     },
     "output_type": "display_data"
    }
   ],
   "source": [
    "df['Co_PPM'].plot(kind='hist')"
   ]
  },
  {
   "cell_type": "code",
   "execution_count": 14,
   "id": "7980d1bf",
   "metadata": {},
   "outputs": [
    {
     "data": {
      "text/plain": [
       "count    8.564058e+06\n",
       "mean    -1.102862e+04\n",
       "std      3.777366e+05\n",
       "min     -5.556000e+07\n",
       "25%     -9.999000e+03\n",
       "50%     -9.999000e+03\n",
       "75%     -9.999000e+03\n",
       "max      4.540000e+07\n",
       "Name: Co_PPM, dtype: float64"
      ]
     },
     "execution_count": 14,
     "metadata": {},
     "output_type": "execute_result"
    }
   ],
   "source": [
    "df['Co_PPM'].describe()"
   ]
  },
  {
   "cell_type": "markdown",
   "id": "a86c4a0b",
   "metadata": {},
   "source": [
    "#### Write Sample df to csv and pickle"
   ]
  },
  {
   "cell_type": "code",
   "execution_count": 15,
   "id": "a61859be",
   "metadata": {},
   "outputs": [],
   "source": [
    "df_sample.to_csv('../../data/wamex/dd_20210723_sample_10pct.csv')"
   ]
  },
  {
   "cell_type": "code",
   "execution_count": null,
   "id": "947f6665",
   "metadata": {},
   "outputs": [],
   "source": []
  }
 ],
 "metadata": {
  "kernelspec": {
   "display_name": "Python 3 (ipykernel)",
   "language": "python",
   "name": "python3"
  },
  "language_info": {
   "codemirror_mode": {
    "name": "ipython",
    "version": 3
   },
   "file_extension": ".py",
   "mimetype": "text/x-python",
   "name": "python",
   "nbconvert_exporter": "python",
   "pygments_lexer": "ipython3",
   "version": "3.9.7"
  }
 },
 "nbformat": 4,
 "nbformat_minor": 5
}
