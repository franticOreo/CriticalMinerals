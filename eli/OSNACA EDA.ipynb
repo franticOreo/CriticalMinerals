{
 "cells": [
  {
   "cell_type": "code",
   "execution_count": 1,
   "metadata": {},
   "outputs": [],
   "source": [
    "import pandas as pd"
   ]
  },
  {
   "cell_type": "code",
   "execution_count": 2,
   "metadata": {},
   "outputs": [
    {
     "data": {
      "text/html": [
       "<div>\n",
       "<style scoped>\n",
       "    .dataframe tbody tr th:only-of-type {\n",
       "        vertical-align: middle;\n",
       "    }\n",
       "\n",
       "    .dataframe tbody tr th {\n",
       "        vertical-align: top;\n",
       "    }\n",
       "\n",
       "    .dataframe thead th {\n",
       "        text-align: right;\n",
       "    }\n",
       "</style>\n",
       "<table border=\"1\" class=\"dataframe\">\n",
       "  <thead>\n",
       "    <tr style=\"text-align: right;\">\n",
       "      <th></th>\n",
       "      <th>Sample</th>\n",
       "      <th>Code</th>\n",
       "      <th>Au (FA)</th>\n",
       "      <th>Pt</th>\n",
       "      <th>Pd</th>\n",
       "      <th>Au (AR)</th>\n",
       "      <th>Bi</th>\n",
       "      <th>Te</th>\n",
       "      <th>Hg</th>\n",
       "      <th>Ag</th>\n",
       "      <th>...</th>\n",
       "      <th>Y</th>\n",
       "      <th>Zn</th>\n",
       "      <th>B</th>\n",
       "      <th>Hf</th>\n",
       "      <th>Si</th>\n",
       "      <th>Zr</th>\n",
       "      <th>Be</th>\n",
       "      <th>Ga</th>\n",
       "      <th>Ge</th>\n",
       "      <th>Wt Tot</th>\n",
       "    </tr>\n",
       "  </thead>\n",
       "  <tbody>\n",
       "    <tr>\n",
       "      <th>0</th>\n",
       "      <td>700001</td>\n",
       "      <td>NaN</td>\n",
       "      <td>0.438</td>\n",
       "      <td>0.002</td>\n",
       "      <td>0.002</td>\n",
       "      <td>0.362</td>\n",
       "      <td>10.60</td>\n",
       "      <td>0.02</td>\n",
       "      <td>0.39</td>\n",
       "      <td>91.5</td>\n",
       "      <td>...</td>\n",
       "      <td>1.2</td>\n",
       "      <td>153000</td>\n",
       "      <td>-20</td>\n",
       "      <td>0.4</td>\n",
       "      <td>34200</td>\n",
       "      <td>60</td>\n",
       "      <td>-1.0</td>\n",
       "      <td>11.0</td>\n",
       "      <td>1</td>\n",
       "      <td>159</td>\n",
       "    </tr>\n",
       "    <tr>\n",
       "      <th>1</th>\n",
       "      <td>700002</td>\n",
       "      <td>NaN</td>\n",
       "      <td>0.093</td>\n",
       "      <td>0.001</td>\n",
       "      <td>0.002</td>\n",
       "      <td>0.095</td>\n",
       "      <td>125.00</td>\n",
       "      <td>0.22</td>\n",
       "      <td>0.12</td>\n",
       "      <td>44.0</td>\n",
       "      <td>...</td>\n",
       "      <td>18.5</td>\n",
       "      <td>3780</td>\n",
       "      <td>-20</td>\n",
       "      <td>0.2</td>\n",
       "      <td>114000</td>\n",
       "      <td>20</td>\n",
       "      <td>-1.0</td>\n",
       "      <td>2.0</td>\n",
       "      <td>-1</td>\n",
       "      <td>143</td>\n",
       "    </tr>\n",
       "    <tr>\n",
       "      <th>2</th>\n",
       "      <td>700003</td>\n",
       "      <td>NaN</td>\n",
       "      <td>1.41</td>\n",
       "      <td>0.002</td>\n",
       "      <td>0.002</td>\n",
       "      <td>1.39</td>\n",
       "      <td>120.00</td>\n",
       "      <td>0.02</td>\n",
       "      <td>62.9</td>\n",
       "      <td>215.0</td>\n",
       "      <td>...</td>\n",
       "      <td>0.3</td>\n",
       "      <td>219000</td>\n",
       "      <td>-20</td>\n",
       "      <td>-0.2</td>\n",
       "      <td>71500</td>\n",
       "      <td>-10</td>\n",
       "      <td>-1.0</td>\n",
       "      <td>-1.0</td>\n",
       "      <td>2</td>\n",
       "      <td>204</td>\n",
       "    </tr>\n",
       "    <tr>\n",
       "      <th>3</th>\n",
       "      <td>700004</td>\n",
       "      <td>1</td>\n",
       "      <td>0.096</td>\n",
       "      <td>0.003</td>\n",
       "      <td>0.005</td>\n",
       "      <td>0.086</td>\n",
       "      <td>0.72</td>\n",
       "      <td>0.80</td>\n",
       "      <td>0.03</td>\n",
       "      <td>2.5</td>\n",
       "      <td>...</td>\n",
       "      <td>6.3</td>\n",
       "      <td>755</td>\n",
       "      <td>-20</td>\n",
       "      <td>2.0</td>\n",
       "      <td>244000</td>\n",
       "      <td>70</td>\n",
       "      <td>-1.0</td>\n",
       "      <td>-1.0</td>\n",
       "      <td>-1</td>\n",
       "      <td>185</td>\n",
       "    </tr>\n",
       "    <tr>\n",
       "      <th>4</th>\n",
       "      <td>700005</td>\n",
       "      <td>NaN</td>\n",
       "      <td>2.9</td>\n",
       "      <td>0.003</td>\n",
       "      <td>0.005</td>\n",
       "      <td>3.94</td>\n",
       "      <td>0.34</td>\n",
       "      <td>0.06</td>\n",
       "      <td>4.01</td>\n",
       "      <td>162.0</td>\n",
       "      <td>...</td>\n",
       "      <td>4.5</td>\n",
       "      <td>173000</td>\n",
       "      <td>-20</td>\n",
       "      <td>-0.2</td>\n",
       "      <td>142000</td>\n",
       "      <td>-10</td>\n",
       "      <td>-1.0</td>\n",
       "      <td>-1.0</td>\n",
       "      <td>2</td>\n",
       "      <td>280</td>\n",
       "    </tr>\n",
       "  </tbody>\n",
       "</table>\n",
       "<p>5 rows × 69 columns</p>\n",
       "</div>"
      ],
      "text/plain": [
       "   Sample Code Au (FA)     Pt     Pd Au (AR)      Bi    Te    Hg     Ag  ...  \\\n",
       "0  700001  NaN   0.438  0.002  0.002   0.362   10.60  0.02  0.39   91.5  ...   \n",
       "1  700002  NaN   0.093  0.001  0.002   0.095  125.00  0.22  0.12   44.0  ...   \n",
       "2  700003  NaN    1.41  0.002  0.002    1.39  120.00  0.02  62.9  215.0  ...   \n",
       "3  700004    1   0.096  0.003  0.005   0.086    0.72  0.80  0.03    2.5  ...   \n",
       "4  700005  NaN     2.9  0.003  0.005    3.94    0.34  0.06  4.01  162.0  ...   \n",
       "\n",
       "      Y      Zn   B   Hf      Si  Zr   Be    Ga  Ge  Wt Tot  \n",
       "0   1.2  153000 -20  0.4   34200  60 -1.0  11.0   1     159  \n",
       "1  18.5    3780 -20  0.2  114000  20 -1.0   2.0  -1     143  \n",
       "2   0.3  219000 -20 -0.2   71500 -10 -1.0  -1.0   2     204  \n",
       "3   6.3     755 -20  2.0  244000  70 -1.0  -1.0  -1     185  \n",
       "4   4.5  173000 -20 -0.2  142000 -10 -1.0  -1.0   2     280  \n",
       "\n",
       "[5 rows x 69 columns]"
      ]
     },
     "execution_count": 2,
     "metadata": {},
     "output_type": "execute_result"
    }
   ],
   "source": [
    "df = pd.read_excel('../data/osnaca-data9c1fd4a55259640992edff0000a865d5.xlsx')\n",
    "df.head()"
   ]
  },
  {
   "cell_type": "code",
   "execution_count": 3,
   "metadata": {},
   "outputs": [
    {
     "data": {
      "text/plain": [
       "(1139, 69)"
      ]
     },
     "execution_count": 3,
     "metadata": {},
     "output_type": "execute_result"
    }
   ],
   "source": [
    "df.shape"
   ]
  },
  {
   "cell_type": "code",
   "execution_count": null,
   "metadata": {},
   "outputs": [],
   "source": []
  },
  {
   "cell_type": "code",
   "execution_count": 4,
   "metadata": {},
   "outputs": [
    {
     "data": {
      "text/plain": [
       "Sample       int64\n",
       "Code        object\n",
       "Au (FA)     object\n",
       "Pt          object\n",
       "Pd          object\n",
       "            ...   \n",
       "Zr           int64\n",
       "Be         float64\n",
       "Ga         float64\n",
       "Ge           int64\n",
       "Wt Tot      object\n",
       "Length: 69, dtype: object"
      ]
     },
     "execution_count": 4,
     "metadata": {},
     "output_type": "execute_result"
    }
   ],
   "source": [
    "df.dtypes"
   ]
  },
  {
   "cell_type": "code",
   "execution_count": 5,
   "metadata": {},
   "outputs": [
    {
     "data": {
      "text/plain": [
       "0       1\n",
       "1      -1\n",
       "2       2\n",
       "3      -1\n",
       "4       2\n",
       "       ..\n",
       "1134    1\n",
       "1135    1\n",
       "1136    1\n",
       "1137    3\n",
       "1138    1\n",
       "Name: Ge, Length: 1139, dtype: int64"
      ]
     },
     "execution_count": 5,
     "metadata": {},
     "output_type": "execute_result"
    }
   ],
   "source": [
    "df['Ge']"
   ]
  },
  {
   "cell_type": "code",
   "execution_count": null,
   "metadata": {},
   "outputs": [],
   "source": []
  }
 ],
 "metadata": {
  "kernelspec": {
   "display_name": "Python 3 (ipykernel)",
   "language": "python",
   "name": "python3"
  },
  "language_info": {
   "codemirror_mode": {
    "name": "ipython",
    "version": 3
   },
   "file_extension": ".py",
   "mimetype": "text/x-python",
   "name": "python",
   "nbconvert_exporter": "python",
   "pygments_lexer": "ipython3",
   "version": "3.9.6"
  }
 },
 "nbformat": 4,
 "nbformat_minor": 4
}
