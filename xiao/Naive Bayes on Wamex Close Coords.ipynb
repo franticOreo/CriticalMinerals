{
 "cells": [
  {
   "cell_type": "markdown",
   "source": [
    "# Naive Bayes base on Wamex Close Coords"
   ],
   "metadata": {}
  },
  {
   "cell_type": "code",
   "execution_count": 34,
   "source": [
    "import pickle\n",
    "import pandas as pd"
   ],
   "outputs": [],
   "metadata": {}
  },
  {
   "cell_type": "code",
   "execution_count": 35,
   "source": [
    "import os\n",
    "os.getcwd()"
   ],
   "outputs": [
    {
     "output_type": "execute_result",
     "data": {
      "text/plain": [
       "'/Users/xiaohan/Documents/CriticalMinerals/xiao'"
      ]
     },
     "metadata": {},
     "execution_count": 35
    }
   ],
   "metadata": {}
  },
  {
   "cell_type": "markdown",
   "source": [
    "### Load Data"
   ],
   "metadata": {}
  },
  {
   "cell_type": "code",
   "execution_count": 36,
   "source": [
    "index_less_than_10km = pd.read_pickle('~/Documents/CriticalMinerals/eli/wamex_close_coords_to_shp_minedex_terminatedafter12hrs.pickle')\n",
    "\n",
    "with open('../eli/wamex_close_coords_to_shp_minedex_terminatedafter12hrs.pickle', 'rb') as file:\n",
    "    close_coords_indicies = pickle.load(file)"
   ],
   "outputs": [],
   "metadata": {}
  },
  {
   "cell_type": "code",
   "execution_count": 37,
   "source": [
    "len(index_less_than_10km)"
   ],
   "outputs": [
    {
     "output_type": "execute_result",
     "data": {
      "text/plain": [
       "307574"
      ]
     },
     "metadata": {},
     "execution_count": 37
    }
   ],
   "metadata": {}
  },
  {
   "cell_type": "code",
   "execution_count": 38,
   "source": [
    "close_coords_indicies = list(set(close_coords_indicies))\n",
    "print(f\"\\n Sample: {close_coords_indicies[:10]} \\n\\n Length: {len(close_coords_indicies)}\")"
   ],
   "outputs": [
    {
     "output_type": "stream",
     "name": "stdout",
     "text": [
      "\n",
      " Sample: [131072, 131073, 131084, 131085, 131086, 131087, 131088, 131089, 131090, 131091] \n",
      "\n",
      " Length: 75628\n"
     ]
    }
   ],
   "metadata": {}
  },
  {
   "cell_type": "code",
   "execution_count": 39,
   "source": [
    "wamex = pd.read_csv('~/Documents/CMProject/Data/WAMEX/WAMEX_1_Rockchip_Original.csv')\n",
    "wamex.head(5)\n",
    "wamex.shape"
   ],
   "outputs": [
    {
     "output_type": "stream",
     "name": "stderr",
     "text": [
      "/Users/xiaohan/opt/anaconda3/lib/python3.8/site-packages/IPython/core/interactiveshell.py:3165: DtypeWarning: Columns (18) have mixed types.Specify dtype option on import or set low_memory=False.\n",
      "  has_raised = await self.run_ast_nodes(code_ast.body, cell_name,\n"
     ]
    },
    {
     "output_type": "execute_result",
     "data": {
      "text/plain": [
       "(402770, 143)"
      ]
     },
     "metadata": {},
     "execution_count": 39
    }
   ],
   "metadata": {}
  },
  {
   "cell_type": "markdown",
   "source": [
    "### Merge Index "
   ],
   "metadata": {}
  },
  {
   "cell_type": "code",
   "execution_count": 40,
   "source": [
    "wamex = wamex.iloc[close_coords_indicies,:]\n",
    "wamex.shape"
   ],
   "outputs": [
    {
     "output_type": "execute_result",
     "data": {
      "text/plain": [
       "(75628, 143)"
      ]
     },
     "metadata": {},
     "execution_count": 40
    }
   ],
   "metadata": {}
  },
  {
   "cell_type": "code",
   "execution_count": 41,
   "source": [
    "wamex.columns"
   ],
   "outputs": [
    {
     "output_type": "execute_result",
     "data": {
      "text/plain": [
       "Index(['OBJECTID', 'DATASET', 'SAMPLEID', 'GSWANO', 'EXTRACT_DA', 'BATCH_NO',\n",
       "       'QMAPID', 'DLAT', 'DLONG', 'EASTING',\n",
       "       ...\n",
       "       'W_ppm', 'WO3_ppm', 'Y_ppm', 'Y2O3_ppm', 'Yb_ppm', 'Yb2O3_ppm',\n",
       "       'Zn_ppm', 'ZnO_ppm', 'Zr_ppm', 'ZrO2_ppm'],\n",
       "      dtype='object', length=143)"
      ]
     },
     "metadata": {},
     "execution_count": 41
    }
   ],
   "metadata": {}
  },
  {
   "cell_type": "markdown",
   "source": [
    "### Nickel, Copper & Cobalt but in Bayes"
   ],
   "metadata": {}
  },
  {
   "cell_type": "code",
   "execution_count": 42,
   "source": [
    "# most common pair in MINEDEX data.\n",
    "abdundant_minerals = ['Copper', 'Nickel']\n",
    "critical_mineral = ['Cobalt']\n",
    "\n",
    "full_to_atomic = {\n",
    "    \"Copper\": \"Cu\",\n",
    "    \"Cobalt\": \"Co\",\n",
    "    \"Nickel\": \"Ni\"\n",
    "}\n",
    "\n",
    "critical_mineral = full_to_atomic(critical_mineral)"
   ],
   "outputs": [
    {
     "output_type": "error",
     "ename": "TypeError",
     "evalue": "'dict' object is not callable",
     "traceback": [
      "\u001b[0;31m---------------------------------------------------------------------------\u001b[0m",
      "\u001b[0;31mTypeError\u001b[0m                                 Traceback (most recent call last)",
      "\u001b[0;32m<ipython-input-42-91779c5cd65f>\u001b[0m in \u001b[0;36m<module>\u001b[0;34m\u001b[0m\n\u001b[1;32m      9\u001b[0m }\n\u001b[1;32m     10\u001b[0m \u001b[0;34m\u001b[0m\u001b[0m\n\u001b[0;32m---> 11\u001b[0;31m \u001b[0mcritical_mineral\u001b[0m \u001b[0;34m=\u001b[0m \u001b[0mfull_to_atomic\u001b[0m\u001b[0;34m(\u001b[0m\u001b[0mcritical_mineral\u001b[0m\u001b[0;34m)\u001b[0m\u001b[0;34m\u001b[0m\u001b[0;34m\u001b[0m\u001b[0m\n\u001b[0m",
      "\u001b[0;31mTypeError\u001b[0m: 'dict' object is not callable"
     ]
    }
   ],
   "metadata": {}
  },
  {
   "cell_type": "code",
   "execution_count": 43,
   "source": [
    "new_cols = []\n",
    "for col in wamex.columns: \n",
    "    if \"ppm\" in col:\n",
    "        new_cols.append(col.split('_')[0])\n",
    "    else:\n",
    "        new_cols.append(col)\n",
    "\n",
    "wamex.columns = new_cols"
   ],
   "outputs": [],
   "metadata": {}
  },
  {
   "cell_type": "code",
   "execution_count": 44,
   "source": [
    "\n",
    "minerals = abdundant_minerals + critical_mineral\n",
    "\n",
    "minerals_atomic = [full_to_atomic[mineral] for mineral in minerals]\n",
    "minerals_atomic"
   ],
   "outputs": [
    {
     "output_type": "execute_result",
     "data": {
      "text/plain": [
       "['Cu', 'Ni', 'Co']"
      ]
     },
     "metadata": {},
     "execution_count": 44
    }
   ],
   "metadata": {}
  },
  {
   "cell_type": "code",
   "execution_count": 45,
   "source": [
    "\n",
    "input_cols = ['DLAT', 'DLONG'] + minerals_atomic"
   ],
   "outputs": [],
   "metadata": {}
  },
  {
   "cell_type": "code",
   "execution_count": 46,
   "source": [
    "df = wamex[input_cols]\n",
    "df.head(5)"
   ],
   "outputs": [
    {
     "output_type": "execute_result",
     "data": {
      "text/html": [
       "<div>\n",
       "<style scoped>\n",
       "    .dataframe tbody tr th:only-of-type {\n",
       "        vertical-align: middle;\n",
       "    }\n",
       "\n",
       "    .dataframe tbody tr th {\n",
       "        vertical-align: top;\n",
       "    }\n",
       "\n",
       "    .dataframe thead th {\n",
       "        text-align: right;\n",
       "    }\n",
       "</style>\n",
       "<table border=\"1\" class=\"dataframe\">\n",
       "  <thead>\n",
       "    <tr style=\"text-align: right;\">\n",
       "      <th></th>\n",
       "      <th>DLAT</th>\n",
       "      <th>DLONG</th>\n",
       "      <th>Cu</th>\n",
       "      <th>Ni</th>\n",
       "      <th>Co</th>\n",
       "    </tr>\n",
       "  </thead>\n",
       "  <tbody>\n",
       "    <tr>\n",
       "      <th>131072</th>\n",
       "      <td>-30.704511</td>\n",
       "      <td>121.551388</td>\n",
       "      <td>200.0</td>\n",
       "      <td>1347.0</td>\n",
       "      <td>65.0</td>\n",
       "    </tr>\n",
       "    <tr>\n",
       "      <th>131073</th>\n",
       "      <td>-30.707096</td>\n",
       "      <td>121.546128</td>\n",
       "      <td>160.0</td>\n",
       "      <td>642.0</td>\n",
       "      <td>47.0</td>\n",
       "    </tr>\n",
       "    <tr>\n",
       "      <th>131084</th>\n",
       "      <td>-31.768529</td>\n",
       "      <td>119.601723</td>\n",
       "      <td>172.0</td>\n",
       "      <td>19.0</td>\n",
       "      <td>-9999.0</td>\n",
       "    </tr>\n",
       "    <tr>\n",
       "      <th>131085</th>\n",
       "      <td>-31.768086</td>\n",
       "      <td>119.601774</td>\n",
       "      <td>117.0</td>\n",
       "      <td>26.0</td>\n",
       "      <td>-9999.0</td>\n",
       "    </tr>\n",
       "    <tr>\n",
       "      <th>131086</th>\n",
       "      <td>-31.764900</td>\n",
       "      <td>119.600154</td>\n",
       "      <td>52.0</td>\n",
       "      <td>10.0</td>\n",
       "      <td>-9999.0</td>\n",
       "    </tr>\n",
       "  </tbody>\n",
       "</table>\n",
       "</div>"
      ],
      "text/plain": [
       "             DLAT       DLONG     Cu      Ni      Co\n",
       "131072 -30.704511  121.551388  200.0  1347.0    65.0\n",
       "131073 -30.707096  121.546128  160.0   642.0    47.0\n",
       "131084 -31.768529  119.601723  172.0    19.0 -9999.0\n",
       "131085 -31.768086  119.601774  117.0    26.0 -9999.0\n",
       "131086 -31.764900  119.600154   52.0    10.0 -9999.0"
      ]
     },
     "metadata": {},
     "execution_count": 46
    }
   ],
   "metadata": {}
  },
  {
   "cell_type": "markdown",
   "source": [
    "## Data Cleaning"
   ],
   "metadata": {}
  },
  {
   "cell_type": "code",
   "execution_count": 47,
   "source": [
    "def replace_neg9999(val):\n",
    "    if val == -9999: \n",
    "        return 0\n",
    "    else:\n",
    "        return val\n",
    "    \n",
    "    \n",
    "def abs_halve_neg_val(val):\n",
    "#     print(val)\n",
    "    if val < 0: \n",
    "        return abs(val) / 2\n",
    "    else: \n",
    "        return val\n",
    "\n",
    "df = df.applymap(replace_neg9999)\n",
    "df = df.applymap(abs_halve_neg_val)\n",
    "\n",
    "indexs_6666 = df[df.values == -6666].index\n",
    "df = df.drop(index=indexs_6666)\n",
    "\n",
    "indexs_0 = df[df.values == 0].index\n",
    "df = df.drop(index=indexs_0)"
   ],
   "outputs": [],
   "metadata": {}
  },
  {
   "cell_type": "code",
   "execution_count": 48,
   "source": [
    "df = df.reset_index(drop=True)\n",
    "# df = df.drop(columns=['index'])\n",
    "df.head()"
   ],
   "outputs": [
    {
     "output_type": "execute_result",
     "data": {
      "text/html": [
       "<div>\n",
       "<style scoped>\n",
       "    .dataframe tbody tr th:only-of-type {\n",
       "        vertical-align: middle;\n",
       "    }\n",
       "\n",
       "    .dataframe tbody tr th {\n",
       "        vertical-align: top;\n",
       "    }\n",
       "\n",
       "    .dataframe thead th {\n",
       "        text-align: right;\n",
       "    }\n",
       "</style>\n",
       "<table border=\"1\" class=\"dataframe\">\n",
       "  <thead>\n",
       "    <tr style=\"text-align: right;\">\n",
       "      <th></th>\n",
       "      <th>DLAT</th>\n",
       "      <th>DLONG</th>\n",
       "      <th>Cu</th>\n",
       "      <th>Ni</th>\n",
       "      <th>Co</th>\n",
       "    </tr>\n",
       "  </thead>\n",
       "  <tbody>\n",
       "    <tr>\n",
       "      <th>0</th>\n",
       "      <td>15.352256</td>\n",
       "      <td>121.551388</td>\n",
       "      <td>200.0</td>\n",
       "      <td>1347.0000</td>\n",
       "      <td>65.0</td>\n",
       "    </tr>\n",
       "    <tr>\n",
       "      <th>1</th>\n",
       "      <td>15.353548</td>\n",
       "      <td>121.546128</td>\n",
       "      <td>160.0</td>\n",
       "      <td>642.0000</td>\n",
       "      <td>47.0</td>\n",
       "    </tr>\n",
       "    <tr>\n",
       "      <th>2</th>\n",
       "      <td>13.836055</td>\n",
       "      <td>120.647184</td>\n",
       "      <td>30.0</td>\n",
       "      <td>2300.0000</td>\n",
       "      <td>105.0</td>\n",
       "    </tr>\n",
       "    <tr>\n",
       "      <th>3</th>\n",
       "      <td>14.521251</td>\n",
       "      <td>119.909593</td>\n",
       "      <td>112.0</td>\n",
       "      <td>141.0000</td>\n",
       "      <td>63.0</td>\n",
       "    </tr>\n",
       "    <tr>\n",
       "      <th>4</th>\n",
       "      <td>13.832268</td>\n",
       "      <td>120.645988</td>\n",
       "      <td>65.0</td>\n",
       "      <td>1800.0001</td>\n",
       "      <td>75.0</td>\n",
       "    </tr>\n",
       "  </tbody>\n",
       "</table>\n",
       "</div>"
      ],
      "text/plain": [
       "        DLAT       DLONG     Cu         Ni     Co\n",
       "0  15.352256  121.551388  200.0  1347.0000   65.0\n",
       "1  15.353548  121.546128  160.0   642.0000   47.0\n",
       "2  13.836055  120.647184   30.0  2300.0000  105.0\n",
       "3  14.521251  119.909593  112.0   141.0000   63.0\n",
       "4  13.832268  120.645988   65.0  1800.0001   75.0"
      ]
     },
     "metadata": {},
     "execution_count": 48
    }
   ],
   "metadata": {}
  },
  {
   "cell_type": "markdown",
   "source": [
    "## Modeling with Lat, Long, Cu, Ni to predict Co"
   ],
   "metadata": {}
  },
  {
   "cell_type": "code",
   "execution_count": 53,
   "source": [
    "y = df['Co']\n",
    "X = df.drop(columns=['Co'])"
   ],
   "outputs": [],
   "metadata": {}
  },
  {
   "cell_type": "code",
   "execution_count": 56,
   "source": [
    "#Splitting the dataset into training and testing variables\n",
    "from sklearn.model_selection import train_test_split\n",
    " \n",
    "X_train, X_test, y_train, y_test = train_test_split(\n",
    "    X, y, test_size=0.2, random_state=42)\n",
    " \n",
    "#keeping 80% as training data and 20% as testing data."
   ],
   "outputs": [],
   "metadata": {}
  },
  {
   "cell_type": "code",
   "execution_count": 62,
   "source": [
    "X_train.sample(5)"
   ],
   "outputs": [
    {
     "output_type": "execute_result",
     "data": {
      "text/html": [
       "<div>\n",
       "<style scoped>\n",
       "    .dataframe tbody tr th:only-of-type {\n",
       "        vertical-align: middle;\n",
       "    }\n",
       "\n",
       "    .dataframe tbody tr th {\n",
       "        vertical-align: top;\n",
       "    }\n",
       "\n",
       "    .dataframe thead th {\n",
       "        text-align: right;\n",
       "    }\n",
       "</style>\n",
       "<table border=\"1\" class=\"dataframe\">\n",
       "  <thead>\n",
       "    <tr style=\"text-align: right;\">\n",
       "      <th></th>\n",
       "      <th>DLAT</th>\n",
       "      <th>DLONG</th>\n",
       "      <th>Cu</th>\n",
       "      <th>Ni</th>\n",
       "    </tr>\n",
       "  </thead>\n",
       "  <tbody>\n",
       "    <tr>\n",
       "      <th>5408</th>\n",
       "      <td>13.755588</td>\n",
       "      <td>120.964615</td>\n",
       "      <td>114.0</td>\n",
       "      <td>74.0</td>\n",
       "    </tr>\n",
       "    <tr>\n",
       "      <th>19925</th>\n",
       "      <td>14.606978</td>\n",
       "      <td>120.406872</td>\n",
       "      <td>5.0</td>\n",
       "      <td>5.0</td>\n",
       "    </tr>\n",
       "    <tr>\n",
       "      <th>17279</th>\n",
       "      <td>10.863137</td>\n",
       "      <td>120.492969</td>\n",
       "      <td>29.0</td>\n",
       "      <td>50.0</td>\n",
       "    </tr>\n",
       "    <tr>\n",
       "      <th>1116</th>\n",
       "      <td>14.870208</td>\n",
       "      <td>120.565337</td>\n",
       "      <td>15.0</td>\n",
       "      <td>15.0</td>\n",
       "    </tr>\n",
       "    <tr>\n",
       "      <th>11519</th>\n",
       "      <td>16.968010</td>\n",
       "      <td>119.108273</td>\n",
       "      <td>36.3</td>\n",
       "      <td>30.7</td>\n",
       "    </tr>\n",
       "  </tbody>\n",
       "</table>\n",
       "</div>"
      ],
      "text/plain": [
       "            DLAT       DLONG     Cu    Ni\n",
       "5408   13.755588  120.964615  114.0  74.0\n",
       "19925  14.606978  120.406872    5.0   5.0\n",
       "17279  10.863137  120.492969   29.0  50.0\n",
       "1116   14.870208  120.565337   15.0  15.0\n",
       "11519  16.968010  119.108273   36.3  30.7"
      ]
     },
     "metadata": {},
     "execution_count": 62
    }
   ],
   "metadata": {}
  },
  {
   "cell_type": "code",
   "execution_count": 65,
   "source": [
    "#from sklearn.naive_bayes import GaussianNB\n",
    "from sklearn.naive_bayes import MultinomialNB\n",
    " \n",
    "#Calling the Class\n",
    "naive_bayes = MultinomialNB()\n",
    " \n",
    "#Fitting the data to the classifier\n",
    "naive_bayes.fit(X_train.astype(int) , y_train.astype(int))\n",
    " \n",
    "#Predict on test data\n",
    "train_preds = naive_bayes.predict(X_train)\n",
    "test_preds = naive_bayes.predict(X_test)\n",
    "\n",
    "from sklearn.metrics import mean_squared_error\n",
    "\n",
    "print(f\"Train MSE: {mean_squared_error(train_preds, y_train)}\")\n",
    "print(f\"Test MSE: {mean_squared_error(test_preds, y_test)}\")"
   ],
   "outputs": [
    {
     "output_type": "stream",
     "name": "stdout",
     "text": [
      "Train MSE: 26224976976785.184\n",
      "Test MSE: 19403465088618.41\n"
     ]
    }
   ],
   "metadata": {}
  },
  {
   "cell_type": "code",
   "execution_count": 67,
   "source": [
    "import matplotlib.pyplot as plt\n",
    "plt.plot(range(0, len(test_preds)), y_test)"
   ],
   "outputs": [
    {
     "output_type": "execute_result",
     "data": {
      "text/plain": [
       "[<matplotlib.lines.Line2D at 0x7f7f00e1df10>]"
      ]
     },
     "metadata": {},
     "execution_count": 67
    },
    {
     "output_type": "display_data",
     "data": {
      "image/png": "[encoded data removed]",
      "text/plain": [
       "<Figure size 432x288 with 1 Axes>"
      ]
     },
     "metadata": {
      "needs_background": "light"
     }
    }
   ],
   "metadata": {}
  },
  {
   "cell_type": "markdown",
   "source": [
    "## Modeling when Lat and Long are removed"
   ],
   "metadata": {}
  }
 ],
 "metadata": {
  "kernelspec": {
   "name": "python3",
   "display_name": "Python 3.8.8 64-bit ('base': conda)"
  },
  "language_info": {
   "codemirror_mode": {
    "name": "ipython",
    "version": 3
   },
   "file_extension": ".py",
   "mimetype": "text/x-python",
   "name": "python",
   "nbconvert_exporter": "python",
   "pygments_lexer": "ipython3",
   "version": "3.8.8"
  },
  "interpreter": {
   "hash": "4b6ce3d9d4632f7faa340b61d26070a6f1f1f22535258ce7e9839d3e212935ed"
  }
 },
 "nbformat": 4,
 "nbformat_minor": 5
}