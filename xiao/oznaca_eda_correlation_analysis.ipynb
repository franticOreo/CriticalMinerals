{
 "cells": [
  {
   "cell_type": "markdown",
   "id": "7a3aac6c",
   "metadata": {},
   "source": [
    "# Data exporation for Osnaca Data Set"
   ]
  },
  {
   "cell_type": "markdown",
   "id": "4b131c0c",
   "metadata": {},
   "source": [
    "## Data Pre-handling"
   ]
  },
  {
   "cell_type": "code",
   "execution_count": 2,
   "id": "4c0b5abc",
   "metadata": {},
   "outputs": [
    {
     "data": {
      "text/plain": [
       "'/Users/xiaohan/Documents/CMProject'"
      ]
     },
     "execution_count": 2,
     "metadata": {},
     "output_type": "execute_result"
    }
   ],
   "source": [
    "import pandas as pd\n",
    "import numpy as np\n",
    "import matplotlib\n",
    "import matplotlib.pyplot as plt\n",
    "import seaborn as sns\n",
    "import os\n",
    "%matplotlib inline\n",
    "os.getcwd()"
   ]
  },
  {
   "cell_type": "markdown",
   "id": "ba58daca",
   "metadata": {},
   "source": [
    "### Load Data"
   ]
  },
  {
   "cell_type": "code",
   "execution_count": 9,
   "id": "7d99c3bc",
   "metadata": {},
   "outputs": [],
   "source": [
    "osnaca = pd.read_excel('Data/OSNACA/osnaca-data.xlsx',sheet_name=\"Data\")\n",
    "osnaca_conclurry = pd.read_excel('Data/OSNACA/osnaca-data.xlsx',sheet_name=\"Cloncurry Supplement\")\n",
    "osnaca_pges = pd.read_excel('Data/OSNACA/osnaca-data.xlsx',sheet_name=\"PGEs\")\n",
    "osnaca_meta = pd.read_excel('Data/OSNACA/osnaca-metadata.xlsx')"
   ]
  },
  {
   "cell_type": "markdown",
   "id": "bda29908",
   "metadata": {},
   "source": [
    "### Merge Tables"
   ]
  },
  {
   "cell_type": "code",
   "execution_count": 10,
   "id": "5db6eb36",
   "metadata": {},
   "outputs": [
    {
     "data": {
      "text/plain": [
       "{'Au (AR)', 'Au (FA)', 'Wt Tot'}"
      ]
     },
     "execution_count": 10,
     "metadata": {},
     "output_type": "execute_result"
    }
   ],
   "source": [
    "set(osnaca.columns).difference(set(osnaca_conclurry.columns))"
   ]
  },
  {
   "cell_type": "code",
   "execution_count": 11,
   "id": "f9563f4c",
   "metadata": {},
   "outputs": [
    {
     "data": {
      "text/plain": [
       "{'Au(AR)', 'Au1', 'Code Tester', 'Wt Total'}"
      ]
     },
     "execution_count": 11,
     "metadata": {},
     "output_type": "execute_result"
    }
   ],
   "source": [
    "set(osnaca_conclurry.columns).difference(set(osnaca.columns))"
   ]
  },
  {
   "cell_type": "code",
   "execution_count": 17,
   "id": "c9c00506",
   "metadata": {},
   "outputs": [
    {
     "data": {
      "text/plain": [
       "Index(['Sample', 'Code', 'Au1', 'Pt', 'Pd', 'Au(AR)', 'Bi', 'Te', 'Hg', 'Ag',\n",
       "       'Al', 'As', 'Ca', 'Cd', 'Co', 'Cr', 'Cs', 'Cu', 'Fe', 'In', 'K', 'La',\n",
       "       'Ce', 'Pr', 'Nd', 'Sm', 'Eu', 'Gd', 'Tb', 'Dy', 'Ho', 'Er', 'Tm', 'Yb',\n",
       "       'Lu', 'Li', 'Mg', 'Mn', 'Mo', 'Na', 'Nb', 'Ni', 'P', 'Pb', 'Rb', 'Re',\n",
       "       'S', 'Sb', 'Sc', 'Se', 'Sn', 'Sr', 'Ta', 'Th', 'Ti', 'Tl', 'U', 'V',\n",
       "       'W', 'Y', 'Zn', 'B', 'Hf', 'Si', 'Zr', 'Be', 'Ga', 'Ge', 'Wt Total'],\n",
       "      dtype='object')"
      ]
     },
     "execution_count": 17,
     "metadata": {},
     "output_type": "execute_result"
    }
   ],
   "source": [
    "osnaca_conclurry.columns"
   ]
  },
  {
   "cell_type": "code",
   "execution_count": 18,
   "id": "2d5cd096",
   "metadata": {},
   "outputs": [],
   "source": [
    "osnaca_conclurry = osnaca_conclurry.rename(columns={\"Wt Total\": \"Wt Tot\", \"Au(AR)\": \"Au (AR)\", \"Au1\": \"Au (FA)\"})"
   ]
  },
  {
   "cell_type": "code",
   "execution_count": 20,
   "id": "b53b14fe",
   "metadata": {},
   "outputs": [],
   "source": [
    "osnaca_all = pd.concat([osnaca, osnaca_conclurry])"
   ]
  },
  {
   "cell_type": "markdown",
   "id": "46302a92",
   "metadata": {},
   "source": [
    "### Data preview"
   ]
  },
  {
   "cell_type": "code",
   "execution_count": 21,
   "id": "3e9b6f20",
   "metadata": {},
   "outputs": [
    {
     "data": {
      "text/plain": [
       "Index(['Sample', 'Code', 'Au (FA)', 'Pt', 'Pd', 'Au (AR)', 'Bi', 'Te', 'Hg',\n",
       "       'Ag', 'Al', 'As', 'Ca', 'Cd', 'Co', 'Cr', 'Cs', 'Cu', 'Fe', 'In', 'K',\n",
       "       'La', 'Ce', 'Pr', 'Nd', 'Sm', 'Eu', 'Gd', 'Tb', 'Dy', 'Ho', 'Er', 'Tm',\n",
       "       'Yb', 'Lu', 'Li', 'Mg', 'Mn', 'Mo', 'Na', 'Nb', 'Ni', 'P', 'Pb', 'Rb',\n",
       "       'Re', 'S', 'Sb', 'Sc', 'Se', 'Sn', 'Sr', 'Ta', 'Th', 'Ti', 'Tl', 'U',\n",
       "       'V', 'W', 'Y', 'Zn', 'B', 'Hf', 'Si', 'Zr', 'Be', 'Ga', 'Ge', 'Wt Tot'],\n",
       "      dtype='object')"
      ]
     },
     "execution_count": 21,
     "metadata": {},
     "output_type": "execute_result"
    }
   ],
   "source": [
    "osnaca_all.columns"
   ]
  },
  {
   "cell_type": "code",
   "execution_count": 22,
   "id": "b6c2e332",
   "metadata": {},
   "outputs": [
    {
     "data": {
      "text/plain": [
       "Sample       0\n",
       "Code       994\n",
       "Au (FA)      0\n",
       "Pt           0\n",
       "Pd           0\n",
       "          ... \n",
       "Zr           0\n",
       "Be           0\n",
       "Ga           0\n",
       "Ge           0\n",
       "Wt Tot     617\n",
       "Length: 69, dtype: int64"
      ]
     },
     "execution_count": 22,
     "metadata": {},
     "output_type": "execute_result"
    }
   ],
   "source": [
    "osnaca_all.isnull().sum()"
   ]
  },
  {
   "cell_type": "code",
   "execution_count": 23,
   "id": "569c9b0a",
   "metadata": {},
   "outputs": [
    {
     "data": {
      "text/html": [
       "<div>\n",
       "<style scoped>\n",
       "    .dataframe tbody tr th:only-of-type {\n",
       "        vertical-align: middle;\n",
       "    }\n",
       "\n",
       "    .dataframe tbody tr th {\n",
       "        vertical-align: top;\n",
       "    }\n",
       "\n",
       "    .dataframe thead th {\n",
       "        text-align: right;\n",
       "    }\n",
       "</style>\n",
       "<table border=\"1\" class=\"dataframe\">\n",
       "  <thead>\n",
       "    <tr style=\"text-align: right;\">\n",
       "      <th></th>\n",
       "      <th>Sample</th>\n",
       "      <th>Code</th>\n",
       "      <th>Au (FA)</th>\n",
       "      <th>Pt</th>\n",
       "      <th>Pd</th>\n",
       "      <th>Au (AR)</th>\n",
       "      <th>Bi</th>\n",
       "      <th>Te</th>\n",
       "      <th>Hg</th>\n",
       "      <th>Ag</th>\n",
       "      <th>...</th>\n",
       "      <th>Y</th>\n",
       "      <th>Zn</th>\n",
       "      <th>B</th>\n",
       "      <th>Hf</th>\n",
       "      <th>Si</th>\n",
       "      <th>Zr</th>\n",
       "      <th>Be</th>\n",
       "      <th>Ga</th>\n",
       "      <th>Ge</th>\n",
       "      <th>Wt Tot</th>\n",
       "    </tr>\n",
       "  </thead>\n",
       "  <tbody>\n",
       "    <tr>\n",
       "      <th>0</th>\n",
       "      <td>700001</td>\n",
       "      <td>NaN</td>\n",
       "      <td>0.438</td>\n",
       "      <td>0.002</td>\n",
       "      <td>0.002</td>\n",
       "      <td>0.362</td>\n",
       "      <td>10.60</td>\n",
       "      <td>0.02</td>\n",
       "      <td>0.39</td>\n",
       "      <td>91.5</td>\n",
       "      <td>...</td>\n",
       "      <td>1.2</td>\n",
       "      <td>153000</td>\n",
       "      <td>-20</td>\n",
       "      <td>0.4</td>\n",
       "      <td>34200</td>\n",
       "      <td>60</td>\n",
       "      <td>-1.0</td>\n",
       "      <td>11.0</td>\n",
       "      <td>1</td>\n",
       "      <td>159</td>\n",
       "    </tr>\n",
       "    <tr>\n",
       "      <th>1</th>\n",
       "      <td>700002</td>\n",
       "      <td>NaN</td>\n",
       "      <td>0.093</td>\n",
       "      <td>0.001</td>\n",
       "      <td>0.002</td>\n",
       "      <td>0.095</td>\n",
       "      <td>125.00</td>\n",
       "      <td>0.22</td>\n",
       "      <td>0.12</td>\n",
       "      <td>44.0</td>\n",
       "      <td>...</td>\n",
       "      <td>18.5</td>\n",
       "      <td>3780</td>\n",
       "      <td>-20</td>\n",
       "      <td>0.2</td>\n",
       "      <td>114000</td>\n",
       "      <td>20</td>\n",
       "      <td>-1.0</td>\n",
       "      <td>2.0</td>\n",
       "      <td>-1</td>\n",
       "      <td>143</td>\n",
       "    </tr>\n",
       "    <tr>\n",
       "      <th>2</th>\n",
       "      <td>700003</td>\n",
       "      <td>NaN</td>\n",
       "      <td>1.41</td>\n",
       "      <td>0.002</td>\n",
       "      <td>0.002</td>\n",
       "      <td>1.39</td>\n",
       "      <td>120.00</td>\n",
       "      <td>0.02</td>\n",
       "      <td>62.9</td>\n",
       "      <td>215.0</td>\n",
       "      <td>...</td>\n",
       "      <td>0.3</td>\n",
       "      <td>219000</td>\n",
       "      <td>-20</td>\n",
       "      <td>-0.2</td>\n",
       "      <td>71500</td>\n",
       "      <td>-10</td>\n",
       "      <td>-1.0</td>\n",
       "      <td>-1.0</td>\n",
       "      <td>2</td>\n",
       "      <td>204</td>\n",
       "    </tr>\n",
       "    <tr>\n",
       "      <th>3</th>\n",
       "      <td>700004</td>\n",
       "      <td>1</td>\n",
       "      <td>0.096</td>\n",
       "      <td>0.003</td>\n",
       "      <td>0.005</td>\n",
       "      <td>0.086</td>\n",
       "      <td>0.72</td>\n",
       "      <td>0.80</td>\n",
       "      <td>0.03</td>\n",
       "      <td>2.5</td>\n",
       "      <td>...</td>\n",
       "      <td>6.3</td>\n",
       "      <td>755</td>\n",
       "      <td>-20</td>\n",
       "      <td>2.0</td>\n",
       "      <td>244000</td>\n",
       "      <td>70</td>\n",
       "      <td>-1.0</td>\n",
       "      <td>-1.0</td>\n",
       "      <td>-1</td>\n",
       "      <td>185</td>\n",
       "    </tr>\n",
       "    <tr>\n",
       "      <th>4</th>\n",
       "      <td>700005</td>\n",
       "      <td>NaN</td>\n",
       "      <td>2.9</td>\n",
       "      <td>0.003</td>\n",
       "      <td>0.005</td>\n",
       "      <td>3.94</td>\n",
       "      <td>0.34</td>\n",
       "      <td>0.06</td>\n",
       "      <td>4.01</td>\n",
       "      <td>162.0</td>\n",
       "      <td>...</td>\n",
       "      <td>4.5</td>\n",
       "      <td>173000</td>\n",
       "      <td>-20</td>\n",
       "      <td>-0.2</td>\n",
       "      <td>142000</td>\n",
       "      <td>-10</td>\n",
       "      <td>-1.0</td>\n",
       "      <td>-1.0</td>\n",
       "      <td>2</td>\n",
       "      <td>280</td>\n",
       "    </tr>\n",
       "  </tbody>\n",
       "</table>\n",
       "<p>5 rows × 69 columns</p>\n",
       "</div>"
      ],
      "text/plain": [
       "   Sample Code Au (FA)     Pt     Pd Au (AR)      Bi    Te    Hg     Ag  ...  \\\n",
       "0  700001  NaN   0.438  0.002  0.002   0.362   10.60  0.02  0.39   91.5  ...   \n",
       "1  700002  NaN   0.093  0.001  0.002   0.095  125.00  0.22  0.12   44.0  ...   \n",
       "2  700003  NaN    1.41  0.002  0.002    1.39  120.00  0.02  62.9  215.0  ...   \n",
       "3  700004    1   0.096  0.003  0.005   0.086    0.72  0.80  0.03    2.5  ...   \n",
       "4  700005  NaN     2.9  0.003  0.005    3.94    0.34  0.06  4.01  162.0  ...   \n",
       "\n",
       "      Y      Zn   B   Hf      Si  Zr   Be    Ga  Ge  Wt Tot  \n",
       "0   1.2  153000 -20  0.4   34200  60 -1.0  11.0   1     159  \n",
       "1  18.5    3780 -20  0.2  114000  20 -1.0   2.0  -1     143  \n",
       "2   0.3  219000 -20 -0.2   71500 -10 -1.0  -1.0   2     204  \n",
       "3   6.3     755 -20  2.0  244000  70 -1.0  -1.0  -1     185  \n",
       "4   4.5  173000 -20 -0.2  142000 -10 -1.0  -1.0   2     280  \n",
       "\n",
       "[5 rows x 69 columns]"
      ]
     },
     "execution_count": 23,
     "metadata": {},
     "output_type": "execute_result"
    }
   ],
   "source": [
    "osnaca_all.head()"
   ]
  },
  {
   "cell_type": "markdown",
   "id": "175cfb38",
   "metadata": {},
   "source": [
    "#### Several columns (with data type object) could contain non-numeric values, may need further investigate"
   ]
  },
  {
   "cell_type": "code",
   "execution_count": 24,
   "id": "5f176bf1",
   "metadata": {},
   "outputs": [
    {
     "data": {
      "text/plain": [
       "Sample      object\n",
       "Code        object\n",
       "Au (FA)     object\n",
       "Pt          object\n",
       "Pd          object\n",
       "            ...   \n",
       "Zr           int64\n",
       "Be         float64\n",
       "Ga         float64\n",
       "Ge           int64\n",
       "Wt Tot      object\n",
       "Length: 69, dtype: object"
      ]
     },
     "execution_count": 24,
     "metadata": {},
     "output_type": "execute_result"
    }
   ],
   "source": [
    "osnaca_all.dtypes"
   ]
  },
  {
   "cell_type": "markdown",
   "id": "2471795d",
   "metadata": {},
   "source": [
    "#### Drop less relavent columns"
   ]
  },
  {
   "cell_type": "code",
   "execution_count": 47,
   "id": "46d4fd3f",
   "metadata": {},
   "outputs": [],
   "source": [
    "osnaca_all = osnaca_all.drop(['Sample','Code','Wt Tot'], axis = 1)"
   ]
  },
  {
   "cell_type": "code",
   "execution_count": 26,
   "id": "c17a559c",
   "metadata": {},
   "outputs": [],
   "source": [
    "### Negative values need to be dealt with "
   ]
  },
  {
   "cell_type": "markdown",
   "id": "b82cddad",
   "metadata": {},
   "source": [
    "### Nullls"
   ]
  },
  {
   "cell_type": "code",
   "execution_count": 49,
   "id": "8d60a07e",
   "metadata": {},
   "outputs": [
    {
     "data": {
      "text/plain": [
       "Au (FA)     0\n",
       "Pt          0\n",
       "Pd          0\n",
       "Au (AR)    72\n",
       "Bi          0\n",
       "           ..\n",
       "Si          0\n",
       "Zr          0\n",
       "Be          0\n",
       "Ga          0\n",
       "Ge          0\n",
       "Length: 66, dtype: int64"
      ]
     },
     "execution_count": 49,
     "metadata": {},
     "output_type": "execute_result"
    }
   ],
   "source": [
    "osnaca_all.isnull().sum()"
   ]
  },
  {
   "cell_type": "markdown",
   "id": "84e71dfa",
   "metadata": {},
   "source": [
    "## Correlation Exploration"
   ]
  },
  {
   "cell_type": "code",
   "execution_count": 27,
   "id": "618e5740",
   "metadata": {},
   "outputs": [],
   "source": [
    "## Correlated with Zinc"
   ]
  },
  {
   "cell_type": "code",
   "execution_count": 28,
   "id": "2418c23b",
   "metadata": {},
   "outputs": [
    {
     "data": {
      "text/plain": [
       "Zn    1.000000\n",
       "Cd    0.640642\n",
       "Ge    0.496282\n",
       "S     0.415476\n",
       "Pb    0.278180\n",
       "        ...   \n",
       "Na   -0.184403\n",
       "Ti   -0.225516\n",
       "Sc   -0.225709\n",
       "Al   -0.286780\n",
       "Si   -0.378327\n",
       "Name: Zn, Length: 61, dtype: float64"
      ]
     },
     "execution_count": 28,
     "metadata": {},
     "output_type": "execute_result"
    }
   ],
   "source": [
    "osnaca_all.corr()['Zn'].sort_values(ascending=False) "
   ]
  },
  {
   "cell_type": "code",
   "execution_count": 29,
   "id": "cb07411f",
   "metadata": {},
   "outputs": [
    {
     "data": {
      "text/plain": [
       "Cu    1.000000\n",
       "S     0.246512\n",
       "Se    0.205122\n",
       "In    0.157200\n",
       "Fe    0.109422\n",
       "        ...   \n",
       "K    -0.116469\n",
       "Na   -0.119540\n",
       "Ti   -0.131059\n",
       "Al   -0.179645\n",
       "Si   -0.197178\n",
       "Name: Cu, Length: 61, dtype: float64"
      ]
     },
     "execution_count": 29,
     "metadata": {},
     "output_type": "execute_result"
    }
   ],
   "source": [
    "osnaca_all.corr()['Cu'].sort_values(ascending=False) "
   ]
  },
  {
   "cell_type": "code",
   "execution_count": 30,
   "id": "50cfdda6",
   "metadata": {},
   "outputs": [
    {
     "data": {
      "text/plain": [
       "Co    1.000000\n",
       "Ni    0.259981\n",
       "Fe    0.170675\n",
       "S     0.165500\n",
       "Cu    0.065329\n",
       "        ...   \n",
       "Ti   -0.062055\n",
       "Zn   -0.064001\n",
       "Na   -0.074630\n",
       "Al   -0.097120\n",
       "Si   -0.110992\n",
       "Name: Co, Length: 61, dtype: float64"
      ]
     },
     "execution_count": 30,
     "metadata": {},
     "output_type": "execute_result"
    }
   ],
   "source": [
    "osnaca_all.corr()['Co'].sort_values(ascending=False) "
   ]
  },
  {
   "cell_type": "code",
   "execution_count": 31,
   "id": "c1b4d85a",
   "metadata": {},
   "outputs": [
    {
     "data": {
      "image/png": "[encoded data removed]",
      "text/plain": [
       "<Figure size 432x288 with 2 Axes>"
      ]
     },
     "metadata": {
      "needs_background": "light"
     },
     "output_type": "display_data"
    }
   ],
   "source": [
    "corr = osnaca_all.corr()\n",
    "\n",
    "# Getting the Upper Triangle of the co-relation matrix\n",
    "matrix = np.triu(corr)\n",
    "\n",
    "# using the upper triangle matrix as mask \n",
    "corr_heatmap = sns.heatmap(corr,\n",
    "            annot=True, \n",
    "            mask=matrix, \n",
    "           )\n",
    "plt.yticks(rotation=0)\n",
    "plt.show()"
   ]
  },
  {
   "cell_type": "code",
   "execution_count": 44,
   "id": "1b3ba316",
   "metadata": {},
   "outputs": [],
   "source": [
    "colormap = sns.color_palette(\"Blues\", as_cmap=True)"
   ]
  },
  {
   "cell_type": "code",
   "execution_count": 45,
   "id": "12152e19",
   "metadata": {},
   "outputs": [
    {
     "data": {
      "image/png": "[encoded data removed]",
      "text/plain": [
       "<Figure size 432x288 with 2 Axes>"
      ]
     },
     "metadata": {
      "needs_background": "light"
     },
     "output_type": "display_data"
    }
   ],
   "source": [
    "sns.heatmap(osnaca_all[['Co', 'Ni' , 'Fe','S','Cu']].corr(), cmap=colormap);"
   ]
  },
  {
   "cell_type": "code",
   "execution_count": null,
   "id": "7eb0d80a",
   "metadata": {},
   "outputs": [],
   "source": []
  }
 ],
 "metadata": {
  "kernelspec": {
   "display_name": "Python 3",
   "language": "python",
   "name": "python3"
  },
  "language_info": {
   "codemirror_mode": {
    "name": "ipython",
    "version": 3
   },
   "file_extension": ".py",
   "mimetype": "text/x-python",
   "name": "python",
   "nbconvert_exporter": "python",
   "pygments_lexer": "ipython3",
   "version": "3.8.8"
  }
 },
 "nbformat": 4,
 "nbformat_minor": 5
}
