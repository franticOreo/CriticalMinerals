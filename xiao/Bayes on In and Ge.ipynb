{
 "cells": [
  {
   "cell_type": "markdown",
   "source": [
    "## Background\n",
    "- Indium is a chemical element with the symbol In and atomic number 49. \n",
    "- It is a post-transition metal that makes up 0.21 parts per million of the Earth's crust\n",
    "\n",
    "- Germanium abundance in the Earth’s is 1.3 ppm"
   ],
   "metadata": {}
  },
  {
   "cell_type": "markdown",
   "source": [
    "## Get Data"
   ],
   "metadata": {}
  },
  {
   "cell_type": "code",
   "execution_count": 270,
   "source": [
    "import pandas as pd\n",
    "import numpy as np"
   ],
   "outputs": [],
   "metadata": {}
  },
  {
   "cell_type": "code",
   "execution_count": 271,
   "source": [
    "df = pd.read_csv('Merged_lessthan15km_In_Ge.csv')\n",
    "df.head(5)"
   ],
   "outputs": [
    {
     "output_type": "execute_result",
     "data": {
      "text/html": [
       "<div>\n",
       "<style scoped>\n",
       "    .dataframe tbody tr th:only-of-type {\n",
       "        vertical-align: middle;\n",
       "    }\n",
       "\n",
       "    .dataframe tbody tr th {\n",
       "        vertical-align: top;\n",
       "    }\n",
       "\n",
       "    .dataframe thead th {\n",
       "        text-align: right;\n",
       "    }\n",
       "</style>\n",
       "<table border=\"1\" class=\"dataframe\">\n",
       "  <thead>\n",
       "    <tr style=\"text-align: right;\">\n",
       "      <th></th>\n",
       "      <th>Unnamed: 0</th>\n",
       "      <th>Unnamed: 0_x</th>\n",
       "      <th>Zn</th>\n",
       "      <th>Ag</th>\n",
       "      <th>Cu</th>\n",
       "      <th>Pb</th>\n",
       "      <th>Au</th>\n",
       "      <th>Co</th>\n",
       "      <th>In</th>\n",
       "      <th>Ge</th>\n",
       "      <th>lat</th>\n",
       "      <th>long</th>\n",
       "      <th>Unnamed: 0_y</th>\n",
       "      <th>minedex_coords</th>\n",
       "      <th>minedex_site</th>\n",
       "      <th>wamex_lat</th>\n",
       "      <th>wamex_lon</th>\n",
       "      <th>distance</th>\n",
       "    </tr>\n",
       "  </thead>\n",
       "  <tbody>\n",
       "    <tr>\n",
       "      <th>0</th>\n",
       "      <td>0</td>\n",
       "      <td>24985</td>\n",
       "      <td>14.0</td>\n",
       "      <td>0.03</td>\n",
       "      <td>11.6</td>\n",
       "      <td>1.2</td>\n",
       "      <td>NaN</td>\n",
       "      <td>1.6</td>\n",
       "      <td>0.007</td>\n",
       "      <td>0.025</td>\n",
       "      <td>-23.722310</td>\n",
       "      <td>119.290297</td>\n",
       "      <td>2271</td>\n",
       "      <td>(-23.715655, 119.281652)</td>\n",
       "      <td>S0002505</td>\n",
       "      <td>-23.722310</td>\n",
       "      <td>119.290297</td>\n",
       "      <td>1.1490822602067268 km</td>\n",
       "    </tr>\n",
       "    <tr>\n",
       "      <th>1</th>\n",
       "      <td>1</td>\n",
       "      <td>24986</td>\n",
       "      <td>18.0</td>\n",
       "      <td>0.05</td>\n",
       "      <td>55.7</td>\n",
       "      <td>1.4</td>\n",
       "      <td>NaN</td>\n",
       "      <td>4.4</td>\n",
       "      <td>0.053</td>\n",
       "      <td>0.110</td>\n",
       "      <td>-23.722511</td>\n",
       "      <td>119.290732</td>\n",
       "      <td>3573</td>\n",
       "      <td>(-23.715655, 119.281652)</td>\n",
       "      <td>S0002505</td>\n",
       "      <td>-23.722511</td>\n",
       "      <td>119.290732</td>\n",
       "      <td>1.1974451584269783 km</td>\n",
       "    </tr>\n",
       "    <tr>\n",
       "      <th>2</th>\n",
       "      <td>2</td>\n",
       "      <td>24987</td>\n",
       "      <td>72.0</td>\n",
       "      <td>0.10</td>\n",
       "      <td>54.2</td>\n",
       "      <td>21.8</td>\n",
       "      <td>NaN</td>\n",
       "      <td>14.9</td>\n",
       "      <td>0.076</td>\n",
       "      <td>0.070</td>\n",
       "      <td>-23.720042</td>\n",
       "      <td>119.286168</td>\n",
       "      <td>3473</td>\n",
       "      <td>(-23.715655, 119.281652)</td>\n",
       "      <td>S0002505</td>\n",
       "      <td>-23.720042</td>\n",
       "      <td>119.286168</td>\n",
       "      <td>0.6694362586362227 km</td>\n",
       "    </tr>\n",
       "    <tr>\n",
       "      <th>3</th>\n",
       "      <td>3</td>\n",
       "      <td>24988</td>\n",
       "      <td>2560.0</td>\n",
       "      <td>1.56</td>\n",
       "      <td>127.5</td>\n",
       "      <td>790.0</td>\n",
       "      <td>NaN</td>\n",
       "      <td>7.6</td>\n",
       "      <td>0.488</td>\n",
       "      <td>0.025</td>\n",
       "      <td>-23.718043</td>\n",
       "      <td>119.284555</td>\n",
       "      <td>822</td>\n",
       "      <td>(-23.715655, 119.281652)</td>\n",
       "      <td>S0002505</td>\n",
       "      <td>-23.718043</td>\n",
       "      <td>119.284555</td>\n",
       "      <td>0.39696698159245797 km</td>\n",
       "    </tr>\n",
       "    <tr>\n",
       "      <th>4</th>\n",
       "      <td>4</td>\n",
       "      <td>24989</td>\n",
       "      <td>235.0</td>\n",
       "      <td>0.11</td>\n",
       "      <td>68.1</td>\n",
       "      <td>15.0</td>\n",
       "      <td>NaN</td>\n",
       "      <td>14.1</td>\n",
       "      <td>0.026</td>\n",
       "      <td>0.120</td>\n",
       "      <td>-23.717327</td>\n",
       "      <td>119.283532</td>\n",
       "      <td>3704</td>\n",
       "      <td>(-23.715655, 119.281652)</td>\n",
       "      <td>S0002505</td>\n",
       "      <td>-23.717327</td>\n",
       "      <td>119.283532</td>\n",
       "      <td>0.2665421695325017 km</td>\n",
       "    </tr>\n",
       "  </tbody>\n",
       "</table>\n",
       "</div>"
      ],
      "text/plain": [
       "   Unnamed: 0  Unnamed: 0_x      Zn    Ag     Cu     Pb  Au    Co     In  \\\n",
       "0           0         24985    14.0  0.03   11.6    1.2 NaN   1.6  0.007   \n",
       "1           1         24986    18.0  0.05   55.7    1.4 NaN   4.4  0.053   \n",
       "2           2         24987    72.0  0.10   54.2   21.8 NaN  14.9  0.076   \n",
       "3           3         24988  2560.0  1.56  127.5  790.0 NaN   7.6  0.488   \n",
       "4           4         24989   235.0  0.11   68.1   15.0 NaN  14.1  0.026   \n",
       "\n",
       "      Ge        lat        long  Unnamed: 0_y            minedex_coords  \\\n",
       "0  0.025 -23.722310  119.290297          2271  (-23.715655, 119.281652)   \n",
       "1  0.110 -23.722511  119.290732          3573  (-23.715655, 119.281652)   \n",
       "2  0.070 -23.720042  119.286168          3473  (-23.715655, 119.281652)   \n",
       "3  0.025 -23.718043  119.284555           822  (-23.715655, 119.281652)   \n",
       "4  0.120 -23.717327  119.283532          3704  (-23.715655, 119.281652)   \n",
       "\n",
       "  minedex_site  wamex_lat   wamex_lon                distance  \n",
       "0     S0002505 -23.722310  119.290297   1.1490822602067268 km  \n",
       "1     S0002505 -23.722511  119.290732   1.1974451584269783 km  \n",
       "2     S0002505 -23.720042  119.286168   0.6694362586362227 km  \n",
       "3     S0002505 -23.718043  119.284555  0.39696698159245797 km  \n",
       "4     S0002505 -23.717327  119.283532   0.2665421695325017 km  "
      ]
     },
     "metadata": {},
     "execution_count": 271
    }
   ],
   "metadata": {}
  },
  {
   "cell_type": "code",
   "execution_count": 272,
   "source": [
    "df.columns"
   ],
   "outputs": [
    {
     "output_type": "execute_result",
     "data": {
      "text/plain": [
       "Index(['Unnamed: 0', 'Unnamed: 0_x', 'Zn', 'Ag', 'Cu', 'Pb', 'Au', 'Co', 'In',\n",
       "       'Ge', 'lat', 'long', 'Unnamed: 0_y', 'minedex_coords', 'minedex_site',\n",
       "       'wamex_lat', 'wamex_lon', 'distance'],\n",
       "      dtype='object')"
      ]
     },
     "metadata": {},
     "execution_count": 272
    }
   ],
   "metadata": {}
  },
  {
   "cell_type": "markdown",
   "source": [
    "## Preprocess Data"
   ],
   "metadata": {}
  },
  {
   "cell_type": "code",
   "execution_count": 273,
   "source": [
    "df = df.drop(columns=['Unnamed: 0', 'Unnamed: 0_x', 'lat', 'long', 'Unnamed: 0_y', 'minedex_coords',\n",
    "       'minedex_site', 'distance']).drop_duplicates()"
   ],
   "outputs": [],
   "metadata": {}
  },
  {
   "cell_type": "code",
   "execution_count": 274,
   "source": [
    "df.shape"
   ],
   "outputs": [
    {
     "output_type": "execute_result",
     "data": {
      "text/plain": [
       "(2076, 10)"
      ]
     },
     "metadata": {},
     "execution_count": 274
    }
   ],
   "metadata": {}
  },
  {
   "cell_type": "code",
   "execution_count": 275,
   "source": [
    "df = df.dropna()\n",
    "df.shape"
   ],
   "outputs": [
    {
     "output_type": "execute_result",
     "data": {
      "text/plain": [
       "(1792, 10)"
      ]
     },
     "metadata": {},
     "execution_count": 275
    }
   ],
   "metadata": {}
  },
  {
   "cell_type": "code",
   "execution_count": 276,
   "source": [
    "df.columns"
   ],
   "outputs": [
    {
     "output_type": "execute_result",
     "data": {
      "text/plain": [
       "Index(['Zn', 'Ag', 'Cu', 'Pb', 'Au', 'Co', 'In', 'Ge', 'wamex_lat',\n",
       "       'wamex_lon'],\n",
       "      dtype='object')"
      ]
     },
     "metadata": {},
     "execution_count": 276
    }
   ],
   "metadata": {}
  },
  {
   "cell_type": "code",
   "execution_count": 277,
   "source": [
    "df_loc = df\n",
    "df = df.drop(columns=['wamex_lat','wamex_lon'])"
   ],
   "outputs": [],
   "metadata": {}
  },
  {
   "cell_type": "code",
   "execution_count": 278,
   "source": [
    "df.shape"
   ],
   "outputs": [
    {
     "output_type": "execute_result",
     "data": {
      "text/plain": [
       "(1792, 8)"
      ]
     },
     "metadata": {},
     "execution_count": 278
    }
   ],
   "metadata": {}
  },
  {
   "cell_type": "code",
   "execution_count": 279,
   "source": [
    "in_abundance = 0.21\n",
    "ge_abundance = 1.3"
   ],
   "outputs": [],
   "metadata": {}
  },
  {
   "cell_type": "markdown",
   "source": [
    "### Predict Germanium"
   ],
   "metadata": {}
  },
  {
   "cell_type": "code",
   "execution_count": 280,
   "source": [
    "df_loc_ge = df_loc"
   ],
   "outputs": [],
   "metadata": {}
  },
  {
   "cell_type": "code",
   "execution_count": 281,
   "source": [
    "df_loc_ge.target = df_loc.loc[:, [\"Ge\"]]\n",
    "df_loc_ge.data = df_loc.drop(['Ge'],axis=1)"
   ],
   "outputs": [
    {
     "output_type": "stream",
     "name": "stderr",
     "text": [
      "<ipython-input-281-52d1ba17771e>:1: UserWarning: Pandas doesn't allow columns to be created via a new attribute name - see https://pandas.pydata.org/pandas-docs/stable/indexing.html#attribute-access\n",
      "  df_loc_ge.target = df_loc.loc[:, [\"Ge\"]]\n",
      "<ipython-input-281-52d1ba17771e>:2: UserWarning: Pandas doesn't allow columns to be created via a new attribute name - see https://pandas.pydata.org/pandas-docs/stable/indexing.html#attribute-access\n",
      "  df_loc_ge.data = df_loc.drop(['Ge'],axis=1)\n"
     ]
    }
   ],
   "metadata": {}
  },
  {
   "cell_type": "code",
   "execution_count": 282,
   "source": [
    "df_loc_ge.target.shape"
   ],
   "outputs": [
    {
     "output_type": "execute_result",
     "data": {
      "text/plain": [
       "(1792, 1)"
      ]
     },
     "metadata": {},
     "execution_count": 282
    }
   ],
   "metadata": {}
  },
  {
   "cell_type": "code",
   "execution_count": 283,
   "source": [
    "# Transform value of Ge to factor\n",
    "def if_ge_abundance(ge):\n",
    "    if ge > 1.3:\n",
    "        return 1\n",
    "    else:\n",
    "        return 0\n",
    "df_loc_ge.target = df_loc_ge.target.applymap(if_ge_abundance)"
   ],
   "outputs": [],
   "metadata": {}
  },
  {
   "cell_type": "code",
   "execution_count": 284,
   "source": [
    "df_loc_ge.target.plot(kind='hist')"
   ],
   "outputs": [
    {
     "output_type": "execute_result",
     "data": {
      "text/plain": [
       "<AxesSubplot:ylabel='Frequency'>"
      ]
     },
     "metadata": {},
     "execution_count": 284
    },
    {
     "output_type": "display_data",
     "data": {
      "image/png": "[encoded data removed]",
      "text/plain": [
       "<Figure size 432x288 with 1 Axes>"
      ]
     },
     "metadata": {
      "needs_background": "light"
     }
    }
   ],
   "metadata": {}
  },
  {
   "cell_type": "markdown",
   "source": [
    "#### Log transform"
   ],
   "metadata": {}
  },
  {
   "cell_type": "code",
   "execution_count": 285,
   "source": [
    "def log_transform (var):\n",
    "    return np.log(var + 1) "
   ],
   "outputs": [],
   "metadata": {}
  },
  {
   "cell_type": "code",
   "execution_count": 286,
   "source": [
    "#df_loc_ge.datalog = df_loc_ge.data.applymap(log_transform)\n",
    "#df_loc_ge.datalog = df_loc_ge.data.apply(lambda x: log_transform(x['Zn'], x['Ag'], x['Cu'],x['Pb'],x['Au'], x['Co'], x['In']), axis=1)\n",
    "\n",
    "\n",
    "df_loc_ge.data[['Zn', 'Ag', 'Cu', 'Pb', 'Au', 'Co', 'In']] = df_loc_ge.data[['Zn', 'Ag', 'Cu', 'Pb', 'Au', 'Co', 'In']].apply(log_transform)"
   ],
   "outputs": [],
   "metadata": {}
  },
  {
   "cell_type": "code",
   "execution_count": 287,
   "source": [
    "df_loc_ge.data.head(5)"
   ],
   "outputs": [
    {
     "output_type": "execute_result",
     "data": {
      "text/html": [
       "<div>\n",
       "<style scoped>\n",
       "    .dataframe tbody tr th:only-of-type {\n",
       "        vertical-align: middle;\n",
       "    }\n",
       "\n",
       "    .dataframe tbody tr th {\n",
       "        vertical-align: top;\n",
       "    }\n",
       "\n",
       "    .dataframe thead th {\n",
       "        text-align: right;\n",
       "    }\n",
       "</style>\n",
       "<table border=\"1\" class=\"dataframe\">\n",
       "  <thead>\n",
       "    <tr style=\"text-align: right;\">\n",
       "      <th></th>\n",
       "      <th>Zn</th>\n",
       "      <th>Ag</th>\n",
       "      <th>Cu</th>\n",
       "      <th>Pb</th>\n",
       "      <th>Au</th>\n",
       "      <th>Co</th>\n",
       "      <th>In</th>\n",
       "      <th>wamex_lat</th>\n",
       "      <th>wamex_lon</th>\n",
       "    </tr>\n",
       "  </thead>\n",
       "  <tbody>\n",
       "    <tr>\n",
       "      <th>6</th>\n",
       "      <td>6.265301</td>\n",
       "      <td>0.246860</td>\n",
       "      <td>4.409155</td>\n",
       "      <td>6.381816</td>\n",
       "      <td>0.004988</td>\n",
       "      <td>3.908015</td>\n",
       "      <td>0.054488</td>\n",
       "      <td>-23.709158</td>\n",
       "      <td>119.271840</td>\n",
       "    </tr>\n",
       "    <tr>\n",
       "      <th>9</th>\n",
       "      <td>4.962845</td>\n",
       "      <td>0.067659</td>\n",
       "      <td>4.510860</td>\n",
       "      <td>3.471966</td>\n",
       "      <td>0.004988</td>\n",
       "      <td>3.165475</td>\n",
       "      <td>0.080658</td>\n",
       "      <td>-23.697506</td>\n",
       "      <td>119.251256</td>\n",
       "    </tr>\n",
       "    <tr>\n",
       "      <th>10</th>\n",
       "      <td>3.871201</td>\n",
       "      <td>0.307485</td>\n",
       "      <td>4.629863</td>\n",
       "      <td>4.570579</td>\n",
       "      <td>0.004988</td>\n",
       "      <td>2.116256</td>\n",
       "      <td>0.029559</td>\n",
       "      <td>-23.700995</td>\n",
       "      <td>119.257777</td>\n",
       "    </tr>\n",
       "    <tr>\n",
       "      <th>11</th>\n",
       "      <td>3.465736</td>\n",
       "      <td>0.048790</td>\n",
       "      <td>4.195697</td>\n",
       "      <td>2.230014</td>\n",
       "      <td>0.004988</td>\n",
       "      <td>2.151762</td>\n",
       "      <td>0.030529</td>\n",
       "      <td>-23.726979</td>\n",
       "      <td>119.294428</td>\n",
       "    </tr>\n",
       "    <tr>\n",
       "      <th>12</th>\n",
       "      <td>4.234107</td>\n",
       "      <td>0.139762</td>\n",
       "      <td>5.327876</td>\n",
       "      <td>2.917771</td>\n",
       "      <td>0.004988</td>\n",
       "      <td>1.526056</td>\n",
       "      <td>0.119559</td>\n",
       "      <td>-23.726545</td>\n",
       "      <td>119.291410</td>\n",
       "    </tr>\n",
       "  </tbody>\n",
       "</table>\n",
       "</div>"
      ],
      "text/plain": [
       "          Zn        Ag        Cu        Pb        Au        Co        In  \\\n",
       "6   6.265301  0.246860  4.409155  6.381816  0.004988  3.908015  0.054488   \n",
       "9   4.962845  0.067659  4.510860  3.471966  0.004988  3.165475  0.080658   \n",
       "10  3.871201  0.307485  4.629863  4.570579  0.004988  2.116256  0.029559   \n",
       "11  3.465736  0.048790  4.195697  2.230014  0.004988  2.151762  0.030529   \n",
       "12  4.234107  0.139762  5.327876  2.917771  0.004988  1.526056  0.119559   \n",
       "\n",
       "    wamex_lat   wamex_lon  \n",
       "6  -23.709158  119.271840  \n",
       "9  -23.697506  119.251256  \n",
       "10 -23.700995  119.257777  \n",
       "11 -23.726979  119.294428  \n",
       "12 -23.726545  119.291410  "
      ]
     },
     "metadata": {},
     "execution_count": 287
    }
   ],
   "metadata": {}
  },
  {
   "cell_type": "code",
   "execution_count": 288,
   "source": [
    "from sklearn.model_selection import train_test_split"
   ],
   "outputs": [],
   "metadata": {}
  },
  {
   "cell_type": "code",
   "execution_count": 289,
   "source": [
    "X_train, X_test, y_train, y_test = train_test_split(df_loc_ge.data, df_loc_ge.target, test_size=0.3,random_state=109) # 70% training and 30% test"
   ],
   "outputs": [],
   "metadata": {}
  },
  {
   "cell_type": "code",
   "execution_count": 290,
   "source": [
    "from sklearn.naive_bayes import GaussianNB\n",
    "model = GaussianNB()\n",
    "model.fit(X_train, y_train)\n",
    "y_pred = model.predict(X_test)"
   ],
   "outputs": [
    {
     "output_type": "stream",
     "name": "stderr",
     "text": [
      "/Users/xiaohan/opt/anaconda3/lib/python3.8/site-packages/sklearn/utils/validation.py:63: DataConversionWarning: A column-vector y was passed when a 1d array was expected. Please change the shape of y to (n_samples, ), for example using ravel().\n",
      "  return f(*args, **kwargs)\n"
     ]
    }
   ],
   "metadata": {}
  },
  {
   "cell_type": "code",
   "execution_count": 291,
   "source": [
    "from sklearn import metrics\n",
    "print(\"Accuracy:\",metrics.accuracy_score(y_test, y_pred))\n",
    "print(\"Precision:\",metrics.precision_score(y_test, y_pred))\n",
    "print(\"Recall:\",metrics.recall_score(y_test, y_pred))\n",
    "print(\"F1 Score:\", metrics.f1_score(y_test,y_pred))\n",
    "print(\"AUC:\", metrics.roc_auc_score(y_test, y_pred))"
   ],
   "outputs": [
    {
     "output_type": "stream",
     "name": "stdout",
     "text": [
      "Accuracy: 0.9089219330855018\n",
      "Precision: 0.25\n",
      "Recall: 0.2\n",
      "F1 Score: 0.22222222222222224\n",
      "AUC: 0.5791252485089463\n"
     ]
    }
   ],
   "metadata": {}
  },
  {
   "cell_type": "code",
   "execution_count": 292,
   "source": [
    "from sklearn.linear_model import LogisticRegression\n",
    "model = LogisticRegression()\n",
    "model.fit(X_train, y_train)\n",
    "y_pred=model.predict(X_test)"
   ],
   "outputs": [
    {
     "output_type": "stream",
     "name": "stderr",
     "text": [
      "/Users/xiaohan/opt/anaconda3/lib/python3.8/site-packages/sklearn/utils/validation.py:63: DataConversionWarning: A column-vector y was passed when a 1d array was expected. Please change the shape of y to (n_samples, ), for example using ravel().\n",
      "  return f(*args, **kwargs)\n",
      "/Users/xiaohan/opt/anaconda3/lib/python3.8/site-packages/sklearn/linear_model/_logistic.py:763: ConvergenceWarning: lbfgs failed to converge (status=1):\n",
      "STOP: TOTAL NO. of ITERATIONS REACHED LIMIT.\n",
      "\n",
      "Increase the number of iterations (max_iter) or scale the data as shown in:\n",
      "    https://scikit-learn.org/stable/modules/preprocessing.html\n",
      "Please also refer to the documentation for alternative solver options:\n",
      "    https://scikit-learn.org/stable/modules/linear_model.html#logistic-regression\n",
      "  n_iter_i = _check_optimize_result(\n"
     ]
    }
   ],
   "metadata": {}
  },
  {
   "cell_type": "code",
   "execution_count": 293,
   "source": [
    "print(\"Accuracy:\",metrics.accuracy_score(y_test, y_pred))\n",
    "print(\"Precision:\",metrics.precision_score(y_test, y_pred))\n",
    "print(\"Recall:\",metrics.recall_score(y_test, y_pred))\n",
    "print(\"F1 Score:\", metrics.f1_score(y_test,y_pred))\n",
    "print(\"AUC:\", metrics.roc_auc_score(y_test, y_pred))"
   ],
   "outputs": [
    {
     "output_type": "stream",
     "name": "stdout",
     "text": [
      "Accuracy: 0.9386617100371747\n",
      "Precision: 0.5625\n",
      "Recall: 0.2571428571428571\n",
      "F1 Score: 0.3529411764705882\n",
      "AUC: 0.6216131780744107\n"
     ]
    }
   ],
   "metadata": {}
  },
  {
   "cell_type": "markdown",
   "source": [
    "#### Without location"
   ],
   "metadata": {}
  },
  {
   "cell_type": "code",
   "execution_count": 294,
   "source": [
    "df_loc_ge.data = df_loc_ge.data.drop(columns=['wamex_lat','wamex_lon'])\n",
    "X_train, X_test, y_train, y_test = train_test_split(df_loc_ge.data, df_loc_ge.target, test_size=0.3,random_state=109) # 70% training and 30% test"
   ],
   "outputs": [],
   "metadata": {}
  },
  {
   "cell_type": "code",
   "execution_count": 295,
   "source": [
    "model = GaussianNB()\n",
    "model.fit(X_train, y_train)\n",
    "y_pred = model.predict(X_test)\n",
    "print(\"Accuracy:\",metrics.accuracy_score(y_test, y_pred))\n",
    "print(\"Precision:\",metrics.precision_score(y_test, y_pred))\n",
    "print(\"Recall:\",metrics.recall_score(y_test, y_pred))\n",
    "print(\"F1 Score:\", metrics.f1_score(y_test,y_pred))\n",
    "print(\"AUC:\", metrics.roc_auc_score(y_test, y_pred))"
   ],
   "outputs": [
    {
     "output_type": "stream",
     "name": "stdout",
     "text": [
      "Accuracy: 0.9107806691449815\n",
      "Precision: 0.25925925925925924\n",
      "Recall: 0.2\n",
      "F1 Score: 0.22580645161290322\n",
      "AUC: 0.5801192842942346\n"
     ]
    },
    {
     "output_type": "stream",
     "name": "stderr",
     "text": [
      "/Users/xiaohan/opt/anaconda3/lib/python3.8/site-packages/sklearn/utils/validation.py:63: DataConversionWarning: A column-vector y was passed when a 1d array was expected. Please change the shape of y to (n_samples, ), for example using ravel().\n",
      "  return f(*args, **kwargs)\n"
     ]
    }
   ],
   "metadata": {}
  },
  {
   "cell_type": "code",
   "execution_count": 296,
   "source": [
    "model = LogisticRegression()\n",
    "model.fit(X_train, y_train)\n",
    "y_pred=model.predict(X_test)\n",
    "print(\"Accuracy:\",metrics.accuracy_score(y_test, y_pred))\n",
    "print(\"Precision:\",metrics.precision_score(y_test, y_pred))\n",
    "print(\"Recall:\",metrics.recall_score(y_test, y_pred))\n",
    "print(\"F1 Score:\", metrics.f1_score(y_test,y_pred))\n",
    "print(\"AUC:\", metrics.roc_auc_score(y_test, y_pred))"
   ],
   "outputs": [
    {
     "output_type": "stream",
     "name": "stdout",
     "text": [
      "Accuracy: 0.9460966542750929\n",
      "Precision: 1.0\n",
      "Recall: 0.17142857142857143\n",
      "F1 Score: 0.2926829268292683\n",
      "AUC: 0.5857142857142857\n"
     ]
    },
    {
     "output_type": "stream",
     "name": "stderr",
     "text": [
      "/Users/xiaohan/opt/anaconda3/lib/python3.8/site-packages/sklearn/utils/validation.py:63: DataConversionWarning: A column-vector y was passed when a 1d array was expected. Please change the shape of y to (n_samples, ), for example using ravel().\n",
      "  return f(*args, **kwargs)\n"
     ]
    }
   ],
   "metadata": {}
  },
  {
   "cell_type": "markdown",
   "source": [
    "## Predict Indium"
   ],
   "metadata": {}
  },
  {
   "cell_type": "code",
   "execution_count": 297,
   "source": [
    "df_loc_in = df_loc"
   ],
   "outputs": [],
   "metadata": {}
  },
  {
   "cell_type": "code",
   "execution_count": 298,
   "source": [
    "df_loc_in.target = df_loc.loc[:, [\"In\"]]\n",
    "df_loc_in.data = df_loc.drop(['In'],axis=1)"
   ],
   "outputs": [],
   "metadata": {}
  },
  {
   "cell_type": "code",
   "execution_count": 299,
   "source": [
    "# Transform value of Ge to factor\n",
    "def if_in_abundance(ge):\n",
    "    if ge > 0.21:\n",
    "        return 1\n",
    "    else:\n",
    "        return 0\n",
    "df_loc_in.target = df_loc_in.target.applymap(if_in_abundance)"
   ],
   "outputs": [],
   "metadata": {}
  },
  {
   "cell_type": "code",
   "execution_count": 300,
   "source": [
    "df_loc_ge.target.plot(kind='hist')"
   ],
   "outputs": [
    {
     "output_type": "execute_result",
     "data": {
      "text/plain": [
       "<AxesSubplot:ylabel='Frequency'>"
      ]
     },
     "metadata": {},
     "execution_count": 300
    },
    {
     "output_type": "display_data",
     "data": {
      "image/png": "[encoded data removed]",
      "text/plain": [
       "<Figure size 432x288 with 1 Axes>"
      ]
     },
     "metadata": {
      "needs_background": "light"
     }
    }
   ],
   "metadata": {}
  },
  {
   "cell_type": "markdown",
   "source": [
    "### Log transform"
   ],
   "metadata": {}
  },
  {
   "cell_type": "code",
   "execution_count": 301,
   "source": [
    "df_loc_in.data[['Zn', 'Ag', 'Cu', 'Pb', 'Au', 'Co', 'Ge']] = df_loc_in.data[['Zn', 'Ag', 'Cu', 'Pb', 'Au', 'Co', 'Ge']].apply(log_transform)"
   ],
   "outputs": [],
   "metadata": {}
  },
  {
   "cell_type": "code",
   "execution_count": 302,
   "source": [
    "df_loc_in.data.head(5)"
   ],
   "outputs": [
    {
     "output_type": "execute_result",
     "data": {
      "text/html": [
       "<div>\n",
       "<style scoped>\n",
       "    .dataframe tbody tr th:only-of-type {\n",
       "        vertical-align: middle;\n",
       "    }\n",
       "\n",
       "    .dataframe tbody tr th {\n",
       "        vertical-align: top;\n",
       "    }\n",
       "\n",
       "    .dataframe thead th {\n",
       "        text-align: right;\n",
       "    }\n",
       "</style>\n",
       "<table border=\"1\" class=\"dataframe\">\n",
       "  <thead>\n",
       "    <tr style=\"text-align: right;\">\n",
       "      <th></th>\n",
       "      <th>Zn</th>\n",
       "      <th>Ag</th>\n",
       "      <th>Cu</th>\n",
       "      <th>Pb</th>\n",
       "      <th>Au</th>\n",
       "      <th>Co</th>\n",
       "      <th>Ge</th>\n",
       "      <th>wamex_lat</th>\n",
       "      <th>wamex_lon</th>\n",
       "    </tr>\n",
       "  </thead>\n",
       "  <tbody>\n",
       "    <tr>\n",
       "      <th>6</th>\n",
       "      <td>6.265301</td>\n",
       "      <td>0.246860</td>\n",
       "      <td>4.409155</td>\n",
       "      <td>6.381816</td>\n",
       "      <td>0.004988</td>\n",
       "      <td>3.908015</td>\n",
       "      <td>0.058269</td>\n",
       "      <td>-23.709158</td>\n",
       "      <td>119.271840</td>\n",
       "    </tr>\n",
       "    <tr>\n",
       "      <th>9</th>\n",
       "      <td>4.962845</td>\n",
       "      <td>0.067659</td>\n",
       "      <td>4.510860</td>\n",
       "      <td>3.471966</td>\n",
       "      <td>0.004988</td>\n",
       "      <td>3.165475</td>\n",
       "      <td>0.104360</td>\n",
       "      <td>-23.697506</td>\n",
       "      <td>119.251256</td>\n",
       "    </tr>\n",
       "    <tr>\n",
       "      <th>10</th>\n",
       "      <td>3.871201</td>\n",
       "      <td>0.307485</td>\n",
       "      <td>4.629863</td>\n",
       "      <td>4.570579</td>\n",
       "      <td>0.004988</td>\n",
       "      <td>2.116256</td>\n",
       "      <td>0.095310</td>\n",
       "      <td>-23.700995</td>\n",
       "      <td>119.257777</td>\n",
       "    </tr>\n",
       "    <tr>\n",
       "      <th>11</th>\n",
       "      <td>3.465736</td>\n",
       "      <td>0.048790</td>\n",
       "      <td>4.195697</td>\n",
       "      <td>2.230014</td>\n",
       "      <td>0.004988</td>\n",
       "      <td>2.151762</td>\n",
       "      <td>0.024693</td>\n",
       "      <td>-23.726979</td>\n",
       "      <td>119.294428</td>\n",
       "    </tr>\n",
       "    <tr>\n",
       "      <th>12</th>\n",
       "      <td>4.234107</td>\n",
       "      <td>0.139762</td>\n",
       "      <td>5.327876</td>\n",
       "      <td>2.917771</td>\n",
       "      <td>0.004988</td>\n",
       "      <td>1.526056</td>\n",
       "      <td>0.165514</td>\n",
       "      <td>-23.726545</td>\n",
       "      <td>119.291410</td>\n",
       "    </tr>\n",
       "  </tbody>\n",
       "</table>\n",
       "</div>"
      ],
      "text/plain": [
       "          Zn        Ag        Cu        Pb        Au        Co        Ge  \\\n",
       "6   6.265301  0.246860  4.409155  6.381816  0.004988  3.908015  0.058269   \n",
       "9   4.962845  0.067659  4.510860  3.471966  0.004988  3.165475  0.104360   \n",
       "10  3.871201  0.307485  4.629863  4.570579  0.004988  2.116256  0.095310   \n",
       "11  3.465736  0.048790  4.195697  2.230014  0.004988  2.151762  0.024693   \n",
       "12  4.234107  0.139762  5.327876  2.917771  0.004988  1.526056  0.165514   \n",
       "\n",
       "    wamex_lat   wamex_lon  \n",
       "6  -23.709158  119.271840  \n",
       "9  -23.697506  119.251256  \n",
       "10 -23.700995  119.257777  \n",
       "11 -23.726979  119.294428  \n",
       "12 -23.726545  119.291410  "
      ]
     },
     "metadata": {},
     "execution_count": 302
    }
   ],
   "metadata": {}
  },
  {
   "cell_type": "code",
   "execution_count": 303,
   "source": [
    "X_train, X_test, y_train, y_test = train_test_split(df_loc_in.data, df_loc_in.target, test_size=0.3,random_state=109) # 70% training and 30% test"
   ],
   "outputs": [],
   "metadata": {}
  },
  {
   "cell_type": "code",
   "execution_count": 304,
   "source": [
    "model = GaussianNB()\n",
    "model.fit(X_train, y_train)\n",
    "y_pred = model.predict(X_test)"
   ],
   "outputs": [
    {
     "output_type": "stream",
     "name": "stderr",
     "text": [
      "/Users/xiaohan/opt/anaconda3/lib/python3.8/site-packages/sklearn/utils/validation.py:63: DataConversionWarning: A column-vector y was passed when a 1d array was expected. Please change the shape of y to (n_samples, ), for example using ravel().\n",
      "  return f(*args, **kwargs)\n"
     ]
    }
   ],
   "metadata": {}
  },
  {
   "cell_type": "code",
   "execution_count": 305,
   "source": [
    "print(\"Accuracy:\",metrics.accuracy_score(y_test, y_pred))\n",
    "print(\"Precision:\",metrics.precision_score(y_test, y_pred))\n",
    "print(\"Recall:\",metrics.recall_score(y_test, y_pred))\n",
    "print(\"F1 Score:\", metrics.f1_score(y_test,y_pred))\n",
    "print(\"AUC:\", metrics.roc_auc_score(y_test, y_pred))"
   ],
   "outputs": [
    {
     "output_type": "stream",
     "name": "stdout",
     "text": [
      "Accuracy: 0.9349442379182156\n",
      "Precision: 0.3191489361702128\n",
      "Recall: 0.8333333333333334\n",
      "F1 Score: 0.4615384615384616\n",
      "AUC: 0.885897435897436\n"
     ]
    }
   ],
   "metadata": {}
  },
  {
   "cell_type": "code",
   "execution_count": 306,
   "source": [
    "model = LogisticRegression()\n",
    "model.fit(X_train, y_train)\n",
    "y_pred=model.predict(X_test)"
   ],
   "outputs": [
    {
     "output_type": "stream",
     "name": "stderr",
     "text": [
      "/Users/xiaohan/opt/anaconda3/lib/python3.8/site-packages/sklearn/utils/validation.py:63: DataConversionWarning: A column-vector y was passed when a 1d array was expected. Please change the shape of y to (n_samples, ), for example using ravel().\n",
      "  return f(*args, **kwargs)\n",
      "/Users/xiaohan/opt/anaconda3/lib/python3.8/site-packages/sklearn/linear_model/_logistic.py:763: ConvergenceWarning: lbfgs failed to converge (status=1):\n",
      "STOP: TOTAL NO. of ITERATIONS REACHED LIMIT.\n",
      "\n",
      "Increase the number of iterations (max_iter) or scale the data as shown in:\n",
      "    https://scikit-learn.org/stable/modules/preprocessing.html\n",
      "Please also refer to the documentation for alternative solver options:\n",
      "    https://scikit-learn.org/stable/modules/linear_model.html#logistic-regression\n",
      "  n_iter_i = _check_optimize_result(\n"
     ]
    }
   ],
   "metadata": {}
  },
  {
   "cell_type": "code",
   "execution_count": 307,
   "source": [
    "print(\"Accuracy:\",metrics.accuracy_score(y_test, y_pred))\n",
    "print(\"Precision:\",metrics.precision_score(y_test, y_pred))\n",
    "print(\"Recall:\",metrics.recall_score(y_test, y_pred))\n",
    "print(\"F1 Score:\", metrics.f1_score(y_test,y_pred))\n",
    "print(\"AUC:\", metrics.roc_auc_score(y_test, y_pred))"
   ],
   "outputs": [
    {
     "output_type": "stream",
     "name": "stdout",
     "text": [
      "Accuracy: 0.9758364312267658\n",
      "Precision: 0.7777777777777778\n",
      "Recall: 0.3888888888888889\n",
      "F1 Score: 0.5185185185185185\n",
      "AUC: 0.6925213675213675\n"
     ]
    }
   ],
   "metadata": {}
  },
  {
   "cell_type": "markdown",
   "source": [
    "#### Without location"
   ],
   "metadata": {}
  },
  {
   "cell_type": "code",
   "execution_count": 308,
   "source": [
    "df_loc_in.data = df_loc_in.data.drop(columns=['wamex_lat','wamex_lon'])"
   ],
   "outputs": [],
   "metadata": {}
  },
  {
   "cell_type": "code",
   "execution_count": 309,
   "source": [
    "X_train, X_test, y_train, y_test = train_test_split(df_loc_in.data, df_loc_in.target, test_size=0.3,random_state=109) # 70% training and 30% test"
   ],
   "outputs": [],
   "metadata": {}
  },
  {
   "cell_type": "code",
   "execution_count": 310,
   "source": [
    "model = GaussianNB()\n",
    "model.fit(X_train, y_train)\n",
    "y_pred = model.predict(X_test)\n",
    "print(\"Accuracy:\",metrics.accuracy_score(y_test, y_pred))\n",
    "print(\"Precision:\",metrics.precision_score(y_test, y_pred))\n",
    "print(\"Recall:\",metrics.recall_score(y_test, y_pred))\n",
    "print(\"F1 Score:\", metrics.f1_score(y_test,y_pred))\n",
    "print(\"AUC:\", metrics.roc_auc_score(y_test, y_pred))"
   ],
   "outputs": [
    {
     "output_type": "stream",
     "name": "stdout",
     "text": [
      "Accuracy: 0.9423791821561338\n",
      "Precision: 0.3488372093023256\n",
      "Recall: 0.8333333333333334\n",
      "F1 Score: 0.4918032786885246\n",
      "AUC: 0.8897435897435898\n"
     ]
    },
    {
     "output_type": "stream",
     "name": "stderr",
     "text": [
      "/Users/xiaohan/opt/anaconda3/lib/python3.8/site-packages/sklearn/utils/validation.py:63: DataConversionWarning: A column-vector y was passed when a 1d array was expected. Please change the shape of y to (n_samples, ), for example using ravel().\n",
      "  return f(*args, **kwargs)\n"
     ]
    }
   ],
   "metadata": {}
  },
  {
   "cell_type": "code",
   "execution_count": 311,
   "source": [
    "model = LogisticRegression()\n",
    "model.fit(X_train, y_train)\n",
    "y_pred=model.predict(X_test)\n",
    "print(\"Accuracy:\",metrics.accuracy_score(y_test, y_pred))\n",
    "print(\"Precision:\",metrics.precision_score(y_test, y_pred))\n",
    "print(\"Recall:\",metrics.recall_score(y_test, y_pred))\n",
    "print(\"F1 Score:\", metrics.f1_score(y_test,y_pred))\n",
    "print(\"AUC:\", metrics.roc_auc_score(y_test, y_pred))"
   ],
   "outputs": [
    {
     "output_type": "stream",
     "name": "stderr",
     "text": [
      "/Users/xiaohan/opt/anaconda3/lib/python3.8/site-packages/sklearn/utils/validation.py:63: DataConversionWarning: A column-vector y was passed when a 1d array was expected. Please change the shape of y to (n_samples, ), for example using ravel().\n",
      "  return f(*args, **kwargs)\n"
     ]
    },
    {
     "output_type": "stream",
     "name": "stdout",
     "text": [
      "Accuracy: 0.983271375464684\n",
      "Precision: 1.0\n",
      "Recall: 0.5\n",
      "F1 Score: 0.6666666666666666\n",
      "AUC: 0.75\n"
     ]
    }
   ],
   "metadata": {}
  },
  {
   "cell_type": "markdown",
   "source": [
    "#### Add LIME"
   ],
   "metadata": {}
  },
  {
   "cell_type": "code",
   "execution_count": 312,
   "source": [
    "X_train.columns"
   ],
   "outputs": [
    {
     "output_type": "execute_result",
     "data": {
      "text/plain": [
       "Index(['Zn', 'Ag', 'Cu', 'Pb', 'Au', 'Co', 'Ge'], dtype='object')"
      ]
     },
     "metadata": {},
     "execution_count": 312
    }
   ],
   "metadata": {}
  },
  {
   "cell_type": "code",
   "execution_count": 313,
   "source": [
    "feature_names = [\"Zn\",\"Ag\",\"Cu\",\"Pb\",\"Au\",\"Co\",\"Ge\"]\n",
    "class_names = [\"Not abundance\",\"Abundance\"]"
   ],
   "outputs": [],
   "metadata": {}
  },
  {
   "cell_type": "code",
   "execution_count": 314,
   "source": [
    "import lime\n",
    "import lime.lime_tabular\n",
    "explainer = lime.lime_tabular.LimeTabularExplainer(X_train.iloc[:,:].values, feature_names=feature_names, class_names=class_names)\n",
    "i = np.random.randint(0, X_test.shape[0])\n"
   ],
   "outputs": [],
   "metadata": {}
  },
  {
   "cell_type": "code",
   "execution_count": 315,
   "source": [
    "X_test.iloc[i,:]"
   ],
   "outputs": [
    {
     "output_type": "execute_result",
     "data": {
      "text/plain": [
       "Zn    3.178054\n",
       "Ag    0.076961\n",
       "Cu    0.009287\n",
       "Pb    1.648659\n",
       "Au    0.001998\n",
       "Co    1.131402\n",
       "Ge    0.048790\n",
       "Name: 1057, dtype: float64"
      ]
     },
     "metadata": {},
     "execution_count": 315
    }
   ],
   "metadata": {}
  },
  {
   "cell_type": "code",
   "execution_count": 316,
   "source": [
    "exp = explainer.explain_instance(X_test.iloc[i,:], model, num_features=2,top_labels=1)\n",
    "exp.show_in_notebook(show_table=True,show_all=False)"
   ],
   "outputs": [
    {
     "output_type": "error",
     "ename": "TypeError",
     "evalue": "'LogisticRegression' object is not callable",
     "traceback": [
      "\u001b[0;31m---------------------------------------------------------------------------\u001b[0m",
      "\u001b[0;31mTypeError\u001b[0m                                 Traceback (most recent call last)",
      "\u001b[0;32m<ipython-input-316-27c42bce5fe8>\u001b[0m in \u001b[0;36m<module>\u001b[0;34m\u001b[0m\n\u001b[0;32m----> 1\u001b[0;31m \u001b[0mexp\u001b[0m \u001b[0;34m=\u001b[0m \u001b[0mexplainer\u001b[0m\u001b[0;34m.\u001b[0m\u001b[0mexplain_instance\u001b[0m\u001b[0;34m(\u001b[0m\u001b[0mX_test\u001b[0m\u001b[0;34m.\u001b[0m\u001b[0miloc\u001b[0m\u001b[0;34m[\u001b[0m\u001b[0mi\u001b[0m\u001b[0;34m,\u001b[0m\u001b[0;34m:\u001b[0m\u001b[0;34m]\u001b[0m\u001b[0;34m,\u001b[0m \u001b[0mmodel\u001b[0m\u001b[0;34m,\u001b[0m \u001b[0mnum_features\u001b[0m\u001b[0;34m=\u001b[0m\u001b[0;36m2\u001b[0m\u001b[0;34m,\u001b[0m\u001b[0mtop_labels\u001b[0m\u001b[0;34m=\u001b[0m\u001b[0;36m1\u001b[0m\u001b[0;34m)\u001b[0m\u001b[0;34m\u001b[0m\u001b[0;34m\u001b[0m\u001b[0m\n\u001b[0m\u001b[1;32m      2\u001b[0m \u001b[0mexp\u001b[0m\u001b[0;34m.\u001b[0m\u001b[0mshow_in_notebook\u001b[0m\u001b[0;34m(\u001b[0m\u001b[0mshow_table\u001b[0m\u001b[0;34m=\u001b[0m\u001b[0;32mTrue\u001b[0m\u001b[0;34m,\u001b[0m\u001b[0mshow_all\u001b[0m\u001b[0;34m=\u001b[0m\u001b[0;32mFalse\u001b[0m\u001b[0;34m)\u001b[0m\u001b[0;34m\u001b[0m\u001b[0;34m\u001b[0m\u001b[0m\n",
      "\u001b[0;32m~/opt/anaconda3/lib/python3.8/site-packages/lime/lime_tabular.py\u001b[0m in \u001b[0;36mexplain_instance\u001b[0;34m(self, data_row, predict_fn, labels, top_labels, num_features, num_samples, distance_metric, model_regressor)\u001b[0m\n\u001b[1;32m    353\u001b[0m         ).ravel()\n\u001b[1;32m    354\u001b[0m \u001b[0;34m\u001b[0m\u001b[0m\n\u001b[0;32m--> 355\u001b[0;31m         \u001b[0myss\u001b[0m \u001b[0;34m=\u001b[0m \u001b[0mpredict_fn\u001b[0m\u001b[0;34m(\u001b[0m\u001b[0minverse\u001b[0m\u001b[0;34m)\u001b[0m\u001b[0;34m\u001b[0m\u001b[0;34m\u001b[0m\u001b[0m\n\u001b[0m\u001b[1;32m    356\u001b[0m \u001b[0;34m\u001b[0m\u001b[0m\n\u001b[1;32m    357\u001b[0m         \u001b[0;31m# for classification, the model needs to provide a list of tuples - classes\u001b[0m\u001b[0;34m\u001b[0m\u001b[0;34m\u001b[0m\u001b[0;34m\u001b[0m\u001b[0m\n",
      "\u001b[0;31mTypeError\u001b[0m: 'LogisticRegression' object is not callable"
     ]
    }
   ],
   "metadata": {}
  },
  {
   "cell_type": "markdown",
   "source": [
    "### Add shap"
   ],
   "metadata": {}
  },
  {
   "cell_type": "code",
   "execution_count": 317,
   "source": [
    "import shap\n",
    "explainer = shap.LinearExplainer(model,\n",
    "                                 X_train,\n",
    "                                 feature_dependence=\"independent\")"
   ],
   "outputs": [
    {
     "output_type": "stream",
     "name": "stderr",
     "text": [
      "The option feature_dependence has been renamed to feature_perturbation!\n",
      "The option feature_perturbation=\"independent\" is has been renamed to feature_perturbation=\"interventional\"!\n",
      "The feature_perturbation option is now deprecated in favor of using the appropriate masker (maskers.Independent, or maskers.Impute)\n"
     ]
    }
   ],
   "metadata": {}
  },
  {
   "cell_type": "code",
   "execution_count": 318,
   "source": [
    "shap_values = explainer.shap_values(X_test)\n",
    "shap_values[0]"
   ],
   "outputs": [
    {
     "output_type": "execute_result",
     "data": {
      "text/plain": [
       "array([ 2.05455008,  1.493696  ,  1.97235646,  0.04767877,  0.01303496,\n",
       "        0.01491232, -0.04362652])"
      ]
     },
     "metadata": {},
     "execution_count": 318
    }
   ],
   "metadata": {}
  },
  {
   "cell_type": "code",
   "execution_count": 319,
   "source": [
    "\n",
    "shap.summary_plot(shap_values,\n",
    "                  X_test,\n",
    "                  feature_names=X_test.columns)"
   ],
   "outputs": [
    {
     "output_type": "display_data",
     "data": {
      "image/png": "[encoded data removed]",
      "text/plain": [
       "<Figure size 576x309.6 with 2 Axes>"
      ]
     },
     "metadata": {
      "needs_background": "light"
     }
    }
   ],
   "metadata": {}
  }
 ],
 "metadata": {
  "orig_nbformat": 4,
  "language_info": {
   "name": "python",
   "version": "3.8.8",
   "mimetype": "text/x-python",
   "codemirror_mode": {
    "name": "ipython",
    "version": 3
   },
   "pygments_lexer": "ipython3",
   "nbconvert_exporter": "python",
   "file_extension": ".py"
  },
  "kernelspec": {
   "name": "python3",
   "display_name": "Python 3.8.8 64-bit ('base': conda)"
  },
  "interpreter": {
   "hash": "4b6ce3d9d4632f7faa340b61d26070a6f1f1f22535258ce7e9839d3e212935ed"
  }
 },
 "nbformat": 4,
 "nbformat_minor": 2
}