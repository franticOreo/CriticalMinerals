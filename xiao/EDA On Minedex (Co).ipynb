{
 "cells": [
  {
   "cell_type": "markdown",
   "source": [
    "# Explore on Minedex  (Cobalt)"
   ],
   "metadata": {}
  },
  {
   "cell_type": "markdown",
   "source": [
    "## EDA"
   ],
   "metadata": {}
  },
  {
   "cell_type": "markdown",
   "source": [
    "### Load Data"
   ],
   "metadata": {}
  },
  {
   "cell_type": "code",
   "execution_count": 3,
   "source": [
    "import pandas as pd\n",
    "import os\n",
    "%matplotlib inline\n",
    "os.getcwd()"
   ],
   "outputs": [
    {
     "output_type": "execute_result",
     "data": {
      "text/plain": [
       "'/Users/xiaohan/Documents/CriticalMinerals/xiao'"
      ]
     },
     "metadata": {},
     "execution_count": 3
    }
   ],
   "metadata": {}
  },
  {
   "cell_type": "code",
   "execution_count": 4,
   "source": [
    "df = pd.read_csv('~/Documents/CMProject/Data/MINEDEX/MINEDEX_CSV_20210728/ResourceEstimates.csv')"
   ],
   "outputs": [],
   "metadata": {}
  },
  {
   "cell_type": "code",
   "execution_count": 5,
   "source": [
    "df.shape"
   ],
   "outputs": [
    {
     "output_type": "execute_result",
     "data": {
      "text/plain": [
       "(57535, 24)"
      ]
     },
     "metadata": {},
     "execution_count": 5
    }
   ],
   "metadata": {}
  },
  {
   "cell_type": "code",
   "execution_count": 6,
   "source": [
    "df.head"
   ],
   "outputs": [
    {
     "output_type": "execute_result",
     "data": {
      "text/plain": [
       "<bound method NDFrame.head of        SiteCode       ShortTitle  ResourceCode   StartDate     EndDate  \\\n",
       "0      S0000001  Pieces of Eight             1  13/07/2005  14/09/2006   \n",
       "1      S0000002     Albury Heath             2  30/06/1999  01/10/2003   \n",
       "2      S0000002     Albury Heath             3  04/06/2003  06/02/2017   \n",
       "3      S0000002     Albury Heath             4  04/06/2003  06/02/2017   \n",
       "4      S0000002     Albury Heath         28452  07/02/2017  11/03/2019   \n",
       "...         ...              ...           ...         ...         ...   \n",
       "57530  S0239459    DSO Resources         44501  31/12/2020         NaN   \n",
       "57531  S0239459    DSO Resources         44502  31/12/2020         NaN   \n",
       "57532  S0239459    DSO Resources         44503  31/12/2020         NaN   \n",
       "57533  S0239459    DSO Resources         44504  31/12/2020         NaN   \n",
       "57534  S0239459    DSO Resources         44505  31/12/2020         NaN   \n",
       "\n",
       "                       ReportingStandard JORCCategory JORCStatus  \\\n",
       "0                                Unknown     Resource   Inferred   \n",
       "1                                Unknown     Resource  Indicated   \n",
       "2                                Unknown     Resource   Measured   \n",
       "3                                Unknown     Resource  Indicated   \n",
       "4      JORC (Australia, version unknown)     Resource  Indicated   \n",
       "...                                  ...          ...        ...   \n",
       "57530              2012 JORC (Australia)      Reserve     Proven   \n",
       "57531              2012 JORC (Australia)      Reserve     Proven   \n",
       "57532              2012 JORC (Australia)      Reserve   Probable   \n",
       "57533              2012 JORC (Australia)      Reserve   Probable   \n",
       "57534              2012 JORC (Australia)      Reserve   Probable   \n",
       "\n",
       "      IN_TOTAL_FLAG                    In Total Type  ...  ContainedMetal  \\\n",
       "0                No                     Not in Total  ...          903.50   \n",
       "1                No                     Not in Total  ...          379.48   \n",
       "2               Yes                        Resources  ...          108.16   \n",
       "3               Yes                        Resources  ...          361.68   \n",
       "4               Yes                        Resources  ...          675.00   \n",
       "...             ...                              ...  ...             ...   \n",
       "57530           Yes  Reserves overlap with Resources  ...            0.00   \n",
       "57531           Yes  Reserves overlap with Resources  ...         1200.00   \n",
       "57532           Yes  Reserves overlap with Resources  ...        30000.00   \n",
       "57533           Yes  Reserves overlap with Resources  ...         6600.00   \n",
       "57534           Yes  Reserves overlap with Resources  ...         4000.00   \n",
       "\n",
       "       ContainedMetalUnit CutOffGrade CutOffGradeUnit  HeavyMineralPct  \\\n",
       "0                kilogram         NaN      gram/tonne              NaN   \n",
       "1                kilogram         NaN      gram/tonne              NaN   \n",
       "2                kilogram         NaN      gram/tonne              NaN   \n",
       "3                kilogram         NaN      gram/tonne              NaN   \n",
       "4                kilogram         0.5      gram/tonne              NaN   \n",
       "...                   ...         ...             ...              ...   \n",
       "57530            kilogram         2.0      gram/tonne              NaN   \n",
       "57531            kilogram         0.4      gram/tonne              NaN   \n",
       "57532            kilogram         0.6      gram/tonne              NaN   \n",
       "57533            kilogram         2.0      gram/tonne              NaN   \n",
       "57534            kilogram         0.4      gram/tonne              NaN   \n",
       "\n",
       "      TargetCommodityGroup           Site_MineralizationStyle  \\\n",
       "0                     GOLD  Vein and hydrothermal - undivided   \n",
       "1                     GOLD  Vein and hydrothermal - undivided   \n",
       "2                     GOLD  Vein and hydrothermal - undivided   \n",
       "3                     GOLD  Vein and hydrothermal - undivided   \n",
       "4                     GOLD  Vein and hydrothermal - undivided   \n",
       "...                    ...                                ...   \n",
       "57530                 GOLD                 Unknown/Unassigned   \n",
       "57531                 GOLD                 Unknown/Unassigned   \n",
       "57532                 GOLD                 Unknown/Unassigned   \n",
       "57533                 GOLD                 Unknown/Unassigned   \n",
       "57534                 GOLD                 Unknown/Unassigned   \n",
       "\n",
       "      Site_SecondaryMineralizationStyle  Resource_MineralizationStyle  \\\n",
       "0                    Unknown/Unassigned            Unknown/Unassigned   \n",
       "1                Au in shears or faults            Unknown/Unassigned   \n",
       "2                Au in shears or faults            Unknown/Unassigned   \n",
       "3                Au in shears or faults            Unknown/Unassigned   \n",
       "4                Au in shears or faults            Unknown/Unassigned   \n",
       "...                                 ...                           ...   \n",
       "57530                Unknown/Unassigned                           NaN   \n",
       "57531                Unknown/Unassigned                           NaN   \n",
       "57532                Unknown/Unassigned                           NaN   \n",
       "57533                Unknown/Unassigned                           NaN   \n",
       "57534                Unknown/Unassigned                           NaN   \n",
       "\n",
       "      Resource_SecondaryMineralizationStyle  \n",
       "0                        Unknown/Unassigned  \n",
       "1                    Au in shears or faults  \n",
       "2                        Unknown/Unassigned  \n",
       "3                        Unknown/Unassigned  \n",
       "4                        Unknown/Unassigned  \n",
       "...                                     ...  \n",
       "57530                                   NaN  \n",
       "57531                                   NaN  \n",
       "57532                                   NaN  \n",
       "57533                                   NaN  \n",
       "57534                                   NaN  \n",
       "\n",
       "[57535 rows x 24 columns]>"
      ]
     },
     "metadata": {},
     "execution_count": 6
    }
   ],
   "metadata": {}
  },
  {
   "cell_type": "code",
   "execution_count": 7,
   "source": [
    "df.columns"
   ],
   "outputs": [
    {
     "output_type": "execute_result",
     "data": {
      "text/plain": [
       "Index(['SiteCode', 'ShortTitle', 'ResourceCode', 'StartDate', 'EndDate',\n",
       "       'ReportingStandard', 'JORCCategory', 'JORCStatus', 'IN_TOTAL_FLAG',\n",
       "       'In Total Type', 'Tonnage (Mt)', 'Grade', 'GradeUnit', 'CommodityName',\n",
       "       'ContainedMetal', 'ContainedMetalUnit', 'CutOffGrade',\n",
       "       'CutOffGradeUnit', 'HeavyMineralPct', 'TargetCommodityGroup',\n",
       "       'Site_MineralizationStyle', 'Site_SecondaryMineralizationStyle',\n",
       "       'Resource_MineralizationStyle',\n",
       "       'Resource_SecondaryMineralizationStyle'],\n",
       "      dtype='object')"
      ]
     },
     "metadata": {},
     "execution_count": 7
    }
   ],
   "metadata": {}
  },
  {
   "cell_type": "markdown",
   "source": [
    "### Nulls"
   ],
   "metadata": {}
  },
  {
   "cell_type": "code",
   "execution_count": 11,
   "source": [
    "df.isnull"
   ],
   "outputs": [
    {
     "output_type": "execute_result",
     "data": {
      "text/plain": [
       "<bound method DataFrame.isnull of        SiteCode       ShortTitle  ResourceCode   StartDate     EndDate  \\\n",
       "0      S0000001  Pieces of Eight             1  13/07/2005  14/09/2006   \n",
       "1      S0000002     Albury Heath             2  30/06/1999  01/10/2003   \n",
       "2      S0000002     Albury Heath             3  04/06/2003  06/02/2017   \n",
       "3      S0000002     Albury Heath             4  04/06/2003  06/02/2017   \n",
       "4      S0000002     Albury Heath         28452  07/02/2017  11/03/2019   \n",
       "...         ...              ...           ...         ...         ...   \n",
       "57530  S0239459    DSO Resources         44501  31/12/2020         NaN   \n",
       "57531  S0239459    DSO Resources         44502  31/12/2020         NaN   \n",
       "57532  S0239459    DSO Resources         44503  31/12/2020         NaN   \n",
       "57533  S0239459    DSO Resources         44504  31/12/2020         NaN   \n",
       "57534  S0239459    DSO Resources         44505  31/12/2020         NaN   \n",
       "\n",
       "                       ReportingStandard JORCCategory JORCStatus  \\\n",
       "0                                Unknown     Resource   Inferred   \n",
       "1                                Unknown     Resource  Indicated   \n",
       "2                                Unknown     Resource   Measured   \n",
       "3                                Unknown     Resource  Indicated   \n",
       "4      JORC (Australia, version unknown)     Resource  Indicated   \n",
       "...                                  ...          ...        ...   \n",
       "57530              2012 JORC (Australia)      Reserve     Proven   \n",
       "57531              2012 JORC (Australia)      Reserve     Proven   \n",
       "57532              2012 JORC (Australia)      Reserve   Probable   \n",
       "57533              2012 JORC (Australia)      Reserve   Probable   \n",
       "57534              2012 JORC (Australia)      Reserve   Probable   \n",
       "\n",
       "      IN_TOTAL_FLAG                    In Total Type  ...  ContainedMetal  \\\n",
       "0                No                     Not in Total  ...          903.50   \n",
       "1                No                     Not in Total  ...          379.48   \n",
       "2               Yes                        Resources  ...          108.16   \n",
       "3               Yes                        Resources  ...          361.68   \n",
       "4               Yes                        Resources  ...          675.00   \n",
       "...             ...                              ...  ...             ...   \n",
       "57530           Yes  Reserves overlap with Resources  ...            0.00   \n",
       "57531           Yes  Reserves overlap with Resources  ...         1200.00   \n",
       "57532           Yes  Reserves overlap with Resources  ...        30000.00   \n",
       "57533           Yes  Reserves overlap with Resources  ...         6600.00   \n",
       "57534           Yes  Reserves overlap with Resources  ...         4000.00   \n",
       "\n",
       "       ContainedMetalUnit CutOffGrade CutOffGradeUnit  HeavyMineralPct  \\\n",
       "0                kilogram         NaN      gram/tonne              NaN   \n",
       "1                kilogram         NaN      gram/tonne              NaN   \n",
       "2                kilogram         NaN      gram/tonne              NaN   \n",
       "3                kilogram         NaN      gram/tonne              NaN   \n",
       "4                kilogram         0.5      gram/tonne              NaN   \n",
       "...                   ...         ...             ...              ...   \n",
       "57530            kilogram         2.0      gram/tonne              NaN   \n",
       "57531            kilogram         0.4      gram/tonne              NaN   \n",
       "57532            kilogram         0.6      gram/tonne              NaN   \n",
       "57533            kilogram         2.0      gram/tonne              NaN   \n",
       "57534            kilogram         0.4      gram/tonne              NaN   \n",
       "\n",
       "      TargetCommodityGroup           Site_MineralizationStyle  \\\n",
       "0                     GOLD  Vein and hydrothermal - undivided   \n",
       "1                     GOLD  Vein and hydrothermal - undivided   \n",
       "2                     GOLD  Vein and hydrothermal - undivided   \n",
       "3                     GOLD  Vein and hydrothermal - undivided   \n",
       "4                     GOLD  Vein and hydrothermal - undivided   \n",
       "...                    ...                                ...   \n",
       "57530                 GOLD                 Unknown/Unassigned   \n",
       "57531                 GOLD                 Unknown/Unassigned   \n",
       "57532                 GOLD                 Unknown/Unassigned   \n",
       "57533                 GOLD                 Unknown/Unassigned   \n",
       "57534                 GOLD                 Unknown/Unassigned   \n",
       "\n",
       "      Site_SecondaryMineralizationStyle  Resource_MineralizationStyle  \\\n",
       "0                    Unknown/Unassigned            Unknown/Unassigned   \n",
       "1                Au in shears or faults            Unknown/Unassigned   \n",
       "2                Au in shears or faults            Unknown/Unassigned   \n",
       "3                Au in shears or faults            Unknown/Unassigned   \n",
       "4                Au in shears or faults            Unknown/Unassigned   \n",
       "...                                 ...                           ...   \n",
       "57530                Unknown/Unassigned                           NaN   \n",
       "57531                Unknown/Unassigned                           NaN   \n",
       "57532                Unknown/Unassigned                           NaN   \n",
       "57533                Unknown/Unassigned                           NaN   \n",
       "57534                Unknown/Unassigned                           NaN   \n",
       "\n",
       "      Resource_SecondaryMineralizationStyle  \n",
       "0                        Unknown/Unassigned  \n",
       "1                    Au in shears or faults  \n",
       "2                        Unknown/Unassigned  \n",
       "3                        Unknown/Unassigned  \n",
       "4                        Unknown/Unassigned  \n",
       "...                                     ...  \n",
       "57530                                   NaN  \n",
       "57531                                   NaN  \n",
       "57532                                   NaN  \n",
       "57533                                   NaN  \n",
       "57534                                   NaN  \n",
       "\n",
       "[57535 rows x 24 columns]>"
      ]
     },
     "metadata": {},
     "execution_count": 11
    }
   ],
   "metadata": {}
  },
  {
   "cell_type": "markdown",
   "source": [
    "## Sites With Cobalt"
   ],
   "metadata": {}
  },
  {
   "cell_type": "code",
   "execution_count": 19,
   "source": [
    "df_cobalt = df[df[\"CommodityName\"] == \"Cobalt\"]"
   ],
   "outputs": [],
   "metadata": {}
  },
  {
   "cell_type": "code",
   "execution_count": 20,
   "source": [
    "df_cobalt.shape"
   ],
   "outputs": [
    {
     "output_type": "execute_result",
     "data": {
      "text/plain": [
       "(1187, 24)"
      ]
     },
     "metadata": {},
     "execution_count": 20
    }
   ],
   "metadata": {}
  },
  {
   "cell_type": "code",
   "execution_count": 14,
   "source": [
    "df_cobalt.Resource_MineralizationStyle.unique()"
   ],
   "outputs": [
    {
     "output_type": "execute_result",
     "data": {
      "text/plain": [
       "array(['Unknown/Unassigned', 'Regolith - residual and supergene', nan,\n",
       "       'Stratabound volcanic and sedimentary - volcanic-hosted sulfide',\n",
       "       'Orthomagmatic mafic and ultramafic - layered mafic intrusions',\n",
       "       'Orthomagmatic mafic and ultramafic - komatiitic or dunitic',\n",
       "       'Stratabound sedimentary - undivided',\n",
       "       'Stratabound sedimentary - carbonate-hosted',\n",
       "       'Vein and hydrothermal - undivided',\n",
       "       'Regolith - residual to eluvial placers',\n",
       "       'Orthomagmatic mafic and ultramafic - undivided'], dtype=object)"
      ]
     },
     "metadata": {},
     "execution_count": 14
    }
   ],
   "metadata": {}
  },
  {
   "cell_type": "markdown",
   "source": [
    "// TODO: Find similar value on Orthomagmatic mafic and ultramafic - "
   ],
   "metadata": {}
  },
  {
   "cell_type": "code",
   "execution_count": 15,
   "source": [
    "deposit1 = 'Orthomagmatic mafic and ultramafic - layered mafic intrusions'\n",
    "deposit2 = 'Orthomagmatic mafic and ultramafic - komatiitic or dunitic'\n",
    "deposit3 = 'Orthomagmatic mafic and ultramafic - undivided'"
   ],
   "outputs": [],
   "metadata": {}
  },
  {
   "cell_type": "code",
   "execution_count": 21,
   "source": [
    "df_cobalt = df_cobalt[ (df_cobalt['Site_MineralizationStyle']==deposit1 )| (df_cobalt['Site_MineralizationStyle']== deposit2 )| (df_cobalt['Site_MineralizationStyle']==deposit3)]"
   ],
   "outputs": [],
   "metadata": {}
  },
  {
   "cell_type": "code",
   "execution_count": 22,
   "source": [
    "df_cobalt.shape"
   ],
   "outputs": [
    {
     "output_type": "execute_result",
     "data": {
      "text/plain": [
       "(322, 24)"
      ]
     },
     "metadata": {},
     "execution_count": 22
    }
   ],
   "metadata": {}
  },
  {
   "cell_type": "code",
   "execution_count": 23,
   "source": [
    "df_cobalt.head"
   ],
   "outputs": [
    {
     "output_type": "execute_result",
     "data": {
      "text/plain": [
       "<bound method NDFrame.head of        SiteCode       ShortTitle  ResourceCode   StartDate     EndDate  \\\n",
       "5856   S0001273   Honeymoon Well          2100  31/12/1999  30/12/2009   \n",
       "6394   S0001316  Widgie Townsite          2352  22/06/2005  23/06/2005   \n",
       "6396   S0001316  Widgie Townsite          2353  22/06/2005  23/06/2005   \n",
       "6398   S0001316  Widgie Townsite          2354  22/06/2005  23/06/2005   \n",
       "6410   S0001316  Widgie Townsite         44845  29/06/2021         NaN   \n",
       "...         ...              ...           ...         ...         ...   \n",
       "54233  S0231765   Savannah North         42805  30/06/2020         NaN   \n",
       "55178  S0233282    Lower Schmitz         27133  28/04/2016         NaN   \n",
       "55182  S0233282    Lower Schmitz         27134  28/04/2016         NaN   \n",
       "56218  S0235782          Saints          28920  04/05/2017         NaN   \n",
       "57469  S0238655      Resource Gp         42680  26/03/2019         NaN   \n",
       "\n",
       "                       ReportingStandard JORCCategory JORCStatus  \\\n",
       "5856   JORC (Australia, version unknown)     Resource   Inferred   \n",
       "6394                             Unknown     Resource   Inferred   \n",
       "6396                             Unknown     Resource   Inferred   \n",
       "6398                             Unknown     Resource   Inferred   \n",
       "6410               2012 JORC (Australia)     Resource  Indicated   \n",
       "...                                  ...          ...        ...   \n",
       "54233              2012 JORC (Australia)      Reserve   Probable   \n",
       "55178              2012 JORC (Australia)     Resource  Indicated   \n",
       "55182              2012 JORC (Australia)     Resource   Inferred   \n",
       "56218              2012 JORC (Australia)     Resource   Inferred   \n",
       "57469              2012 JORC (Australia)     Resource   Inferred   \n",
       "\n",
       "      IN_TOTAL_FLAG                    In Total Type  ...  ContainedMetal  \\\n",
       "5856            Yes                        Resources  ...      150000.000   \n",
       "6394             No                     Not in Total  ...         278.160   \n",
       "6396             No                     Not in Total  ...         729.440   \n",
       "6398             No                     Not in Total  ...          55.800   \n",
       "6410            Yes  Resources inclusive of Reserves  ...         629.356   \n",
       "...             ...                              ...  ...             ...   \n",
       "54233           Yes  Reserves overlap with Resources  ...        4721.400   \n",
       "55178           Yes  Resources inclusive of Reserves  ...          51.000   \n",
       "55182           Yes                        Resources  ...          71.100   \n",
       "56218           Yes                        Resources  ...         630.000   \n",
       "57469           Yes                        Resources  ...        3381.000   \n",
       "\n",
       "       ContainedMetalUnit CutOffGrade CutOffGradeUnit  HeavyMineralPct  \\\n",
       "5856               tonnes         NaN         percent              NaN   \n",
       "6394               tonnes         NaN         percent              NaN   \n",
       "6396               tonnes         NaN         percent              NaN   \n",
       "6398               tonnes         NaN         percent              NaN   \n",
       "6410               tonnes         NaN         percent              NaN   \n",
       "...                   ...         ...             ...              ...   \n",
       "54233              tonnes         NaN         percent              NaN   \n",
       "55178              tonnes         NaN         percent              NaN   \n",
       "55182              tonnes         NaN         percent              NaN   \n",
       "56218              tonnes         NaN         percent              NaN   \n",
       "57469              tonnes         NaN         percent              NaN   \n",
       "\n",
       "      TargetCommodityGroup                           Site_MineralizationStyle  \\\n",
       "5856                NICKEL  Orthomagmatic mafic and ultramafic - komatiiti...   \n",
       "6394                NICKEL  Orthomagmatic mafic and ultramafic - komatiiti...   \n",
       "6396                NICKEL  Orthomagmatic mafic and ultramafic - komatiiti...   \n",
       "6398                NICKEL  Orthomagmatic mafic and ultramafic - komatiiti...   \n",
       "6410                NICKEL  Orthomagmatic mafic and ultramafic - komatiiti...   \n",
       "...                    ...                                                ...   \n",
       "54233               NICKEL  Orthomagmatic mafic and ultramafic - layered m...   \n",
       "55178               NICKEL  Orthomagmatic mafic and ultramafic - komatiiti...   \n",
       "55182               NICKEL  Orthomagmatic mafic and ultramafic - komatiiti...   \n",
       "56218               NICKEL  Orthomagmatic mafic and ultramafic - komatiiti...   \n",
       "57469  VANADIUM - TITANIUM  Orthomagmatic mafic and ultramafic - layered m...   \n",
       "\n",
       "      Site_SecondaryMineralizationStyle  \\\n",
       "5856                   Nickel in dunite   \n",
       "6394                   Nickel in dunite   \n",
       "6396                   Nickel in dunite   \n",
       "6398                   Nickel in dunite   \n",
       "6410                   Nickel in dunite   \n",
       "...                                 ...   \n",
       "54233           Ni in layered intrusion   \n",
       "55178                  Nickel in dunite   \n",
       "55182                  Nickel in dunite   \n",
       "56218                  Nickel in dunite   \n",
       "57469            Titaniferous magnetite   \n",
       "\n",
       "                         Resource_MineralizationStyle  \\\n",
       "5856                Regolith - residual and supergene   \n",
       "6394                               Unknown/Unassigned   \n",
       "6396                               Unknown/Unassigned   \n",
       "6398                               Unknown/Unassigned   \n",
       "6410                                              NaN   \n",
       "...                                               ...   \n",
       "54233                                             NaN   \n",
       "55178                              Unknown/Unassigned   \n",
       "55182                              Unknown/Unassigned   \n",
       "56218  Orthomagmatic mafic and ultramafic - undivided   \n",
       "57469                                             NaN   \n",
       "\n",
       "      Resource_SecondaryMineralizationStyle  \n",
       "5856                       Lateritic nickel  \n",
       "6394                   Nickel in peridotite  \n",
       "6396                   Nickel in peridotite  \n",
       "6398                   Nickel in peridotite  \n",
       "6410                                    NaN  \n",
       "...                                     ...  \n",
       "54233                                   NaN  \n",
       "55178                    Unknown/Unassigned  \n",
       "55182                    Unknown/Unassigned  \n",
       "56218                    Unknown/Unassigned  \n",
       "57469                                   NaN  \n",
       "\n",
       "[322 rows x 24 columns]>"
      ]
     },
     "metadata": {},
     "execution_count": 23
    }
   ],
   "metadata": {}
  },
  {
   "cell_type": "code",
   "execution_count": 24,
   "source": [
    "df_cobalt.columns"
   ],
   "outputs": [
    {
     "output_type": "execute_result",
     "data": {
      "text/plain": [
       "Index(['SiteCode', 'ShortTitle', 'ResourceCode', 'StartDate', 'EndDate',\n",
       "       'ReportingStandard', 'JORCCategory', 'JORCStatus', 'IN_TOTAL_FLAG',\n",
       "       'In Total Type', 'Tonnage (Mt)', 'Grade', 'GradeUnit', 'CommodityName',\n",
       "       'ContainedMetal', 'ContainedMetalUnit', 'CutOffGrade',\n",
       "       'CutOffGradeUnit', 'HeavyMineralPct', 'TargetCommodityGroup',\n",
       "       'Site_MineralizationStyle', 'Site_SecondaryMineralizationStyle',\n",
       "       'Resource_MineralizationStyle',\n",
       "       'Resource_SecondaryMineralizationStyle'],\n",
       "      dtype='object')"
      ]
     },
     "metadata": {},
     "execution_count": 24
    }
   ],
   "metadata": {}
  },
  {
   "cell_type": "code",
   "execution_count": 25,
   "source": [
    "df_cobalt.sample(5)"
   ],
   "outputs": [
    {
     "output_type": "execute_result",
     "data": {
      "text/html": [
       "<div>\n",
       "<style scoped>\n",
       "    .dataframe tbody tr th:only-of-type {\n",
       "        vertical-align: middle;\n",
       "    }\n",
       "\n",
       "    .dataframe tbody tr th {\n",
       "        vertical-align: top;\n",
       "    }\n",
       "\n",
       "    .dataframe thead th {\n",
       "        text-align: right;\n",
       "    }\n",
       "</style>\n",
       "<table border=\"1\" class=\"dataframe\">\n",
       "  <thead>\n",
       "    <tr style=\"text-align: right;\">\n",
       "      <th></th>\n",
       "      <th>SiteCode</th>\n",
       "      <th>ShortTitle</th>\n",
       "      <th>ResourceCode</th>\n",
       "      <th>StartDate</th>\n",
       "      <th>EndDate</th>\n",
       "      <th>ReportingStandard</th>\n",
       "      <th>JORCCategory</th>\n",
       "      <th>JORCStatus</th>\n",
       "      <th>IN_TOTAL_FLAG</th>\n",
       "      <th>In Total Type</th>\n",
       "      <th>...</th>\n",
       "      <th>ContainedMetal</th>\n",
       "      <th>ContainedMetalUnit</th>\n",
       "      <th>CutOffGrade</th>\n",
       "      <th>CutOffGradeUnit</th>\n",
       "      <th>HeavyMineralPct</th>\n",
       "      <th>TargetCommodityGroup</th>\n",
       "      <th>Site_MineralizationStyle</th>\n",
       "      <th>Site_SecondaryMineralizationStyle</th>\n",
       "      <th>Resource_MineralizationStyle</th>\n",
       "      <th>Resource_SecondaryMineralizationStyle</th>\n",
       "    </tr>\n",
       "  </thead>\n",
       "  <tbody>\n",
       "    <tr>\n",
       "      <th>31692</th>\n",
       "      <td>S0019720</td>\n",
       "      <td>Savannah Gp</td>\n",
       "      <td>13667</td>\n",
       "      <td>30/06/2008</td>\n",
       "      <td>03/06/2009</td>\n",
       "      <td>JORC (Australia, version unknown)</td>\n",
       "      <td>Resource</td>\n",
       "      <td>Inferred</td>\n",
       "      <td>Yes</td>\n",
       "      <td>Resources</td>\n",
       "      <td>...</td>\n",
       "      <td>480.9</td>\n",
       "      <td>tonnes</td>\n",
       "      <td>NaN</td>\n",
       "      <td>percent</td>\n",
       "      <td>NaN</td>\n",
       "      <td>NICKEL</td>\n",
       "      <td>Orthomagmatic mafic and ultramafic - layered m...</td>\n",
       "      <td>Ni in layered intrusion</td>\n",
       "      <td>Orthomagmatic mafic and ultramafic - layered m...</td>\n",
       "      <td>Ni in layered intrusion</td>\n",
       "    </tr>\n",
       "    <tr>\n",
       "      <th>32813</th>\n",
       "      <td>S0020238</td>\n",
       "      <td>Copernicus</td>\n",
       "      <td>12213</td>\n",
       "      <td>29/06/2007</td>\n",
       "      <td>29/06/2007</td>\n",
       "      <td>Unknown</td>\n",
       "      <td>Reserve</td>\n",
       "      <td>Probable</td>\n",
       "      <td>No</td>\n",
       "      <td>Not in Total</td>\n",
       "      <td>...</td>\n",
       "      <td>138.8</td>\n",
       "      <td>tonnes</td>\n",
       "      <td>NaN</td>\n",
       "      <td>percent</td>\n",
       "      <td>NaN</td>\n",
       "      <td>NICKEL</td>\n",
       "      <td>Orthomagmatic mafic and ultramafic - layered m...</td>\n",
       "      <td>Ni in layered intrusion</td>\n",
       "      <td>Unknown/Unassigned</td>\n",
       "      <td>Nickel in peridotite</td>\n",
       "    </tr>\n",
       "    <tr>\n",
       "      <th>36270</th>\n",
       "      <td>S0021541</td>\n",
       "      <td>Mt Sholl Group</td>\n",
       "      <td>12955</td>\n",
       "      <td>26/10/2006</td>\n",
       "      <td>30/06/2007</td>\n",
       "      <td>JORC (Australia, version unknown)</td>\n",
       "      <td>Resource</td>\n",
       "      <td>Inferred</td>\n",
       "      <td>Yes</td>\n",
       "      <td>Resources</td>\n",
       "      <td>...</td>\n",
       "      <td>2818.8</td>\n",
       "      <td>tonnes</td>\n",
       "      <td>NaN</td>\n",
       "      <td>percent</td>\n",
       "      <td>NaN</td>\n",
       "      <td>NICKEL</td>\n",
       "      <td>Orthomagmatic mafic and ultramafic - layered m...</td>\n",
       "      <td>Ni in layered intrusion</td>\n",
       "      <td>Orthomagmatic mafic and ultramafic - layered m...</td>\n",
       "      <td>Ni in layered intrusion</td>\n",
       "    </tr>\n",
       "    <tr>\n",
       "      <th>30443</th>\n",
       "      <td>S0019102</td>\n",
       "      <td>Babel</td>\n",
       "      <td>43577</td>\n",
       "      <td>09/12/2020</td>\n",
       "      <td>NaN</td>\n",
       "      <td>2012 JORC (Australia)</td>\n",
       "      <td>Reserve</td>\n",
       "      <td>Probable</td>\n",
       "      <td>Yes</td>\n",
       "      <td>Reserves overlap with Resources</td>\n",
       "      <td>...</td>\n",
       "      <td>26400.0</td>\n",
       "      <td>tonnes</td>\n",
       "      <td>NaN</td>\n",
       "      <td>percent</td>\n",
       "      <td>NaN</td>\n",
       "      <td>NICKEL</td>\n",
       "      <td>Orthomagmatic mafic and ultramafic - layered m...</td>\n",
       "      <td>Ni in layered intrusion</td>\n",
       "      <td>NaN</td>\n",
       "      <td>NaN</td>\n",
       "    </tr>\n",
       "    <tr>\n",
       "      <th>51997</th>\n",
       "      <td>S0229634</td>\n",
       "      <td>Nova</td>\n",
       "      <td>44510</td>\n",
       "      <td>31/12/2020</td>\n",
       "      <td>NaN</td>\n",
       "      <td>2012 JORC (Australia)</td>\n",
       "      <td>Resource</td>\n",
       "      <td>Indicated</td>\n",
       "      <td>Yes</td>\n",
       "      <td>Resources inclusive of Reserves</td>\n",
       "      <td>...</td>\n",
       "      <td>390.0</td>\n",
       "      <td>tonnes</td>\n",
       "      <td>NaN</td>\n",
       "      <td>percent</td>\n",
       "      <td>NaN</td>\n",
       "      <td>NICKEL</td>\n",
       "      <td>Orthomagmatic mafic and ultramafic - layered m...</td>\n",
       "      <td>Ni in layered intrusion</td>\n",
       "      <td>NaN</td>\n",
       "      <td>NaN</td>\n",
       "    </tr>\n",
       "  </tbody>\n",
       "</table>\n",
       "<p>5 rows × 24 columns</p>\n",
       "</div>"
      ],
      "text/plain": [
       "       SiteCode      ShortTitle  ResourceCode   StartDate     EndDate  \\\n",
       "31692  S0019720     Savannah Gp         13667  30/06/2008  03/06/2009   \n",
       "32813  S0020238      Copernicus         12213  29/06/2007  29/06/2007   \n",
       "36270  S0021541  Mt Sholl Group         12955  26/10/2006  30/06/2007   \n",
       "30443  S0019102           Babel         43577  09/12/2020         NaN   \n",
       "51997  S0229634            Nova         44510  31/12/2020         NaN   \n",
       "\n",
       "                       ReportingStandard JORCCategory JORCStatus  \\\n",
       "31692  JORC (Australia, version unknown)     Resource   Inferred   \n",
       "32813                            Unknown      Reserve   Probable   \n",
       "36270  JORC (Australia, version unknown)     Resource   Inferred   \n",
       "30443              2012 JORC (Australia)      Reserve   Probable   \n",
       "51997              2012 JORC (Australia)     Resource  Indicated   \n",
       "\n",
       "      IN_TOTAL_FLAG                    In Total Type  ...  ContainedMetal  \\\n",
       "31692           Yes                        Resources  ...           480.9   \n",
       "32813            No                     Not in Total  ...           138.8   \n",
       "36270           Yes                        Resources  ...          2818.8   \n",
       "30443           Yes  Reserves overlap with Resources  ...         26400.0   \n",
       "51997           Yes  Resources inclusive of Reserves  ...           390.0   \n",
       "\n",
       "       ContainedMetalUnit CutOffGrade CutOffGradeUnit  HeavyMineralPct  \\\n",
       "31692              tonnes         NaN         percent              NaN   \n",
       "32813              tonnes         NaN         percent              NaN   \n",
       "36270              tonnes         NaN         percent              NaN   \n",
       "30443              tonnes         NaN         percent              NaN   \n",
       "51997              tonnes         NaN         percent              NaN   \n",
       "\n",
       "      TargetCommodityGroup                           Site_MineralizationStyle  \\\n",
       "31692               NICKEL  Orthomagmatic mafic and ultramafic - layered m...   \n",
       "32813               NICKEL  Orthomagmatic mafic and ultramafic - layered m...   \n",
       "36270               NICKEL  Orthomagmatic mafic and ultramafic - layered m...   \n",
       "30443               NICKEL  Orthomagmatic mafic and ultramafic - layered m...   \n",
       "51997               NICKEL  Orthomagmatic mafic and ultramafic - layered m...   \n",
       "\n",
       "      Site_SecondaryMineralizationStyle  \\\n",
       "31692           Ni in layered intrusion   \n",
       "32813           Ni in layered intrusion   \n",
       "36270           Ni in layered intrusion   \n",
       "30443           Ni in layered intrusion   \n",
       "51997           Ni in layered intrusion   \n",
       "\n",
       "                            Resource_MineralizationStyle  \\\n",
       "31692  Orthomagmatic mafic and ultramafic - layered m...   \n",
       "32813                                 Unknown/Unassigned   \n",
       "36270  Orthomagmatic mafic and ultramafic - layered m...   \n",
       "30443                                                NaN   \n",
       "51997                                                NaN   \n",
       "\n",
       "      Resource_SecondaryMineralizationStyle  \n",
       "31692               Ni in layered intrusion  \n",
       "32813                  Nickel in peridotite  \n",
       "36270               Ni in layered intrusion  \n",
       "30443                                   NaN  \n",
       "51997                                   NaN  \n",
       "\n",
       "[5 rows x 24 columns]"
      ]
     },
     "metadata": {},
     "execution_count": 25
    }
   ],
   "metadata": {}
  },
  {
   "cell_type": "markdown",
   "source": [
    "### Get Input on Each Site"
   ],
   "metadata": {}
  },
  {
   "cell_type": "code",
   "execution_count": 26,
   "source": [
    "df_cobalt['SiteCode'].unique    ## all from different sites"
   ],
   "outputs": [
    {
     "output_type": "execute_result",
     "data": {
      "text/plain": [
       "<bound method Series.unique of 5856     S0001273\n",
       "6394     S0001316\n",
       "6396     S0001316\n",
       "6398     S0001316\n",
       "6410     S0001316\n",
       "           ...   \n",
       "54233    S0231765\n",
       "55178    S0233282\n",
       "55182    S0233282\n",
       "56218    S0235782\n",
       "57469    S0238655\n",
       "Name: SiteCode, Length: 322, dtype: object>"
      ]
     },
     "metadata": {},
     "execution_count": 26
    }
   ],
   "metadata": {}
  },
  {
   "cell_type": "code",
   "execution_count": null,
   "source": [],
   "outputs": [],
   "metadata": {}
  }
 ],
 "metadata": {
  "orig_nbformat": 4,
  "language_info": {
   "name": "python",
   "version": "3.8.8",
   "mimetype": "text/x-python",
   "codemirror_mode": {
    "name": "ipython",
    "version": 3
   },
   "pygments_lexer": "ipython3",
   "nbconvert_exporter": "python",
   "file_extension": ".py"
  },
  "kernelspec": {
   "name": "python3",
   "display_name": "Python 3.8.8 64-bit ('base': conda)"
  },
  "interpreter": {
   "hash": "4b6ce3d9d4632f7faa340b61d26070a6f1f1f22535258ce7e9839d3e212935ed"
  }
 },
 "nbformat": 4,
 "nbformat_minor": 2
}